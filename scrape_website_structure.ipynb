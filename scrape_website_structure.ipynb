{
 "cells": [
  {
   "cell_type": "code",
   "execution_count": 205,
   "metadata": {},
   "outputs": [],
   "source": [
    "from bs4 import BeautifulSoup\n",
    "import requests\n",
    "import pandas as pd\n",
    "import numpy as np"
   ]
  },
  {
   "cell_type": "code",
   "execution_count": 206,
   "metadata": {},
   "outputs": [],
   "source": [
    "link = \"https://www.ansd.sn/\"\n"
   ]
  },
  {
   "cell_type": "code",
   "execution_count": 207,
   "metadata": {},
   "outputs": [],
   "source": [
    "def fetcher(URL):\n",
    "    assert len(URL) > 0, f\"URL expected a non-empty string, got {URL}\"\n",
    "    with requests.Session() as session:\n",
    "        result = session.get(URL, verify=False)\n",
    "        result = result.text\n",
    "        return result"
   ]
  },
  {
   "cell_type": "code",
   "execution_count": 208,
   "metadata": {},
   "outputs": [],
   "source": [
    "def MakeSoupe(URL):\n",
    "    assert len(URL) > 0, f\"URL expected a non-empty string, got {URL}\"\n",
    "    result = fetcher(URL)\n",
    "    return BeautifulSoup(\n",
    "        result.encode('utf-8'),\n",
    "        'html.parser')"
   ]
  },
  {
   "cell_type": "code",
   "execution_count": 209,
   "metadata": {},
   "outputs": [
    {
     "name": "stderr",
     "output_type": "stream",
     "text": [
      "c:\\Users\\ANSD\\anaconda3\\lib\\site-packages\\urllib3\\connectionpool.py:1045: InsecureRequestWarning: Unverified HTTPS request is being made to host 'www.ansd.sn'. Adding certificate verification is strongly advised. See: https://urllib3.readthedocs.io/en/1.26.x/advanced-usage.html#ssl-warnings\n",
      "  warnings.warn(\n"
     ]
    },
    {
     "data": {
      "text/plain": [
       "<!DOCTYPE html>\n",
       "\n",
       "<html dir=\"ltr\" lang=\"fr\" prefix=\"content: http://purl.org/rss/1.0/modules/content/  dc: http://purl.org/dc/terms/  foaf: http://xmlns.com/foaf/0.1/  og: http://ogp.me/ns#  rdfs: http://www.w3.org/2000/01/rdf-schema#  schema: http://schema.org/  sioc: http://rdfs.org/sioc/ns#  sioct: http://rdfs.org/sioc/types#  skos: http://www.w3.org/2004/02/skos/core#  xsd: http://www.w3.org/2001/XMLSchema# \">\n",
       "<head>\n",
       "<meta charset=\"utf-8\"/>\n",
       "<noscript><style>form.antibot * :not(.antibot-message) { display: none !important; }</style>\n",
       "</noscript><script async=\"\" src=\"https://www.googletagmanager.com/gtag/js?id=UA-51566594-1\"></script>\n",
       "<script>window.dataLayer = window.dataLayer || [];function gtag(){dataLayer.push(arguments)};gtag(\"js\", new Date());gtag(\"config\", \"UA-51566594-1\", {\"groups\":\"default\",\"anonymize_ip\":true,\"allow_ad_personalization_signals\":false});</script>\n",
       "<link href=\"https://www.ansd.sn/\" rel=\"canonical\"/>\n",
       "<link href=\"https://www.ansd.sn/\" rel=\"shortlink\"/>\n",
       "<meta content=\"Varbase\" name=\"generator\"/>\n",
       "<meta content=\"origin\" name=\"referrer\"/>\n",
       "<meta content=\"©2024 Agence Nationale de la Statistique et de la Démographie (ANSD) du Sénégal. All rights reserved.\" name=\"rights\"/>\n",
       "<meta content=\"yes\" name=\"apple-mobile-web-app-capable\"/>\n",
       "<meta content=\"Agence Nationale de la Statistique et de la Démographie (ANSD) du Sénégal | «Un centre d'excellence dans un Système statistique national fort»\" itemprop=\"name\"/>\n",
       "<meta content=\"https://www.ansd.sn/themes/custom/ansd_front/share-image.png\" itemprop=\"image\"/>\n",
       "<meta content=\"width\" name=\"MobileOptimized\"/>\n",
       "<meta content=\"true\" name=\"HandheldFriendly\"/>\n",
       "<meta content=\"Agence Nationale de la Statistique et de la Démographie (ANSD) du Sénégal\" property=\"og:site_name\"/>\n",
       "<meta content=\"website\" property=\"og:type\"/>\n",
       "<meta content=\"https://www.ansd.sn/\" property=\"og:url\"/>\n",
       "<meta content=\"Agence Nationale de la Statistique et de la Démographie (ANSD) du Sénégal | «Un centre d'excellence dans un Système statistique national fort»\" property=\"og:title\"/>\n",
       "<meta content=\"https://www.ansd.sn/themes/custom/ansd_front/share-image.png\" property=\"og:image\"/>\n",
       "<meta content=\"https://www.ansd.sn/themes/custom/ansd_front/share-image.png\" property=\"og:image:url\"/>\n",
       "<meta content=\"summary\" name=\"twitter:card\"/>\n",
       "<meta content=\"Agence Nationale de la Statistique et de la Démographie (ANSD) du Sénégal | «Un centre d'excellence dans un Système statistique national fort»\" name=\"twitter:title\"/>\n",
       "<meta content=\"https://www.ansd.sn/\" name=\"twitter:url\"/>\n",
       "<meta content=\"https://www.ansd.sn/themes/custom/ansd_front/share-image.png\" name=\"twitter:image\"/>\n",
       "<meta content=\"Drupal 9 (https://www.drupal.org)\" name=\"Generator\"/>\n",
       "<meta content=\"width\" name=\"MobileOptimized\"/>\n",
       "<meta content=\"true\" name=\"HandheldFriendly\"/>\n",
       "<meta content=\"width=device-width, initial-scale=1, shrink-to-fit=no\" name=\"viewport\"/>\n",
       "<script type=\"application/ld+json\">{\n",
       "    \"@context\": \"https://schema.org\",\n",
       "    \"@graph\": [\n",
       "        {\n",
       "            \"@type\": \"WebSite\",\n",
       "            \"name\": \"Agence Nationale de la Statistique et de la Démographie (ANSD) du Sénégal\",\n",
       "            \"url\": \"https://www.ansd.sn/\",\n",
       "            \"publisher\": {\n",
       "                \"@type\": \"Organization\",\n",
       "                \"name\": \"Agence Nationale de la Statistique et de la Démographie (ANSD) du Sénégal\",\n",
       "                \"url\": \"https://www.ansd.sn/\",\n",
       "                \"logo\": {\n",
       "                    \"@type\": \"ImageObject\",\n",
       "                    \"url\": \"https://www.ansd.sn/themes/custom/ansd_front/logo.png\"\n",
       "                }\n",
       "            }\n",
       "        }\n",
       "    ]\n",
       "}</script>\n",
       "<meta content=\"ie=edge\" http-equiv=\"x-ua-compatible\"/>\n",
       "<link href=\"https://www.ansd.sn/\" hreflang=\"fr\" rel=\"alternate\"/>\n",
       "<title>Agence Nationale de la Statistique et de la Démographie (ANSD) du Sénégal | «Un centre d'excellence dans un Système statistique national fort»</title>\n",
       "<link href=\"/sites/default/files/css/css_nc5l9dbil7SQZFNF3YUr6ZspYbsML5CGGBsYL8NEB94.css\" media=\"all\" rel=\"stylesheet\"/>\n",
       "<link href=\"/sites/default/files/css/css_bgEh88Pvg2nKRx1vjmv1IPlx6aMdyym7rCh0b5YZhD4.css\" media=\"all\" rel=\"stylesheet\"/>\n",
       "<link href=\"/sites/default/files/css/css_b48xE8F0fptN9Jp0utcPc3TBWIV7SgksYeqq7nhz7qQ.css\" media=\"print\" rel=\"stylesheet\"/>\n",
       "<link href=\"/sites/default/files/css/css_CFUQwY-iDbCyFmwH2K0R3alm2Dz93Hu2jNR4YqA8WGk.css\" media=\"all\" rel=\"stylesheet\"/>\n",
       "<link href=\"//fonts.googleapis.com/css?family=Lato:300,400,300italic,400italic\" media=\"all\" rel=\"stylesheet\"/>\n",
       "<link href=\"//fonts.googleapis.com/css?family=Montserrat:400,700\" media=\"all\" rel=\"stylesheet\"/>\n",
       "<link href=\"/sites/default/files/css/css_vd4_1oYTQAoFS_XPXclZoqtA7CEWCWeTuedgSGsNjxY.css\" media=\"all\" rel=\"stylesheet\"/>\n",
       "<link href=\"//cdn.datatables.net/1.13.7/css/jquery.dataTables.min.css\" media=\"all\" rel=\"stylesheet\"/>\n",
       "<link href=\"https://cdn.datatables.net/1.13.7/css/dataTables.bootstrap4.min.css\" media=\"all\" rel=\"stylesheet\"/>\n",
       "<link href=\"/sites/default/files/css/css_sYnvu9VFys0EXk0ZUPdAF12wMvjUsreTC1n7lDc_uTM.css\" media=\"all\" rel=\"stylesheet\"/>\n",
       "<script crossorigin=\"anonymous\" defer=\"\" src=\"https://use.fontawesome.com/releases/v5.13.1/js/all.js\"></script>\n",
       "<script crossorigin=\"anonymous\" defer=\"\" src=\"https://use.fontawesome.com/releases/v5.13.1/js/v4-shims.js\"></script>\n",
       "<link as=\"font\" crossorigin=\"anonymous\" href=\"/themes/custom/ansd_front/fonts/fontawesome-free/webfonts/fa-regular-400.eot\" rel=\"preload\" type=\"font/eot\"/>\n",
       "<link as=\"font\" crossorigin=\"anonymous\" href=\"/themes/custom/ansd_front/fonts/fontawesome-free/webfonts/fa-regular-400.svg\" rel=\"preload\" type=\"font/svg\"/>\n",
       "<link as=\"font\" crossorigin=\"anonymous\" href=\"/themes/custom/ansd_front/fonts/fontawesome-free/webfonts/fa-regular-400.ttf\" rel=\"preload\" type=\"font/ttf\"/>\n",
       "<link as=\"font\" crossorigin=\"anonymous\" href=\"/themes/custom/ansd_front/fonts/fontawesome-free/webfonts/fa-regular-400.woff\" rel=\"preload\" type=\"font/woff\"/>\n",
       "<link as=\"font\" crossorigin=\"anonymous\" href=\"/themes/custom/ansd_front/fonts/fontawesome-free/webfonts/fa-regular-400.woff2\" rel=\"preload\" type=\"font/woff2\"/>\n",
       "<link as=\"font\" crossorigin=\"anonymous\" href=\"/themes/custom/ansd_front/fonts/fontawesome-free/webfonts/fa-solid-900.eot\" rel=\"preload\" type=\"font/eot\"/>\n",
       "<link as=\"font\" crossorigin=\"anonymous\" href=\"/themes/custom/ansd_front/fonts/fontawesome-free/webfonts/fa-solid-900.svg\" rel=\"preload\" type=\"font/svg\"/>\n",
       "<link as=\"font\" crossorigin=\"anonymous\" href=\"/themes/custom/ansd_front/fonts/fontawesome-free/webfonts/fa-solid-900.ttf\" rel=\"preload\" type=\"font/ttf\"/>\n",
       "<link as=\"font\" crossorigin=\"anonymous\" href=\"/themes/custom/ansd_front/fonts/fontawesome-free/webfonts/fa-solid-900.woff\" rel=\"preload\" type=\"font/woff\"/>\n",
       "<link as=\"font\" crossorigin=\"anonymous\" href=\"/themes/custom/ansd_front/fonts/fontawesome-free/webfonts/fa-solid-900.woff2\" rel=\"preload\" type=\"font/woff2\"/>\n",
       "<link as=\"font\" crossorigin=\"anonymous\" href=\"/themes/custom/ansd_front/fonts/fontawesome-free/webfonts/fa-brands-400.eot\" rel=\"preload\" type=\"font/eot\"/>\n",
       "<link as=\"font\" crossorigin=\"anonymous\" href=\"/themes/custom/ansd_front/fonts/fontawesome-free/webfonts/fa-brands-400.svg\" rel=\"preload\" type=\"font/svg\"/>\n",
       "<link as=\"font\" crossorigin=\"anonymous\" href=\"/themes/custom/ansd_front/fonts/fontawesome-free/webfonts/fa-brands-400.ttf\" rel=\"preload\" type=\"font/ttf\"/>\n",
       "<link as=\"font\" crossorigin=\"anonymous\" href=\"/themes/custom/ansd_front/fonts/fontawesome-free/webfonts/fa-brands-400.woff\" rel=\"preload\" type=\"font/woff\"/>\n",
       "<link as=\"font\" crossorigin=\"anonymous\" href=\"/themes/custom/ansd_front/fonts/fontawesome-free/webfonts/fa-brands-400.woff2\" rel=\"preload\" type=\"font/woff2\"/>\n",
       "<script async=\"\" src=\"https://www.googletagmanager.com/gtag/js?id=UA-51566594-1\"></script>\n",
       "<script>\n",
       "  window.dataLayer = window.dataLayer || [];\n",
       "  function gtag(){dataLayer.push(arguments);}\n",
       "  gtag('js', new Date());\n",
       "\n",
       "  gtag('config', 'UA-51566594-1');\n",
       "</script>\n",
       "</head>\n",
       "<body class=\"layout-no-sidebars page-node-1 path-frontpage page-node-type-landing-page-lb\">\n",
       "<a class=\"visually-hidden focusable skip-link\" href=\"#main-content\">\n",
       "      Aller au contenu principal\n",
       "    </a>\n",
       "<div class=\"responsive-menu-page-wrapper\">\n",
       "<div class=\"navbar-brand navbar-top\">\n",
       "<div class=\"container-fluid\">\n",
       "<div class=\"row\">\n",
       "<div class=\"col-sm-1\"> <section class=\"row region region-navigation\">\n",
       "<a class=\"navbar-brand\" href=\"/\" rel=\"home\" title=\"Accueil\">\n",
       "<img alt=\"Accueil\" class=\"img-fluid d-inline-block align-top\" src=\"/sites/default/files/logo.png\"/>\n",
       "</a>\n",
       "<div class=\"d-inline-block align-top site-name-slogan\">\n",
       "      «Un centre d'excellence dans un Système statistique national fort»\n",
       "    </div>\n",
       "</section>\n",
       "</div>\n",
       "<div class=\"col-sm-5\"> <section class=\"row region region-social-link\">\n",
       "<nav aria-labelledby=\"block-reseauxsociaux-2-menu\" class=\"settings-tray-editable block block-menu navigation menu--reseaux-sociaux\" data-drupal-settingstray=\"editable\" id=\"block-reseauxsociaux-2\" role=\"navigation\">\n",
       "<h2 class=\"sr-only\" id=\"block-reseauxsociaux-2-menu\">Reseaux sociaux</h2>\n",
       "<ul class=\"clearfix nav\">\n",
       "<li aria-label=\"F\" class=\"nav-item\">\n",
       "<a class=\"facebook nav-link\" href=\"https://web.facebook.com/ANSD.Senegal?_rdc=1&amp;_rdr=\"><i aria-hidden=\"true\" class=\"fab fa-facebook-f\"></i></a>\n",
       "</li>\n",
       "<li aria-label=\"T\" class=\"nav-item\">\n",
       "<a class=\"twitter nav-link\" href=\"https://twitter.com/statsenegal\"><i aria-hidden=\"true\" class=\"fab fa-twitter\"></i></a>\n",
       "</li>\n",
       "<li aria-label=\"Y\" class=\"nav-item\">\n",
       "<a class=\"youtube nav-link\" href=\"https://www.youtube.com/user/ANSDSenegal\"><i aria-hidden=\"true\" class=\"fab fa-youtube\"></i></a>\n",
       "</li>\n",
       "</ul>\n",
       "</nav>\n",
       "<div class=\"settings-tray-editable block block-gtranslate block-gtranslate-block\" data-drupal-settingstray=\"editable\" id=\"block-gtranslate\">\n",
       "<div class=\"content\">\n",
       "<div class=\"gtranslate\">\n",
       "<script>eval(unescape(\"eval%28function%28p%2Ca%2Cc%2Ck%2Ce%2Cr%29%7Be%3Dfunction%28c%29%7Breturn%28c%3Ca%3F%27%27%3Ae%28parseInt%28c/a%29%29%29+%28%28c%3Dc%25a%29%3E35%3FString.fromCharCode%28c+29%29%3Ac.toString%2836%29%29%7D%3Bif%28%21%27%27.replace%28/%5E/%2CString%29%29%7Bwhile%28c--%29r%5Be%28c%29%5D%3Dk%5Bc%5D%7C%7Ce%28c%29%3Bk%3D%5Bfunction%28e%29%7Breturn%20r%5Be%5D%7D%5D%3Be%3Dfunction%28%29%7Breturn%27%5C%5Cw+%27%7D%3Bc%3D1%7D%3Bwhile%28c--%29if%28k%5Bc%5D%29p%3Dp.replace%28new%20RegExp%28%27%5C%5Cb%27+e%28c%29+%27%5C%5Cb%27%2C%27g%27%29%2Ck%5Bc%5D%29%3Breturn%20p%7D%28%276%207%28a%2Cb%29%7Bn%7B4%282.9%29%7B3%20c%3D2.9%28%22o%22%29%3Bc.p%28b%2Cf%2Cf%29%3Ba.q%28c%29%7Dg%7B3%20c%3D2.r%28%29%3Ba.s%28%5C%27t%5C%27+b%2Cc%29%7D%7Du%28e%29%7B%7D%7D6%20h%28a%29%7B4%28a.8%29a%3Da.8%3B4%28a%3D%3D%5C%27%5C%27%29v%3B3%20b%3Da.w%28%5C%27%7C%5C%27%29%5B1%5D%3B3%20c%3B3%20d%3D2.x%28%5C%27y%5C%27%29%3Bz%283%20i%3D0%3Bi%3Cd.5%3Bi++%294%28d%5Bi%5D.A%3D%3D%5C%27B-C-D%5C%27%29c%3Dd%5Bi%5D%3B4%282.j%28%5C%27k%5C%27%29%3D%3DE%7C%7C2.j%28%5C%27k%5C%27%29.l.5%3D%3D0%7C%7Cc.5%3D%3D0%7C%7Cc.l.5%3D%3D0%29%7BF%286%28%29%7Bh%28a%29%7D%2CG%29%7Dg%7Bc.8%3Db%3B7%28c%2C%5C%27m%5C%27%29%3B7%28c%2C%5C%27m%5C%27%29%7D%7D%27%2C43%2C43%2C%27%7C%7Cdocument%7Cvar%7Cif%7Clength%7Cfunction%7CGTranslateFireEvent%7Cvalue%7CcreateEvent%7C%7C%7C%7C%7C%7Ctrue%7Celse%7CdoGTranslate%7C%7CgetElementById%7Cgoogle_translate_element2%7CinnerHTML%7Cchange%7Ctry%7CHTMLEvents%7CinitEvent%7CdispatchEvent%7CcreateEventObject%7CfireEvent%7Con%7Ccatch%7Creturn%7Csplit%7CgetElementsByTagName%7Cselect%7Cfor%7CclassName%7Cgoog%7Cte%7Ccombo%7Cnull%7CsetTimeout%7C500%27.split%28%27%7C%27%29%2C0%2C%7B%7D%29%29\"))</script><style>\n",
       "#goog-gt-tt {display:none !important;}\n",
       "\n",
       ".goog-te-banner-frame {display:none !important;}\n",
       "\n",
       ".goog-te-menu-value:hover {text-decoration:none !important;}\n",
       "\n",
       "body {top:0 !important;}\n",
       "\n",
       "#google_translate_element2 {display:none!important;}\n",
       "</style><div id=\"google_translate_element2\"></div>\n",
       "<script>function googleTranslateElementInit2() {new google.translate.TranslateElement({pageLanguage: 'fr', autoDisplay: false}, 'google_translate_element2');}</script>\n",
       "<script src=\"https://translate.google.com/translate_a/element.js?cb=googleTranslateElementInit2\"></script><select aria-label=\"Website Language Selector\" class=\"notranslate\" id=\"gtranslate_selector\" onchange=\"doGTranslate(this);\"><option value=\"\">Select Language</option><option style=\"font-weight:bold;background:url('/modules/contrib/gtranslate/gtranslate-files/16l.png') no-repeat scroll 0 -160px;padding-left:18px;\" value=\"fr|fr\">French</option><option style=\"background:url('/modules/contrib/gtranslate/gtranslate-files/16l.png') no-repeat scroll 0 -0px;padding-left:18px;\" value=\"fr|en\">English</option></select>\n",
       "</div>\n",
       "</div>\n",
       "</div>\n",
       "</section>\n",
       "</div>\n",
       "<div class=\"col-sm-6\"> <section class=\"row region region-top-menu\">\n",
       "<nav aria-labelledby=\"block-topmenu-menu\" class=\"settings-tray-editable block block-menu navigation menu--top-menu\" data-drupal-settingstray=\"editable\" id=\"block-topmenu\" role=\"navigation\">\n",
       "<h2 class=\"sr-only\" id=\"block-topmenu-menu\">Top menu</h2>\n",
       "<ul class=\"clearfix nav\">\n",
       "<li class=\"nav-item\">\n",
       "<a class=\"nav-link\" data-drupal-link-system-path=\"node/145\" href=\"/espace-presse\">Espace presse</a>\n",
       "</li>\n",
       "<li class=\"nav-item\">\n",
       "<a class=\"nav-link\" data-drupal-link-system-path=\"regions\" href=\"/regions\">Régions</a>\n",
       "</li>\n",
       "<li class=\"nav-item\">\n",
       "<a class=\"nav-link\" data-drupal-link-system-path=\"autre-site\" href=\"/autre-site\">Autres sites</a>\n",
       "</li>\n",
       "<li class=\"nav-item\">\n",
       "<a class=\"nav-link\" data-drupal-link-system-path=\"node/174\" href=\"/contact\">Aide &amp; contact</a>\n",
       "</li>\n",
       "<li class=\"nav-item\">\n",
       "<a class=\"nav-link\" href=\"https://appsi.ansd.sn\" target=\"_blank\">Intranet</a>\n",
       "</li>\n",
       "</ul>\n",
       "</nav>\n",
       "</section>\n",
       "</div>\n",
       "</div>\n",
       "</div>\n",
       "</div>\n",
       "<header class=\"navbar navbar-light bg-white navbar-expand-md\" id=\"navbar\" role=\"banner\">\n",
       "<div class=\"container d-block\">\n",
       "<div class=\"row\">\n",
       "<button aria-controls=\"navbar-collapse\" aria-expanded=\"false\" aria-label=\"Toggle navigation\" class=\"navbar-toggler\" data-target=\"#navbar-collapse\" data-toggle=\"collapse\" type=\"button\">\n",
       "<span class=\"navbar-toggler-icon\"></span>\n",
       "</button>\n",
       "<div class=\"navbar-collapse collapse mr-auto\" id=\"navbar-collapse\">\n",
       "<div class=\"navbar-nav mr-auto\">\n",
       "<section class=\"row region region-navigation-collapsible\">\n",
       "<nav aria-labelledby=\"block-accesrapide-menu\" class=\"settings-tray-editable block block-menu navigation menu--acces-rapide\" data-drupal-settingstray=\"editable\" id=\"block-accesrapide\" role=\"navigation\">\n",
       "<h2 class=\"sr-only\" id=\"block-accesrapide-menu\">Accès rapide</h2>\n",
       "<ul class=\"clearfix nav\">\n",
       "<li class=\"nav-item\">\n",
       "<a class=\"nav-link\" data-drupal-link-system-path=\"node/110\" href=\"/toutes-les-publications\">Accès rapides</a>\n",
       "</li>\n",
       "</ul>\n",
       "</nav>\n",
       "<nav aria-labelledby=\"block-ansd-front-main-menu-menu\" class=\"settings-tray-editable block block-menu navigation menu--main\" data-drupal-settingstray=\"editable\" id=\"block-ansd-front-main-menu\" role=\"navigation\">\n",
       "<h2 class=\"sr-only\" id=\"block-ansd-front-main-menu-menu\">Navigation principale</h2>\n",
       "<ul block=\"block-ansd-front-main-menu\" class=\"clearfix nav navbar-nav\" id=\"block-ansd-front-main-menu\">\n",
       "<li aria-label=\"Accueil\" class=\"nav-item\">\n",
       "<a class=\"nav-link is-active\" data-drupal-link-system-path=\"&lt;front&gt;\" href=\"/\"><i aria-hidden=\"true\" class=\"fas fa-home\"></i></a>\n",
       "</li>\n",
       "<li class=\"nav-item menu-item--expanded dropdown\">\n",
       "<span aria-expanded=\"false\" aria-haspopup=\"true\" class=\"nav-link dropdown-toggle\" data-toggle=\"dropdown\">A propos</span>\n",
       "<ul class=\"dropdown-menu\">\n",
       "<li class=\"dropdown-item\">\n",
       "<a href=\"/le-mots-du-directeur\">Mot du DG</a>\n",
       "</li>\n",
       "<li class=\"dropdown-item\">\n",
       "<a href=\"/presentation-generale\">Présentation</a>\n",
       "</li>\n",
       "<li class=\"dropdown-item\">\n",
       "<a href=\"/bulletin-le-phare\">Bulletin \"Le Phare\"</a>\n",
       "</li>\n",
       "<li class=\"dropdown-item\">\n",
       "<a href=\"https://www.statsenegal.sn\" target=\"_blank\">Coordination statistique</a>\n",
       "</li>\n",
       "</ul>\n",
       "</li>\n",
       "<li class=\"nav-item menu-item--expanded dropdown\">\n",
       "<span aria-expanded=\"false\" aria-haspopup=\"true\" class=\"nav-link dropdown-toggle\" data-toggle=\"dropdown\">Rapports &amp; Données</span>\n",
       "<ul class=\"dropdown-menu\">\n",
       "<li class=\"dropdown-item menu-item--expanded dropdown\">\n",
       "<span aria-expanded=\"false\" aria-haspopup=\"true\" class=\"dropdown-toggle\" data-toggle=\"dropdown\">Thèmes</span>\n",
       "<ul class=\"dropdown-menu\">\n",
       "<li class=\"dropdown-item\">\n",
       "<a data-drupal-link-system-path=\"taxonomy/term/1\" href=\"/theme/economie\">Economie</a>\n",
       "</li>\n",
       "<li class=\"dropdown-item\">\n",
       "<a data-drupal-link-system-path=\"taxonomy/term/2\" href=\"/theme/demographie\">Démographie</a>\n",
       "</li>\n",
       "<li class=\"dropdown-item\">\n",
       "<a data-drupal-link-system-path=\"taxonomy/term/3\" href=\"/theme/societe\">Société</a>\n",
       "</li>\n",
       "<li class=\"dropdown-item\">\n",
       "<a data-drupal-link-system-path=\"taxonomy/term/39\" href=\"/theme/autres-statistiques\">Autres statistiques</a>\n",
       "</li>\n",
       "<li class=\"dropdown-item menu-item--expanded dropdown\">\n",
       "<span aria-expanded=\"false\" aria-haspopup=\"true\" class=\"dropdown-toggle\" data-toggle=\"dropdown\">Situation Economiques et Sociales</span>\n",
       "<ul class=\"dropdown-menu\">\n",
       "<li class=\"dropdown-item\">\n",
       "<a href=\"/ses-nationales\">SES nationales</a>\n",
       "</li>\n",
       "<li class=\"dropdown-item\">\n",
       "<a data-drupal-link-system-path=\"node/92\" href=\"/ses-regionales\">SES regionales</a>\n",
       "</li>\n",
       "</ul>\n",
       "</li>\n",
       "</ul>\n",
       "</li>\n",
       "<li class=\"dropdown-item\">\n",
       "<a data-drupal-link-system-path=\"node/126\" href=\"/enquete\">Enquêtes &amp; études</a>\n",
       "</li>\n",
       "<li class=\"dropdown-item\">\n",
       "<a data-drupal-link-system-path=\"calendrier-de-publications\" href=\"/calendrier-de-publications\">Calendrier de publications</a>\n",
       "</li>\n",
       "</ul>\n",
       "</li>\n",
       "<li class=\"nav-item\">\n",
       "<a class=\"nav-link\" data-drupal-link-system-path=\"ressources\" href=\"/ressources\">Méthodes/définitions</a>\n",
       "</li>\n",
       "<li class=\"nav-item\">\n",
       "<a class=\"nav-link\" href=\"http://recrute.ansd.sn/\" target=\"_blank\">Emploi et stages</a>\n",
       "</li>\n",
       "<li class=\"nav-item\">\n",
       "<a class=\"nav-link\" href=\"https://visa.ansd.sn\" target=\"_blank\">Visa Statistique</a>\n",
       "</li>\n",
       "</ul>\n",
       "</nav>\n",
       "</section>\n",
       "</div>\n",
       "</div>\n",
       "<div class=\"navbar-form ml-auto\">\n",
       "<div class=\"header-search\">\n",
       "<section class=\"row region region-header-form\">\n",
       "<div class=\"search-block-form pull-right settings-tray-editable block block-search block-search-form-block\" data-drupal-selector=\"search-block-form\" data-drupal-settingstray=\"editable\" id=\"block-formulairederecherche\" role=\"search\">\n",
       "<div class=\"content container-inline\">\n",
       "<div class=\"content container-inline\">\n",
       "<form accept-charset=\"UTF-8\" action=\"/search/node\" class=\"search-form search-block-form form-row\" id=\"search-block-form\" method=\"get\">\n",
       "<div class=\"icon\"><i class=\"better_search\"></i></div>\n",
       "<fieldset 0=' class=\"clearfix\"' class=\"js-form-item js-form-type-search form-type-search js-form-item-keys form-item-keys form-no-label form-group\">\n",
       "<label class=\"sr-only\" for=\"edit-keys\">Rechercher</label>\n",
       "<input class=\"form-search form-control\" data-drupal-selector=\"edit-keys\" id=\"edit-keys\" maxlength=\"128\" name=\"keys\" placeholder=\"Rechercher\" size=\"20\" title=\"Saisir les termes à rechercher.\" type=\"search\" value=\"\"/>\n",
       "</fieldset>\n",
       "<div class=\"visually-hidden form-actions js-form-wrapper form-group\" data-drupal-selector=\"edit-actions\" id=\"edit-actions--2\"><button class=\"button js-form-submit form-submit btn btn-primary\" data-drupal-selector=\"edit-submit\" id=\"edit-submit\" type=\"submit\" value=\"Rechercher\">Rechercher</button>\n",
       "</div>\n",
       "</form>\n",
       "</div>\n",
       "</div>\n",
       "</div>\n",
       "</section>\n",
       "</div>\n",
       "</div>\n",
       "</div>\n",
       "</div>\n",
       "</header>\n",
       "<div class=\"d-none d-print-block header-print page-header mt-4 mb-3\">\n",
       "<div class=\"container\">\n",
       "<div class=\"row\">\n",
       "<div class=\"col-sm-12\">\n",
       "<img alt=\"Agence Nationale de la Statistique et de la Démographie (ANSD) du Sénégal\" class=\"logo pull-left d-none d-print-inline-block\" src=\"/themes/custom/ansd_front/logo-print.png\"/>\n",
       "</div>\n",
       "</div>\n",
       "</div>\n",
       "</div>\n",
       "<div class=\"main-container container js-quickedit-main-content\" role=\"main\">\n",
       "<div class=\"row\">\n",
       "<div class=\"col-sm-12\" role=\"heading\">\n",
       "<div class=\"hidden\" data-drupal-messages-fallback=\"\"></div>\n",
       "<div class=\"block block-core block-page-title-block\" id=\"block-ansd-front-page-title\">\n",
       "<div class=\"content\">\n",
       "<h1 class=\"page-title sr-only title\"><span class=\"field field--name-title field--type-string field--label-hidden\">Homepage</span>\n",
       "</h1>\n",
       "</div>\n",
       "</div>\n",
       "</div>\n",
       "<section class=\"main-content col col-sm-12\" id=\"content\" role=\"main\">\n",
       "<a id=\"main-content\"></a>\n",
       "<div class=\"block block-system block-system-main-block\" id=\"block-ansd-front-content\">\n",
       "<div class=\"content\">\n",
       "<article about=\"/node\" class=\"node node--type-landing-page-lb node--view-mode-full clearfix\" role=\"article\">\n",
       "<header>\n",
       "</header>\n",
       "<div class=\"node__content clearfix\">\n",
       "<div class=\"_none vlb-section\"><div class=\"bg-edge2edge\">\n",
       "<div class=\"layout row no-gutters gx-0 layout-builder__layout\">\n",
       "<div class=\"col-12\">\n",
       "<div class=\"views-element-container _none block block-views block-views-blockflash-stat-block-flash-etat\">\n",
       "<div class=\"content\">\n",
       "<div><div class=\"view view-flash-stat view-id-flash_stat view-display-id-block_flash_etat js-view-dom-id-26dba5f16ecd038a9111916fba983219ba40245ec9e02cda70142573b5b4a5a2\">\n",
       "<div class=\"view-header\">\n",
       "<a href=\"/flash-stats\">FLASH STAT</a>\n",
       "</div>\n",
       "<div class=\"view-content\">\n",
       "<ul class=\"views_webticker\" id=\"id_views_webticker\">\n",
       "<li>\n",
       "<div class=\"views-field views-field-title\"><span class=\"field-content\"><a href=\"/node/13591\">Publication du Bulletin mensuel des statistiques économiques et financière - BMSEF, octobre 2023 | </a></span></div>\n",
       "</li>\n",
       "<li>\n",
       "<div class=\"views-field views-field-title\"><span class=\"field-content\"><a href=\"/node/13979\">Hausse de 12,1% de la production brute d'électricité - Repères statistiques, octobre 2023 | </a></span></div>\n",
       "</li>\n",
       "<li>\n",
       "<div class=\"views-field views-field-title\"><span class=\"field-content\"><a href=\"/node/13490\">La croissance économique du Sénégal s’est établie à 3,8% en 2022 après 6,5% en 2021. | </a></span></div>\n",
       "</li>\n",
       "<li>\n",
       "<div class=\"views-field views-field-title\"><span class=\"field-content\"><a href=\"/node/13506\">Légère hausse  de 0,4% des prix de la production industrielle - IPPI, flash novembre 2023 | </a></span></div>\n",
       "</li>\n",
       "<li>\n",
       "<div class=\"views-field views-field-title\"><span class=\"field-content\"><a href=\"/node/13516\">Hausse de 23,5% des exportations du Sénégal en 2022 | </a></span></div>\n",
       "</li>\n",
       "<li>\n",
       "<div class=\"views-field views-field-title\"><span class=\"field-content\"><a href=\"/node/13513\">Baisse de 0,3% des prix des matériaux de construction - IMC, novembre 2023 | </a></span></div>\n",
       "</li>\n",
       "<li>\n",
       "<div class=\"views-field views-field-title\"><span class=\"field-content\"><a href=\"/node/13548\">Hausse de 0,7% du PIB trimestriel - T3 2023 | </a></span></div>\n",
       "</li>\n",
       "<li>\n",
       "<div class=\"views-field views-field-title\"><span class=\"field-content\"><a href=\"/node/\">La valeur ajoutée des entreprises bondit de 15,3% en 2022 – BDEF-2022  | </a></span></div>\n",
       "</li>\n",
       "<li>\n",
       "<div class=\"views-field views-field-title\"><span class=\"field-content\"><a href=\"/node/14923\">Hausse de 3,0% des prix des produits importés - IPCE, octobre 2023  | </a></span></div>\n",
       "</li>\n",
       "<li>\n",
       "<div class=\"views-field views-field-title\"><span class=\"field-content\"><a href=\"/node/13663\">Hausse de 9,3% de la production industrielle - IHPI, octobre 2023 | </a></span></div>\n",
       "</li>\n",
       "<li>\n",
       "<div class=\"views-field views-field-title\"><span class=\"field-content\"><a href=\"/node/15815\">Hausse de 68,8% du chiffre d’affaires de la construction - ICAC, T3 2023 | </a></span></div>\n",
       "</li>\n",
       "<li>\n",
       "<div class=\"views-field views-field-title\"><span class=\"field-content\"><a href=\"/node/15815\">Hausse de 68,8% du chiffre d’affaires de la construction | </a></span></div>\n",
       "</li>\n",
       "<li>\n",
       "<div class=\"views-field views-field-title\"><span class=\"field-content\"><a href=\"/node/13503\">Hausse de 69,8%  du chiffre d’affaires des services d’hébergement et de restauration - ICAS, T3 2023 | </a></span></div>\n",
       "</li>\n",
       "<li>\n",
       "<div class=\"views-field views-field-title\"><span class=\"field-content\"><a href=\"/node/13503\">Hausse de 69,8%  du chiffre d’affaires des services d’hébergement et de restauration | </a></span></div>\n",
       "</li>\n",
       "<li>\n",
       "<div class=\"views-field views-field-title\"><span class=\"field-content\"><a href=\"/node/13504\">Baisse de 4,6% du chiffre d’affaires dans l’industrie - ICAI, T3 2023 | </a></span></div>\n",
       "</li>\n",
       "<li>\n",
       "<div class=\"views-field views-field-title\"><span class=\"field-content\"><a href=\"/node/13514\">Hausse de 10,7% des exportations du Sénégal - BMSCE, octobre 2023 | </a></span></div>\n",
       "</li>\n",
       "<li>\n",
       "<div class=\"views-field views-field-title\"><span class=\"field-content\"><a href=\"/node/13514\">Hausse de 10,7% des exportations du Sénégal - BMSCE, octobre 2023 | </a></span></div>\n",
       "</li>\n",
       "<li>\n",
       "<div class=\"views-field views-field-title\"><span class=\"field-content\"><a href=\"/node/13979\">Baisse de 13,9% de la production brute d'électricité - Repères statistiques, septembre 2023 | </a></span></div>\n",
       "</li>\n",
       "<li>\n",
       "<div class=\"views-field views-field-title\"><span class=\"field-content\"><a href=\"/node/13507\">Baisse de 1,2% des prix à la consommation - Flash IHPC, novembre 2023 | </a></span></div>\n",
       "</li>\n",
       "<li>\n",
       "<div class=\"views-field views-field-title\"><span class=\"field-content\"><a href=\"/node/13508\">Hausse de 4,0% des prix à la consommation - Note d'analyse IHPC, T3 2023 | </a></span></div>\n",
       "</li>\n",
       "<li>\n",
       "<div class=\"views-field views-field-title\"><span class=\"field-content\"><a href=\"/node/13499\">Hausse  de 0,4% des prix de production des services d’hébergement et de restauration - IPPS, T3 2023 | </a></span></div>\n",
       "</li>\n",
       "<li>\n",
       "<div class=\"views-field views-field-title\"><span class=\"field-content\"><a href=\"/node/14366\">Le niveau d'emploi est ressorti de 46,0% - ENES, T2_2023 | </a></span></div>\n",
       "</li>\n",
       "<li>\n",
       "<div class=\"views-field views-field-title\"><span class=\"field-content\"><a href=\"/node/14366\">Le niveau d'emploi est de 43,9%, ENES, T1_2023 | </a></span></div>\n",
       "</li>\n",
       "<li>\n",
       "<div class=\"views-field views-field-title\"><span class=\"field-content\"><a href=\"/node/\">Hausse de 1,6% des prix de la production industrielle - IPPI, octobre 2023 | </a></span></div>\n",
       "</li>\n",
       "<li>\n",
       "<div class=\"views-field views-field-title\"><span class=\"field-content\"><a href=\"/node/13506\">Hausse de 1,6% des prix de la production industrielle | </a></span></div>\n",
       "</li>\n",
       "<li>\n",
       "<div class=\"views-field views-field-title\"><span class=\"field-content\"><a href=\"/node/13513\">Baisse de 0,4% des prix des matériaux de construction - IMC, octobre 2023 | </a></span></div>\n",
       "</li>\n",
       "<li>\n",
       "<div class=\"views-field views-field-title\"><span class=\"field-content\"><a href=\"/node/13979\">Baisse de 1,0% de la production brute d'électricité de la SENELEC - Repères, août 2023 | </a></span></div>\n",
       "</li>\n",
       "<li>\n",
       "<div class=\"views-field views-field-title\"><span class=\"field-content\"><a href=\"/node/13512\">Baisse de O,2% du coût de la construction des logements neufs à usage d'habitation - ICC, T3 2023 | </a></span></div>\n",
       "</li>\n",
       "<li>\n",
       "<div class=\"views-field views-field-title\"><span class=\"field-content\"><a href=\"/node/14923\">Hausse de 2,0% des prix des produits importés - IPCE, septembre 2023 | </a></span></div>\n",
       "</li>\n",
       "<li>\n",
       "<div class=\"views-field views-field-title\"><span class=\"field-content\"><a href=\"/node/13514\">Baisse de 13,2% des exportations du Sénégal - BMSCE, septembre 2023 | </a></span></div>\n",
       "</li>\n",
       "<li>\n",
       "<div class=\"views-field views-field-title\"><span class=\"field-content\"><a href=\"/node/13663\">La production industrielle s’améliore de 2,8% au mois de septembre 2023 | </a></span></div>\n",
       "</li>\n",
       "<li>\n",
       "<div class=\"views-field views-field-title\"><span class=\"field-content\"><a href=\"/node/13507\">Stabilité des prix à la consommation - IHPC, flash Octobre 2023 | </a></span></div>\n",
       "</li>\n",
       "<li>\n",
       "<div class=\"views-field views-field-title\"><span class=\"field-content\"><a href=\"/node/13519\">Résultats du RGPH-5 : une population très jeune marquée par une prédominance de l’effectif des hommes par rapport aux femmes | </a></span></div>\n",
       "</li>\n",
       "<li>\n",
       "<div class=\"views-field views-field-title\"><span class=\"field-content\"><a href=\"/node/13513\">Baisse de 0,9% des prix des matériaux de construction - IMC, Septembre 2023 | </a></span></div>\n",
       "</li>\n",
       "<li>\n",
       "<div class=\"views-field views-field-title\"><span class=\"field-content\"><a href=\"/node/13506\">Une constance des prix de la production industrielle - IPPI, Flash, septembre 2023 | </a></span></div>\n",
       "</li>\n",
       "<li>\n",
       "<div class=\"views-field views-field-title\"><span class=\"field-content\"><a href=\"/node/14923\">Baisse de 3,3% des prix des produits importés - IPCE, août 2023 | </a></span></div>\n",
       "</li>\n",
       "<li>\n",
       "<div class=\"views-field views-field-title\"><span class=\"field-content\"><a href=\"/node/13514\">Baisse de 10,1% des exportations du Sénégal, BMSCE, août 2023 | </a></span></div>\n",
       "</li>\n",
       "<li>\n",
       "<div class=\"views-field views-field-title\"><span class=\"field-content\"><a href=\"/node/14923\">Hausse de O,5% des prix des produits importés, IPCE, juillet 2023 | </a></span></div>\n",
       "</li>\n",
       "<li>\n",
       "<div class=\"views-field views-field-title\"><span class=\"field-content\"><a href=\"/node/13507\">Baisse de 0,3% des prix à la consommation, IHPC, flash, septembre 2023 | </a></span></div>\n",
       "</li>\n",
       "<li>\n",
       "<div class=\"views-field views-field-title\"><span class=\"field-content\"><a href=\"/node/14460\">Hausse de  1,4% du nombre d’employés dans le secteur moderne, hors administration publique - EERH, T2 2023 | </a></span></div>\n",
       "</li>\n",
       "<li>\n",
       "<div class=\"views-field views-field-title\"><span class=\"field-content\"><a href=\"/node/13506\">Baisse de 0,7% des prix de la production industrielle - Flash IPPI, août 2023 | </a></span></div>\n",
       "</li>\n",
       "<li>\n",
       "<div class=\"views-field views-field-title\"><span class=\"field-content\"><a href=\"/node/13553\">Hausse de 0,1% du Produit Intérieur Brut (PIB) réel, corrigé des  variations saisonnières (CVS), - Comptes Trim T1 2023 | </a></span></div>\n",
       "</li>\n",
       "<li>\n",
       "<div class=\"views-field views-field-title\"><span class=\"field-content\"><a href=\"/node/\">Hausse de 0,1% du Produit Intérieur Brut (PIB) réel, corrigé des  variations saisonnières (CVS),  | </a></span></div>\n",
       "</li>\n",
       "<li>\n",
       "<div class=\"views-field views-field-title\"><span class=\"field-content\"><a href=\"/node/13513\">Baisse de 0,5% des prix des matériaux de construction, IMC, août 2023 | </a></span></div>\n",
       "</li>\n",
       "<li>\n",
       "<div class=\"views-field views-field-title\"><span class=\"field-content\"><a href=\"/node/13504\">Un accroissement du chiffre d’affaires dans l’industrie | </a></span></div>\n",
       "</li>\n",
       "<li>\n",
       "<div class=\"views-field views-field-title\"><span class=\"field-content\"><a href=\"/node/15815\">Hausse du chiffre d'affaires dans le secteur de la construction  | </a></span></div>\n",
       "</li>\n",
       "<li>\n",
       "<div class=\"views-field views-field-title\"><span class=\"field-content\"><a href=\"/node/13514\">Hausse de 6,8% des exportations du Sénégal au mois de juillet 2023 | </a></span></div>\n",
       "</li>\n",
       "<li>\n",
       "<div class=\"views-field views-field-title\"><span class=\"field-content\"><a href=\"/node/13663\">Baisse de la production industrielle au mois de juillet 2023 | </a></span></div>\n",
       "</li>\n",
       "<li>\n",
       "<div class=\"views-field views-field-title\"><span class=\"field-content\"><a href=\"/node/13507\">Hausse du niveau général des prix au mois d'août 2023 | </a></span></div>\n",
       "</li>\n",
       "<li>\n",
       "<div class=\"views-field views-field-title\"><span class=\"field-content\"><a href=\"/node/13506\">Augmentation de l'indice des prix de la production industrielle  - juillet 2023 | </a></span></div>\n",
       "</li>\n",
       "<li>\n",
       "<div class=\"views-field views-field-title\"><span class=\"field-content\"><a href=\"/node/13513\">Baisse des prix des matériaux de construction au mois de juillet 2023 | </a></span></div>\n",
       "</li>\n",
       "<li>\n",
       "<div class=\"views-field views-field-title\"><span class=\"field-content\"><a href=\"/node/13514\">Baisse des exportations du Sénégal au mois de juin 2023 | </a></span></div>\n",
       "</li>\n",
       "<li>\n",
       "<div class=\"views-field views-field-title\"><span class=\"field-content\"><a href=\"/node/14923\">Diminution des prix des produits importés | </a></span></div>\n",
       "</li>\n",
       "<li>\n",
       "<div class=\"views-field views-field-title\"><span class=\"field-content\"><a href=\"/node/13512\">Baisse coût de la construction des logements neufs à usage d'habitation - T2 2023 | </a></span></div>\n",
       "</li>\n",
       "<li>\n",
       "<div class=\"views-field views-field-title\"><span class=\"field-content\"><a href=\"/node/13663\">Hausse de 6,1 % de la production industrielle - IHPI, Juin 2023 | </a></span></div>\n",
       "</li>\n",
       "<li>\n",
       "<div class=\"views-field views-field-title\"><span class=\"field-content\"><a href=\"/node/13507\">Hausse de 2,1% des prix à la consommation, IHPC? juillet 2023  | </a></span></div>\n",
       "</li>\n",
       "<li>\n",
       "<div class=\"views-field views-field-title\"><span class=\"field-content\"><a href=\"/node/13591\">Publication du Bulletin Mensuel des Statistiques Economiques et Financières - BMSEF, mai 2023 | </a></span></div>\n",
       "</li>\n",
       "<li>\n",
       "<div class=\"views-field views-field-title\"><span class=\"field-content\"><a href=\"/node/14460\">Hausse de 0,3% entre 2021 et 2022 du nombre d’employés dans le secteur moderne des entreprises | </a></span></div>\n",
       "</li>\n",
       "<li>\n",
       "<div class=\"views-field views-field-title\"><span class=\"field-content\"><a href=\"/node/13979\">hausse de la production brute d'électrcité de 11,9% - Repères statistiques, mai 2023 | </a></span></div>\n",
       "</li>\n",
       "<li>\n",
       "<div class=\"views-field views-field-title\"><span class=\"field-content\"><a href=\"/node/13513\">Baisse de 0,4% des prix des matériaux de construction, IMC, juin 2023 | </a></span></div>\n",
       "</li>\n",
       "<li>\n",
       "<div class=\"views-field views-field-title\"><span class=\"field-content\"><a href=\"/node/13513\">Baisse de 0,4% des prix des matériaux de construction en juin 2023 | </a></span></div>\n",
       "</li>\n",
       "<li>\n",
       "<div class=\"views-field views-field-title\"><span class=\"field-content\"><a href=\"/node/14923\">Baisse des prix des produits importés - IPCE, Mai 2023 | </a></span></div>\n",
       "</li>\n",
       "<li>\n",
       "<div class=\"views-field views-field-title\"><span class=\"field-content\"><a href=\"/node/13514\">Hausse de 21,0% des exportations du Sénégal - BMSCE, mai 2023 | </a></span></div>\n",
       "</li>\n",
       "<li>\n",
       "<div class=\"views-field views-field-title\"><span class=\"field-content\"><a href=\"/node/13514\">Hausse de 21,0% des exportations du Sénégal - Mai 2023 | </a></span></div>\n",
       "</li>\n",
       "<li>\n",
       "<div class=\"views-field views-field-title\"><span class=\"field-content\"><a href=\"/node/13518\">Baisse  de 0,8% du Produit Intérieur Brut en volume corrigé des variations saisonnières (PIB-CVS)  en variation trimestrielle - NEER, T1 2023 | </a></span></div>\n",
       "</li>\n",
       "<li>\n",
       "<div class=\"views-field views-field-title\"><span class=\"field-content\"><a href=\"/node/13518\">Bausse  de 0,8% du Produit Intérieur Brut en volume corrigé des variations saisonnières (PIB-CVS)  en variation trimestrielle - NEER, T1 2023 | </a></span></div>\n",
       "</li>\n",
       "<li>\n",
       "<div class=\"views-field views-field-title\"><span class=\"field-content\"><a href=\"/node/13663\">Hausse de 13,0% de la production industrielle - IHPI, mai 2023 | </a></span></div>\n",
       "</li>\n",
       "<li>\n",
       "<div class=\"views-field views-field-title\"><span class=\"field-content\"><a href=\"/node/13507\">Hausse de 1,1% des prix à la consommation - IHPC, juin 2023 | </a></span></div>\n",
       "</li>\n",
       "<li>\n",
       "<div class=\"views-field views-field-title\"><span class=\"field-content\"><a href=\"/node/13979\">Hausse de 2,3% de la production brute d'électricité - Avril 2023 | </a></span></div>\n",
       "</li>\n",
       "<li>\n",
       "<div class=\"views-field views-field-title\"><span class=\"field-content\"><a href=\"/node/13591\">Publication du Bulletin Mensuel des Statistiques Economiques et Financières - BMSEF, Avril 2023 | </a></span></div>\n",
       "</li>\n",
       "<li>\n",
       "<div class=\"views-field views-field-title\"><span class=\"field-content\"><a href=\"/node/13513\">Baisse de 0,3% des prix des matériaux de construction - Flash IMC, mai 2023 | </a></span></div>\n",
       "</li>\n",
       "<li>\n",
       "<div class=\"views-field views-field-title\"><span class=\"field-content\"><a href=\"/node/14460\">Baisse de 1,9% du nombre d’employés salariés dans le secteur moderne hors administration publique | </a></span></div>\n",
       "</li>\n",
       "<li>\n",
       "<div class=\"views-field views-field-title\"><span class=\"field-content\"><a href=\"/node/13506\">Baisse de 1,1% des prix de la production industrielle - IPPI, Flash Mai 2023 | </a></span></div>\n",
       "</li>\n",
       "<li>\n",
       "<div class=\"views-field views-field-title\"><span class=\"field-content\"><a href=\"/node/13548\">Baisse du Produit Intérieur Brut (PIB) réel, corrigé des variations saisonnières (CVS), de 0,8% - Comptes Trim. T1 2023 | </a></span></div>\n",
       "</li>\n",
       "<li>\n",
       "<div class=\"views-field views-field-title\"><span class=\"field-content\"><a href=\"/node/13503\">Une hausse du chiffre d’affaires des services d’hébergement et de restauration - ICAS; T1 2023 | </a></span></div>\n",
       "</li>\n",
       "<li>\n",
       "<div class=\"views-field views-field-title\"><span class=\"field-content\"><a href=\"/node/14923\">Un rebond des prix des produits importés - IPCE, Avril 2023 | </a></span></div>\n",
       "</li>\n",
       "<li>\n",
       "<div class=\"views-field views-field-title\"><span class=\"field-content\"><a href=\"/node/13504\">Un repli du chiffre d'affaires dans l'industrie - ICAI, T1 2023 | </a></span></div>\n",
       "</li>\n",
       "<li>\n",
       "<div class=\"views-field views-field-title\"><span class=\"field-content\"><a href=\"/node/13504\"> Une hausse du chiffre d'affaires dans la construction - ICAC, T1 2023 | </a></span></div>\n",
       "</li>\n",
       "<li>\n",
       "<div class=\"views-field views-field-title\"><span class=\"field-content\"><a href=\"/node/13514\">Baisse des exportations du Sénégal - BMSCE, Avril 2023 | </a></span></div>\n",
       "</li>\n",
       "<li>\n",
       "<div class=\"views-field views-field-title\"><span class=\"field-content\"><a href=\"/node/13663\">Baisse de la production industrielle hors égrenage de coton de 5,1% - IHPI, Avril 2023 | </a></span></div>\n",
       "</li>\n",
       "<li>\n",
       "<div class=\"views-field views-field-title\"><span class=\"field-content\"><a href=\"/node/13507\"> Lègère hausse des prix à la consommation de 0,1%, - Flash IHPC, Mai 2012 | </a></span></div>\n",
       "</li>\n",
       "<li>\n",
       "<div class=\"views-field views-field-title\"><span class=\"field-content\"><a href=\"/node/13591\">Publication du Bulletin Mensuel des Statistiques Economiques et Financières - BMSEF, Mars 2023 | </a></span></div>\n",
       "</li>\n",
       "<li>\n",
       "<div class=\"views-field views-field-title\"><span class=\"field-content\"><a href=\"/node/13979\">Hausse de la production totale d'électricité - Repères statistiques, Mars 2023 | </a></span></div>\n",
       "</li>\n",
       "<li>\n",
       "<div class=\"views-field views-field-title\"><span class=\"field-content\"><a href=\"/node/13506\">Hausse de l'Indice des prix à la production industrielle - IPPI, Avril 2023 | </a></span></div>\n",
       "</li>\n",
       "<li>\n",
       "<div class=\"views-field views-field-title\"><span class=\"field-content\"><a href=\"/node/13511\">Au Sénégal, le taux d’inflation s’est établi à +9,7% en 2022 | </a></span></div>\n",
       "</li>\n",
       "<li>\n",
       "<div class=\"views-field views-field-title\"><span class=\"field-content\"><a href=\"/node/16397\">Publication du rapport sur les comptes de l’occupation des sols - 2010 et 2015 | </a></span></div>\n",
       "</li>\n",
       "<li>\n",
       "<div class=\"views-field views-field-title\"><span class=\"field-content\"><a href=\"/node/13514\">Hausse des 29,6% des exportations du Sénégal - BMSCE, Mars 2023 | </a></span></div>\n",
       "</li>\n",
       "<li>\n",
       "<div class=\"views-field views-field-title\"><span class=\"field-content\"><a href=\"/node/14923\">Un rebond des prix des produits importés au mois de mars 2023 | </a></span></div>\n",
       "</li>\n",
       "<li>\n",
       "<div class=\"views-field views-field-title\"><span class=\"field-content\"><a href=\"/node/13507\">Hausse du niveau général des prix au mois d'avril 2023 | </a></span></div>\n",
       "</li>\n",
       "<li>\n",
       "<div class=\"views-field views-field-title\"><span class=\"field-content\"><a href=\"/node/13506\">Légère augmentation de l'indice des prix de la production industrielle  - Mars 2023 | </a></span></div>\n",
       "</li>\n",
       "<li>\n",
       "<div class=\"views-field views-field-title\"><span class=\"field-content\"><a href=\"/node/13514\">Baisse des exportations du Sénégal au mois de février 2023 | </a></span></div>\n",
       "</li>\n",
       "<li>\n",
       "<div class=\"views-field views-field-title\"><span class=\"field-content\"><a href=\"/node/13663\">Baisse de la production industrielle - mars 2023 | </a></span></div>\n",
       "</li>\n",
       "<li>\n",
       "<div class=\"views-field views-field-title\"><span class=\"field-content\"><a href=\"/node/13507\">Légère baisse du niveau général des prix - mars 2023 | </a></span></div>\n",
       "</li>\n",
       "<li>\n",
       "<div class=\"views-field views-field-title\"><span class=\"field-content\"><a href=\"/node/14460\">Une baisse du nombre d’employés dans le secteur moderne - T4 2022 | </a></span></div>\n",
       "</li>\n",
       "<li>\n",
       "<div class=\"views-field views-field-title\"><span class=\"field-content\"><a href=\"/node/13513\">Baisse du prix des matériaux de construction - IMC, Avril 2023 | </a></span></div>\n",
       "</li>\n",
       "<li>\n",
       "<div class=\"views-field views-field-title\"><span class=\"field-content\"><a href=\"/node/13548\">Produit Intérieur Brut (PIB) réel, corrigé des variations saisonnières (CVS) - T4 2022 | </a></span></div>\n",
       "</li>\n",
       "<li>\n",
       "<div class=\"views-field views-field-title\"><span class=\"field-content\"><a href=\"/node/13514\">Hausse des exportations du Sénégal au mois de janvier 2023 | </a></span></div>\n",
       "</li>\n",
       "<li>\n",
       "<div class=\"views-field views-field-title\"><span class=\"field-content\"><a href=\"/node/14923\">Un rebond des prix des produits importés | </a></span></div>\n",
       "</li>\n",
       "<li>\n",
       "<div class=\"views-field views-field-title\"><span class=\"field-content\"><a href=\"/node/15815\">Une hausse du chiffre d’affaires de la construction - T4 2022 | </a></span></div>\n",
       "</li>\n",
       "<li>\n",
       "<div class=\"views-field views-field-title\"><span class=\"field-content\"><a href=\"/node/13503\">Une hausse du chiffre d’affaires des services d’hébergement et de restauration - T4 2022 | </a></span></div>\n",
       "</li>\n",
       "<li>\n",
       "<div class=\"views-field views-field-title\"><span class=\"field-content\"><a href=\"/node/13504\">Un accroissement du chiffre d’affaires dans l’industrie | </a></span></div>\n",
       "</li>\n",
       "<li>\n",
       "<div class=\"views-field views-field-title\"><span class=\"field-content\"><a href=\"/node/13663\">Baisse de la production industrielle - janvier 2023 | </a></span></div>\n",
       "</li>\n",
       "<li>\n",
       "<div class=\"views-field views-field-title\"><span class=\"field-content\"><a href=\"/node/13507\">Hausse du niveau général des prix au mois de février 2023 | </a></span></div>\n",
       "</li>\n",
       "<li>\n",
       "<div class=\"views-field views-field-title\"><span class=\"field-content\"><a href=\"/node/13499\">Une hausse des prix de production des services d’hébergement et de restauration - T4 2022 | </a></span></div>\n",
       "</li>\n",
       "<li>\n",
       "<div class=\"views-field views-field-title\"><span class=\"field-content\"><a href=\"/node/13506\">Une hausse des prix de la production industrielle - janvier 2023 | </a></span></div>\n",
       "</li>\n",
       "<li>\n",
       "<div class=\"views-field views-field-title\"><span class=\"field-content\"><a href=\"/node/13663\">Hausse de 20,7% de la production industrielle au mois de décembre 2022 | </a></span></div>\n",
       "</li>\n",
       "<li>\n",
       "<div class=\"views-field views-field-title\"><span class=\"field-content\"><a href=\"/node/13514\">Une baisse des exportations du Sénégal au mois de décembre 2022 | </a></span></div>\n",
       "</li>\n",
       "<li>\n",
       "<div class=\"views-field views-field-title\"><span class=\"field-content\"><a href=\"/node/13512\">Légère augmentation du coût de la construction - T4 2022 | </a></span></div>\n",
       "</li>\n",
       "<li>\n",
       "<div class=\"views-field views-field-title\"><span class=\"field-content\"><a href=\"/node/14923\">Une baisse des prix des produits importés - Décember 2022 | </a></span></div>\n",
       "</li>\n",
       "<li>\n",
       "<div class=\"views-field views-field-title\"><span class=\"field-content\"><a href=\"/node/13507\">Baisse du niveau général des prix au mois de janvier 2023 | </a></span></div>\n",
       "</li>\n",
       "<li>\n",
       "<div class=\"views-field views-field-title\"><span class=\"field-content\"><a href=\"/node/13506\">L’activité industrielle est marquée, en décembre 2022, par une diminution de 0,6% des prix de la production industrielle  | </a></span></div>\n",
       "</li>\n",
       "<li>\n",
       "<div class=\"views-field views-field-title\"><span class=\"field-content\"><a href=\"/node/13513\">Baisse du prix des matériaux de construction - décembre 2022 | </a></span></div>\n",
       "</li>\n",
       "<li>\n",
       "<div class=\"views-field views-field-title\"><span class=\"field-content\"><a href=\"/node/14923\">Un fléchissement des prix des produits exportés au mois de novembre 2022 | </a></span></div>\n",
       "</li>\n",
       "<li>\n",
       "<div class=\"views-field views-field-title\"><span class=\"field-content\"><a href=\"/node/13514\">Hausse de 13,3% des exportations du Sénégal au mois de novembre 2022 | </a></span></div>\n",
       "</li>\n",
       "<li>\n",
       "<div class=\"views-field views-field-title\"><span class=\"field-content\"><a href=\"/node/13663\">Une amélioration de la production industrielle - novembre 2022 | </a></span></div>\n",
       "</li>\n",
       "<li>\n",
       "<div class=\"views-field views-field-title\"><span class=\"field-content\"><a href=\"/node/13507\">En 2022, le taux d'inflation annuel moyen est de 9,7%. | </a></span></div>\n",
       "</li>\n",
       "<li>\n",
       "<div class=\"views-field views-field-title\"><span class=\"field-content\"><a href=\"/node/14460\">Une hausse du nombre d’employés et de la masse salariale et une baisse des heures travaillées - T3 2022  | </a></span></div>\n",
       "</li>\n",
       "<li>\n",
       "<div class=\"views-field views-field-title\"><span class=\"field-content\"><a href=\"/node/14765\">Hausse de 18,9% de la valeur ajoutée des entreprises en 2021 | </a></span></div>\n",
       "</li>\n",
       "<li>\n",
       "<div class=\"views-field views-field-title\"><span class=\"field-content\"><a href=\"/node/13516\">Regain des exportations et importations du Sénégal après la pandémie | </a></span></div>\n",
       "</li>\n",
       "<li>\n",
       "<div class=\"views-field views-field-title\"><span class=\"field-content\"><a href=\"/node/13490\">Une reprise de l’activité économique après la pandémie | </a></span></div>\n",
       "</li>\n",
       "<li>\n",
       "<div class=\"views-field views-field-title\"><span class=\"field-content\"><a href=\"/node/13506\">Baisse de 0,6% des prix à la production industrielle - Novembre 2022 | </a></span></div>\n",
       "</li>\n",
       "<li>\n",
       "<div class=\"views-field views-field-title\"><span class=\"field-content\"><a href=\"/node/13513\">Baisse des prix des matériaux de construction - novembre 2022 | </a></span></div>\n",
       "</li>\n",
       "<li>\n",
       "<div class=\"views-field views-field-title\"><span class=\"field-content\"><a href=\"/node/13548\">Une hausse de 0,9% du PIB trimestriel - T3 2022 | </a></span></div>\n",
       "</li>\n",
       "<li>\n",
       "<div class=\"views-field views-field-title\"><span class=\"field-content\"><a href=\"/node/15815\">Une hausse du chiffre d’affaires de la construction - T3 2022 | </a></span></div>\n",
       "</li>\n",
       "<li>\n",
       "<div class=\"views-field views-field-title\"><span class=\"field-content\"><a href=\"/node/13503\">Diminution de 11,5% du chiffre d’affaires des services d’hébergement et de restauration - T3 2022 | </a></span></div>\n",
       "</li>\n",
       "<li>\n",
       "<div class=\"views-field views-field-title\"><span class=\"field-content\"><a href=\"/node/13504\">Progression de 5,4% du chiffre d’affaires dans l’industrie - T3 2022 | </a></span></div>\n",
       "</li>\n",
       "<li>\n",
       "<div class=\"views-field views-field-title\"><span class=\"field-content\"><a href=\"/node/13514\">Baisse des exportations et des importations du Sénégal - Octobre 2022 | </a></span></div>\n",
       "</li>\n",
       "<li>\n",
       "<div class=\"views-field views-field-title\"><span class=\"field-content\"><a href=\"/node/13663\">Une amélioration de la production industrielle - Octobre 2022 | </a></span></div>\n",
       "</li>\n",
       "<li>\n",
       "<div class=\"views-field views-field-title\"><span class=\"field-content\"><a href=\"/node/13499\">Hausse des prix de production des services d’hébergement et de restauration - T3 2022 | </a></span></div>\n",
       "</li>\n",
       "<li>\n",
       "<div class=\"views-field views-field-title\"><span class=\"field-content\"><a href=\"/node/13506\">Baisse des prix de la production industrielle - Octobre 2022 | </a></span></div>\n",
       "</li>\n",
       "<li>\n",
       "<div class=\"views-field views-field-title\"><span class=\"field-content\"><a href=\"/node/13513\">Hausse de 0,1% des prix des matériaux de construction - Octobre 2022 | </a></span></div>\n",
       "</li>\n",
       "<li>\n",
       "<div class=\"views-field views-field-title\"><span class=\"field-content\"><a href=\"/node/13507\">Légère hausse du niveau général des prix - novembre 2022 | </a></span></div>\n",
       "</li>\n",
       "</ul>\n",
       "</div>\n",
       "</div>\n",
       "</div>\n",
       "</div>\n",
       "</div>\n",
       "</div>\n",
       "</div>\n",
       "</div></div><div class=\"senegal-en-bref _none vlb-section\" id=\"senegal-en-bref\"><div class=\"bg-edge2edge\">\n",
       "<div class=\"layout row no-gutters gx-0 layout-builder__layout\">\n",
       "<div class=\"col-12\">\n",
       "<div class=\"views-exposed-form bef-exposed-form _none block block-views block-views-exposed-filter-blockle-senegal-en-bref-block-1\" data-bef-auto-submit=\"\" data-bef-auto-submit-delay=\"500\" data-bef-auto-submit-full-form=\"\" data-drupal-selector=\"views-exposed-form-le-senegal-en-bref-block-1\">\n",
       "<h2>Le Sénégal En Bref</h2>\n",
       "<div class=\"content\">\n",
       "<form accept-charset=\"UTF-8\" action=\"/node\" id=\"views-exposed-form-le-senegal-en-bref-block-1\" method=\"get\">\n",
       "<div class=\"form-row\">\n",
       "<fieldset class=\"fieldgroup form-composite js-form-item form-item js-form-wrapper form-group\" data-drupal-selector=\"edit-field-bref-value\" id=\"edit-field-bref-value--wrapper\">\n",
       "<legend>\n",
       "<span class=\"fieldset-legend\"></span>\n",
       "</legend>\n",
       "<div class=\"fieldset-wrapper\">\n",
       "<div class=\"radio\" id=\"edit-field-bref-value\"><div class=\"form-radios\">\n",
       "<div class=\"js-form-item js-form-type-radio radio form-check js-form-item-field-bref-value form-item-field-bref-value\">\n",
       "<label class=\"form-check-label\">\n",
       "<input class=\"form-radio form-check-input\" data-drupal-selector=\"edit-field-bref-value-all\" id=\"edit-field-bref-value-all\" name=\"field_bref_value\" type=\"radio\" value=\"All\"/>\n",
       "               <label class=\"option\" for=\"edit-field-bref-value-all\">- Tout -</label>\n",
       "</label>\n",
       "</div>\n",
       "<div class=\"js-form-item js-form-type-radio radio form-check js-form-item-field-bref-value form-item-field-bref-value\">\n",
       "<label class=\"form-check-label\">\n",
       "<input class=\"form-radio form-check-input\" data-drupal-selector=\"edit-field-bref-value-1\" id=\"edit-field-bref-value-1\" name=\"field_bref_value\" type=\"radio\" value=\"1\"/>\n",
       "               <label class=\"option\" for=\"edit-field-bref-value-1\">Démographie</label>\n",
       "</label>\n",
       "</div>\n",
       "<div class=\"js-form-item js-form-type-radio radio form-check js-form-item-field-bref-value form-item-field-bref-value\">\n",
       "<label class=\"form-check-label\">\n",
       "<input checked=\"checked\" class=\"form-radio form-check-input\" data-drupal-selector=\"edit-field-bref-value-2\" id=\"edit-field-bref-value-2\" name=\"field_bref_value\" type=\"radio\" value=\"2\"/>\n",
       "               <label class=\"option\" for=\"edit-field-bref-value-2\">Economie</label>\n",
       "</label>\n",
       "</div>\n",
       "<div class=\"js-form-item js-form-type-radio radio form-check js-form-item-field-bref-value form-item-field-bref-value\">\n",
       "<label class=\"form-check-label\">\n",
       "<input class=\"form-radio form-check-input\" data-drupal-selector=\"edit-field-bref-value-3\" id=\"edit-field-bref-value-3\" name=\"field_bref_value\" type=\"radio\" value=\"3\"/>\n",
       "               <label class=\"option\" for=\"edit-field-bref-value-3\">Conditions de vie</label>\n",
       "</label>\n",
       "</div>\n",
       "</div>\n",
       "</div>\n",
       "</div>\n",
       "</fieldset>\n",
       "<div class=\"form-actions js-form-wrapper form-group\" data-drupal-selector=\"edit-actions\" id=\"edit-actions\"><button class=\"js-hide button js-form-submit form-submit btn btn-primary\" data-bef-auto-submit-click=\"\" data-drupal-selector=\"edit-submit-le-senegal-en-bref\" id=\"edit-submit-le-senegal-en-bref\" type=\"submit\" value=\"Appliquer\">Appliquer</button>\n",
       "</div>\n",
       "</div>\n",
       "</form>\n",
       "</div>\n",
       "</div>\n",
       "<div class=\"views-element-container _none block block-views block-views-blockle-senegal-en-bref-block-1\" data-aos=\"_none\">\n",
       "<div class=\"content\">\n",
       "<div><div class=\"view view-le-senegal-en-bref view-id-le_senegal_en_bref view-display-id-block_1 js-view-dom-id-a132c50c15334e12b85469389765c86e1d9a879eefd2d2b7602a45855fa60318\">\n",
       "<div class=\"view-content\">\n",
       "<div class=\"owl-slider-wrapper owl-carousel\" data-settings='{\"grouping\":[],\"row_class\":\"\",\"default_row_class\":true,\"uses_fields\":false,\"items\":4,\"itemsDesktop\":[1199,4],\"itemsDesktopSmall\":[979,4],\"itemsTablet\":[768,2],\"itemsMobile\":[479,1],\"singleItem\":false,\"itemsScaleUp\":false,\"slideSpeed\":200,\"paginationSpeed\":800,\"rewindSpeed\":1000,\"autoPlay\":false,\"stopOnHover\":false,\"navigation\":true,\"navigationText\":[\"pr\\u00e9c\",\"suivant\"],\"prevText\":\"pr\\u00e9c\",\"nextText\":\"suivant\",\"rewindNav\":true,\"scrollPerPage\":false,\"pagination\":false,\"paginationNumbers\":false,\"responsive\":true,\"responsiveRefreshRate\":200,\"mouseDrag\":true,\"touchDrag\":true,\"transitionStyle\":\"fade\"}'>\n",
       "<div><div class=\"views-field views-field-title\"><span class=\"field-content\">Taux de croissance du PIB annuel </span></div><div class=\"views-field views-field-field-annee-bref\"><div class=\"field-content\">2022</div></div><div class=\"views-field views-field-field-valeur\"><div class=\"field-content\"><a href=\"/node/13490 \">+3,8%</a></div></div></div>\n",
       "<div><div class=\"views-field views-field-title\"><span class=\"field-content\">PIB Trimestriel </span></div><div class=\"views-field views-field-field-annee-bref\"><div class=\"field-content\">T3 2023</div></div><div class=\"views-field views-field-field-valeur\"><div class=\"field-content\"><a href=\"/node/13548 \">+0,7%</a></div></div></div>\n",
       "<div><div class=\"views-field views-field-title\"><span class=\"field-content\">Taux d'inflation </span></div><div class=\"views-field views-field-field-annee-bref\"><div class=\"field-content\">2022</div></div><div class=\"views-field views-field-field-valeur\"><div class=\"field-content\"><a href=\"/node/13511 \">+9,7%</a></div></div></div>\n",
       "<div><div class=\"views-field views-field-title\"><span class=\"field-content\">Valeur ajoutée des entreprises</span></div><div class=\"views-field views-field-field-annee-bref\"><div class=\"field-content\">2022</div></div><div class=\"views-field views-field-field-valeur\"><div class=\"field-content\"><a href=\"/node/14765 \">+15,3%</a></div></div></div>\n",
       "<div><div class=\"views-field views-field-title\"><span class=\"field-content\">Niveau général des prix</span></div><div class=\"views-field views-field-field-annee-bref\"><div class=\"field-content\">Novembre 2023</div></div><div class=\"views-field views-field-field-valeur\"><div class=\"field-content\"><a href=\"/node/13507 \">-1,2%,</a></div></div></div>\n",
       "<div><div class=\"views-field views-field-title\"><span class=\"field-content\">Production industrielle</span></div><div class=\"views-field views-field-field-annee-bref\"><div class=\"field-content\">Octobre 2023</div></div><div class=\"views-field views-field-field-valeur\"><div class=\"field-content\"><a href=\"/node/13663 \">+9,3%</a></div></div></div>\n",
       "<div><div class=\"views-field views-field-title\"><span class=\"field-content\">Prix à la Production industrielle </span></div><div class=\"views-field views-field-field-annee-bref\"><div class=\"field-content\">Novembre 2023</div></div><div class=\"views-field views-field-field-valeur\"><div class=\"field-content\"><a href=\"/node/13506 \">+ 0,4%  </a></div></div></div>\n",
       "<div><div class=\"views-field views-field-title\"><span class=\"field-content\">Importations</span></div><div class=\"views-field views-field-field-annee-bref\"><div class=\"field-content\">Septembre 2023</div></div><div class=\"views-field views-field-field-valeur\"><div class=\"field-content\"><a href=\"/node/13514 \">-17,2%. </a></div></div></div>\n",
       "<div><div class=\"views-field views-field-title\"><span class=\"field-content\">Exportations</span></div><div class=\"views-field views-field-field-annee-bref\"><div class=\"field-content\">Septembre 2023</div></div><div class=\"views-field views-field-field-valeur\"><div class=\"field-content\"><a href=\"/node/13514 \">-13,2%</a></div></div></div>\n",
       "<div><div class=\"views-field views-field-title\"><span class=\"field-content\">Prix à l'import</span></div><div class=\"views-field views-field-field-annee-bref\"><div class=\"field-content\">Septembre 2023</div></div><div class=\"views-field views-field-field-valeur\"><div class=\"field-content\"><a href=\"/node/14923 \">+2,0%</a></div></div></div>\n",
       "<div><div class=\"views-field views-field-title\"><span class=\"field-content\">Prix à l'export</span></div><div class=\"views-field views-field-field-annee-bref\"><div class=\"field-content\">Septembre 2023</div></div><div class=\"views-field views-field-field-valeur\"><div class=\"field-content\"><a href=\"/node/14923 \">+1,4% </a></div></div></div>\n",
       "<div><div class=\"views-field views-field-title\"><span class=\"field-content\">Chiffre d’Affaires dans la Construction</span></div><div class=\"views-field views-field-field-annee-bref\"><div class=\"field-content\">T4 2022</div></div><div class=\"views-field views-field-field-valeur\"><div class=\"field-content\"><a href=\"/node/15815 \">+13,6%</a></div></div></div>\n",
       "</div>\n",
       "</div>\n",
       "</div>\n",
       "</div>\n",
       "</div>\n",
       "</div>\n",
       "</div>\n",
       "</div>\n",
       "</div></div><div class=\"hackathon _none vlb-section\"><div class=\"container\">\n",
       "<div class=\"layout row layout-builder__layout\">\n",
       "<div class=\"col-12\">\n",
       "<div class=\"_none block block-block-content block-block-content243b4b96-575a-4f42-8b71-2baf528956cb\">\n",
       "<div class=\"content\">\n",
       "<div class=\"clearfix text-formatted field field--name-body field--type-text-with-summary field--label-hidden field__item\"><div style=\"margin:30px 0;\"><a href=\"https://hackathon.ansd.sn/index.php/s/a_c\" target=\"_blank\"><img src=\"/sites/default/files/2023-12/banniere20hackathon20seneweb.png\"/></a></div></div>\n",
       "</div>\n",
       "</div>\n",
       "</div>\n",
       "</div>\n",
       "</div></div><div class=\"map-rghp5 _none vlb-section\"><div class=\"no-container\">\n",
       "<div class=\"layout row layout-builder__layout\">\n",
       "<div class=\"col-lg-3 col-md-3 col-sm-12 col-12\">\n",
       "<div class=\"_none block block-layout-builder block-inline-blockvarbase-html-code-block\">\n",
       "<div class=\"content\">\n",
       "<div class=\"clearfix text-formatted field field--name-body field--type-text-with-summary field--label-hidden field__item\"><h3><a href=\"https://resultats.ansd.sn/\">Résultats préliminaires du RGPH-5, 2023</a></h3></div>\n",
       "</div>\n",
       "</div>\n",
       "</div>\n",
       "<div class=\"col-lg-6 col-md-6 col-sm-12 col-12 carte-demo\">\n",
       "<div class=\"_none block block-layout-builder block-inline-blockvarbase-media-block\">\n",
       "<a href=\"https://resultats.ansd.sn/\">\n",
       "<div>\n",
       "<div class=\"blazy blazy--field blazy--field-media-image blazy--field-media-image--large field field--name-field-media-image field--type-image field--label-hidden field__item\" data-blazy=\"\">\n",
       "<div class=\"media media--blazy media--image media--responsive is-b-loading\"> <picture>\n",
       "<source data-srcset=\"/sites/default/files/styles/d08/public/2023-10/carte.webp?itok=dT5yqKD9 1x\" media=\"all and (max-width: 767.98px)\" srcset=\"\" type=\"image/webp\"/>\n",
       "<source data-srcset=\"/sites/default/files/styles/d10/public/2023-10/carte.webp?itok=xSBdOM37 1x\" media=\"all and (min-width: 768px)\" srcset=\"\" type=\"image/webp\"/>\n",
       "<source data-srcset=\"/sites/default/files/styles/d12/public/2023-10/carte.webp?itok=5MY9O98I 1x\" media=\"all and (min-width: 992px)\" srcset=\"\" type=\"image/webp\"/>\n",
       "<source data-srcset=\"/sites/default/files/styles/d08/public/2023-10/carte.png?itok=dT5yqKD9 1x\" media=\"all and (max-width: 767.98px)\" srcset=\"\" type=\"image/png\"/>\n",
       "<source data-srcset=\"/sites/default/files/styles/d10/public/2023-10/carte.png?itok=xSBdOM37 1x\" media=\"all and (min-width: 768px)\" srcset=\"\" type=\"image/png\"/>\n",
       "<source data-srcset=\"/sites/default/files/styles/d12/public/2023-10/carte.png?itok=5MY9O98I 1x\" media=\"all and (min-width: 992px)\" srcset=\"\" type=\"image/png\"/>\n",
       "<img alt=\"Carte population RGPH5 - ANSD\" class=\"media__image media__element b-lazy b-responsive img-fluid\" data-src=\"/sites/default/files/2023-10/carte.png\" decoding=\"async\" loading=\"lazy\" src=\"data:image/svg+xml;charset=utf-8,%3Csvg%20xmlns%3D'http%3A%2F%2Fwww.w3.org%2F2000%2Fsvg'%20viewBox%3D'0%200%201%201'%2F%3E\" typeof=\"foaf:Image\"/>\n",
       "</picture>\n",
       "</div>\n",
       "</div>\n",
       "</div>\n",
       "</a>\n",
       "</div>\n",
       "<div class=\"text-center _none block block-layout-builder block-inline-blockvarbase-html-code-block\">\n",
       "<div class=\"content\">\n",
       "<div class=\"clearfix text-formatted field field--name-body field--type-text-with-summary field--label-hidden field__item\"><a href=\"https://resultats.ansd.sn/\" style=\"text-align:center\" target=\"_blank\">Résultats préliminaires du RGPH-5</a></div>\n",
       "</div>\n",
       "</div>\n",
       "</div>\n",
       "<div class=\"col-lg-3 col-md-3 col-sm-12 col-12 logo-rgph5\">\n",
       "<div class=\"_none block block-layout-builder block-inline-blockvarbase-media-block\">\n",
       "<a href=\"https://resultats.ansd.sn/\">\n",
       "<div>\n",
       "<div class=\"blazy blazy--field blazy--field-media-image blazy--field-media-image--large field field--name-field-media-image field--type-image field--label-hidden field__item\" data-blazy=\"\">\n",
       "<div class=\"media media--blazy media--image media--responsive is-b-loading\"> <picture>\n",
       "<source data-srcset=\"/sites/default/files/styles/d08/public/2023-10/logo_rgph-5.webp?itok=Xjq8A2l2 1x\" media=\"all and (max-width: 767.98px)\" srcset=\"\" type=\"image/webp\"/>\n",
       "<source data-srcset=\"/sites/default/files/styles/d10/public/2023-10/logo_rgph-5.webp?itok=Vv2ZM1Qo 1x\" media=\"all and (min-width: 768px)\" srcset=\"\" type=\"image/webp\"/>\n",
       "<source data-srcset=\"/sites/default/files/styles/d12/public/2023-10/logo_rgph-5.webp?itok=DEVrYiMA 1x\" media=\"all and (min-width: 992px)\" srcset=\"\" type=\"image/webp\"/>\n",
       "<source data-srcset=\"/sites/default/files/styles/d08/public/2023-10/logo_rgph-5.png?itok=Xjq8A2l2 1x\" media=\"all and (max-width: 767.98px)\" srcset=\"\" type=\"image/png\"/>\n",
       "<source data-srcset=\"/sites/default/files/styles/d10/public/2023-10/logo_rgph-5.png?itok=Vv2ZM1Qo 1x\" media=\"all and (min-width: 768px)\" srcset=\"\" type=\"image/png\"/>\n",
       "<source data-srcset=\"/sites/default/files/styles/d12/public/2023-10/logo_rgph-5.png?itok=DEVrYiMA 1x\" media=\"all and (min-width: 992px)\" srcset=\"\" type=\"image/png\"/>\n",
       "<img alt=\"rgph5\" class=\"media__image media__element b-lazy b-responsive img-fluid\" data-src=\"/sites/default/files/2023-10/logo_rgph-5.png\" decoding=\"async\" loading=\"lazy\" src=\"data:image/svg+xml;charset=utf-8,%3Csvg%20xmlns%3D'http%3A%2F%2Fwww.w3.org%2F2000%2Fsvg'%20viewBox%3D'0%200%201%201'%2F%3E\" typeof=\"foaf:Image\"/>\n",
       "</picture>\n",
       "</div>\n",
       "</div>\n",
       "</div>\n",
       "</a>\n",
       "</div>\n",
       "</div>\n",
       "</div>\n",
       "</div></div><div class=\"link-result _none vlb-section\"><div class=\"no-container\">\n",
       "<div class=\"layout row layout-builder__layout\">\n",
       "<div class=\"col-lg-4 col-md-4 col-sm-12 col-12\">\n",
       "<div class=\"_none block block-layout-builder block-inline-blockvarbase-rich-text-block\">\n",
       "<div class=\"content\">\n",
       "<div class=\"clearfix text-formatted field field--name-body field--type-text-with-summary field--label-hidden field__item\"><h2>Immatriculation au NINEA : chiffres clés, tendances et évolutions </h2>\n",
       "<p><a href=\"/Indicateur/immatriculation-au-ninea-chiffres-cles-tendances-et-evolutions\" title=\"Voir la publication\">Voir la publication</a></p>\n",
       "</div>\n",
       "</div>\n",
       "</div>\n",
       "</div>\n",
       "<div class=\"col-lg-8 col-md-8 col-sm-12 col-12\">\n",
       "<div class=\"_none block block-layout-builder block-inline-blockvarbase-rich-text-block\">\n",
       "<div class=\"content\">\n",
       "<div class=\"clearfix text-formatted field field--name-body field--type-text-with-summary field--label-hidden field__item\"><p>L’ANSD vient de lancer une nouvelle publication dénommée « <b>Immatriculation au NINEA : chiffres clés, tendances et évolutions ». </b>Cette publication rentre dans le cadre de diffusion d’informations sur les statistiques d’entreprises en vue d’orienter les décisions de politiques économiques des pouvoirs publics, des collectivités, des investisseurs, etc. Elle offre, d’une part, une photographie de l’ensemble des unités immatriculées au NINEA au cours du trimestre et leurs principales caractéristiques (secteur d’activité, statut juridique, zone d’implantation, etc.) en accordant un intérêt particulier aux entreprises individuelles. D’autre part, elle met l’accent sur l’évolution des créations tout en faisant ressortir les tendances aux niveaux global et sectoriel.</p>\n",
       "</div>\n",
       "</div>\n",
       "</div>\n",
       "</div>\n",
       "</div>\n",
       "</div></div><div class=\"flash-section _none vlb-section\" data-aos=\"_none\"><div class=\"container\">\n",
       "<div class=\"layout row layout-builder__layout\">\n",
       "<div class=\"col-12\">\n",
       "<div class=\"views-element-container _none block block-views block-views-blockstatistiques-par-themes-block-1\" data-aos=\"_none\">\n",
       "<h2>STATISTIQUES PAR THÈMES</h2>\n",
       "<div class=\"content\">\n",
       "<div><div class=\"view view-statistiques-par-themes view-id-statistiques_par_themes view-display-id-block_1 js-view-dom-id-20b1ab609a31da579d7327885724f86781b1a29138d01312c35624f74dc03d65\">\n",
       "<div class=\"view-header\">\n",
       "<a href=\"/theme\">Tous les thèmes </a>\n",
       "</div>\n",
       "<div class=\"view-content\">\n",
       "<div class=\"item-list item-list--blazy item-list--blazy-column\"><ul class=\"blazy blazy--view blazy--view--statistiques-par-themes blazy--view--statistiques-par-themes--block-1 blazy--view--statistiques-par-themes-block-block-1 blazy--grid block-column block-count-4 large-block-column-4 list-group\" data-blazy=\"\" id=\"blazy-views-statistiques-par-themes-block-block-1-1\"><li class=\"grid\"><div class=\"grid__content\"><div class=\"views-field views-field-field-icone\"><div class=\"field-content\"> <a href=\"/theme/economie\"><img alt=\"\" class=\"img-fluid\" height=\"1042\" loading=\"lazy\" src=\"/sites/default/files/images/icones-themes/PICTOGRAMMES_Plan%20de%20travail%201_0.png\" typeof=\"foaf:Image\" width=\"1105\"/>\n",
       "</a>\n",
       "</div></div><div class=\"views-field views-field-field-definition\"><div class=\"field-content\"><div><p>Vous cherchez des données sur la Croissance économique et le PIB, la Production industrielle, les Prix<br/>\n",
       "à la consommation, le Commerce extérieur, aux statistiques d’entreprises, etc.</p>\n",
       "</div>\n",
       "<div><a href=\"/theme/economie\" hreflang=\"fr\">En savoir plus</a></div></div></div></div>\n",
       "</li><li class=\"grid\"><div class=\"grid__content\"><div class=\"views-field views-field-field-icone\"><div class=\"field-content\"> <a href=\"/theme/demographie\"><img alt=\"\" class=\"img-fluid\" height=\"1042\" loading=\"lazy\" src=\"/sites/default/files/images/icones-themes/PICTOGRAMMES-02%20%281%29.png\" typeof=\"foaf:Image\" width=\"1105\"/>\n",
       "</a>\n",
       "</div></div><div class=\"views-field views-field-field-definition\"><div class=\"field-content\"><div><p>Vous cherchez des données sur la Population et les projections démographiques, la Fécondité, la<br/>\n",
       "Natalité, la Mortalité, la Migration, etc.</p>\n",
       "</div>\n",
       "<div><a href=\"/theme/demographie\" hreflang=\"fr\">En savoir plus</a></div></div></div></div>\n",
       "</li><li class=\"grid\"><div class=\"grid__content\"><div class=\"views-field views-field-field-icone\"><div class=\"field-content\"> <a href=\"/theme/societe\"><img alt=\"\" class=\"img-fluid\" height=\"1042\" loading=\"lazy\" src=\"/sites/default/files/images/icones-themes/PICTOGRAMMES-03.png\" typeof=\"foaf:Image\" width=\"1105\"/>\n",
       "</a>\n",
       "</div></div><div class=\"views-field views-field-field-definition\"><div class=\"field-content\"><div><p>Vous cherchez des données sur la Santé, la Pauvreté et les conditions de vie, l’Emploi et travail,<br/>\n",
       "l’Education, le Genre et l’équité, etc.</p>\n",
       "</div>\n",
       "<div><a href=\"/theme/societe\" hreflang=\"fr\">En savoir plus</a></div></div></div></div>\n",
       "</li><li class=\"grid\"><div class=\"grid__content\"><div class=\"views-field views-field-field-icone\"><div class=\"field-content\"> <a href=\"/theme/autres-statistiques\"><img alt=\"\" class=\"img-fluid\" height=\"1042\" loading=\"lazy\" src=\"/sites/default/files/images/icones-themes/PICTOGRAMMES-04.png\" typeof=\"foaf:Image\" width=\"1105\"/>\n",
       "</a>\n",
       "</div></div><div class=\"views-field views-field-field-definition\"><div class=\"field-content\"><div><p>Vous cherchez des données sectorielles l’Agriculture, l’Horticulture, l’Elevage, la Pêche, les Bâtiments<br/>\n",
       "et travaux publics, l’Environnement, le Tourisme, le Transport, etc.</p>\n",
       "</div>\n",
       "<div><a href=\"/theme/autres-statistiques\" hreflang=\"fr\">En savoir plus</a></div></div></div></div>\n",
       "</li></ul></div>\n",
       "</div>\n",
       "</div>\n",
       "</div>\n",
       "</div>\n",
       "</div>\n",
       "</div>\n",
       "</div>\n",
       "</div></div><div class=\"_none vlb-section\"><div class=\"container\">\n",
       "<div class=\"layout row layout-builder__layout\">\n",
       "<div class=\"col-12\">\n",
       "<div class=\"views-element-container _none block block-views block-views-blockindicateurs-par-themes-block-1\" data-aos=\"_none\">\n",
       "<h2>INDICATEURS ECONOMIQUES</h2>\n",
       "<div class=\"content\">\n",
       "<div><div class=\"view view-indicateurs-par-themes view-id-indicateurs_par_themes view-display-id-block_1 js-view-dom-id-6240f845bd0d176f048f1facd54d966d847a1f63f8a2849dd1f1a3c8950bbe10\">\n",
       "<div class=\"view-header\">\n",
       "<a href=\"/indicateurs\">Voir tous les indicateurs</a>\n",
       "</div>\n",
       "<div class=\"view-filters\">\n",
       "<form accept-charset=\"UTF-8\" action=\"/indicateurs\" class=\"views-exposed-form bef-exposed-form\" data-bef-auto-submit=\"\" data-bef-auto-submit-delay=\"500\" data-bef-auto-submit-full-form=\"\" data-drupal-selector=\"views-exposed-form-indicateurs-par-themes-block-1\" id=\"views-exposed-form-indicateurs-par-themes-block-1\" method=\"get\">\n",
       "<div class=\"form-row\">\n",
       "<fieldset class=\"fieldgroup form-composite js-form-item form-item js-form-wrapper form-group\" data-drupal-selector=\"edit-title\" id=\"edit-title--wrapper\">\n",
       "<legend>\n",
       "<span class=\"fieldset-legend\"></span>\n",
       "</legend>\n",
       "<div class=\"fieldset-wrapper\">\n",
       "<div class=\"radio\" id=\"edit-title\"><div class=\"form-radios form--inline\">\n",
       "<div class=\"js-form-item js-form-type-radio radio form-check js-form-item-title form-item-title\">\n",
       "<label class=\"form-check-label\">\n",
       "<input class=\"form-radio form-check-input\" data-drupal-selector=\"edit-title-all\" id=\"edit-title-all\" name=\"title\" type=\"radio\" value=\"All\"/>\n",
       "               <label class=\"option\" for=\"edit-title-all\">- Tout -</label>\n",
       "</label>\n",
       "</div>\n",
       "<div class=\"js-form-item js-form-type-radio radio form-check js-form-item-title form-item-title\">\n",
       "<label class=\"form-check-label\">\n",
       "<input checked=\"checked\" class=\"form-radio form-check-input\" data-drupal-selector=\"edit-title-1\" id=\"edit-title-1\" name=\"title\" type=\"radio\" value=\"1\"/>\n",
       "               <label class=\"option\" for=\"edit-title-1\">PIB (trimestriel) à prix constant CVS</label>\n",
       "</label>\n",
       "</div>\n",
       "<div class=\"js-form-item js-form-type-radio radio form-check js-form-item-title form-item-title\">\n",
       "<label class=\"form-check-label\">\n",
       "<input class=\"form-radio form-check-input\" data-drupal-selector=\"edit-title-2\" id=\"edit-title-2\" name=\"title\" type=\"radio\" value=\"2\"/>\n",
       "               <label class=\"option\" for=\"edit-title-2\">Production industrielle</label>\n",
       "</label>\n",
       "</div>\n",
       "<div class=\"js-form-item js-form-type-radio radio form-check js-form-item-title form-item-title\">\n",
       "<label class=\"form-check-label\">\n",
       "<input class=\"form-radio form-check-input\" data-drupal-selector=\"edit-title-3\" id=\"edit-title-3\" name=\"title\" type=\"radio\" value=\"3\"/>\n",
       "               <label class=\"option\" for=\"edit-title-3\">Indice des prix à la Consommation</label>\n",
       "</label>\n",
       "</div>\n",
       "<div class=\"js-form-item js-form-type-radio radio form-check js-form-item-title form-item-title\">\n",
       "<label class=\"form-check-label\">\n",
       "<input class=\"form-radio form-check-input\" data-drupal-selector=\"edit-title-4\" id=\"edit-title-4\" name=\"title\" type=\"radio\" value=\"4\"/>\n",
       "               <label class=\"option\" for=\"edit-title-4\">Commerce extérieur</label>\n",
       "</label>\n",
       "</div>\n",
       "</div>\n",
       "</div>\n",
       "</div>\n",
       "</fieldset>\n",
       "<div class=\"form-actions js-form-wrapper form-group\" data-drupal-selector=\"edit-actions\" id=\"edit-actions--3\"><button class=\"js-hide button js-form-submit form-submit btn btn-primary\" data-bef-auto-submit-click=\"\" data-drupal-selector=\"edit-submit-indicateurs-par-themes\" id=\"edit-submit-indicateurs-par-themes\" type=\"submit\" value=\"Apply\">Apply</button>\n",
       "</div>\n",
       "</div>\n",
       "</form>\n",
       "</div>\n",
       "<div class=\"view-content\">\n",
       "<div class=\"views-row\">\n",
       "<div class=\"views-field views-field-field-iframe-graphe\"><div class=\"field-content\"><iframe frameborder=\"0\" scrolling=\"no\" src=\"//nso-senegal.opendataforafrica.org/resource/embed/yhvrtod/first\" style=\"height:290px; width:905px;\"></iframe></div></div>\n",
       "</div>\n",
       "</div>\n",
       "</div>\n",
       "</div>\n",
       "</div>\n",
       "</div>\n",
       "</div>\n",
       "</div>\n",
       "</div></div><div class=\"_none vlb-section\"><div class=\"container\">\n",
       "<div class=\"layout row layout-builder__layout\">\n",
       "<div class=\"col-12\">\n",
       "<div class=\"views-element-container _none block block-views block-views-blockenquetes-et-etudes-block-1\" data-aos=\"_none\">\n",
       "<h2>ENQUETES &amp; ETUDES</h2>\n",
       "<div class=\"content\">\n",
       "<div><div class=\"view view-enquetes-et-etudes view-id-enquetes_et_etudes view-display-id-block_1 js-view-dom-id-7cf4d4cecc24858e3e2f3a14cc327d3938ac0cf4cf4bab4ba282eb695bdb23be\">\n",
       "<div class=\"view-header\">\n",
       "<a href=\"/enquete\">Voir tout</a>\n",
       "</div>\n",
       "<div class=\"view-filters\">\n",
       "<form accept-charset=\"UTF-8\" action=\"/enquetes%26etudes\" class=\"views-exposed-form bef-exposed-form\" data-bef-auto-submit=\"\" data-bef-auto-submit-delay=\"500\" data-bef-auto-submit-full-form=\"\" data-drupal-selector=\"views-exposed-form-enquetes-et-etudes-block-1\" id=\"views-exposed-form-enquetes-et-etudes-block-1\" method=\"get\">\n",
       "<div class=\"form-row\">\n",
       "<fieldset class=\"fieldgroup form-composite js-form-item form-item js-form-wrapper form-group\" data-drupal-selector=\"edit-field-etat-de-l-enquete-value\" id=\"edit-field-etat-de-l-enquete-value--wrapper\">\n",
       "<legend>\n",
       "<span class=\"fieldset-legend\"></span>\n",
       "</legend>\n",
       "<div class=\"fieldset-wrapper\">\n",
       "<div class=\"radio\" id=\"edit-field-etat-de-l-enquete-value\"><div class=\"form-radios form--inline\">\n",
       "<div class=\"js-form-item js-form-type-radio radio form-check js-form-item-field-etat-de-l-enquete-value form-item-field-etat-de-l-enquete-value\">\n",
       "<label class=\"form-check-label\">\n",
       "<input class=\"form-radio form-check-input\" data-drupal-selector=\"edit-field-etat-de-l-enquete-value-all\" id=\"edit-field-etat-de-l-enquete-value-all\" name=\"field_etat_de_l_enquete_value\" type=\"radio\" value=\"All\"/>\n",
       "               <label class=\"option\" for=\"edit-field-etat-de-l-enquete-value-all\">- Tout -</label>\n",
       "</label>\n",
       "</div>\n",
       "<div class=\"js-form-item js-form-type-radio radio form-check js-form-item-field-etat-de-l-enquete-value form-item-field-etat-de-l-enquete-value\">\n",
       "<label class=\"form-check-label\">\n",
       "<input checked=\"checked\" class=\"form-radio form-check-input\" data-drupal-selector=\"edit-field-etat-de-l-enquete-value-1\" id=\"edit-field-etat-de-l-enquete-value-1\" name=\"field_etat_de_l_enquete_value\" type=\"radio\" value=\"1\"/>\n",
       "               <label class=\"option\" for=\"edit-field-etat-de-l-enquete-value-1\">Enquêtes en cours</label>\n",
       "</label>\n",
       "</div>\n",
       "<div class=\"js-form-item js-form-type-radio radio form-check js-form-item-field-etat-de-l-enquete-value form-item-field-etat-de-l-enquete-value\">\n",
       "<label class=\"form-check-label\">\n",
       "<input class=\"form-radio form-check-input\" data-drupal-selector=\"edit-field-etat-de-l-enquete-value-2\" id=\"edit-field-etat-de-l-enquete-value-2\" name=\"field_etat_de_l_enquete_value\" type=\"radio\" value=\"2\"/>\n",
       "               <label class=\"option\" for=\"edit-field-etat-de-l-enquete-value-2\">Enquêtes réalisées</label>\n",
       "</label>\n",
       "</div>\n",
       "</div>\n",
       "</div>\n",
       "</div>\n",
       "</fieldset>\n",
       "<div class=\"form-actions js-form-wrapper form-group\" data-drupal-selector=\"edit-actions\" id=\"edit-actions--4\"><button class=\"js-hide button js-form-submit form-submit btn btn-primary\" data-bef-auto-submit-click=\"\" data-drupal-selector=\"edit-submit-enquetes-et-etudes\" id=\"edit-submit-enquetes-et-etudes\" type=\"submit\" value=\"Appliquer\">Appliquer</button>\n",
       "</div>\n",
       "</div>\n",
       "</form>\n",
       "</div>\n",
       "<div class=\"view-content\">\n",
       "<div class=\"grid views-view-grid\" id=\"views-bootstrap-enquetes-et-etudes-block-1\">\n",
       "<div class=\"row\">\n",
       "<div class=\"col-12 col-sm-12 col-md-6 col-lg-6 col-xl-6 col-6\">\n",
       "<div class=\"views-field views-field-nothing\"><span class=\"field-content\"> <div class=\"etude-item\">\n",
       "<div class=\"etude-item-content\">\n",
       "<h3><a href=\"/enquete-et-etude/enquete-sur-le-commerce-informel-transfrontalier-cit\" hreflang=\"fr\">Enquête sur le commerce informel transfrontalier (CIT)</a></h3>\n",
       "<h3>Enquête sur le commerce informel transfrontalier (CIT)</h3>\n",
       "<span><time class=\"datetime\" datetime=\"00Z\">2024</time>\n",
       "</span>\n",
       "<p class=\"en-savoir-plus\"><a class=\"voir-plus\" href=\"/enquete-et-etude/enquete-sur-le-commerce-informel-transfrontalier-cit\"> En savoir plus <i class=\"fa fa-solid fa-arrow-right\"></i></a></p>\n",
       "<div class=\"lien-access-data\">\n",
       "<p class=\"lien-access\"><a href=\"\" target=\"_blank\">Télécharger le rapport<i class=\"fa fa-solid fa-arrow-right\"> </i> </a></p>\n",
       "<p class=\"lien-access\"><a href=\"\" target=\"_blank\">Accéder aux microdonnées<i class=\"fa fa-solid fa-arrow-right\"> </i></a></p>\n",
       "</div>\n",
       "</div>\n",
       "<div class=\"etude-item-img\">\n",
       "</div>\n",
       "</div></span></div>\n",
       "</div>\n",
       "<div class=\"col-12 col-sm-12 col-md-6 col-lg-6 col-xl-6 col-6\">\n",
       "<div class=\"views-field views-field-nothing\"><span class=\"field-content\"> <div class=\"etude-item\">\n",
       "<div class=\"etude-item-content\">\n",
       "<h3><a href=\"/enquete-et-etude/enquete-nationale-sur-les-unites-de-production-informelles-enupis-ii\" hreflang=\"fr\">Enquête nationale sur les Unités de Production Informelles (ENUPIS II)</a></h3>\n",
       "<h3>Enquête nationale sur les Unités de Production Informelles (ENUPIS II)</h3>\n",
       "<span><time class=\"datetime\" datetime=\"00Z\">2023</time>\n",
       "</span>\n",
       "<p class=\"en-savoir-plus\"><a class=\"voir-plus\" href=\"/enquete-et-etude/enquete-nationale-sur-les-unites-de-production-informelles-enupis-ii\"> En savoir plus <i class=\"fa fa-solid fa-arrow-right\"></i></a></p>\n",
       "<div class=\"lien-access-data\">\n",
       "<p class=\"lien-access\"><a href=\"\" target=\"_blank\">Télécharger le rapport<i class=\"fa fa-solid fa-arrow-right\"> </i> </a></p>\n",
       "<p class=\"lien-access\"><a href=\"\" target=\"_blank\">Accéder aux microdonnées<i class=\"fa fa-solid fa-arrow-right\"> </i></a></p>\n",
       "</div>\n",
       "</div>\n",
       "<div class=\"etude-item-img\">\n",
       "</div>\n",
       "</div></span></div>\n",
       "</div>\n",
       "<div class=\"col-12 col-sm-12 col-md-6 col-lg-6 col-xl-6 col-6\">\n",
       "<div class=\"views-field views-field-nothing\"><span class=\"field-content\"> <div class=\"etude-item\">\n",
       "<div class=\"etude-item-content\">\n",
       "<h3><a href=\"/enquete-et-etude/enquete-de-mise-jour-du-cuci\" hreflang=\"fr\">Enquête de mise à jour du CUCI</a></h3>\n",
       "<h3>Enquête de mise à jour du CUCI</h3>\n",
       "<span><time class=\"datetime\" datetime=\"00Z\">2023</time>\n",
       "</span>\n",
       "<p class=\"en-savoir-plus\"><a class=\"voir-plus\" href=\"/enquete-et-etude/enquete-de-mise-jour-du-cuci\"> En savoir plus <i class=\"fa fa-solid fa-arrow-right\"></i></a></p>\n",
       "<div class=\"lien-access-data\">\n",
       "<p class=\"lien-access\"><a href=\"\" target=\"_blank\">Télécharger le rapport<i class=\"fa fa-solid fa-arrow-right\"> </i> </a></p>\n",
       "<p class=\"lien-access\"><a href=\"\" target=\"_blank\">Accéder aux microdonnées<i class=\"fa fa-solid fa-arrow-right\"> </i></a></p>\n",
       "</div>\n",
       "</div>\n",
       "<div class=\"etude-item-img\">\n",
       "</div>\n",
       "</div></span></div>\n",
       "</div>\n",
       "<div class=\"col-12 col-sm-12 col-md-6 col-lg-6 col-xl-6 col-6\">\n",
       "<div class=\"views-field views-field-nothing\"><span class=\"field-content\"> <div class=\"etude-item\">\n",
       "<div class=\"etude-item-content\">\n",
       "<h3><a href=\"/enquete-et-etude/enquete-nationale-de-reference-sur-les-violences-faites-aux-femmes-enr-vff-0\" hreflang=\"fr\">Enquête nationale de Référence sur les violences Faites aux Femmes (ENR-VFF)</a></h3>\n",
       "<h3>Enquête nationale de Référence sur les violences Faites aux Femmes (ENR-VFF)</h3>\n",
       "<span><time class=\"datetime\" datetime=\"00Z\">2023</time>\n",
       "</span>\n",
       "<p class=\"en-savoir-plus\"><a class=\"voir-plus\" href=\"/enquete-et-etude/enquete-nationale-de-reference-sur-les-violences-faites-aux-femmes-enr-vff-0\"> En savoir plus <i class=\"fa fa-solid fa-arrow-right\"></i></a></p>\n",
       "<div class=\"lien-access-data\">\n",
       "<p class=\"lien-access\"><a href=\"\" target=\"_blank\">Télécharger le rapport<i class=\"fa fa-solid fa-arrow-right\"> </i> </a></p>\n",
       "<p class=\"lien-access\"><a href=\"\" target=\"_blank\">Accéder aux microdonnées<i class=\"fa fa-solid fa-arrow-right\"> </i></a></p>\n",
       "</div>\n",
       "</div>\n",
       "<div class=\"etude-item-img\">\n",
       "</div>\n",
       "</div></span></div>\n",
       "</div>\n",
       "</div>\n",
       "</div>\n",
       "</div>\n",
       "</div>\n",
       "</div>\n",
       "</div>\n",
       "</div>\n",
       "</div>\n",
       "</div>\n",
       "</div></div><div class=\"bg-edge2edge acces-bd bg-image _none vlb-section\" style=\"background-image: url(/sites/default/files/2022-02/Groupe%20160419_5.png); background-position: center; background-repeat: no-repeat; background-size: cover;\"><div class=\"bg-edge2edge no-container\">\n",
       "<div class=\"layout row no-gutters gx-0 layout-builder__layout\">\n",
       "<div class=\"col-12\">\n",
       "<div class=\"views-element-container _none block block-views block-views-blockacces-aux-base-de-donnes-block-1\" data-aos=\"_none\">\n",
       "<h2>Accès aux bases de données</h2>\n",
       "<div class=\"content\">\n",
       "<div><div class=\"view view-acces-aux-base-de-donnes view-id-acces_aux_base_de_donnes view-display-id-block_1 js-view-dom-id-d1195d0c9d75461d6aee1fe2464242bf365624b977d0a6d687f6b86e410fb317\">\n",
       "<div class=\"view-content\">\n",
       "<div class=\"grid views-view-grid\" id=\"views-bootstrap-acces-aux-base-de-donnes-block-1\">\n",
       "<div class=\"row\">\n",
       "<div class=\"col-2 col-sm-2 col-md-4 col-lg-4 col-xl-4 col-4\">\n",
       "<div class=\"views-field views-field-nothing\"><span class=\"field-content\"> <div class=\"bd-item\">\n",
       "<div class=\"bd-item-content\">\n",
       "<h5>Archivage National des  Données du Sénégal</h5>\n",
       "<a href=\"https://anads.ansd.sn/index.php/home\" target=\"_blank\"> Voir plus <i class=\"fa fa-solid fa-arrow-right\"></i></a>\n",
       "</div>\n",
       "<div class=\"bd-item-img\">\n",
       "<img alt=\"\" class=\"img-fluid\" height=\"720\" loading=\"lazy\" src=\"/sites/default/files/2022-12/anads-rev.png\" typeof=\"Image\" width=\"960\"/>\n",
       "</div>\n",
       "</div></span></div>\n",
       "</div>\n",
       "<div class=\"col-2 col-sm-2 col-md-4 col-lg-4 col-xl-4 col-4\">\n",
       "<div class=\"views-field views-field-nothing\"><span class=\"field-content\"> <div class=\"bd-item\">\n",
       "<div class=\"bd-item-content\">\n",
       "<h5>Plateforme Open Data</h5>\n",
       "<a href=\"https://senegal.opendataforafrica.org/\" target=\"_blank\"> Voir plus <i class=\"fa fa-solid fa-arrow-right\"></i></a>\n",
       "</div>\n",
       "<div class=\"bd-item-img\">\n",
       "<img alt=\"\" class=\"img-fluid\" height=\"600\" loading=\"lazy\" src=\"/sites/default/files/2022-12/odp-rev.png\" typeof=\"Image\" width=\"800\"/>\n",
       "</div>\n",
       "</div></span></div>\n",
       "</div>\n",
       "<div class=\"col-2 col-sm-2 col-md-4 col-lg-4 col-xl-4 col-4\">\n",
       "<div class=\"views-field views-field-nothing\"><span class=\"field-content\"> <div class=\"bd-item\">\n",
       "<div class=\"bd-item-content\">\n",
       "<h5>Annuaire statistique  du Sénégal</h5>\n",
       "<a href=\"https://annuaire.ansd.sn\" target=\"_blank\"> Voir plus <i class=\"fa fa-solid fa-arrow-right\"></i></a>\n",
       "</div>\n",
       "<div class=\"bd-item-img\">\n",
       "<img alt=\"\" class=\"img-fluid\" height=\"605\" loading=\"lazy\" src=\"/sites/default/files/2022-12/annuaire-stat-rev.jpg\" typeof=\"Image\" width=\"805\"/>\n",
       "</div>\n",
       "</div></span></div>\n",
       "</div>\n",
       "<div class=\"col-2 col-sm-2 col-md-4 col-lg-4 col-xl-4 col-4\">\n",
       "<div class=\"views-field views-field-nothing\"><span class=\"field-content\"> <div class=\"bd-item\">\n",
       "<div class=\"bd-item-content\">\n",
       "<h5>Page Nationale  Récapitulative des Données</h5>\n",
       "<a href=\"https://nso-senegal.opendataforafrica.org/rarkwmf/page-nationale-r%C3%A9capitulative-des-donn%C3%A9es-pnrd\" target=\"_blank\"> Voir plus <i class=\"fa fa-solid fa-arrow-right\"></i></a>\n",
       "</div>\n",
       "<div class=\"bd-item-img\">\n",
       "<img alt=\"\" class=\"img-fluid\" height=\"605\" loading=\"lazy\" src=\"/sites/default/files/2022-12/pnrd.jpg\" typeof=\"Image\" width=\"805\"/>\n",
       "</div>\n",
       "</div></span></div>\n",
       "</div>\n",
       "<div class=\"col-2 col-sm-2 col-md-4 col-lg-4 col-xl-4 col-4\">\n",
       "<div class=\"views-field views-field-nothing\"><span class=\"field-content\"> <div class=\"bd-item\">\n",
       "<div class=\"bd-item-content\">\n",
       "<h5>Plateforme de métadonnées axées sur le genre</h5>\n",
       "<a href=\"https://womencount.ansd.sn/\" target=\"_blank\"> Voir plus <i class=\"fa fa-solid fa-arrow-right\"></i></a>\n",
       "</div>\n",
       "<div class=\"bd-item-img\">\n",
       "<img alt=\"\" class=\"img-fluid\" height=\"289\" loading=\"lazy\" src=\"/sites/default/files/2023-03/womencount.png\" typeof=\"Image\" width=\"413\"/>\n",
       "</div>\n",
       "</div></span></div>\n",
       "</div>\n",
       "<div class=\"col-2 col-sm-2 col-md-4 col-lg-4 col-xl-4 col-4\">\n",
       "<div class=\"views-field views-field-nothing\"><span class=\"field-content\"> <div class=\"bd-item\">\n",
       "<div class=\"bd-item-content\">\n",
       "<h5>Outil de consultation du Répertoire des localités</h5>\n",
       "<a href=\"http://lod.ansd.sn:8080/searching/after/index.jsp\" target=\"_blank\"> Voir plus <i class=\"fa fa-solid fa-arrow-right\"></i></a>\n",
       "</div>\n",
       "<div class=\"bd-item-img\">\n",
       "<img alt=\"\" class=\"img-fluid\" height=\"198\" loading=\"lazy\" src=\"/sites/default/files/2022-12/LOD-local-rev%2B.png\" typeof=\"Image\" width=\"250\"/>\n",
       "</div>\n",
       "</div></span></div>\n",
       "</div>\n",
       "<div class=\"col-2 col-sm-2 col-md-4 col-lg-4 col-xl-4 col-4\">\n",
       "<div class=\"views-field views-field-nothing\"><span class=\"field-content\"> <div class=\"bd-item\">\n",
       "<div class=\"bd-item-content\">\n",
       "<h5>Système d'Information Géographique…</h5>\n",
       "<a href=\"http://sigstat.ansd.sn/\" target=\"_blank\"> Voir plus <i class=\"fa fa-solid fa-arrow-right\"></i></a>\n",
       "</div>\n",
       "<div class=\"bd-item-img\">\n",
       "<img alt=\"\" class=\"img-fluid\" height=\"145\" loading=\"lazy\" src=\"/sites/default/files/2022-12/sig-stat-rev.jpg\" typeof=\"Image\" width=\"189\"/>\n",
       "</div>\n",
       "</div></span></div>\n",
       "</div>\n",
       "</div>\n",
       "</div>\n",
       "</div>\n",
       "<div class=\"view-footer\">\n",
       "<!--<a href=\"/bases-de-donnees\">Voir toutes les bases de données</a>-->\n",
       "</div>\n",
       "</div>\n",
       "</div>\n",
       "</div>\n",
       "</div>\n",
       "</div>\n",
       "</div>\n",
       "</div></div><div class=\"_none vlb-section\"><div class=\"no-container\">\n",
       "<div class=\"layout row no-gutters gx-0 layout-builder__layout\">\n",
       "<div class=\"col-12\">\n",
       "<div class=\"_none block block-layout-builder block-extra-field-blocknodelanding-page-lbcontent-moderation-control\">\n",
       "<div class=\"content\">\n",
       "</div>\n",
       "</div>\n",
       "</div>\n",
       "</div>\n",
       "</div></div>\n",
       "</div>\n",
       "</article>\n",
       "</div>\n",
       "</div>\n",
       "</section>\n",
       "</div>\n",
       "</div>\n",
       "<div class=\"container-fluid newsletter-bloc\">\n",
       "<section class=\"row region region-newsletter\">\n",
       "<div class=\"webform-submission-form webform-submission-add-form webform-submission-newsletter-form webform-submission-newsletter-add-form webform-submission-newsletter-search_page-node_search-form webform-submission-newsletter-search_page-node_search-add-form webform-submission-newsletter-search-page-node-search-add-form js-webform-details-toggle webform-details-toggle settings-tray-editable block block-entity-block block-entity-blockwebform\" data-drupal-selector=\"webform-submission-newsletter-search-page-node-search-add-form\" data-drupal-settingstray=\"editable\" id=\"block-webform\">\n",
       "<div class=\"content\">\n",
       "<form accept-charset=\"UTF-8\" action=\"/\" id=\"webform-submission-newsletter-search-page-node-search-add-form\" method=\"post\">\n",
       "<fieldset class=\"js-form-item js-form-type-select form-type-select js-form-item-groupe form-item-groupe form-no-label form-group\">\n",
       "<label class=\"sr-only\" for=\"edit-groupe\">Groupe</label>\n",
       "<select class=\"form-select form-control\" data-drupal-selector=\"edit-groupe\" id=\"edit-groupe\" name=\"groupe\"><option selected=\"selected\" value=\"\">- Aucun(e) -</option><option value=\"Corps diplomatiques\">Corps diplomatiques</option><option value=\"Organismes internationaux\">Organismes internationaux</option><option value=\"Presse\">Presse</option><option value=\"Associations et ONG\">Associations et ONG</option><option value=\"Chercheurs et universitaires\">Chercheurs et universitaires</option><option value=\"Eleves et étudiants\">Eleves et etudiants</option><option value=\"Administration\">Administration</option><option value=\"Banques et assurances\">Banques et assurances</option><option value=\"Cabinet de consultance\">Cabinet de consultance</option><option value=\"Autres  sociétés privées\">Autres  sociétés privées</option><option value=\"Particuliers\">Particuliers</option></select>\n",
       "</fieldset>\n",
       "<fieldset class=\"js-form-item js-form-type-textfield form-type-textfield js-form-item-nom-et-prenom form-item-nom-et-prenom form-no-label form-group\">\n",
       "<label class=\"sr-only\" for=\"edit-nom-et-prenom\">Nom et prénom</label>\n",
       "<input class=\"form-control\" data-drupal-selector=\"edit-nom-et-prenom\" id=\"edit-nom-et-prenom\" maxlength=\"255\" name=\"nom_et_prenom\" placeholder=\"Nom et prénom\" size=\"60\" type=\"text\" value=\"\">\n",
       "</input></fieldset>\n",
       "<fieldset class=\"js-form-item js-form-type-email form-type-email js-form-item-email form-item-email form-no-label form-group\">\n",
       "<label class=\"sr-only\" for=\"edit-email\">Email</label>\n",
       "<input class=\"form-email form-control\" data-drupal-selector=\"edit-email\" id=\"edit-email\" maxlength=\"254\" name=\"email\" placeholder=\"Email\" size=\"60\" type=\"email\" value=\"\">\n",
       "</input></fieldset>\n",
       "<div class=\"form-actions webform-actions js-form-wrapper form-group\" data-drupal-selector=\"edit-actions\" id=\"edit-actions--2\"><button class=\"webform-button--submit button button--primary js-form-submit form-submit btn btn-primary\" data-drupal-selector=\"edit-actions-submit\" id=\"edit-actions-submit\" name=\"op\" type=\"submit\" value=\"S'abonner\">S'abonner</button>\n",
       "</div>\n",
       "<input autocomplete=\"off\" class=\"form-control\" data-drupal-selector=\"form-ztvwctyj51bfq2u55tiqrumwcxzxmh32vyczoic6rmk\" name=\"form_build_id\" type=\"hidden\" value=\"form-ZtVwcTyJ51BFQ2U55TIqruMwCxzxMh32vycZOIc6rMk\">\n",
       "<input class=\"form-control\" data-drupal-selector=\"edit-webform-submission-newsletter-search-page-node-search-add-form\" name=\"form_id\" type=\"hidden\" value=\"webform_submission_newsletter_search_page_node_search_add_form\">\n",
       "</input></input></form>\n",
       "</div>\n",
       "</div>\n",
       "<div class=\"settings-tray-editable block block-block-content block-block-content4c320979-24a2-4c91-9522-5cbf070e06ef\" data-drupal-settingstray=\"editable\" id=\"block-imagenewsletter\">\n",
       "<div>\n",
       "<div class=\"blazy blazy--field blazy--field-media-image blazy--field-media-image--large field field--name-field-media-image field--type-image field--label-hidden field__item\" data-blazy=\"\">\n",
       "<div class=\"media media--blazy media--image media--responsive is-b-loading\"> <picture>\n",
       "<source data-srcset=\"/sites/default/files/styles/d08/public/2022-03/shutterstock_1840534189.webp?itok=xxtq4S5R 1x\" media=\"all and (max-width: 767.98px)\" srcset=\"\" type=\"image/webp\"/>\n",
       "<source data-srcset=\"/sites/default/files/styles/d10/public/2022-03/shutterstock_1840534189.webp?itok=EkCbYEL0 1x\" media=\"all and (min-width: 768px)\" srcset=\"\" type=\"image/webp\"/>\n",
       "<source data-srcset=\"/sites/default/files/styles/d12/public/2022-03/shutterstock_1840534189.webp?itok=FM4NoJ3L 1x\" media=\"all and (min-width: 992px)\" srcset=\"\" type=\"image/webp\"/>\n",
       "<source data-srcset=\"/sites/default/files/styles/d08/public/2022-03/shutterstock_1840534189.png?itok=xxtq4S5R 1x\" media=\"all and (max-width: 767.98px)\" srcset=\"\" type=\"image/png\"/>\n",
       "<source data-srcset=\"/sites/default/files/styles/d10/public/2022-03/shutterstock_1840534189.png?itok=EkCbYEL0 1x\" media=\"all and (min-width: 768px)\" srcset=\"\" type=\"image/png\"/>\n",
       "<source data-srcset=\"/sites/default/files/styles/d12/public/2022-03/shutterstock_1840534189.png?itok=FM4NoJ3L 1x\" media=\"all and (min-width: 992px)\" srcset=\"\" type=\"image/png\"/>\n",
       "<img alt=\"flash stat\" class=\"media__image media__element b-lazy b-responsive img-fluid\" data-src=\"/sites/default/files/2022-03/shutterstock_1840534189.png\" decoding=\"async\" loading=\"lazy\" src=\"data:image/svg+xml;charset=utf-8,%3Csvg%20xmlns%3D'http%3A%2F%2Fwww.w3.org%2F2000%2Fsvg'%20viewBox%3D'0%200%201%201'%2F%3E\" typeof=\"foaf:Image\"/>\n",
       "</picture>\n",
       "</div>\n",
       "</div>\n",
       "</div>\n",
       "</div>\n",
       "</section>\n",
       "</div>\n",
       "<div class=\"container\">\n",
       "<section class=\"row region region-bottom-navigation\">\n",
       "<nav aria-labelledby=\"block-menubasdepage-menu\" class=\"settings-tray-editable block block-menu navigation menu--menu-bas-de-page\" data-drupal-settingstray=\"editable\" id=\"block-menubasdepage\" role=\"navigation\">\n",
       "<h2 class=\"sr-only\" id=\"block-menubasdepage-menu\">Menu bas de page</h2>\n",
       "<ul class=\"clearfix nav\">\n",
       "<li class=\"nav-item menu-item--expanded\">\n",
       "<a class=\"nav-link\" data-drupal-link-system-path=\"taxonomy/term/1\" href=\"/theme/economie\">Economie</a>\n",
       "<ul class=\"menu\">\n",
       "<li class=\"nav-item\">\n",
       "<a class=\"nav-link\" data-drupal-link-query='{\"field_type_indicateurs_target_id\":\"20\"}' data-drupal-link-system-path=\"taxonomy/term/1\" href=\"/theme/economie?field_type_indicateurs_target_id=20\">Croissance économique</a>\n",
       "</li>\n",
       "<li class=\"nav-item\">\n",
       "<a class=\"nav-link\" data-drupal-link-query='{\"field_type_indicateurs_target_id\":\"21\"}' data-drupal-link-system-path=\"taxonomy/term/1\" href=\"/theme/economie?field_type_indicateurs_target_id=21\">Prix</a>\n",
       "</li>\n",
       "<li class=\"nav-item\">\n",
       "<a class=\"nav-link\" data-drupal-link-query='{\"field_type_indicateurs_target_id\":\"23\"}' data-drupal-link-system-path=\"taxonomy/term/1\" href=\"/theme/economie?field_type_indicateurs_target_id=23\">Statistiques d'entreprise</a>\n",
       "</li>\n",
       "<li class=\"nav-item\">\n",
       "<a class=\"nav-link\" data-drupal-link-query='{\"field_type_indicateurs_target_id\":\"22\"}' data-drupal-link-system-path=\"taxonomy/term/1\" href=\"/theme/economie?field_type_indicateurs_target_id=22\">Echanges extérieurs</a>\n",
       "</li>\n",
       "<li class=\"nav-item\">\n",
       "<a class=\"nav-link\" data-drupal-link-query='{\"field_type_indicateurs_target_id\":\"24\"}' data-drupal-link-system-path=\"taxonomy/term/1\" href=\"/theme/economie?field_type_indicateurs_target_id=24\">Synthèses économiques</a>\n",
       "</li>\n",
       "</ul>\n",
       "</li>\n",
       "<li class=\"nav-item menu-item--expanded\">\n",
       "<a class=\"nav-link\" data-drupal-link-system-path=\"taxonomy/term/2\" href=\"/theme/demographie\">Démographie</a>\n",
       "<ul class=\"menu\">\n",
       "<li class=\"nav-item\">\n",
       "<a class=\"nav-link\" data-drupal-link-query='{\"field_type_indicateurs_target_id\":\"25\"}' data-drupal-link-system-path=\"taxonomy/term/2\" href=\"/theme/demographie?field_type_indicateurs_target_id=25\">Population</a>\n",
       "</li>\n",
       "<li class=\"nav-item\">\n",
       "<a class=\"nav-link\" data-drupal-link-query='{\"field_type_indicateurs_target_id\":\"26\"}' data-drupal-link-system-path=\"taxonomy/term/2\" href=\"/theme/demographie?field_type_indicateurs_target_id=26\">Natalité</a>\n",
       "</li>\n",
       "<li class=\"nav-item\">\n",
       "<a class=\"nav-link\" data-drupal-link-query='{\"field_type_indicateurs_target_id\":\"28\"}' data-drupal-link-system-path=\"taxonomy/term/2\" href=\"/theme/demographie?field_type_indicateurs_target_id=28\">Mortalité</a>\n",
       "</li>\n",
       "<li class=\"nav-item\">\n",
       "<a class=\"nav-link\" data-drupal-link-query='{\"field_type_indicateurs_target_id\":\"27\"}' data-drupal-link-system-path=\"taxonomy/term/2\" href=\"/theme/demographie?field_type_indicateurs_target_id=27\">Fécondité</a>\n",
       "</li>\n",
       "<li class=\"nav-item\">\n",
       "<a class=\"nav-link\" data-drupal-link-query='{\"field_type_indicateurs_target_id\":\"30\"}' data-drupal-link-system-path=\"taxonomy/term/2\" href=\"/theme/demographie?field_type_indicateurs_target_id=30\">Migration</a>\n",
       "</li>\n",
       "</ul>\n",
       "</li>\n",
       "<li class=\"nav-item menu-item--expanded\">\n",
       "<a class=\"nav-link\" data-drupal-link-system-path=\"taxonomy/term/3\" href=\"/theme/societe\">Société</a>\n",
       "<ul class=\"menu\">\n",
       "<li class=\"nav-item\">\n",
       "<a class=\"nav-link\" data-drupal-link-query='{\"field_type_indicateurs_target_id\":\"32\"}' data-drupal-link-system-path=\"taxonomy/term/3\" href=\"/theme/societe?field_type_indicateurs_target_id=32\">Santé</a>\n",
       "</li>\n",
       "<li class=\"nav-item\">\n",
       "<a class=\"nav-link\" data-drupal-link-query='{\"field_type_indicateurs_target_id\":\"29\"}' data-drupal-link-system-path=\"taxonomy/term/3\" href=\"/theme/societe?field_type_indicateurs_target_id=29\">Pauvreté et conditions de vie</a>\n",
       "</li>\n",
       "<li class=\"nav-item\">\n",
       "<a class=\"nav-link\" data-drupal-link-query='{\"field_type_indicateurs_target_id\":\"36\"}' data-drupal-link-system-path=\"taxonomy/term/3\" href=\"/theme/societe?field_type_indicateurs_target_id=36\">Justice</a>\n",
       "</li>\n",
       "<li class=\"nav-item\">\n",
       "<a class=\"nav-link\" data-drupal-link-query='{\"field_type_indicateurs_target_id\":\"34\"}' data-drupal-link-system-path=\"taxonomy/term/3\" href=\"/theme/societe?field_type_indicateurs_target_id=34\">Habitat et cadre de vie</a>\n",
       "</li>\n",
       "<li class=\"nav-item\">\n",
       "<a class=\"nav-link\" data-drupal-link-query='{\"field_type_indicateurs_target_id\":\"31\"}' data-drupal-link-system-path=\"taxonomy/term/3\" href=\"/theme/societe?field_type_indicateurs_target_id=31\">Emploi et travail</a>\n",
       "</li>\n",
       "<li class=\"nav-item\">\n",
       "<a class=\"nav-link\" data-drupal-link-query='{\"field_type_indicateurs_target_id\":\"33\"}' data-drupal-link-system-path=\"taxonomy/term/3\" href=\"/theme/societe?field_type_indicateurs_target_id=33\">Education</a>\n",
       "</li>\n",
       "<li class=\"nav-item\">\n",
       "<a class=\"nav-link\" data-drupal-link-query='{\"field_type_indicateurs_target_id\":\"35\"}' data-drupal-link-system-path=\"taxonomy/term/3\" href=\"/theme/societe?field_type_indicateurs_target_id=35\">Genre et équité</a>\n",
       "</li>\n",
       "</ul>\n",
       "</li>\n",
       "<li class=\"nav-item menu-item--expanded\">\n",
       "<a class=\"nav-link\" data-drupal-link-system-path=\"taxonomy/term/39\" href=\"/theme/autres-statistiques\">Autres statistiques</a>\n",
       "<ul class=\"menu\">\n",
       "<li class=\"nav-item\">\n",
       "<a class=\"nav-link\" data-drupal-link-query='{\"field_type_indicateurs_target_id\":\"41\"}' data-drupal-link-system-path=\"taxonomy/term/39\" href=\"/theme/autres-statistiques?field_type_indicateurs_target_id=41\">Agriculture</a>\n",
       "</li>\n",
       "<li class=\"nav-item\">\n",
       "<a class=\"nav-link\" data-drupal-link-query='{\"field_type_indicateurs_target_id\":\"45\"}' data-drupal-link-system-path=\"taxonomy/term/39\" href=\"/theme/autres-statistiques?field_type_indicateurs_target_id=45\">Bâtiments et travaux publics </a>\n",
       "</li>\n",
       "<li class=\"nav-item\">\n",
       "<a class=\"nav-link\" data-drupal-link-query='{\"field_type_indicateurs_target_id\":\"49\"}' data-drupal-link-system-path=\"taxonomy/term/39\" href=\"/theme/autres-statistiques?field_type_indicateurs_target_id=49\">Environnement</a>\n",
       "</li>\n",
       "<li class=\"nav-item\">\n",
       "<a class=\"nav-link\" data-drupal-link-query='{\"field_type_indicateurs_target_id\":\"44\"}' data-drupal-link-system-path=\"taxonomy/term/39\" href=\"/theme/autres-statistiques?field_type_indicateurs_target_id=44\">Industrie</a>\n",
       "</li>\n",
       "<li class=\"nav-item\">\n",
       "<a class=\"nav-link\" data-drupal-link-query='{\"field_type_indicateurs_target_id\":\"43\"}' data-drupal-link-system-path=\"taxonomy/term/39\" href=\"/theme/autres-statistiques?field_type_indicateurs_target_id=43\">Mines</a>\n",
       "</li>\n",
       "<li class=\"nav-item\">\n",
       "<a class=\"nav-link\" data-drupal-link-query='{\"field_type_indicateurs_target_id\":\"50\"}' data-drupal-link-system-path=\"taxonomy/term/39\" href=\"/theme/autres-statistiques?field_type_indicateurs_target_id=50\">TIC</a>\n",
       "</li>\n",
       "<li class=\"nav-item\">\n",
       "<a class=\"nav-link\" data-drupal-link-query='{\"field_type_indicateurs_target_id\":\"47\"}' data-drupal-link-system-path=\"taxonomy/term/39\" href=\"/theme/autres-statistiques?field_type_indicateurs_target_id=47\">Tourisme</a>\n",
       "</li>\n",
       "<li class=\"nav-item\">\n",
       "<a class=\"nav-link\" data-drupal-link-query='{\"field_type_indicateurs_target_id\":\"46\"}' data-drupal-link-system-path=\"taxonomy/term/39\" href=\"/theme/autres-statistiques?field_type_indicateurs_target_id=46\">Transport</a>\n",
       "</li>\n",
       "</ul>\n",
       "</li>\n",
       "</ul>\n",
       "</nav>\n",
       "<nav aria-labelledby=\"block-region-menu\" class=\"settings-tray-editable block block-menu navigation menu--region\" data-drupal-settingstray=\"editable\" id=\"block-region\" role=\"navigation\">\n",
       "<h2 class=\"sr-only\" id=\"block-region-menu\">Régions</h2>\n",
       "<ul class=\"clearfix nav\">\n",
       "<li class=\"nav-item menu-item--expanded\">\n",
       "<a class=\"nav-link\" data-drupal-link-system-path=\"regions\" href=\"/regions\">Régions</a>\n",
       "<ul class=\"menu\">\n",
       "<li class=\"nav-item\">\n",
       "<a class=\"nav-link\" data-drupal-link-system-path=\"taxonomy/term/5\" href=\"/themes/situation-economiques-et-sociales/ses-regionales%3Ffield_year_value%3DAll%26field_regions_ses_target_id%3D5\">Dakar</a>\n",
       "</li>\n",
       "<li class=\"nav-item\">\n",
       "<a class=\"nav-link\" data-drupal-link-system-path=\"taxonomy/term/6\" href=\"/taxonomy/term/6\">Diourbel</a>\n",
       "</li>\n",
       "<li class=\"nav-item\">\n",
       "<a class=\"nav-link\" data-drupal-link-system-path=\"taxonomy/term/10\" href=\"/taxonomy/term/10\">Fatick</a>\n",
       "</li>\n",
       "<li class=\"nav-item\">\n",
       "<a class=\"nav-link\" data-drupal-link-system-path=\"taxonomy/term/11\" href=\"/taxonomy/term/11\">Kaffrine</a>\n",
       "</li>\n",
       "<li class=\"nav-item\">\n",
       "<a class=\"nav-link\" data-drupal-link-system-path=\"taxonomy/term/12\" href=\"/taxonomy/term/12\">Kaolack</a>\n",
       "</li>\n",
       "<li class=\"nav-item\">\n",
       "<a class=\"nav-link\" data-drupal-link-system-path=\"taxonomy/term/13\" href=\"/taxonomy/term/13\">Kedougou</a>\n",
       "</li>\n",
       "<li class=\"nav-item\">\n",
       "<a class=\"nav-link\" data-drupal-link-system-path=\"taxonomy/term/14\" href=\"/taxonomy/term/14\">Kolda</a>\n",
       "</li>\n",
       "<li class=\"nav-item\">\n",
       "<a class=\"nav-link\" data-drupal-link-system-path=\"taxonomy/term/15\" href=\"/taxonomy/term/15\">Louga</a>\n",
       "</li>\n",
       "<li class=\"nav-item\">\n",
       "<a class=\"nav-link\" data-drupal-link-system-path=\"taxonomy/term/16\" href=\"/taxonomy/term/16\">Matam</a>\n",
       "</li>\n",
       "<li class=\"nav-item\">\n",
       "<a class=\"nav-link\" data-drupal-link-system-path=\"taxonomy/term/8\" href=\"/taxonomy/term/8\">Saint-louis</a>\n",
       "</li>\n",
       "<li class=\"nav-item\">\n",
       "<a class=\"nav-link\" data-drupal-link-system-path=\"taxonomy/term/17\" href=\"/taxonomy/term/17\">Sedhiou</a>\n",
       "</li>\n",
       "<li class=\"nav-item\">\n",
       "<a class=\"nav-link\" data-drupal-link-system-path=\"taxonomy/term/7\" href=\"/taxonomy/term/7\">Tambacounda</a>\n",
       "</li>\n",
       "<li class=\"nav-item\">\n",
       "<a class=\"nav-link\" data-drupal-link-system-path=\"taxonomy/term/9\" href=\"/taxonomy/term/9\">Thies</a>\n",
       "</li>\n",
       "<li class=\"nav-item\">\n",
       "<a class=\"nav-link\" data-drupal-link-system-path=\"taxonomy/term/18\" href=\"/taxonomy/term/18\">Ziguinchor</a>\n",
       "</li>\n",
       "</ul>\n",
       "</li>\n",
       "</ul>\n",
       "</nav>\n",
       "</section>\n",
       "</div>\n",
       "<div class=\"menu_rs\">\n",
       "<section class=\"row region region-menu-rs\">\n",
       "<nav aria-labelledby=\"block-reseauxsociaux-menu\" class=\"settings-tray-editable block block-menu navigation menu--reseaux-sociaux\" data-drupal-settingstray=\"editable\" id=\"block-reseauxsociaux\" role=\"navigation\">\n",
       "<h2 id=\"block-reseauxsociaux-menu\">Suivez-nous</h2>\n",
       "<ul class=\"clearfix nav\">\n",
       "<li aria-label=\"F\" class=\"nav-item\">\n",
       "<a class=\"facebook nav-link\" href=\"https://web.facebook.com/ANSD.Senegal?_rdc=1&amp;_rdr=\"><i aria-hidden=\"true\" class=\"fab fa-facebook-f\"></i></a>\n",
       "</li>\n",
       "<li aria-label=\"T\" class=\"nav-item\">\n",
       "<a class=\"twitter nav-link\" href=\"https://twitter.com/statsenegal\"><i aria-hidden=\"true\" class=\"fab fa-twitter\"></i></a>\n",
       "</li>\n",
       "<li aria-label=\"Y\" class=\"nav-item\">\n",
       "<a class=\"youtube nav-link\" href=\"https://www.youtube.com/user/ANSDSenegal\"><i aria-hidden=\"true\" class=\"fab fa-youtube\"></i></a>\n",
       "</li>\n",
       "</ul>\n",
       "</nav>\n",
       "<div class=\"settings-tray-editable block block-block-content block-block-content7607dc25-98f6-4ce3-9abe-48db3a117f83\" data-drupal-settingstray=\"editable\" id=\"block-contact\">\n",
       "<h2>Contact</h2>\n",
       "<div class=\"content\">\n",
       "<div class=\"field field--name-field-email field--type-email field--label-hidden field__item\"><a href=\"mailto:statsenegal@ansd.sn\">statsenegal@ansd.sn</a></div>\n",
       "<div class=\"field field--name-field-numero field--type-integer field--label-hidden field__item\" content=\"338692139\">[+221]338692139</div>\n",
       "</div>\n",
       "</div>\n",
       "<div class=\"settings-tray-editable block block-block-content block-block-contentc560bed2-0eed-4dde-97e2-148765932938\" data-drupal-settingstray=\"editable\" id=\"block-cclicence\">\n",
       "<div class=\"content\">\n",
       "<div class=\"layout layout--onecol\">\n",
       "<div class=\"layout__region layout__region--content\">\n",
       "<div class=\"block block-layout-builder block-field-blockblock-contentbasicbody\">\n",
       "<div class=\"content\">\n",
       "<div class=\"clearfix text-formatted field field--name-body field--type-text-with-summary field--label-hidden field__item\"><p style=\"width:340px;\"><img src=\"/sites/default/files/licence-cc-by.png\" style=\"width: 80px;padding-right: 10px;font-size:13px;\"/>Sauf indication contraire, les données et analyses de l’ANSD sont sous licence <a href=\"https://creativecommons.org/licenses/by/4.0/\" style=\"color:#0a2b8d;\">Creative Commons Attribution 4.0 International License.</a></p></div>\n",
       "</div>\n",
       "</div>\n",
       "</div>\n",
       "</div>\n",
       "</div>\n",
       "</div>\n",
       "</section>\n",
       "</div>\n",
       "<div class=\"footer-wrapper\">\n",
       "<footer class=\"footer container-fluid\" role=\"contentinfo\">\n",
       "<section class=\"row region region-footer\">\n",
       "<div class=\"settings-tray-editable block block-ansd-bot block-ansd-bot-block\" data-drupal-settingstray=\"editable\" id=\"block-ansdbotblock\">\n",
       "<div class=\"content\">\n",
       "<div id=\"root\"></div>\n",
       "</div>\n",
       "</div>\n",
       "<nav aria-labelledby=\"block-pieddepage-menu\" class=\"settings-tray-editable block block-menu navigation menu--footer\" data-drupal-settingstray=\"editable\" id=\"block-pieddepage\" role=\"navigation\">\n",
       "<h2 class=\"sr-only\" id=\"block-pieddepage-menu\">Pied de page</h2>\n",
       "<ul class=\"clearfix nav navbar-nav\">\n",
       "<li class=\"nav-item\">\n",
       "<a class=\"nav-link\" data-drupal-link-system-path=\"node/164\" href=\"/protection-des-donnees\">Protection des données</a>\n",
       "</li>\n",
       "<li class=\"nav-item\">\n",
       "<a class=\"nav-link\" data-drupal-link-system-path=\"node/142\" href=\"/mentions-legales\">Mention légales</a>\n",
       "</li>\n",
       "</ul>\n",
       "</nav>\n",
       "</section>\n",
       "</footer>\n",
       "</div>\n",
       "</div>\n",
       "<div class=\"off-canvas-wrapper\"><div id=\"off-canvas\">\n",
       "<ul>\n",
       "<li class=\"menu-item--a92e9459-dfa5-4ad3-a331-a7d612254e6f menu-name--acces-rapide\">\n",
       "<a data-drupal-link-system-path=\"node/110\" href=\"/toutes-les-publications\">Accès rapides</a>\n",
       "</li>\n",
       "<li class=\"menu-item--_05e9416-aac7-4076-b477-78bc4d786ec1 menu-name--main\">\n",
       "<a aria-label=\"Accueil\" class=\"is-active\" data-drupal-link-system-path=\"&lt;front&gt;\" href=\"/\"><i aria-hidden=\"true\" class=\"fas fa-home\"></i></a>\n",
       "</li>\n",
       "<li class=\"menu-item--_1ce2863-ec14-4c16-9b51-4f5434c14ef4 menu-name--main\">\n",
       "<span>A propos</span>\n",
       "<ul>\n",
       "<li class=\"menu-item--_56cd889-595d-44be-a740-4b6b02d1ec6f menu-name--main\">\n",
       "<a href=\"/le-mots-du-directeur\">Mot du DG</a>\n",
       "</li>\n",
       "<li class=\"menu-item--cd07d352-b45c-416c-b4c6-43b6fc899929 menu-name--main\">\n",
       "<a href=\"/presentation-generale\">Présentation</a>\n",
       "</li>\n",
       "<li class=\"menu-item--_c554b78-5c90-4efa-9051-5a5381806dec menu-name--main\">\n",
       "<a href=\"/bulletin-le-phare\">Bulletin \"Le Phare\"</a>\n",
       "</li>\n",
       "<li class=\"menu-item--c482eafe-7d21-42af-86f3-6a892f68a9e9 menu-name--main\">\n",
       "<a href=\"https://www.statsenegal.sn\" target=\"_blank\">Coordination statistique</a>\n",
       "</li>\n",
       "</ul>\n",
       "</li>\n",
       "<li class=\"menu-item--_88632d6-4466-45f0-8c4a-3373366c7987 menu-name--main\">\n",
       "<span>Rapports &amp; Données</span>\n",
       "<ul>\n",
       "<li class=\"menu-item--_bab7529-ddd9-4a6b-b175-52ef7d697f81 menu-name--main\">\n",
       "<span>Thèmes</span>\n",
       "<ul>\n",
       "<li class=\"menu-item--f3aeb016-7f18-4722-ad99-9907290659f6 menu-name--main\">\n",
       "<a data-drupal-link-system-path=\"taxonomy/term/1\" href=\"/theme/economie\">Economie</a>\n",
       "</li>\n",
       "<li class=\"menu-item--_b7a4826-638d-45d9-9c38-2fa4bac4b0d1 menu-name--main\">\n",
       "<a data-drupal-link-system-path=\"taxonomy/term/2\" href=\"/theme/demographie\">Démographie</a>\n",
       "</li>\n",
       "<li class=\"menu-item--bea76aa2-a6f7-4efe-85f8-8d48eba0a0af menu-name--main\">\n",
       "<a data-drupal-link-system-path=\"taxonomy/term/3\" href=\"/theme/societe\">Société</a>\n",
       "</li>\n",
       "<li class=\"menu-item--deee7452-d230-4368-a64b-7192a2fe6bbf menu-name--main\">\n",
       "<a data-drupal-link-system-path=\"taxonomy/term/39\" href=\"/theme/autres-statistiques\">Autres statistiques</a>\n",
       "</li>\n",
       "<li class=\"menu-item--_262c3ad-c7a3-4bd7-ad73-dd50b0a2d35d menu-name--main\">\n",
       "<span>Situation Economiques et Sociales</span>\n",
       "<ul>\n",
       "<li class=\"menu-item--ef12d24d-8a61-45e3-a429-f2b2c1cdb20d menu-name--main\">\n",
       "<a href=\"/ses-nationales\">SES nationales</a>\n",
       "</li>\n",
       "<li class=\"menu-item--bc5cacf9-2da8-42c9-99c5-e3a46cc79580 menu-name--main\">\n",
       "<a data-drupal-link-system-path=\"node/92\" href=\"/ses-regionales\">SES regionales</a>\n",
       "</li>\n",
       "</ul>\n",
       "</li>\n",
       "</ul>\n",
       "</li>\n",
       "<li class=\"menu-item--_2464680-1d75-49dc-82cb-f77a2856cb7b menu-name--main\">\n",
       "<a data-drupal-link-system-path=\"node/126\" href=\"/enquete\">Enquêtes &amp; études</a>\n",
       "</li>\n",
       "<li class=\"menu-item--_e329e2a-c67d-4605-994d-32ba326cefcb menu-name--main\">\n",
       "<a data-drupal-link-system-path=\"calendrier-de-publications\" href=\"/calendrier-de-publications\">Calendrier de publications</a>\n",
       "</li>\n",
       "</ul>\n",
       "</li>\n",
       "<li class=\"menu-item--_707e39b-43f3-44c9-9a48-94b41056cf8c menu-name--main\">\n",
       "<a data-drupal-link-system-path=\"ressources\" href=\"/ressources\">Méthodes/définitions</a>\n",
       "</li>\n",
       "<li class=\"menu-item--d866b8fd-ad4b-4061-9e19-1341dd129f68 menu-name--main\">\n",
       "<a href=\"http://recrute.ansd.sn/\" target=\"_blank\">Emploi et stages</a>\n",
       "</li>\n",
       "<li class=\"menu-item--_125905c-8f25-4c2f-8006-a7b247a392bf menu-name--main\">\n",
       "<a href=\"https://visa.ansd.sn\" target=\"_blank\">Visa Statistique</a>\n",
       "</li>\n",
       "<li class=\"menu-item--_53f2ea1-7c91-4f9c-b55c-82bf9879c0c5 menu-name--top-menu\">\n",
       "<a data-drupal-link-system-path=\"node/145\" href=\"/espace-presse\">Espace presse</a>\n",
       "</li>\n",
       "<li class=\"menu-item--_1d15873-18d4-400c-b229-7712476eba10 menu-name--top-menu\">\n",
       "<a data-drupal-link-system-path=\"regions\" href=\"/regions\">Régions</a>\n",
       "</li>\n",
       "<li class=\"menu-item--ff9f9055-c22f-45ff-92db-1108eaee9aaf menu-name--top-menu\">\n",
       "<a data-drupal-link-system-path=\"autre-site\" href=\"/autre-site\">Autres sites</a>\n",
       "</li>\n",
       "<li class=\"menu-item--d3486a01-4ae5-4ca9-8e7e-38ba43c76111 menu-name--top-menu\">\n",
       "<a data-drupal-link-system-path=\"node/174\" href=\"/contact\">Aide &amp; contact</a>\n",
       "</li>\n",
       "<li class=\"menu-item--_724883d-6092-4efb-9313-7aa3b2fcb1c8 menu-name--top-menu\">\n",
       "<a href=\"https://appsi.ansd.sn\" target=\"_blank\">Intranet</a>\n",
       "</li>\n",
       "</ul>\n",
       "</div></div>\n",
       "<script data-drupal-selector=\"drupal-settings-json\" type=\"application/json\">{\"path\":{\"baseUrl\":\"\\/\",\"scriptPath\":null,\"pathPrefix\":\"\",\"currentPath\":\"node\\/1\",\"currentPathIsAdmin\":false,\"isFront\":true,\"currentLanguage\":\"fr\"},\"pluralDelimiter\":\"\\u0003\",\"suppressDeprecationErrors\":true,\"ajaxPageState\":{\"libraries\":\"ansd_bot\\/ansd_bot_prod,ansd_front\\/bootstrap-scripts,ansd_front\\/bootstrap-styles,ansd_front\\/datatables,ansd_front\\/fontawesome,ansd_front\\/framework,ansd_front\\/global-styles,ansd_front\\/heroslider,better_exposed_filters\\/auto_submit,better_exposed_filters\\/general,better_search\\/background_fade,blazy\\/bio.ajax,blazy\\/blazy,blazy\\/classlist,blazy\\/column,blazy\\/filter,blazy\\/load,blazy\\/polyfill,blazy\\/promise,blazy\\/raf,blazy\\/ratio,blazy\\/webp,bootstrap_barrio\\/fontawesome,bootstrap_barrio\\/form,bootstrap_barrio\\/global-styling,bootstrap_barrio\\/monserrat_lato,bootstrap_barrio\\/navigation,bootstrap_barrio\\/node,bootstrap_styles\\/plugin.background_color.build,bootstrap_styles\\/plugin.border.build,bootstrap_styles\\/plugin.margin.build,bootstrap_styles\\/plugin.padding.build,bootstrap_styles\\/plugin.scroll_effects.build,bootstrap_styles\\/plugin.text_alignment.build,bootstrap_styles\\/plugin.text_color.build,chosen\\/drupal.chosen,colorbox\\/default,colorbox_inline\\/colorbox_inline,colorbox_load\\/colorbox_load,core\\/drupal.dialog.ajax,core\\/drupal.jquery,extlink\\/drupal.extlink,fontawesome\\/fontawesome.svg,fontawesome\\/fontawesome.svg.shim,google_analytics\\/google_analytics,layout_discovery\\/onecol,ng_lightbox\\/ng_lightbox,owlcarousel\\/owlcarousel,responsive_menu\\/responsive_menu.bootstrap,responsive_menu\\/responsive_menu.breakpoint,responsive_menu\\/responsive_menu.styling,system\\/base,varbase_media\\/common,vartheme_bs4\\/bootstrap-scripts,vartheme_bs4\\/bootstrap-styles,vartheme_bs4\\/framework,vartheme_bs4\\/global-scripts,vartheme_bs4\\/global-styles,vartheme_bs4\\/search-form,views\\/views.ajax,views\\/views.module,views_webticker\\/webticker-js,webform\\/webform.element.details.save,webform\\/webform.element.details.toggle,webform\\/webform.element.message,webform\\/webform.element.select,webform\\/webform.form\",\"theme\":\"ansd_front\",\"theme_token\":null},\"ajaxTrustedUrl\":{\"form_action_p_pvdeGsVG5zNF_XLGPTvYSKCf43t8qZYSwcfZl2uzM\":true,\"\\/enquetes%26etudes\":true,\"\\/indicateurs\":true,\"\\/node\":true,\"\\/search\\/node\":true},\"responsive_menu\":{\"position\":\"left\",\"theme\":\"theme-dark\",\"pagedim\":\"pagedim\",\"modifyViewport\":true,\"use_bootstrap\":true,\"breakpoint\":\"(min-width: 960px)\",\"drag\":false},\"colorbox\":{\"opacity\":\"0.85\",\"current\":\"{current} of {total}\",\"previous\":\"\\u00ab Prev\",\"next\":\"Next \\u00bb\",\"close\":\"Close\",\"maxWidth\":\"98%\",\"maxHeight\":\"98%\",\"fixed\":true,\"mobiledetect\":true,\"mobiledevicewidth\":\"480px\"},\"google_analytics\":{\"account\":\"UA-51566594-1\",\"trackOutbound\":true,\"trackMailto\":true,\"trackDownload\":true,\"trackDownloadExtensions\":\"7z|aac|arc|arj|asf|asx|avi|bin|csv|doc(x|m)?|dot(x|m)?|exe|flv|gif|gz|gzip|hqx|jar|jpe?g|js|mp(2|3|4|e?g)|mov(ie)?|msi|msp|pdf|phps|png|ppt(x|m)?|pot(x|m)?|pps(x|m)?|ppam|sld(x|m)?|thmx|qtm?|ra(m|r)?|sea|sit|tar|tgz|torrent|txt|wav|wma|wmv|wpd|xls(x|m|b)?|xlt(x|m)|xlam|xml|z|zip\",\"trackColorbox\":true},\"data\":{\"extlink\":{\"extTarget\":true,\"extTargetNoOverride\":false,\"extNofollow\":false,\"extNoreferrer\":false,\"extFollowNoOverride\":false,\"extClass\":\"0\",\"extLabel\":\"(le lien est externe)\",\"extImgClass\":false,\"extSubdomains\":true,\"extExclude\":\"\",\"extInclude\":\"\",\"extCssExclude\":\"\",\"extCssExplicit\":\"\",\"extAlert\":false,\"extAlertText\":\"Ce lien vous dirige vers un site externe. Nous ne sommes pas responsables de son contenu.\",\"mailtoClass\":\"0\",\"mailtoLabel\":\"(link sends email)\",\"extUseFontAwesome\":false,\"extIconPlacement\":\"append\",\"extFaLinkClasses\":\"fa fa-external-link\",\"extFaMailtoClasses\":\"fa fa-envelope-o\",\"whitelistedDomains\":null}},\"blazy\":{\"loadInvisible\":false,\"offset\":100,\"saveViewportOffsetDelay\":50,\"validateDelay\":25,\"loader\":true,\"unblazy\":false,\"compat\":true},\"blazyIo\":{\"disconnect\":false,\"rootMargin\":\"0px\",\"threshold\":[0,0.25,0.5,0.75,1]},\"chosen\":{\"selector\":\"select:visible\",\"minimum_single\":20,\"minimum_multiple\":20,\"minimum_width\":0,\"use_relative_width\":true,\"options\":{\"disable_search\":false,\"disable_search_threshold\":0,\"allow_single_deselect\":false,\"search_contains\":false,\"placeholder_text_multiple\":\"Choose some options\",\"placeholder_text_single\":\"Choose an option\",\"no_results_text\":\"No results match\",\"max_shown_results\":null,\"inherit_select_classes\":true}},\"views\":{\"ajax_path\":\"\\/views\\/ajax\",\"ajaxViews\":{\"views_dom_id:7cf4d4cecc24858e3e2f3a14cc327d3938ac0cf4cf4bab4ba282eb695bdb23be\":{\"view_name\":\"enquetes_et_etudes\",\"view_display_id\":\"block_1\",\"view_args\":\"\",\"view_path\":\"\\/node\\/1\",\"view_base_path\":\"enquetes\\u0026etudes\",\"view_dom_id\":\"7cf4d4cecc24858e3e2f3a14cc327d3938ac0cf4cf4bab4ba282eb695bdb23be\",\"pager_element\":0},\"views_dom_id:6240f845bd0d176f048f1facd54d966d847a1f63f8a2849dd1f1a3c8950bbe10\":{\"view_name\":\"indicateurs_par_themes\",\"view_display_id\":\"block_1\",\"view_args\":\"\",\"view_path\":\"\\/node\\/1\",\"view_base_path\":\"indicateurs\",\"view_dom_id\":\"6240f845bd0d176f048f1facd54d966d847a1f63f8a2849dd1f1a3c8950bbe10\",\"pager_element\":0},\"views_dom_id:a132c50c15334e12b85469389765c86e1d9a879eefd2d2b7602a45855fa60318\":{\"view_name\":\"le_senegal_en_bref\",\"view_display_id\":\"block_1\",\"view_args\":\"\",\"view_path\":\"\\/node\\/1\",\"view_base_path\":null,\"view_dom_id\":\"a132c50c15334e12b85469389765c86e1d9a879eefd2d2b7602a45855fa60318\",\"pager_element\":0}}},\"settings\":\"{\\u0022speed\\u0022:\\u002250\\u0022,\\u0022moving\\u0022:1,\\u0022startEmpty\\u0022:0,\\u0022duplicate\\u0022:0,\\u0022hoverpause\\u0022:1,\\u0022rssurl\\u0022:0,\\u0022rssfrequency\\u0022:\\u00220\\u0022,\\u0022updatetype\\u0022:\\u0022reset\\u0022,\\u0022transition\\u0022:\\u0022linear\\u0022,\\u0022height\\u0022:\\u002250px\\u0022,\\u0022maskleft\\u0022:\\u0022\\u0022,\\u0022maskright\\u0022:\\u0022\\u0022,\\u0022maskwidth\\u0022:\\u00220\\u0022}\",\"user\":{\"uid\":0,\"permissionsHash\":\"01f1a298c887dff4e3c57dfd6d00b5e7912930671660764e92e0325713b776e2\"}}</script>\n",
       "<script src=\"/sites/default/files/js/js_WrmRpDiDVeYiXt39QVf5zrj_O2026PstTr-Oc8sJlFw.js\"></script>\n",
       "<script src=\"//cdn.datatables.net/1.13.7/js/jquery.dataTables.min.js\"></script>\n",
       "<script src=\"https://cdn.datatables.net/1.13.7/js/dataTables.bootstrap4.min.js\"></script>\n",
       "<script src=\"/sites/default/files/js/js_RRU0dD_-a-vNgtnb7lc3S7MVgwjEb7Pf-lOpVeEJaCA.js\"></script>\n",
       "<script src=\"/modules/custom/ansd_bot/js/ansd_bot/build/static/js/main.c7b1ce68.js?v=1.x\"></script>\n",
       "<script src=\"/sites/default/files/js/js_F6SNIr8yNidUdOL8JBSgL8Anv8sTZ7PSvregnP37VkQ.js\"></script>\n",
       "</body>\n",
       "</html>"
      ]
     },
     "execution_count": 209,
     "metadata": {},
     "output_type": "execute_result"
    }
   ],
   "source": [
    "MakeSoupe(link)"
   ]
  },
  {
   "cell_type": "code",
   "execution_count": 210,
   "metadata": {},
   "outputs": [],
   "source": [
    "def getCards(URL):\n",
    "    assert len(URL) > 0, f\"URL expected a non-empty string, got {URL}\"\n",
    "    soupe = MakeSoupe(URL)\n",
    "    soupe = soupe \\\n",
    "        .find_all(\"li\")\n",
    "    return soupe"
   ]
  },
  {
   "cell_type": "code",
   "execution_count": 211,
   "metadata": {},
   "outputs": [
    {
     "name": "stderr",
     "output_type": "stream",
     "text": [
      "c:\\Users\\ANSD\\anaconda3\\lib\\site-packages\\urllib3\\connectionpool.py:1045: InsecureRequestWarning: Unverified HTTPS request is being made to host 'www.ansd.sn'. Adding certificate verification is strongly advised. See: https://urllib3.readthedocs.io/en/1.26.x/advanced-usage.html#ssl-warnings\n",
      "  warnings.warn(\n"
     ]
    }
   ],
   "source": [
    "li_out = getCards(link)"
   ]
  },
  {
   "cell_type": "code",
   "execution_count": 212,
   "metadata": {},
   "outputs": [],
   "source": [
    "ref = []"
   ]
  },
  {
   "cell_type": "code",
   "execution_count": 213,
   "metadata": {},
   "outputs": [],
   "source": [
    "for element in li_out :\n",
    "    ref.append(element.find(\"a\")[\"href\"])"
   ]
  },
  {
   "cell_type": "code",
   "execution_count": 214,
   "metadata": {},
   "outputs": [
    {
     "data": {
      "text/plain": [
       "['https://web.facebook.com/ANSD.Senegal?_rdc=1&_rdr=',\n",
       " 'https://twitter.com/statsenegal',\n",
       " 'https://www.youtube.com/user/ANSDSenegal',\n",
       " '/espace-presse',\n",
       " '/regions',\n",
       " '/autre-site',\n",
       " '/contact',\n",
       " 'https://appsi.ansd.sn',\n",
       " '/toutes-les-publications',\n",
       " '/',\n",
       " '/le-mots-du-directeur',\n",
       " '/le-mots-du-directeur',\n",
       " '/presentation-generale',\n",
       " '/bulletin-le-phare',\n",
       " 'https://www.statsenegal.sn',\n",
       " '/theme/economie',\n",
       " '/theme/economie',\n",
       " '/theme/economie',\n",
       " '/theme/demographie',\n",
       " '/theme/societe',\n",
       " '/theme/autres-statistiques',\n",
       " '/ses-nationales',\n",
       " '/ses-nationales',\n",
       " '/ses-regionales',\n",
       " '/enquete',\n",
       " '/calendrier-de-publications',\n",
       " '/ressources',\n",
       " 'http://recrute.ansd.sn/',\n",
       " 'https://visa.ansd.sn',\n",
       " '/node/13591',\n",
       " '/node/13979',\n",
       " '/node/13490',\n",
       " '/node/13506',\n",
       " '/node/13516',\n",
       " '/node/13513',\n",
       " '/node/13548',\n",
       " '/node/',\n",
       " '/node/14923',\n",
       " '/node/13663',\n",
       " '/node/15815',\n",
       " '/node/15815',\n",
       " '/node/13503',\n",
       " '/node/13503',\n",
       " '/node/13504',\n",
       " '/node/13514',\n",
       " '/node/13514',\n",
       " '/node/13979',\n",
       " '/node/13507',\n",
       " '/node/13508',\n",
       " '/node/13499',\n",
       " '/node/14366',\n",
       " '/node/14366',\n",
       " '/node/',\n",
       " '/node/13506',\n",
       " '/node/13513',\n",
       " '/node/13979',\n",
       " '/node/13512',\n",
       " '/node/14923',\n",
       " '/node/13514',\n",
       " '/node/13663',\n",
       " '/node/13507',\n",
       " '/node/13519',\n",
       " '/node/13513',\n",
       " '/node/13506',\n",
       " '/node/14923',\n",
       " '/node/13514',\n",
       " '/node/14923',\n",
       " '/node/13507',\n",
       " '/node/14460',\n",
       " '/node/13506',\n",
       " '/node/13553',\n",
       " '/node/',\n",
       " '/node/13513',\n",
       " '/node/13504',\n",
       " '/node/15815',\n",
       " '/node/13514',\n",
       " '/node/13663',\n",
       " '/node/13507',\n",
       " '/node/13506',\n",
       " '/node/13513',\n",
       " '/node/13514',\n",
       " '/node/14923',\n",
       " '/node/13512',\n",
       " '/node/13663',\n",
       " '/node/13507',\n",
       " '/node/13591',\n",
       " '/node/14460',\n",
       " '/node/13979',\n",
       " '/node/13513',\n",
       " '/node/13513',\n",
       " '/node/14923',\n",
       " '/node/13514',\n",
       " '/node/13514',\n",
       " '/node/13518',\n",
       " '/node/13518',\n",
       " '/node/13663',\n",
       " '/node/13507',\n",
       " '/node/13979',\n",
       " '/node/13591',\n",
       " '/node/13513',\n",
       " '/node/14460',\n",
       " '/node/13506',\n",
       " '/node/13548',\n",
       " '/node/13503',\n",
       " '/node/14923',\n",
       " '/node/13504',\n",
       " '/node/13504',\n",
       " '/node/13514',\n",
       " '/node/13663',\n",
       " '/node/13507',\n",
       " '/node/13591',\n",
       " '/node/13979',\n",
       " '/node/13506',\n",
       " '/node/13511',\n",
       " '/node/16397',\n",
       " '/node/13514',\n",
       " '/node/14923',\n",
       " '/node/13507',\n",
       " '/node/13506',\n",
       " '/node/13514',\n",
       " '/node/13663',\n",
       " '/node/13507',\n",
       " '/node/14460',\n",
       " '/node/13513',\n",
       " '/node/13548',\n",
       " '/node/13514',\n",
       " '/node/14923',\n",
       " '/node/15815',\n",
       " '/node/13503',\n",
       " '/node/13504',\n",
       " '/node/13663',\n",
       " '/node/13507',\n",
       " '/node/13499',\n",
       " '/node/13506',\n",
       " '/node/13663',\n",
       " '/node/13514',\n",
       " '/node/13512',\n",
       " '/node/14923',\n",
       " '/node/13507',\n",
       " '/node/13506',\n",
       " '/node/13513',\n",
       " '/node/14923',\n",
       " '/node/13514',\n",
       " '/node/13663',\n",
       " '/node/13507',\n",
       " '/node/14460',\n",
       " '/node/14765',\n",
       " '/node/13516',\n",
       " '/node/13490',\n",
       " '/node/13506',\n",
       " '/node/13513',\n",
       " '/node/13548',\n",
       " '/node/15815',\n",
       " '/node/13503',\n",
       " '/node/13504',\n",
       " '/node/13514',\n",
       " '/node/13663',\n",
       " '/node/13499',\n",
       " '/node/13506',\n",
       " '/node/13513',\n",
       " '/node/13507',\n",
       " '/theme/economie',\n",
       " '/theme/demographie',\n",
       " '/theme/societe',\n",
       " '/theme/autres-statistiques',\n",
       " '/theme/economie',\n",
       " '/theme/economie?field_type_indicateurs_target_id=20',\n",
       " '/theme/economie?field_type_indicateurs_target_id=21',\n",
       " '/theme/economie?field_type_indicateurs_target_id=23',\n",
       " '/theme/economie?field_type_indicateurs_target_id=22',\n",
       " '/theme/economie?field_type_indicateurs_target_id=24',\n",
       " '/theme/demographie',\n",
       " '/theme/demographie?field_type_indicateurs_target_id=25',\n",
       " '/theme/demographie?field_type_indicateurs_target_id=26',\n",
       " '/theme/demographie?field_type_indicateurs_target_id=28',\n",
       " '/theme/demographie?field_type_indicateurs_target_id=27',\n",
       " '/theme/demographie?field_type_indicateurs_target_id=30',\n",
       " '/theme/societe',\n",
       " '/theme/societe?field_type_indicateurs_target_id=32',\n",
       " '/theme/societe?field_type_indicateurs_target_id=29',\n",
       " '/theme/societe?field_type_indicateurs_target_id=36',\n",
       " '/theme/societe?field_type_indicateurs_target_id=34',\n",
       " '/theme/societe?field_type_indicateurs_target_id=31',\n",
       " '/theme/societe?field_type_indicateurs_target_id=33',\n",
       " '/theme/societe?field_type_indicateurs_target_id=35',\n",
       " '/theme/autres-statistiques',\n",
       " '/theme/autres-statistiques?field_type_indicateurs_target_id=41',\n",
       " '/theme/autres-statistiques?field_type_indicateurs_target_id=45',\n",
       " '/theme/autres-statistiques?field_type_indicateurs_target_id=49',\n",
       " '/theme/autres-statistiques?field_type_indicateurs_target_id=44',\n",
       " '/theme/autres-statistiques?field_type_indicateurs_target_id=43',\n",
       " '/theme/autres-statistiques?field_type_indicateurs_target_id=50',\n",
       " '/theme/autres-statistiques?field_type_indicateurs_target_id=47',\n",
       " '/theme/autres-statistiques?field_type_indicateurs_target_id=46',\n",
       " '/regions',\n",
       " '/themes/situation-economiques-et-sociales/ses-regionales%3Ffield_year_value%3DAll%26field_regions_ses_target_id%3D5',\n",
       " '/taxonomy/term/6',\n",
       " '/taxonomy/term/10',\n",
       " '/taxonomy/term/11',\n",
       " '/taxonomy/term/12',\n",
       " '/taxonomy/term/13',\n",
       " '/taxonomy/term/14',\n",
       " '/taxonomy/term/15',\n",
       " '/taxonomy/term/16',\n",
       " '/taxonomy/term/8',\n",
       " '/taxonomy/term/17',\n",
       " '/taxonomy/term/7',\n",
       " '/taxonomy/term/9',\n",
       " '/taxonomy/term/18',\n",
       " 'https://web.facebook.com/ANSD.Senegal?_rdc=1&_rdr=',\n",
       " 'https://twitter.com/statsenegal',\n",
       " 'https://www.youtube.com/user/ANSDSenegal',\n",
       " '/protection-des-donnees',\n",
       " '/mentions-legales',\n",
       " '/toutes-les-publications',\n",
       " '/',\n",
       " '/le-mots-du-directeur',\n",
       " '/le-mots-du-directeur',\n",
       " '/presentation-generale',\n",
       " '/bulletin-le-phare',\n",
       " 'https://www.statsenegal.sn',\n",
       " '/theme/economie',\n",
       " '/theme/economie',\n",
       " '/theme/economie',\n",
       " '/theme/demographie',\n",
       " '/theme/societe',\n",
       " '/theme/autres-statistiques',\n",
       " '/ses-nationales',\n",
       " '/ses-nationales',\n",
       " '/ses-regionales',\n",
       " '/enquete',\n",
       " '/calendrier-de-publications',\n",
       " '/ressources',\n",
       " 'http://recrute.ansd.sn/',\n",
       " 'https://visa.ansd.sn',\n",
       " '/espace-presse',\n",
       " '/regions',\n",
       " '/autre-site',\n",
       " '/contact',\n",
       " 'https://appsi.ansd.sn']"
      ]
     },
     "execution_count": 214,
     "metadata": {},
     "output_type": "execute_result"
    }
   ],
   "source": [
    "ref"
   ]
  },
  {
   "cell_type": "code",
   "execution_count": 215,
   "metadata": {},
   "outputs": [
    {
     "data": {
      "text/plain": [
       "['/node/13979',\n",
       " '/theme/societe?field_type_indicateurs_target_id=31',\n",
       " '/theme/economie',\n",
       " '/node/13518',\n",
       " '/node/13508',\n",
       " '/enquete',\n",
       " 'https://web.facebook.com/ANSD.Senegal?_rdc=1&_rdr=',\n",
       " '/theme/demographie?field_type_indicateurs_target_id=25',\n",
       " '/contact',\n",
       " '/taxonomy/term/13',\n",
       " '/node/13504',\n",
       " '/node/13553',\n",
       " '/node/13513',\n",
       " '/taxonomy/term/11',\n",
       " '/protection-des-donnees',\n",
       " '/node/13499',\n",
       " '/toutes-les-publications',\n",
       " '/node/13591',\n",
       " '/theme/economie?field_type_indicateurs_target_id=22',\n",
       " '/taxonomy/term/14',\n",
       " '/taxonomy/term/10',\n",
       " '/theme/autres-statistiques?field_type_indicateurs_target_id=45',\n",
       " 'https://www.statsenegal.sn',\n",
       " '/theme/autres-statistiques',\n",
       " '/theme/societe?field_type_indicateurs_target_id=34',\n",
       " '/theme/autres-statistiques?field_type_indicateurs_target_id=50',\n",
       " '/node/13512',\n",
       " '/theme/economie?field_type_indicateurs_target_id=23',\n",
       " '/calendrier-de-publications',\n",
       " '/mentions-legales',\n",
       " '/node/14366',\n",
       " '/taxonomy/term/16',\n",
       " '/espace-presse',\n",
       " '/theme/autres-statistiques?field_type_indicateurs_target_id=47',\n",
       " '/theme/demographie?field_type_indicateurs_target_id=30',\n",
       " '/node/13490',\n",
       " '/taxonomy/term/12',\n",
       " '/ses-regionales',\n",
       " '/node/13503',\n",
       " '/taxonomy/term/8',\n",
       " '/ses-nationales',\n",
       " '/theme/demographie?field_type_indicateurs_target_id=28',\n",
       " 'http://recrute.ansd.sn/',\n",
       " '/theme/autres-statistiques?field_type_indicateurs_target_id=41',\n",
       " '/node/14765',\n",
       " '/taxonomy/term/15',\n",
       " '/theme/societe?field_type_indicateurs_target_id=36',\n",
       " '/le-mots-du-directeur',\n",
       " '/node/13663',\n",
       " '/theme/demographie',\n",
       " '/regions',\n",
       " 'https://visa.ansd.sn',\n",
       " '/theme/societe?field_type_indicateurs_target_id=35',\n",
       " '/taxonomy/term/9',\n",
       " '/theme/autres-statistiques?field_type_indicateurs_target_id=49',\n",
       " 'https://appsi.ansd.sn',\n",
       " '/taxonomy/term/18',\n",
       " '/theme/economie?field_type_indicateurs_target_id=20',\n",
       " '/node/',\n",
       " '/theme/demographie?field_type_indicateurs_target_id=26',\n",
       " '/node/16397',\n",
       " '/theme/autres-statistiques?field_type_indicateurs_target_id=44',\n",
       " '/autre-site',\n",
       " 'https://www.youtube.com/user/ANSDSenegal',\n",
       " '/node/13511',\n",
       " '/node/14923',\n",
       " '/node/13507',\n",
       " '/theme/societe?field_type_indicateurs_target_id=32',\n",
       " '/node/13519',\n",
       " '/theme/autres-statistiques?field_type_indicateurs_target_id=43',\n",
       " '/presentation-generale',\n",
       " '/node/13514',\n",
       " '/bulletin-le-phare',\n",
       " '/theme/societe?field_type_indicateurs_target_id=29',\n",
       " '/node/13516',\n",
       " '/theme/autres-statistiques?field_type_indicateurs_target_id=46',\n",
       " '/node/14460',\n",
       " '/taxonomy/term/17',\n",
       " '/node/13548',\n",
       " '/theme/demographie?field_type_indicateurs_target_id=27',\n",
       " '/theme/societe?field_type_indicateurs_target_id=33',\n",
       " '/themes/situation-economiques-et-sociales/ses-regionales%3Ffield_year_value%3DAll%26field_regions_ses_target_id%3D5',\n",
       " '/node/13506',\n",
       " '/taxonomy/term/6',\n",
       " '/theme/economie?field_type_indicateurs_target_id=24',\n",
       " '/theme/societe',\n",
       " '/theme/economie?field_type_indicateurs_target_id=21',\n",
       " '/taxonomy/term/7',\n",
       " '/ressources',\n",
       " 'https://twitter.com/statsenegal',\n",
       " '/node/15815']"
      ]
     },
     "execution_count": 215,
     "metadata": {},
     "output_type": "execute_result"
    }
   ],
   "source": [
    "[v for v in set(ref).difference({'/'})]"
   ]
  },
  {
   "cell_type": "code",
   "execution_count": null,
   "metadata": {},
   "outputs": [],
   "source": []
  },
  {
   "cell_type": "code",
   "execution_count": 216,
   "metadata": {},
   "outputs": [
    {
     "data": {
      "text/plain": [
       "['/theme/economie',\n",
       " '/node/13518',\n",
       " '/theme/demographie?field_type_indicateurs_target_id=25',\n",
       " '/contact',\n",
       " '/protection-des-donnees',\n",
       " '/toutes-les-publications',\n",
       " '/theme/economie?field_type_indicateurs_target_id=22',\n",
       " '/taxonomy/term/14',\n",
       " 'https://www.statsenegal.sn',\n",
       " '/theme/autres-statistiques',\n",
       " '/theme/autres-statistiques?field_type_indicateurs_target_id=50',\n",
       " '/mentions-legales',\n",
       " '/node/14366',\n",
       " '/taxonomy/term/16',\n",
       " '/espace-presse',\n",
       " '/theme/demographie?field_type_indicateurs_target_id=30',\n",
       " '/node/13490',\n",
       " '/taxonomy/term/12',\n",
       " '/ses-nationales',\n",
       " '/theme/demographie?field_type_indicateurs_target_id=28',\n",
       " 'http://recrute.ansd.sn/',\n",
       " '/theme/autres-statistiques?field_type_indicateurs_target_id=41',\n",
       " '/node/14765',\n",
       " '/taxonomy/term/15',\n",
       " '/theme/societe?field_type_indicateurs_target_id=36',\n",
       " '/le-mots-du-directeur',\n",
       " '/theme/demographie',\n",
       " '/taxonomy/term/9',\n",
       " '/theme/autres-statistiques?field_type_indicateurs_target_id=49',\n",
       " 'https://appsi.ansd.sn',\n",
       " '/theme/economie?field_type_indicateurs_target_id=20',\n",
       " '/node/',\n",
       " '/theme/autres-statistiques?field_type_indicateurs_target_id=44',\n",
       " '/autre-site',\n",
       " 'https://www.youtube.com/user/ANSDSenegal',\n",
       " '/node/13507',\n",
       " '/theme/societe?field_type_indicateurs_target_id=32',\n",
       " '/',\n",
       " '/node/13519',\n",
       " '/theme/autres-statistiques?field_type_indicateurs_target_id=43',\n",
       " '/node/13516',\n",
       " '/taxonomy/term/17',\n",
       " '/node/13548',\n",
       " '/theme/demographie?field_type_indicateurs_target_id=27',\n",
       " '/themes/situation-economiques-et-sociales/ses-regionales%3Ffield_year_value%3DAll%26field_regions_ses_target_id%3D5',\n",
       " '/node/13506',\n",
       " '/taxonomy/term/6',\n",
       " '/taxonomy/term/7',\n",
       " '/node/13979',\n",
       " '/theme/societe?field_type_indicateurs_target_id=31',\n",
       " '/node/13508',\n",
       " '/enquete',\n",
       " 'https://web.facebook.com/ANSD.Senegal?_rdc=1&_rdr=',\n",
       " '/taxonomy/term/13',\n",
       " '/node/13504',\n",
       " '/node/13553',\n",
       " '/node/13513',\n",
       " '/taxonomy/term/11',\n",
       " '/node/13499',\n",
       " '/node/13591',\n",
       " '/taxonomy/term/10',\n",
       " '/theme/autres-statistiques?field_type_indicateurs_target_id=45',\n",
       " '/theme/societe?field_type_indicateurs_target_id=34',\n",
       " '/node/13512',\n",
       " '/theme/economie?field_type_indicateurs_target_id=23',\n",
       " '/calendrier-de-publications',\n",
       " '/theme/autres-statistiques?field_type_indicateurs_target_id=47',\n",
       " '/ses-regionales',\n",
       " '/node/13503',\n",
       " '/taxonomy/term/8',\n",
       " '/node/13663',\n",
       " '/regions',\n",
       " 'https://visa.ansd.sn',\n",
       " '/theme/societe?field_type_indicateurs_target_id=35',\n",
       " '/taxonomy/term/18',\n",
       " '/theme/demographie?field_type_indicateurs_target_id=26',\n",
       " '/node/16397',\n",
       " '/node/13511',\n",
       " '/node/14923',\n",
       " '/presentation-generale',\n",
       " '/node/13514',\n",
       " '/bulletin-le-phare',\n",
       " '/theme/societe?field_type_indicateurs_target_id=29',\n",
       " '/theme/autres-statistiques?field_type_indicateurs_target_id=46',\n",
       " '/node/14460',\n",
       " '/theme/societe?field_type_indicateurs_target_id=33',\n",
       " '/theme/economie?field_type_indicateurs_target_id=24',\n",
       " '/theme/societe',\n",
       " '/theme/economie?field_type_indicateurs_target_id=21',\n",
       " '/ressources',\n",
       " 'https://twitter.com/statsenegal',\n",
       " '/node/15815']"
      ]
     },
     "execution_count": 216,
     "metadata": {},
     "output_type": "execute_result"
    }
   ],
   "source": [
    "unique_rubrique = [v for v in set(ref)]\n",
    "unique_rubrique"
   ]
  },
  {
   "cell_type": "code",
   "execution_count": 217,
   "metadata": {},
   "outputs": [],
   "source": [
    "unique_rubrique = [item for item in unique_rubrique if item.rfind(\"node\") != 1]"
   ]
  },
  {
   "cell_type": "code",
   "execution_count": 218,
   "metadata": {},
   "outputs": [
    {
     "data": {
      "text/plain": [
       "66"
      ]
     },
     "execution_count": 218,
     "metadata": {},
     "output_type": "execute_result"
    }
   ],
   "source": [
    "len(unique_rubrique)"
   ]
  },
  {
   "cell_type": "code",
   "execution_count": 219,
   "metadata": {},
   "outputs": [
    {
     "data": {
      "text/plain": [
       "['/theme/economie',\n",
       " '/theme/demographie?field_type_indicateurs_target_id=25',\n",
       " '/contact',\n",
       " '/protection-des-donnees',\n",
       " '/toutes-les-publications',\n",
       " '/theme/economie?field_type_indicateurs_target_id=22',\n",
       " '/taxonomy/term/14',\n",
       " 'https://www.statsenegal.sn',\n",
       " '/theme/autres-statistiques',\n",
       " '/theme/autres-statistiques?field_type_indicateurs_target_id=50',\n",
       " '/mentions-legales',\n",
       " '/taxonomy/term/16',\n",
       " '/espace-presse',\n",
       " '/theme/demographie?field_type_indicateurs_target_id=30',\n",
       " '/taxonomy/term/12',\n",
       " '/ses-nationales',\n",
       " '/theme/demographie?field_type_indicateurs_target_id=28',\n",
       " 'http://recrute.ansd.sn/',\n",
       " '/theme/autres-statistiques?field_type_indicateurs_target_id=41',\n",
       " '/taxonomy/term/15',\n",
       " '/theme/societe?field_type_indicateurs_target_id=36',\n",
       " '/le-mots-du-directeur',\n",
       " '/theme/demographie',\n",
       " '/taxonomy/term/9',\n",
       " '/theme/autres-statistiques?field_type_indicateurs_target_id=49',\n",
       " 'https://appsi.ansd.sn',\n",
       " '/theme/economie?field_type_indicateurs_target_id=20',\n",
       " '/theme/autres-statistiques?field_type_indicateurs_target_id=44',\n",
       " '/autre-site',\n",
       " 'https://www.youtube.com/user/ANSDSenegal',\n",
       " '/theme/societe?field_type_indicateurs_target_id=32',\n",
       " '/',\n",
       " '/theme/autres-statistiques?field_type_indicateurs_target_id=43',\n",
       " '/taxonomy/term/17',\n",
       " '/theme/demographie?field_type_indicateurs_target_id=27',\n",
       " '/themes/situation-economiques-et-sociales/ses-regionales%3Ffield_year_value%3DAll%26field_regions_ses_target_id%3D5',\n",
       " '/taxonomy/term/6',\n",
       " '/taxonomy/term/7',\n",
       " '/theme/societe?field_type_indicateurs_target_id=31',\n",
       " '/enquete',\n",
       " 'https://web.facebook.com/ANSD.Senegal?_rdc=1&_rdr=',\n",
       " '/taxonomy/term/13',\n",
       " '/taxonomy/term/11',\n",
       " '/taxonomy/term/10',\n",
       " '/theme/autres-statistiques?field_type_indicateurs_target_id=45',\n",
       " '/theme/societe?field_type_indicateurs_target_id=34',\n",
       " '/theme/economie?field_type_indicateurs_target_id=23',\n",
       " '/calendrier-de-publications',\n",
       " '/theme/autres-statistiques?field_type_indicateurs_target_id=47',\n",
       " '/ses-regionales',\n",
       " '/taxonomy/term/8',\n",
       " '/regions',\n",
       " 'https://visa.ansd.sn',\n",
       " '/theme/societe?field_type_indicateurs_target_id=35',\n",
       " '/taxonomy/term/18',\n",
       " '/theme/demographie?field_type_indicateurs_target_id=26',\n",
       " '/presentation-generale',\n",
       " '/bulletin-le-phare',\n",
       " '/theme/societe?field_type_indicateurs_target_id=29',\n",
       " '/theme/autres-statistiques?field_type_indicateurs_target_id=46',\n",
       " '/theme/societe?field_type_indicateurs_target_id=33',\n",
       " '/theme/economie?field_type_indicateurs_target_id=24',\n",
       " '/theme/societe',\n",
       " '/theme/economie?field_type_indicateurs_target_id=21',\n",
       " '/ressources',\n",
       " 'https://twitter.com/statsenegal']"
      ]
     },
     "execution_count": 219,
     "metadata": {},
     "output_type": "execute_result"
    }
   ],
   "source": [
    "unique_rubrique"
   ]
  },
  {
   "cell_type": "code",
   "execution_count": 220,
   "metadata": {},
   "outputs": [],
   "source": [
    "all_link = [\"https://www.ansd.sn\"+item if item.rfind(\"https://\") !=1 else item for item in unique_rubrique]"
   ]
  },
  {
   "cell_type": "code",
   "execution_count": 221,
   "metadata": {},
   "outputs": [],
   "source": [
    "data = pd.DataFrame({\"site_link\" :all_link})\n",
    "data[\"rubriques\"] = \"\""
   ]
  },
  {
   "cell_type": "code",
   "execution_count": 222,
   "metadata": {},
   "outputs": [],
   "source": [
    "data.to_excel(\"link_rubriques_ansd.xlsx\")"
   ]
  },
  {
   "cell_type": "markdown",
   "metadata": {},
   "source": [
    "## ETRACT TEXT FOR STAT QUEST"
   ]
  },
  {
   "cell_type": "code",
   "execution_count": 223,
   "metadata": {},
   "outputs": [],
   "source": [
    "# scrape the page liste first\n",
    "\n",
    "def get_page(URL):\n",
    "    assert len(URL) > 0, f\"URL expected a non-empty string, got {URL}\"\n",
    "    soupe = MakeSoupe(URL)\n",
    "    soupe = soupe \\\n",
    "        .findAll(\"a\", {\"class\" : \"page-link\"})\n",
    "    return soupe\n",
    "\n"
   ]
  },
  {
   "cell_type": "code",
   "execution_count": 224,
   "metadata": {},
   "outputs": [
    {
     "name": "stderr",
     "output_type": "stream",
     "text": [
      "c:\\Users\\ANSD\\anaconda3\\lib\\site-packages\\urllib3\\connectionpool.py:1045: InsecureRequestWarning: Unverified HTTPS request is being made to host 'www.ansd.sn'. Adding certificate verification is strongly advised. See: https://urllib3.readthedocs.io/en/1.26.x/advanced-usage.html#ssl-warnings\n",
      "  warnings.warn(\n"
     ]
    }
   ],
   "source": [
    "page_result = get_page(\"https://www.ansd.sn/flash-stats?page=1\")"
   ]
  },
  {
   "cell_type": "code",
   "execution_count": 225,
   "metadata": {},
   "outputs": [],
   "source": [
    "set_page = set([item[\"href\"] for item in page_result])"
   ]
  },
  {
   "cell_type": "code",
   "execution_count": 226,
   "metadata": {},
   "outputs": [
    {
     "data": {
      "text/plain": [
       "['?page=4',\n",
       " '?page=8',\n",
       " '?page=5',\n",
       " '?page=2',\n",
       " '?page=3',\n",
       " '?page=7',\n",
       " '?page=13',\n",
       " '?page=6',\n",
       " '?page=0']"
      ]
     },
     "execution_count": 226,
     "metadata": {},
     "output_type": "execute_result"
    }
   ],
   "source": [
    "\n",
    "\n",
    "page_liste = [ v for v in set_page]\n",
    "page_liste\n"
   ]
  },
  {
   "cell_type": "code",
   "execution_count": 227,
   "metadata": {},
   "outputs": [],
   "source": [
    "def getGrid(URL):\n",
    "    assert len(URL) > 0, f\"URL expected a non-empty string, got {URL}\"\n",
    "    soupe = MakeSoupe(URL)\n",
    "    soupe = soupe \\\n",
    "        .find_all(\"div\", {\"class\" : \"field-content\"})\n",
    "    return soupe"
   ]
  },
  {
   "cell_type": "code",
   "execution_count": 228,
   "metadata": {},
   "outputs": [],
   "source": [
    "link_text = \"https://www.ansd.sn/flash-stats\""
   ]
  },
  {
   "cell_type": "code",
   "execution_count": 229,
   "metadata": {},
   "outputs": [
    {
     "name": "stderr",
     "output_type": "stream",
     "text": [
      "c:\\Users\\ANSD\\anaconda3\\lib\\site-packages\\urllib3\\connectionpool.py:1045: InsecureRequestWarning: Unverified HTTPS request is being made to host 'www.ansd.sn'. Adding certificate verification is strongly advised. See: https://urllib3.readthedocs.io/en/1.26.x/advanced-usage.html#ssl-warnings\n",
      "  warnings.warn(\n"
     ]
    }
   ],
   "source": [
    "list_grid = getGrid(link_text)"
   ]
  },
  {
   "cell_type": "code",
   "execution_count": 230,
   "metadata": {},
   "outputs": [
    {
     "data": {
      "text/plain": [
       "''"
      ]
     },
     "execution_count": 230,
     "metadata": {},
     "output_type": "execute_result"
    }
   ],
   "source": [
    "list_grid[5].getText()"
   ]
  },
  {
   "cell_type": "code",
   "execution_count": 231,
   "metadata": {},
   "outputs": [
    {
     "name": "stderr",
     "output_type": "stream",
     "text": [
      "c:\\Users\\ANSD\\anaconda3\\lib\\site-packages\\urllib3\\connectionpool.py:1045: InsecureRequestWarning: Unverified HTTPS request is being made to host 'www.ansd.sn'. Adding certificate verification is strongly advised. See: https://urllib3.readthedocs.io/en/1.26.x/advanced-usage.html#ssl-warnings\n",
      "  warnings.warn(\n",
      "c:\\Users\\ANSD\\anaconda3\\lib\\site-packages\\urllib3\\connectionpool.py:1045: InsecureRequestWarning: Unverified HTTPS request is being made to host 'www.ansd.sn'. Adding certificate verification is strongly advised. See: https://urllib3.readthedocs.io/en/1.26.x/advanced-usage.html#ssl-warnings\n",
      "  warnings.warn(\n",
      "c:\\Users\\ANSD\\anaconda3\\lib\\site-packages\\urllib3\\connectionpool.py:1045: InsecureRequestWarning: Unverified HTTPS request is being made to host 'www.ansd.sn'. Adding certificate verification is strongly advised. See: https://urllib3.readthedocs.io/en/1.26.x/advanced-usage.html#ssl-warnings\n",
      "  warnings.warn(\n",
      "c:\\Users\\ANSD\\anaconda3\\lib\\site-packages\\urllib3\\connectionpool.py:1045: InsecureRequestWarning: Unverified HTTPS request is being made to host 'www.ansd.sn'. Adding certificate verification is strongly advised. See: https://urllib3.readthedocs.io/en/1.26.x/advanced-usage.html#ssl-warnings\n",
      "  warnings.warn(\n",
      "c:\\Users\\ANSD\\anaconda3\\lib\\site-packages\\urllib3\\connectionpool.py:1045: InsecureRequestWarning: Unverified HTTPS request is being made to host 'www.ansd.sn'. Adding certificate verification is strongly advised. See: https://urllib3.readthedocs.io/en/1.26.x/advanced-usage.html#ssl-warnings\n",
      "  warnings.warn(\n",
      "c:\\Users\\ANSD\\anaconda3\\lib\\site-packages\\urllib3\\connectionpool.py:1045: InsecureRequestWarning: Unverified HTTPS request is being made to host 'www.ansd.sn'. Adding certificate verification is strongly advised. See: https://urllib3.readthedocs.io/en/1.26.x/advanced-usage.html#ssl-warnings\n",
      "  warnings.warn(\n",
      "c:\\Users\\ANSD\\anaconda3\\lib\\site-packages\\urllib3\\connectionpool.py:1045: InsecureRequestWarning: Unverified HTTPS request is being made to host 'www.ansd.sn'. Adding certificate verification is strongly advised. See: https://urllib3.readthedocs.io/en/1.26.x/advanced-usage.html#ssl-warnings\n",
      "  warnings.warn(\n",
      "c:\\Users\\ANSD\\anaconda3\\lib\\site-packages\\urllib3\\connectionpool.py:1045: InsecureRequestWarning: Unverified HTTPS request is being made to host 'www.ansd.sn'. Adding certificate verification is strongly advised. See: https://urllib3.readthedocs.io/en/1.26.x/advanced-usage.html#ssl-warnings\n",
      "  warnings.warn(\n",
      "c:\\Users\\ANSD\\anaconda3\\lib\\site-packages\\urllib3\\connectionpool.py:1045: InsecureRequestWarning: Unverified HTTPS request is being made to host 'www.ansd.sn'. Adding certificate verification is strongly advised. See: https://urllib3.readthedocs.io/en/1.26.x/advanced-usage.html#ssl-warnings\n",
      "  warnings.warn(\n"
     ]
    }
   ],
   "source": [
    "content = {}\n",
    "for page in page_liste:\n",
    "    content[page] = getGrid(link_text+page)"
   ]
  },
  {
   "cell_type": "code",
   "execution_count": 197,
   "metadata": {},
   "outputs": [],
   "source": [
    "def extract_test(in_list):\n",
    "    return [item.get_text().replace('\\xa0', ' ') for item in in_list]"
   ]
  },
  {
   "cell_type": "code",
   "execution_count": 246,
   "metadata": {},
   "outputs": [
    {
     "data": {
      "text/plain": [
       "'Le présent Bulletin[1] résume les statistiques économiques et financières du mois d’octobre 2023 réparties en quatre grandes parties, à savoir le secteur primaire, le secteur secondaire, le secteur tertiaire et les autres statistiques.\\n\\xa0\\n\\n[1] Le Bulletin mensuel des statistiques est publié au plus tard soixante jours après la fin du mois sous revu.\\n\\n\\n'"
      ]
     },
     "execution_count": 246,
     "metadata": {},
     "output_type": "execute_result"
    }
   ],
   "source": [
    "content[\"?page=0\"][0].get_text()"
   ]
  },
  {
   "cell_type": "code",
   "execution_count": 247,
   "metadata": {},
   "outputs": [],
   "source": [
    "def extr_on(mydict):\n",
    "    for element in mydict :\n",
    "        mydict[element] = list(map(extract_test, mydict[element]))"
   ]
  },
  {
   "cell_type": "code",
   "execution_count": 248,
   "metadata": {},
   "outputs": [
    {
     "data": {
      "text/plain": [
       "{'?page=4': [<div class=\"field-content\"><p><i>L’activité industrielle est marquée, en août 2023, par une diminution de 0,7% des prix de la production industrielle hors égrenage de coton, comparativement à ceux du mois précédent. Cette évolution est induite par le repli des prix des produits manufacturés (-1,4%). En revanche, les prix des produits des industries extractives se sont renchéris de +1,1% sur la période sous revue. </i></p>\n",
       "  </div>,\n",
       "  <div class=\"field-content\"><p>Au deuxième trimestre de l’année 2023, le Produit Intérieur Brut (PIB) réel, corrigé des variations saisonnières (CVS), s’est rehaussé de 0,1%, par rapport au trimestre précédent. Ce résultat est imputable à l’accroissement des valeurs ajoutées des secteurs primaire (+2,6%) et tertiaire (+0,7%). En revanche, le secteur secondaire s’est replié de 2,0% ainsi que les taxes nettes de subventions sur les produits (-1,9%).</p>\n",
       "  </div>,\n",
       "  <div class=\"field-content\"><p>Au deuxième trimestre de l’année 2023, le Produit Intérieur Brut (PIB) réel, corrigé des variations saisonnières (CVS), s’est rehaussé de 0,1%, par rapport au trimestre précédent. Ce résultat est imputable à l’accroissement des valeurs ajoutées des secteurs primaire (+2,6%) et tertiaire (+0,7%). En revanche, le secteur secondaire s’est replié de 2,0% ainsi que les taxes nettes de subventions sur les produits (-1,9%).</p>\n",
       "  </div>,\n",
       "  <div class=\"field-content\"><p>Les prix des matériaux de construction ont baissé de 0,5% en août 2023, comparativement au mois précédent. Ce repli provient, principalement, de la baisse des prix des matériaux de base (-0,6%), des matériaux de plomberie et sanitaire (-0,5%) ainsi que des matériaux pour le revêtement des mur et sol (-0,5%). En variation annuelle<a href=\"#_ftn1\" id=\"_ftnref1\" name=\"_ftnref1\" title=\"\"><b>[1]</b></a>, les prix des matériaux de construction se sont repliés de 3,2%.   </p>\n",
       "  <div> \n",
       "  <hr align=\"left\" size=\"1\" width=\"33%\"/><div id=\"ftn1\">\n",
       "  <p><a href=\"#_ftnref1\" id=\"_ftn1\" name=\"_ftn1\" title=\"\">[1]</a> Variation entre les mêmes mois de deux années consécutives</p>\n",
       "  </div>\n",
       "  </div>\n",
       "  </div>,\n",
       "  <div class=\"field-content\"><p>Le chiffre d’affaires dans l’industrie a diminué de 2,0% au deuxième trimestre 2023, comparé à celui de la même période de 2022, sous l’effet du repli de celui des industries manufacturières (-7,5%) et environnementales (-1,0%). En revanche, les chiffres d’affaires de la production d’électricité de gaz et d’eau (+31,6%) ainsi que des industries extractives (+1,4%) se sont accrus sur la période sous revue.</p>\n",
       "  </div>,\n",
       "  <div class=\"field-content\"><p>Au deuxième trimestre 2023, le chiffre d’affaires réalisé dans le secteur de la construction s’est amélioré de 22,6% relativement à celui du même trimestre de 2022. Cette évolution résulte principalement du relèvement des s d’affaires dans les sous-secteurs des activités spécialisées de construction (+39,0%) et du génie civil (+35,1%). De même, le chiffre d’affaires issu de la construction de bâtiments s’est rehaussé de 7,2% sur la période sous revue.</p>\n",
       "  </div>,\n",
       "  <div class=\"field-content\"><p>Au mois de juillet 2023, les exportations du Sénégal sont ressorties à 274,1 milliards de FCFA contre 256,8 milliards de FCFA au mois précédent, soit une hausse de 6,8%. Quant aux importations, elles sont évaluées à 609,5 milliards de FCFA contre 606,4 milliards de FCFA au mois précédent, soit une augmentation de 0,5%.</p>\n",
       "  </div>,\n",
       "  <div class=\"field-content\"><p>En juillet 2023, la production industrielle hors égrenage de coton s’est repliée de 2,7%  relativement à celle de la même période en 2022. Cette diminution est imputable à la contreperformance notée dans la production des industries extractives (-16,9%) et manufacturière (-0,1%), dans une moindre mesure. En revanche, la production d’électricité, de gaz et d’eau (+10,5%) ainsi que celle des industries environnementales (+14,7%) s’est améliorée sur la période sous revue. Sur les sept premiers mois de 2023, la production industrielle a baissé de 1,9%, par rapport à la période correspondante de 2022.</p>\n",
       "  <p> </p>\n",
       "  </div>,\n",
       "  <div class=\"field-content\"><p>Les prix à la consommation du mois d’août 2023 ont augmenté de 1,8%, comparés à ceux du mois précédent. Cette évolution résulte, particulièrement, de l’accroissement des prix des « produits alimentaires et boissons non alcoolisées » (+3,2%) et, dans une moindre mesure, du renchérissement des services de « restaurants et hôtels » (+0,4%), des « transports » (+0,2%), ainsi que des « biens et services divers » (+0,2%). Par rapport au mois d’août 2022, les prix à la consommation se sont accrus de 5,3%.</p>\n",
       "  </div>,\n",
       "  <div class=\"field-content\"><p>L’activité industrielle est marquée, en juillet 2023, par une augmentation de 1,2% des prix de la production industrielle hors égrenage de coton, comparativement à ceux du mois précédent. Cette évolution est en relation, avec le relèvement des prix des produits manufacturés (+2,2%). Par ailleurs, une stabilité des prix des produits des industries environnementales, ainsi que de l'électricité, eau et gaz, est notée sur  la période sous revue.</p>\n",
       "  </div>],\n",
       " '?page=8': [<div class=\"field-content\"><p>Les prix à la consommation du mois de mai 2023 ont augmenté légèrement de 0,1%, comparés à ceux du mois précédent. Cette évolution résulte, principalement, de la hausse des prix des « biens et services divers » (+1,4%), des services de « communication » (+0,5%),</p>\n",
       "  </div>,\n",
       "  <div class=\"field-content\"><p>Le présent Bulletin résume les statistiques économiques et financières du mois de mars 2023 réparties en quatre grandes parties, à savoir le secteur primaire, le secteur secondaire, le secteur tertiaire et les autres statistiques.</p>\n",
       "  </div>,\n",
       "  <div class=\"field-content\"><p>En mars 2023, la production totale d’électricité<a href=\"#_ftn1\" id=\"_ftnref1\" name=\"_ftnref1\" title=\"\">[1]</a> s’est bonifiée de 26,5% en rythme mensuel. Cette situation est liée à une hausse de la demande</p>\n",
       "  <p>Par rapport au mois de février 2023, l’activité minière dans le secteur moderne est marquée par une progression de la production en valeur de zircon (+28,5%), de l’or (+26,6%) et de sel iodé (+15,2%) en mars 2023. Par contre, celle de l’attapulgite (-10,5%) a été revue à la baisse sur cette même période</p>\n",
       "  <div> \n",
       "  <hr align=\"left\" size=\"1\" width=\"33%\"/><div id=\"ftn1\">\n",
       "  <p><a href=\"#_ftnref1\" id=\"_ftn1\" name=\"_ftn1\" title=\"\">[1]</a> Production propre de la SENELEC + Achats auprès des autres producteurs</p>\n",
       "  </div>\n",
       "  </div>\n",
       "  <p>l’activité minière dans le secteur moderne est marquée par une progression de la production en valeur de zircon (+28,5%), de l’or (+26,6%) et de sel iodé (+15,2%) en mars 2023</p>\n",
       "  </div>,\n",
       "  <div class=\"field-content\"><p>L’activité industrielle est marquée, en avril 2023, par une augmentation de 0,6% des prix de la production industrielle hors égrenage de coton, comparativement à ceux du mois précédent. En variation annuelle, les prix de la production industrielle hors égrenage de coton ont bondi de 1,0% en avril 2023, sous l’effet de l’appréciation des prix des produits extractifs (+4,4%) et de l’électricité, gaz et eau (+7,7%).</p>\n",
       "  </div>,\n",
       "  <div class=\"field-content\"><p>Au Sénégal, le taux d’inflation s’est établi à +9,7% en 2022, après 2,2% l’année précédente. La tension sur les prix à la consommation est induite principalement par la hausse des prix des produits alimentaires résultant notamment de celle des cours mondiaux des matières premières de base. De même, la hausse des prix de certaines fonctions de consommation, telles que les « meubles, articles de ménage et entretien courant du foyer », les biens et services de « transports »,  de « restaurants et hôtels », « d’enseignement », ainsi que de « logement, eau, gaz, électricité et autres combustibles » ont aussi concouru au relèvement des prix intérieurs.</p>\n",
       "  </div>,\n",
       "  <div class=\"field-content\"><p>Dans le cadre du projet « comptabilité économique et environnementale pour une politique factuelle au Sénégal » en collaboration avec la Division de Statistique des Nations Unies (UNSD), le Sénégal a compilé les comptes de l’occupation des sols de 2010 et 2015.</p>\n",
       "  <p>Les résultats montrent que le Sénégal est principalement constitué de <b>surface boisée</b>, soit 69,8% de la superficie totale en 2010. Sa superficie a toutefois connu une régression de 5,6% sur la période 2010- 2015. La deuxième classe la plus importante est celle des <b>surfaces cultivées </b>(24,4% en 2010) qui, par contre, a vu sa superficie augmenter de 13,5%.</p>\n",
       "  </div>,\n",
       "  <div class=\"field-content\"><p>Au mois de mars 2023, les exportations du Sénégal se sont établies à 327,6 milliards de FCFA contre 252,8 milliards de FCFA au mois précédent, soit une augmentation de 29,6%. Comparées au mois de mars 2022, les expéditions ont chuté de 3,8%. Leur cumul sur le premier trimestre 2023 s’est établi à 958,4 milliards de FCFA contre 840,0 milliards de FCFA pour la même période de 2022, soit une augmentation de 14,1%.</p>\n",
       "  </div>,\n",
       "  <div class=\"field-content\"><p>Au mois de mars 2023, les prix des produits à l’importation ont augmenté de 2,4%, comparés au mois précédent. Par rapport au mois de mars 2022, les prix des produits importés ont progressé de 20,6%. Sur les trois premiers mois de 2023, les produits achetés de l’extérieur se sont renchéris de 18,7%, en comparaison à ceux de la même période de 2022.</p>\n",
       "  </div>,\n",
       "  <div class=\"field-content\"><p>Les prix à la consommation du mois d’avril 2023 se sont relevés de 0,5%, comparés à ceux du mois précédent. Cette évolution résulte, principalement, de la hausse des prix des « produits alimentaires et boissons non alcoolisées » (+1,2%) et, dans une moindre mesure, des « biens et services divers » (+0,6%), des « articles d'habillement et chaussures » (+0,5%), ainsi que des « boissons alcoolisées, tabac et stupéfiants » (+0,4%). Toutefois, le repli des prix des services de « logement, eau, gaz, électricité et autres combustibles » (-1,6%) et de « communication » (-0,4%) a atténué cette tendance haussière. Par rapport au mois d’avril 2022, les prix à la consommation se sont accrus de 9,0%.</p>\n",
       "  </div>,\n",
       "  <div class=\"field-content\"><p>L’activité industrielle est marquée, en mars 2023, par une augmentation de 1,0% des prix de la production industrielle hors égrenage de coton, comparativement à ceux du mois précédent. En variation annuelle, les prix de la production industrielle hors égrenage de coton ont bondi de 1,3% en mars 2023, sous l’effet de l’appréciation des prix des produits extractifs (+4,3%) et de ceux des produits manufacturiers (+0,4%).</p>\n",
       "  </div>],\n",
       " '?page=5': [<div class=\"field-content\"><p>Les prix des matériaux de construction ont baissé de 0,2% en juillet 2023, comparativement au mois précédent. Ce repli provient, principalement, de la diminution des prix des matériaux pour travaux d’électricité (-0,6%), des matériaux de base (-0,3%) ainsi que des matériaux de menuiserie (-0,3%). En variation annuelle, les prix des matériaux de construction ont chuté de 2,7%.   </p>\n",
       "  </div>,\n",
       "  <div class=\"field-content\"><p>Au mois de juin 2023, les exportations du Sénégal sont ressorties à 256,8 milliards de FCFA contre 301,9 milliards de FCFA au mois précédent, soit une baisse de 14,9%. Comparées au mois de juin 2022, les exportations se sont repliées de 25,0%. Leur cumul à fin juin 2023 s’est établi à 1 766,7 milliards de FCFA contre 1 718,1 milliards de FCFA pour la même période de 2022, soit une hausse de 2,8%.</p>\n",
       "  </div>,\n",
       "  <div class=\"field-content\"><p>Au mois de juin 2023, les prix des produits à l’importation ont baissé de 0,2%, comparés au mois précédent. Par rapport au mois de juin 2022, les prix des produits importés ont chuté de 4,9%. Sur les six premiers mois de 2023, les produits achetés de l’extérieur se sont renchéris de 9,5%, en comparaison à ceux de la même période de 2022.</p>\n",
       "  </div>,\n",
       "  <div class=\"field-content\"><p>Le coût de la construction des logements neufs à usage d'habitation a baissé de 0,2% au deuxième trimestre 2023, par rapport au trimestre précédent. Cette évolution résulte essentiellement du repli des prix des matériaux de construction (-0,8%). Toutefois, le renchérissement de la location du matériel (+2,4%), de la main d’œuvre (+1,3%) et des moyens de gestion (+1,1%) a amoindri cette baisse. En variation annuelle, il s’est accru de 1,7%.</p>\n",
       "  </div>,\n",
       "  <div class=\"field-content\"><p><i>En juin 2023, la production industrielle hors égrenage de coton s’est améliorée de 6,1%  relativement à celle de la même période en 2022. Cet accroissement est imputable à la performance notée dans la production d’électricité, de gaz et d’eau (+22,5%), des industries extractives (+18,4%) et, dans une moindre mesure de l’industrie manufacturière (+0,4%). En revanche, la production des industries environnementales s’est légèrement détériorée sur la période sous revue (-0,4%). </i></p>\n",
       "  </div>,\n",
       "  <div class=\"field-content\"><p> </p>\n",
       "  <p><strong>Les prix à la consommation du mois de juillet 2023 ont augmenté de 2,1%, comparés à ceux du mois précédent.</strong> <b>Cette évolution provient, principalement, du renchérissement des « produits alimentaires et boissons non alcoolisées » (+3,8%) et, dans une moindre mesure, des biens et services de « santé » (+0,9%), de « communication » (+0,5%), ainsi que de la fonction « logement, eau, gaz, électricité et autres combustibles » (+0,2%). </b></p>\n",
       "  </div>,\n",
       "  <div class=\"field-content\"><p><i>Le présent Bulletin<a href=\"#_ftn1\" id=\"_ftnref1\" name=\"_ftnref1\" title=\"\"><b>[1]</b></a> résume les statistiques économiques et financières du mois de mai 2023 réparties en quatre grandes parties, à savoir le secteur primaire, le secteur secondaire, le secteur tertiaire et les autres statistiques</i></p>\n",
       "  <div><i>la partie intitulée « Autres statistiques » résume les données sur les entreprises nouvellement immatriculées au Numéro d’Identification National des Entreprises et Associations, la situation de l’emploi dans le secteur formel, l’Indice Harmonisé des Prix à la Consommation, le commerce extérieur et les statistiques financières. </i>\n",
       "  <hr align=\"left\" size=\"1\" width=\"33%\"/><div id=\"ftn1\">\n",
       "  <p><a href=\"#_ftnref1\" id=\"_ftn1\" name=\"_ftn1\" title=\"\">[1]</a> Le Bulletin mensuel des statistiques est publié au plus tard soixante jours après la fin du mois sous revu.</p>\n",
       "  </div>\n",
       "  </div>\n",
       "  </div>,\n",
       "  <div class=\"field-content\"><p>Le nombre d’employés dans le secteur moderne, hors administration publique, a progressé de 0,3% entre 2021 et 2022. Cette évolution résulte de l’augmentation des effectifs dans le commerce (+9,6%), la construction (+2,0%) et les services (+1,5%). En revanche, les emplois dans l’industrie se sont contractés (-5,1%) sur la période.</p>\n",
       "  </div>,\n",
       "  <div class=\"field-content\"><p>Au mois sous revue, la production totale d’électricité<a href=\"#_ftn1\" id=\"_ftnref1\" name=\"_ftnref1\" title=\"\">[1]</a> de la SENELEC est évaluée à 558,8 GWH<a href=\"#_ftn2\" id=\"_ftnref2\" name=\"_ftnref2\" title=\"\">[2]</a> contre 522,2 GWH au mois précédent, soit une hausse de 6,9%. Ceci est en liaison avec la hausse simultanée de la production propre de la SENELEC (+7,3%) et des achats auprès des autres producteurs (+6,7%). Par rapport à mai 2022, la production totale d’électricité s’est accrue de 11,9%.</p>\n",
       "  <div> \n",
       "  <hr align=\"left\" size=\"1\" width=\"33%\"/><div id=\"ftn1\">\n",
       "  <p><a href=\"#_ftnref1\" id=\"_ftn1\" name=\"_ftn1\" title=\"\">[1]</a> Production propre de la SENELEC + Achats auprès des autres producteurs</p>\n",
       "  </div>\n",
       "  <div id=\"ftn2\">\n",
       "  <p><a href=\"#_ftnref2\" id=\"_ftn2\" name=\"_ftn2\" title=\"\">[2]</a> Gigawatt-heures</p>\n",
       "  </div>\n",
       "  </div>\n",
       "  </div>,\n",
       "  <div class=\"field-content\"><p>Les prix des matériaux de construction ont baissé de 0,4% en juin 2023, comparativement au mois précédent. Ce repli est consécutif à celui des prix des matériaux de base (-0,6%), des matériaux de plomberie et sanitaire (-0,3%) ainsi que des matériaux de menuiserie (-0,2%). En       variation annuelle<a href=\"#_ftn1\" id=\"_ftnref1\" name=\"_ftnref1\" title=\"\"><b>[1]</b></a>, les prix des matériaux de construction se sont contractés de 1,7%.   </p>\n",
       "  <div> \n",
       "  <hr align=\"left\" size=\"1\" width=\"33%\"/><div id=\"ftn1\">\n",
       "  <p><a href=\"#_ftnref1\" id=\"_ftn1\" name=\"_ftn1\" title=\"\">[1]</a> Variation entre les mêmes mois de deux années consécutives</p>\n",
       "  </div>\n",
       "  </div>\n",
       "  </div>],\n",
       " '?page=2': [<div class=\"field-content\"><p>Les prix de production des services d’hébergement et de restauration ont augmenté de 0,4% au troisième trimestre 2023, comparés à ceux du trimestre précédent, sous l’effet du renchérissement des services de restauration (+1,8%).</p>\n",
       "  </div>,\n",
       "  <div class=\"field-content\"><p><br/>\n",
       "  Au courant du trimestre sous revu, le taux d’emploi1 qui mesure la part des personnes<br/>\n",
       "  en emploi parmi celles en âge de travailler est ressorti à 46,0%. Il s’est bonifié de 4,0<br/>\n",
       "  points de pourcentage par rapport au deuxième trimestre de 2022 (42,0%).</p>\n",
       "  </div>,\n",
       "  <div class=\"field-content\"><p><br/>\n",
       "  II. Niveau d’emploi<br/>\n",
       "  Le niveau d’emploi est déterminé à travers le taux d’emploi1 qui mesure la part des<br/>\n",
       "  personnes en emploi parmi celles en âge de travailler. Au trimestre sous revu, il est<br/>\n",
       "  ressorti à 43,9%, indiquant une augmentation de 5,8 points de pourcentage par<br/>\n",
       "  rapport au premier trimestre de 2022 où il était estimé à 38,1%.</p>\n",
       "  </div>,\n",
       "  <div class=\"field-content\"><p><i>Les prix de la production industrielle hors égrenage de coton ont augmenté de 1,6% en octobre 2023 comparativement à ceux du mois précédent. Cette situation est induite par le renchérissement des prix des produits manufacturés (+2,2%) et de ceux des produits des industries extractives (+0,8%). Cependant, les prix des produits des industries environnementales, ainsi que de l'électricité, eau et gaz n’ont pas connu de variation. </i></p>\n",
       "  </div>,\n",
       "  <div class=\"field-content\"><p><i>Les prix de la production industrielle hors égrenage de coton ont augmenté de 1,6% en octobre 2023 comparativement à ceux du mois précédent. Cette situation est induite par le renchérissement des prix des produits manufacturés (+2,2%) et de ceux des produits des industries extractives (+0,8%). Cependant, les prix des produits des industries environnementales, ainsi que de l'électricité, eau et gaz n’ont pas connu de variation. </i></p>\n",
       "  </div>,\n",
       "  <div class=\"field-content\"><p>Les prix des matériaux de construction ont baissé de 0,4% en octobre 2023, comparativement au mois précédent. Ce repli est consécutif à celui des prix des matériaux de plomberie et sanitaire (-0,6%), des prix des matériaux de base (-0,4%) ainsi que des matériaux de      menuiserie (-0,4%). En variation annuelle<a href=\"#_ftn1\" id=\"_ftnref1\" name=\"_ftnref1\" title=\"\"><b>[1]</b></a>, les prix des matériaux de construction se sont contractés de 4,6%.   </p>\n",
       "  <div> \n",
       "  <hr align=\"left\" size=\"1\" width=\"33%\"/><div id=\"ftn1\">\n",
       "  <p><a href=\"#_ftnref1\" id=\"_ftn1\" name=\"_ftn1\" title=\"\">[1]</a> Variation entre les mêmes mois de deux années consécutives</p>\n",
       "  </div>\n",
       "  </div>\n",
       "  </div>,\n",
       "  <div class=\"field-content\"><p>Au mois d’août 2023, la production totale d’électricité<a href=\"#_ftn1\" id=\"_ftnref1\" name=\"_ftnref1\" title=\"\">[1]</a> de la SENELEC a fléchi de 1,0% passant de 623,2 GWH<a href=\"#_ftn2\" id=\"_ftnref2\" name=\"_ftnref2\" title=\"\">[2]</a> au mois précédent à 617,1 GWH. l’activité minière, suivie auprès des entreprises formelles, est caractérisée par le relèvement des productions en valeur du zircon (+19,6%), de l’or (+9,5%), du sel iodé (+4,9%) et de l’attapulgite (+4,4%), en variation mensuelle.</p>\n",
       "  <div> \n",
       "  <hr align=\"left\" size=\"1\" width=\"33%\"/><div id=\"ftn1\">\n",
       "  <p><a href=\"#_ftnref1\" id=\"_ftn1\" name=\"_ftn1\" title=\"\">[1]</a> Production propre de la SENELEC + Achats auprès des autres producteurs</p>\n",
       "  </div>\n",
       "  <div id=\"ftn2\">\n",
       "  <p><a href=\"#_ftnref2\" id=\"_ftn2\" name=\"_ftn2\" title=\"\">[2]</a> Gigawatt-heures</p>\n",
       "  </div>\n",
       "  </div>\n",
       "  </div>,\n",
       "  <div class=\"field-content\"><p>Le coût de la construction des logements neufs à usage d'habitation a baissé de 0,2% au troisième trimestre 2023, par rapport au trimestre précédent.</p>\n",
       "  <p>En variation annuelle<a href=\"#_ftn1\" id=\"_ftnref1\" name=\"_ftnref1\" title=\"\"><b>[1]</b></a>, le coût de la construction a enregistré une diminution de 0,5%.</p>\n",
       "  <div> \n",
       "  <hr align=\"left\" size=\"1\" width=\"33%\"/><div id=\"ftn1\">\n",
       "  <p><a href=\"#_ftnref1\" id=\"_ftn1\" name=\"_ftn1\" title=\"\">[1]</a> Variation entre les mêmes trimestres de deux années consécutives</p>\n",
       "  </div>\n",
       "  </div>\n",
       "  </div>,\n",
       "  <div class=\"field-content\"><p>En septembre 2023, les prix des produits à l’importation se sont relevés de 2,0%, comparés au mois précédent. En septembre 2023, les prix des produits à l’importation se sont relevés de 2,0%, comparés au mois précédent. Les prix des produits à l’exportation se sont appréciés de 1,4% au mois de septembre 2023, par rapport au mois précédent</p>\n",
       "  </div>,\n",
       "  <div class=\"field-content\"><p><i>Au mois de septembre 2023, les exportations du Sénégal se sont établies à 214,0 milliards de FCFA contre 246,5 milliards de FCFA au mois précédent, soit un repli de 13,2%. Les importations du mois de septembre 2023 sont évaluées à 562,2 milliards de FCFA contre 679,2 milliards de FCFA au mois précédent, soit une réduction de 17,2%.</i></p>\n",
       "  </div>],\n",
       " '?page=3': [<div class=\"field-content\"><p>En septembre 2023, la production industrielle hors égrenage de coton s’est relevée de 2,8%  relativement à celle de la même période en 2022. Sur les neuf premiers mois de 2023, la production industrielle a baissé de 1,1%, par rapport à la période correspondante de 2022.</p>\n",
       "  </div>,\n",
       "  <div class=\"field-content\"><p>Les prix à la consommation du mois d’octobre 2023 sont globalement demeurés stables, comparés à ceux du mois précédent. Le renchérissement des services d’« enseignement » (+1,6%), des biens et services de « santé » (+0,8%), de « loisirs et culture » (+0,5%) et de « communication » (+0,4%) est contrebalancé par la diminution des prix des services de « transports » (-0,2%) et des « produits alimentaires et boissons non alcoolisées » (-0,1%). Par rapport au mois d’octobre 2022, les prix à la consommation se sont accrus de 2,4%.</p>\n",
       "  <p>Hors énergie et produits frais, les prix à la consommation se sont relevés de 0,3% en rythme mensuel et de 1,4% par rapport au mois d’octobre 2022.</p>\n",
       "  </div>,\n",
       "  <div class=\"field-content\"><p>La population résidente au Sénégal, recensée en 2023 est de <b>18 032 473 habitants, </b>dont<b> 8 900 614 femmes (49,4%) </b>et<b> 9 131 859 hommes (50,6%)</b>.</p>\n",
       "  <p>Elle s’établissait à 13 508 715 habitants en 2013, soit un taux d’accroissement moyen annuel intercensitaire de 2,9% qui est resté constant entre les deux périodes. Avec une population de 4 958 085 en 1976 et 6 881 919 en 1988, les taux d’accroissement intercensitaires étaient respectivement de 2,7 % et 2,5 % pour 1976-1988 et 1988-2002.</p>\n",
       "  </div>,\n",
       "  <div class=\"field-content\"><p>Les prix des matériaux de construction ont baissé de 0,9% en septembre 2023, comparativement au mois précédent. Ce repli provient, principalement, de la baisse des prix des          matériaux de base (-1,4%) ainsi que des matériaux pour travaux d’électricité (-0,7%). En variation annuelle<a href=\"#_ftn1\" id=\"_ftnref1\" name=\"_ftnref1\" title=\"\"><b>[1]</b></a>, les prix des matériaux de construction se sont repliés de 4,2%.   </p>\n",
       "  <div> \n",
       "  <hr align=\"left\" size=\"1\" width=\"33%\"/><div id=\"ftn1\">\n",
       "  <p><a href=\"#_ftnref1\" id=\"_ftn1\" name=\"_ftn1\" title=\"\">[1]</a> Variation entre les mêmes mois de deux années consécutives</p>\n",
       "  </div>\n",
       "  </div>\n",
       "  </div>,\n",
       "  <div class=\"field-content\"><p><i>L’activité industrielle est marquée, en septembre 2023, par une constance des prix de la production industrielle hors égrenage de coton, comparativement à ceux du mois précédent. Cette situation est induite par le maintien des prix des produits des industries environnementales, ainsi que de l'électricité, eau et gaz. En outre, le renchérissement de 0,4 des prix des produits des industries extractives a été contrebalancé par le recul des prix des produits manufacturés (-0,1%)</i></p>\n",
       "  </div>,\n",
       "  <div class=\"field-content\"><p>En août 2023, les prix des produits à l’importation se sont repliés de 3,3%, comparés au mois précédent. Les prix des produits à l’exportation ont diminué de 1,0% au mois d’août 2023, par rapport au mois précédent.</p>\n",
       "  </div>,\n",
       "  <div class=\"field-content\"><p><i>Au mois d’août 2023, les exportations du Sénégal se sont établies à 246,5 milliards de FCFA contre 274,1 milliards de FCFA au mois précédent, soit un repli de 10,1%.Les importations du mois d’août 2023 sont évaluées à 679,2 milliards de FCFA contre 609,5 milliards de FCFA au mois précédent, soit une augmentation de 11,4%.</i></p>\n",
       "  </div>,\n",
       "  <div class=\"field-content\"><p>Au mois de juillet 2023, les prix des produits à l’importation se sont relevés de 0,5%, comparés au mois précédent.</p>\n",
       "  <p>Les prix des produits à l’exportation ont diminué de 2,2% au mois de juillet 2023, par rapport au mois précédent.</p>\n",
       "  <p>Les termes de l’échange sont ressortis à 0,94 au mois de juillet 2023 contre 0,96 au mois précédent.</p>\n",
       "  </div>,\n",
       "  <div class=\"field-content\"><p>Les prix à la consommation du mois de septembre 2023 ont diminué de 0,3%, comparés à ceux du mois précédent. <b>Cette évolution résulte, principalement, du repli des prix des « produits alimentaires et boissons non alcoolisées » (-0,7%), des « boissons alcoolisées, tabac et stupéfiants » (-0,3%) et des services de « restaurants et hôtels » (-0,3%). Toutefois, le renchérissement des services de « communication » (+1,2%), des « articles d'habillement et chaussures » (+0,3%), ainsi que des « biens et services divers » (+0,2%) ont amoindri cette tendance baissière. </b>Par rapport au mois de septembre 2022, les prix à la consommation se sont accrus de 3,8%.</p>\n",
       "  </div>,\n",
       "  <div class=\"field-content\"><p>Le nombre d’employés dans le secteur moderne, hors administration publique, s’est accru de 1,4% au deuxième trimestre 2023, comparativement à celui de la période correspondante de l’année précédente. le nombre d’employés salariés dans le secteur moderne hors administration publique est évalué à 340 641 contre 336 037 un an plus tôt, soit une progression de 1,4%</p>\n",
       "  </div>],\n",
       " '?page=7': [<div class=\"field-content\"><p>Les prix des matériaux de construction ont baissé de 0,3% en mai 2023, comparativement au mois précédent. Ce repli est consécutif à celui des prix des matériaux de base (-0,5%) et des matériaux de menuiserie (-0,2%). En variation annuelle<a href=\"#_ftn1\" id=\"_ftnref1\" name=\"_ftnref1\" title=\"\"><b>[1]</b></a>, les prix des matériaux de construction sont restés stables.   </p>\n",
       "  <div> \n",
       "  <hr align=\"left\" size=\"1\" width=\"33%\"/><div id=\"ftn1\">\n",
       "  <p><a href=\"#_ftnref1\" id=\"_ftn1\" name=\"_ftn1\" title=\"\">[1]</a> Variation entre les mêmes mois de deux années consécutives</p>\n",
       "  </div>\n",
       "  </div>\n",
       "  </div>,\n",
       "  <div class=\"field-content\"><p>Au premier trimestre 2023, le nombre d’employés salariés dans le secteur moderne hors administration publique est évalué à 333 321 contre 339 611 un an plus tôt, soit une baisse de 1,9%. En revanche, les rémunérations globales ont progressé de 1,8% sur la même période. Concernant les heures hebdomadaires moyennes travaillées par employé, elles ont diminué sur la période (-0,5%).  </p>\n",
       "  </div>,\n",
       "  <div class=\"field-content\"><p>L’activité industrielle est marquée, en mai 2023, par un repli de 1,1% des prix de la production industrielle hors égrenage de coton, comparativement à ceux du mois précédent. Cette évolution est en relation, avec la régression des prix des produits des industries extractives (-2,4%) et manufacturés (-0,8%). Par ailleurs, une stabilité des prix des produits des industries environnementales, ainsi que de l'électricité, eau et gaz, est notée sur  la période sous revue.</p>\n",
       "  </div>,\n",
       "  <div class=\"field-content\"><p>Au premier trimestre de l’année 2023, le Produit Intérieur Brut (PIB) réel, corrigé des variations saisonnières (CVS), s’est replié de 0,8%, par rapport au trimestre précédent. Ce résultat est imputable à la baisse des valeurs ajoutées des secteurs secondaire (-0,6%) et tertiaire (-0,1%) ainsi que des taxes nettes de subventions sur les produits (-10,0%). En revanche, le secteur primaire s’est renforcé de 3,3%</p>\n",
       "  </div>,\n",
       "  <div class=\"field-content\"><p>Le chiffre d’affaires des services d’hébergement et de restauration a augmenté de 42,0% au premier trimestre 2023, comparé à la même période de l’année précédente</p>\n",
       "  </div>,\n",
       "  <div class=\"field-content\"><p>Au mois d’avril 2023, les prix des produits à l’importation ont légèrement augmenté (+0,2%), comparés au mois précédent Les prix des produits à l’exportation ont augmenté de 2,6% au mois d’avril  2023, par rapport au mois précédent Les termes de l’échange sont ressortis à 0,95 au mois d’avril 2023 contre 0,93 au mois précédent</p>\n",
       "  </div>,\n",
       "  <div class=\"field-content\"><p>Le chiffre d’affaires dans l’industrie a diminué de 0,7% au premier trimestre 2023, comparé à celui de la même période de 2022, sous l’effet du repli de celui des industries extractives (-18,2%).</p>\n",
       "  </div>,\n",
       "  <div class=\"field-content\"><p>Au premier trimestre 2023, le chiffre d’affaires réalisé dans le secteur de la construction s’est amélioré de 23,0% relativement à celui du même trimestre de 2022. Cette évolution est en relation, principalement, avec le relèvement du chiffre d’affaires dans les sous-secteurs de la construction de bâtiments (+36,9%) et du génie civil (+20,1%)</p>\n",
       "  </div>,\n",
       "  <div class=\"field-content\"><p>Au mois d’avril 2023, les exportations du Sénégal se sont établies à 249,6 milliards de FCFA contre 327,6 milliards de FCFA au mois précédent, soit un repli de 23,8%. Comparées au mois d’avril 2022, les expéditions ont progressé de 7,6%. Les importations au mois d’avril 2023 sont évaluées à 476,6 milliards de FCFA contre 565,5 milliards de FCFA au mois précédent, soit une réduction de 15,7%. Comparées au mois d’avril 2022, les importations se sont repliées de 12,4%. Le solde de la balance commerciale s’est établi à -227,0 milliards de FCFA au mois d’avril 2023 contre -237,9 milliards de FCFA au mois précédent.</p>\n",
       "  </div>,\n",
       "  <div class=\"field-content\"><p>En avril 2023, la production industrielle hors égrenage de coton s’est réduite de 5,1%  relativement à celle de la même période en 2022. Cette régression est essentiellement imputable à la contreperformance notée dans la production des industries extractives (-7,8%) et manufacturières (-6,7%). En revanche, la production d’électricité, de gaz et d’eau (+13,9%) s’est améliorée sur la période sous revue.</p>\n",
       "  </div>],\n",
       " '?page=13': [<div class=\"field-content\"><p>Les prix des matériaux de construction ont évolué de 0,1% en octobre 2022, comparativement au mois précédent. L’effet de la hausse des prix des matériaux de menuiserie, des matériaux pour la peinture et ceux d’étanchéité a été atténuée par le repli des prix des matériaux de plomberie et sanitaire. En variation annuelle , les prix des matériaux de construction ont bondit de 9,9%.</p>\n",
       "  </div>,\n",
       "  <div class=\"field-content\"><p>L’Indice Harmonisé des Prix à la Consommation (IHPC) du mois de novembre 2022 a augmenté de 0,2%, comparé à celui du mois précédent. Par rapport au mois de novembre 2021, les prix à la consommation se sont accrus de 14,1%. Selon l’origine, les prix des produits locaux sont restés stables, au moment où ceux des produits importés se sont relevés de 0,8% en novembre 2022, comparativement au mois précédent. En variation annuelle, ils se sont accrus, respectivement, de 15,7% et 9,3%.</p>\n",
       "  </div>],\n",
       " '?page=6': [<div class=\"field-content\"><p>Les prix des matériaux de construction ont baissé de 0,4% en juin 2023, comparativement au mois précédent. Ce repli est consécutif à celui des prix des matériaux de base (-0,6%), des matériaux de plomberie et sanitaire (-0,3%) ainsi que des matériaux de menuiserie (-0,2%). En       variation annuelle<a href=\"#_ftn1\" id=\"_ftnref1\" name=\"_ftnref1\" title=\"\"><b>[1]</b></a>, les prix des matériaux de construction se sont contractés de 1,7%.   </p>\n",
       "  <div> \n",
       "  <hr align=\"left\" size=\"1\" width=\"33%\"/><div id=\"ftn1\">\n",
       "  <p><a href=\"#_ftnref1\" id=\"_ftn1\" name=\"_ftn1\" title=\"\">[1]</a> Variation entre les mêmes mois de deux années consécutives</p>\n",
       "  </div>\n",
       "  </div>\n",
       "  </div>,\n",
       "  <div class=\"field-content\"><p>Au mois de mai 2023, les prix des produits à l’importation ont diminué de 4,4%, comparés au mois précédent.</p>\n",
       "  <p>Les prix des produits à l’exportation ont diminué de 3,9% au mois de mai 2023, par rapport au mois précédent.</p>\n",
       "  <p>Les termes de l’échange sont ressortis à 0,96 au mois de mai 2023 contre 0,95 au mois précédent.</p>\n",
       "  </div>,\n",
       "  <div class=\"field-content\"><p><i>Au mois de mai 2023, les exportations du Sénégal se sont établies à 301,9 milliards de FCFA contre 249,6 milliards de FCFA au mois précédent, soit une hausse de 21,0%. </i></p>\n",
       "  <p><i>Les importations sont évaluées à 579,8 milliards de FCFA au mois de mai 2023 contre 476,6 milliards de FCFA au mois précédent, soit une augmentation de 21,7%. </i></p>\n",
       "  <p><i>Le solde de la balance commerciale s’est établi à -277,8 milliards de FCFA au mois de mai 2023 contre -227,0 milliards de FCFA au mois précédent. </i></p>\n",
       "  </div>,\n",
       "  <div class=\"field-content\"><p><i>Au mois de mai 2023, les exportations du Sénégal se sont établies à 301,9 milliards de FCFA contre 249,6 milliards de FCFA au mois précédent, soit une hausse de 21,0%. </i></p>\n",
       "  <p><i>Les importations sont évaluées à 579,8 milliards de FCFA au mois de mai 2023 contre 476,6 milliards de FCFA au mois précédent, soit une augmentation de 21,7%. </i></p>\n",
       "  <p><i>Le solde de la balance commerciale s’est établi à -277,8 milliards de FCFA au mois de mai 2023 contre -227,0 milliards de FCFA au mois précédent. </i></p>\n",
       "  </div>,\n",
       "  <div class=\"field-content\"><p><i>Selon les estimations du FMI, l’activité économique mondiale devrait ralentir à 2,8% <a href=\"#_ftn1\" id=\"_ftnref1\" name=\"_ftnref1\" title=\"\"><b>[1]</b></a> en 2023 après 3,4% en 2022. </i></p>\n",
       "  <p><i>Sur le plan interne, le Produit Intérieur Brut en volume corrigé des variations saisonnières (PIB-CVS) recule de 0,8% en variation trimestrielle. Par ailleurs, comparée à la période correspondante de 2022, la production industrielle se contracte de 7,6% au premier trimestre 2023. Cette contreperformance est attribuable à la diminution de la production des industries extractives (-13,1%), et celle des industries manufacturières (-8,0%).</i></p>\n",
       "  <div> \n",
       "  <hr align=\"left\" size=\"1\" width=\"33%\"/><div id=\"ftn1\">\n",
       "  <p><a href=\"#_ftnref1\" id=\"_ftn1\" name=\"_ftn1\" title=\"\">[1]</a> <a href=\"https://www.imf.org/fr/Publications/WEO/Issues/2023/01/31/world-economic-outlook-update-january-2023\">Fonds monétaire international | avril 2023</a></p>\n",
       "  </div>\n",
       "  </div>\n",
       "  </div>,\n",
       "  <div class=\"field-content\"><p><i>Selon les estimations du FMI, l’activité économique mondiale devrait ralentir à 2,8% <a href=\"#_ftn1\" id=\"_ftnref1\" name=\"_ftnref1\" title=\"\"><b>[1]</b></a> en 2023 après 3,4% en 2022. </i></p>\n",
       "  <p><i>Sur le plan interne, le Produit Intérieur Brut en volume corrigé des variations saisonnières (PIB-CVS) recule de 0,8% en variation trimestrielle. Par ailleurs, comparée à la période correspondante de 2022, la production industrielle se contracte de 7,6% au premier trimestre 2023. Cette contreperformance est attribuable à la diminution de la production des industries extractives (-13,1%), et celle des industries manufacturières (-8,0%).</i></p>\n",
       "  <div> \n",
       "  <hr align=\"left\" size=\"1\" width=\"33%\"/><div id=\"ftn1\">\n",
       "  <p><a href=\"#_ftnref1\" id=\"_ftn1\" name=\"_ftn1\" title=\"\">[1]</a> <a href=\"https://www.imf.org/fr/Publications/WEO/Issues/2023/01/31/world-economic-outlook-update-january-2023\">Fonds monétaire international | avril 2023</a></p>\n",
       "  </div>\n",
       "  </div>\n",
       "  </div>,\n",
       "  <div class=\"field-content\"><p><i>En mai 2023, la production industrielle hors égrenage de coton s’est améliorée de 13,0%  relativement à celle de la même période en 2022. Cet accroissement est imputable à la performance notée dans la production des industries extractives (+29,7%), d’électricité, de gaz et d’eau (+18,8%) et de l’industrie manufacturière (+8,3%). En revanche, la production des industries environnementales (-0,6%) s’est légèrement détériorée sur la période sous revue. </i></p>\n",
       "  </div>,\n",
       "  <div class=\"field-content\"><p>Les prix à la consommation du mois de juin 2023 ont augmenté de 1,1%, comparés à ceux du mois précédent. <b>Cette évolution provient, principalement, de l’accroissement des prix des services de « loisirs et culture » (+3,0%), en liaison avec le renchérissement des frais de voyage à la Mecque, ainsi que des « produits alimentaires et boissons non alcoolisées » (+1,8%). Toutefois, le repli des prix des services de « communication » (-0,5%) et de « santé » (-0,6%) a atténué cette tendance haussière. </b>Par rapport au mois de juin 2022, les prix à la consommation se sont accrus de 7,5%.</p>\n",
       "  </div>,\n",
       "  <div class=\"field-content\"><p>En avril 2023, la production totale d’électricité<a href=\"#_ftn1\" id=\"_ftnref1\" name=\"_ftnref1\" title=\"\">[1]</a> suivie par la SENELEC est évaluée à 522,8 GWH<a href=\"#_ftn2\" id=\"_ftnref2\" name=\"_ftnref2\" title=\"\">[2]</a> contre 511,1 GWH au mois précédent, soit une augmentation de 2,3%.</p>\n",
       "  <div>\n",
       "  <p>Au mois d’avril 2023, la production industrielle (hors égrenage de coton) a régressé de 8,7%, en variation mensuelle.</p>\n",
       "  <p>Au mois sous revue, l’activité minière, suivie à travers la production des entreprises formelles du secteur, est marquée par une bonification, en variation mensuelle, de la production en valeur d’attapulgite (+21,0%) et de l’or (+2,2%).</p>\n",
       "  <hr align=\"left\" size=\"1\" width=\"33%\"/><div id=\"ftn1\">\n",
       "  <p><a href=\"#_ftnref1\" id=\"_ftn1\" name=\"_ftn1\" title=\"\">[1]</a> Production propre de la SENELEC + Achats auprès des autres producteurs</p>\n",
       "  </div>\n",
       "  <div id=\"ftn2\">\n",
       "  <p><a href=\"#_ftnref2\" id=\"_ftn2\" name=\"_ftn2\" title=\"\">[2]</a> Gigawatt-heures</p>\n",
       "  </div>\n",
       "  </div>\n",
       "  </div>,\n",
       "  <div class=\"field-content\"><p><i>Le présent Bulletin<a href=\"#_ftn1\" id=\"_ftnref1\" name=\"_ftnref1\" title=\"\"><b>[1]</b></a> résume les statistiques économiques et financières du mois d’avril 2023 réparties en quatre grandes parties, à savoir le secteur primaire, le secteur secondaire, le secteur tertiaire et les autres statistiques. la partie intitulée « Autres statistiques » résume les données sur les entreprises nouvellement immatriculées au Numéro d’Identification National des Entreprises et Associations, la situation de l’emploi dans le secteur formel, l’Indice Harmonisé des Prix à la Consommation, le commerce extérieur et les statistiques financières. </i></p>\n",
       "  <div> \n",
       "  <hr align=\"left\" size=\"1\" width=\"33%\"/><div id=\"ftn1\">\n",
       "  <p><a href=\"#_ftnref1\" id=\"_ftn1\" name=\"_ftn1\" title=\"\">[1]</a> Le Bulletin mensuel des statistiques est publié au plus tard soixante jours après la fin du mois sous revu.</p>\n",
       "  </div>\n",
       "  </div>\n",
       "  </div>],\n",
       " '?page=0': [<div class=\"field-content\"><p><i>Le présent Bulletin<a href=\"#_ftn1\" id=\"_ftnref1\" name=\"_ftnref1\" title=\"\"><b>[1]</b></a> résume les statistiques économiques et financières du mois d’octobre 2023 réparties en quatre grandes parties, à savoir le secteur primaire, le secteur secondaire, le secteur tertiaire et les autres statistiques.</i></p>\n",
       "  <div> \n",
       "  <hr align=\"left\" size=\"1\" width=\"33%\"/><div id=\"ftn1\">\n",
       "  <p><a href=\"#_ftnref1\" id=\"_ftn1\" name=\"_ftn1\" title=\"\">[1]</a> Le Bulletin mensuel des statistiques est publié au plus tard soixante jours après la fin du mois sous revu.</p>\n",
       "  </div>\n",
       "  </div>\n",
       "  </div>,\n",
       "  <div class=\"field-content\"><p>La production totale d’électricité<a href=\"#_ftn1\" id=\"_ftnref1\" name=\"_ftnref1\" title=\"\">[1]</a> de la SENELEC, en octobre 2023, a augmenté de 12,1% (664,0 GWH<a href=\"#_ftn2\" id=\"_ftnref2\" name=\"_ftnref2\" title=\"\">[2]</a> après 592,5 GWH) par rapport au mois de septembre 2023. Cette dynamique est portée par l’accroissement  des achats auprès des autres producteurs (+14,6%) ainsi que de sa propre production (+4,7%) sur la période.</p>\n",
       "  <div> \n",
       "  <hr align=\"left\" size=\"1\" width=\"33%\"/><div id=\"ftn1\">\n",
       "  <p><a href=\"#_ftnref1\" id=\"_ftn1\" name=\"_ftn1\" title=\"\">[1]</a> Production propre de la SENELEC + Achats auprès des autres producteurs.</p>\n",
       "  </div>\n",
       "  <div id=\"ftn2\">\n",
       "  <p><a href=\"#_ftnref2\" id=\"_ftn2\" name=\"_ftn2\" title=\"\">[2]</a> Gigawatt-heures. Les données des mois précédents ont été actualisées.</p>\n",
       "  </div>\n",
       "  </div>\n",
       "  </div>,\n",
       "  <div class=\"field-content\"><p>La croissance économique du Sénégal s’est ralentie en 2022 dans un contexte caractérisé par de fortes pressions inflationnistes. Cette décélération de l’activité économique est imputable à celle de la valeur ajoutée du secteur primaire. En particulier le sous-secteur agricole s’est contracté de 0,9% en 2022 en volume. En outre, ce ralentissement de l’activité économique s’est réalisé dans un contexte marqué par des tensions géopolitiques au niveau international et par une augmentation soutenue des prix. En effet, le niveau général des prix1 a augmenté de 8,7% en 2022.</p>\n",
       "  </div>,\n",
       "  <div class=\"field-content\"><p><i>L’activité industrielle est marquée, en novembre 2023, par une augmentation de 0,4% des prix de la production industrielle hors égrenage de coton, comparativement à ceux du mois précédent. Cette situation est induite par le renchérissement des prix des produits des industries extractives (+1,5%). Toutefois, les prix des produits manufacturés, des industries environnementales, ainsi que de l'électricité, eau et gaz n’ont pas connu de variation. </i></p>\n",
       "  </div>,\n",
       "  <div class=\"field-content\"><p>Les exportations du Sénégal<b> </b>sont ressorties à 3 563,4 milliards de FCFA en 2022 contre 2 884,8 milliards de FCFA en 2021, soit une hausse de 23,5%. Les importations du Sénégal ont bondi de 40,4% en 2022 pour atteindre 7 549,4 milliards de FCFA contre 5 378,5 milliards de FCFA en 2021.</p>\n",
       "  </div>,\n",
       "  <div class=\"field-content\"></div>,\n",
       "  <div class=\"field-content\"><p>Au troisième trimestre de l’année 2023, le Produit Intérieur Brut (PIB) réel, corrigé des variations saisonnières (CVS), a augmenté de 0,7%, par rapport au trimestre précédent. Par rapport à la même période de l’année 2022, le PIB réel du troisième trimestre de 2023 s’est accru de 4,5%. Le Produit Intérieur Brut nominal est estimé à 4 188,8 milliards de FCFA au troisième trimestre de 2023.</p>\n",
       "  </div>,\n",
       "  <div class=\"field-content\"><p>La production des entreprises a bondi de 16,8% en 2022 après une évolution de +23,7% en 2021. En valeur absolue, elle s’est établie à 14 052,7 milliards FCFA en 2022 contre 12 028,1 milliards FCFA en 2021.<br/>\n",
       "  Cette dynamique de la production a induit une hausse de 15,3% de la valeur ajoutée (VA) passant de 3 110,7 milliards FCFA en 2021 à 3 587,0 milliards FCFA en 2022. Cependant, le taux de valeur ajoutée a légèrement baissé de 0,3 point en s’établissant à 25,5% en 2022.<br/>\n",
       "  Dans ce même sillage, le chiffre d’affaires des entreprises du secteur moderne est passé de 16 856,1 milliards FCFA en 2021 à 20 135,2 milliards FCFA en 2022, soit un bond de 22,0%.</p>\n",
       "  </div>,\n",
       "  <div class=\"field-content\"><p>En octobre 2023, les produits à l’importation se sont renchéris de 3,0%, comparés au mois précédent. Cette hausse s’explique par le relèvement des prix des « produits minéraux » qui y ont contribué à +1,6 points de pourcentage, des « matériels de transport » (+0,7) et des « produits du règne végétal » (+0,5). Les prix des produits à l’exportation se sont dépréciés de 2,0% au mois d’octobre 2023, par rapport au mois précédent.</p>\n",
       "  </div>,\n",
       "  <div class=\"field-content\"><p>En octobre 2023, la production industrielle hors égrenage de coton s’est relevée de 9,3% relativement à celle de la même période en 2022. Cet accroissement est imputable à la performance notée dans la production des industries extractives (+26,9%), d’électricité, de gaz et d’eau (+17,8%), des industries manufacturières (+2,3%) et des industries environnementales (+0,4%);</p>\n",
       "  </div>]}"
      ]
     },
     "execution_count": 248,
     "metadata": {},
     "output_type": "execute_result"
    }
   ],
   "source": [
    "content"
   ]
  },
  {
   "cell_type": "code",
   "execution_count": 249,
   "metadata": {},
   "outputs": [
    {
     "ename": "TypeError",
     "evalue": "'list' object is not callable",
     "output_type": "error",
     "traceback": [
      "\u001b[1;31m---------------------------------------------------------------------------\u001b[0m",
      "\u001b[1;31mTypeError\u001b[0m                                 Traceback (most recent call last)",
      "Cell \u001b[1;32mIn[249], line 1\u001b[0m\n\u001b[1;32m----> 1\u001b[0m \u001b[43mextr_on\u001b[49m\u001b[43m(\u001b[49m\u001b[43mcontent\u001b[49m\u001b[43m)\u001b[49m\n",
      "Cell \u001b[1;32mIn[247], line 3\u001b[0m, in \u001b[0;36mextr_on\u001b[1;34m(mydict)\u001b[0m\n\u001b[0;32m      1\u001b[0m \u001b[38;5;28;01mdef\u001b[39;00m \u001b[38;5;21mextr_on\u001b[39m(mydict):\n\u001b[0;32m      2\u001b[0m     \u001b[38;5;28;01mfor\u001b[39;00m element \u001b[38;5;129;01min\u001b[39;00m mydict :\n\u001b[1;32m----> 3\u001b[0m         mydict[element] \u001b[38;5;241m=\u001b[39m \u001b[38;5;28;43mlist\u001b[39;49m\u001b[43m(\u001b[49m\u001b[38;5;28;43mmap\u001b[39;49m\u001b[43m(\u001b[49m\u001b[43mextract_test\u001b[49m\u001b[43m,\u001b[49m\u001b[43m \u001b[49m\u001b[43mmydict\u001b[49m\u001b[43m[\u001b[49m\u001b[43melement\u001b[49m\u001b[43m]\u001b[49m\u001b[43m)\u001b[49m\u001b[43m)\u001b[49m\n",
      "\u001b[1;31mTypeError\u001b[0m: 'list' object is not callable"
     ]
    }
   ],
   "source": [
    "extr_on(content)"
   ]
  },
  {
   "cell_type": "code",
   "execution_count": 203,
   "metadata": {},
   "outputs": [
    {
     "ename": "TypeError",
     "evalue": "'list' object is not callable",
     "output_type": "error",
     "traceback": [
      "\u001b[1;31m---------------------------------------------------------------------------\u001b[0m",
      "\u001b[1;31mTypeError\u001b[0m                                 Traceback (most recent call last)",
      "Cell \u001b[1;32mIn[203], line 1\u001b[0m\n\u001b[1;32m----> 1\u001b[0m all_element \u001b[38;5;241m=\u001b[39m \u001b[38;5;28;43mlist\u001b[39;49m\u001b[43m(\u001b[49m\u001b[43mcontent\u001b[49m\u001b[38;5;241;43m.\u001b[39;49m\u001b[43mvalues\u001b[49m\u001b[43m(\u001b[49m\u001b[43m)\u001b[49m\u001b[43m)\u001b[49m\n",
      "\u001b[1;31mTypeError\u001b[0m: 'list' object is not callable"
     ]
    }
   ],
   "source": [
    "all_element = list(content.values())"
   ]
  },
  {
   "cell_type": "code",
   "execution_count": 250,
   "metadata": {},
   "outputs": [
    {
     "data": {
      "text/plain": [
       "[['L’activité industrielle est marquée, en août 2023, par une diminution de 0,7% des prix de la production industrielle hors égrenage de coton, comparativement à ceux du mois précédent. Cette évolution est induite par le repli des prix des produits manufacturés (-1,4%). En revanche, les prix des produits des industries extractives se sont renchéris de +1,1% sur la période sous revue. ',\n",
       "  '\\n'],\n",
       " ['Les prix à la consommation du mois de mai 2023 ont augmenté légèrement de 0,1%, comparés à ceux du mois précédent. Cette évolution résulte, principalement, de la hausse des prix des « biens et services divers » (+1,4%), des services de « communication » (+0,5%),',\n",
       "  '\\n'],\n",
       " ['Les prix des matériaux de construction ont baissé de 0,2% en juillet 2023, comparativement au mois précédent. Ce repli provient, principalement, de la diminution des prix des matériaux pour travaux d’électricité (-0,6%), des matériaux de base (-0,3%) ainsi que des matériaux de menuiserie (-0,3%). En variation annuelle, les prix des matériaux de construction ont chuté de 2,7%.   ',\n",
       "  '\\n'],\n",
       " ['Les prix de production des services d’hébergement et de restauration ont augmenté de 0,4% au troisième trimestre 2023, comparés à ceux du trimestre précédent, sous l’effet du renchérissement des services de restauration (+1,8%).',\n",
       "  '\\n'],\n",
       " ['En septembre 2023, la production industrielle hors égrenage de coton s’est relevée de 2,8%  relativement à celle de la même période en 2022. Sur les neuf premiers mois de 2023, la production industrielle a baissé de 1,1%, par rapport à la période correspondante de 2022.',\n",
       "  '\\n'],\n",
       " ['Les prix des matériaux de construction ont baissé de 0,3% en mai 2023, comparativement au mois précédent. Ce repli est consécutif à celui des prix des matériaux de base (-0,5%) et des matériaux de menuiserie (-0,2%). En variation annuelle[1], les prix des matériaux de construction sont restés stables.   ',\n",
       "  '\\n',\n",
       "  ' \\n\\n[1] Variation entre les mêmes mois de deux années consécutives\\n\\n',\n",
       "  '\\n'],\n",
       " ['Les prix des matériaux de construction ont évolué de 0,1% en octobre 2022, comparativement au mois précédent. L’effet de la hausse des prix des matériaux de menuiserie, des matériaux pour la peinture et ceux d’étanchéité a été atténuée par le repli des prix des matériaux de plomberie et sanitaire. En variation annuelle , les prix des matériaux de construction ont bondit de 9,9%.',\n",
       "  '\\n'],\n",
       " ['Les prix des matériaux de construction ont baissé de 0,4% en juin 2023, comparativement au mois précédent. Ce repli est consécutif à celui des prix des matériaux de base (-0,6%), des matériaux de plomberie et sanitaire (-0,3%) ainsi que des matériaux de menuiserie (-0,2%). En       variation annuelle[1], les prix des matériaux de construction se sont contractés de 1,7%.   ',\n",
       "  '\\n',\n",
       "  ' \\n\\n[1] Variation entre les mêmes mois de deux années consécutives\\n\\n',\n",
       "  '\\n'],\n",
       " ['Le présent Bulletin[1] résume les statistiques économiques et financières du mois d’octobre 2023 réparties en quatre grandes parties, à savoir le secteur primaire, le secteur secondaire, le secteur tertiaire et les autres statistiques.',\n",
       "  '\\n',\n",
       "  ' \\n\\n[1] Le Bulletin mensuel des statistiques est publié au plus tard soixante jours après la fin du mois sous revu.\\n\\n',\n",
       "  '\\n']]"
      ]
     },
     "execution_count": 250,
     "metadata": {},
     "output_type": "execute_result"
    }
   ],
   "source": [
    "[item[0] for item in all_element]"
   ]
  },
  {
   "cell_type": "code",
   "execution_count": 251,
   "metadata": {},
   "outputs": [
    {
     "ename": "TypeError",
     "evalue": "'list' object is not callable",
     "output_type": "error",
     "traceback": [
      "\u001b[1;31m---------------------------------------------------------------------------\u001b[0m",
      "\u001b[1;31mTypeError\u001b[0m                                 Traceback (most recent call last)",
      "Cell \u001b[1;32mIn[251], line 3\u001b[0m\n\u001b[0;32m      1\u001b[0m \u001b[38;5;28;01mfrom\u001b[39;00m \u001b[38;5;21;01mitertools\u001b[39;00m \u001b[38;5;28;01mimport\u001b[39;00m chain\n\u001b[1;32m----> 3\u001b[0m flat_element \u001b[38;5;241m=\u001b[39m \u001b[38;5;28;43mlist\u001b[39;49m\u001b[43m(\u001b[49m\u001b[43m(\u001b[49m\u001b[43mchain\u001b[49m\u001b[43m(\u001b[49m\u001b[38;5;241;43m*\u001b[39;49m\u001b[43mall_element\u001b[49m\u001b[43m)\u001b[49m\u001b[43m)\u001b[49m\u001b[43m)\u001b[49m\n\u001b[0;32m      4\u001b[0m flat_element\n",
      "\u001b[1;31mTypeError\u001b[0m: 'list' object is not callable"
     ]
    }
   ],
   "source": [
    "from itertools import chain\n",
    "\n",
    "flat_element = list((chain(*all_element)))\n",
    "flat_element"
   ]
  },
  {
   "cell_type": "code",
   "execution_count": 120,
   "metadata": {},
   "outputs": [],
   "source": [
    "nflat_element = [item  for item in flat_element if len(item)!=0]"
   ]
  },
  {
   "cell_type": "code",
   "execution_count": 121,
   "metadata": {},
   "outputs": [],
   "source": [
    "new_list = []\n",
    "\n",
    "for item in nflat_element:\n",
    "    new_list.append(item[0])"
   ]
  },
  {
   "cell_type": "code",
   "execution_count": 122,
   "metadata": {},
   "outputs": [
    {
     "data": {
      "text/plain": [
       "['L’activité industrielle est marquée, en août 2023, par une diminution de 0,7% des prix de la production industrielle hors égrenage de coton, comparativement à ceux du mois précédent. Cette évolution est induite par le repli des prix des produits manufacturés (-1,4%). En revanche, les prix des produits des industries extractives se sont renchéris de +1,1% sur la période sous revue. ',\n",
       " 'Au deuxième trimestre de l’année 2023, le Produit Intérieur Brut (PIB) réel, corrigé des variations saisonnières (CVS), s’est rehaussé de 0,1%, par rapport au trimestre précédent. Ce résultat est imputable à l’accroissement des valeurs ajoutées des secteurs primaire (+2,6%) et tertiaire (+0,7%). En revanche, le secteur secondaire s’est replié de 2,0% ainsi que les taxes nettes de subventions sur les produits (-1,9%).',\n",
       " 'Au deuxième trimestre de l’année 2023, le Produit Intérieur Brut (PIB) réel, corrigé des variations saisonnières (CVS), s’est rehaussé de 0,1%, par rapport au trimestre précédent. Ce résultat est imputable à l’accroissement des valeurs ajoutées des secteurs primaire (+2,6%) et tertiaire (+0,7%). En revanche, le secteur secondaire s’est replié de 2,0% ainsi que les taxes nettes de subventions sur les produits (-1,9%).',\n",
       " 'Les prix des matériaux de construction ont baissé de 0,5% en août 2023, comparativement au mois précédent. Ce repli provient, principalement, de la baisse des prix des matériaux de base (-0,6%), des matériaux de plomberie et sanitaire (-0,5%) ainsi que des matériaux pour le revêtement des mur et sol (-0,5%). En variation annuelle[1], les prix des matériaux de construction se sont repliés de 3,2%.   ',\n",
       " 'Le chiffre d’affaires dans l’industrie a diminué de 2,0% au deuxième trimestre 2023, comparé à celui de la même période de 2022, sous l’effet du repli de celui des industries manufacturières (-7,5%) et environnementales (-1,0%). En revanche, les chiffres d’affaires de la production d’électricité de gaz et d’eau (+31,6%) ainsi que des industries extractives (+1,4%) se sont accrus sur la période sous revue.',\n",
       " 'Au deuxième trimestre 2023, le chiffre d’affaires réalisé dans le secteur de la construction s’est amélioré de 22,6% relativement à celui du même trimestre de 2022. Cette évolution résulte principalement du relèvement des s d’affaires dans les sous-secteurs des activités spécialisées de construction (+39,0%) et du génie civil (+35,1%). De même, le chiffre d’affaires issu de la construction de bâtiments s’est rehaussé de 7,2% sur la période sous revue.',\n",
       " 'Au mois de juillet 2023, les exportations du Sénégal sont ressorties à 274,1 milliards de FCFA contre 256,8 milliards de FCFA au mois précédent, soit une hausse de 6,8%. Quant aux importations, elles sont évaluées à 609,5 milliards de FCFA contre 606,4 milliards de FCFA au mois précédent, soit une augmentation de 0,5%.',\n",
       " 'En juillet 2023, la production industrielle hors égrenage de coton s’est repliée de 2,7%  relativement à celle de la même période en 2022. Cette diminution est imputable à la contreperformance notée dans la production des industries extractives (-16,9%) et manufacturière (-0,1%), dans une moindre mesure. En revanche, la production d’électricité, de gaz et d’eau (+10,5%) ainsi que celle des industries environnementales (+14,7%) s’est améliorée sur la période sous revue. Sur les sept premiers mois de 2023, la production industrielle a baissé de 1,9%, par rapport à la période correspondante de 2022.',\n",
       " 'Les prix à la consommation du mois d’août 2023 ont augmenté de 1,8%, comparés à ceux du mois précédent. Cette évolution résulte, particulièrement, de l’accroissement des prix des « produits alimentaires et boissons non alcoolisées » (+3,2%) et, dans une moindre mesure, du renchérissement des services de « restaurants et hôtels » (+0,4%), des « transports » (+0,2%), ainsi que des « biens et services divers » (+0,2%). Par rapport au mois d’août 2022, les prix à la consommation se sont accrus de 5,3%.',\n",
       " \"L’activité industrielle est marquée, en juillet 2023, par une augmentation de 1,2% des prix de la production industrielle hors égrenage de coton, comparativement à ceux du mois précédent. Cette évolution est en relation, avec le relèvement des prix des produits manufacturés (+2,2%). Par ailleurs, une stabilité des prix des produits des industries environnementales, ainsi que de l'électricité, eau et gaz, est notée sur  la période sous revue.\",\n",
       " 'Les prix à la consommation du mois de mai 2023 ont augmenté légèrement de 0,1%, comparés à ceux du mois précédent. Cette évolution résulte, principalement, de la hausse des prix des « biens et services divers » (+1,4%), des services de « communication » (+0,5%),',\n",
       " 'Le présent Bulletin résume les statistiques économiques et financières du mois de mars 2023 réparties en quatre grandes parties, à savoir le secteur primaire, le secteur secondaire, le secteur tertiaire et les autres statistiques.',\n",
       " 'En mars 2023, la production totale d’électricité[1] s’est bonifiée de 26,5% en rythme mensuel. Cette situation est liée à une hausse de la demande',\n",
       " 'L’activité industrielle est marquée, en avril 2023, par une augmentation de 0,6% des prix de la production industrielle hors égrenage de coton, comparativement à ceux du mois précédent. En variation annuelle, les prix de la production industrielle hors égrenage de coton ont bondi de 1,0% en avril 2023, sous l’effet de l’appréciation des prix des produits extractifs (+4,4%) et de l’électricité, gaz et eau (+7,7%).',\n",
       " 'Au Sénégal, le taux d’inflation s’est établi à +9,7% en 2022, après 2,2% l’année précédente. La tension sur les prix à la consommation est induite principalement par la hausse des prix des produits alimentaires résultant notamment de celle des cours mondiaux des matières premières de base. De même, la hausse des prix de certaines fonctions de consommation, telles que les « meubles, articles de ménage et entretien courant du foyer », les biens et services de « transports »,  de « restaurants et hôtels », « d’enseignement », ainsi que de « logement, eau, gaz, électricité et autres combustibles » ont aussi concouru au relèvement des prix intérieurs.',\n",
       " 'Dans le cadre du projet « comptabilité économique et environnementale pour une politique factuelle au Sénégal » en collaboration avec la Division de Statistique des Nations Unies (UNSD), le Sénégal a compilé les comptes de l’occupation des sols de 2010 et 2015.',\n",
       " 'Au mois de mars 2023, les exportations du Sénégal se sont établies à 327,6 milliards de FCFA contre 252,8 milliards de FCFA au mois précédent, soit une augmentation de 29,6%. Comparées au mois de mars 2022, les expéditions ont chuté de 3,8%. Leur cumul sur le premier trimestre 2023 s’est établi à 958,4 milliards de FCFA contre 840,0 milliards de FCFA pour la même période de 2022, soit une augmentation de 14,1%.',\n",
       " 'Au mois de mars 2023, les prix des produits à l’importation ont augmenté de 2,4%, comparés au mois précédent. Par rapport au mois de mars 2022, les prix des produits importés ont progressé de 20,6%. Sur les trois premiers mois de 2023, les produits achetés de l’extérieur se sont renchéris de 18,7%, en comparaison à ceux de la même période de 2022.',\n",
       " \"Les prix à la consommation du mois d’avril 2023 se sont relevés de 0,5%, comparés à ceux du mois précédent. Cette évolution résulte, principalement, de la hausse des prix des « produits alimentaires et boissons non alcoolisées » (+1,2%) et, dans une moindre mesure, des « biens et services divers » (+0,6%), des « articles d'habillement et chaussures » (+0,5%), ainsi que des « boissons alcoolisées, tabac et stupéfiants » (+0,4%). Toutefois, le repli des prix des services de « logement, eau, gaz, électricité et autres combustibles » (-1,6%) et de « communication » (-0,4%) a atténué cette tendance haussière. Par rapport au mois d’avril 2022, les prix à la consommation se sont accrus de 9,0%.\",\n",
       " 'L’activité industrielle est marquée, en mars 2023, par une augmentation de 1,0% des prix de la production industrielle hors égrenage de coton, comparativement à ceux du mois précédent. En variation annuelle, les prix de la production industrielle hors égrenage de coton ont bondi de 1,3% en mars 2023, sous l’effet de l’appréciation des prix des produits extractifs (+4,3%) et de ceux des produits manufacturiers (+0,4%).',\n",
       " 'Les prix des matériaux de construction ont baissé de 0,2% en juillet 2023, comparativement au mois précédent. Ce repli provient, principalement, de la diminution des prix des matériaux pour travaux d’électricité (-0,6%), des matériaux de base (-0,3%) ainsi que des matériaux de menuiserie (-0,3%). En variation annuelle, les prix des matériaux de construction ont chuté de 2,7%.   ',\n",
       " 'Au mois de juin 2023, les exportations du Sénégal sont ressorties à 256,8 milliards de FCFA contre 301,9 milliards de FCFA au mois précédent, soit une baisse de 14,9%. Comparées au mois de juin 2022, les exportations se sont repliées de 25,0%. Leur cumul à fin juin 2023 s’est établi à 1 766,7 milliards de FCFA contre 1 718,1 milliards de FCFA pour la même période de 2022, soit une hausse de 2,8%.',\n",
       " 'Au mois de juin 2023, les prix des produits à l’importation ont baissé de 0,2%, comparés au mois précédent. Par rapport au mois de juin 2022, les prix des produits importés ont chuté de 4,9%. Sur les six premiers mois de 2023, les produits achetés de l’extérieur se sont renchéris de 9,5%, en comparaison à ceux de la même période de 2022.',\n",
       " \"Le coût de la construction des logements neufs à usage d'habitation a baissé de 0,2% au deuxième trimestre 2023, par rapport au trimestre précédent. Cette évolution résulte essentiellement du repli des prix des matériaux de construction (-0,8%). Toutefois, le renchérissement de la location du matériel (+2,4%), de la main d’œuvre (+1,3%) et des moyens de gestion (+1,1%) a amoindri cette baisse. En variation annuelle, il s’est accru de 1,7%.\",\n",
       " 'En juin 2023, la production industrielle hors égrenage de coton s’est améliorée de 6,1%  relativement à celle de la même période en 2022. Cet accroissement est imputable à la performance notée dans la production d’électricité, de gaz et d’eau (+22,5%), des industries extractives (+18,4%) et, dans une moindre mesure de l’industrie manufacturière (+0,4%). En revanche, la production des industries environnementales s’est légèrement détériorée sur la période sous revue (-0,4%). ',\n",
       " ' ',\n",
       " 'Le présent Bulletin[1] résume les statistiques économiques et financières du mois de mai 2023 réparties en quatre grandes parties, à savoir le secteur primaire, le secteur secondaire, le secteur tertiaire et les autres statistiques',\n",
       " 'Le nombre d’employés dans le secteur moderne, hors administration publique, a progressé de 0,3% entre 2021 et 2022. Cette évolution résulte de l’augmentation des effectifs dans le commerce (+9,6%), la construction (+2,0%) et les services (+1,5%). En revanche, les emplois dans l’industrie se sont contractés (-5,1%) sur la période.',\n",
       " 'Au mois sous revue, la production totale d’électricité[1] de la SENELEC est évaluée à 558,8 GWH[2] contre 522,2 GWH au mois précédent, soit une hausse de 6,9%. Ceci est en liaison avec la hausse simultanée de la production propre de la SENELEC (+7,3%) et des achats auprès des autres producteurs (+6,7%). Par rapport à mai 2022, la production totale d’électricité s’est accrue de 11,9%.',\n",
       " 'Les prix des matériaux de construction ont baissé de 0,4% en juin 2023, comparativement au mois précédent. Ce repli est consécutif à celui des prix des matériaux de base (-0,6%), des matériaux de plomberie et sanitaire (-0,3%) ainsi que des matériaux de menuiserie (-0,2%). En       variation annuelle[1], les prix des matériaux de construction se sont contractés de 1,7%.   ',\n",
       " 'Les prix de production des services d’hébergement et de restauration ont augmenté de 0,4% au troisième trimestre 2023, comparés à ceux du trimestre précédent, sous l’effet du renchérissement des services de restauration (+1,8%).',\n",
       " '\\nAu courant du trimestre sous revu, le taux d’emploi1 qui mesure la part des personnes\\nen emploi parmi celles en âge de travailler est ressorti à 46,0%. Il s’est bonifié de 4,0\\npoints de pourcentage par rapport au deuxième trimestre de 2022 (42,0%).',\n",
       " '\\nII. Niveau d’emploi\\nLe niveau d’emploi est déterminé à travers le taux d’emploi1 qui mesure la part des\\npersonnes en emploi parmi celles en âge de travailler. Au trimestre sous revu, il est\\nressorti à 43,9%, indiquant une augmentation de 5,8 points de pourcentage par\\nrapport au premier trimestre de 2022 où il était estimé à 38,1%.',\n",
       " \"Les prix de la production industrielle hors égrenage de coton ont augmenté de 1,6% en octobre 2023 comparativement à ceux du mois précédent. Cette situation est induite par le renchérissement des prix des produits manufacturés (+2,2%) et de ceux des produits des industries extractives (+0,8%). Cependant, les prix des produits des industries environnementales, ainsi que de l'électricité, eau et gaz n’ont pas connu de variation. \",\n",
       " \"Les prix de la production industrielle hors égrenage de coton ont augmenté de 1,6% en octobre 2023 comparativement à ceux du mois précédent. Cette situation est induite par le renchérissement des prix des produits manufacturés (+2,2%) et de ceux des produits des industries extractives (+0,8%). Cependant, les prix des produits des industries environnementales, ainsi que de l'électricité, eau et gaz n’ont pas connu de variation. \",\n",
       " 'Les prix des matériaux de construction ont baissé de 0,4% en octobre 2023, comparativement au mois précédent. Ce repli est consécutif à celui des prix des matériaux de plomberie et sanitaire (-0,6%), des prix des matériaux de base (-0,4%) ainsi que des matériaux de      menuiserie (-0,4%). En variation annuelle[1], les prix des matériaux de construction se sont contractés de 4,6%.   ',\n",
       " 'Au mois d’août 2023, la production totale d’électricité[1] de la SENELEC a fléchi de 1,0% passant de 623,2 GWH[2] au mois précédent à 617,1 GWH. l’activité minière, suivie auprès des entreprises formelles, est caractérisée par le relèvement des productions en valeur du zircon (+19,6%), de l’or (+9,5%), du sel iodé (+4,9%) et de l’attapulgite (+4,4%), en variation mensuelle.',\n",
       " \"Le coût de la construction des logements neufs à usage d'habitation a baissé de 0,2% au troisième trimestre 2023, par rapport au trimestre précédent.\",\n",
       " 'En septembre 2023, les prix des produits à l’importation se sont relevés de 2,0%, comparés au mois précédent. En septembre 2023, les prix des produits à l’importation se sont relevés de 2,0%, comparés au mois précédent. Les prix des produits à l’exportation se sont appréciés de 1,4% au mois de septembre 2023, par rapport au mois précédent',\n",
       " 'Au mois de septembre 2023, les exportations du Sénégal se sont établies à 214,0 milliards de FCFA contre 246,5 milliards de FCFA au mois précédent, soit un repli de 13,2%. Les importations du mois de septembre 2023 sont évaluées à 562,2 milliards de FCFA contre 679,2 milliards de FCFA au mois précédent, soit une réduction de 17,2%.',\n",
       " 'En septembre 2023, la production industrielle hors égrenage de coton s’est relevée de 2,8%  relativement à celle de la même période en 2022. Sur les neuf premiers mois de 2023, la production industrielle a baissé de 1,1%, par rapport à la période correspondante de 2022.',\n",
       " 'Les prix à la consommation du mois d’octobre 2023 sont globalement demeurés stables, comparés à ceux du mois précédent. Le renchérissement des services d’« enseignement » (+1,6%), des biens et services de « santé » (+0,8%), de « loisirs et culture » (+0,5%) et de « communication » (+0,4%) est contrebalancé par la diminution des prix des services de « transports » (-0,2%) et des « produits alimentaires et boissons non alcoolisées » (-0,1%). Par rapport au mois d’octobre 2022, les prix à la consommation se sont accrus de 2,4%.',\n",
       " 'La population résidente au Sénégal, recensée en 2023 est de 18 032 473 habitants, dont 8 900 614 femmes (49,4%) et 9 131 859 hommes (50,6%).',\n",
       " 'Les prix des matériaux de construction ont baissé de 0,9% en septembre 2023, comparativement au mois précédent. Ce repli provient, principalement, de la baisse des prix des          matériaux de base (-1,4%) ainsi que des matériaux pour travaux d’électricité (-0,7%). En variation annuelle[1], les prix des matériaux de construction se sont repliés de 4,2%.   ',\n",
       " \"L’activité industrielle est marquée, en septembre 2023, par une constance des prix de la production industrielle hors égrenage de coton, comparativement à ceux du mois précédent. Cette situation est induite par le maintien des prix des produits des industries environnementales, ainsi que de l'électricité, eau et gaz. En outre, le renchérissement de 0,4 des prix des produits des industries extractives a été contrebalancé par le recul des prix des produits manufacturés (-0,1%)\",\n",
       " 'En août 2023, les prix des produits à l’importation se sont repliés de 3,3%, comparés au mois précédent. Les prix des produits à l’exportation ont diminué de 1,0% au mois d’août 2023, par rapport au mois précédent.',\n",
       " 'Au mois d’août 2023, les exportations du Sénégal se sont établies à 246,5 milliards de FCFA contre 274,1 milliards de FCFA au mois précédent, soit un repli de 10,1%.Les importations du mois d’août 2023 sont évaluées à 679,2 milliards de FCFA contre 609,5 milliards de FCFA au mois précédent, soit une augmentation de 11,4%.',\n",
       " 'Au mois de juillet 2023, les prix des produits à l’importation se sont relevés de 0,5%, comparés au mois précédent.',\n",
       " \"Les prix à la consommation du mois de septembre 2023 ont diminué de 0,3%, comparés à ceux du mois précédent. Cette évolution résulte, principalement, du repli des prix des « produits alimentaires et boissons non alcoolisées » (-0,7%), des « boissons alcoolisées, tabac et stupéfiants » (-0,3%) et des services de « restaurants et hôtels » (-0,3%). Toutefois, le renchérissement des services de « communication » (+1,2%), des « articles d'habillement et chaussures » (+0,3%), ainsi que des « biens et services divers » (+0,2%) ont amoindri cette tendance baissière. Par rapport au mois de septembre 2022, les prix à la consommation se sont accrus de 3,8%.\",\n",
       " 'Le nombre d’employés dans le secteur moderne, hors administration publique, s’est accru de 1,4% au deuxième trimestre 2023, comparativement à celui de la période correspondante de l’année précédente. le nombre d’employés salariés dans le secteur moderne hors administration publique est évalué à 340 641 contre 336 037 un an plus tôt, soit une progression de 1,4%',\n",
       " 'Les prix des matériaux de construction ont baissé de 0,3% en mai 2023, comparativement au mois précédent. Ce repli est consécutif à celui des prix des matériaux de base (-0,5%) et des matériaux de menuiserie (-0,2%). En variation annuelle[1], les prix des matériaux de construction sont restés stables.   ',\n",
       " 'Au premier trimestre 2023, le nombre d’employés salariés dans le secteur moderne hors administration publique est évalué à 333 321 contre 339 611 un an plus tôt, soit une baisse de 1,9%. En revanche, les rémunérations globales ont progressé de 1,8% sur la même période. Concernant les heures hebdomadaires moyennes travaillées par employé, elles ont diminué sur la période (-0,5%).  ',\n",
       " \"L’activité industrielle est marquée, en mai 2023, par un repli de 1,1% des prix de la production industrielle hors égrenage de coton, comparativement à ceux du mois précédent. Cette évolution est en relation, avec la régression des prix des produits des industries extractives (-2,4%) et manufacturés (-0,8%). Par ailleurs, une stabilité des prix des produits des industries environnementales, ainsi que de l'électricité, eau et gaz, est notée sur  la période sous revue.\",\n",
       " 'Au premier trimestre de l’année 2023, le Produit Intérieur Brut (PIB) réel, corrigé des variations saisonnières (CVS), s’est replié de 0,8%, par rapport au trimestre précédent. Ce résultat est imputable à la baisse des valeurs ajoutées des secteurs secondaire (-0,6%) et tertiaire (-0,1%) ainsi que des taxes nettes de subventions sur les produits (-10,0%). En revanche, le secteur primaire s’est renforcé de 3,3%',\n",
       " 'Le chiffre d’affaires des services d’hébergement et de restauration a augmenté de 42,0% au premier trimestre 2023, comparé à la même période de l’année précédente',\n",
       " 'Au mois d’avril 2023, les prix des produits à l’importation ont légèrement augmenté (+0,2%), comparés au mois précédent Les prix des produits à l’exportation ont augmenté de 2,6% au mois d’avril  2023, par rapport au mois précédent Les termes de l’échange sont ressortis à 0,95 au mois d’avril 2023 contre 0,93 au mois précédent',\n",
       " 'Le chiffre d’affaires dans l’industrie a diminué de 0,7% au premier trimestre 2023, comparé à celui de la même période de 2022, sous l’effet du repli de celui des industries extractives (-18,2%).',\n",
       " 'Au premier trimestre 2023, le chiffre d’affaires réalisé dans le secteur de la construction s’est amélioré de 23,0% relativement à celui du même trimestre de 2022. Cette évolution est en relation, principalement, avec le relèvement du chiffre d’affaires dans les sous-secteurs de la construction de bâtiments (+36,9%) et du génie civil (+20,1%)',\n",
       " 'Au mois d’avril 2023, les exportations du Sénégal se sont établies à 249,6 milliards de FCFA contre 327,6 milliards de FCFA au mois précédent, soit un repli de 23,8%. Comparées au mois d’avril 2022, les expéditions ont progressé de 7,6%. Les importations au mois d’avril 2023 sont évaluées à 476,6 milliards de FCFA contre 565,5 milliards de FCFA au mois précédent, soit une réduction de 15,7%. Comparées au mois d’avril 2022, les importations se sont repliées de 12,4%. Le solde de la balance commerciale s’est établi à -227,0 milliards de FCFA au mois d’avril 2023 contre -237,9 milliards de FCFA au mois précédent.',\n",
       " 'En avril 2023, la production industrielle hors égrenage de coton s’est réduite de 5,1%  relativement à celle de la même période en 2022. Cette régression est essentiellement imputable à la contreperformance notée dans la production des industries extractives (-7,8%) et manufacturières (-6,7%). En revanche, la production d’électricité, de gaz et d’eau (+13,9%) s’est améliorée sur la période sous revue.',\n",
       " 'Les prix des matériaux de construction ont évolué de 0,1% en octobre 2022, comparativement au mois précédent. L’effet de la hausse des prix des matériaux de menuiserie, des matériaux pour la peinture et ceux d’étanchéité a été atténuée par le repli des prix des matériaux de plomberie et sanitaire. En variation annuelle , les prix des matériaux de construction ont bondit de 9,9%.',\n",
       " 'L’Indice Harmonisé des Prix à la Consommation (IHPC) du mois de novembre 2022 a augmenté de 0,2%, comparé à celui du mois précédent. Par rapport au mois de novembre 2021, les prix à la consommation se sont accrus de 14,1%. Selon l’origine, les prix des produits locaux sont restés stables, au moment où ceux des produits importés se sont relevés de 0,8% en novembre 2022, comparativement au mois précédent. En variation annuelle, ils se sont accrus, respectivement, de 15,7% et 9,3%.',\n",
       " 'Les prix des matériaux de construction ont baissé de 0,4% en juin 2023, comparativement au mois précédent. Ce repli est consécutif à celui des prix des matériaux de base (-0,6%), des matériaux de plomberie et sanitaire (-0,3%) ainsi que des matériaux de menuiserie (-0,2%). En       variation annuelle[1], les prix des matériaux de construction se sont contractés de 1,7%.   ',\n",
       " 'Au mois de mai 2023, les prix des produits à l’importation ont diminué de 4,4%, comparés au mois précédent.',\n",
       " 'Au mois de mai 2023, les exportations du Sénégal se sont établies à 301,9 milliards de FCFA contre 249,6 milliards de FCFA au mois précédent, soit une hausse de 21,0%. ',\n",
       " 'Au mois de mai 2023, les exportations du Sénégal se sont établies à 301,9 milliards de FCFA contre 249,6 milliards de FCFA au mois précédent, soit une hausse de 21,0%. ',\n",
       " 'Selon les estimations du FMI, l’activité économique mondiale devrait ralentir à 2,8% [1] en 2023 après 3,4% en 2022. ',\n",
       " 'Selon les estimations du FMI, l’activité économique mondiale devrait ralentir à 2,8% [1] en 2023 après 3,4% en 2022. ',\n",
       " 'En mai 2023, la production industrielle hors égrenage de coton s’est améliorée de 13,0%  relativement à celle de la même période en 2022. Cet accroissement est imputable à la performance notée dans la production des industries extractives (+29,7%), d’électricité, de gaz et d’eau (+18,8%) et de l’industrie manufacturière (+8,3%). En revanche, la production des industries environnementales (-0,6%) s’est légèrement détériorée sur la période sous revue. ',\n",
       " 'Les prix à la consommation du mois de juin 2023 ont augmenté de 1,1%, comparés à ceux du mois précédent. Cette évolution provient, principalement, de l’accroissement des prix des services de « loisirs et culture » (+3,0%), en liaison avec le renchérissement des frais de voyage à la Mecque, ainsi que des « produits alimentaires et boissons non alcoolisées » (+1,8%). Toutefois, le repli des prix des services de « communication » (-0,5%) et de « santé » (-0,6%) a atténué cette tendance haussière. Par rapport au mois de juin 2022, les prix à la consommation se sont accrus de 7,5%.',\n",
       " 'En avril 2023, la production totale d’électricité[1] suivie par la SENELEC est évaluée à 522,8 GWH[2] contre 511,1 GWH au mois précédent, soit une augmentation de 2,3%.',\n",
       " 'Le présent Bulletin[1] résume les statistiques économiques et financières du mois d’avril 2023 réparties en quatre grandes parties, à savoir le secteur primaire, le secteur secondaire, le secteur tertiaire et les autres statistiques. la partie intitulée « Autres statistiques » résume les données sur les entreprises nouvellement immatriculées au Numéro d’Identification National des Entreprises et Associations, la situation de l’emploi dans le secteur formel, l’Indice Harmonisé des Prix à la Consommation, le commerce extérieur et les statistiques financières. ',\n",
       " 'Le présent Bulletin[1] résume les statistiques économiques et financières du mois d’octobre 2023 réparties en quatre grandes parties, à savoir le secteur primaire, le secteur secondaire, le secteur tertiaire et les autres statistiques.',\n",
       " 'La production totale d’électricité[1] de la SENELEC, en octobre 2023, a augmenté de 12,1% (664,0 GWH[2] après 592,5 GWH) par rapport au mois de septembre 2023. Cette dynamique est portée par l’accroissement  des achats auprès des autres producteurs (+14,6%) ainsi que de sa propre production (+4,7%) sur la période.',\n",
       " 'La croissance économique du Sénégal s’est ralentie en 2022 dans un contexte caractérisé par de fortes pressions inflationnistes. Cette décélération de l’activité économique est imputable à celle de la valeur ajoutée du secteur primaire. En particulier le sous-secteur agricole s’est contracté de 0,9% en 2022 en volume. En outre, ce ralentissement de l’activité économique s’est réalisé dans un contexte marqué par des tensions géopolitiques au niveau international et par une augmentation soutenue des prix. En effet, le niveau général des prix1 a augmenté de 8,7% en 2022.',\n",
       " \"L’activité industrielle est marquée, en novembre 2023, par une augmentation de 0,4% des prix de la production industrielle hors égrenage de coton, comparativement à ceux du mois précédent. Cette situation est induite par le renchérissement des prix des produits des industries extractives (+1,5%). Toutefois, les prix des produits manufacturés, des industries environnementales, ainsi que de l'électricité, eau et gaz n’ont pas connu de variation. \",\n",
       " 'Les exportations du Sénégal sont ressorties à 3 563,4 milliards de FCFA en 2022 contre 2 884,8 milliards de FCFA en 2021, soit une hausse de 23,5%. Les importations du Sénégal ont bondi de 40,4% en 2022 pour atteindre 7 549,4 milliards de FCFA contre 5 378,5 milliards de FCFA en 2021.',\n",
       " 'Au troisième trimestre de l’année 2023, le Produit Intérieur Brut (PIB) réel, corrigé des variations saisonnières (CVS), a augmenté de 0,7%, par rapport au trimestre précédent. Par rapport à la même période de l’année 2022, le PIB réel du troisième trimestre de 2023 s’est accru de 4,5%. Le Produit Intérieur Brut nominal est estimé à 4 188,8 milliards de FCFA au troisième trimestre de 2023.',\n",
       " 'La production des entreprises a bondi de 16,8% en 2022 après une évolution de +23,7% en 2021. En valeur absolue, elle s’est établie à 14 052,7 milliards FCFA en 2022 contre 12 028,1 milliards FCFA en 2021.\\nCette dynamique de la production a induit une hausse de 15,3% de la valeur ajoutée (VA) passant de 3 110,7 milliards FCFA en 2021 à 3 587,0 milliards FCFA en 2022. Cependant, le taux de valeur ajoutée a légèrement baissé de 0,3 point en s’établissant à 25,5% en 2022.\\nDans ce même sillage, le chiffre d’affaires des entreprises du secteur moderne est passé de 16 856,1 milliards FCFA en 2021 à 20 135,2 milliards FCFA en 2022, soit un bond de 22,0%.',\n",
       " 'En octobre 2023, les produits à l’importation se sont renchéris de 3,0%, comparés au mois précédent. Cette hausse s’explique par le relèvement des prix des « produits minéraux » qui y ont contribué à +1,6 points de pourcentage, des « matériels de transport » (+0,7) et des « produits du règne végétal » (+0,5). Les prix des produits à l’exportation se sont dépréciés de 2,0% au mois d’octobre 2023, par rapport au mois précédent.',\n",
       " 'En octobre 2023, la production industrielle hors égrenage de coton s’est relevée de 9,3% relativement à celle de la même période en 2022. Cet accroissement est imputable à la performance notée dans la production des industries extractives (+26,9%), d’électricité, de gaz et d’eau (+17,8%), des industries manufacturières (+2,3%) et des industries environnementales (+0,4%);']"
      ]
     },
     "execution_count": 122,
     "metadata": {},
     "output_type": "execute_result"
    }
   ],
   "source": [
    "new_list"
   ]
  },
  {
   "cell_type": "code",
   "execution_count": 123,
   "metadata": {},
   "outputs": [],
   "source": [
    "data = pd.DataFrame({\"text\" : new_list})"
   ]
  },
  {
   "cell_type": "code",
   "execution_count": 124,
   "metadata": {},
   "outputs": [],
   "source": [
    "data.to_csv(\"resume_stat.csv\")"
   ]
  },
  {
   "cell_type": "code",
   "execution_count": 125,
   "metadata": {},
   "outputs": [],
   "source": [
    "## SCRAP STRUCTURE \n",
    "def getStruc(URL):\n",
    "    assert len(URL) > 0, f\"URL expected a non-empty string, got {URL}\"\n",
    "    soupe = MakeSoupe(URL)\n",
    "    soupe = soupe \\\n",
    "        .findAll(\"li\", {\"class\" : \"nav-item menu-item--expanded\"})\n",
    "    return soupe"
   ]
  },
  {
   "cell_type": "code",
   "execution_count": 126,
   "metadata": {},
   "outputs": [
    {
     "name": "stderr",
     "output_type": "stream",
     "text": [
      "c:\\Users\\ANSD\\anaconda3\\lib\\site-packages\\urllib3\\connectionpool.py:1045: InsecureRequestWarning: Unverified HTTPS request is being made to host 'www.ansd.sn'. Adding certificate verification is strongly advised. See: https://urllib3.readthedocs.io/en/1.26.x/advanced-usage.html#ssl-warnings\n",
      "  warnings.warn(\n"
     ]
    }
   ],
   "source": [
    "all_struct = getStruc(link)\n"
   ]
  },
  {
   "cell_type": "code",
   "execution_count": 127,
   "metadata": {},
   "outputs": [
    {
     "data": {
      "text/plain": [
       "5"
      ]
     },
     "execution_count": 127,
     "metadata": {},
     "output_type": "execute_result"
    }
   ],
   "source": [
    "len(all_struct)"
   ]
  },
  {
   "cell_type": "code",
   "execution_count": 128,
   "metadata": {},
   "outputs": [
    {
     "data": {
      "text/plain": [
       "'Prix'"
      ]
     },
     "execution_count": 128,
     "metadata": {},
     "output_type": "execute_result"
    }
   ],
   "source": [
    "#theme ref\n",
    "all_struct[0].findAll(\"a\")[2].get_text()"
   ]
  },
  {
   "cell_type": "markdown",
   "metadata": {},
   "source": []
  },
  {
   "cell_type": "code",
   "execution_count": 237,
   "metadata": {},
   "outputs": [],
   "source": [
    "data_ext = {}"
   ]
  },
  {
   "cell_type": "code",
   "execution_count": 238,
   "metadata": {},
   "outputs": [
    {
     "data": {
      "text/plain": [
       "[<li class=\"nav-item\">\n",
       " <a class=\"nav-link\" data-drupal-link-query='{\"field_type_indicateurs_target_id\":\"20\"}' data-drupal-link-system-path=\"taxonomy/term/1\" href=\"/theme/economie?field_type_indicateurs_target_id=20\">Croissance économique</a>\n",
       " </li>,\n",
       " <li class=\"nav-item\">\n",
       " <a class=\"nav-link\" data-drupal-link-query='{\"field_type_indicateurs_target_id\":\"21\"}' data-drupal-link-system-path=\"taxonomy/term/1\" href=\"/theme/economie?field_type_indicateurs_target_id=21\">Prix</a>\n",
       " </li>,\n",
       " <li class=\"nav-item\">\n",
       " <a class=\"nav-link\" data-drupal-link-query='{\"field_type_indicateurs_target_id\":\"23\"}' data-drupal-link-system-path=\"taxonomy/term/1\" href=\"/theme/economie?field_type_indicateurs_target_id=23\">Statistiques d'entreprise</a>\n",
       " </li>,\n",
       " <li class=\"nav-item\">\n",
       " <a class=\"nav-link\" data-drupal-link-query='{\"field_type_indicateurs_target_id\":\"22\"}' data-drupal-link-system-path=\"taxonomy/term/1\" href=\"/theme/economie?field_type_indicateurs_target_id=22\">Echanges extérieurs</a>\n",
       " </li>,\n",
       " <li class=\"nav-item\">\n",
       " <a class=\"nav-link\" data-drupal-link-query='{\"field_type_indicateurs_target_id\":\"24\"}' data-drupal-link-system-path=\"taxonomy/term/1\" href=\"/theme/economie?field_type_indicateurs_target_id=24\">Synthèses économiques</a>\n",
       " </li>]"
      ]
     },
     "execution_count": 238,
     "metadata": {},
     "output_type": "execute_result"
    }
   ],
   "source": [
    "all_struct[0].findAll(\"li\")"
   ]
  },
  {
   "cell_type": "code",
   "execution_count": 239,
   "metadata": {},
   "outputs": [
    {
     "data": {
      "text/plain": [
       "'Croissance économique'"
      ]
     },
     "execution_count": 239,
     "metadata": {},
     "output_type": "execute_result"
    }
   ],
   "source": [
    "#theme ref\n",
    "all_struct[0].li.a.text"
   ]
  },
  {
   "cell_type": "code",
   "execution_count": 132,
   "metadata": {},
   "outputs": [],
   "source": [
    "#sous theme text\n",
    "#[item.get_text() for item in all_struct[0].li.ul.findAll(\"li\")]\n"
   ]
  },
  {
   "cell_type": "code",
   "execution_count": 240,
   "metadata": {},
   "outputs": [
    {
     "name": "stdout",
     "output_type": "stream",
     "text": [
      "6\n",
      "6\n",
      "8\n",
      "9\n",
      "15\n"
     ]
    }
   ],
   "source": [
    "for block in all_struct:\n",
    "    print(len(block.findAll(\"a\")))"
   ]
  },
  {
   "cell_type": "code",
   "execution_count": 253,
   "metadata": {},
   "outputs": [
    {
     "data": {
      "text/plain": [
       "[<li class=\"nav-item menu-item--expanded\">\n",
       " <a class=\"nav-link\" data-drupal-link-system-path=\"taxonomy/term/1\" href=\"/theme/economie\">Economie</a>\n",
       " <ul class=\"menu\">\n",
       " <li class=\"nav-item\">\n",
       " <a class=\"nav-link\" data-drupal-link-query='{\"field_type_indicateurs_target_id\":\"20\"}' data-drupal-link-system-path=\"taxonomy/term/1\" href=\"/theme/economie?field_type_indicateurs_target_id=20\">Croissance économique</a>\n",
       " </li>\n",
       " <li class=\"nav-item\">\n",
       " <a class=\"nav-link\" data-drupal-link-query='{\"field_type_indicateurs_target_id\":\"21\"}' data-drupal-link-system-path=\"taxonomy/term/1\" href=\"/theme/economie?field_type_indicateurs_target_id=21\">Prix</a>\n",
       " </li>\n",
       " <li class=\"nav-item\">\n",
       " <a class=\"nav-link\" data-drupal-link-query='{\"field_type_indicateurs_target_id\":\"23\"}' data-drupal-link-system-path=\"taxonomy/term/1\" href=\"/theme/economie?field_type_indicateurs_target_id=23\">Statistiques d'entreprise</a>\n",
       " </li>\n",
       " <li class=\"nav-item\">\n",
       " <a class=\"nav-link\" data-drupal-link-query='{\"field_type_indicateurs_target_id\":\"22\"}' data-drupal-link-system-path=\"taxonomy/term/1\" href=\"/theme/economie?field_type_indicateurs_target_id=22\">Echanges extérieurs</a>\n",
       " </li>\n",
       " <li class=\"nav-item\">\n",
       " <a class=\"nav-link\" data-drupal-link-query='{\"field_type_indicateurs_target_id\":\"24\"}' data-drupal-link-system-path=\"taxonomy/term/1\" href=\"/theme/economie?field_type_indicateurs_target_id=24\">Synthèses économiques</a>\n",
       " </li>\n",
       " </ul>\n",
       " </li>,\n",
       " <li class=\"nav-item menu-item--expanded\">\n",
       " <a class=\"nav-link\" data-drupal-link-system-path=\"taxonomy/term/2\" href=\"/theme/demographie\">Démographie</a>\n",
       " <ul class=\"menu\">\n",
       " <li class=\"nav-item\">\n",
       " <a class=\"nav-link\" data-drupal-link-query='{\"field_type_indicateurs_target_id\":\"25\"}' data-drupal-link-system-path=\"taxonomy/term/2\" href=\"/theme/demographie?field_type_indicateurs_target_id=25\">Population</a>\n",
       " </li>\n",
       " <li class=\"nav-item\">\n",
       " <a class=\"nav-link\" data-drupal-link-query='{\"field_type_indicateurs_target_id\":\"26\"}' data-drupal-link-system-path=\"taxonomy/term/2\" href=\"/theme/demographie?field_type_indicateurs_target_id=26\">Natalité</a>\n",
       " </li>\n",
       " <li class=\"nav-item\">\n",
       " <a class=\"nav-link\" data-drupal-link-query='{\"field_type_indicateurs_target_id\":\"28\"}' data-drupal-link-system-path=\"taxonomy/term/2\" href=\"/theme/demographie?field_type_indicateurs_target_id=28\">Mortalité</a>\n",
       " </li>\n",
       " <li class=\"nav-item\">\n",
       " <a class=\"nav-link\" data-drupal-link-query='{\"field_type_indicateurs_target_id\":\"27\"}' data-drupal-link-system-path=\"taxonomy/term/2\" href=\"/theme/demographie?field_type_indicateurs_target_id=27\">Fécondité</a>\n",
       " </li>\n",
       " <li class=\"nav-item\">\n",
       " <a class=\"nav-link\" data-drupal-link-query='{\"field_type_indicateurs_target_id\":\"30\"}' data-drupal-link-system-path=\"taxonomy/term/2\" href=\"/theme/demographie?field_type_indicateurs_target_id=30\">Migration</a>\n",
       " </li>\n",
       " </ul>\n",
       " </li>,\n",
       " <li class=\"nav-item menu-item--expanded\">\n",
       " <a class=\"nav-link\" data-drupal-link-system-path=\"taxonomy/term/3\" href=\"/theme/societe\">Société</a>\n",
       " <ul class=\"menu\">\n",
       " <li class=\"nav-item\">\n",
       " <a class=\"nav-link\" data-drupal-link-query='{\"field_type_indicateurs_target_id\":\"32\"}' data-drupal-link-system-path=\"taxonomy/term/3\" href=\"/theme/societe?field_type_indicateurs_target_id=32\">Santé</a>\n",
       " </li>\n",
       " <li class=\"nav-item\">\n",
       " <a class=\"nav-link\" data-drupal-link-query='{\"field_type_indicateurs_target_id\":\"29\"}' data-drupal-link-system-path=\"taxonomy/term/3\" href=\"/theme/societe?field_type_indicateurs_target_id=29\">Pauvreté et conditions de vie</a>\n",
       " </li>\n",
       " <li class=\"nav-item\">\n",
       " <a class=\"nav-link\" data-drupal-link-query='{\"field_type_indicateurs_target_id\":\"36\"}' data-drupal-link-system-path=\"taxonomy/term/3\" href=\"/theme/societe?field_type_indicateurs_target_id=36\">Justice</a>\n",
       " </li>\n",
       " <li class=\"nav-item\">\n",
       " <a class=\"nav-link\" data-drupal-link-query='{\"field_type_indicateurs_target_id\":\"34\"}' data-drupal-link-system-path=\"taxonomy/term/3\" href=\"/theme/societe?field_type_indicateurs_target_id=34\">Habitat et cadre de vie</a>\n",
       " </li>\n",
       " <li class=\"nav-item\">\n",
       " <a class=\"nav-link\" data-drupal-link-query='{\"field_type_indicateurs_target_id\":\"31\"}' data-drupal-link-system-path=\"taxonomy/term/3\" href=\"/theme/societe?field_type_indicateurs_target_id=31\">Emploi et travail</a>\n",
       " </li>\n",
       " <li class=\"nav-item\">\n",
       " <a class=\"nav-link\" data-drupal-link-query='{\"field_type_indicateurs_target_id\":\"33\"}' data-drupal-link-system-path=\"taxonomy/term/3\" href=\"/theme/societe?field_type_indicateurs_target_id=33\">Education</a>\n",
       " </li>\n",
       " <li class=\"nav-item\">\n",
       " <a class=\"nav-link\" data-drupal-link-query='{\"field_type_indicateurs_target_id\":\"35\"}' data-drupal-link-system-path=\"taxonomy/term/3\" href=\"/theme/societe?field_type_indicateurs_target_id=35\">Genre et équité</a>\n",
       " </li>\n",
       " </ul>\n",
       " </li>,\n",
       " <li class=\"nav-item menu-item--expanded\">\n",
       " <a class=\"nav-link\" data-drupal-link-system-path=\"taxonomy/term/39\" href=\"/theme/autres-statistiques\">Autres statistiques</a>\n",
       " <ul class=\"menu\">\n",
       " <li class=\"nav-item\">\n",
       " <a class=\"nav-link\" data-drupal-link-query='{\"field_type_indicateurs_target_id\":\"41\"}' data-drupal-link-system-path=\"taxonomy/term/39\" href=\"/theme/autres-statistiques?field_type_indicateurs_target_id=41\">Agriculture</a>\n",
       " </li>\n",
       " <li class=\"nav-item\">\n",
       " <a class=\"nav-link\" data-drupal-link-query='{\"field_type_indicateurs_target_id\":\"45\"}' data-drupal-link-system-path=\"taxonomy/term/39\" href=\"/theme/autres-statistiques?field_type_indicateurs_target_id=45\">Bâtiments et travaux publics </a>\n",
       " </li>\n",
       " <li class=\"nav-item\">\n",
       " <a class=\"nav-link\" data-drupal-link-query='{\"field_type_indicateurs_target_id\":\"49\"}' data-drupal-link-system-path=\"taxonomy/term/39\" href=\"/theme/autres-statistiques?field_type_indicateurs_target_id=49\">Environnement</a>\n",
       " </li>\n",
       " <li class=\"nav-item\">\n",
       " <a class=\"nav-link\" data-drupal-link-query='{\"field_type_indicateurs_target_id\":\"44\"}' data-drupal-link-system-path=\"taxonomy/term/39\" href=\"/theme/autres-statistiques?field_type_indicateurs_target_id=44\">Industrie</a>\n",
       " </li>\n",
       " <li class=\"nav-item\">\n",
       " <a class=\"nav-link\" data-drupal-link-query='{\"field_type_indicateurs_target_id\":\"43\"}' data-drupal-link-system-path=\"taxonomy/term/39\" href=\"/theme/autres-statistiques?field_type_indicateurs_target_id=43\">Mines</a>\n",
       " </li>\n",
       " <li class=\"nav-item\">\n",
       " <a class=\"nav-link\" data-drupal-link-query='{\"field_type_indicateurs_target_id\":\"50\"}' data-drupal-link-system-path=\"taxonomy/term/39\" href=\"/theme/autres-statistiques?field_type_indicateurs_target_id=50\">TIC</a>\n",
       " </li>\n",
       " <li class=\"nav-item\">\n",
       " <a class=\"nav-link\" data-drupal-link-query='{\"field_type_indicateurs_target_id\":\"47\"}' data-drupal-link-system-path=\"taxonomy/term/39\" href=\"/theme/autres-statistiques?field_type_indicateurs_target_id=47\">Tourisme</a>\n",
       " </li>\n",
       " <li class=\"nav-item\">\n",
       " <a class=\"nav-link\" data-drupal-link-query='{\"field_type_indicateurs_target_id\":\"46\"}' data-drupal-link-system-path=\"taxonomy/term/39\" href=\"/theme/autres-statistiques?field_type_indicateurs_target_id=46\">Transport</a>\n",
       " </li>\n",
       " </ul>\n",
       " </li>,\n",
       " <li class=\"nav-item menu-item--expanded\">\n",
       " <a class=\"nav-link\" data-drupal-link-system-path=\"regions\" href=\"/regions\">Régions</a>\n",
       " <ul class=\"menu\">\n",
       " <li class=\"nav-item\">\n",
       " <a class=\"nav-link\" data-drupal-link-system-path=\"taxonomy/term/5\" href=\"/themes/situation-economiques-et-sociales/ses-regionales%3Ffield_year_value%3DAll%26field_regions_ses_target_id%3D5\">Dakar</a>\n",
       " </li>\n",
       " <li class=\"nav-item\">\n",
       " <a class=\"nav-link\" data-drupal-link-system-path=\"taxonomy/term/6\" href=\"/taxonomy/term/6\">Diourbel</a>\n",
       " </li>\n",
       " <li class=\"nav-item\">\n",
       " <a class=\"nav-link\" data-drupal-link-system-path=\"taxonomy/term/10\" href=\"/taxonomy/term/10\">Fatick</a>\n",
       " </li>\n",
       " <li class=\"nav-item\">\n",
       " <a class=\"nav-link\" data-drupal-link-system-path=\"taxonomy/term/11\" href=\"/taxonomy/term/11\">Kaffrine</a>\n",
       " </li>\n",
       " <li class=\"nav-item\">\n",
       " <a class=\"nav-link\" data-drupal-link-system-path=\"taxonomy/term/12\" href=\"/taxonomy/term/12\">Kaolack</a>\n",
       " </li>\n",
       " <li class=\"nav-item\">\n",
       " <a class=\"nav-link\" data-drupal-link-system-path=\"taxonomy/term/13\" href=\"/taxonomy/term/13\">Kedougou</a>\n",
       " </li>\n",
       " <li class=\"nav-item\">\n",
       " <a class=\"nav-link\" data-drupal-link-system-path=\"taxonomy/term/14\" href=\"/taxonomy/term/14\">Kolda</a>\n",
       " </li>\n",
       " <li class=\"nav-item\">\n",
       " <a class=\"nav-link\" data-drupal-link-system-path=\"taxonomy/term/15\" href=\"/taxonomy/term/15\">Louga</a>\n",
       " </li>\n",
       " <li class=\"nav-item\">\n",
       " <a class=\"nav-link\" data-drupal-link-system-path=\"taxonomy/term/16\" href=\"/taxonomy/term/16\">Matam</a>\n",
       " </li>\n",
       " <li class=\"nav-item\">\n",
       " <a class=\"nav-link\" data-drupal-link-system-path=\"taxonomy/term/8\" href=\"/taxonomy/term/8\">Saint-louis</a>\n",
       " </li>\n",
       " <li class=\"nav-item\">\n",
       " <a class=\"nav-link\" data-drupal-link-system-path=\"taxonomy/term/17\" href=\"/taxonomy/term/17\">Sedhiou</a>\n",
       " </li>\n",
       " <li class=\"nav-item\">\n",
       " <a class=\"nav-link\" data-drupal-link-system-path=\"taxonomy/term/7\" href=\"/taxonomy/term/7\">Tambacounda</a>\n",
       " </li>\n",
       " <li class=\"nav-item\">\n",
       " <a class=\"nav-link\" data-drupal-link-system-path=\"taxonomy/term/9\" href=\"/taxonomy/term/9\">Thies</a>\n",
       " </li>\n",
       " <li class=\"nav-item\">\n",
       " <a class=\"nav-link\" data-drupal-link-system-path=\"taxonomy/term/18\" href=\"/taxonomy/term/18\">Ziguinchor</a>\n",
       " </li>\n",
       " </ul>\n",
       " </li>]"
      ]
     },
     "execution_count": 253,
     "metadata": {},
     "output_type": "execute_result"
    }
   ],
   "source": [
    "all_struct"
   ]
  },
  {
   "cell_type": "code",
   "execution_count": 261,
   "metadata": {},
   "outputs": [
    {
     "data": {
      "text/plain": [
       "'Economie'"
      ]
     },
     "execution_count": 261,
     "metadata": {},
     "output_type": "execute_result"
    }
   ],
   "source": [
    "all_struct[0].a.get_text()"
   ]
  },
  {
   "cell_type": "code",
   "execution_count": 254,
   "metadata": {},
   "outputs": [],
   "source": [
    "for block in all_struct :\n",
    "    key = block.a.get_text()\n",
    "    list = [{block.findAll(\"a\")[i].get_text().replace(\" \", \"_\").replace(\"'\", \"_\").upper() : block.findAll(\"a\")[i][\"href\"] } for i in range(1,len(block.findAll(\"a\")))]\n",
    "    data_ext[key] = list"
   ]
  },
  {
   "cell_type": "code",
   "execution_count": 266,
   "metadata": {},
   "outputs": [
    {
     "data": {
      "text/plain": [
       "'/theme/economie?field_type_indicateurs_target_id=20'"
      ]
     },
     "execution_count": 266,
     "metadata": {},
     "output_type": "execute_result"
    }
   ],
   "source": [
    "data_ext[\"Economie\"][0][\"CROISSANCE_ÉCONOMIQUE\"]"
   ]
  },
  {
   "cell_type": "code",
   "execution_count": null,
   "metadata": {},
   "outputs": [],
   "source": []
  },
  {
   "cell_type": "code",
   "execution_count": 243,
   "metadata": {},
   "outputs": [
    {
     "data": {
      "text/plain": [
       "'https://www.ansd.sn/'"
      ]
     },
     "execution_count": 243,
     "metadata": {},
     "output_type": "execute_result"
    }
   ],
   "source": [
    "link"
   ]
  },
  {
   "cell_type": "code",
   "execution_count": 137,
   "metadata": {},
   "outputs": [],
   "source": [
    "foo = \"https://www.ansd.sn\""
   ]
  },
  {
   "cell_type": "code",
   "execution_count": null,
   "metadata": {},
   "outputs": [],
   "source": []
  },
  {
   "cell_type": "code",
   "execution_count": 270,
   "metadata": {},
   "outputs": [
    {
     "data": {
      "text/plain": [
       "[{'CROISSANCE_ÉCONOMIQUE': '/theme/economie?field_type_indicateurs_target_id=20'},\n",
       " {'PRIX': '/theme/economie?field_type_indicateurs_target_id=21'},\n",
       " {'STATISTIQUES_D_ENTREPRISE': '/theme/economie?field_type_indicateurs_target_id=23'},\n",
       " {'ECHANGES_EXTÉRIEURS': '/theme/economie?field_type_indicateurs_target_id=22'},\n",
       " {'SYNTHÈSES_ÉCONOMIQUES': '/theme/economie?field_type_indicateurs_target_id=24'}]"
      ]
     },
     "execution_count": 270,
     "metadata": {},
     "output_type": "execute_result"
    }
   ],
   "source": [
    "data_ext[\"Economie\"]"
   ]
  },
  {
   "cell_type": "code",
   "execution_count": 269,
   "metadata": {},
   "outputs": [],
   "source": [
    "def RenvoiVal(mydict : dict):\n",
    "    return [*mydict.values()][0]"
   ]
  },
  {
   "cell_type": "code",
   "execution_count": 271,
   "metadata": {},
   "outputs": [
    {
     "name": "stdout",
     "output_type": "stream",
     "text": [
      "/theme/economie?field_type_indicateurs_target_id=20\n",
      "/theme/economie?field_type_indicateurs_target_id=21\n",
      "/theme/economie?field_type_indicateurs_target_id=23\n",
      "/theme/economie?field_type_indicateurs_target_id=22\n",
      "/theme/economie?field_type_indicateurs_target_id=24\n"
     ]
    }
   ],
   "source": [
    "for item in data_ext[\"Economie\"]:\n",
    "    for (k,v) in item.items():\n",
    "        print(v)"
   ]
  },
  {
   "cell_type": "code",
   "execution_count": 272,
   "metadata": {},
   "outputs": [],
   "source": [
    "link_3 = \"https://www.ansd.sn/theme/economie?field_type_indicateurs_target_id=20\""
   ]
  },
  {
   "cell_type": "code",
   "execution_count": 274,
   "metadata": {},
   "outputs": [],
   "source": [
    "def getLink2(URL, tag, class_):\n",
    "    assert len(URL) > 0, f\"URL expected a non-empty string, got {URL}\"\n",
    "    soupe = MakeSoupe(URL)\n",
    "    soupe = soupe \\\n",
    "        .findAll(tag, {\"class\" : class_})\n",
    "    return soupe"
   ]
  },
  {
   "cell_type": "code",
   "execution_count": 275,
   "metadata": {},
   "outputs": [],
   "source": [
    "# def une fonction qui prend un lien et retour une liste de indicateur : lien\n",
    "\n",
    "def recupLink(lien):\n",
    "    scraped_link = getLink2(lien, \"div\",\"indicateur\")\n",
    "    indic_dict = [{item.h5.get_text() : item.a.a[\"href\"]} for item in scraped_link]\n",
    "    return indic_dict\n",
    "                  \n"
   ]
  },
  {
   "cell_type": "code",
   "execution_count": 276,
   "metadata": {},
   "outputs": [
    {
     "name": "stderr",
     "output_type": "stream",
     "text": [
      "c:\\Users\\ANSD\\anaconda3\\lib\\site-packages\\urllib3\\connectionpool.py:1045: InsecureRequestWarning: Unverified HTTPS request is being made to host 'www.ansd.sn'. Adding certificate verification is strongly advised. See: https://urllib3.readthedocs.io/en/1.26.x/advanced-usage.html#ssl-warnings\n",
      "  warnings.warn(\n"
     ]
    },
    {
     "data": {
      "text/plain": [
       "[{'Tableau des ressources et des emplois (TRE)': '/Indicateur/tableau-des-ressources-et-des-emplois-tre'},\n",
       " {'Matrice de comptabilité sociale (MCS)': '/Indicateur/matrice-de-comptabilite-sociale-mcs'},\n",
       " {'Autres rapports et tableaux statistiques sur les comptes nationaux': '/Indicateur/autres-rapports-et-tableaux-statistiques-sur-les-comptes-nationaux'},\n",
       " {'Comptes des secteurs institutionnels et tableaux des comptes économiques intégrés ': '/Indicateur/comptes-des-secteurs-institutionnels-et-tableaux-des-comptes-economiques-integres'},\n",
       " {'Produit intérieur brut trimestriel (base 2014)': '/Indicateur/produit-interieur-brut-trimestriel-base-2014'},\n",
       " {'Produit Intérieur Brut annuel (base 2014)': '/Indicateur/produit-interieur-brut-annuel-base-2014'}]"
      ]
     },
     "execution_count": 276,
     "metadata": {},
     "output_type": "execute_result"
    }
   ],
   "source": [
    "recupLink(link_3)"
   ]
  },
  {
   "cell_type": "code",
   "execution_count": 277,
   "metadata": {},
   "outputs": [
    {
     "name": "stderr",
     "output_type": "stream",
     "text": [
      "c:\\Users\\ANSD\\anaconda3\\lib\\site-packages\\urllib3\\connectionpool.py:1045: InsecureRequestWarning: Unverified HTTPS request is being made to host 'www.ansd.sn'. Adding certificate verification is strongly advised. See: https://urllib3.readthedocs.io/en/1.26.x/advanced-usage.html#ssl-warnings\n",
      "  warnings.warn(\n",
      "c:\\Users\\ANSD\\anaconda3\\lib\\site-packages\\urllib3\\connectionpool.py:1045: InsecureRequestWarning: Unverified HTTPS request is being made to host 'www.ansd.sn'. Adding certificate verification is strongly advised. See: https://urllib3.readthedocs.io/en/1.26.x/advanced-usage.html#ssl-warnings\n",
      "  warnings.warn(\n",
      "c:\\Users\\ANSD\\anaconda3\\lib\\site-packages\\urllib3\\connectionpool.py:1045: InsecureRequestWarning: Unverified HTTPS request is being made to host 'www.ansd.sn'. Adding certificate verification is strongly advised. See: https://urllib3.readthedocs.io/en/1.26.x/advanced-usage.html#ssl-warnings\n",
      "  warnings.warn(\n",
      "c:\\Users\\ANSD\\anaconda3\\lib\\site-packages\\urllib3\\connectionpool.py:1045: InsecureRequestWarning: Unverified HTTPS request is being made to host 'www.ansd.sn'. Adding certificate verification is strongly advised. See: https://urllib3.readthedocs.io/en/1.26.x/advanced-usage.html#ssl-warnings\n",
      "  warnings.warn(\n",
      "c:\\Users\\ANSD\\anaconda3\\lib\\site-packages\\urllib3\\connectionpool.py:1045: InsecureRequestWarning: Unverified HTTPS request is being made to host 'www.ansd.sn'. Adding certificate verification is strongly advised. See: https://urllib3.readthedocs.io/en/1.26.x/advanced-usage.html#ssl-warnings\n",
      "  warnings.warn(\n"
     ]
    }
   ],
   "source": [
    "for item in data_ext[\"Economie\"]:\n",
    "    for (k,v) in item.items():\n",
    "        item[k] = recupLink(\"https://www.ansd.sn\"+v)"
   ]
  },
  {
   "cell_type": "markdown",
   "metadata": {},
   "source": [
    "## Do it for all"
   ]
  },
  {
   "cell_type": "code",
   "execution_count": 278,
   "metadata": {},
   "outputs": [
    {
     "data": {
      "text/plain": [
       "{'Economie': [{'CROISSANCE_ÉCONOMIQUE': [{'Tableau des ressources et des emplois (TRE)': '/Indicateur/tableau-des-ressources-et-des-emplois-tre'},\n",
       "    {'Matrice de comptabilité sociale (MCS)': '/Indicateur/matrice-de-comptabilite-sociale-mcs'},\n",
       "    {'Autres rapports et tableaux statistiques sur les comptes nationaux': '/Indicateur/autres-rapports-et-tableaux-statistiques-sur-les-comptes-nationaux'},\n",
       "    {'Comptes des secteurs institutionnels et tableaux des comptes économiques intégrés ': '/Indicateur/comptes-des-secteurs-institutionnels-et-tableaux-des-comptes-economiques-integres'},\n",
       "    {'Produit intérieur brut trimestriel (base 2014)': '/Indicateur/produit-interieur-brut-trimestriel-base-2014'},\n",
       "    {'Produit Intérieur Brut annuel (base 2014)': '/Indicateur/produit-interieur-brut-annuel-base-2014'}]},\n",
       "  {'PRIX': [{'Indice des Prix des Matériaux de Construction (IMC)': '/Indicateur/indice-des-prix-des-materiaux-de-construction-imc'},\n",
       "    {'Indice du Coût de la Construction-ICC (base 100 2018)': '/Indicateur/indice-du-cout-de-la-construction-icc-base-100-2018'},\n",
       "    {\"Evolution annuelle de l'Indice Harmonisé des Prix à la Consommation\": '/Indicateur/evolution-annuelle-de-lindice-harmonise-des-prix-la-consommation'},\n",
       "    {\"Note d'Analyse trimestrielle de l'Indice des Prix à la Consommation\": '/Indicateur/note-danalyse-trimestrielle-de-lindice-des-prix-la-consommation'},\n",
       "    {'Indice Harmonisé des Prix à la Consommation (IHPC, Base 100 en 2014)': '/Indicateur/indice-harmonise-des-prix-la-consommation-ihpc-base-100-en-2014'},\n",
       "    {'Indice des Prix à la Production Industrielle (IPPI)': '/Indicateur/indice-des-prix-la-production-industrielle-ippi'},\n",
       "    {'Indices des Prix de Production des Services (IPPS)': '/Indicateur/indices-des-prix-de-production-des-services-ipps'}]},\n",
       "  {'STATISTIQUES_D_ENTREPRISE': [{'Immatriculation au NINEA : chiffres clés, tendances et évolutions': '/Indicateur/immatriculation-au-ninea-chiffres-cles-tendances-et-evolutions'},\n",
       "    {'Indice du Chiffre d’Affaires dans la Construction (ICAC)': '/Indicateur/indice-du-chiffre-daffaires-dans-la-construction-icac'},\n",
       "    {'Banque de Données Economiques et Financières (BDEF)': '/Indicateur/banque-de-donnees-economiques-et-financieres-bdef'},\n",
       "    {'Enquête sur l’Emploi, la Rémunération et les Heures de Travail (EERH)': '/Indicateur/enquete-sur-lemploi-la-remuneration-et-les-heures-de-travail-eerh-0'},\n",
       "    {'Indice Harmonisé de la Production Industrielle (IHPI)': '/Indicateur/indice-harmonise-de-la-production-industrielle-ihpi'},\n",
       "    {'Résultats du Recensement Général des Entreprises (RGE) ': '/Indicateur/resultats-du-recensement-general-des-entreprises-rge'},\n",
       "    {\"Indices du Chiffre d’Affaires dans l'Industrie (ICAI)\": '/Indicateur/indices-du-chiffre-daffaires-dans-lindustrie-icai'},\n",
       "    {'Indices du Chiffre d’Affaires dans les Services (ICAS)': '/Indicateur/indices-du-chiffre-daffaires-dans-les-services-icas'}]},\n",
       "  {'ECHANGES_EXTÉRIEURS': [{'Indice Mensuel des Prix du Commerce Extérieur - IPCE (Base 100 en 2014)': '/Indicateur/indice-mensuel-des-prix-du-commerce-exterieur-ipce-base-100-en-2014'},\n",
       "    {'Autres rapports sur le commerce extérieur': '/Indicateur/autres-rapports-sur-le-commerce-exterieur'},\n",
       "    {\"Note d'Analyse du Commerce Extérieur (NACE)\": '/Indicateur/note-danalyse-du-commerce-exterieur-nace'},\n",
       "    {'Bulletin Mensuel des Statistiques du Commerce Extérieur': '/Indicateur/bulletin-mensuel-des-statistiques-du-commerce-exterieur'}]},\n",
       "  {'SYNTHÈSES_ÉCONOMIQUES': [{'Repères statistiques': '/Indicateur/reperes-statistiques'},\n",
       "    {'Bulletin Mensuel des Statistiques Economiques et Financières': '/Indicateur/bulletin-mensuel-des-statistiques-economiques-et-financieres'},\n",
       "    {'Note sur les Evolutions Economiques Récentes (NEER)': '/Indicateur/note-sur-les-evolutions-economiques-recentes-neer'}]}],\n",
       " 'Démographie': [{'POPULATION': '/theme/demographie?field_type_indicateurs_target_id=25'},\n",
       "  {'NATALITÉ': '/theme/demographie?field_type_indicateurs_target_id=26'},\n",
       "  {'MORTALITÉ': '/theme/demographie?field_type_indicateurs_target_id=28'},\n",
       "  {'FÉCONDITÉ': '/theme/demographie?field_type_indicateurs_target_id=27'},\n",
       "  {'MIGRATION': '/theme/demographie?field_type_indicateurs_target_id=30'}],\n",
       " 'Société': [{'SANTÉ': '/theme/societe?field_type_indicateurs_target_id=32'},\n",
       "  {'PAUVRETÉ_ET_CONDITIONS_DE_VIE': '/theme/societe?field_type_indicateurs_target_id=29'},\n",
       "  {'JUSTICE': '/theme/societe?field_type_indicateurs_target_id=36'},\n",
       "  {'HABITAT_ET_CADRE_DE_VIE': '/theme/societe?field_type_indicateurs_target_id=34'},\n",
       "  {'EMPLOI_ET_TRAVAIL': '/theme/societe?field_type_indicateurs_target_id=31'},\n",
       "  {'EDUCATION': '/theme/societe?field_type_indicateurs_target_id=33'},\n",
       "  {'GENRE_ET_ÉQUITÉ': '/theme/societe?field_type_indicateurs_target_id=35'}],\n",
       " 'Autres statistiques': [{'AGRICULTURE': '/theme/autres-statistiques?field_type_indicateurs_target_id=41'},\n",
       "  {'BÂTIMENTS_ET_TRAVAUX_PUBLICS_': '/theme/autres-statistiques?field_type_indicateurs_target_id=45'},\n",
       "  {'ENVIRONNEMENT': '/theme/autres-statistiques?field_type_indicateurs_target_id=49'},\n",
       "  {'INDUSTRIE': '/theme/autres-statistiques?field_type_indicateurs_target_id=44'},\n",
       "  {'MINES': '/theme/autres-statistiques?field_type_indicateurs_target_id=43'},\n",
       "  {'TIC': '/theme/autres-statistiques?field_type_indicateurs_target_id=50'},\n",
       "  {'TOURISME': '/theme/autres-statistiques?field_type_indicateurs_target_id=47'},\n",
       "  {'TRANSPORT': '/theme/autres-statistiques?field_type_indicateurs_target_id=46'}],\n",
       " 'Régions': [{'DAKAR': '/themes/situation-economiques-et-sociales/ses-regionales%3Ffield_year_value%3DAll%26field_regions_ses_target_id%3D5'},\n",
       "  {'DIOURBEL': '/taxonomy/term/6'},\n",
       "  {'FATICK': '/taxonomy/term/10'},\n",
       "  {'KAFFRINE': '/taxonomy/term/11'},\n",
       "  {'KAOLACK': '/taxonomy/term/12'},\n",
       "  {'KEDOUGOU': '/taxonomy/term/13'},\n",
       "  {'KOLDA': '/taxonomy/term/14'},\n",
       "  {'LOUGA': '/taxonomy/term/15'},\n",
       "  {'MATAM': '/taxonomy/term/16'},\n",
       "  {'SAINT-LOUIS': '/taxonomy/term/8'},\n",
       "  {'SEDHIOU': '/taxonomy/term/17'},\n",
       "  {'TAMBACOUNDA': '/taxonomy/term/7'},\n",
       "  {'THIES': '/taxonomy/term/9'},\n",
       "  {'ZIGUINCHOR': '/taxonomy/term/18'}]}"
      ]
     },
     "execution_count": 278,
     "metadata": {},
     "output_type": "execute_result"
    }
   ],
   "source": [
    "data_ext"
   ]
  },
  {
   "cell_type": "code",
   "execution_count": 280,
   "metadata": {},
   "outputs": [
    {
     "name": "stderr",
     "output_type": "stream",
     "text": [
      "c:\\Users\\ANSD\\anaconda3\\lib\\site-packages\\urllib3\\connectionpool.py:1045: InsecureRequestWarning: Unverified HTTPS request is being made to host 'www.ansd.sn'. Adding certificate verification is strongly advised. See: https://urllib3.readthedocs.io/en/1.26.x/advanced-usage.html#ssl-warnings\n",
      "  warnings.warn(\n",
      "c:\\Users\\ANSD\\anaconda3\\lib\\site-packages\\urllib3\\connectionpool.py:1045: InsecureRequestWarning: Unverified HTTPS request is being made to host 'www.ansd.sn'. Adding certificate verification is strongly advised. See: https://urllib3.readthedocs.io/en/1.26.x/advanced-usage.html#ssl-warnings\n",
      "  warnings.warn(\n",
      "c:\\Users\\ANSD\\anaconda3\\lib\\site-packages\\urllib3\\connectionpool.py:1045: InsecureRequestWarning: Unverified HTTPS request is being made to host 'www.ansd.sn'. Adding certificate verification is strongly advised. See: https://urllib3.readthedocs.io/en/1.26.x/advanced-usage.html#ssl-warnings\n",
      "  warnings.warn(\n",
      "c:\\Users\\ANSD\\anaconda3\\lib\\site-packages\\urllib3\\connectionpool.py:1045: InsecureRequestWarning: Unverified HTTPS request is being made to host 'www.ansd.sn'. Adding certificate verification is strongly advised. See: https://urllib3.readthedocs.io/en/1.26.x/advanced-usage.html#ssl-warnings\n",
      "  warnings.warn(\n",
      "c:\\Users\\ANSD\\anaconda3\\lib\\site-packages\\urllib3\\connectionpool.py:1045: InsecureRequestWarning: Unverified HTTPS request is being made to host 'www.ansd.sn'. Adding certificate verification is strongly advised. See: https://urllib3.readthedocs.io/en/1.26.x/advanced-usage.html#ssl-warnings\n",
      "  warnings.warn(\n",
      "c:\\Users\\ANSD\\anaconda3\\lib\\site-packages\\urllib3\\connectionpool.py:1045: InsecureRequestWarning: Unverified HTTPS request is being made to host 'www.ansd.sn'. Adding certificate verification is strongly advised. See: https://urllib3.readthedocs.io/en/1.26.x/advanced-usage.html#ssl-warnings\n",
      "  warnings.warn(\n",
      "c:\\Users\\ANSD\\anaconda3\\lib\\site-packages\\urllib3\\connectionpool.py:1045: InsecureRequestWarning: Unverified HTTPS request is being made to host 'www.ansd.sn'. Adding certificate verification is strongly advised. See: https://urllib3.readthedocs.io/en/1.26.x/advanced-usage.html#ssl-warnings\n",
      "  warnings.warn(\n",
      "c:\\Users\\ANSD\\anaconda3\\lib\\site-packages\\urllib3\\connectionpool.py:1045: InsecureRequestWarning: Unverified HTTPS request is being made to host 'www.ansd.sn'. Adding certificate verification is strongly advised. See: https://urllib3.readthedocs.io/en/1.26.x/advanced-usage.html#ssl-warnings\n",
      "  warnings.warn(\n",
      "c:\\Users\\ANSD\\anaconda3\\lib\\site-packages\\urllib3\\connectionpool.py:1045: InsecureRequestWarning: Unverified HTTPS request is being made to host 'www.ansd.sn'. Adding certificate verification is strongly advised. See: https://urllib3.readthedocs.io/en/1.26.x/advanced-usage.html#ssl-warnings\n",
      "  warnings.warn(\n",
      "c:\\Users\\ANSD\\anaconda3\\lib\\site-packages\\urllib3\\connectionpool.py:1045: InsecureRequestWarning: Unverified HTTPS request is being made to host 'www.ansd.sn'. Adding certificate verification is strongly advised. See: https://urllib3.readthedocs.io/en/1.26.x/advanced-usage.html#ssl-warnings\n",
      "  warnings.warn(\n",
      "c:\\Users\\ANSD\\anaconda3\\lib\\site-packages\\urllib3\\connectionpool.py:1045: InsecureRequestWarning: Unverified HTTPS request is being made to host 'www.ansd.sn'. Adding certificate verification is strongly advised. See: https://urllib3.readthedocs.io/en/1.26.x/advanced-usage.html#ssl-warnings\n",
      "  warnings.warn(\n",
      "c:\\Users\\ANSD\\anaconda3\\lib\\site-packages\\urllib3\\connectionpool.py:1045: InsecureRequestWarning: Unverified HTTPS request is being made to host 'www.ansd.sn'. Adding certificate verification is strongly advised. See: https://urllib3.readthedocs.io/en/1.26.x/advanced-usage.html#ssl-warnings\n",
      "  warnings.warn(\n",
      "c:\\Users\\ANSD\\anaconda3\\lib\\site-packages\\urllib3\\connectionpool.py:1045: InsecureRequestWarning: Unverified HTTPS request is being made to host 'www.ansd.sn'. Adding certificate verification is strongly advised. See: https://urllib3.readthedocs.io/en/1.26.x/advanced-usage.html#ssl-warnings\n",
      "  warnings.warn(\n",
      "c:\\Users\\ANSD\\anaconda3\\lib\\site-packages\\urllib3\\connectionpool.py:1045: InsecureRequestWarning: Unverified HTTPS request is being made to host 'www.ansd.sn'. Adding certificate verification is strongly advised. See: https://urllib3.readthedocs.io/en/1.26.x/advanced-usage.html#ssl-warnings\n",
      "  warnings.warn(\n",
      "c:\\Users\\ANSD\\anaconda3\\lib\\site-packages\\urllib3\\connectionpool.py:1045: InsecureRequestWarning: Unverified HTTPS request is being made to host 'www.ansd.sn'. Adding certificate verification is strongly advised. See: https://urllib3.readthedocs.io/en/1.26.x/advanced-usage.html#ssl-warnings\n",
      "  warnings.warn(\n",
      "c:\\Users\\ANSD\\anaconda3\\lib\\site-packages\\urllib3\\connectionpool.py:1045: InsecureRequestWarning: Unverified HTTPS request is being made to host 'www.ansd.sn'. Adding certificate verification is strongly advised. See: https://urllib3.readthedocs.io/en/1.26.x/advanced-usage.html#ssl-warnings\n",
      "  warnings.warn(\n",
      "c:\\Users\\ANSD\\anaconda3\\lib\\site-packages\\urllib3\\connectionpool.py:1045: InsecureRequestWarning: Unverified HTTPS request is being made to host 'www.ansd.sn'. Adding certificate verification is strongly advised. See: https://urllib3.readthedocs.io/en/1.26.x/advanced-usage.html#ssl-warnings\n",
      "  warnings.warn(\n",
      "c:\\Users\\ANSD\\anaconda3\\lib\\site-packages\\urllib3\\connectionpool.py:1045: InsecureRequestWarning: Unverified HTTPS request is being made to host 'www.ansd.sn'. Adding certificate verification is strongly advised. See: https://urllib3.readthedocs.io/en/1.26.x/advanced-usage.html#ssl-warnings\n",
      "  warnings.warn(\n",
      "c:\\Users\\ANSD\\anaconda3\\lib\\site-packages\\urllib3\\connectionpool.py:1045: InsecureRequestWarning: Unverified HTTPS request is being made to host 'www.ansd.sn'. Adding certificate verification is strongly advised. See: https://urllib3.readthedocs.io/en/1.26.x/advanced-usage.html#ssl-warnings\n",
      "  warnings.warn(\n",
      "c:\\Users\\ANSD\\anaconda3\\lib\\site-packages\\urllib3\\connectionpool.py:1045: InsecureRequestWarning: Unverified HTTPS request is being made to host 'www.ansd.sn'. Adding certificate verification is strongly advised. See: https://urllib3.readthedocs.io/en/1.26.x/advanced-usage.html#ssl-warnings\n",
      "  warnings.warn(\n",
      "c:\\Users\\ANSD\\anaconda3\\lib\\site-packages\\urllib3\\connectionpool.py:1045: InsecureRequestWarning: Unverified HTTPS request is being made to host 'www.ansd.sn'. Adding certificate verification is strongly advised. See: https://urllib3.readthedocs.io/en/1.26.x/advanced-usage.html#ssl-warnings\n",
      "  warnings.warn(\n",
      "c:\\Users\\ANSD\\anaconda3\\lib\\site-packages\\urllib3\\connectionpool.py:1045: InsecureRequestWarning: Unverified HTTPS request is being made to host 'www.ansd.sn'. Adding certificate verification is strongly advised. See: https://urllib3.readthedocs.io/en/1.26.x/advanced-usage.html#ssl-warnings\n",
      "  warnings.warn(\n",
      "c:\\Users\\ANSD\\anaconda3\\lib\\site-packages\\urllib3\\connectionpool.py:1045: InsecureRequestWarning: Unverified HTTPS request is being made to host 'www.ansd.sn'. Adding certificate verification is strongly advised. See: https://urllib3.readthedocs.io/en/1.26.x/advanced-usage.html#ssl-warnings\n",
      "  warnings.warn(\n",
      "c:\\Users\\ANSD\\anaconda3\\lib\\site-packages\\urllib3\\connectionpool.py:1045: InsecureRequestWarning: Unverified HTTPS request is being made to host 'www.ansd.sn'. Adding certificate verification is strongly advised. See: https://urllib3.readthedocs.io/en/1.26.x/advanced-usage.html#ssl-warnings\n",
      "  warnings.warn(\n",
      "c:\\Users\\ANSD\\anaconda3\\lib\\site-packages\\urllib3\\connectionpool.py:1045: InsecureRequestWarning: Unverified HTTPS request is being made to host 'www.ansd.sn'. Adding certificate verification is strongly advised. See: https://urllib3.readthedocs.io/en/1.26.x/advanced-usage.html#ssl-warnings\n",
      "  warnings.warn(\n",
      "c:\\Users\\ANSD\\anaconda3\\lib\\site-packages\\urllib3\\connectionpool.py:1045: InsecureRequestWarning: Unverified HTTPS request is being made to host 'www.ansd.sn'. Adding certificate verification is strongly advised. See: https://urllib3.readthedocs.io/en/1.26.x/advanced-usage.html#ssl-warnings\n",
      "  warnings.warn(\n",
      "c:\\Users\\ANSD\\anaconda3\\lib\\site-packages\\urllib3\\connectionpool.py:1045: InsecureRequestWarning: Unverified HTTPS request is being made to host 'www.ansd.sn'. Adding certificate verification is strongly advised. See: https://urllib3.readthedocs.io/en/1.26.x/advanced-usage.html#ssl-warnings\n",
      "  warnings.warn(\n",
      "c:\\Users\\ANSD\\anaconda3\\lib\\site-packages\\urllib3\\connectionpool.py:1045: InsecureRequestWarning: Unverified HTTPS request is being made to host 'www.ansd.sn'. Adding certificate verification is strongly advised. See: https://urllib3.readthedocs.io/en/1.26.x/advanced-usage.html#ssl-warnings\n",
      "  warnings.warn(\n",
      "c:\\Users\\ANSD\\anaconda3\\lib\\site-packages\\urllib3\\connectionpool.py:1045: InsecureRequestWarning: Unverified HTTPS request is being made to host 'www.ansd.sn'. Adding certificate verification is strongly advised. See: https://urllib3.readthedocs.io/en/1.26.x/advanced-usage.html#ssl-warnings\n",
      "  warnings.warn(\n",
      "c:\\Users\\ANSD\\anaconda3\\lib\\site-packages\\urllib3\\connectionpool.py:1045: InsecureRequestWarning: Unverified HTTPS request is being made to host 'www.ansd.sn'. Adding certificate verification is strongly advised. See: https://urllib3.readthedocs.io/en/1.26.x/advanced-usage.html#ssl-warnings\n",
      "  warnings.warn(\n",
      "c:\\Users\\ANSD\\anaconda3\\lib\\site-packages\\urllib3\\connectionpool.py:1045: InsecureRequestWarning: Unverified HTTPS request is being made to host 'www.ansd.sn'. Adding certificate verification is strongly advised. See: https://urllib3.readthedocs.io/en/1.26.x/advanced-usage.html#ssl-warnings\n",
      "  warnings.warn(\n",
      "c:\\Users\\ANSD\\anaconda3\\lib\\site-packages\\urllib3\\connectionpool.py:1045: InsecureRequestWarning: Unverified HTTPS request is being made to host 'www.ansd.sn'. Adding certificate verification is strongly advised. See: https://urllib3.readthedocs.io/en/1.26.x/advanced-usage.html#ssl-warnings\n",
      "  warnings.warn(\n",
      "c:\\Users\\ANSD\\anaconda3\\lib\\site-packages\\urllib3\\connectionpool.py:1045: InsecureRequestWarning: Unverified HTTPS request is being made to host 'www.ansd.sn'. Adding certificate verification is strongly advised. See: https://urllib3.readthedocs.io/en/1.26.x/advanced-usage.html#ssl-warnings\n",
      "  warnings.warn(\n",
      "c:\\Users\\ANSD\\anaconda3\\lib\\site-packages\\urllib3\\connectionpool.py:1045: InsecureRequestWarning: Unverified HTTPS request is being made to host 'www.ansd.sn'. Adding certificate verification is strongly advised. See: https://urllib3.readthedocs.io/en/1.26.x/advanced-usage.html#ssl-warnings\n",
      "  warnings.warn(\n"
     ]
    }
   ],
   "source": [
    "for rubrique in data_ext :\n",
    "    for item in data_ext[rubrique]:\n",
    "        for (k,v) in item.items():\n",
    "            try :\n",
    "                item[k] = recupLink(\"https://www.ansd.sn\"+v)\n",
    "            except :\n",
    "                pass"
   ]
  },
  {
   "cell_type": "code",
   "execution_count": 281,
   "metadata": {},
   "outputs": [
    {
     "data": {
      "text/plain": [
       "{'Tableau des ressources et des emplois (TRE)': '/Indicateur/tableau-des-ressources-et-des-emplois-tre'}"
      ]
     },
     "execution_count": 281,
     "metadata": {},
     "output_type": "execute_result"
    }
   ],
   "source": [
    "data_ext[\"Economie\"][0][\"CROISSANCE_ÉCONOMIQUE\"][0]"
   ]
  },
  {
   "cell_type": "markdown",
   "metadata": {},
   "source": [
    "Dans chaque lien :\n",
    " - présentation de la publication : text\n",
    " - récupéré la date de la dernière publication : text\n",
    " - date de la prochaine parution : text si fourni sinon \"non\"\n",
    " - résumé : text\n",
    " - source : \"link\""
   ]
  },
  {
   "cell_type": "code",
   "execution_count": 282,
   "metadata": {},
   "outputs": [],
   "source": [
    "link_pub = \"https://www.ansd.sn/Indicateur/tableau-des-ressources-et-des-emplois-tre\""
   ]
  },
  {
   "cell_type": "code",
   "execution_count": 283,
   "metadata": {},
   "outputs": [
    {
     "name": "stderr",
     "output_type": "stream",
     "text": [
      "c:\\Users\\ANSD\\anaconda3\\lib\\site-packages\\urllib3\\connectionpool.py:1045: InsecureRequestWarning: Unverified HTTPS request is being made to host 'www.ansd.sn'. Adding certificate verification is strongly advised. See: https://urllib3.readthedocs.io/en/1.26.x/advanced-usage.html#ssl-warnings\n",
      "  warnings.warn(\n"
     ]
    },
    {
     "data": {
      "text/plain": [
       "[<div class=\"field__label\">Dernière publication</div>,\n",
       " <div class=\"field__label\">Prochaine parution</div>]"
      ]
     },
     "execution_count": 283,
     "metadata": {},
     "output_type": "execute_result"
    }
   ],
   "source": [
    "getLink2(link_pub, \"div\", \"field__label\" )"
   ]
  },
  {
   "cell_type": "code",
   "execution_count": null,
   "metadata": {},
   "outputs": [],
   "source": [
    "test1 = \"Août 2023\"\n",
    "test2 = \"13 nov 2023\"\n",
    "test3 = \"N°2021\""
   ]
  },
  {
   "cell_type": "code",
   "execution_count": 284,
   "metadata": {},
   "outputs": [],
   "source": [
    "def recup_pub(link):\n",
    "    output = getLink2(link, \"div\", \"_none block block-layout-builder block-field-blocknodepage-indicateurfield-der\" )\n",
    "    return output[0].findAll(\"div\", {\"class\" : \"field__item\"})[0].get_text()"
   ]
  },
  {
   "cell_type": "code",
   "execution_count": 285,
   "metadata": {},
   "outputs": [
    {
     "name": "stderr",
     "output_type": "stream",
     "text": [
      "c:\\Users\\ANSD\\anaconda3\\lib\\site-packages\\urllib3\\connectionpool.py:1045: InsecureRequestWarning: Unverified HTTPS request is being made to host 'www.ansd.sn'. Adding certificate verification is strongly advised. See: https://urllib3.readthedocs.io/en/1.26.x/advanced-usage.html#ssl-warnings\n",
      "  warnings.warn(\n"
     ]
    },
    {
     "data": {
      "text/plain": [
       "'N°2022'"
      ]
     },
     "execution_count": 285,
     "metadata": {},
     "output_type": "execute_result"
    }
   ],
   "source": [
    "recup_pub(link=link_pub)"
   ]
  },
  {
   "cell_type": "code",
   "execution_count": 286,
   "metadata": {},
   "outputs": [],
   "source": [
    "class_ = \"_none pres-pub block block-layout-builder block-field-blocknodepage-indicateurfield-presentation-de-la-publica\""
   ]
  },
  {
   "cell_type": "code",
   "execution_count": 287,
   "metadata": {},
   "outputs": [],
   "source": [
    "def recup_desc(link):\n",
    "    output = getLink2(link, \"div\", class_ )\n",
    "\n",
    "    try :\n",
    "        final = output[0].findAll(\"div\", {\"class\" : \"clearfix text-formatted field field--name-field-presentation-de-la-publica field--type-text-with-summary field--label-hidden field__item\"})[0].get_text()\n",
    "        return final\n",
    "    except:\n",
    "        return None"
   ]
  },
  {
   "cell_type": "code",
   "execution_count": 288,
   "metadata": {},
   "outputs": [
    {
     "name": "stderr",
     "output_type": "stream",
     "text": [
      "c:\\Users\\ANSD\\anaconda3\\lib\\site-packages\\urllib3\\connectionpool.py:1045: InsecureRequestWarning: Unverified HTTPS request is being made to host 'www.ansd.sn'. Adding certificate verification is strongly advised. See: https://urllib3.readthedocs.io/en/1.26.x/advanced-usage.html#ssl-warnings\n",
      "  warnings.warn(\n"
     ]
    },
    {
     "data": {
      "text/plain": [
       "'« Le tableau des ressources et des emplois (TRE) décrit le processus de création et d’utilisation des biens et services. Il s’agit d’une matrice par produit et par branche d’activité montrant comment la production intérieure et les importations de biens et services sont utilisées, d’une part, par les branches d’activités pour la consommation intermédiaire et, d’autre part, pour satisfaire le demande finale intérieure (consommation finale et investissement) et extérieure (exportations). Il permet, en particulier, d’identifier les interrelations qui s’opèrent tant à l’intérieur de la sphère de production qu’entre les sphères de production et de consommation. »\\n'"
      ]
     },
     "execution_count": 288,
     "metadata": {},
     "output_type": "execute_result"
    }
   ],
   "source": [
    "recup_desc(link_pub)"
   ]
  },
  {
   "cell_type": "code",
   "execution_count": 289,
   "metadata": {},
   "outputs": [],
   "source": [
    "text_class = \"content\""
   ]
  },
  {
   "cell_type": "code",
   "execution_count": 290,
   "metadata": {},
   "outputs": [],
   "source": [
    "class_text=\"clearfix text-formatted field field--name-field-derniereinformation field--type-text-with-summary field--label-hidden field__item\""
   ]
  },
  {
   "cell_type": "code",
   "execution_count": 291,
   "metadata": {},
   "outputs": [],
   "source": [
    "lin_pib = \"https://www.ansd.sn/Indicateur/produit-interieur-brut-trimestriel-base-2014\""
   ]
  },
  {
   "cell_type": "code",
   "execution_count": 292,
   "metadata": {},
   "outputs": [],
   "source": [
    "def recup_text(link):\n",
    "    output = getLink2(link, \"div\", class_text)\n",
    "    try :\n",
    "        final = [item.get_text() for  item in output[0].findAll(\"p\")]\n",
    "        return final\n",
    "    except : \n",
    "        return None"
   ]
  },
  {
   "cell_type": "code",
   "execution_count": 293,
   "metadata": {},
   "outputs": [
    {
     "name": "stderr",
     "output_type": "stream",
     "text": [
      "c:\\Users\\ANSD\\anaconda3\\lib\\site-packages\\urllib3\\connectionpool.py:1045: InsecureRequestWarning: Unverified HTTPS request is being made to host 'www.ansd.sn'. Adding certificate verification is strongly advised. See: https://urllib3.readthedocs.io/en/1.26.x/advanced-usage.html#ssl-warnings\n",
      "  warnings.warn(\n"
     ]
    }
   ],
   "source": [
    "res = recup_text(lin_pib)"
   ]
  },
  {
   "cell_type": "code",
   "execution_count": 294,
   "metadata": {},
   "outputs": [
    {
     "data": {
      "text/plain": [
       "['Au troisième trimestre de l’année 2023, le Produit Intérieur Brut (PIB) réel, corrigé des variations saisonnières (CVS), a augmenté de 0,7%, par rapport au trimestre précédent. Ce résultat est consécutif au relèvement des taxes nettes de subventions sur les produits (+4,7%) et de la valeur ajoutée du secteur tertiaire (+0,8%). A contrario, les secteurs secondaire et primaire ont fléchi, respectivement, de 0,6% et 0,2%.',\n",
       " 'S’agissant des composantes de la demande, en variation trimestrielle, la formation brute de capitale fixe (FBCF) s’est rehaussée de 12,6% sous l’impulsion de sa composante privée (+16,1%). La consommation finale s’est renforcée de 1,3% tandis que les exportations de biens et services ont décru de 6,3%.',\n",
       " 'Par rapport à la même période de l’année 2022, le PIB réel du troisième trimestre de 2023 s’est accru de 4,5%. Cette bonification s’explique principalement par la consolidation des activités des secteurs primaire (+6,3%), du tertiaire (4,7%) ainsi que du secondaire (+3,9%). Quant aux taxes nettes sur les produits, elles se sont relevées de 1,9% en volume.',\n",
       " 'Sous l’angle de la demande, le regain d’activité économique au troisième trimestre de 2023, par rapport au trimestre correspondant de l’année précédente, s’est traduit, en termes réels, par l’accroissement de la formation brute de capital fixe (+11,1%), de la consommation finale (+5,2%) tandis que les exportations de biens et services ont diminué de 11,6%.',\n",
       " 'Le Produit Intérieur Brut nominal est estimé à 4 188,8 milliards de FCFA au troisième trimestre de 2023.']"
      ]
     },
     "execution_count": 294,
     "metadata": {},
     "output_type": "execute_result"
    }
   ],
   "source": [
    "res"
   ]
  },
  {
   "cell_type": "code",
   "execution_count": 295,
   "metadata": {},
   "outputs": [],
   "source": [
    "new_indicateurs = {}"
   ]
  },
  {
   "cell_type": "code",
   "execution_count": 296,
   "metadata": {},
   "outputs": [
    {
     "name": "stdout",
     "output_type": "stream",
     "text": [
      "CROISSANCE_ÉCONOMIQUE\n",
      "CROISSANCE_ÉCONOMIQUE\n",
      "CROISSANCE_ÉCONOMIQUE\n",
      "CROISSANCE_ÉCONOMIQUE\n",
      "CROISSANCE_ÉCONOMIQUE\n",
      "CROISSANCE_ÉCONOMIQUE\n",
      "PRIX\n",
      "PRIX\n",
      "PRIX\n",
      "PRIX\n",
      "PRIX\n",
      "PRIX\n",
      "PRIX\n",
      "STATISTIQUES_D_ENTREPRISE\n",
      "STATISTIQUES_D_ENTREPRISE\n",
      "STATISTIQUES_D_ENTREPRISE\n",
      "STATISTIQUES_D_ENTREPRISE\n",
      "STATISTIQUES_D_ENTREPRISE\n",
      "STATISTIQUES_D_ENTREPRISE\n",
      "STATISTIQUES_D_ENTREPRISE\n",
      "STATISTIQUES_D_ENTREPRISE\n",
      "ECHANGES_EXTÉRIEURS\n",
      "ECHANGES_EXTÉRIEURS\n",
      "ECHANGES_EXTÉRIEURS\n",
      "ECHANGES_EXTÉRIEURS\n",
      "SYNTHÈSES_ÉCONOMIQUES\n",
      "SYNTHÈSES_ÉCONOMIQUES\n",
      "SYNTHÈSES_ÉCONOMIQUES\n",
      "POPULATION\n",
      "POPULATION\n",
      "POPULATION\n",
      "NATALITÉ\n",
      "NATALITÉ\n",
      "MORTALITÉ\n",
      "MORTALITÉ\n",
      "FÉCONDITÉ\n",
      "FÉCONDITÉ\n",
      "MIGRATION\n",
      "MIGRATION\n",
      "MIGRATION\n",
      "MIGRATION\n",
      "SANTÉ\n",
      "SANTÉ\n",
      "SANTÉ\n",
      "SANTÉ\n",
      "SANTÉ\n",
      "SANTÉ\n",
      "PAUVRETÉ_ET_CONDITIONS_DE_VIE\n",
      "PAUVRETÉ_ET_CONDITIONS_DE_VIE\n",
      "PAUVRETÉ_ET_CONDITIONS_DE_VIE\n",
      "PAUVRETÉ_ET_CONDITIONS_DE_VIE\n",
      "PAUVRETÉ_ET_CONDITIONS_DE_VIE\n",
      "JUSTICE\n",
      "HABITAT_ET_CADRE_DE_VIE\n",
      "HABITAT_ET_CADRE_DE_VIE\n",
      "EMPLOI_ET_TRAVAIL\n",
      "EMPLOI_ET_TRAVAIL\n",
      "EMPLOI_ET_TRAVAIL\n",
      "EMPLOI_ET_TRAVAIL\n",
      "EDUCATION\n",
      "EDUCATION\n",
      "GENRE_ET_ÉQUITÉ\n",
      "GENRE_ET_ÉQUITÉ\n",
      "AGRICULTURE\n",
      "AGRICULTURE\n",
      "AGRICULTURE\n",
      "BÂTIMENTS_ET_TRAVAUX_PUBLICS_\n",
      "BÂTIMENTS_ET_TRAVAUX_PUBLICS_\n",
      "BÂTIMENTS_ET_TRAVAUX_PUBLICS_\n",
      "BÂTIMENTS_ET_TRAVAUX_PUBLICS_\n",
      "ENVIRONNEMENT\n",
      "ENVIRONNEMENT\n",
      "INDUSTRIE\n",
      "INDUSTRIE\n",
      "INDUSTRIE\n",
      "INDUSTRIE\n",
      "INDUSTRIE\n",
      "MINES\n",
      "TIC\n",
      "TOURISME\n",
      "TRANSPORT\n"
     ]
    }
   ],
   "source": [
    "for (k,v) in data_ext.items():\n",
    "    for j in v :\n",
    "        for (x,y) in j.items() :\n",
    "            for t in y :\n",
    "                for i in t:\n",
    "                    print(x)\n",
    "                    "
   ]
  },
  {
   "cell_type": "code",
   "execution_count": 297,
   "metadata": {},
   "outputs": [
    {
     "name": "stdout",
     "output_type": "stream",
     "text": [
      "Tableau des ressources et des emplois (TRE)\n"
     ]
    },
    {
     "name": "stderr",
     "output_type": "stream",
     "text": [
      "c:\\Users\\ANSD\\anaconda3\\lib\\site-packages\\urllib3\\connectionpool.py:1045: InsecureRequestWarning: Unverified HTTPS request is being made to host 'www.ansd.sn'. Adding certificate verification is strongly advised. See: https://urllib3.readthedocs.io/en/1.26.x/advanced-usage.html#ssl-warnings\n",
      "  warnings.warn(\n",
      "c:\\Users\\ANSD\\anaconda3\\lib\\site-packages\\urllib3\\connectionpool.py:1045: InsecureRequestWarning: Unverified HTTPS request is being made to host 'www.ansd.sn'. Adding certificate verification is strongly advised. See: https://urllib3.readthedocs.io/en/1.26.x/advanced-usage.html#ssl-warnings\n",
      "  warnings.warn(\n",
      "c:\\Users\\ANSD\\anaconda3\\lib\\site-packages\\urllib3\\connectionpool.py:1045: InsecureRequestWarning: Unverified HTTPS request is being made to host 'www.ansd.sn'. Adding certificate verification is strongly advised. See: https://urllib3.readthedocs.io/en/1.26.x/advanced-usage.html#ssl-warnings\n",
      "  warnings.warn(\n"
     ]
    },
    {
     "name": "stdout",
     "output_type": "stream",
     "text": [
      "Matrice de comptabilité sociale (MCS)\n"
     ]
    },
    {
     "name": "stderr",
     "output_type": "stream",
     "text": [
      "c:\\Users\\ANSD\\anaconda3\\lib\\site-packages\\urllib3\\connectionpool.py:1045: InsecureRequestWarning: Unverified HTTPS request is being made to host 'www.ansd.sn'. Adding certificate verification is strongly advised. See: https://urllib3.readthedocs.io/en/1.26.x/advanced-usage.html#ssl-warnings\n",
      "  warnings.warn(\n",
      "c:\\Users\\ANSD\\anaconda3\\lib\\site-packages\\urllib3\\connectionpool.py:1045: InsecureRequestWarning: Unverified HTTPS request is being made to host 'www.ansd.sn'. Adding certificate verification is strongly advised. See: https://urllib3.readthedocs.io/en/1.26.x/advanced-usage.html#ssl-warnings\n",
      "  warnings.warn(\n",
      "c:\\Users\\ANSD\\anaconda3\\lib\\site-packages\\urllib3\\connectionpool.py:1045: InsecureRequestWarning: Unverified HTTPS request is being made to host 'www.ansd.sn'. Adding certificate verification is strongly advised. See: https://urllib3.readthedocs.io/en/1.26.x/advanced-usage.html#ssl-warnings\n",
      "  warnings.warn(\n"
     ]
    },
    {
     "name": "stdout",
     "output_type": "stream",
     "text": [
      "Autres rapports et tableaux statistiques sur les comptes nationaux\n"
     ]
    },
    {
     "name": "stderr",
     "output_type": "stream",
     "text": [
      "c:\\Users\\ANSD\\anaconda3\\lib\\site-packages\\urllib3\\connectionpool.py:1045: InsecureRequestWarning: Unverified HTTPS request is being made to host 'www.ansd.sn'. Adding certificate verification is strongly advised. See: https://urllib3.readthedocs.io/en/1.26.x/advanced-usage.html#ssl-warnings\n",
      "  warnings.warn(\n"
     ]
    },
    {
     "name": "stdout",
     "output_type": "stream",
     "text": [
      "Comptes des secteurs institutionnels et tableaux des comptes économiques intégrés \n"
     ]
    },
    {
     "name": "stderr",
     "output_type": "stream",
     "text": [
      "c:\\Users\\ANSD\\anaconda3\\lib\\site-packages\\urllib3\\connectionpool.py:1045: InsecureRequestWarning: Unverified HTTPS request is being made to host 'www.ansd.sn'. Adding certificate verification is strongly advised. See: https://urllib3.readthedocs.io/en/1.26.x/advanced-usage.html#ssl-warnings\n",
      "  warnings.warn(\n",
      "c:\\Users\\ANSD\\anaconda3\\lib\\site-packages\\urllib3\\connectionpool.py:1045: InsecureRequestWarning: Unverified HTTPS request is being made to host 'www.ansd.sn'. Adding certificate verification is strongly advised. See: https://urllib3.readthedocs.io/en/1.26.x/advanced-usage.html#ssl-warnings\n",
      "  warnings.warn(\n",
      "c:\\Users\\ANSD\\anaconda3\\lib\\site-packages\\urllib3\\connectionpool.py:1045: InsecureRequestWarning: Unverified HTTPS request is being made to host 'www.ansd.sn'. Adding certificate verification is strongly advised. See: https://urllib3.readthedocs.io/en/1.26.x/advanced-usage.html#ssl-warnings\n",
      "  warnings.warn(\n"
     ]
    },
    {
     "name": "stdout",
     "output_type": "stream",
     "text": [
      "Produit intérieur brut trimestriel (base 2014)\n"
     ]
    },
    {
     "name": "stderr",
     "output_type": "stream",
     "text": [
      "c:\\Users\\ANSD\\anaconda3\\lib\\site-packages\\urllib3\\connectionpool.py:1045: InsecureRequestWarning: Unverified HTTPS request is being made to host 'www.ansd.sn'. Adding certificate verification is strongly advised. See: https://urllib3.readthedocs.io/en/1.26.x/advanced-usage.html#ssl-warnings\n",
      "  warnings.warn(\n",
      "c:\\Users\\ANSD\\anaconda3\\lib\\site-packages\\urllib3\\connectionpool.py:1045: InsecureRequestWarning: Unverified HTTPS request is being made to host 'www.ansd.sn'. Adding certificate verification is strongly advised. See: https://urllib3.readthedocs.io/en/1.26.x/advanced-usage.html#ssl-warnings\n",
      "  warnings.warn(\n",
      "c:\\Users\\ANSD\\anaconda3\\lib\\site-packages\\urllib3\\connectionpool.py:1045: InsecureRequestWarning: Unverified HTTPS request is being made to host 'www.ansd.sn'. Adding certificate verification is strongly advised. See: https://urllib3.readthedocs.io/en/1.26.x/advanced-usage.html#ssl-warnings\n",
      "  warnings.warn(\n"
     ]
    },
    {
     "name": "stdout",
     "output_type": "stream",
     "text": [
      "Produit Intérieur Brut annuel (base 2014)\n"
     ]
    },
    {
     "name": "stderr",
     "output_type": "stream",
     "text": [
      "c:\\Users\\ANSD\\anaconda3\\lib\\site-packages\\urllib3\\connectionpool.py:1045: InsecureRequestWarning: Unverified HTTPS request is being made to host 'www.ansd.sn'. Adding certificate verification is strongly advised. See: https://urllib3.readthedocs.io/en/1.26.x/advanced-usage.html#ssl-warnings\n",
      "  warnings.warn(\n",
      "c:\\Users\\ANSD\\anaconda3\\lib\\site-packages\\urllib3\\connectionpool.py:1045: InsecureRequestWarning: Unverified HTTPS request is being made to host 'www.ansd.sn'. Adding certificate verification is strongly advised. See: https://urllib3.readthedocs.io/en/1.26.x/advanced-usage.html#ssl-warnings\n",
      "  warnings.warn(\n",
      "c:\\Users\\ANSD\\anaconda3\\lib\\site-packages\\urllib3\\connectionpool.py:1045: InsecureRequestWarning: Unverified HTTPS request is being made to host 'www.ansd.sn'. Adding certificate verification is strongly advised. See: https://urllib3.readthedocs.io/en/1.26.x/advanced-usage.html#ssl-warnings\n",
      "  warnings.warn(\n"
     ]
    },
    {
     "name": "stdout",
     "output_type": "stream",
     "text": [
      "Indice des Prix des Matériaux de Construction (IMC)\n"
     ]
    },
    {
     "name": "stderr",
     "output_type": "stream",
     "text": [
      "c:\\Users\\ANSD\\anaconda3\\lib\\site-packages\\urllib3\\connectionpool.py:1045: InsecureRequestWarning: Unverified HTTPS request is being made to host 'www.ansd.sn'. Adding certificate verification is strongly advised. See: https://urllib3.readthedocs.io/en/1.26.x/advanced-usage.html#ssl-warnings\n",
      "  warnings.warn(\n",
      "c:\\Users\\ANSD\\anaconda3\\lib\\site-packages\\urllib3\\connectionpool.py:1045: InsecureRequestWarning: Unverified HTTPS request is being made to host 'www.ansd.sn'. Adding certificate verification is strongly advised. See: https://urllib3.readthedocs.io/en/1.26.x/advanced-usage.html#ssl-warnings\n",
      "  warnings.warn(\n",
      "c:\\Users\\ANSD\\anaconda3\\lib\\site-packages\\urllib3\\connectionpool.py:1045: InsecureRequestWarning: Unverified HTTPS request is being made to host 'www.ansd.sn'. Adding certificate verification is strongly advised. See: https://urllib3.readthedocs.io/en/1.26.x/advanced-usage.html#ssl-warnings\n",
      "  warnings.warn(\n"
     ]
    },
    {
     "name": "stdout",
     "output_type": "stream",
     "text": [
      "Indice du Coût de la Construction-ICC (base 100 2018)\n"
     ]
    },
    {
     "name": "stderr",
     "output_type": "stream",
     "text": [
      "c:\\Users\\ANSD\\anaconda3\\lib\\site-packages\\urllib3\\connectionpool.py:1045: InsecureRequestWarning: Unverified HTTPS request is being made to host 'www.ansd.sn'. Adding certificate verification is strongly advised. See: https://urllib3.readthedocs.io/en/1.26.x/advanced-usage.html#ssl-warnings\n",
      "  warnings.warn(\n",
      "c:\\Users\\ANSD\\anaconda3\\lib\\site-packages\\urllib3\\connectionpool.py:1045: InsecureRequestWarning: Unverified HTTPS request is being made to host 'www.ansd.sn'. Adding certificate verification is strongly advised. See: https://urllib3.readthedocs.io/en/1.26.x/advanced-usage.html#ssl-warnings\n",
      "  warnings.warn(\n",
      "c:\\Users\\ANSD\\anaconda3\\lib\\site-packages\\urllib3\\connectionpool.py:1045: InsecureRequestWarning: Unverified HTTPS request is being made to host 'www.ansd.sn'. Adding certificate verification is strongly advised. See: https://urllib3.readthedocs.io/en/1.26.x/advanced-usage.html#ssl-warnings\n",
      "  warnings.warn(\n"
     ]
    },
    {
     "name": "stdout",
     "output_type": "stream",
     "text": [
      "Evolution annuelle de l'Indice Harmonisé des Prix à la Consommation\n"
     ]
    },
    {
     "name": "stderr",
     "output_type": "stream",
     "text": [
      "c:\\Users\\ANSD\\anaconda3\\lib\\site-packages\\urllib3\\connectionpool.py:1045: InsecureRequestWarning: Unverified HTTPS request is being made to host 'www.ansd.sn'. Adding certificate verification is strongly advised. See: https://urllib3.readthedocs.io/en/1.26.x/advanced-usage.html#ssl-warnings\n",
      "  warnings.warn(\n",
      "c:\\Users\\ANSD\\anaconda3\\lib\\site-packages\\urllib3\\connectionpool.py:1045: InsecureRequestWarning: Unverified HTTPS request is being made to host 'www.ansd.sn'. Adding certificate verification is strongly advised. See: https://urllib3.readthedocs.io/en/1.26.x/advanced-usage.html#ssl-warnings\n",
      "  warnings.warn(\n",
      "c:\\Users\\ANSD\\anaconda3\\lib\\site-packages\\urllib3\\connectionpool.py:1045: InsecureRequestWarning: Unverified HTTPS request is being made to host 'www.ansd.sn'. Adding certificate verification is strongly advised. See: https://urllib3.readthedocs.io/en/1.26.x/advanced-usage.html#ssl-warnings\n",
      "  warnings.warn(\n"
     ]
    },
    {
     "name": "stdout",
     "output_type": "stream",
     "text": [
      "Note d'Analyse trimestrielle de l'Indice des Prix à la Consommation\n"
     ]
    },
    {
     "name": "stderr",
     "output_type": "stream",
     "text": [
      "c:\\Users\\ANSD\\anaconda3\\lib\\site-packages\\urllib3\\connectionpool.py:1045: InsecureRequestWarning: Unverified HTTPS request is being made to host 'www.ansd.sn'. Adding certificate verification is strongly advised. See: https://urllib3.readthedocs.io/en/1.26.x/advanced-usage.html#ssl-warnings\n",
      "  warnings.warn(\n",
      "c:\\Users\\ANSD\\anaconda3\\lib\\site-packages\\urllib3\\connectionpool.py:1045: InsecureRequestWarning: Unverified HTTPS request is being made to host 'www.ansd.sn'. Adding certificate verification is strongly advised. See: https://urllib3.readthedocs.io/en/1.26.x/advanced-usage.html#ssl-warnings\n",
      "  warnings.warn(\n",
      "c:\\Users\\ANSD\\anaconda3\\lib\\site-packages\\urllib3\\connectionpool.py:1045: InsecureRequestWarning: Unverified HTTPS request is being made to host 'www.ansd.sn'. Adding certificate verification is strongly advised. See: https://urllib3.readthedocs.io/en/1.26.x/advanced-usage.html#ssl-warnings\n",
      "  warnings.warn(\n"
     ]
    },
    {
     "name": "stdout",
     "output_type": "stream",
     "text": [
      "Indice Harmonisé des Prix à la Consommation (IHPC, Base 100 en 2014)\n"
     ]
    },
    {
     "name": "stderr",
     "output_type": "stream",
     "text": [
      "c:\\Users\\ANSD\\anaconda3\\lib\\site-packages\\urllib3\\connectionpool.py:1045: InsecureRequestWarning: Unverified HTTPS request is being made to host 'www.ansd.sn'. Adding certificate verification is strongly advised. See: https://urllib3.readthedocs.io/en/1.26.x/advanced-usage.html#ssl-warnings\n",
      "  warnings.warn(\n",
      "c:\\Users\\ANSD\\anaconda3\\lib\\site-packages\\urllib3\\connectionpool.py:1045: InsecureRequestWarning: Unverified HTTPS request is being made to host 'www.ansd.sn'. Adding certificate verification is strongly advised. See: https://urllib3.readthedocs.io/en/1.26.x/advanced-usage.html#ssl-warnings\n",
      "  warnings.warn(\n",
      "c:\\Users\\ANSD\\anaconda3\\lib\\site-packages\\urllib3\\connectionpool.py:1045: InsecureRequestWarning: Unverified HTTPS request is being made to host 'www.ansd.sn'. Adding certificate verification is strongly advised. See: https://urllib3.readthedocs.io/en/1.26.x/advanced-usage.html#ssl-warnings\n",
      "  warnings.warn(\n"
     ]
    },
    {
     "name": "stdout",
     "output_type": "stream",
     "text": [
      "Indice des Prix à la Production Industrielle (IPPI)\n"
     ]
    },
    {
     "name": "stderr",
     "output_type": "stream",
     "text": [
      "c:\\Users\\ANSD\\anaconda3\\lib\\site-packages\\urllib3\\connectionpool.py:1045: InsecureRequestWarning: Unverified HTTPS request is being made to host 'www.ansd.sn'. Adding certificate verification is strongly advised. See: https://urllib3.readthedocs.io/en/1.26.x/advanced-usage.html#ssl-warnings\n",
      "  warnings.warn(\n",
      "c:\\Users\\ANSD\\anaconda3\\lib\\site-packages\\urllib3\\connectionpool.py:1045: InsecureRequestWarning: Unverified HTTPS request is being made to host 'www.ansd.sn'. Adding certificate verification is strongly advised. See: https://urllib3.readthedocs.io/en/1.26.x/advanced-usage.html#ssl-warnings\n",
      "  warnings.warn(\n",
      "c:\\Users\\ANSD\\anaconda3\\lib\\site-packages\\urllib3\\connectionpool.py:1045: InsecureRequestWarning: Unverified HTTPS request is being made to host 'www.ansd.sn'. Adding certificate verification is strongly advised. See: https://urllib3.readthedocs.io/en/1.26.x/advanced-usage.html#ssl-warnings\n",
      "  warnings.warn(\n"
     ]
    },
    {
     "name": "stdout",
     "output_type": "stream",
     "text": [
      "Indices des Prix de Production des Services (IPPS)\n"
     ]
    },
    {
     "name": "stderr",
     "output_type": "stream",
     "text": [
      "c:\\Users\\ANSD\\anaconda3\\lib\\site-packages\\urllib3\\connectionpool.py:1045: InsecureRequestWarning: Unverified HTTPS request is being made to host 'www.ansd.sn'. Adding certificate verification is strongly advised. See: https://urllib3.readthedocs.io/en/1.26.x/advanced-usage.html#ssl-warnings\n",
      "  warnings.warn(\n",
      "c:\\Users\\ANSD\\anaconda3\\lib\\site-packages\\urllib3\\connectionpool.py:1045: InsecureRequestWarning: Unverified HTTPS request is being made to host 'www.ansd.sn'. Adding certificate verification is strongly advised. See: https://urllib3.readthedocs.io/en/1.26.x/advanced-usage.html#ssl-warnings\n",
      "  warnings.warn(\n",
      "c:\\Users\\ANSD\\anaconda3\\lib\\site-packages\\urllib3\\connectionpool.py:1045: InsecureRequestWarning: Unverified HTTPS request is being made to host 'www.ansd.sn'. Adding certificate verification is strongly advised. See: https://urllib3.readthedocs.io/en/1.26.x/advanced-usage.html#ssl-warnings\n",
      "  warnings.warn(\n"
     ]
    },
    {
     "name": "stdout",
     "output_type": "stream",
     "text": [
      "Immatriculation au NINEA : chiffres clés, tendances et évolutions\n"
     ]
    },
    {
     "name": "stderr",
     "output_type": "stream",
     "text": [
      "c:\\Users\\ANSD\\anaconda3\\lib\\site-packages\\urllib3\\connectionpool.py:1045: InsecureRequestWarning: Unverified HTTPS request is being made to host 'www.ansd.sn'. Adding certificate verification is strongly advised. See: https://urllib3.readthedocs.io/en/1.26.x/advanced-usage.html#ssl-warnings\n",
      "  warnings.warn(\n",
      "c:\\Users\\ANSD\\anaconda3\\lib\\site-packages\\urllib3\\connectionpool.py:1045: InsecureRequestWarning: Unverified HTTPS request is being made to host 'www.ansd.sn'. Adding certificate verification is strongly advised. See: https://urllib3.readthedocs.io/en/1.26.x/advanced-usage.html#ssl-warnings\n",
      "  warnings.warn(\n",
      "c:\\Users\\ANSD\\anaconda3\\lib\\site-packages\\urllib3\\connectionpool.py:1045: InsecureRequestWarning: Unverified HTTPS request is being made to host 'www.ansd.sn'. Adding certificate verification is strongly advised. See: https://urllib3.readthedocs.io/en/1.26.x/advanced-usage.html#ssl-warnings\n",
      "  warnings.warn(\n"
     ]
    },
    {
     "name": "stdout",
     "output_type": "stream",
     "text": [
      "Indice du Chiffre d’Affaires dans la Construction (ICAC)\n"
     ]
    },
    {
     "name": "stderr",
     "output_type": "stream",
     "text": [
      "c:\\Users\\ANSD\\anaconda3\\lib\\site-packages\\urllib3\\connectionpool.py:1045: InsecureRequestWarning: Unverified HTTPS request is being made to host 'www.ansd.sn'. Adding certificate verification is strongly advised. See: https://urllib3.readthedocs.io/en/1.26.x/advanced-usage.html#ssl-warnings\n",
      "  warnings.warn(\n",
      "c:\\Users\\ANSD\\anaconda3\\lib\\site-packages\\urllib3\\connectionpool.py:1045: InsecureRequestWarning: Unverified HTTPS request is being made to host 'www.ansd.sn'. Adding certificate verification is strongly advised. See: https://urllib3.readthedocs.io/en/1.26.x/advanced-usage.html#ssl-warnings\n",
      "  warnings.warn(\n",
      "c:\\Users\\ANSD\\anaconda3\\lib\\site-packages\\urllib3\\connectionpool.py:1045: InsecureRequestWarning: Unverified HTTPS request is being made to host 'www.ansd.sn'. Adding certificate verification is strongly advised. See: https://urllib3.readthedocs.io/en/1.26.x/advanced-usage.html#ssl-warnings\n",
      "  warnings.warn(\n"
     ]
    },
    {
     "name": "stdout",
     "output_type": "stream",
     "text": [
      "Banque de Données Economiques et Financières (BDEF)\n"
     ]
    },
    {
     "name": "stderr",
     "output_type": "stream",
     "text": [
      "c:\\Users\\ANSD\\anaconda3\\lib\\site-packages\\urllib3\\connectionpool.py:1045: InsecureRequestWarning: Unverified HTTPS request is being made to host 'www.ansd.sn'. Adding certificate verification is strongly advised. See: https://urllib3.readthedocs.io/en/1.26.x/advanced-usage.html#ssl-warnings\n",
      "  warnings.warn(\n",
      "c:\\Users\\ANSD\\anaconda3\\lib\\site-packages\\urllib3\\connectionpool.py:1045: InsecureRequestWarning: Unverified HTTPS request is being made to host 'www.ansd.sn'. Adding certificate verification is strongly advised. See: https://urllib3.readthedocs.io/en/1.26.x/advanced-usage.html#ssl-warnings\n",
      "  warnings.warn(\n",
      "c:\\Users\\ANSD\\anaconda3\\lib\\site-packages\\urllib3\\connectionpool.py:1045: InsecureRequestWarning: Unverified HTTPS request is being made to host 'www.ansd.sn'. Adding certificate verification is strongly advised. See: https://urllib3.readthedocs.io/en/1.26.x/advanced-usage.html#ssl-warnings\n",
      "  warnings.warn(\n"
     ]
    },
    {
     "name": "stdout",
     "output_type": "stream",
     "text": [
      "Enquête sur l’Emploi, la Rémunération et les Heures de Travail (EERH)\n"
     ]
    },
    {
     "name": "stderr",
     "output_type": "stream",
     "text": [
      "c:\\Users\\ANSD\\anaconda3\\lib\\site-packages\\urllib3\\connectionpool.py:1045: InsecureRequestWarning: Unverified HTTPS request is being made to host 'www.ansd.sn'. Adding certificate verification is strongly advised. See: https://urllib3.readthedocs.io/en/1.26.x/advanced-usage.html#ssl-warnings\n",
      "  warnings.warn(\n",
      "c:\\Users\\ANSD\\anaconda3\\lib\\site-packages\\urllib3\\connectionpool.py:1045: InsecureRequestWarning: Unverified HTTPS request is being made to host 'www.ansd.sn'. Adding certificate verification is strongly advised. See: https://urllib3.readthedocs.io/en/1.26.x/advanced-usage.html#ssl-warnings\n",
      "  warnings.warn(\n",
      "c:\\Users\\ANSD\\anaconda3\\lib\\site-packages\\urllib3\\connectionpool.py:1045: InsecureRequestWarning: Unverified HTTPS request is being made to host 'www.ansd.sn'. Adding certificate verification is strongly advised. See: https://urllib3.readthedocs.io/en/1.26.x/advanced-usage.html#ssl-warnings\n",
      "  warnings.warn(\n"
     ]
    },
    {
     "name": "stdout",
     "output_type": "stream",
     "text": [
      "Indice Harmonisé de la Production Industrielle (IHPI)\n"
     ]
    },
    {
     "name": "stderr",
     "output_type": "stream",
     "text": [
      "c:\\Users\\ANSD\\anaconda3\\lib\\site-packages\\urllib3\\connectionpool.py:1045: InsecureRequestWarning: Unverified HTTPS request is being made to host 'www.ansd.sn'. Adding certificate verification is strongly advised. See: https://urllib3.readthedocs.io/en/1.26.x/advanced-usage.html#ssl-warnings\n",
      "  warnings.warn(\n",
      "c:\\Users\\ANSD\\anaconda3\\lib\\site-packages\\urllib3\\connectionpool.py:1045: InsecureRequestWarning: Unverified HTTPS request is being made to host 'www.ansd.sn'. Adding certificate verification is strongly advised. See: https://urllib3.readthedocs.io/en/1.26.x/advanced-usage.html#ssl-warnings\n",
      "  warnings.warn(\n",
      "c:\\Users\\ANSD\\anaconda3\\lib\\site-packages\\urllib3\\connectionpool.py:1045: InsecureRequestWarning: Unverified HTTPS request is being made to host 'www.ansd.sn'. Adding certificate verification is strongly advised. See: https://urllib3.readthedocs.io/en/1.26.x/advanced-usage.html#ssl-warnings\n",
      "  warnings.warn(\n"
     ]
    },
    {
     "name": "stdout",
     "output_type": "stream",
     "text": [
      "Résultats du Recensement Général des Entreprises (RGE) \n"
     ]
    },
    {
     "name": "stderr",
     "output_type": "stream",
     "text": [
      "c:\\Users\\ANSD\\anaconda3\\lib\\site-packages\\urllib3\\connectionpool.py:1045: InsecureRequestWarning: Unverified HTTPS request is being made to host 'www.ansd.sn'. Adding certificate verification is strongly advised. See: https://urllib3.readthedocs.io/en/1.26.x/advanced-usage.html#ssl-warnings\n",
      "  warnings.warn(\n",
      "c:\\Users\\ANSD\\anaconda3\\lib\\site-packages\\urllib3\\connectionpool.py:1045: InsecureRequestWarning: Unverified HTTPS request is being made to host 'www.ansd.sn'. Adding certificate verification is strongly advised. See: https://urllib3.readthedocs.io/en/1.26.x/advanced-usage.html#ssl-warnings\n",
      "  warnings.warn(\n",
      "c:\\Users\\ANSD\\anaconda3\\lib\\site-packages\\urllib3\\connectionpool.py:1045: InsecureRequestWarning: Unverified HTTPS request is being made to host 'www.ansd.sn'. Adding certificate verification is strongly advised. See: https://urllib3.readthedocs.io/en/1.26.x/advanced-usage.html#ssl-warnings\n",
      "  warnings.warn(\n"
     ]
    },
    {
     "name": "stdout",
     "output_type": "stream",
     "text": [
      "Indices du Chiffre d’Affaires dans l'Industrie (ICAI)\n"
     ]
    },
    {
     "name": "stderr",
     "output_type": "stream",
     "text": [
      "c:\\Users\\ANSD\\anaconda3\\lib\\site-packages\\urllib3\\connectionpool.py:1045: InsecureRequestWarning: Unverified HTTPS request is being made to host 'www.ansd.sn'. Adding certificate verification is strongly advised. See: https://urllib3.readthedocs.io/en/1.26.x/advanced-usage.html#ssl-warnings\n",
      "  warnings.warn(\n",
      "c:\\Users\\ANSD\\anaconda3\\lib\\site-packages\\urllib3\\connectionpool.py:1045: InsecureRequestWarning: Unverified HTTPS request is being made to host 'www.ansd.sn'. Adding certificate verification is strongly advised. See: https://urllib3.readthedocs.io/en/1.26.x/advanced-usage.html#ssl-warnings\n",
      "  warnings.warn(\n",
      "c:\\Users\\ANSD\\anaconda3\\lib\\site-packages\\urllib3\\connectionpool.py:1045: InsecureRequestWarning: Unverified HTTPS request is being made to host 'www.ansd.sn'. Adding certificate verification is strongly advised. See: https://urllib3.readthedocs.io/en/1.26.x/advanced-usage.html#ssl-warnings\n",
      "  warnings.warn(\n"
     ]
    },
    {
     "name": "stdout",
     "output_type": "stream",
     "text": [
      "Indices du Chiffre d’Affaires dans les Services (ICAS)\n"
     ]
    },
    {
     "name": "stderr",
     "output_type": "stream",
     "text": [
      "c:\\Users\\ANSD\\anaconda3\\lib\\site-packages\\urllib3\\connectionpool.py:1045: InsecureRequestWarning: Unverified HTTPS request is being made to host 'www.ansd.sn'. Adding certificate verification is strongly advised. See: https://urllib3.readthedocs.io/en/1.26.x/advanced-usage.html#ssl-warnings\n",
      "  warnings.warn(\n",
      "c:\\Users\\ANSD\\anaconda3\\lib\\site-packages\\urllib3\\connectionpool.py:1045: InsecureRequestWarning: Unverified HTTPS request is being made to host 'www.ansd.sn'. Adding certificate verification is strongly advised. See: https://urllib3.readthedocs.io/en/1.26.x/advanced-usage.html#ssl-warnings\n",
      "  warnings.warn(\n",
      "c:\\Users\\ANSD\\anaconda3\\lib\\site-packages\\urllib3\\connectionpool.py:1045: InsecureRequestWarning: Unverified HTTPS request is being made to host 'www.ansd.sn'. Adding certificate verification is strongly advised. See: https://urllib3.readthedocs.io/en/1.26.x/advanced-usage.html#ssl-warnings\n",
      "  warnings.warn(\n"
     ]
    },
    {
     "name": "stdout",
     "output_type": "stream",
     "text": [
      "Indice Mensuel des Prix du Commerce Extérieur - IPCE (Base 100 en 2014)\n"
     ]
    },
    {
     "name": "stderr",
     "output_type": "stream",
     "text": [
      "c:\\Users\\ANSD\\anaconda3\\lib\\site-packages\\urllib3\\connectionpool.py:1045: InsecureRequestWarning: Unverified HTTPS request is being made to host 'www.ansd.sn'. Adding certificate verification is strongly advised. See: https://urllib3.readthedocs.io/en/1.26.x/advanced-usage.html#ssl-warnings\n",
      "  warnings.warn(\n",
      "c:\\Users\\ANSD\\anaconda3\\lib\\site-packages\\urllib3\\connectionpool.py:1045: InsecureRequestWarning: Unverified HTTPS request is being made to host 'www.ansd.sn'. Adding certificate verification is strongly advised. See: https://urllib3.readthedocs.io/en/1.26.x/advanced-usage.html#ssl-warnings\n",
      "  warnings.warn(\n",
      "c:\\Users\\ANSD\\anaconda3\\lib\\site-packages\\urllib3\\connectionpool.py:1045: InsecureRequestWarning: Unverified HTTPS request is being made to host 'www.ansd.sn'. Adding certificate verification is strongly advised. See: https://urllib3.readthedocs.io/en/1.26.x/advanced-usage.html#ssl-warnings\n",
      "  warnings.warn(\n"
     ]
    },
    {
     "name": "stdout",
     "output_type": "stream",
     "text": [
      "Autres rapports sur le commerce extérieur\n"
     ]
    },
    {
     "name": "stderr",
     "output_type": "stream",
     "text": [
      "c:\\Users\\ANSD\\anaconda3\\lib\\site-packages\\urllib3\\connectionpool.py:1045: InsecureRequestWarning: Unverified HTTPS request is being made to host 'www.ansd.sn'. Adding certificate verification is strongly advised. See: https://urllib3.readthedocs.io/en/1.26.x/advanced-usage.html#ssl-warnings\n",
      "  warnings.warn(\n",
      "c:\\Users\\ANSD\\anaconda3\\lib\\site-packages\\urllib3\\connectionpool.py:1045: InsecureRequestWarning: Unverified HTTPS request is being made to host 'www.ansd.sn'. Adding certificate verification is strongly advised. See: https://urllib3.readthedocs.io/en/1.26.x/advanced-usage.html#ssl-warnings\n",
      "  warnings.warn(\n",
      "c:\\Users\\ANSD\\anaconda3\\lib\\site-packages\\urllib3\\connectionpool.py:1045: InsecureRequestWarning: Unverified HTTPS request is being made to host 'www.ansd.sn'. Adding certificate verification is strongly advised. See: https://urllib3.readthedocs.io/en/1.26.x/advanced-usage.html#ssl-warnings\n",
      "  warnings.warn(\n"
     ]
    },
    {
     "name": "stdout",
     "output_type": "stream",
     "text": [
      "Note d'Analyse du Commerce Extérieur (NACE)\n"
     ]
    },
    {
     "name": "stderr",
     "output_type": "stream",
     "text": [
      "c:\\Users\\ANSD\\anaconda3\\lib\\site-packages\\urllib3\\connectionpool.py:1045: InsecureRequestWarning: Unverified HTTPS request is being made to host 'www.ansd.sn'. Adding certificate verification is strongly advised. See: https://urllib3.readthedocs.io/en/1.26.x/advanced-usage.html#ssl-warnings\n",
      "  warnings.warn(\n",
      "c:\\Users\\ANSD\\anaconda3\\lib\\site-packages\\urllib3\\connectionpool.py:1045: InsecureRequestWarning: Unverified HTTPS request is being made to host 'www.ansd.sn'. Adding certificate verification is strongly advised. See: https://urllib3.readthedocs.io/en/1.26.x/advanced-usage.html#ssl-warnings\n",
      "  warnings.warn(\n",
      "c:\\Users\\ANSD\\anaconda3\\lib\\site-packages\\urllib3\\connectionpool.py:1045: InsecureRequestWarning: Unverified HTTPS request is being made to host 'www.ansd.sn'. Adding certificate verification is strongly advised. See: https://urllib3.readthedocs.io/en/1.26.x/advanced-usage.html#ssl-warnings\n",
      "  warnings.warn(\n"
     ]
    },
    {
     "name": "stdout",
     "output_type": "stream",
     "text": [
      "Bulletin Mensuel des Statistiques du Commerce Extérieur\n"
     ]
    },
    {
     "name": "stderr",
     "output_type": "stream",
     "text": [
      "c:\\Users\\ANSD\\anaconda3\\lib\\site-packages\\urllib3\\connectionpool.py:1045: InsecureRequestWarning: Unverified HTTPS request is being made to host 'www.ansd.sn'. Adding certificate verification is strongly advised. See: https://urllib3.readthedocs.io/en/1.26.x/advanced-usage.html#ssl-warnings\n",
      "  warnings.warn(\n",
      "c:\\Users\\ANSD\\anaconda3\\lib\\site-packages\\urllib3\\connectionpool.py:1045: InsecureRequestWarning: Unverified HTTPS request is being made to host 'www.ansd.sn'. Adding certificate verification is strongly advised. See: https://urllib3.readthedocs.io/en/1.26.x/advanced-usage.html#ssl-warnings\n",
      "  warnings.warn(\n",
      "c:\\Users\\ANSD\\anaconda3\\lib\\site-packages\\urllib3\\connectionpool.py:1045: InsecureRequestWarning: Unverified HTTPS request is being made to host 'www.ansd.sn'. Adding certificate verification is strongly advised. See: https://urllib3.readthedocs.io/en/1.26.x/advanced-usage.html#ssl-warnings\n",
      "  warnings.warn(\n"
     ]
    },
    {
     "name": "stdout",
     "output_type": "stream",
     "text": [
      "Repères statistiques\n"
     ]
    },
    {
     "name": "stderr",
     "output_type": "stream",
     "text": [
      "c:\\Users\\ANSD\\anaconda3\\lib\\site-packages\\urllib3\\connectionpool.py:1045: InsecureRequestWarning: Unverified HTTPS request is being made to host 'www.ansd.sn'. Adding certificate verification is strongly advised. See: https://urllib3.readthedocs.io/en/1.26.x/advanced-usage.html#ssl-warnings\n",
      "  warnings.warn(\n",
      "c:\\Users\\ANSD\\anaconda3\\lib\\site-packages\\urllib3\\connectionpool.py:1045: InsecureRequestWarning: Unverified HTTPS request is being made to host 'www.ansd.sn'. Adding certificate verification is strongly advised. See: https://urllib3.readthedocs.io/en/1.26.x/advanced-usage.html#ssl-warnings\n",
      "  warnings.warn(\n",
      "c:\\Users\\ANSD\\anaconda3\\lib\\site-packages\\urllib3\\connectionpool.py:1045: InsecureRequestWarning: Unverified HTTPS request is being made to host 'www.ansd.sn'. Adding certificate verification is strongly advised. See: https://urllib3.readthedocs.io/en/1.26.x/advanced-usage.html#ssl-warnings\n",
      "  warnings.warn(\n"
     ]
    },
    {
     "name": "stdout",
     "output_type": "stream",
     "text": [
      "Bulletin Mensuel des Statistiques Economiques et Financières\n"
     ]
    },
    {
     "name": "stderr",
     "output_type": "stream",
     "text": [
      "c:\\Users\\ANSD\\anaconda3\\lib\\site-packages\\urllib3\\connectionpool.py:1045: InsecureRequestWarning: Unverified HTTPS request is being made to host 'www.ansd.sn'. Adding certificate verification is strongly advised. See: https://urllib3.readthedocs.io/en/1.26.x/advanced-usage.html#ssl-warnings\n",
      "  warnings.warn(\n",
      "c:\\Users\\ANSD\\anaconda3\\lib\\site-packages\\urllib3\\connectionpool.py:1045: InsecureRequestWarning: Unverified HTTPS request is being made to host 'www.ansd.sn'. Adding certificate verification is strongly advised. See: https://urllib3.readthedocs.io/en/1.26.x/advanced-usage.html#ssl-warnings\n",
      "  warnings.warn(\n",
      "c:\\Users\\ANSD\\anaconda3\\lib\\site-packages\\urllib3\\connectionpool.py:1045: InsecureRequestWarning: Unverified HTTPS request is being made to host 'www.ansd.sn'. Adding certificate verification is strongly advised. See: https://urllib3.readthedocs.io/en/1.26.x/advanced-usage.html#ssl-warnings\n",
      "  warnings.warn(\n"
     ]
    },
    {
     "name": "stdout",
     "output_type": "stream",
     "text": [
      "Note sur les Evolutions Economiques Récentes (NEER)\n"
     ]
    },
    {
     "name": "stderr",
     "output_type": "stream",
     "text": [
      "c:\\Users\\ANSD\\anaconda3\\lib\\site-packages\\urllib3\\connectionpool.py:1045: InsecureRequestWarning: Unverified HTTPS request is being made to host 'www.ansd.sn'. Adding certificate verification is strongly advised. See: https://urllib3.readthedocs.io/en/1.26.x/advanced-usage.html#ssl-warnings\n",
      "  warnings.warn(\n",
      "c:\\Users\\ANSD\\anaconda3\\lib\\site-packages\\urllib3\\connectionpool.py:1045: InsecureRequestWarning: Unverified HTTPS request is being made to host 'www.ansd.sn'. Adding certificate verification is strongly advised. See: https://urllib3.readthedocs.io/en/1.26.x/advanced-usage.html#ssl-warnings\n",
      "  warnings.warn(\n",
      "c:\\Users\\ANSD\\anaconda3\\lib\\site-packages\\urllib3\\connectionpool.py:1045: InsecureRequestWarning: Unverified HTTPS request is being made to host 'www.ansd.sn'. Adding certificate verification is strongly advised. See: https://urllib3.readthedocs.io/en/1.26.x/advanced-usage.html#ssl-warnings\n",
      "  warnings.warn(\n"
     ]
    },
    {
     "name": "stdout",
     "output_type": "stream",
     "text": [
      "SESN/Chapitre : Démographie\n"
     ]
    },
    {
     "name": "stderr",
     "output_type": "stream",
     "text": [
      "c:\\Users\\ANSD\\anaconda3\\lib\\site-packages\\urllib3\\connectionpool.py:1045: InsecureRequestWarning: Unverified HTTPS request is being made to host 'www.ansd.sn'. Adding certificate verification is strongly advised. See: https://urllib3.readthedocs.io/en/1.26.x/advanced-usage.html#ssl-warnings\n",
      "  warnings.warn(\n",
      "c:\\Users\\ANSD\\anaconda3\\lib\\site-packages\\urllib3\\connectionpool.py:1045: InsecureRequestWarning: Unverified HTTPS request is being made to host 'www.ansd.sn'. Adding certificate verification is strongly advised. See: https://urllib3.readthedocs.io/en/1.26.x/advanced-usage.html#ssl-warnings\n",
      "  warnings.warn(\n",
      "c:\\Users\\ANSD\\anaconda3\\lib\\site-packages\\urllib3\\connectionpool.py:1045: InsecureRequestWarning: Unverified HTTPS request is being made to host 'www.ansd.sn'. Adding certificate verification is strongly advised. See: https://urllib3.readthedocs.io/en/1.26.x/advanced-usage.html#ssl-warnings\n",
      "  warnings.warn(\n"
     ]
    },
    {
     "name": "stdout",
     "output_type": "stream",
     "text": [
      "Données de population\n"
     ]
    },
    {
     "name": "stderr",
     "output_type": "stream",
     "text": [
      "c:\\Users\\ANSD\\anaconda3\\lib\\site-packages\\urllib3\\connectionpool.py:1045: InsecureRequestWarning: Unverified HTTPS request is being made to host 'www.ansd.sn'. Adding certificate verification is strongly advised. See: https://urllib3.readthedocs.io/en/1.26.x/advanced-usage.html#ssl-warnings\n",
      "  warnings.warn(\n",
      "c:\\Users\\ANSD\\anaconda3\\lib\\site-packages\\urllib3\\connectionpool.py:1045: InsecureRequestWarning: Unverified HTTPS request is being made to host 'www.ansd.sn'. Adding certificate verification is strongly advised. See: https://urllib3.readthedocs.io/en/1.26.x/advanced-usage.html#ssl-warnings\n",
      "  warnings.warn(\n",
      "c:\\Users\\ANSD\\anaconda3\\lib\\site-packages\\urllib3\\connectionpool.py:1045: InsecureRequestWarning: Unverified HTTPS request is being made to host 'www.ansd.sn'. Adding certificate verification is strongly advised. See: https://urllib3.readthedocs.io/en/1.26.x/advanced-usage.html#ssl-warnings\n",
      "  warnings.warn(\n"
     ]
    },
    {
     "name": "stdout",
     "output_type": "stream",
     "text": [
      "Autres documents sur la Population\n"
     ]
    },
    {
     "name": "stderr",
     "output_type": "stream",
     "text": [
      "c:\\Users\\ANSD\\anaconda3\\lib\\site-packages\\urllib3\\connectionpool.py:1045: InsecureRequestWarning: Unverified HTTPS request is being made to host 'www.ansd.sn'. Adding certificate verification is strongly advised. See: https://urllib3.readthedocs.io/en/1.26.x/advanced-usage.html#ssl-warnings\n",
      "  warnings.warn(\n",
      "c:\\Users\\ANSD\\anaconda3\\lib\\site-packages\\urllib3\\connectionpool.py:1045: InsecureRequestWarning: Unverified HTTPS request is being made to host 'www.ansd.sn'. Adding certificate verification is strongly advised. See: https://urllib3.readthedocs.io/en/1.26.x/advanced-usage.html#ssl-warnings\n",
      "  warnings.warn(\n",
      "c:\\Users\\ANSD\\anaconda3\\lib\\site-packages\\urllib3\\connectionpool.py:1045: InsecureRequestWarning: Unverified HTTPS request is being made to host 'www.ansd.sn'. Adding certificate verification is strongly advised. See: https://urllib3.readthedocs.io/en/1.26.x/advanced-usage.html#ssl-warnings\n",
      "  warnings.warn(\n"
     ]
    },
    {
     "name": "stdout",
     "output_type": "stream",
     "text": [
      "Rapport des Enquêtes Démographiques et de Santé (EDS)\n"
     ]
    },
    {
     "name": "stderr",
     "output_type": "stream",
     "text": [
      "c:\\Users\\ANSD\\anaconda3\\lib\\site-packages\\urllib3\\connectionpool.py:1045: InsecureRequestWarning: Unverified HTTPS request is being made to host 'www.ansd.sn'. Adding certificate verification is strongly advised. See: https://urllib3.readthedocs.io/en/1.26.x/advanced-usage.html#ssl-warnings\n",
      "  warnings.warn(\n",
      "c:\\Users\\ANSD\\anaconda3\\lib\\site-packages\\urllib3\\connectionpool.py:1045: InsecureRequestWarning: Unverified HTTPS request is being made to host 'www.ansd.sn'. Adding certificate verification is strongly advised. See: https://urllib3.readthedocs.io/en/1.26.x/advanced-usage.html#ssl-warnings\n",
      "  warnings.warn(\n",
      "c:\\Users\\ANSD\\anaconda3\\lib\\site-packages\\urllib3\\connectionpool.py:1045: InsecureRequestWarning: Unverified HTTPS request is being made to host 'www.ansd.sn'. Adding certificate verification is strongly advised. See: https://urllib3.readthedocs.io/en/1.26.x/advanced-usage.html#ssl-warnings\n",
      "  warnings.warn(\n"
     ]
    },
    {
     "name": "stdout",
     "output_type": "stream",
     "text": [
      "Rapports du RGPHAE 2013 : Natalité\n"
     ]
    },
    {
     "name": "stderr",
     "output_type": "stream",
     "text": [
      "c:\\Users\\ANSD\\anaconda3\\lib\\site-packages\\urllib3\\connectionpool.py:1045: InsecureRequestWarning: Unverified HTTPS request is being made to host 'www.ansd.sn'. Adding certificate verification is strongly advised. See: https://urllib3.readthedocs.io/en/1.26.x/advanced-usage.html#ssl-warnings\n",
      "  warnings.warn(\n",
      "c:\\Users\\ANSD\\anaconda3\\lib\\site-packages\\urllib3\\connectionpool.py:1045: InsecureRequestWarning: Unverified HTTPS request is being made to host 'www.ansd.sn'. Adding certificate verification is strongly advised. See: https://urllib3.readthedocs.io/en/1.26.x/advanced-usage.html#ssl-warnings\n",
      "  warnings.warn(\n",
      "c:\\Users\\ANSD\\anaconda3\\lib\\site-packages\\urllib3\\connectionpool.py:1045: InsecureRequestWarning: Unverified HTTPS request is being made to host 'www.ansd.sn'. Adding certificate verification is strongly advised. See: https://urllib3.readthedocs.io/en/1.26.x/advanced-usage.html#ssl-warnings\n",
      "  warnings.warn(\n"
     ]
    },
    {
     "name": "stdout",
     "output_type": "stream",
     "text": [
      "Rapport des Enquêtes Démographiques et de Santé (EDS)\n"
     ]
    },
    {
     "name": "stderr",
     "output_type": "stream",
     "text": [
      "c:\\Users\\ANSD\\anaconda3\\lib\\site-packages\\urllib3\\connectionpool.py:1045: InsecureRequestWarning: Unverified HTTPS request is being made to host 'www.ansd.sn'. Adding certificate verification is strongly advised. See: https://urllib3.readthedocs.io/en/1.26.x/advanced-usage.html#ssl-warnings\n",
      "  warnings.warn(\n",
      "c:\\Users\\ANSD\\anaconda3\\lib\\site-packages\\urllib3\\connectionpool.py:1045: InsecureRequestWarning: Unverified HTTPS request is being made to host 'www.ansd.sn'. Adding certificate verification is strongly advised. See: https://urllib3.readthedocs.io/en/1.26.x/advanced-usage.html#ssl-warnings\n",
      "  warnings.warn(\n",
      "c:\\Users\\ANSD\\anaconda3\\lib\\site-packages\\urllib3\\connectionpool.py:1045: InsecureRequestWarning: Unverified HTTPS request is being made to host 'www.ansd.sn'. Adding certificate verification is strongly advised. See: https://urllib3.readthedocs.io/en/1.26.x/advanced-usage.html#ssl-warnings\n",
      "  warnings.warn(\n"
     ]
    },
    {
     "name": "stdout",
     "output_type": "stream",
     "text": [
      "Rapports du RGPHAE 2013 : Mortalité\n"
     ]
    },
    {
     "name": "stderr",
     "output_type": "stream",
     "text": [
      "c:\\Users\\ANSD\\anaconda3\\lib\\site-packages\\urllib3\\connectionpool.py:1045: InsecureRequestWarning: Unverified HTTPS request is being made to host 'www.ansd.sn'. Adding certificate verification is strongly advised. See: https://urllib3.readthedocs.io/en/1.26.x/advanced-usage.html#ssl-warnings\n",
      "  warnings.warn(\n",
      "c:\\Users\\ANSD\\anaconda3\\lib\\site-packages\\urllib3\\connectionpool.py:1045: InsecureRequestWarning: Unverified HTTPS request is being made to host 'www.ansd.sn'. Adding certificate verification is strongly advised. See: https://urllib3.readthedocs.io/en/1.26.x/advanced-usage.html#ssl-warnings\n",
      "  warnings.warn(\n",
      "c:\\Users\\ANSD\\anaconda3\\lib\\site-packages\\urllib3\\connectionpool.py:1045: InsecureRequestWarning: Unverified HTTPS request is being made to host 'www.ansd.sn'. Adding certificate verification is strongly advised. See: https://urllib3.readthedocs.io/en/1.26.x/advanced-usage.html#ssl-warnings\n",
      "  warnings.warn(\n"
     ]
    },
    {
     "name": "stdout",
     "output_type": "stream",
     "text": [
      "Rapport des Enquêtes Démographiques et de Santé (EDS)\n"
     ]
    },
    {
     "name": "stderr",
     "output_type": "stream",
     "text": [
      "c:\\Users\\ANSD\\anaconda3\\lib\\site-packages\\urllib3\\connectionpool.py:1045: InsecureRequestWarning: Unverified HTTPS request is being made to host 'www.ansd.sn'. Adding certificate verification is strongly advised. See: https://urllib3.readthedocs.io/en/1.26.x/advanced-usage.html#ssl-warnings\n",
      "  warnings.warn(\n",
      "c:\\Users\\ANSD\\anaconda3\\lib\\site-packages\\urllib3\\connectionpool.py:1045: InsecureRequestWarning: Unverified HTTPS request is being made to host 'www.ansd.sn'. Adding certificate verification is strongly advised. See: https://urllib3.readthedocs.io/en/1.26.x/advanced-usage.html#ssl-warnings\n",
      "  warnings.warn(\n",
      "c:\\Users\\ANSD\\anaconda3\\lib\\site-packages\\urllib3\\connectionpool.py:1045: InsecureRequestWarning: Unverified HTTPS request is being made to host 'www.ansd.sn'. Adding certificate verification is strongly advised. See: https://urllib3.readthedocs.io/en/1.26.x/advanced-usage.html#ssl-warnings\n",
      "  warnings.warn(\n"
     ]
    },
    {
     "name": "stdout",
     "output_type": "stream",
     "text": [
      "Rapports du RGPHAE 2013 : Fécondité\n"
     ]
    },
    {
     "name": "stderr",
     "output_type": "stream",
     "text": [
      "c:\\Users\\ANSD\\anaconda3\\lib\\site-packages\\urllib3\\connectionpool.py:1045: InsecureRequestWarning: Unverified HTTPS request is being made to host 'www.ansd.sn'. Adding certificate verification is strongly advised. See: https://urllib3.readthedocs.io/en/1.26.x/advanced-usage.html#ssl-warnings\n",
      "  warnings.warn(\n",
      "c:\\Users\\ANSD\\anaconda3\\lib\\site-packages\\urllib3\\connectionpool.py:1045: InsecureRequestWarning: Unverified HTTPS request is being made to host 'www.ansd.sn'. Adding certificate verification is strongly advised. See: https://urllib3.readthedocs.io/en/1.26.x/advanced-usage.html#ssl-warnings\n",
      "  warnings.warn(\n",
      "c:\\Users\\ANSD\\anaconda3\\lib\\site-packages\\urllib3\\connectionpool.py:1045: InsecureRequestWarning: Unverified HTTPS request is being made to host 'www.ansd.sn'. Adding certificate verification is strongly advised. See: https://urllib3.readthedocs.io/en/1.26.x/advanced-usage.html#ssl-warnings\n",
      "  warnings.warn(\n"
     ]
    },
    {
     "name": "stdout",
     "output_type": "stream",
     "text": [
      "Rapports d'enquêtes et d'études sur la migration\n"
     ]
    },
    {
     "name": "stderr",
     "output_type": "stream",
     "text": [
      "c:\\Users\\ANSD\\anaconda3\\lib\\site-packages\\urllib3\\connectionpool.py:1045: InsecureRequestWarning: Unverified HTTPS request is being made to host 'www.ansd.sn'. Adding certificate verification is strongly advised. See: https://urllib3.readthedocs.io/en/1.26.x/advanced-usage.html#ssl-warnings\n",
      "  warnings.warn(\n",
      "c:\\Users\\ANSD\\anaconda3\\lib\\site-packages\\urllib3\\connectionpool.py:1045: InsecureRequestWarning: Unverified HTTPS request is being made to host 'www.ansd.sn'. Adding certificate verification is strongly advised. See: https://urllib3.readthedocs.io/en/1.26.x/advanced-usage.html#ssl-warnings\n",
      "  warnings.warn(\n",
      "c:\\Users\\ANSD\\anaconda3\\lib\\site-packages\\urllib3\\connectionpool.py:1045: InsecureRequestWarning: Unverified HTTPS request is being made to host 'www.ansd.sn'. Adding certificate verification is strongly advised. See: https://urllib3.readthedocs.io/en/1.26.x/advanced-usage.html#ssl-warnings\n",
      "  warnings.warn(\n"
     ]
    },
    {
     "name": "stdout",
     "output_type": "stream",
     "text": [
      "SESN/Chapitre : Migration\n"
     ]
    },
    {
     "name": "stderr",
     "output_type": "stream",
     "text": [
      "c:\\Users\\ANSD\\anaconda3\\lib\\site-packages\\urllib3\\connectionpool.py:1045: InsecureRequestWarning: Unverified HTTPS request is being made to host 'www.ansd.sn'. Adding certificate verification is strongly advised. See: https://urllib3.readthedocs.io/en/1.26.x/advanced-usage.html#ssl-warnings\n",
      "  warnings.warn(\n",
      "c:\\Users\\ANSD\\anaconda3\\lib\\site-packages\\urllib3\\connectionpool.py:1045: InsecureRequestWarning: Unverified HTTPS request is being made to host 'www.ansd.sn'. Adding certificate verification is strongly advised. See: https://urllib3.readthedocs.io/en/1.26.x/advanced-usage.html#ssl-warnings\n",
      "  warnings.warn(\n",
      "c:\\Users\\ANSD\\anaconda3\\lib\\site-packages\\urllib3\\connectionpool.py:1045: InsecureRequestWarning: Unverified HTTPS request is being made to host 'www.ansd.sn'. Adding certificate verification is strongly advised. See: https://urllib3.readthedocs.io/en/1.26.x/advanced-usage.html#ssl-warnings\n",
      "  warnings.warn(\n"
     ]
    },
    {
     "name": "stdout",
     "output_type": "stream",
     "text": [
      "Rapports du RGPHAE 2013 : Migration\n"
     ]
    },
    {
     "name": "stderr",
     "output_type": "stream",
     "text": [
      "c:\\Users\\ANSD\\anaconda3\\lib\\site-packages\\urllib3\\connectionpool.py:1045: InsecureRequestWarning: Unverified HTTPS request is being made to host 'www.ansd.sn'. Adding certificate verification is strongly advised. See: https://urllib3.readthedocs.io/en/1.26.x/advanced-usage.html#ssl-warnings\n",
      "  warnings.warn(\n",
      "c:\\Users\\ANSD\\anaconda3\\lib\\site-packages\\urllib3\\connectionpool.py:1045: InsecureRequestWarning: Unverified HTTPS request is being made to host 'www.ansd.sn'. Adding certificate verification is strongly advised. See: https://urllib3.readthedocs.io/en/1.26.x/advanced-usage.html#ssl-warnings\n",
      "  warnings.warn(\n",
      "c:\\Users\\ANSD\\anaconda3\\lib\\site-packages\\urllib3\\connectionpool.py:1045: InsecureRequestWarning: Unverified HTTPS request is being made to host 'www.ansd.sn'. Adding certificate verification is strongly advised. See: https://urllib3.readthedocs.io/en/1.26.x/advanced-usage.html#ssl-warnings\n",
      "  warnings.warn(\n",
      "c:\\Users\\ANSD\\anaconda3\\lib\\site-packages\\urllib3\\connectionpool.py:1045: InsecureRequestWarning: Unverified HTTPS request is being made to host 'www.ansd.sn'. Adding certificate verification is strongly advised. See: https://urllib3.readthedocs.io/en/1.26.x/advanced-usage.html#ssl-warnings\n",
      "  warnings.warn(\n"
     ]
    },
    {
     "name": "stdout",
     "output_type": "stream",
     "text": [
      "Bulletin semestriel sur les statistiques de la migration et de la mobilité internationale au Sénégal\n"
     ]
    },
    {
     "name": "stderr",
     "output_type": "stream",
     "text": [
      "c:\\Users\\ANSD\\anaconda3\\lib\\site-packages\\urllib3\\connectionpool.py:1045: InsecureRequestWarning: Unverified HTTPS request is being made to host 'www.ansd.sn'. Adding certificate verification is strongly advised. See: https://urllib3.readthedocs.io/en/1.26.x/advanced-usage.html#ssl-warnings\n",
      "  warnings.warn(\n",
      "c:\\Users\\ANSD\\anaconda3\\lib\\site-packages\\urllib3\\connectionpool.py:1045: InsecureRequestWarning: Unverified HTTPS request is being made to host 'www.ansd.sn'. Adding certificate verification is strongly advised. See: https://urllib3.readthedocs.io/en/1.26.x/advanced-usage.html#ssl-warnings\n",
      "  warnings.warn(\n"
     ]
    },
    {
     "name": "stdout",
     "output_type": "stream",
     "text": [
      "Enquête nationale sur les maladies non transmissibles STEPS\n",
      "Rapports des Enquêtes par Grappes à Indicateurs Multiples (MICS)\n"
     ]
    },
    {
     "name": "stderr",
     "output_type": "stream",
     "text": [
      "c:\\Users\\ANSD\\anaconda3\\lib\\site-packages\\urllib3\\connectionpool.py:1045: InsecureRequestWarning: Unverified HTTPS request is being made to host 'www.ansd.sn'. Adding certificate verification is strongly advised. See: https://urllib3.readthedocs.io/en/1.26.x/advanced-usage.html#ssl-warnings\n",
      "  warnings.warn(\n",
      "c:\\Users\\ANSD\\anaconda3\\lib\\site-packages\\urllib3\\connectionpool.py:1045: InsecureRequestWarning: Unverified HTTPS request is being made to host 'www.ansd.sn'. Adding certificate verification is strongly advised. See: https://urllib3.readthedocs.io/en/1.26.x/advanced-usage.html#ssl-warnings\n",
      "  warnings.warn(\n"
     ]
    },
    {
     "name": "stdout",
     "output_type": "stream",
     "text": [
      "Rapport des Enquêtes Continue sur la Prestation des Services de Soins de Santé - ECPSS\n"
     ]
    },
    {
     "name": "stderr",
     "output_type": "stream",
     "text": [
      "c:\\Users\\ANSD\\anaconda3\\lib\\site-packages\\urllib3\\connectionpool.py:1045: InsecureRequestWarning: Unverified HTTPS request is being made to host 'www.ansd.sn'. Adding certificate verification is strongly advised. See: https://urllib3.readthedocs.io/en/1.26.x/advanced-usage.html#ssl-warnings\n",
      "  warnings.warn(\n"
     ]
    },
    {
     "name": "stdout",
     "output_type": "stream",
     "text": [
      "Rapport des Enquêtes Démographiques et de Santé (EDS)\n"
     ]
    },
    {
     "name": "stderr",
     "output_type": "stream",
     "text": [
      "c:\\Users\\ANSD\\anaconda3\\lib\\site-packages\\urllib3\\connectionpool.py:1045: InsecureRequestWarning: Unverified HTTPS request is being made to host 'www.ansd.sn'. Adding certificate verification is strongly advised. See: https://urllib3.readthedocs.io/en/1.26.x/advanced-usage.html#ssl-warnings\n",
      "  warnings.warn(\n",
      "c:\\Users\\ANSD\\anaconda3\\lib\\site-packages\\urllib3\\connectionpool.py:1045: InsecureRequestWarning: Unverified HTTPS request is being made to host 'www.ansd.sn'. Adding certificate verification is strongly advised. See: https://urllib3.readthedocs.io/en/1.26.x/advanced-usage.html#ssl-warnings\n",
      "  warnings.warn(\n",
      "c:\\Users\\ANSD\\anaconda3\\lib\\site-packages\\urllib3\\connectionpool.py:1045: InsecureRequestWarning: Unverified HTTPS request is being made to host 'www.ansd.sn'. Adding certificate verification is strongly advised. See: https://urllib3.readthedocs.io/en/1.26.x/advanced-usage.html#ssl-warnings\n",
      "  warnings.warn(\n"
     ]
    },
    {
     "name": "stdout",
     "output_type": "stream",
     "text": [
      "Rapports des Enquêtes sur le tabagisme (GATS)\n"
     ]
    },
    {
     "name": "stderr",
     "output_type": "stream",
     "text": [
      "c:\\Users\\ANSD\\anaconda3\\lib\\site-packages\\urllib3\\connectionpool.py:1045: InsecureRequestWarning: Unverified HTTPS request is being made to host 'www.ansd.sn'. Adding certificate verification is strongly advised. See: https://urllib3.readthedocs.io/en/1.26.x/advanced-usage.html#ssl-warnings\n",
      "  warnings.warn(\n"
     ]
    },
    {
     "name": "stdout",
     "output_type": "stream",
     "text": [
      "SESN/Chapitre : Santé\n"
     ]
    },
    {
     "name": "stderr",
     "output_type": "stream",
     "text": [
      "c:\\Users\\ANSD\\anaconda3\\lib\\site-packages\\urllib3\\connectionpool.py:1045: InsecureRequestWarning: Unverified HTTPS request is being made to host 'www.ansd.sn'. Adding certificate verification is strongly advised. See: https://urllib3.readthedocs.io/en/1.26.x/advanced-usage.html#ssl-warnings\n",
      "  warnings.warn(\n",
      "c:\\Users\\ANSD\\anaconda3\\lib\\site-packages\\urllib3\\connectionpool.py:1045: InsecureRequestWarning: Unverified HTTPS request is being made to host 'www.ansd.sn'. Adding certificate verification is strongly advised. See: https://urllib3.readthedocs.io/en/1.26.x/advanced-usage.html#ssl-warnings\n",
      "  warnings.warn(\n",
      "c:\\Users\\ANSD\\anaconda3\\lib\\site-packages\\urllib3\\connectionpool.py:1045: InsecureRequestWarning: Unverified HTTPS request is being made to host 'www.ansd.sn'. Adding certificate verification is strongly advised. See: https://urllib3.readthedocs.io/en/1.26.x/advanced-usage.html#ssl-warnings\n",
      "  warnings.warn(\n"
     ]
    },
    {
     "name": "stdout",
     "output_type": "stream",
     "text": [
      "Banque de Données des Indicateurs Sociaux (BADIS)\n"
     ]
    },
    {
     "name": "stderr",
     "output_type": "stream",
     "text": [
      "c:\\Users\\ANSD\\anaconda3\\lib\\site-packages\\urllib3\\connectionpool.py:1045: InsecureRequestWarning: Unverified HTTPS request is being made to host 'www.ansd.sn'. Adding certificate verification is strongly advised. See: https://urllib3.readthedocs.io/en/1.26.x/advanced-usage.html#ssl-warnings\n",
      "  warnings.warn(\n",
      "c:\\Users\\ANSD\\anaconda3\\lib\\site-packages\\urllib3\\connectionpool.py:1045: InsecureRequestWarning: Unverified HTTPS request is being made to host 'www.ansd.sn'. Adding certificate verification is strongly advised. See: https://urllib3.readthedocs.io/en/1.26.x/advanced-usage.html#ssl-warnings\n",
      "  warnings.warn(\n",
      "c:\\Users\\ANSD\\anaconda3\\lib\\site-packages\\urllib3\\connectionpool.py:1045: InsecureRequestWarning: Unverified HTTPS request is being made to host 'www.ansd.sn'. Adding certificate verification is strongly advised. See: https://urllib3.readthedocs.io/en/1.26.x/advanced-usage.html#ssl-warnings\n",
      "  warnings.warn(\n"
     ]
    },
    {
     "name": "stdout",
     "output_type": "stream",
     "text": [
      "Rapports des Enquêtes villages\n"
     ]
    },
    {
     "name": "stderr",
     "output_type": "stream",
     "text": [
      "c:\\Users\\ANSD\\anaconda3\\lib\\site-packages\\urllib3\\connectionpool.py:1045: InsecureRequestWarning: Unverified HTTPS request is being made to host 'www.ansd.sn'. Adding certificate verification is strongly advised. See: https://urllib3.readthedocs.io/en/1.26.x/advanced-usage.html#ssl-warnings\n",
      "  warnings.warn(\n",
      "c:\\Users\\ANSD\\anaconda3\\lib\\site-packages\\urllib3\\connectionpool.py:1045: InsecureRequestWarning: Unverified HTTPS request is being made to host 'www.ansd.sn'. Adding certificate verification is strongly advised. See: https://urllib3.readthedocs.io/en/1.26.x/advanced-usage.html#ssl-warnings\n",
      "  warnings.warn(\n",
      "c:\\Users\\ANSD\\anaconda3\\lib\\site-packages\\urllib3\\connectionpool.py:1045: InsecureRequestWarning: Unverified HTTPS request is being made to host 'www.ansd.sn'. Adding certificate verification is strongly advised. See: https://urllib3.readthedocs.io/en/1.26.x/advanced-usage.html#ssl-warnings\n",
      "  warnings.warn(\n"
     ]
    },
    {
     "name": "stdout",
     "output_type": "stream",
     "text": [
      "Autres Rapports d'Enquêtes et d'études sur la pauvreté\n"
     ]
    },
    {
     "name": "stderr",
     "output_type": "stream",
     "text": [
      "c:\\Users\\ANSD\\anaconda3\\lib\\site-packages\\urllib3\\connectionpool.py:1045: InsecureRequestWarning: Unverified HTTPS request is being made to host 'www.ansd.sn'. Adding certificate verification is strongly advised. See: https://urllib3.readthedocs.io/en/1.26.x/advanced-usage.html#ssl-warnings\n",
      "  warnings.warn(\n"
     ]
    },
    {
     "name": "stdout",
     "output_type": "stream",
     "text": [
      "Rapport des Enquêtes de Suivi de la Pauvreté\n"
     ]
    },
    {
     "name": "stderr",
     "output_type": "stream",
     "text": [
      "c:\\Users\\ANSD\\anaconda3\\lib\\site-packages\\urllib3\\connectionpool.py:1045: InsecureRequestWarning: Unverified HTTPS request is being made to host 'www.ansd.sn'. Adding certificate verification is strongly advised. See: https://urllib3.readthedocs.io/en/1.26.x/advanced-usage.html#ssl-warnings\n",
      "  warnings.warn(\n"
     ]
    },
    {
     "name": "stdout",
     "output_type": "stream",
     "text": [
      "Note de conjoncture socio-économique du Sénégal (Enquête L2S)\n"
     ]
    },
    {
     "name": "stderr",
     "output_type": "stream",
     "text": [
      "c:\\Users\\ANSD\\anaconda3\\lib\\site-packages\\urllib3\\connectionpool.py:1045: InsecureRequestWarning: Unverified HTTPS request is being made to host 'www.ansd.sn'. Adding certificate verification is strongly advised. See: https://urllib3.readthedocs.io/en/1.26.x/advanced-usage.html#ssl-warnings\n",
      "  warnings.warn(\n",
      "c:\\Users\\ANSD\\anaconda3\\lib\\site-packages\\urllib3\\connectionpool.py:1045: InsecureRequestWarning: Unverified HTTPS request is being made to host 'www.ansd.sn'. Adding certificate verification is strongly advised. See: https://urllib3.readthedocs.io/en/1.26.x/advanced-usage.html#ssl-warnings\n",
      "  warnings.warn(\n",
      "c:\\Users\\ANSD\\anaconda3\\lib\\site-packages\\urllib3\\connectionpool.py:1045: InsecureRequestWarning: Unverified HTTPS request is being made to host 'www.ansd.sn'. Adding certificate verification is strongly advised. See: https://urllib3.readthedocs.io/en/1.26.x/advanced-usage.html#ssl-warnings\n",
      "  warnings.warn(\n"
     ]
    },
    {
     "name": "stdout",
     "output_type": "stream",
     "text": [
      "SESN/Chapitre : Justice\n"
     ]
    },
    {
     "name": "stderr",
     "output_type": "stream",
     "text": [
      "c:\\Users\\ANSD\\anaconda3\\lib\\site-packages\\urllib3\\connectionpool.py:1045: InsecureRequestWarning: Unverified HTTPS request is being made to host 'www.ansd.sn'. Adding certificate verification is strongly advised. See: https://urllib3.readthedocs.io/en/1.26.x/advanced-usage.html#ssl-warnings\n",
      "  warnings.warn(\n",
      "c:\\Users\\ANSD\\anaconda3\\lib\\site-packages\\urllib3\\connectionpool.py:1045: InsecureRequestWarning: Unverified HTTPS request is being made to host 'www.ansd.sn'. Adding certificate verification is strongly advised. See: https://urllib3.readthedocs.io/en/1.26.x/advanced-usage.html#ssl-warnings\n",
      "  warnings.warn(\n",
      "c:\\Users\\ANSD\\anaconda3\\lib\\site-packages\\urllib3\\connectionpool.py:1045: InsecureRequestWarning: Unverified HTTPS request is being made to host 'www.ansd.sn'. Adding certificate verification is strongly advised. See: https://urllib3.readthedocs.io/en/1.26.x/advanced-usage.html#ssl-warnings\n",
      "  warnings.warn(\n"
     ]
    },
    {
     "name": "stdout",
     "output_type": "stream",
     "text": [
      "Rapports du RGPHAE 2013 : Habitat \n"
     ]
    },
    {
     "name": "stderr",
     "output_type": "stream",
     "text": [
      "c:\\Users\\ANSD\\anaconda3\\lib\\site-packages\\urllib3\\connectionpool.py:1045: InsecureRequestWarning: Unverified HTTPS request is being made to host 'www.ansd.sn'. Adding certificate verification is strongly advised. See: https://urllib3.readthedocs.io/en/1.26.x/advanced-usage.html#ssl-warnings\n",
      "  warnings.warn(\n",
      "c:\\Users\\ANSD\\anaconda3\\lib\\site-packages\\urllib3\\connectionpool.py:1045: InsecureRequestWarning: Unverified HTTPS request is being made to host 'www.ansd.sn'. Adding certificate verification is strongly advised. See: https://urllib3.readthedocs.io/en/1.26.x/advanced-usage.html#ssl-warnings\n",
      "  warnings.warn(\n",
      "c:\\Users\\ANSD\\anaconda3\\lib\\site-packages\\urllib3\\connectionpool.py:1045: InsecureRequestWarning: Unverified HTTPS request is being made to host 'www.ansd.sn'. Adding certificate verification is strongly advised. See: https://urllib3.readthedocs.io/en/1.26.x/advanced-usage.html#ssl-warnings\n",
      "  warnings.warn(\n"
     ]
    },
    {
     "name": "stdout",
     "output_type": "stream",
     "text": [
      "SESN/Chapitre : Eau et assainissement\n"
     ]
    },
    {
     "name": "stderr",
     "output_type": "stream",
     "text": [
      "c:\\Users\\ANSD\\anaconda3\\lib\\site-packages\\urllib3\\connectionpool.py:1045: InsecureRequestWarning: Unverified HTTPS request is being made to host 'www.ansd.sn'. Adding certificate verification is strongly advised. See: https://urllib3.readthedocs.io/en/1.26.x/advanced-usage.html#ssl-warnings\n",
      "  warnings.warn(\n",
      "c:\\Users\\ANSD\\anaconda3\\lib\\site-packages\\urllib3\\connectionpool.py:1045: InsecureRequestWarning: Unverified HTTPS request is being made to host 'www.ansd.sn'. Adding certificate verification is strongly advised. See: https://urllib3.readthedocs.io/en/1.26.x/advanced-usage.html#ssl-warnings\n",
      "  warnings.warn(\n",
      "c:\\Users\\ANSD\\anaconda3\\lib\\site-packages\\urllib3\\connectionpool.py:1045: InsecureRequestWarning: Unverified HTTPS request is being made to host 'www.ansd.sn'. Adding certificate verification is strongly advised. See: https://urllib3.readthedocs.io/en/1.26.x/advanced-usage.html#ssl-warnings\n",
      "  warnings.warn(\n"
     ]
    },
    {
     "name": "stdout",
     "output_type": "stream",
     "text": [
      "Autres rapports d'enquêtes sur l'emploi et le travail\n"
     ]
    },
    {
     "name": "stderr",
     "output_type": "stream",
     "text": [
      "c:\\Users\\ANSD\\anaconda3\\lib\\site-packages\\urllib3\\connectionpool.py:1045: InsecureRequestWarning: Unverified HTTPS request is being made to host 'www.ansd.sn'. Adding certificate verification is strongly advised. See: https://urllib3.readthedocs.io/en/1.26.x/advanced-usage.html#ssl-warnings\n",
      "  warnings.warn(\n",
      "c:\\Users\\ANSD\\anaconda3\\lib\\site-packages\\urllib3\\connectionpool.py:1045: InsecureRequestWarning: Unverified HTTPS request is being made to host 'www.ansd.sn'. Adding certificate verification is strongly advised. See: https://urllib3.readthedocs.io/en/1.26.x/advanced-usage.html#ssl-warnings\n",
      "  warnings.warn(\n",
      "c:\\Users\\ANSD\\anaconda3\\lib\\site-packages\\urllib3\\connectionpool.py:1045: InsecureRequestWarning: Unverified HTTPS request is being made to host 'www.ansd.sn'. Adding certificate verification is strongly advised. See: https://urllib3.readthedocs.io/en/1.26.x/advanced-usage.html#ssl-warnings\n",
      "  warnings.warn(\n"
     ]
    },
    {
     "name": "stdout",
     "output_type": "stream",
     "text": [
      "SEESN/Chapitre : Emploi\n"
     ]
    },
    {
     "name": "stderr",
     "output_type": "stream",
     "text": [
      "c:\\Users\\ANSD\\anaconda3\\lib\\site-packages\\urllib3\\connectionpool.py:1045: InsecureRequestWarning: Unverified HTTPS request is being made to host 'www.ansd.sn'. Adding certificate verification is strongly advised. See: https://urllib3.readthedocs.io/en/1.26.x/advanced-usage.html#ssl-warnings\n",
      "  warnings.warn(\n",
      "c:\\Users\\ANSD\\anaconda3\\lib\\site-packages\\urllib3\\connectionpool.py:1045: InsecureRequestWarning: Unverified HTTPS request is being made to host 'www.ansd.sn'. Adding certificate verification is strongly advised. See: https://urllib3.readthedocs.io/en/1.26.x/advanced-usage.html#ssl-warnings\n",
      "  warnings.warn(\n",
      "c:\\Users\\ANSD\\anaconda3\\lib\\site-packages\\urllib3\\connectionpool.py:1045: InsecureRequestWarning: Unverified HTTPS request is being made to host 'www.ansd.sn'. Adding certificate verification is strongly advised. See: https://urllib3.readthedocs.io/en/1.26.x/advanced-usage.html#ssl-warnings\n",
      "  warnings.warn(\n"
     ]
    },
    {
     "name": "stdout",
     "output_type": "stream",
     "text": [
      "Enquête sur l’Emploi, la Rémunération et les Heures de Travail (EERH)\n"
     ]
    },
    {
     "name": "stderr",
     "output_type": "stream",
     "text": [
      "c:\\Users\\ANSD\\anaconda3\\lib\\site-packages\\urllib3\\connectionpool.py:1045: InsecureRequestWarning: Unverified HTTPS request is being made to host 'www.ansd.sn'. Adding certificate verification is strongly advised. See: https://urllib3.readthedocs.io/en/1.26.x/advanced-usage.html#ssl-warnings\n",
      "  warnings.warn(\n",
      "c:\\Users\\ANSD\\anaconda3\\lib\\site-packages\\urllib3\\connectionpool.py:1045: InsecureRequestWarning: Unverified HTTPS request is being made to host 'www.ansd.sn'. Adding certificate verification is strongly advised. See: https://urllib3.readthedocs.io/en/1.26.x/advanced-usage.html#ssl-warnings\n",
      "  warnings.warn(\n",
      "c:\\Users\\ANSD\\anaconda3\\lib\\site-packages\\urllib3\\connectionpool.py:1045: InsecureRequestWarning: Unverified HTTPS request is being made to host 'www.ansd.sn'. Adding certificate verification is strongly advised. See: https://urllib3.readthedocs.io/en/1.26.x/advanced-usage.html#ssl-warnings\n",
      "  warnings.warn(\n"
     ]
    },
    {
     "name": "stdout",
     "output_type": "stream",
     "text": [
      "Enquête Emploi\n"
     ]
    },
    {
     "name": "stderr",
     "output_type": "stream",
     "text": [
      "c:\\Users\\ANSD\\anaconda3\\lib\\site-packages\\urllib3\\connectionpool.py:1045: InsecureRequestWarning: Unverified HTTPS request is being made to host 'www.ansd.sn'. Adding certificate verification is strongly advised. See: https://urllib3.readthedocs.io/en/1.26.x/advanced-usage.html#ssl-warnings\n",
      "  warnings.warn(\n",
      "c:\\Users\\ANSD\\anaconda3\\lib\\site-packages\\urllib3\\connectionpool.py:1045: InsecureRequestWarning: Unverified HTTPS request is being made to host 'www.ansd.sn'. Adding certificate verification is strongly advised. See: https://urllib3.readthedocs.io/en/1.26.x/advanced-usage.html#ssl-warnings\n",
      "  warnings.warn(\n",
      "c:\\Users\\ANSD\\anaconda3\\lib\\site-packages\\urllib3\\connectionpool.py:1045: InsecureRequestWarning: Unverified HTTPS request is being made to host 'www.ansd.sn'. Adding certificate verification is strongly advised. See: https://urllib3.readthedocs.io/en/1.26.x/advanced-usage.html#ssl-warnings\n",
      "  warnings.warn(\n"
     ]
    },
    {
     "name": "stdout",
     "output_type": "stream",
     "text": [
      "Rapports du RGPHAE 2013 : Education\n"
     ]
    },
    {
     "name": "stderr",
     "output_type": "stream",
     "text": [
      "c:\\Users\\ANSD\\anaconda3\\lib\\site-packages\\urllib3\\connectionpool.py:1045: InsecureRequestWarning: Unverified HTTPS request is being made to host 'www.ansd.sn'. Adding certificate verification is strongly advised. See: https://urllib3.readthedocs.io/en/1.26.x/advanced-usage.html#ssl-warnings\n",
      "  warnings.warn(\n",
      "c:\\Users\\ANSD\\anaconda3\\lib\\site-packages\\urllib3\\connectionpool.py:1045: InsecureRequestWarning: Unverified HTTPS request is being made to host 'www.ansd.sn'. Adding certificate verification is strongly advised. See: https://urllib3.readthedocs.io/en/1.26.x/advanced-usage.html#ssl-warnings\n",
      "  warnings.warn(\n",
      "c:\\Users\\ANSD\\anaconda3\\lib\\site-packages\\urllib3\\connectionpool.py:1045: InsecureRequestWarning: Unverified HTTPS request is being made to host 'www.ansd.sn'. Adding certificate verification is strongly advised. See: https://urllib3.readthedocs.io/en/1.26.x/advanced-usage.html#ssl-warnings\n",
      "  warnings.warn(\n"
     ]
    },
    {
     "name": "stdout",
     "output_type": "stream",
     "text": [
      "SESN/Chapitre : Education\n"
     ]
    },
    {
     "name": "stderr",
     "output_type": "stream",
     "text": [
      "c:\\Users\\ANSD\\anaconda3\\lib\\site-packages\\urllib3\\connectionpool.py:1045: InsecureRequestWarning: Unverified HTTPS request is being made to host 'www.ansd.sn'. Adding certificate verification is strongly advised. See: https://urllib3.readthedocs.io/en/1.26.x/advanced-usage.html#ssl-warnings\n",
      "  warnings.warn(\n",
      "c:\\Users\\ANSD\\anaconda3\\lib\\site-packages\\urllib3\\connectionpool.py:1045: InsecureRequestWarning: Unverified HTTPS request is being made to host 'www.ansd.sn'. Adding certificate verification is strongly advised. See: https://urllib3.readthedocs.io/en/1.26.x/advanced-usage.html#ssl-warnings\n",
      "  warnings.warn(\n",
      "c:\\Users\\ANSD\\anaconda3\\lib\\site-packages\\urllib3\\connectionpool.py:1045: InsecureRequestWarning: Unverified HTTPS request is being made to host 'www.ansd.sn'. Adding certificate verification is strongly advised. See: https://urllib3.readthedocs.io/en/1.26.x/advanced-usage.html#ssl-warnings\n",
      "  warnings.warn(\n"
     ]
    },
    {
     "name": "stdout",
     "output_type": "stream",
     "text": [
      "Rapports du RGPHAE 2013 : Handicap\n"
     ]
    },
    {
     "name": "stderr",
     "output_type": "stream",
     "text": [
      "c:\\Users\\ANSD\\anaconda3\\lib\\site-packages\\urllib3\\connectionpool.py:1045: InsecureRequestWarning: Unverified HTTPS request is being made to host 'www.ansd.sn'. Adding certificate verification is strongly advised. See: https://urllib3.readthedocs.io/en/1.26.x/advanced-usage.html#ssl-warnings\n",
      "  warnings.warn(\n",
      "c:\\Users\\ANSD\\anaconda3\\lib\\site-packages\\urllib3\\connectionpool.py:1045: InsecureRequestWarning: Unverified HTTPS request is being made to host 'www.ansd.sn'. Adding certificate verification is strongly advised. See: https://urllib3.readthedocs.io/en/1.26.x/advanced-usage.html#ssl-warnings\n",
      "  warnings.warn(\n",
      "c:\\Users\\ANSD\\anaconda3\\lib\\site-packages\\urllib3\\connectionpool.py:1045: InsecureRequestWarning: Unverified HTTPS request is being made to host 'www.ansd.sn'. Adding certificate verification is strongly advised. See: https://urllib3.readthedocs.io/en/1.26.x/advanced-usage.html#ssl-warnings\n",
      "  warnings.warn(\n"
     ]
    },
    {
     "name": "stdout",
     "output_type": "stream",
     "text": [
      "Rapports d'enquête et d'études sur le genre\n"
     ]
    },
    {
     "name": "stderr",
     "output_type": "stream",
     "text": [
      "c:\\Users\\ANSD\\anaconda3\\lib\\site-packages\\urllib3\\connectionpool.py:1045: InsecureRequestWarning: Unverified HTTPS request is being made to host 'www.ansd.sn'. Adding certificate verification is strongly advised. See: https://urllib3.readthedocs.io/en/1.26.x/advanced-usage.html#ssl-warnings\n",
      "  warnings.warn(\n",
      "c:\\Users\\ANSD\\anaconda3\\lib\\site-packages\\urllib3\\connectionpool.py:1045: InsecureRequestWarning: Unverified HTTPS request is being made to host 'www.ansd.sn'. Adding certificate verification is strongly advised. See: https://urllib3.readthedocs.io/en/1.26.x/advanced-usage.html#ssl-warnings\n",
      "  warnings.warn(\n",
      "c:\\Users\\ANSD\\anaconda3\\lib\\site-packages\\urllib3\\connectionpool.py:1045: InsecureRequestWarning: Unverified HTTPS request is being made to host 'www.ansd.sn'. Adding certificate verification is strongly advised. See: https://urllib3.readthedocs.io/en/1.26.x/advanced-usage.html#ssl-warnings\n",
      "  warnings.warn(\n"
     ]
    },
    {
     "name": "stdout",
     "output_type": "stream",
     "text": [
      " SES/Chapitre : Elevage\n"
     ]
    },
    {
     "name": "stderr",
     "output_type": "stream",
     "text": [
      "c:\\Users\\ANSD\\anaconda3\\lib\\site-packages\\urllib3\\connectionpool.py:1045: InsecureRequestWarning: Unverified HTTPS request is being made to host 'www.ansd.sn'. Adding certificate verification is strongly advised. See: https://urllib3.readthedocs.io/en/1.26.x/advanced-usage.html#ssl-warnings\n",
      "  warnings.warn(\n",
      "c:\\Users\\ANSD\\anaconda3\\lib\\site-packages\\urllib3\\connectionpool.py:1045: InsecureRequestWarning: Unverified HTTPS request is being made to host 'www.ansd.sn'. Adding certificate verification is strongly advised. See: https://urllib3.readthedocs.io/en/1.26.x/advanced-usage.html#ssl-warnings\n",
      "  warnings.warn(\n",
      "c:\\Users\\ANSD\\anaconda3\\lib\\site-packages\\urllib3\\connectionpool.py:1045: InsecureRequestWarning: Unverified HTTPS request is being made to host 'www.ansd.sn'. Adding certificate verification is strongly advised. See: https://urllib3.readthedocs.io/en/1.26.x/advanced-usage.html#ssl-warnings\n",
      "  warnings.warn(\n"
     ]
    },
    {
     "name": "stdout",
     "output_type": "stream",
     "text": [
      "SESN/Chapitre : Pêche\n"
     ]
    },
    {
     "name": "stderr",
     "output_type": "stream",
     "text": [
      "c:\\Users\\ANSD\\anaconda3\\lib\\site-packages\\urllib3\\connectionpool.py:1045: InsecureRequestWarning: Unverified HTTPS request is being made to host 'www.ansd.sn'. Adding certificate verification is strongly advised. See: https://urllib3.readthedocs.io/en/1.26.x/advanced-usage.html#ssl-warnings\n",
      "  warnings.warn(\n",
      "c:\\Users\\ANSD\\anaconda3\\lib\\site-packages\\urllib3\\connectionpool.py:1045: InsecureRequestWarning: Unverified HTTPS request is being made to host 'www.ansd.sn'. Adding certificate verification is strongly advised. See: https://urllib3.readthedocs.io/en/1.26.x/advanced-usage.html#ssl-warnings\n",
      "  warnings.warn(\n",
      "c:\\Users\\ANSD\\anaconda3\\lib\\site-packages\\urllib3\\connectionpool.py:1045: InsecureRequestWarning: Unverified HTTPS request is being made to host 'www.ansd.sn'. Adding certificate verification is strongly advised. See: https://urllib3.readthedocs.io/en/1.26.x/advanced-usage.html#ssl-warnings\n",
      "  warnings.warn(\n"
     ]
    },
    {
     "name": "stdout",
     "output_type": "stream",
     "text": [
      "SESN/Chapitre : Agriculture\n"
     ]
    },
    {
     "name": "stderr",
     "output_type": "stream",
     "text": [
      "c:\\Users\\ANSD\\anaconda3\\lib\\site-packages\\urllib3\\connectionpool.py:1045: InsecureRequestWarning: Unverified HTTPS request is being made to host 'www.ansd.sn'. Adding certificate verification is strongly advised. See: https://urllib3.readthedocs.io/en/1.26.x/advanced-usage.html#ssl-warnings\n",
      "  warnings.warn(\n",
      "c:\\Users\\ANSD\\anaconda3\\lib\\site-packages\\urllib3\\connectionpool.py:1045: InsecureRequestWarning: Unverified HTTPS request is being made to host 'www.ansd.sn'. Adding certificate verification is strongly advised. See: https://urllib3.readthedocs.io/en/1.26.x/advanced-usage.html#ssl-warnings\n",
      "  warnings.warn(\n",
      "c:\\Users\\ANSD\\anaconda3\\lib\\site-packages\\urllib3\\connectionpool.py:1045: InsecureRequestWarning: Unverified HTTPS request is being made to host 'www.ansd.sn'. Adding certificate verification is strongly advised. See: https://urllib3.readthedocs.io/en/1.26.x/advanced-usage.html#ssl-warnings\n",
      "  warnings.warn(\n"
     ]
    },
    {
     "name": "stdout",
     "output_type": "stream",
     "text": [
      "Indice du Chiffre d’Affaires dans la Construction (ICAC)\n"
     ]
    },
    {
     "name": "stderr",
     "output_type": "stream",
     "text": [
      "c:\\Users\\ANSD\\anaconda3\\lib\\site-packages\\urllib3\\connectionpool.py:1045: InsecureRequestWarning: Unverified HTTPS request is being made to host 'www.ansd.sn'. Adding certificate verification is strongly advised. See: https://urllib3.readthedocs.io/en/1.26.x/advanced-usage.html#ssl-warnings\n",
      "  warnings.warn(\n",
      "c:\\Users\\ANSD\\anaconda3\\lib\\site-packages\\urllib3\\connectionpool.py:1045: InsecureRequestWarning: Unverified HTTPS request is being made to host 'www.ansd.sn'. Adding certificate verification is strongly advised. See: https://urllib3.readthedocs.io/en/1.26.x/advanced-usage.html#ssl-warnings\n",
      "  warnings.warn(\n",
      "c:\\Users\\ANSD\\anaconda3\\lib\\site-packages\\urllib3\\connectionpool.py:1045: InsecureRequestWarning: Unverified HTTPS request is being made to host 'www.ansd.sn'. Adding certificate verification is strongly advised. See: https://urllib3.readthedocs.io/en/1.26.x/advanced-usage.html#ssl-warnings\n",
      "  warnings.warn(\n"
     ]
    },
    {
     "name": "stdout",
     "output_type": "stream",
     "text": [
      "SESN/Chapitre : Bâtiments et travaux publics (BTP)\n"
     ]
    },
    {
     "name": "stderr",
     "output_type": "stream",
     "text": [
      "c:\\Users\\ANSD\\anaconda3\\lib\\site-packages\\urllib3\\connectionpool.py:1045: InsecureRequestWarning: Unverified HTTPS request is being made to host 'www.ansd.sn'. Adding certificate verification is strongly advised. See: https://urllib3.readthedocs.io/en/1.26.x/advanced-usage.html#ssl-warnings\n",
      "  warnings.warn(\n",
      "c:\\Users\\ANSD\\anaconda3\\lib\\site-packages\\urllib3\\connectionpool.py:1045: InsecureRequestWarning: Unverified HTTPS request is being made to host 'www.ansd.sn'. Adding certificate verification is strongly advised. See: https://urllib3.readthedocs.io/en/1.26.x/advanced-usage.html#ssl-warnings\n",
      "  warnings.warn(\n",
      "c:\\Users\\ANSD\\anaconda3\\lib\\site-packages\\urllib3\\connectionpool.py:1045: InsecureRequestWarning: Unverified HTTPS request is being made to host 'www.ansd.sn'. Adding certificate verification is strongly advised. See: https://urllib3.readthedocs.io/en/1.26.x/advanced-usage.html#ssl-warnings\n",
      "  warnings.warn(\n"
     ]
    },
    {
     "name": "stdout",
     "output_type": "stream",
     "text": [
      "Indice des Prix des Matériaux de Construction (IMC)\n"
     ]
    },
    {
     "name": "stderr",
     "output_type": "stream",
     "text": [
      "c:\\Users\\ANSD\\anaconda3\\lib\\site-packages\\urllib3\\connectionpool.py:1045: InsecureRequestWarning: Unverified HTTPS request is being made to host 'www.ansd.sn'. Adding certificate verification is strongly advised. See: https://urllib3.readthedocs.io/en/1.26.x/advanced-usage.html#ssl-warnings\n",
      "  warnings.warn(\n",
      "c:\\Users\\ANSD\\anaconda3\\lib\\site-packages\\urllib3\\connectionpool.py:1045: InsecureRequestWarning: Unverified HTTPS request is being made to host 'www.ansd.sn'. Adding certificate verification is strongly advised. See: https://urllib3.readthedocs.io/en/1.26.x/advanced-usage.html#ssl-warnings\n",
      "  warnings.warn(\n",
      "c:\\Users\\ANSD\\anaconda3\\lib\\site-packages\\urllib3\\connectionpool.py:1045: InsecureRequestWarning: Unverified HTTPS request is being made to host 'www.ansd.sn'. Adding certificate verification is strongly advised. See: https://urllib3.readthedocs.io/en/1.26.x/advanced-usage.html#ssl-warnings\n",
      "  warnings.warn(\n"
     ]
    },
    {
     "name": "stdout",
     "output_type": "stream",
     "text": [
      "Indice du Coût de la Construction-ICC (base 100 2018)\n"
     ]
    },
    {
     "name": "stderr",
     "output_type": "stream",
     "text": [
      "c:\\Users\\ANSD\\anaconda3\\lib\\site-packages\\urllib3\\connectionpool.py:1045: InsecureRequestWarning: Unverified HTTPS request is being made to host 'www.ansd.sn'. Adding certificate verification is strongly advised. See: https://urllib3.readthedocs.io/en/1.26.x/advanced-usage.html#ssl-warnings\n",
      "  warnings.warn(\n",
      "c:\\Users\\ANSD\\anaconda3\\lib\\site-packages\\urllib3\\connectionpool.py:1045: InsecureRequestWarning: Unverified HTTPS request is being made to host 'www.ansd.sn'. Adding certificate verification is strongly advised. See: https://urllib3.readthedocs.io/en/1.26.x/advanced-usage.html#ssl-warnings\n",
      "  warnings.warn(\n",
      "c:\\Users\\ANSD\\anaconda3\\lib\\site-packages\\urllib3\\connectionpool.py:1045: InsecureRequestWarning: Unverified HTTPS request is being made to host 'www.ansd.sn'. Adding certificate verification is strongly advised. See: https://urllib3.readthedocs.io/en/1.26.x/advanced-usage.html#ssl-warnings\n",
      "  warnings.warn(\n"
     ]
    },
    {
     "name": "stdout",
     "output_type": "stream",
     "text": [
      "Autres rapports d'enquêtes et d'études sur l'environnement\n"
     ]
    },
    {
     "name": "stderr",
     "output_type": "stream",
     "text": [
      "c:\\Users\\ANSD\\anaconda3\\lib\\site-packages\\urllib3\\connectionpool.py:1045: InsecureRequestWarning: Unverified HTTPS request is being made to host 'www.ansd.sn'. Adding certificate verification is strongly advised. See: https://urllib3.readthedocs.io/en/1.26.x/advanced-usage.html#ssl-warnings\n",
      "  warnings.warn(\n",
      "c:\\Users\\ANSD\\anaconda3\\lib\\site-packages\\urllib3\\connectionpool.py:1045: InsecureRequestWarning: Unverified HTTPS request is being made to host 'www.ansd.sn'. Adding certificate verification is strongly advised. See: https://urllib3.readthedocs.io/en/1.26.x/advanced-usage.html#ssl-warnings\n",
      "  warnings.warn(\n",
      "c:\\Users\\ANSD\\anaconda3\\lib\\site-packages\\urllib3\\connectionpool.py:1045: InsecureRequestWarning: Unverified HTTPS request is being made to host 'www.ansd.sn'. Adding certificate verification is strongly advised. See: https://urllib3.readthedocs.io/en/1.26.x/advanced-usage.html#ssl-warnings\n",
      "  warnings.warn(\n"
     ]
    },
    {
     "name": "stdout",
     "output_type": "stream",
     "text": [
      "SESN/Chapitre : Environnement\n"
     ]
    },
    {
     "name": "stderr",
     "output_type": "stream",
     "text": [
      "c:\\Users\\ANSD\\anaconda3\\lib\\site-packages\\urllib3\\connectionpool.py:1045: InsecureRequestWarning: Unverified HTTPS request is being made to host 'www.ansd.sn'. Adding certificate verification is strongly advised. See: https://urllib3.readthedocs.io/en/1.26.x/advanced-usage.html#ssl-warnings\n",
      "  warnings.warn(\n",
      "c:\\Users\\ANSD\\anaconda3\\lib\\site-packages\\urllib3\\connectionpool.py:1045: InsecureRequestWarning: Unverified HTTPS request is being made to host 'www.ansd.sn'. Adding certificate verification is strongly advised. See: https://urllib3.readthedocs.io/en/1.26.x/advanced-usage.html#ssl-warnings\n",
      "  warnings.warn(\n",
      "c:\\Users\\ANSD\\anaconda3\\lib\\site-packages\\urllib3\\connectionpool.py:1045: InsecureRequestWarning: Unverified HTTPS request is being made to host 'www.ansd.sn'. Adding certificate verification is strongly advised. See: https://urllib3.readthedocs.io/en/1.26.x/advanced-usage.html#ssl-warnings\n",
      "  warnings.warn(\n"
     ]
    },
    {
     "name": "stdout",
     "output_type": "stream",
     "text": [
      "Rapports d'enquêtes et d'études sur l'industrie et la production \n"
     ]
    },
    {
     "name": "stderr",
     "output_type": "stream",
     "text": [
      "c:\\Users\\ANSD\\anaconda3\\lib\\site-packages\\urllib3\\connectionpool.py:1045: InsecureRequestWarning: Unverified HTTPS request is being made to host 'www.ansd.sn'. Adding certificate verification is strongly advised. See: https://urllib3.readthedocs.io/en/1.26.x/advanced-usage.html#ssl-warnings\n",
      "  warnings.warn(\n",
      "c:\\Users\\ANSD\\anaconda3\\lib\\site-packages\\urllib3\\connectionpool.py:1045: InsecureRequestWarning: Unverified HTTPS request is being made to host 'www.ansd.sn'. Adding certificate verification is strongly advised. See: https://urllib3.readthedocs.io/en/1.26.x/advanced-usage.html#ssl-warnings\n",
      "  warnings.warn(\n",
      "c:\\Users\\ANSD\\anaconda3\\lib\\site-packages\\urllib3\\connectionpool.py:1045: InsecureRequestWarning: Unverified HTTPS request is being made to host 'www.ansd.sn'. Adding certificate verification is strongly advised. See: https://urllib3.readthedocs.io/en/1.26.x/advanced-usage.html#ssl-warnings\n",
      "  warnings.warn(\n"
     ]
    },
    {
     "name": "stdout",
     "output_type": "stream",
     "text": [
      "Indice Harmonisé de la Production Industrielle (IHPI)\n"
     ]
    },
    {
     "name": "stderr",
     "output_type": "stream",
     "text": [
      "c:\\Users\\ANSD\\anaconda3\\lib\\site-packages\\urllib3\\connectionpool.py:1045: InsecureRequestWarning: Unverified HTTPS request is being made to host 'www.ansd.sn'. Adding certificate verification is strongly advised. See: https://urllib3.readthedocs.io/en/1.26.x/advanced-usage.html#ssl-warnings\n",
      "  warnings.warn(\n",
      "c:\\Users\\ANSD\\anaconda3\\lib\\site-packages\\urllib3\\connectionpool.py:1045: InsecureRequestWarning: Unverified HTTPS request is being made to host 'www.ansd.sn'. Adding certificate verification is strongly advised. See: https://urllib3.readthedocs.io/en/1.26.x/advanced-usage.html#ssl-warnings\n",
      "  warnings.warn(\n",
      "c:\\Users\\ANSD\\anaconda3\\lib\\site-packages\\urllib3\\connectionpool.py:1045: InsecureRequestWarning: Unverified HTTPS request is being made to host 'www.ansd.sn'. Adding certificate verification is strongly advised. See: https://urllib3.readthedocs.io/en/1.26.x/advanced-usage.html#ssl-warnings\n",
      "  warnings.warn(\n"
     ]
    },
    {
     "name": "stdout",
     "output_type": "stream",
     "text": [
      "SESN/Chapitre : Industrie\n"
     ]
    },
    {
     "name": "stderr",
     "output_type": "stream",
     "text": [
      "c:\\Users\\ANSD\\anaconda3\\lib\\site-packages\\urllib3\\connectionpool.py:1045: InsecureRequestWarning: Unverified HTTPS request is being made to host 'www.ansd.sn'. Adding certificate verification is strongly advised. See: https://urllib3.readthedocs.io/en/1.26.x/advanced-usage.html#ssl-warnings\n",
      "  warnings.warn(\n",
      "c:\\Users\\ANSD\\anaconda3\\lib\\site-packages\\urllib3\\connectionpool.py:1045: InsecureRequestWarning: Unverified HTTPS request is being made to host 'www.ansd.sn'. Adding certificate verification is strongly advised. See: https://urllib3.readthedocs.io/en/1.26.x/advanced-usage.html#ssl-warnings\n",
      "  warnings.warn(\n",
      "c:\\Users\\ANSD\\anaconda3\\lib\\site-packages\\urllib3\\connectionpool.py:1045: InsecureRequestWarning: Unverified HTTPS request is being made to host 'www.ansd.sn'. Adding certificate verification is strongly advised. See: https://urllib3.readthedocs.io/en/1.26.x/advanced-usage.html#ssl-warnings\n",
      "  warnings.warn(\n"
     ]
    },
    {
     "name": "stdout",
     "output_type": "stream",
     "text": [
      "Indice des Prix à la Production Industrielle (IPPI)\n"
     ]
    },
    {
     "name": "stderr",
     "output_type": "stream",
     "text": [
      "c:\\Users\\ANSD\\anaconda3\\lib\\site-packages\\urllib3\\connectionpool.py:1045: InsecureRequestWarning: Unverified HTTPS request is being made to host 'www.ansd.sn'. Adding certificate verification is strongly advised. See: https://urllib3.readthedocs.io/en/1.26.x/advanced-usage.html#ssl-warnings\n",
      "  warnings.warn(\n",
      "c:\\Users\\ANSD\\anaconda3\\lib\\site-packages\\urllib3\\connectionpool.py:1045: InsecureRequestWarning: Unverified HTTPS request is being made to host 'www.ansd.sn'. Adding certificate verification is strongly advised. See: https://urllib3.readthedocs.io/en/1.26.x/advanced-usage.html#ssl-warnings\n",
      "  warnings.warn(\n",
      "c:\\Users\\ANSD\\anaconda3\\lib\\site-packages\\urllib3\\connectionpool.py:1045: InsecureRequestWarning: Unverified HTTPS request is being made to host 'www.ansd.sn'. Adding certificate verification is strongly advised. See: https://urllib3.readthedocs.io/en/1.26.x/advanced-usage.html#ssl-warnings\n",
      "  warnings.warn(\n"
     ]
    },
    {
     "name": "stdout",
     "output_type": "stream",
     "text": [
      "Indices du Chiffre d’Affaires dans l'Industrie (ICAI)\n"
     ]
    },
    {
     "name": "stderr",
     "output_type": "stream",
     "text": [
      "c:\\Users\\ANSD\\anaconda3\\lib\\site-packages\\urllib3\\connectionpool.py:1045: InsecureRequestWarning: Unverified HTTPS request is being made to host 'www.ansd.sn'. Adding certificate verification is strongly advised. See: https://urllib3.readthedocs.io/en/1.26.x/advanced-usage.html#ssl-warnings\n",
      "  warnings.warn(\n",
      "c:\\Users\\ANSD\\anaconda3\\lib\\site-packages\\urllib3\\connectionpool.py:1045: InsecureRequestWarning: Unverified HTTPS request is being made to host 'www.ansd.sn'. Adding certificate verification is strongly advised. See: https://urllib3.readthedocs.io/en/1.26.x/advanced-usage.html#ssl-warnings\n",
      "  warnings.warn(\n",
      "c:\\Users\\ANSD\\anaconda3\\lib\\site-packages\\urllib3\\connectionpool.py:1045: InsecureRequestWarning: Unverified HTTPS request is being made to host 'www.ansd.sn'. Adding certificate verification is strongly advised. See: https://urllib3.readthedocs.io/en/1.26.x/advanced-usage.html#ssl-warnings\n",
      "  warnings.warn(\n"
     ]
    },
    {
     "name": "stdout",
     "output_type": "stream",
     "text": [
      "SESN/Chapitre : Mines, carrières et energie\n"
     ]
    },
    {
     "name": "stderr",
     "output_type": "stream",
     "text": [
      "c:\\Users\\ANSD\\anaconda3\\lib\\site-packages\\urllib3\\connectionpool.py:1045: InsecureRequestWarning: Unverified HTTPS request is being made to host 'www.ansd.sn'. Adding certificate verification is strongly advised. See: https://urllib3.readthedocs.io/en/1.26.x/advanced-usage.html#ssl-warnings\n",
      "  warnings.warn(\n",
      "c:\\Users\\ANSD\\anaconda3\\lib\\site-packages\\urllib3\\connectionpool.py:1045: InsecureRequestWarning: Unverified HTTPS request is being made to host 'www.ansd.sn'. Adding certificate verification is strongly advised. See: https://urllib3.readthedocs.io/en/1.26.x/advanced-usage.html#ssl-warnings\n",
      "  warnings.warn(\n",
      "c:\\Users\\ANSD\\anaconda3\\lib\\site-packages\\urllib3\\connectionpool.py:1045: InsecureRequestWarning: Unverified HTTPS request is being made to host 'www.ansd.sn'. Adding certificate verification is strongly advised. See: https://urllib3.readthedocs.io/en/1.26.x/advanced-usage.html#ssl-warnings\n",
      "  warnings.warn(\n"
     ]
    },
    {
     "name": "stdout",
     "output_type": "stream",
     "text": [
      "Rapports et études sur les Technologies de l'information et de la communication (TIC)\n"
     ]
    },
    {
     "name": "stderr",
     "output_type": "stream",
     "text": [
      "c:\\Users\\ANSD\\anaconda3\\lib\\site-packages\\urllib3\\connectionpool.py:1045: InsecureRequestWarning: Unverified HTTPS request is being made to host 'www.ansd.sn'. Adding certificate verification is strongly advised. See: https://urllib3.readthedocs.io/en/1.26.x/advanced-usage.html#ssl-warnings\n",
      "  warnings.warn(\n"
     ]
    },
    {
     "name": "stdout",
     "output_type": "stream",
     "text": [
      "SES/Chapitre : Tourisme\n"
     ]
    },
    {
     "name": "stderr",
     "output_type": "stream",
     "text": [
      "c:\\Users\\ANSD\\anaconda3\\lib\\site-packages\\urllib3\\connectionpool.py:1045: InsecureRequestWarning: Unverified HTTPS request is being made to host 'www.ansd.sn'. Adding certificate verification is strongly advised. See: https://urllib3.readthedocs.io/en/1.26.x/advanced-usage.html#ssl-warnings\n",
      "  warnings.warn(\n",
      "c:\\Users\\ANSD\\anaconda3\\lib\\site-packages\\urllib3\\connectionpool.py:1045: InsecureRequestWarning: Unverified HTTPS request is being made to host 'www.ansd.sn'. Adding certificate verification is strongly advised. See: https://urllib3.readthedocs.io/en/1.26.x/advanced-usage.html#ssl-warnings\n",
      "  warnings.warn(\n",
      "c:\\Users\\ANSD\\anaconda3\\lib\\site-packages\\urllib3\\connectionpool.py:1045: InsecureRequestWarning: Unverified HTTPS request is being made to host 'www.ansd.sn'. Adding certificate verification is strongly advised. See: https://urllib3.readthedocs.io/en/1.26.x/advanced-usage.html#ssl-warnings\n",
      "  warnings.warn(\n"
     ]
    },
    {
     "name": "stdout",
     "output_type": "stream",
     "text": [
      "SESN/Chapitre : Transports\n"
     ]
    },
    {
     "name": "stderr",
     "output_type": "stream",
     "text": [
      "c:\\Users\\ANSD\\anaconda3\\lib\\site-packages\\urllib3\\connectionpool.py:1045: InsecureRequestWarning: Unverified HTTPS request is being made to host 'www.ansd.sn'. Adding certificate verification is strongly advised. See: https://urllib3.readthedocs.io/en/1.26.x/advanced-usage.html#ssl-warnings\n",
      "  warnings.warn(\n",
      "c:\\Users\\ANSD\\anaconda3\\lib\\site-packages\\urllib3\\connectionpool.py:1045: InsecureRequestWarning: Unverified HTTPS request is being made to host 'www.ansd.sn'. Adding certificate verification is strongly advised. See: https://urllib3.readthedocs.io/en/1.26.x/advanced-usage.html#ssl-warnings\n",
      "  warnings.warn(\n",
      "c:\\Users\\ANSD\\anaconda3\\lib\\site-packages\\urllib3\\connectionpool.py:1045: InsecureRequestWarning: Unverified HTTPS request is being made to host 'www.ansd.sn'. Adding certificate verification is strongly advised. See: https://urllib3.readthedocs.io/en/1.26.x/advanced-usage.html#ssl-warnings\n",
      "  warnings.warn(\n"
     ]
    }
   ],
   "source": [
    "for (k,v) in data_ext.items():\n",
    "    for j in v :\n",
    "        for (x,y) in j.items() :\n",
    "            for t in y :\n",
    "                for i in t:\n",
    "                    print(i)\n",
    "                    try :\n",
    "                        new_indicateurs[i] = {\n",
    "                            \"source\" : foo+t[i],\n",
    "                            \"data_publication\" : recup_pub(foo+t[i]),\n",
    "                            \"sommaire\" : recup_text(foo+t[i]),\n",
    "                            \"description\" : recup_desc(foo+t[i]),\n",
    "                            \"thème\" : x\n",
    "                        }\n",
    "                    except:\n",
    "                        pass"
   ]
  },
  {
   "cell_type": "code",
   "execution_count": 298,
   "metadata": {},
   "outputs": [
    {
     "data": {
      "text/plain": [
       "{'Tableau des ressources et des emplois (TRE)': {'source': 'https://www.ansd.sn/Indicateur/tableau-des-ressources-et-des-emplois-tre',\n",
       "  'data_publication': 'N°2022',\n",
       "  'sommaire': None,\n",
       "  'description': '« Le tableau des ressources et des emplois (TRE) décrit le processus de création et d’utilisation des biens et services. Il s’agit d’une matrice par produit et par branche d’activité montrant comment la production intérieure et les importations de biens et services sont utilisées, d’une part, par les branches d’activités pour la consommation intermédiaire et, d’autre part, pour satisfaire le demande finale intérieure (consommation finale et investissement) et extérieure (exportations). Il permet, en particulier, d’identifier les interrelations qui s’opèrent tant à l’intérieur de la sphère de production qu’entre les sphères de production et de consommation. »\\n',\n",
       "  'thème': 'CROISSANCE_ÉCONOMIQUE'},\n",
       " 'Matrice de comptabilité sociale (MCS)': {'source': 'https://www.ansd.sn/Indicateur/matrice-de-comptabilite-sociale-mcs',\n",
       "  'data_publication': 'N°2019',\n",
       "  'sommaire': ['Une matrice de comptabilité sociale (MCS) est une présentation du Système de Comptabilité nationale (SCN) sous forme matricielle, qui permet l’incorporation des détails supplémentaires présentant un intérêt particulier. Il s’agit d’un cadre comptable qui décrit de manière cohérente les flux de revenus dans une économie au cours d’une période considérée.'],\n",
       "  'description': None,\n",
       "  'thème': 'CROISSANCE_ÉCONOMIQUE'},\n",
       " 'Comptes des secteurs institutionnels et tableaux des comptes économiques intégrés ': {'source': 'https://www.ansd.sn/Indicateur/comptes-des-secteurs-institutionnels-et-tableaux-des-comptes-economiques-integres',\n",
       "  'data_publication': 'N°2020',\n",
       "  'sommaire': [],\n",
       "  'description': \"« Dans le but de mettre à la disposition des utilisateurs un ensemble plus large d’indicateurs économiques relatifs aux transactions effectuées par les agents économiques, l’Agence nationale de la Statistique et de la Démographie (ANSD) s’est engagée, dans la production des comptes de secteurs institutionnels et de leur synthèse avec le Tableau des Comptes Economiques Intégrés (TCEI). Ces comptes sont établis en référence au Système de Comptabilité nationale de 2008 (SCN 2008). Le TCEI décrit l’ensemble du processus économique, qui couvre la production, la formation et la répartition du revenu, la consommation et l’épargne pour chaque secteur institutionnel résident ainsi que les opérations avec le reste du monde. Il donne une image complète des comptes de l'ensemble de l'économie, en faisant ressortir les principales relations économiques. »\\n\",\n",
       "  'thème': 'CROISSANCE_ÉCONOMIQUE'},\n",
       " 'Produit intérieur brut trimestriel (base 2014)': {'source': 'https://www.ansd.sn/Indicateur/produit-interieur-brut-trimestriel-base-2014',\n",
       "  'data_publication': 'T3 2023',\n",
       "  'sommaire': ['Au troisième trimestre de l’année 2023, le Produit Intérieur Brut (PIB) réel, corrigé des variations saisonnières (CVS), a augmenté de 0,7%, par rapport au trimestre précédent. Ce résultat est consécutif au relèvement des taxes nettes de subventions sur les produits (+4,7%) et de la valeur ajoutée du secteur tertiaire (+0,8%). A contrario, les secteurs secondaire et primaire ont fléchi, respectivement, de 0,6% et 0,2%.',\n",
       "   'S’agissant des composantes de la demande, en variation trimestrielle, la formation brute de capitale fixe (FBCF) s’est rehaussée de 12,6% sous l’impulsion de sa composante privée (+16,1%). La consommation finale s’est renforcée de 1,3% tandis que les exportations de biens et services ont décru de 6,3%.',\n",
       "   'Par rapport à la même période de l’année 2022, le PIB réel du troisième trimestre de 2023 s’est accru de 4,5%. Cette bonification s’explique principalement par la consolidation des activités des secteurs primaire (+6,3%), du tertiaire (4,7%) ainsi que du secondaire (+3,9%). Quant aux taxes nettes sur les produits, elles se sont relevées de 1,9% en volume.',\n",
       "   'Sous l’angle de la demande, le regain d’activité économique au troisième trimestre de 2023, par rapport au trimestre correspondant de l’année précédente, s’est traduit, en termes réels, par l’accroissement de la formation brute de capital fixe (+11,1%), de la consommation finale (+5,2%) tandis que les exportations de biens et services ont diminué de 11,6%.',\n",
       "   'Le Produit Intérieur Brut nominal est estimé à 4 188,8 milliards de FCFA au troisième trimestre de 2023.'],\n",
       "  'description': 'La Note sur le PIB trimestriel est une publication qui fait la synthèse de l’évolution récente de l’activité économique du Sénégal. Le PIB est calculé en partant d’un regroupement des branches de la Nomenclature d’Activités des États Membres d’AFRISTAT (NAEMA). Il est évalué en valeur aux prix courants et en volumes chainés (avec l’année de référence 2014, année de base des comptes nationaux annuels selon le SCN 2008). Les approches utilisées sont celles de la production et des emplois. Elles reposent sur la disponibilité d’un ensemble minimum de statistiques conjoncturelles sur les branches d’activités économiques. La méthodologie de l’étalonnage-calage fondée sur l’approche numérique (Denton) et celle par modélisation (Cholette-Dagum) a été retenue. L’approche par double déflation est utilisée. Sauf indication contraire, les analyses vont porter sur les données corrigées des variations saisonnières (CVS). La note sur le PIB trimestriel est publiée au plus tard quatre-vingt-dix jours. (90) jours après le trimestre sous revue.\\n',\n",
       "  'thème': 'CROISSANCE_ÉCONOMIQUE'},\n",
       " 'Produit Intérieur Brut annuel (base 2014)': {'source': 'https://www.ansd.sn/Indicateur/produit-interieur-brut-annuel-base-2014',\n",
       "  'data_publication': '2022',\n",
       "  'sommaire': ['La croissance économique du Sénégal s’est ralentie en 2022 dans un contexte caractérisé par de fortes pressions inflationnistes.',\n",
       "   'La croissance économique du Sénégal s’est établie à 3,8% en 2022 après 6,5% en 2021. Cette décélération de l’activité économique est imputable à celle de la valeur ajoutée du secteur primaire. En particulier le sous-secteur agricole s’est contracté de 0,9% en 2022 en volume. En outre, ce ralentissement de l’activité économique s’est réalisé dans un contexte marqué par des tensions géopolitiques au niveau international et par une augmentation soutenue des prix. En effet, le niveau général des prix1 a augmenté de 8,7% en 2022.',\n",
       "   'Les dépenses de consommation finale se sont accrues de 3,1% en 2022, en termes réels. Cette situation est expliquée par la hausse de la consommation marchande de 3,5% en 2022. Elle est amoindrie par une progression limitée de celle non marchande (+2,2%).',\n",
       "   'Par ailleurs, la formation brute du capital fixe (FBCF) en volume s’est relevée de 11,0% en 2022, après 15,8% en 2021. Cette évolution est principalement imputable à sa composante privée qui s’est rehaussée de 17,3% en 2022, après 18,8% un an auparavant.',\n",
       "   'Les échanges extérieurs de biens et services en volume ont été marqués par un accroissement plus soutenu des importations (+12,4%) que des exportations (+3,5%). En valeur, le solde de la balance des biens et services s’est largement détérioré en s’établissant à -4 534,0 milliards FCFA en 2022, après -3 067,0 milliards FCFA en 2021. Dans ce sillage, le déficit extérieur courant rapporté au PIB est ressorti à 20,1% contre 12,1% un an auparavant.',\n",
       "   'Le taux d’épargne nationale est évalué à 25,6% du PIB en 2022 contre 26,1% en 2021. Aussi, le PIB nominal s’est-il établi à 17 228 milliards FCFA en 2022, après 15 261 milliards FCFA en 2021.'],\n",
       "  'description': 'La première partie analyse certains indicateurs phares de l’activité économique, en particulier, la croissance économique, l’évolution de la valeur ajoutée par secteurs d’activités ainsi que celle des emplois du PIB (consommation finale, investissements, exportations nettes). Cette partie aborde également la contribution à la formation du PIB, du point de vue des agents économiques (les secteurs institutionnels). La deuxième partie est constituée de tableaux sur les indicateurs macroéconomiques, le produit intérieur brut et ses emplois ainsi que sur les agrégats par produit. Les informations sont données aux prix courants et en volume aux prix chainés (base 100 = 2014) pour les trois dernières années.\\n',\n",
       "  'thème': 'CROISSANCE_ÉCONOMIQUE'},\n",
       " 'Indice des Prix des Matériaux de Construction (IMC)': {'source': 'https://www.ansd.sn/Indicateur/indice-des-prix-des-materiaux-de-construction-imc',\n",
       "  'data_publication': 'Novembre 2023',\n",
       "  'sommaire': ['Les prix des matériaux de construction ont baissé de 0,3% en novembre 2023, comparativement au mois précédent. Ce repli est consécutif à celui des prix des peintures (-1,7%) ainsi que des matériaux de base (-0,5%). En variation annuelle[1], les prix des matériaux de construction se sont contractés de 4,9%.\\xa0\\xa0\\xa0',\n",
       "   'Les prix des peintures ont chuté de 1,7% au mois de novembre 2023, sous l’effet de la baisse de ceux de la peinture à eau (-2,4%) et de la peinture à huile (-0,2%). En comparaison à la période correspondante en 2022, les prix ont diminué de 2,1%.',\n",
       "   'Le repli des prix des matériaux de base (-0,5%), en rythme mensuel, est imputable à celui des prix\\xa0 du fer à béton (-1,9%), du sable (-0,2%) et des graviers (-0,1%). Toutefois, les prix du ciment ordinaire se sont accrus de 0,1% sur la même période. En variation annuelle, les prix ont baissé de 7,6%.\\xa0',\n",
       "   'Les prix des matériaux de menuiserie se sont contractés de 0,1% au cours du mois sous revue, en raison du recul de ceux des articles en aluminium (-0,3%) ainsi que ceux en bois (-0,1%). \\xa0\\xa0\\xa0Comparés à leur niveau en novembre 2022, les prix des matériaux de menuiserie se sont repliés de 1,4%.\\xa0',\n",
       "   'Les matériaux pour travaux d’électricité se sont renchéris de 0,5% en novembre 2023, suite à la hausse des prix des tubes orange (+4,9%). En variation annuelle, les prix ont diminué de 2,9%.',\n",
       "   '[1] Variation entre les mêmes mois de deux années consécutives'],\n",
       "  'description': \"L’Agence Nationale de la Statistique et de la Démographie (ANSD) met à la disposition des utilisateurs l'Indice mensuel des Prix des Matériaux de Construction. Cet indice base 100 en T2-2015, mesure l’évolution des prix des matériaux entrant dans la construction des logements à usage d'habitation. Les indices sont de type Laspeyres et les pondérations sont issues des devis quantitatifs et estimatifs sur les quatre types (cf. Annexe 1) de logement les plus représentatifs le secteur immobilier. Le champ couvert par l’indice est la grande agglomération de Dakar découpée en zone de collecte. Le panier considéré comprend 96 variétés suivies dans 176 points d’observations. Plus de 760 relevés de prix sont effectués chaque mois.\\n\",\n",
       "  'thème': 'BÂTIMENTS_ET_TRAVAUX_PUBLICS_'},\n",
       " 'Indice du Coût de la Construction-ICC (base 100 2018)': {'source': 'https://www.ansd.sn/Indicateur/indice-du-cout-de-la-construction-icc-base-100-2018',\n",
       "  'data_publication': 'T3 2023',\n",
       "  'sommaire': [\"Le coût de la construction des logements neufs à usage d'habitation a baissé de 0,2% au troisième trimestre 2023, par rapport au trimestre précédent. Cette évolution résulte essentiellement du repli des prix des « matériaux de construction ». En revanche, l’augmentation du coût de la « main d’œuvre\\xa0», de la «\\xa0location du matériel\\xa0» ainsi que des «\\xa0moyens de gestion\\xa0» a amoindri cette baisse. En variation annuelle[1], le coût de la construction a enregistré une diminution de 0,5%.\",\n",
       "   '[1] Variation entre les mêmes trimestres de deux années consécutives'],\n",
       "  'description': \"L’ANSD publiait un ICC base 100 T2-2015 dont la couverture géographique était limitée à la Capitale, Dakar. Des travaux d’élargissement de la couverture géographique de l’ICC ont été entamés en 2018 pour être en conformité avec les normes internationales et prendre en compte les réalités économiques du Sénégal. Ainsi, cet indice base 100 en 2018, mesure l’évolution du coût de la construction des logements neufs à usage d'habitation au plan national. Les indices sont de type Laspeyres et les pondérations sont issues des devis quantitatifs et estimatifs sur les types de logement les plus représentatifs du secteur au niveau national. Le champ couvert par l’indice est l’ensemble du pays découpé en zones écologiques/économiques, à savoir le Sud, le Nord, le Centre Nord, l’Ouest et le Centre Sud. Ces cinq zones sont représentées respectivement par Kolda, Saint Louis, Diourbel, Dakar et Kaolack. La collecte des prix se fait dans les capitales de ces régions.. Le panier suivi dans chaque zone comprend 101 variétés. L'ICC est publié au plus tard 15 jours après le trimestre sous revue.\\n\",\n",
       "  'thème': 'BÂTIMENTS_ET_TRAVAUX_PUBLICS_'},\n",
       " \"Evolution annuelle de l'Indice Harmonisé des Prix à la Consommation\": {'source': 'https://www.ansd.sn/Indicateur/evolution-annuelle-de-lindice-harmonise-des-prix-la-consommation',\n",
       "  'data_publication': '2022',\n",
       "  'sommaire': ['L’année 2022 est marquée par un ralentissement de l’activité économique notamment sous l’effet de la guerre russo-ukrainienne, de la résurgence de l’épidémie de Covid-19 en Chine et du relèvement des taux d’intérêt par les banques centrales pour juguler l’inflation. Selon les estimations du Fonds Monétaire international (FMI), la croissance mondiale devrait ralentir à 3,4 % en 2022, contre 6,1 % en 2021[1].',\n",
       "   'Selon cette même source, l’inflation mondiale a atteint 8,8 % en 2022, dépassant le niveau de 3,5% d’avant la pandémie. L’inflation annuelle moyenne s’est établie à +7,3 % dans les pays avancés et à +9,9 % dans les pays émergents et les pays en développement en 2022. En particulier, dans les pays en développement à faible revenu, l’inflation a dépassé 14 %.',\n",
       "   'Par ailleurs, dans la zone UEMOA, le taux d’inflation en moyenne annuelle est ressorti à +7,4%. Il est resté supérieur au seuil communautaire de 3,0% dans la quasi-totalité des Etats membres de l’Union.',\n",
       "   'Au Sénégal, le taux d’inflation s’est établi à +9,7% en 2022, après 2,2% l’année précédente. La tension sur les prix à la consommation est induite principalement par la hausse des prix des produits alimentaires résultant notamment de celle des cours mondiaux des matières premières de base. De même, la hausse des prix de certaines fonctions de consommation, telles que les « meubles, articles de ménage et entretien courant du foyer », les biens et services de « transports »,\\xa0 de « restaurants et hôtels », « d’enseignement », ainsi que de « logement, eau, gaz, électricité et autres combustibles » ont aussi concouru au relèvement des prix intérieurs.',\n",
       "   '[1] FMI, Perspectives de l’économie mondiale (PEM) de janvier 2023.'],\n",
       "  'description': 'Cette publication fait une analyse annuelle de l’évolution des prix à la consommation par fonction mais aussi selon les classifications secondaires (origine, secteur, durabilité). L’inflation corrigée de l’effet des produits saisonniers et énergétiques est également analysée. Ce document donne en plus la place du Sénégal dans l’UEMOA pour e qui concerne l’inflation. Les indices sur les douze mois de l’année écoulée, les indices moyens détaillés par fonction des six dernières années et les variations annuelles sont données en annexe ainsi que les taux d’inflation des pays de l’UEMOA, l’évolution de l’indice des prix depuis 1967 et les prix moyens mensuels des produits et services suivis.\\n',\n",
       "  'thème': 'PRIX'},\n",
       " \"Note d'Analyse trimestrielle de l'Indice des Prix à la Consommation\": {'source': 'https://www.ansd.sn/Indicateur/note-danalyse-trimestrielle-de-lindice-des-prix-la-consommation',\n",
       "  'data_publication': 'T3 2023',\n",
       "  'sommaire': [\"Au troisième trimestre 2023, les prix à la consommation ont augmenté de 4,0% par rapport au trimestre précédent. Cette hausse est due, principalement, à celle des prix des « produits alimentaires et boissons non alcoolisées » (+7,0%), des services de «\\xa0loisirs et culture\\xa0» (+1,9%) et de «\\xa0communication\\xa0» (+0,7%), ainsi que des «\\xa0biens et services divers\\xa0» (+0,6%) et de «\\xa0santé\\xa0» (+0,5%). Par contre, il est enregistré une baisse des prix des «\\xa0articles d'habillement et chaussures\\xa0» (-0,3%) et une constance de ceux des services «\\xa0d’enseignement\\xa0» pendant la période sous revue.\",\n",
       "   'Par ailleurs, en comparaison au trimestre correspondant de l’année 2022, les prix à la consommation se sont accrus de 4,9%, en relation avec la hausse des prix de toutes les fonctions de consommation, notamment ceux des « biens et services divers\\xa0»\\xa0(+6,2%), des « produits alimentaires et boissons non alcoolisées » (+5,8%) et des services de «\\xa0restaurants et hôtels\\xa0» (+5,5%).'],\n",
       "  'description': \"Cette publication fait une analyse trimestrielle de l'évolution des prix à la consommation global et par fonction mais aussi selon les classifications secondaires (origine, secteur, durabilité). Les indices des deux derniers trimestres écoulés, les évolutions sur un trimestre et sur l'année sont donnés en annexe, ainsi que les prix moyens trimestriels de quelques produits. Il existe également une publication annuelle qui donne une analyse de ces différentes fonctions au cours de l'année sous revue, la place du Sénégal dans l'UEMOA pour ce qui concerne l'inflation. Les indices sur les douze mois de l'année écoulée, les indices moyens détaillés par fonction des six dernières années et les variations annuelles sont données en annexes, ainsi que le taux d'inflation des pays de l'UEMOA, l'évolution de l'indice des prix depuis 1967 et les prix moyens mensuels des produits et services suivis.\\n\",\n",
       "  'thème': 'PRIX'},\n",
       " 'Indice Harmonisé des Prix à la Consommation (IHPC, Base 100 en 2014)': {'source': 'https://www.ansd.sn/Indicateur/indice-harmonise-des-prix-la-consommation-ihpc-base-100-en-2014',\n",
       "  'data_publication': 'Novembre 2023',\n",
       "  'sommaire': ['Les prix à la consommation du mois de novembre 2023 ont diminué de 1,2%, comparés à ceux du mois précédent, en liaison, principalement, avec le repli des prix des « produits alimentaires et boissons non alcoolisées » (-2,5%). Toutefois, le renchérissement des services de « communication » (+2,8%), des « restaurants et hôtels » (+1,0%), des « biens et services divers » (+0,7%), des « meubles, articles de ménage et entretien courant du foyer » (+0,6%) ainsi que des services de « transports » (+0,3%) a amoindri cette baisse. Par rapport au mois de novembre 2022, les prix à la consommation se sont accrus de 0,9%. Les prix des « produits alimentaires et boissons non alcoolisées » ont chuté de 2,5% en rythme mensuel. Cette réduction est liée à celle des prix des poissons frais (-12,5%), des tubercules et plantains (-7,7%), des légumes frais en fruits ou racine (-3,0%) ainsi que de l’huile (-2,3%). De même la diminution des prix des céréales non transformées de 1,8% a contribué à cette tendance baissière. Comparés au mois de novembre 2022, les prix des produits de cette fonction se sont repliés de 0,1%.'],\n",
       "  'description': \"L’Agence Nationale de la Statistique et de la Démographie (ANSD) produit et publie tous les mois l'Indice Harmonisé des Prix à la Consommation (IHPC). Cet indice base 100 en 2014, mesure l’évolution des prix à la consommation au plan national. Les indices sont de type Laspeyres et la principale source identifiée pour les pondérations est la deuxième Enquête de Suivi de la Pauvreté au Sénégal (ESPS-II) de 2011. Le champ couvert par l’indice harmonisé des prix à la consommation est l’ensemble du pays découpé en zones écologiques/économiques, à savoir le Sud, le Nord, le Centre Nord, l’Ouest et le Centre Sud. Ces cinq zones sont représentées respectivement par Kolda, Saint Louis, Diourbel, Dakar et Kaolack. La collecte des prix se fait dans les capitales de ces régions. L’IHPC est publié selon la classification des fonctions de consommation des ménages à 12 fonctions (COICOP ). Et la méthodologie de calcul est commune aux huit pays de l'UEMOA.\\n\",\n",
       "  'thème': 'PRIX'},\n",
       " 'Indice des Prix à la Production Industrielle (IPPI)': {'source': 'https://www.ansd.sn/Indicateur/indice-des-prix-la-production-industrielle-ippi',\n",
       "  'data_publication': 'Novembre 2023',\n",
       "  'sommaire': [\"L’activité industrielle est marquée, en novembre 2023, par une augmentation de 0,4% des prix de la production industrielle hors égrenage de coton, comparativement à ceux du mois précédent. Cette situation est induite par le renchérissement des prix des produits des industries extractives (+1,5%). Toutefois, les prix des produits manufacturés, des industries environnementales, ainsi que de l'électricité, eau et gaz n’ont pas connu de variation. \",\n",
       "   'En variation annuelle, les prix de la production industrielle hors égrenage de coton se sont relevés de 0,8% en novembre 2023, sous l’effet de l’appréciation des prix des produits de l’électricité, eau et gaz (+7,7%) et de ceux des produits extractifs (+3,7%). Cependant, sur les onze premiers mois de 2023, les prix de production industrielle ont diminué de 1,0% comparativement à leurs niveaux à la période correspondante de 2022.',\n",
       "   'S’agissant de l’égrenage de coton, les prix ont augmenté de 15,1% en variation mensuelle. En revanche, ils ont diminué respectivement de 1,4% et de 12,9% en variation annuelle et en cumul sur les onze premiers mois de 2023.',\n",
       "   \"L’activité industrielle est marquée, en novembre 2023, par une augmentation de 0,4% des prix de la production industrielle hors égrenage de coton, comparativement à ceux du mois précédent. Cette situation est induite par le renchérissement des prix des produits des industries extractives (+1,5%). Toutefois, les prix des produits manufacturés, des industries environnementales, ainsi que de l'électricité, eau et gaz n’ont pas connu de variation. \",\n",
       "   'En variation annuelle, les prix de la production industrielle hors égrenage de coton se sont relevés de 0,8% en novembre 2023, sous l’effet de l’appréciation des prix des produits de l’électricité, eau et gaz (+7,7%) et de ceux des produits extractifs (+3,7%). Cependant, sur les onze premiers mois de 2023, les prix de production industrielle ont diminué de 1,0% comparativement à leurs niveaux à la période correspondante de 2022.',\n",
       "   'S’agissant de l’égrenage de coton, les prix ont augmenté de 15,1% en variation mensuelle. En revanche, ils ont diminué respectivement de 1,4% et de 12,9% en variation annuelle et en cumul sur les onze premiers mois de 2023.'],\n",
       "  'description': 'L’Agence nationale de la Statistique et de la Démographie (ANSD) met à votre disposition cette note mensuelle sur l’Indice des Prix de Production Industrielle (IPPI). Cet indice rénové, base 100 en 2015, mesure l’évolution des prix de production, départ usine et hors taxe et marge de transport. Les principaux changements apportés par la rénovation ont trait à la nomenclature, au champ de couverture, aux pondérations, aux techniques de calcul, et aux données de base. Ainsi, le nouveau champ d’application de l’IPPI se définit par rapport à la CITI rev4/NAEMA rev1 et couvre les sections B (Activités extractives), C (Activités de fabrication), D (Production et distribution d’électricité, de gaz, de vapeur et de climatisation), E (Approvisionnement en eau, activités d’assainissement et de gestion des déchets, dépollution) ainsi que les services « dits industriels » qui n’étaient pas pris en compte dans la version antérieure de l’IPPI. En revanche, certaines activités des sections B, C, D et E de la NAEMA, en l’occurrence l’égrenage de coton sont exclues du champ. S’agissant du calcul des indices, il est fait recours à un système de double pondération dynamique (utilisation simultanée du chiffre d’affaires et des valeurs ajoutées actualisées chaque année) contrairement à l’ancien IPPI où les pondérations étaient déterminées avec le chiffre d’affaires fixé à l’année de base. L’échantillon à l’année de base compte 72 entreprises couvrant 89,8% de la valeur ajoutée du tissu industriel. Celui-ci est actualisé chaque année avec le système des années de référence. L’indice est publié mensuellement et est disponible au plus tard 30 jours après la fin du mois sous revue. Il est susceptible d’être révisé lorsque le taux de réponse est inférieur 100%. Les présents indicateurs sont établis avec un taux de réponse de 82,4%.\\n',\n",
       "  'thème': 'INDUSTRIE'},\n",
       " 'Indices des Prix de Production des Services (IPPS)': {'source': 'https://www.ansd.sn/Indicateur/indices-des-prix-de-production-des-services-ipps',\n",
       "  'data_publication': 'T3 2023',\n",
       "  'sommaire': ['Les prix de production des services d’hébergement et de restauration ont augmenté de 0,4% au troisième trimestre 2023, comparés à ceux du trimestre précédent, sous l’effet du renchérissement des services de restauration (+1,8%). Quant aux prix des services d’hebergement, ils ont légérement baissé (-0,1%) sur la période sous revue. En variation trimestrielle, les prix de production des services spécialisés, scientifiques et techniques se sont relevés de 0,2% au troisième trimestre 2023, sous l’effet de la hausse des prix des services comptables (+0,7%), de publicité (+0,1%) et d’architecture et d’ingénierie (+0,1%). Au troisième trimestre 2023, les prix de production des services de soutien et de bureau ont haussé de 1,3% comparativement à ceux du trimestre précédent. Cette évolution est imputable à l’augmentation des prix des services d’enquêtes et de sécurité (+2,5%).'],\n",
       "  'description': 'L’Agence Nationale de la Statistique et de la Démographie (ANSD) met à votre disposition cette note trimestrielle sur les indices des Prix de Production des Services (IPPS). Ces indices couvrent les services de transport et d’entreposage, d’hébergement et de restauration, de soutien et de bureau, spécialisés, scientifiques et techniques ainsi que ceux immobiliers. La nomenclature d’activités et de produits utilisée est celle des Etats membres d’AFRISTAT (NAEMA rev.1). L’échantillon est tiré au niveau du répertoire des entreprises de l’ANSD. Les indices sont de type Laspeyres, à pondération par la valeur ajoutée des entreprises à l’année de base. L’indice est publié au plus tard 60 jours après la fin du trimestre sous revue.\\n',\n",
       "  'thème': 'PRIX'},\n",
       " 'Immatriculation au NINEA : chiffres clés, tendances et évolutions': {'source': 'https://www.ansd.sn/Indicateur/immatriculation-au-ninea-chiffres-cles-tendances-et-evolutions',\n",
       "  'data_publication': 'T3 2023',\n",
       "  'sommaire': ['Au troisième trimestre de 2023, le Répertoire National des Entreprises et Associations (RNEA) a enregistré une augmentation significative des nouvelles immatriculations, atteignant 25 302 unités. Cela équivaut à une hausse de 4 908 unités par rapport au trimestre précédent, soit 24,07%, et 18,83% par rapport au même trimestre en 2022.',\n",
       "   'En ce qui concerne la répartition géographique, la région de Dakar se démarque en enregistrant 58,56% de toutes les immatriculations. Elle est suivie des régions de Thiès (13,24%), Diourbel (6,25%), et Kaolack (4,95%). Cependant, les régions de Kédougou (0,77%), Sédhiou (0,83%), et Kaffrine (1,17%) affichent les taux les plus bas.',\n",
       "   \"La grande majorité des nouvelles immatriculations correspond à des entreprises individuelles, totalisant 74,78% du nombre total. Les autres régimes juridiques, tels que les Groupements d'Intérêt Économique (GIE), les Sociétés à Responsabilité Limitée (SARL), et les Sociétés Unipersonnelles à Responsabilité Limitée (SUARL), suivent avec respectivement 5,26%, 2,30%, et 1,99% du total des immatriculations.\",\n",
       "   'Le secteur du commerce apparait comme étant le secteur le plus attractif pour les nouvelles créations. En effet, 30,12% des entreprises morales se consacrent à des activités commerciales contre 70,61% pour les entreprises individuelles. Pour ces dernières, en dehors du commerce, les \"Services personnels et divers\" représentent 9,52% des immatriculations, suivis des \"Services fournis aux entreprises\" (5,19%) et de l\\'agriculture, de l\\'élevage et de la pêche (3,00%). En revanche, le secteur des \"Hôtels, bars et restaurants\" est moins représenté, avec seulement 1,03%.',\n",
       "   \"Selon le genre des propriétaires d'entreprises individuelles, les hommes dominent largement avec une part de marché de 73,14% au troisième trimestre 2023, tandis que les femmes représentent 26,86% des nouvelles créations d'entreprises.\"],\n",
       "  'description': 'L’immatriculation au NINEA englobe les entreprises exerçant une activité au Sénégal, les associations nationales ou étrangères régulièrement déclarées ou autorisées, les syndicats professionnels, les administrations publiques centrales, les établissements publics, les collectivités locales et les partis politiques, les opérateurs occasionnels, les propriétaires fonciers, les organisations non gouvernementales (ONG), etc. L’ensemble de toutes ces unités constitue le Répertoire national des Entreprises et Associations (RNEA). Il représente la base de données exhaustive des unités économiques enregistrées s’activant sur le territoire national. Il rassemble, pour chaque unité, les informations d’identification, de localisation, de classification, etc. Le RNEA revêt une importance capitale pour les usagers internes et externes au système statistique national dans la mesure où il constitue\\xa0une :\\nréférence pour l’analyse des statistiques d’entreprises\\xa0;\\nbase de sondage pour les enquêtes sur les entreprises\\xa0;\\nsource d’informations fiables sur la structure et la démographie des entreprises\\xa0;\\nbase d’appariement des données sur les entreprises issues de sources distinctes, etc.\\nLa publication dénommée «\\xa0Immatriculation au NINEA\\xa0: chiffres clés, tendances et évolutions\\xa0» rentre dans le cadre de diffusion d’informations sur les statistiques d’entreprises en vue d’orienter les décisions de politiques économiques des pouvoirs publics, des collectivités, des investisseurs, etc. Elle offre, d’une part, une photographie de l’ensemble des unités immatriculées au NINEA au cours du trimestre et leurs principales caractéristiques (secteur d’activité, statut juridique, zone d’implantation, etc.) en accordant un intérêt particulier aux entreprises individuelles. D’autre part, elle met l’accent sur l’évolution des créations tout en faisant ressortir les tendances aux niveaux global et sectoriel.\\n',\n",
       "  'thème': 'STATISTIQUES_D_ENTREPRISE'},\n",
       " 'Indice du Chiffre d’Affaires dans la Construction (ICAC)': {'source': 'https://www.ansd.sn/Indicateur/indice-du-chiffre-daffaires-dans-la-construction-icac',\n",
       "  'data_publication': 'T3 2023',\n",
       "  'sommaire': ['Au troisième trimestre 2023, le chiffre d’affaires (CA) réalisé dans le secteur de la construction a fortement progressé (+68,8%), relativement à celui du même trimestre de 2022. Cette évolution résulte du relèvement simultané des chiffres d’affaires dans tous ses sous-secteurs. De même, en cumul sur les trois premiers trimestres de 2023, le chiffre d’affaires réalisé dans le secteur de la construction s’est amélioré de 28,5% comparativement à celui de la même période de 2022. Relativement au troisième trimestre 2022, le chiffre d’affaires dans la construction de bâtiments a progressé de 42,4%'],\n",
       "  'description': \"Le champ d’application de l’ICAC suivant les nouvelles recommandations se définit par rapport à la CITI rev4/NAEMA rev1. Ainsi, l’ICAC couvre la construction de bâtiments entiers (habitations, bureaux, magasins et autres bâtiments publics, industriels, agricoles, etc.), la construction d'ouvrages complets de génie civil tels que les réseaux routiers ou ferroviaires, les ponts, tunnels, ports et aéroports, installations industrielles ou sportives, etc. Ces travaux peuvent être réalisés pour compte propre en vue de la vente (promotion immobilière notamment).\\n\",\n",
       "  'thème': 'BÂTIMENTS_ET_TRAVAUX_PUBLICS_'},\n",
       " 'Banque de Données Economiques et Financières (BDEF)': {'source': 'https://www.ansd.sn/Indicateur/banque-de-donnees-economiques-et-financieres-bdef',\n",
       "  'data_publication': 'N°2022',\n",
       "  'sommaire': ['La production des entreprises a bondi de 16,8% en 2022 après une évolution de +23,7% en 2021. En valeur absolue, elle s’est établie à 14 052,7 milliards FCFA en 2022 contre 12 028,1 milliards FCFA en 2021.\\nCette dynamique de la production a induit une hausse de 15,3% de la valeur ajoutée (VA) passant de 3 110,7 milliards FCFA en 2021 à 3 587,0 milliards FCFA en 2022. Cependant, le taux de valeur ajoutée a légèrement baissé de 0,3 point en s’établissant à 25,5% en 2022.\\nDans ce même sillage, le chiffre d’affaires des entreprises du secteur moderne est passé de 16 856,1 milliards FCFA en 2021 à 20 135,2 milliards FCFA en 2022, soit un bond de 22,0%.\\nQuant au résultat net des entreprises du secteur moderne, il s’est aussi amélioré en s’établissant à 619,7 milliards FCFA en 2022 contre 244,7 milliards FCFA en 2021.\\nPar ailleurs, les entreprises ont pu dégager un excédent de trésorerie assez important évalué à 1 690,2 milliards FCFA en 2022 contre 1 397,2 milliards FCFA en 2021, soit une nette amélioration de 21,0%.\\nL’autonomie financière des entreprises formelles a chuté de 8,8 points en 2022 en s’établissant à 46,2%. En plus, le ratio de solvabilité a fléchi de 0,8 point en se situant à 14,4% en 2022. Par ailleurs, le ratio de fonds de roulement des entreprises s’est accru de 4,6 points en 2022 et se chiffre à 88,6%.\\nEn ce qui concerne les rentabilités économiques et financières, elles ont poursuivi leur croissance en 2022, après avoir reculé en 2020. Elles se sont respectivement établies à 7,7% et 12,7% en 2022, contre 5,7% pour les deux indicateurs en 2021.'],\n",
       "  'description': 'Cette publication est issue de l’exploitation des documents de fin d’exercice fournis au Centre Unique de Collecte d’Information (CUCI) par les entreprises soumises au plan comptable SYSCOA. Elle informe sur l’activité des entreprises à travers des tableaux de : Bilan (actif et passif) Comptes de résultats (charges et produits) Ratios de gestion et structure financière Soldes caractéristiques du tableau financier des ressources et des emplois Les informations sont fournies pour l’ensemble du secteur dit moderne ; quatre macro secteurs ; neuf groupes de secteurs et trente cinq secteurs d’activités. Les informations sont disponibles pour les sept dernières années et la méthodologie figure en annexe.\\n',\n",
       "  'thème': 'STATISTIQUES_D_ENTREPRISE'},\n",
       " 'Enquête sur l’Emploi, la Rémunération et les Heures de Travail (EERH)': {'source': 'https://www.ansd.sn/Indicateur/enquete-sur-lemploi-la-remuneration-et-les-heures-de-travail-eerh-0',\n",
       "  'data_publication': 'T2 2023',\n",
       "  'sommaire': ['Au deuxième trimestre 2023, le nombre d’employés salariés dans le secteur moderne hors administration publique est évalué à 340\\xa0641 contre 336\\xa0037 un an plus tôt, soit une progression de 1,4%. De même, les rémunérations globales ont progressé de 2,4% sur la même période, passant de 349,9 milliards de FCFA à 358,2 milliards de FCFA. Concernant les heures hebdomadaires moyennes travaillées par employé, elles ont diminué sur la période (-1,1%). \\xa0',\n",
       "   'Le nombre d’employés dans le secteur moderne, hors administration publique, s’est accru de 1,4% au deuxième trimestre 2023, comparativement à celui de la période correspondante de l’année précédente. Cette évolution est consécutive à l’augmentation des effectifs dans le commerce (+10,0%), l’industrie (+1,4%) et, dans une moindre mesure, les services (+1,1%). En revanche, elle a été amoindrie par le repli des effectifs dans la construction (-12,5%).'],\n",
       "  'description': 'L’Agence Nationale de la Statistique et de la Démographie (ANSD) met à votre disposition cette note d’analyse trimestrielle de l’Enquête sur l’Emploi, la Rémunération et les Heures de travail (EERH). Elle permet de dresser une gamme d’indicateurs trimestriels sur l’offre d’emploi salarié, la rémunération brute des employés, les heures travaillées auprès des entreprises du secteur formel, en l’occurrence celles évoluant dans l’industrie, la construction, le commerce et les services. Toutefois, ces indicateurs ne prennent pas en compte les employés de l’administration publique.\\n',\n",
       "  'thème': 'EMPLOI_ET_TRAVAIL'},\n",
       " 'Indice Harmonisé de la Production Industrielle (IHPI)': {'source': 'https://www.ansd.sn/Indicateur/indice-harmonise-de-la-production-industrielle-ihpi',\n",
       "  'data_publication': 'Octobre 2023',\n",
       "  'sommaire': ['L’activité des industries extractives se bonifie en octobre 2023\\xa0En référence au mois correspondant de 2022, la production des industries extractives a progressé de 6,9% en octobre 2023, sous l’effet de la forte hausse de la production des autres produits des\\xa0industries extractives (+114,5%).\\xa0Sur les dix premiers mois de 2023, la production des industries extractives s’est légèrement améliorée\\xa0de 0,5%, comparativement à celle de la période correspondante de 2022.\\xa0Par rapport au mois correspondant de 2022, la production d’électricité, de gaz et d’eau s’est accrue de\\xa017,8% en octobre 2023. Cette augmentation est imputable à la performance notée dans la production\\xa0d’électricité et de gaz (+21,1%) ainsi que d’eau (+5,8%).\\nDe même, en cumul sur les dix premiers mois de l’année 2023, la production d’électricité, de gaz et\\xa0d’eau a progressé de 14,6%, comparée à celle de la période correspondante de 2022.'],\n",
       "  'description': \"Cette publication mensuelle traduit l’évolution de l'activité industrielle à travers l’Indice Harmonisé de la Production Industrielle (IHPI). L’indice, base 100 en 2006, couvre les industries extractives, alimentaires, chimiques, mécaniques, les industries de textiles et de cuir, de bois, de papier et de carton, de l’énergie, de matériaux de construction et les autres industries manufacturières. La nomenclature d’activités et de produits utilisée est celle des Etats membres d’AFRISTAT. Les indices sont de type Laspeyres, à pondération constante par les valeurs ajoutées de l’année de base. L’échantillon représente 69 entreprises couvrant 89,8% de la valeur ajoutée industrielle du pays. L’indice est publié au plus tard 45 jours après la fin du mois sous revue. Les composantes sont : - L'évolution par branche et sous branche de l'IHPI du mois sous revue, ainsi que ceux des mois précédents de l’année en cours ; - L'évolution de l'IHPI du mois revue par rapport à la période correspondante de l'année précédente; - Les principales productions industrielles en quantités.\\n\",\n",
       "  'thème': 'INDUSTRIE'},\n",
       " 'Résultats du Recensement Général des Entreprises (RGE) ': {'source': 'https://www.ansd.sn/Indicateur/resultats-du-recensement-general-des-entreprises-rge',\n",
       "  'data_publication': 'Rapport global RGE 2016 ',\n",
       "  'sommaire': [\"Le RGE a permis de dénombrer 407 882 unités économiques réparties sur l'ensemble du pays. Cependant, la plupart de ces unités se situent dans la région de Dakar (39,5%), suivie de celles de Thiès (11,5%), Diourbel (9,4%) et Kaolack (5,9%). Les entreprises individuelles (82,3%) sont les plus représentées et elles évoluent majoritairement dans le secteur informel. S'agissant des personnes morales, les Groupements d'Intérêts économiques (GIE) et les Sociétés à Responsabilité limitée (SARL) dominent avec des proportions respectives de 53,7% et 20,3%. Par ailleurs, l'environnement des entreprises sénégalaises est marqué par une forte présence de petites et moyennes Entreprises1 (99,8%), dont 81,8% sont des entreprenants. Concernant la mise en place des entreprises, la plupart sont des créations initiales, les cas d’absorption et de fusion ne représentent que 0,5%. Le RGE a dénombré une part négligeable d'entreprises en arrêt momentané de leurs activités pendant la collecte (0,07%) du fait du manque de fonds (48,8%), de baisse de la vente (16,9%), de l’indisponibilité du personnel (10,2%), du manque de matériels (8,5%)et de l'indisponibilité de local adapté pour exercer leurs activités (5,8%).\"],\n",
       "  'description': 'Dans le cadre du Recensement général des Entreprises, toutes les unités économiques des secteurs formel et informel disposant d’un local aménagé devraient être recensées. Font également partie du champ les exploitations agricoles, la pêche artisanale (pêcheurs immatriculés), les organisations professionnelles et patronales et les Groupements d’Intérêt économique. Les entreprises de transport (terrestre, par eau et aérien, auxiliaires de transport) sont aussi concernées par le RGE. Concernant l’agriculture, seules les exploitations agricoles situées à l’intérieur et autour des zones d’habitations, en particulier les vergers ont été enquêtées. Egalement, un grand nombre d’entreprises des secteurs du transport et de la pêche n’a pas encore été pris en compte. Deux recensements complémentaires sont prévus pour combler ce gap à savoir le RGE/Agricole et le RGE/Transport.\\n',\n",
       "  'thème': 'STATISTIQUES_D_ENTREPRISE'},\n",
       " \"Indices du Chiffre d’Affaires dans l'Industrie (ICAI)\": {'source': 'https://www.ansd.sn/Indicateur/indices-du-chiffre-daffaires-dans-lindustrie-icai',\n",
       "  'data_publication': 'T3 2023',\n",
       "  'sommaire': ['Le chiffre d’affaires dans l’industrie a diminué de 4,6% au troisième trimestre 2023, comparé à celui de la même période de 2022, sous l’effet du repli de celui des industries extractives (-21,7%) et manufacturières (-3,6%). En revanche, les chiffres d’affaires des industries de production d’électricité de gaz et d’eau (+26,0%) et environnementales (+9,4%) se sont améliorés sur la période sous revue.',\n",
       "   'En cumul sur les neuf premier mois de 2023, le chiffre d’affaires dans l’industrie s’est bonifié de 1,9% en comparaison à celui de la même période de 2022.'],\n",
       "  'description': 'L’Agence nationale de la Statistique et de la Démographie (ANSD) met à votre disposition cette note trimestrielle sur l’Indice du chiffre d’affaires dans l’industrie. Cet indicateur, base 100 en 2016, mesure l’évolution des ventes des biens et services dans l’industrie. Le champ d’application de l’ICA dans l’industrie se définit par rapport à la CITI rev4/NAEMA rev1 et couvre les sections B (Activités extractives), C (Activités de fabrication), D (Production et distribution d’électricité, de gaz, de vapeur et de climatisation), E (Approvisionnement en eau, activités d’assainissement et de gestion des déchets, dépollution). En revanche, certaines activités des sections B, C, D et E de la NAEMA rev1, en l’occurrence l’égrenage de coton sont exclues du champ. S’agissant du calcul des indices, il est fait recours à un système de double pondération dynamique (utilisation simultanée du chiffre d’affaires et des valeurs ajoutées actualisées chaque année). L’échantillon à l’année de base compte 71 entreprises couvrant 89,8% de la valeur ajoutée du tissu industriel. Celui-ci est actualisé chaque année avec le système des années de référence. L’indice est publié trimestriellement et est disponible au plus tard 75 jours après la fin du trimestre sous revue. Il est susceptible d’être révisé lorsque le taux de réponse est inférieur à 100%. Le calcul des indices corrigés des variations saisonnières (cvs) n’est pas encore effectué ; les analyses sont faites en variation annuelle. Les présents indicateurs sont établis avec un taux de réponse de 93,4%.\\n',\n",
       "  'thème': 'INDUSTRIE'},\n",
       " 'Indices du Chiffre d’Affaires dans les Services (ICAS)': {'source': 'https://www.ansd.sn/Indicateur/indices-du-chiffre-daffaires-dans-les-services-icas',\n",
       "  'data_publication': 'T3 2023',\n",
       "  'sommaire': ['Le chiffre d’affaires dans l’industrie a diminué de 4,6% au troisième trimestre 2023, comparé à celui de la même période de 2022, sous l’effet du repli de celui des industries extractives (-21,7%) et manufacturières (-3,6%). En revanche, les chiffres d’affaires des industries de production d’électricité de gaz et d’eau (+26,0%) et environnementales (+9,4%) se sont améliorés sur la période sous revue.',\n",
       "   'En cumul sur les neuf premier mois de 2023, le chiffre d’affaires dans l’industrie s’est bonifié de 1,9% en comparaison à celui de la même période de 2022.'],\n",
       "  'description': 'L’Agence nationale de la Statistique et de la Démographie (ANSD) met à votre disposition cette note trimestrielle sur les Indices du chiffre d’affaires dans les services (ICAS). Ces indicateurs, base 100 en 2016, mesurent l’évolution du chiffre d’affaires des prestations de service. Les ICAS couvrent les sections H (Transports et Entreposage), L (Activités immobilières), M (Activités spécialisées, scientifiques et techniques), N (Activités de soutien et de bureau et I (Hébergement et Restauration). Les échantillons sont tirés du répertoire des entreprises de l’ANSD et sont actualisés chaque année avec le système des années de référence. Les indices sont publiés au plus tard 75 jours après la fin du trimestre sous revue. Ils sont susceptibles d’être révisés lorsque le taux de réponse est inférieur à 100%. Le calcul des indices corrigés des variations saisonnières (cvs) n’est pas encore effectué ; les analyses sont donc faites en variation annuelle. Les présents indicateurs sont établis avec un taux de réponse de 82,4% pour les services de soutien et de bureau, 73,5% pour l’immobilier, 75,2% pour l’hébergement et la restauration, 66,7% pour le transport et l’entreposage et enfin 52,7% pour les services spécialisés, scientifiques et techniques.\\n',\n",
       "  'thème': 'STATISTIQUES_D_ENTREPRISE'},\n",
       " 'Indice Mensuel des Prix du Commerce Extérieur - IPCE (Base 100 en 2014)': {'source': 'https://www.ansd.sn/Indicateur/indice-mensuel-des-prix-du-commerce-exterieur-ipce-base-100-en-2014',\n",
       "  'data_publication': 'Octobre 2023',\n",
       "  'sommaire': ['\\xa0',\n",
       "   '\\xa0Les prix des produits importés augmentent de 3,0%',\n",
       "   'En octobre 2023, les produits à l’importation se sont renchéris de 3,0%, comparés au mois précédent. Cette hausse s’explique par le relèvement des prix des «\\xa0produits minéraux\\xa0» qui y ont contribué à +1,6 points de pourcentage, des «\\xa0matériels de transport\\xa0» (+0,7) et des «\\xa0produits du règne végétal\\xa0» (+0,5). Toutefois, cette augmentation des prix des produits importés est partiellement amortie par la baisse des prix des « machines et appareils\\xa0» (-0,6). Par rapport au mois d’octobre 2022, les prix des produits importés ont reculé de 0,7%. Sur les dix premiers mois de 2023, les prix des produits achetés à l’extérieur se sont renchéris de 4,5%, en comparaison à ceux de la même période de 2022.',\n",
       "   'Les prix des produits exportés se contractent de 2,0%',\n",
       "   'Les prix des produits à l’exportation se sont dépréciés de 2,0% au mois d’octobre 2023, par rapport au mois précédent. Cette baisse est imputable à celle des prix des «\\xa0animaux vivants et produits du règne animal\\xa0» qui y ont contribué à -1,0 point de pourcentage, des « produits minéraux » (-0,9) et des «\\xa0produits du règne végétal\\xa0» (-0,4). Cependant, cette contraction des prix des produits exportés est atténuée par la hausse des prix des «\\xa0produits des industries alimentaires » (+0,4) et des «\\xa0produits des industries chimiques » (+0,3). Rapportés au mois d’octobre 2022, les prix des produits à l’exportation ont chuté de 12,7%. Sur les dix premiers mois de 2023, les prix de vente à l’extérieur se sont renchéris de 1,2%, relativement à ceux de la même période de 2022.'],\n",
       "  'description': 'La présente note mensuelle, issue de la rénovation (base 100 en 2014) des Indices des Valeurs Unitaires du commerce extérieur, fait ressortir le niveau et l’évolution des indices de valeurs unitaires (I.V.U) des marchandises échangées entre le Sénégal et le reste du monde. La valeur unitaire est obtenue en rapportant la valeur de la marchandise à son volume. Exprimée en francs CFA par kg, elle traduit le prix par unité de masse. Ces indices sont de type Laspeyres. La marchandise est valorisée CAF (Coût Assurance Fret) à l’importation et FAB (Franco A Bord) à l’exportation. Ces indices rénovés (Base 100 en 2014) font suite aux indices produits et publiés (Base 100 en 2005) depuis janvier 2010. La nomenclature des produits est celle du Système Harmonisé (SH) de désignation et de codification des marchandises à quatre digits (SH4). Cette dernière est une agrégation de produits élémentaires à 10 digits (SH10). L’innovation apportée à cette rénovation a trait : (i) à l’association des produits SH4 à leurs pays d’origine ou à leur pays de destination respectivement pour les importations et les exportations (SH4Pays) ; (ii) au calcul des indices élémentaires (SH4Pays) ; (iii) au calcul des indices par Section de la nomenclature du Système Harmonisé. A cet égard, l’échantillon pour chaque flux, est constitué de produits associés à leurs pays d’origine et à leurs pays de destination (SH4Pays). Le produit (SH4) associé au pays partenaire atténue la fluctuation des valeurs unitaires observées entre deux mois au regard de la structure des produits élémentaires qui le composent. Afin de dégager la tendance fondamentale des prix aux échanges extérieurs, un indice sous-jacent est calculé à côté d’un indice des produits volatiles qui, lui, rend compte de l’évolution des produits aux fortes variations des prix unitaires. Les données de base utilisées, principalement issues des statistiques douanières, sont relatives au commerce général.\\n',\n",
       "  'thème': 'ECHANGES_EXTÉRIEURS'},\n",
       " 'Autres rapports sur le commerce extérieur': {'source': 'https://www.ansd.sn/Indicateur/autres-rapports-sur-le-commerce-exterieur',\n",
       "  'data_publication': 'Rapport de surveillance de la politique commercial de l’UEMOA 2017',\n",
       "  'sommaire': ['Le présent rapport présente la situation de l’Union au plan commercial assortie de recommandations en vue de réduire ou de supprimer les barrières tarifaires et non tarifaires au commerce dans l’espace UEMOA.L’espace UEMOA maintiendrait, en 2017, son niveau de taux de croissance réel de 6,7% observé en 2016. L’activité économique s’est réalisée dans un environnement relativement stable sur le plan monétaire, caractérisé par une inflation modérée à 0,3% en 2016 contre 1% en 2015. L’inflation serait de 0,6% en 2017'],\n",
       "  'description': 'Cette catégorie regroupe des rapports spécifiques relatifs au commerce extérieur\\n',\n",
       "  'thème': 'ECHANGES_EXTÉRIEURS'},\n",
       " \"Note d'Analyse du Commerce Extérieur (NACE)\": {'source': 'https://www.ansd.sn/Indicateur/note-danalyse-du-commerce-exterieur-nace',\n",
       "  'data_publication': '2022',\n",
       "  'sommaire': ['Les exportations du Sénégal sont ressorties à 3 563,4 milliards de FCFA en 2022 contre 2 884,8 milliards de FCFA en 2021, soit une hausse de 23,5%. Cette progression est , notamment, consécutive à celle des expéditions de l’acide phosphorique (+77,8%), des produits pétroliers (+48,5), des produits halieutiques (+35,3%), du titane et du zircon (+35,3%) et de l’or\\xa0non monétaire (+7,6%). Cependant, les baisses des ventes des produits arachidiers (-40,2%) et du ciment hydraulique (-12,2%) ont réduit cette embellie.',\n",
       "   'Les expéditions du Sénégal sont principalement orientées, en 2022, vers les continents africain (39,4%), européen (25,0%) et asiatique (24,3%). La part de marché du continent européen s’est effritée d’environ quatre points de pourcentage au profit du continent asiatique.',\n",
       "   'Les importations du Sénégal ont bondi de 40,4% en 2022 pour atteindre 7 549,4 milliards de FCFA contre 5 378,5 milliards de FCFA en 2021. Cette évolution est imputable à la progression des achats à l’extérieur des produits pétroliers (+95,4%), des matériels de transport et pièces détachées (+57,3%), des produits céréaliers (+41,9%) et des produits manufacturés tels que les métaux communs et les ouvrages en métaux communs (+29,0%) et les machines et appareils (+15,7%). Toutefois, les importations d’huile brute de pétrole ont fléchi de 2,3%.',\n",
       "   'Les principaux fournisseurs du Sénégal ont été les pays de l’Europe et de l’Asie. Ils sont suivis de ceux de l’Afrique et de l’Amérique. Les parts des pays d’Europe (47,4% en 2022 après 49,0% en 2021) et de l’Afrique (11,9% en 2022 après 13,4% en 2021) ont diminué au profit des pays d’Asie (32,3% en 2022 après 29,4% en 2021).',\n",
       "   'La balance commerciale du Sénégal en 2022 s’est établie à -3 986,0 milliards de FCFA contre -2493,7 milliards de FCFA l’année précédente. Cette détérioration du solde est expliquée par une hausse des importations (+2\\xa0170,9 milliards de FCFA) plus importante que celle des exportations (+678,6 milliards de FCFA) en 2022.'],\n",
       "  'description': \"Cette publication fournit : - un résumé de la situation annuelle du commerce mondial à travers une revue de l'évolution du cours des matières premières (pétrole, oléagineux, coton, riz, sucre) pour l'année sous revue ; - l'évolution sur cinq ans des exportations et des importations du Sénégal pour les grands produits ; - l'orientation géographique des échanges ; - les échanges communautaires (pays de l'UEMOA) ; - le balance commerciale par continent sur cinq ans ; - le coefficient de dépendance de l'économie vis-à-vis du commerce ; - l'indice des termes de l'échange ; Et en annexe : - les pays partenaires - les pays clients - les importations et les exportations en valeur par partenaire et par produit ainsi que la nomenclature tarifaire et statistique de l'UEMOA.\\n\",\n",
       "  'thème': 'ECHANGES_EXTÉRIEURS'},\n",
       " 'Bulletin Mensuel des Statistiques du Commerce Extérieur': {'source': 'https://www.ansd.sn/Indicateur/bulletin-mensuel-des-statistiques-du-commerce-exterieur',\n",
       "  'data_publication': 'Septembre 2023',\n",
       "  'sommaire': ['Au mois d’octobre 2023, les exportations du Sénégal sont évaluées à 237,0 milliards de FCFA contre 214,0 milliards de FCFA au mois précédent, soit un accroissement de 10,7%. ',\n",
       "   'Les principaux clients du Sénégal ont été le Mali (24,4%), la Suisse (11,7%), l’Inde (11,0%), la République populaire de Chine (3,9%) et l’Australie (3,6%).',\n",
       "   'Les importations du mois d’octobre 2023 sont ressorties à 599,6 milliards de FCFA contre 562,2 milliards de FCFA au mois précédent, soit une hausse de 6,6%.',\n",
       "   'Les principaux fournisseurs du Sénégal ont été la République populaire de Chine (13,5%), les Emirats Arabes Unis (10,6%), le Nigeria (10,3%), la France (10,0%) et l’Inde (7,3%).',\n",
       "   'Le solde commercial s’est établi à -362,6 milliards de FCFA au mois d’octobre 2023 contre - 348,2 milliards de FCFA au mois précédent. '],\n",
       "  'description': \"Cette publication donne les statistiques des transactions internationales de marchandises du Sénégal avec le reste du monde, chaque mois. Le document présente l'évolution et la structure des exportations et des importations des principaux produits échangés, l'orientation géographique des échanges ainsi que la balance commerciale par pays partenaire. Les données publiées concernent le mois sous revue de l’année n, les trois mois qui le précédent, ainsi que le mois correspondant de l’année n-1.\\n\",\n",
       "  'thème': 'ECHANGES_EXTÉRIEURS'},\n",
       " 'Repères statistiques': {'source': 'https://www.ansd.sn/Indicateur/reperes-statistiques',\n",
       "  'data_publication': 'Octobre 2023',\n",
       "  'sommaire': ['La production totale d’électricité[1] de la SENELEC, en octobre 2023, a augmenté de 12,1% (664,0 GWH[2] après 592,5 GWH) par rapport au mois de septembre 2023. Cette dynamique est portée par l’accroissement\\xa0 des achats auprès des autres producteurs (+14,6%) ainsi que de sa propre production (+4,7%) sur la période.',\n",
       "   'Par rapport à octobre 2022, la production totale d’électricité a crû de 16,5%, sous l’effet de la forte progression des achats auprès des autres producteurs (+21,9%).\\xa0',\n",
       "   'Au mois sous revue, les productions en valeur de sel iodé (+45,3%) et d’attapulgite (+42,8%) se sont relevées par rapport au mois précédent. Par contre, celles du zircon (-12,0%) et de l’or (-1,5%) se sont contractées sur la période (après une augmentation de 38,4% et 32,2%, respectivement, en septembre 2023).',\n",
       "   'Comparées à un auparavant, les productions en valeur d’attapulgite (+103,2%), de zircon (+35,4%) et de l’or (+4,5%) se sont améliorées. Par contre, celle de sel iodé (-6,7%) a fléchi au cours de cette période.',\n",
       "   '[1] Production propre de la SENELEC + Achats auprès des autres producteurs.',\n",
       "   '[2] Gigawatt-heures. Les données des mois précédents ont été actualisées.',\n",
       "   '[1]aux mois précédents ainsi que de l’or (+32,2%) expliquée par la hausse des quantités produites due à une teneur en or plus élevée des fosses exploitées, en variation mensuelle. Par contre, celles du sel iodé (-21,1%) et de l’attapulgite (-14,8%) se sont contractées sur la période.',\n",
       "   '[1] Travaux de maintenance.',\n",
       "   '[1] Tirée par la forte variation des produits extractifs autres que les minerais métalliques (+110,1%).',\n",
       "   '[1] Production propre de la SENELEC + Achats auprès des autres producteurs',\n",
       "   '[2] Gigawatt-heures'],\n",
       "  'description': \"Le dépliant dénommé « Repères statistiques » constitue une synthèse des indicateurs contenus dans les publications régulières de l'ANSD, mais aussi des indicateurs économiques et financiers tirés du bulletin mensuel des statistiques économiques et de la note de conjoncture. Il permet de rendre l’information statistique plus facile à consulter et plus conviviale pour les usagers qui pourront, en cas de besoin, rechercher les publications concernées pour avoir plus de détails. Cette brochure comprend six parties principales : le contexte international, l’activité économique, les prix et la compétitivité, le secteur extérieur, les finances publiques et la situation monétaire. Le contexte international a trait à l’évolution du cours du baril de pétrole brut. L’activité économique concerne l’Indice Général d’Activité (IGA), les productions minières, l’électricité, le secteur industriel tel que l’Indice Harmonisé de la Production Industrielle (IHPI) et l’Indice du Chiffre d’Affaires (IGA), et le secteur tertiaire ayant trait au trafic maritime, aérien et ferroviaire. La partie « prix et compétitivité » présente l’évolution de l’Indice Harmonisé des Prix à la Consommation (IHPC), l’Indice des Prix à la Production Industrielles (IPPI), l’Indice des Prix du Commerce Extérieur (IPCE), ainsi que la compétitivité de l’économie sénégalaise. Le secteur extérieur a trait aux principaux produits échangés entre le Sénégal et le reste du monde, la balance commerciale ainsi que les principaux partenaires. Les finances publiques concernent les recettes budgétaires, les salaires et effectifs de l’administration centrale et le Tableau Provisoire des Opérations Financières de l'Etat (TOFE). La situation monétaire fait ressortir les caractéristiques des avoirs extérieurs nets, du crédit intérieur et de la masse monétaire.\\n\",\n",
       "  'thème': 'SYNTHÈSES_ÉCONOMIQUES'},\n",
       " 'Bulletin Mensuel des Statistiques Economiques et Financières': {'source': 'https://www.ansd.sn/Indicateur/bulletin-mensuel-des-statistiques-economiques-et-financieres',\n",
       "  'data_publication': 'Octobre 2023',\n",
       "  'sommaire': [\"Le présent Bulletin[1] résume les statistiques économiques et financières du mois de d'octobre 2023 réparties en quatre grandes parties, à savoir le secteur primaire, le secteur secondaire, le secteur tertiaire et les autres statistiques.\",\n",
       "   'la partie intitulée «\\xa0Autres statistiques\\xa0» résume les données sur les entreprises nouvellement immatriculées au Numéro d’Identification National des Entreprises et Associations, la situation de l’emploi dans le secteur formel, l’Indice Harmonisé des Prix à la Consommation, le commerce extérieur et les statistiques financières. ',\n",
       "   '[1] Le Bulletin mensuel des statistiques est publié au plus tard soixante jours après la fin du mois sous revu.'],\n",
       "  'description': \"Le Bulletin Mensuel des Statistiques Economiques et Financières donne les statistiques en quatre parties : Le primaire, le secondaire, le tertiaire et les autres statistiques. 1- Le secteur primaire comprend l'agriculture (résultats définitifs de la campagne agricole écoulée), les prix des produits céréaliers, l'élevage (abattages contrôlés au Sénégal) et l'horticulture. 2- Le secteur secondaire a trait à la production industrielle (quantité et indice), la consommation en électricité les l'Indice du Coût de la Construction (ICC). 3- Le secteur tertiaire traite des transports (terrestres, maritimes, aériens). 4- Les autres statistiques concernent le commerce extérieur (échanges en valeur), les prix (Indice Harmonisé des Prix à la Consommation détaillé sur quatre trimestres), les finances publiques et la situation monétaire.\\n\",\n",
       "  'thème': 'SYNTHÈSES_ÉCONOMIQUES'},\n",
       " 'Note sur les Evolutions Economiques Récentes (NEER)': {'source': 'https://www.ansd.sn/Indicateur/note-sur-les-evolutions-economiques-recentes-neer',\n",
       "  'data_publication': 'T2 2023',\n",
       "  'sommaire': ['Selon les estimations du FMI, l’activité économique mondiale devrait ralentir à 2,8% [1] en 2023 après 3,4% en 2022. Cette contreperformance est attribuable au durcissement des conditions financières mondiales et à la faiblesse de la demande extérieure. En Afrique subsaharienne, la persistance de l’inflation mondiale et le resserrement des politiques monétaires ont entraîné une hausse des coûts d’emprunt et exercé une pression accrue sur les taux de change. Cette situation a mis un coup d’arrêt sur la reprise et a entrainé un ralentissement de la croissance économique qui devrait s’établir à 3,6 % en 2023. ',\n",
       "   'Sur le plan interne, le Produit Intérieur Brut en volume corrigé des variations saisonnières (PIB-CVS) recule de 0,8% en variation trimestrielle. Par ailleurs, comparée à la période correspondante de 2022, la production industrielle se contracte de 7,6% au premier trimestre 2023. Cette contreperformance est attribuable à la diminution de la production des industries extractives (-13,1%), et celle des industries manufacturières (-8,0%).',\n",
       "   '[1] Fonds monétaire international | avril 2023',\n",
       "   '\\xa0',\n",
       "   '[1] Fonds monétaire international | Janvier 2023'],\n",
       "  'description': 'L’Agence Nationale de la Statistique et de la Démographie (ANSD), dans sa mission de production et de diffusion des données statistiques pour les besoins du Gouvernement, des administrations publiques, du secteur privé, des partenaires au développement et du public, produit une masse importante d’informations conjoncturelles relatives notamment aux prix à la consommation, aux prix à la production industrielle, à la production industrielle, au commerce extérieur, au Produit intérieur brut trimestriel (PIB). La Note sur les Evolutions Economiques Récentes (NEER) fait une analyse synthétique de toutes les informations conjoncturelles produites par l’ANSD. Elle fait le point sur la situation économique récente au Sénégal au cours du trimestre sous revue L’accent est mis sur les relations de causes à effets entre les différents indicateurs. La NEER retrace dans sa première partie, l’évolution du PIB trimestriel. La deuxième partie a trait à l’activité industrielle, la troisième aux prix intérieurs. La quatrième partie est relative à l’agrément au code des investissements et au statut d’entreprise franche d’exportation. Enfin, la cinquième est consacrée aux échanges extérieurs. La Note sur les Evolutions Economiques Récentes (NEER) est publiée au plus tard 75 jours après la fin du trimestre sous revue.\\n',\n",
       "  'thème': 'SYNTHÈSES_ÉCONOMIQUES'},\n",
       " 'SESN/Chapitre : Démographie': {'source': 'https://www.ansd.sn/Indicateur/sesnchapitre-demographie',\n",
       "  'data_publication': '2017-2018',\n",
       "  'sommaire': ['En 2017, la population du Sénégal est estimée à 15 256 360 habitants, contre 15 726 056 en 2018 et 4 997 885 en 1976. Ces chiffres montrent que la population a presque triplé en moins de 50 ans. Globalement, au vu des évolutions des dernières décennies, plusieurs facteurs expliquent cette situation. En effet, la dynamique démographique naturelle du Sénégal est marquée par une natalité toujours élevée (taux brut de natalité de 37,1 pour mille en 2017 et 36,8 pour mille en 2018) et une mortalité en constante baisse (taux brut de mortalité de 7,3 pour mille en 2017 et 7,1 pour mille en 2018). En outre, l’Indice Synthétique de Fécondité (ISF), qui mesure le nombre moyen d’enfants qu’aurait une femme en fin de vie féconde si elle avait des enfants aux taux de fécondité par âge actuels chez les femmes de 15-49 ans, présente une légère tendance à la baisse ces deux dernières années. Ainsi, elle est passée de 4,6 en 2017 à 4,4 en 2018.'],\n",
       "  'description': 'La Situation Economique et Sociale Nationale (SESN) est une publication annuelle qui fait la synthèse des informations statistiques émanant de l’ANSD et des autres structures du Système National Statistique (SSN), dans le cadre de l’exécution de leurs tâches quotidiennes. La SESN essaie d’embrasser la quasi- totalité des secteurs de l’activité économique et sociale en mettant en relief l’information quantitative, fournissant ainsi les principaux indicateurs économiques, sociaux et démographiques du Sénégal. Réalisée pour une année (N) en utilisant les données recueillies l’année précédente (N-1), la SESN constitue un véritable instrument de planification et d’aide à la prise de décision pour les principaux acteurs du développement de notre pays.\\n',\n",
       "  'thème': 'POPULATION'},\n",
       " 'Données de population': {'source': 'https://www.ansd.sn/Indicateur/donnees-de-population',\n",
       "  'data_publication': 'RGPH-5, 2023',\n",
       "  'sommaire': ['Télécharger le rapport préliminaire',\n",
       "   'Le rapport préliminaire donne globalement les tendances démographiques issues du cinquième Recensement général de la Population et de l’Habitat (RGPH-5). Les résultats portent sur les informations relatives à la population totale répartie par sexe, par âge, par grande division administrative et la typologie des ménages recensés.',\n",
       "   'Après les phases préparatoires entamées et exécutées entre 2021 et début 2023, le dénombrement général a été réalisé en mai-juin 2023.',\n",
       "   'Un taux d’accroissement moyen annuel intercensitaire resté constant entre 2013 et 2023',\n",
       "   'La population résidente au Sénégal, recensée en 2023 est de 18 032\\xa0473 habitants, dont 8 900\\xa0614 femmes (49,4%) et 9 131\\xa0859 hommes (50,6%).',\n",
       "   'Elle s’établissait à 13\\xa0508\\xa0715 habitants en 2013, soit un taux d’accroissement moyen annuel intercensitaire de 2,9% qui est resté constant entre les deux périodes. Avec une population de 4\\xa0958\\xa0085 en 1976 et 6\\xa0881\\xa0919 en 1988, les taux d’accroissement intercensitaires étaient respectivement de 2,7 % et 2,5 % pour 1976-1988 et 1988-2002.',\n",
       "   'Une population très jeune marquée par une prédominance de l’effectif des hommes par rapport aux femmes',\n",
       "   'La population sénégalaise se caractérise par sa grande jeunesse\\xa0: la moitié de la population est âgée de moins de 19 ans (18 ans chez les hommes contre 20 ans chez les femmes) et',\n",
       "   'Les enfants âgés de moins de 15 ans constituent 39,2% de la population globale. Cette catégorie est plus importante chez les garçons (40,6%) que chez les filles (37,6%). En outre, 3,8% de la population est âgée de 65 ans et plus.',\n",
       "   'En considérant les grands groupes d’âges, on observe un avantage numérique des hommes sur les femmes aux âges jeunes, moins de 15 ans avec 110,8 garçons pour 100 filles. Pour les tranches d’âges 15-34 ans et 60 ans ou plus, la tendance s’inverse en faveur des femmes avec respectivement 98,1 et 93,5 hommes pour 100 femmes.',\n",
       "   'Une population concentrée sur l’axe Dakar-Thiès-Diourbel (46,8%)',\n",
       "   'La population du Sénégal est répartie de façon inégale dans l’espace. Les plus fortes concentrations humaines s’observent à l’Ouest du pays, au Centre et vers le Nord-Ouest, tandis que l’Est et le Nord-Est demeurent faiblement peuplés.',\n",
       "   'La densité de la population initialement à 65 habitants au km² en 2013, est passée à 92 habitants au km² en 2023. La région de Dakar se démarque des autres avec une densité de\\xa0 7 277 habitants au km². La région de Kédougou est la moins peuplée avec une densité de 15 habitants au km².',\n",
       "   'En outre, le département de Mbacké est le plus peuplé au Sénégal suivi de celui de Dakar avec respectivement 1 359 757 et 1 182 416 habitants. Par ailleurs, Mbour (937 189) devient le troisième département, suivi du département de Thiès (880 266 habitants) et Rufisque (822 105 habitants) qui a connu une forte augmentation de sa population entre 2013 et 2023 (68%). A l’opposé, les départements les moins habités sont Salémata (28 111 habitants) ; Oussouye (52 883 habitants); Saraya (92 912 habitants) et Ranérou (103 283 habitants).',\n",
       "   'La taille moyenne des ménages est estimée à 9 individus par ménage en 2023. Elle est moins importante à Dakar avec 6 personnes. Par contre, dans les régions de Tambacounda, Sédhiou, Matam, Kaolack et Kaffrine, on trouve des tailles moyennes de 12 individus par ménage.',\n",
       "   '45,6% des ménages pratiquent une activité agricole',\n",
       "   'En 2023, on a dénombré 908\\xa0628 ménages qui ont une activité\\xa0 agricole[1], soit 45,6% des ménages du Sénégal. La pratique d’une activité agricole est plus fréquente dans les régions de Thiès, Dakar, Louga et Saint-Louis, suivie de Diourbel et Kaolack dans une moindre mesure. L’activité agricole au sens large est moins pratiquée dans les régions de Kédougou, Sédhiou et Ziguinchor.',\n",
       "   'Télécharger le rapport préliminaire',\n",
       "   '[1]Un ménage a une activité agricole si au moins un de ses membre pratique une activité agricole au sens large (culture pluviale, culture irriguée, culture de décrue, culture de bas fond, culture maraichère, aquaculture, culture florale ou ornementale, culture fourragère, plantation fruitière, élevage, pêche, chasse, foresterie), pour son propre compte ou pour le compte du ménage, sans y être salarié au cours des 12 derniers mois'],\n",
       "  'description': 'Les présentes projections démographiques ont été élaborées par l’Agence Nationale de la Statistique et de la Démographie au cours d’un atelier tenu en mai 2015. Ces projections sont issues d’un large consensus. Elles ont été réalisées avec la participation de techniciens issus d’horizon divers (Ministères de l’Economie des Finances et du Plan, Emploi, Travail, Education, Famille, Agriculture, Elevage, Santé, Jeunes) et UNFPA. Les hypothèses ont été formulées par rapport à une évolution probable des différents facteurs de la dynamique de la population, notamment: • La structure de la population, par sexe et par âge ; • La structure de la population selon le milieu de résidence (urbaine ou rurale) ; • L’Indice synthétique de fécondité comme indicateur de fécondité ; • L’espérance de vie ; • La structure de la mortalité (à travers l’emploi d’une table-type de mortalité, celle de Coale & Demeny Nord) ; • Le solde migratoire ; • Le niveau d’urbanisation.\\n',\n",
       "  'thème': 'POPULATION'},\n",
       " 'Autres documents sur la Population': {'source': 'https://www.ansd.sn/Indicateur/autres-documents-sur-la-population',\n",
       "  'data_publication': 'N°Atlas démographique du Sénégal : Rapport final, Août 2016 ',\n",
       "  'sommaire': ['L’Agence Nationale de la Statistique et de la Démographie a réalisé son quatrième (4ème) Recensement Général de la Population et de l’Habitat, de l’Agriculture et de l’Elevage (RGPHAE). Dans le cadre de la diffusion et de la valorisation des données du RGPHAE, l’atlas qui compte parmi les produits phares du recensement a été réalisé dans l’optique d’améliorer la qualité des analyses pour une meilleure compréhension des données par les usagers et les décideurs politiques.',\n",
       "   'L’ATLAS fournit des données désagrégées permettant d’éclairer les décisions politiques dans l’allocation des ressources indispensables au développement socio-économique durable et équitable. Il examine divers indicateurs sociodémographiques et économiques de chaque département. Ces indicateurs sont spatialisés au niveau départemental sur des cartes commentées afin d’en faciliter la lecture et l’aide à la prise de décision. L’essentiel des informations présentées dans cet ATLAS sont issues des données du dernier recensement de 2013.'],\n",
       "  'description': \"Cette partie regroupe les publications relatives aux statistiques de population. Elles sont constituées des chapitres relatifs à ce thème dans les Rapports des enquêtes et recensements et dans d'autres spécifiques relatives à la population.\\n\",\n",
       "  'thème': 'POPULATION'},\n",
       " 'Rapport des Enquêtes Démographiques et de Santé (EDS)': {'source': 'https://www.ansd.sn/Indicateur/rapport-des-enquetes-demographiques-et-de-sante-eds',\n",
       "  'data_publication': '2023',\n",
       "  'sommaire': ['Le Gouvernement du Sénégal vient de réaliser en 2023 la huitième phase de l’Enquête continue (EC) conformément au programme d’actions de la troisième Stratégie nationale de Développement de la Statistique (SNDS-III). L’Enquête continue (EC) comporte deux volets :',\n",
       "   'Le présent rapport présente les résultats clés et est conçu pour fournir aux décideurs, le plus rapidement après la fin de la collecte, des informations sur le niveau de certains indicateurs les plus importants. Il est essentiellement descriptif et ne couvre pas tous les domaines enquêtés. Le rapport final couvrira l’ensemble des domaines enquêtés avec une analyse plus élaborée des données, en fonction de certaines caractéristiques sociodémographiques des personnes interviewées.'],\n",
       "  'description': None,\n",
       "  'thème': 'SANTÉ'},\n",
       " 'Rapports du RGPHAE 2013 : Natalité': {'source': 'https://www.ansd.sn/Indicateur/rapports-du-rgphae-2013-natalite',\n",
       "  'data_publication': 'N°Chapitre Fécondité et stérilité ',\n",
       "  'sommaire': ['Les résultats du RGPHAE révèlent un niveau de fécondité toujours élevé et constant depuis 2002 avec en moyenne 5,1 enfants par femme. D’importantes disparités s’observent entre les milieux urbain et rural (4,1 et 6,2 enfants par femme respectivement). Au niveau régional, Dakar se singularise avec un indice synthétique de fécondité relativement faible (3,7 enfants par femme). On peut citer également les régions de Saint-Louis, Thiès (4,9 enfants par femme) avec des niveaux inférieurs à la moyenne nationale. A l’opposé, les régions de Sédhiou (7,2 enfants par femme), Matam (6,8 enfants par femme), Kaffrine et Tambacounda (6,9 enfants par femme)) conservent un niveau de fécondité relativement élevé. Depuis 2002, le niveau de la fécondité est resté stable et tourne autour de 5 enfants par femme, bien qu’il ait connu une baisse entre 1978 et 2002 (respectivement 7,1 et 5,3).',\n",
       "   'L’’infécondité initiale, mesurée par la proportion des femmes en âge de procréer sans enfants nés vivants, révèle qu’une femme (15-49 ans) sur trois n’a pas encore eu une naissance vivante au moment du Recensement (38%). Les régions fortement urbanisées telles que Dakar et Thiès sont plus concernées par le phénomène. L’infécondité totale qui s’apparente à la stérilité primaire définitive se retrouve surtout dans les régions de Kédougou, Tambacounda et Louga. En fin de vie féconde, le taux d’infécondité finale apparaît faible (6%) et montre que rares sont les femmes de plus de 49 ans qui restent sans enfant et ce, quel que soit le milieu de résidence. Cela traduit, au Sénégal, le caractère marginal du phénomène de stérilité définitive en matière de procréation.',\n",
       "   'Par ailleurs, les données ont montré que 16,6% de la population déclarent ne posséder aucun acte de naissance. Cette population se concentre plus en milieu rural (26,9%) et dans les régions de Kaffrine (38,7%), Tambacounda (38,0), Kolda (31,5%), Diourbel et Louga avec 25,4% chacune. En outre, cette situation touche plus les analphabètes (18,4%) et les personnes n’ayant aucun niveau d’instruction (23,9%). Enfin, les résultats révèlent que 25,6% des naissances d’1 an n’ont pas été déclarées à l’état civil et par conséquent, ces enfants ne possèdent encore aucun acte de naissance.'],\n",
       "  'description': 'Le Sénégal, à l’instar des autres pays africains, a réalisé son quatrième recensement de la population dans le cadre de la série des recensements de la population de la décennie 2010 (2005-2014) initiée par les Nations Unies, à travers le Fonds des Nations Unies pour la Population (UNFPA), son Agence spécialisée en la matière. Les principaux objectifs assignés à ce Recensement et dont la phase de dénombrement a été bouclée en décembre 2013 sont de fournir : a) des données sur les caractéristiques socio-démographiques de la population, b) des données sur les caractéristiques de l’Habitat, c) des données de référence pour les statistiques agro-pastorales courantes, d) des bases de sondage pour les enquêtes sociodémographiques et agro-pastorales, e) des données pour le suivi de l’avancement vers les objectifs de développement nationaux et mondiaux, en particulier les Objectifs du Millénaire pour le Développement (OMD).\\n',\n",
       "  'thème': 'NATALITÉ'},\n",
       " 'Rapports du RGPHAE 2013 : Mortalité': {'source': 'https://www.ansd.sn/Indicateur/rapports-du-rgphae-2013-mortalite',\n",
       "  'data_publication': 'N°Chapitre Mortalité ',\n",
       "  'sommaire': [\"L’analyse de la mortalité générale indique un taux brut de 8‰ au niveau national. Il est plus élevé en milieu rural (9‰) qu’en milieu urbain (6‰). Dans l’enfance, le taux de mortalité infantile est de 54‰ avec une surmortalité masculine (61‰ contre 47‰). Cette différence est plus marquée, quel que soit le sexe, en milieu rural (63‰) qu’en milieu urbain (42‰). De façon globale, au Sénégal, sur 1000 enfants nés vivants, 79 enfants n’atteignent pas leur cinquième anniversaire. Le niveau de la mortalité maternelle demeure dans l'ensemble élevé au Sénégal.\",\n",
       "   'Le rapport de mortalité maternelle est de 434 pour 100 000 naissances vivantes. Il est de 459 décès en milieu rural contre 398 décès en milieu urbain pour 100 000 naissances vivantes. Au niveau régional, ce ratio est plus élevé à Kédougou avec 921 décès pour 100 000 naissances vivantes. Par contre, il est plus faible à Thiès avec 271 décès pour 100 000 naissances vivantes. Selon l’âge des mères, les adolescentes de moins de 20 ans sont plus touchées par le phénomène avec 629 décès pour 100 000 naissances vivantes.',\n",
       "   \"Les résultats de l’analyse de la mortalité montrent qu'en 2013, le Sénégal connaît une espérance de vie à la naissance (tous sexes confondus) estimée à 64,8 ans. Les femmes vivent en moyenne plus longtemps que les hommes (66,5 ans contre 63,2 ans, respectivement). On note également un écart de 5 ans entre le milieu urbain (67,4 ans) et le milieu rural (62,7 ans). Au niveau régional, Dakar (69,6 ans) et Thiès (68,2 ans) ont les espérances de vie les plus longues, contrairement à Kolda (54,7 ans) et à Kédougou (55,0 ans) où la durée de vie des populations est, en moyenne, plus courte. Enfin, au Sénégal, les résultats du RGPHAE révèlent que les décès survenus dans le ménage sont rarement déclarés à l’état civil, avec 65,2 % des cas. La différence est nette entre les milieux urbain et rural, avec respectivement 31,7 % et 85,8 % des décès non déclarés à l’état civil.\"],\n",
       "  'description': 'Le Sénégal, à l’instar des autres pays africains, a réalisé son quatrième recensement de la population dans le cadre de la série des recensements de la population de la décennie 2010 (2005-2014) initiée par les Nations Unies, à travers le Fonds des Nations Unies pour la Population (UNFPA), son Agence spécialisée en la matière.\\nLes principaux objectifs assignés à ce Recensement et dont la phase de dénombrement a été bouclée en décembre 2013 sont de fournir : a) des données sur les caractéristiques socio-démographiques de la population, b) des données sur les caractéristiques de l’Habitat, c) des données de référence pour les statistiques agro-pastorales courantes, d) des bases de sondage pour les enquêtes sociodémographiques et agro-pastorales, e) des données pour le suivi de l’avancement vers les objectifs de développement nationaux et mondiaux, en particulier les Objectifs du Millénaire pour le Développement (OMD).\\n',\n",
       "  'thème': 'MORTALITÉ'},\n",
       " 'Rapports du RGPHAE 2013 : Fécondité': {'source': 'https://www.ansd.sn/Indicateur/rapports-du-rgphae-2013-fecondite',\n",
       "  'data_publication': 'N° Chapitre Fécondité et stérilité',\n",
       "  'sommaire': ['Les résultats du RGPHAE révèlent un niveau de fécondité toujours élevé et constant depuis 2002 avec en moyenne 5,1 enfants par femme. D’importantes disparités s’observent entre les milieux urbain et rural (4,1 et 6,2 enfants par femme respectivement). Au niveau régional, Dakar se singularise avec un indice synthétique de fécondité relativement faible (3,7 enfants par femme). On peut citer également les régions de Saint-Louis, Thiès (4,9 enfants par femme) avec des niveaux inférieurs à la moyenne nationale. A l’opposé, les régions de Sédhiou (7,2 enfants par femme), Matam (6,8 enfants par femme), Kaffrine et Tambacounda (6,9 enfants par femme)) conservent un niveau de fécondité relativement élevé. Depuis 2002, le niveau de la fécondité est resté stable et tourne autour de 5 enfants par femme, bien qu’il ait connu une baisse entre 1978 et 2002 (respectivement 7,1 et 5,3).',\n",
       "   'L’infécondité initiale, mesurée par la proportion des femmes en âge de procréer sans enfants nés vivants, révèle qu’une femme (15-49 ans) sur trois n’a pas encore eu une naissance vivante au moment du Recensement (38%). Les régions fortement urbanisées telles que Dakar et Thiès sont plus concernées par le phénomène. L’infécondité totale qui s’apparente à la stérilité primaire définitive se retrouve surtout dans les régions de Kédougou, Tambacounda et Louga. En fin de vie féconde, le taux d’infécondité finale apparaît faible (6%) et montre que rares sont les femmes de plus de 49 ans qui restent sans enfant et ce, quel que soit le milieu de résidence. Cela traduit, au Sénégal, le caractère marginal du phénomène de stérilité définitive en matière de procréation. Par ailleurs, les données ont montré que 16,6% de la population déclarent ne posséder aucun acte de naissance. Cette population se concentre plus en milieu rural (26,9%) et dans les régions de Kaffrine (38,7%), Tambacounda (38,0), Kolda (31,5%), Diourbel et Louga avec 25,4% chacune.',\n",
       "   'En outre, cette situation touche plus les analphabètes (18,4%) et les personnes n’ayant aucun niveau d’instruction (23,9%). Enfin, les résultats révèlent que 25,6% des naissances d’1 an n’ont pas été déclarées à l’état civil et par conséquent, ces enfants ne possèdent encore aucun acte de naissance.'],\n",
       "  'description': 'Le Sénégal, à l’instar des autres pays africains, a réalisé son quatrième recensement de la population dans le cadre de la série des recensements de la population de la décennie 2010 (2005-2014) initiée par les Nations Unies, à travers le Fonds des Nations Unies pour la Population (UNFPA), son Agence spécialisée en la matière. Les principaux objectifs assignés à ce Recensement et dont la phase de dénombrement a été bouclée en décembre 2013 sont de fournir : a) des données sur les caractéristiques socio-démographiques de la population, b) des données sur les caractéristiques de l’Habitat, c) des données de référence pour les statistiques agro-pastorales courantes, d) des bases de sondage pour les enquêtes sociodémographiques et agro-pastorales, e) des données pour le suivi de l’avancement vers les objectifs de développement nationaux et mondiaux, en particulier les Objectifs du Millénaire pour le Développement (OMD).\\n',\n",
       "  'thème': 'FÉCONDITÉ'},\n",
       " \"Rapports d'enquêtes et d'études sur la migration\": {'source': 'https://www.ansd.sn/Indicateur/rapports-denquetes-et-detudes-sur-la-migration',\n",
       "  'data_publication': 'N°Profil migratoire du Sénégal 2018 : Rapport global ',\n",
       "  'sommaire': ['Le présent rapport est la deuxième édition du profil migratoire du Sénégal après celle de 2009. Les informations contenues dans ce document sont produites par les services habilités. Le rapport a été réalisé par un consultant sous la supervision de l’Agence Nationale de la Statistique et de la Démographie et de l’Organisation Internationale pour les Migrations. L’élaboration du profil migratoire du Sénégal 2018 prend place dans le cadre du projet « Soutien à la liberté de circulation des personnes et migration en Afrique de l’ouest » qui est cofinancé par l’Union Européenne et la CEDEAO et mis en œuvre par l’OIM, l’OIT et l’ICMPD. Il s’inscrit dans le cadre d’un partenariat entre l’Agence Nationale de la Statistique et de la Démographie (ANSD) et l’Organisation internationale pour les migrations (OIM).'],\n",
       "  'description': \"Ce thème regroupe les rapports d'enquêtes et d'études réalisées sur la migration.\\n\",\n",
       "  'thème': 'MIGRATION'},\n",
       " 'SESN/Chapitre : Migration': {'source': 'https://www.ansd.sn/Indicateur/sesnchapitre-migration',\n",
       "  'data_publication': 'N°Migration 2017-2018',\n",
       "  'sommaire': ['Les migrations interrégionales se rapportent aux déplacements d’une région à une autre dans un même pays. Les résultats du tableau III.1 montrent que les régions de Dakar (48,8 %) et dans une moindre mesure Diourbel (15,2 %) et Thiès (10,0 %) reçoivent une part importante des immigrants. Ces mêmes régions enregistrent le plus de départs (Thiès 19,2 %, Dakar 12,0 % et Diourbel 11,3 %) vers d’autres régions de même que la région de Ziguinchor (13,7 %). Ce qui montre une forte intensité des échanges migratoires dans ces régions. Cependant, au regard des soldes migratoires, les régions de Dakar, Diourbel et Fatick attirent plus qu’elles n’émettent de migrants pour plusieurs raisons. L’attirance pour la région de Dakar serait due à son statut de capitale économique et administrative. Concernant la région de Diourbel, il est permis de penser qu’elle doit sa dimension attractive à la cité religieuse de Touba.'],\n",
       "  'description': 'La Situation Economique et Sociale Nationale (SESN) est une publication annuelle qui fait la synthèse des informations statistiques émanant de l’ANSD et des autres structures du Système National Statistique (SSN), dans le cadre de l’exécution de leurs tâches quotidiennes. La SESN essaie d’embrasser la quasi- totalité des secteurs de l’activité économique et sociale en mettant en relief l’information quantitative, fournissant ainsi les principaux indicateurs économiques, sociaux et démographiques du Sénégal. Réalisée pour une année (N) en utilisant les données recueillies l’année précédente (N-1), la SESN constitue un véritable instrument de planification et d’aide à la prise de décision pour les principaux acteurs du développement de notre pays.\\n',\n",
       "  'thème': 'MIGRATION'},\n",
       " 'Rapports du RGPHAE 2013 : Migration': {'source': 'https://www.ansd.sn/Indicateur/rapports-du-rgphae-2013-migration',\n",
       "  'data_publication': 'N° Chapitre Migration et Urbanisation ',\n",
       "  'sommaire': ['Au Sénégal, les migrants internes durée de vie sont estimés à 1 881 603 d’individus, soit 14,6% de la population. Les régions de Dakar, de Diourbel et de Thiès ont accueilli la majeure partie de ses flux migratoires, soit respectivement 41,8%, 15,5% et 12,9%. Les régions les plus répulsives sont Ziguinchor, Kaolack, Louga et Fatick avec des indices de sortie respectifs de 25,7%, 20,2%, 19,7% et 19,4%. Le bilan migratoire durée de vie montre que la région de Dakar a enregistré le solde migratoire le plus important (+685292), alors que la région de Saint-Louis affiche le solde négatif le plus important (-74486) suivie de Louga (-45449) et Ziguinchor (-31591). Au cours des 5 dernières années, les Sénégalais partis à l’étranger sont au nombre de 156676, soit 1,2% de la population. Les principales destinations sont l’Europe (44,4%) et les pays de l’Afrique Centrale (27,5%). Le principal motif de départ est le travail (73,5%). Les migrations internationales montrent que le Sénégal a accueilli 261 145 immigrants durée de vie, soit 2,0% de la population, qu’ils soient de nationalité sénégalaise ou non. Ces immigrants viennent pour l’essentiel de l’Afrique de l’Ouest, soit 84,4%. Cette dynamique migratoire, notamment interne, continue de modifier la structure de la population du pays. Au cours des trois dernières décennies, le taux d’urbanisation du Sénégal est passé de 34 % en 1976 à 39 % en 1988 et de 41 % en 2002 à 45,2% en 2013. En somme, le Sénégal se caractérise globalement par une urbanisation galopante. Celle-ci pourrait aussi être liée à la réforme de 2008 qui a vu l’érection de certaines localités rurales en commune.'],\n",
       "  'description': 'Le Sénégal, à l’instar des autres pays africains, a réalisé son quatrième recensement de la population dans le cadre de la série des recensements de la population de la décennie 2010 (2005-2014) initiée par les Nations Unies, à travers le Fonds des Nations Unies pour la Population (UNFPA), son Agence spécialisée en la matière. Les principaux objectifs assignés à ce Recensement et dont la phase de dénombrement a été bouclée en décembre 2013 sont de fournir : a) des données sur les caractéristiques socio-démographiques de la population, b) des données sur les caractéristiques de l’Habitat, c) des données de référence pour les statistiques agro-pastorales courantes, d) des bases de sondage pour les enquêtes sociodémographiques et agro-pastorales, e) des données pour le suivi de l’avancement vers les objectifs de développement nationaux et mondiaux, en particulier les Objectifs du Millénaire pour le Développement (OMD).\\n',\n",
       "  'thème': 'MIGRATION'},\n",
       " 'Bulletin semestriel sur les statistiques de la migration et de la mobilité internationale au Sénégal': {'source': 'https://www.ansd.sn/Indicateur/bulletin-semestriel-sur-les-statistiques-de-la-migration-et-de-la-mobilite',\n",
       "  'data_publication': 'N°Premier semestre 2019',\n",
       "  'sommaire': ['Une analyse des flux d’entrées et de sorties au niveau des postes frontières sur la période de janvier à juin 2019 selon sexe montrent que les hommes effectuent plus de déplacements que les femmes. Au total, on dénombre 1 112 420 hommes (soit 64%) contre 639 251 femmes (soit 36%) ayant effectués un déplacement. La même tendance est observée pour les entrées comme pour les sorties. Ainsi, concernant les entrées, 595 770 hommes (64%) contre 339 003 femmes (36%) sont enregistrés. Pour les sorties, sont concernées 516 650 hommes (63%) et 300 248 femmes (37%).'],\n",
       "  'description': \"Le présent bulletin expose les statistiques sur le flux d’entrées et de sorties des personnes du territoire, les profils des migrants de retour assistés par l’OIM et les étrangers demandeurs de carte d’identité d’étranger. Les données sur les flux d’entrées et de sorties du territoire nationale sont fournies par la Direction de la Police de l'Air et des Frontières (DPAF). Selon la zone, les flux d’entrées et de sorties du territoire concernent 11 postes frontières à savoir : Aéroport international Blaise Diagne (AIBD), Diama, Karang, Kidira, Port de Dakar, Rosso, Ziguinchor, Matam, Moussala, Bignona et Kounkané.\\n\",\n",
       "  'thème': 'MIGRATION'},\n",
       " 'SESN/Chapitre : Santé': {'source': 'https://www.ansd.sn/Indicateur/sesnchapitre-sante',\n",
       "  'data_publication': '2017-2018',\n",
       "  'sommaire': [\"Entre 2017 et 2018, des efforts ont été fait dans le développement des ressources humaines de la santé. Globalement, une hausse du personnel de la santé est notée et particulièrement dans les catégories socio-professionnelles ayant des rapports étroits avec la santé de la mère et de l’enfant. L’effectif du personnel de santé (sages-femmes et gynécologues) ayant pour principal rôle d’accompagner la femme durant sa période de reproduction a augmenté. De 2017 à 2018, le nombre de sages-femmes d’Etat est passé de 2 551 à 2 677 individus, parallèlement, le nombre de gynécologues obstétriciens, bien que faible, a également connu une hausse, passant de 108 à 115, soit une hausse de 6%. L’effectif des pédiatres (médecins des enfants) dont le rôle est d’étudier le développement psychomoteur et physiologique normal de l'enfant, ainsi que les maladies infantiles a également évolué positivement sur la période et passe de 65 à 107 individus. Les effectifs des autres catégories socioprofessionnelles comme les médecins, les assistants infirmiers et les infirmiers d’Etat ont aussi connu une évolution positive entre 2017 et 2018. A cela, s’ajoute les autres personnels de la santé, à savoir les spécialistes, les techniciens supérieurs, les assistants etc.\"],\n",
       "  'description': 'La Situation Economique et Sociale Nationale (SESN) est une publication annuelle qui fait la synthèse des informations statistiques émanant de l’ANSD et des autres structures du Système National Statistique (SSN), dans le cadre de l’exécution de leurs tâches quotidiennes. La SESN essaie d’embrasser la quasi- totalité des secteurs de l’activité économique et sociale en mettant en relief l’information quantitative, fournissant ainsi les principaux indicateurs économiques, sociaux et démographiques du Sénégal. Réalisée pour une année (N) en utilisant les données recueillies l’année précédente (N-1), la SESN constitue un véritable instrument de planification et d’aide à la prise de décision pour les principaux acteurs du développement de notre pays.\\n',\n",
       "  'thème': 'SANTÉ'},\n",
       " 'Banque de Données des Indicateurs Sociaux (BADIS)': {'source': 'https://www.ansd.sn/Indicateur/banque-de-donnees-des-indicateurs-sociaux-badis',\n",
       "  'data_publication': '2014-2018',\n",
       "  'sommaire': ['La BADIS est un instrument important dans le dispositif actuel du système d’informations statistiques du Sénégal permettant de mesurer les performances économiques et d’évaluer les besoins sociaux sur une période relativement longue. En effet, elle est composée d’un ensemble d’indicateurs socioéconomiques qui couvrent une période supérieure à trente ans. Elle comporte plus de 2000 séries chronologiques réparties en neuf chapitres'],\n",
       "  'description': 'La Banque de Données des Indicateurs Sociaux (BADIS) constitue un instrument important dans le dispositif actuel du système d’informations statistiques du pays. C’est l’un des rares outils, pour ne pas dire le seul, à disposer de données de sources administratives permettant une analyse longitudinale sur différents secteurs tels que : - l’éducation, - la santé, - la population, - les prix, - l’agriculture, - la dette extérieure, - l’emploi, - le cadre de vie (électricité, eau, téléphone, logement), - les comptes nationaux. Elle est composée pour l’essentiel d’un ensemble d’indicateurs économiques et sociaux qui couvrent une période de plus de vingt ans. En effet, les informations sont disponibles dans la plupart des cas depuis 1970. Elle comporte plus de 2000 séries chronologiques réparties dans les différents thèmes évoqués. Avec le Tableau de Bord de la Situation sociale du Sénégal (TBSS), ils forment les principaux éléments du système d’information sur lequel repose l’observatoire complet que l’ANSD en collaboration avec les partenaires au développement envisage de mettre en place. Cet observatoire intégrerait et harmoniserait différentes sources de données à la pauvreté, aux conditions de vie des ménages et au développement humain. Elle est complétée par des métadonnées correspondant en quelque sorte à un recueil des fiches explicatives des différents indicateurs présentés dans la BADIS.\\n',\n",
       "  'thème': 'PAUVRETÉ_ET_CONDITIONS_DE_VIE'},\n",
       " 'Rapports des Enquêtes villages': {'source': 'https://www.ansd.sn/Indicateur/rapports-des-enquetes-villages',\n",
       "  'data_publication': 'septembre 2011',\n",
       "  'sommaire': ['Au niveau national, l’indice d’accès moyen aux cinq principaux services sociaux de base ciblés est estimé à 400/500 en 2009. Cela correspond à un taux d’accessibilité de 79% de la population rurale sénégalaise à ces services sociaux. Cet indice d’accès moyen était évalué à 271/500 en 2000, ce qui correspond à 54% seulement de la population. Cette progression de 129 points d’indice traduit une nette amélioration du niveau d’accès aux services de base, soit une hausse de près de 48% de la population concernée. Avec près de 90% de la population couverte, les écoles primaires et les li eux de commerce touchent plus de personnes. Suivent les points d’eau (85,0%), les postes de santé et les routes qui touchent relativement moins de personnes (respectivement 61% et 70% de la population).'],\n",
       "  'description': \"L’Enquête-Villages de 2000 a été conçue pour suppléer au manque d’informations permettant le ciblage des zones rurales jugées prioritaires dans la mise en place de programmes de réduction de la pauvreté. Elle visait à mesurer le niveau d’accès aux infrastructures, équipements et services sociaux de base, au niveau le plus bas, c’est-à-dire au niveau village. En effet, l'accès à la santé, à l'éducation, à l'eau potable, aux marchés des produits de base, au transport et à la communication, entres autres, peut influer positivement l’attitude des populations, en renforçant la gamme des opportunités capables de les amener à changer favorablement leurs comportements en prenant des initiatives et en faisant des choix de nature à améliorer leurs conditions de vie. Dans la définition des objectifs de l’Enquête-Villages de 2000, il a été rappelé que, pour l’essentiel, ladite enquête devait servir d’outil de ciblage des zones d’intervention prioritaires du Programme National de Lutte contre la Pauvreté (PLP), notamment dans sa composante « amélioration de l’accès aux services sociaux de base », qui visait l’augmentation des taux de scolarisation et d’alphabétisation, la réduction des taux de mortalité maternelle et infantile ainsi que le taux de malnutrition infantile, mais aussi le relèvement des taux de consultation primaire curative et de couverture des programmes préventifs et l’amélioration de l’alimentation en eau potable des populations.\\n\",\n",
       "  'thème': 'PAUVRETÉ_ET_CONDITIONS_DE_VIE'},\n",
       " 'Note de conjoncture socio-économique du Sénégal (Enquête L2S)': {'source': 'https://www.ansd.sn/Indicateur/note-de-conjoncture-socio-economique-du-senegal-enquete-l2s',\n",
       "  'data_publication': 'janvier 2017',\n",
       "  'sommaire': ['Le Sénégal, à l’instar des pays de l’Afrique subsaharienne, fait face au double fardeau des maladies transmissibles et des maladies chroniques dont la prise en charge est souvent trop coûteuse. Cependant, des progrès importants sont en train d’être réalisés dans le cadre de la lutte contre certaines endémies majeures, notamment le paludisme. Ainsi, le projet « A l’écoute du Sénégal » a intégré un second module « santé » pour mesurer une partie de la situation sanitaire du pays, suite à une première expérience réalisée en fin 2015.'],\n",
       "  'description': 'Ce projet dénommé « A l’écoute du Sénégal » entièrement financé par le Groupe de la Banque mondiale (GBM) est basé sur un système d’enquêtes à haute fréquence auprès d’un panel de 1500 ménages en se servant des réseaux de téléphonie mobile. Elle n’est pas destinée à remplacer les grandes enquêtes sur la pauvreté mais plutôt pour combler le vide en termes d’informations. Ce projet d’enquête permettra de gagner en termes de fréquence de disponibilité de données. Par contre, il ne peut fournir que les informations nécessaires en termes de suivi des conditions de vie des ménages sur un échantillon réduit représentatif au niveau national à travers les trois Zones de résidences (stratification) ; Dakar, autres milieux urbains et milieu rural. Cette approche, combinant une enquête de référence et des entretiens téléphoniques mensuels avec les ménages, permet un suivi plus rapproché des projets et programmes de développement initiés par les autorités. La mise en place de cette approche permet de produire des données représentatives de bonne qualité, avec une démarche souple, rapide et à moindre coût mais aussi de renseigner les indicateurs socioéconomiques retenus dans le cadre des stratégies nationales de développement initiées par les autorités.\\n',\n",
       "  'thème': 'PAUVRETÉ_ET_CONDITIONS_DE_VIE'},\n",
       " 'SESN/Chapitre : Justice': {'source': 'https://www.ansd.sn/Indicateur/sesnchapitre-justice',\n",
       "  'data_publication': 'N°Justice 2017-2018 ',\n",
       "  'sommaire': ['En 2016, en 2017 comme en 2018, le Sénégal compte 37 établissements pénitentiaires dont 8 sont localisés dans la région de Dakar, soit 21,6%. Les régions de Thiès, Fatick, Kaolack, Diourbel, Louga, Saint-Louis et Ziguinchor disposent chacune de trois établissements pénitentiaires tandis que Kolda et Tambacounda n’en comptent que deux, chacune. Les autres régions (Kaffrine, Kédougou, Matam et Sédhiou) sont dotées, chacune, d’un (1) établissement. L’effectif de la population carcérale s’élève à 10.045 en 2017 et 11.014 en 2018, dont respectivement 186 et 241 mineurs. Concernant la répartition par sexe, seule la population carcérale adulte sera étudiée. En effet, les données sur la population carcérale mineure sont obtenues, uniquement, par type de peine et non par sexe.'],\n",
       "  'description': 'La Situation Economique et Sociale Nationale (SESN) est une publication annuelle qui fait la synthèse des informations statistiques émanant de l’ANSD et des autres structures du Système National Statistique (SSN), dans le cadre de l’exécution de leurs tâches quotidiennes. La SESN essaie d’embrasser la quasi- totalité des secteurs de l’activité économique et sociale en mettant en relief l’information quantitative, fournissant ainsi les principaux indicateurs économiques, sociaux et démographiques du Sénégal. Réalisée pour une année (N) en utilisant les données recueillies l’année précédente (N-1), la SESN constitue un véritable instrument de planification et d’aide à la prise de décision pour les principaux acteurs du développement de notre pays.\\n',\n",
       "  'thème': 'JUSTICE'},\n",
       " 'Rapports du RGPHAE 2013 : Habitat ': {'source': 'https://www.ansd.sn/Indicateur/rapports-du-rgphae-2013-habitat-0',\n",
       "  'data_publication': 'N°Chapitre Habitat et environnement ',\n",
       "  'sommaire': ['Le principal type de logement au Sénégal est les maisons basses (57,2%) et la plupart de ménages ont financé leur logement par leurs propres moyens (84,9%). Certains ménages vivent encore dans des cases (21,9%) et dans des baraques (2,4%). Au Sénégal, l’habitat à tendance moderne ne traduit pas nécessairement de bonnes conditions de logement. Le Recensement révèle que près de trois ménages sur dix (29,3%) vivent dans la promiscuité avec 3 personnes voire plus par pièce (30,9% en milieu rural contre 27,8% en milieu urbain). La propriété (72,6%) et la location (23,1%) constituent les types d’occupation les plus fréquents. Par ailleurs, le principal revêtement des habitations est le ciment (74,7%) et le banco (13,4%). Près de huit (8) ménages sur dix utilisent une source d’énergie moderne pour s’éclairer (57,5% pour l’électricité et 20,4% pour la lampe rechargeable). Le bois (50,4%) et le gaz (32,7%) sont les combustibles les plus utilisés par les ménages sénégalais pour la cuisson (86% pour le bois en milieu rural et 58% pour le gaz en milieu urbain).'],\n",
       "  'description': 'Le Sénégal, à l’instar des autres pays africains, a réalisé son quatrième recensement de la population dans le cadre de la série des recensements de la population de la décennie 2010 (2005-2014) initiée par les Nations Unies, à travers le Fonds des Nations Unies pour la Population (UNFPA), son Agence spécialisée en la matière. Les principaux objectifs assignés à ce Recensement et dont la phase de dénombrement a été bouclée en décembre 2013 sont de fournir :\\n',\n",
       "  'thème': 'HABITAT_ET_CADRE_DE_VIE'},\n",
       " 'SESN/Chapitre : Eau et assainissement': {'source': 'https://www.ansd.sn/Indicateur/sesnchapitre-eau-et-assainissement',\n",
       "  'data_publication': 'N°Eau et assainissement 2017-2018 ',\n",
       "  'sommaire': ['Au Sénégal, l’essentiel des ménages a accès à une eau de boisson issue d’une source améliorée. En effet, comme l’illustrent les graphiques ci-dessous, plus des quatre cinquième des ménages s’approvisionnent en eau de boisson auprès d’une source d’eau améliorée. Toutefois, de fortes disparités s’observent non seulement entre les régions, les écarts pouvant varier du simple au double, mais aussi selon le milieu de résidence au sein d’une même région. En effet, la quasi-totalité des ménages des régions de Dakar (99,6%) et Louga (98,6%) utilisent une source améliorée. Dans une moindre mesure, Diourbel, Kaffrine et Thiès s’inscrivent dans la même lignée avec moins de 10% de ménages n’ayant pas accès à une source améliorée d’eau de boisson. Au nord (Saint-Louis et Matam) et à Kaolack, au moins 8 ménages sur 10 boivent de l’eau d’une source améliorée.'],\n",
       "  'description': 'La Situation Economique et Sociale Nationale (SESN) est une publication annuelle qui fait la synthèse des informations statistiques émanant de l’ANSD et des autres structures du Système National Statistique (SSN), dans le cadre de l’exécution de leurs tâches quotidiennes. La SESN essaie d’embrasser la quasi- totalité des secteurs de l’activité économique et sociale en mettant en relief l’information quantitative, fournissant ainsi les principaux indicateurs économiques, sociaux et démographiques du Sénégal. Réalisée pour une année (N) en utilisant les données recueillies l’année précédente (N-1), la SESN constitue un véritable instrument de planification et d’aide à la prise de décision pour les principaux acteurs du développement de notre pays.\\n',\n",
       "  'thème': 'HABITAT_ET_CADRE_DE_VIE'},\n",
       " \"Autres rapports d'enquêtes sur l'emploi et le travail\": {'source': 'https://www.ansd.sn/Indicateur/autres-rapports-denquetes-sur-lemploi-et-le-travail',\n",
       "  'data_publication': 'N°2022 ',\n",
       "  'sommaire': ['Le Sénégal réalise, pour la première fois en 2021, une enquête sur l’emploi du temps afin de déterminer les activités les plus présentes dans le quotidien des hommes et des femmes. L’enquête a révélé des résultats forts intéressants sur les différences de participation aux activités non rémunérées telles que les travaux domestiques. Il est noté que 84,6% des femmes effectuent des travaux domestiques contre 31,7% des hommes.'],\n",
       "  'description': \"Regroupe les rapports d'enquête et d'étude sur l'emploi et le travail\\n\",\n",
       "  'thème': 'EMPLOI_ET_TRAVAIL'},\n",
       " 'SEESN/Chapitre : Emploi': {'source': 'https://www.ansd.sn/Indicateur/seesnchapitre-emploi',\n",
       "  'data_publication': 'N°Emploi 2017-2018 ',\n",
       "  'sommaire': ['La répartition selon le milieu de résidence de la population en âge de travailler montre qu’elle est majoritairement concentrée en zone urbaine avec 52,9% et 51,8% des individus en âge de travailler respectivement en 2017 et 2018. L’importante urbanisation de la population en âge de travailler est étroitement liée au poids économique du milieu urbain qui en fait une zone d’attraction d’individus à la recherche d’emploi ou en déplacement pour des raisons scolaires. La répartition par groupe d’âges et par sexe de la population en âge de travailler, c’est-à-dire celle âgée de 15 ans ou plus, fait ressortir son caractère jeune et féminin, quelle que soit l’année. En effet, cette population, qui est à dominante féminine (près de 51%), est constituée à plus de 58% de jeunes âgés de 15 à 34 ans. Par ailleurs, une personne sur trois en âge de travailler a moins de 25 ans. Par rapport au niveau d’instruction, on note que 55,4% et 57,7% de la population en âge de travailler, respectivement en 2017 et 2018, n’ont jamais fréquenté l’école et 16,5% ont le niveau primaire. Le faible niveau d’instruction de la population en âge de travailler est plus accentué en milieu rural où plus de 85% ont, au plus, le niveau primaire. La proportion des personnes ayant le niveau supérieur est estimée à près de 5,0%.'],\n",
       "  'description': 'La Situation Economique et Sociale Nationale (SESN) est une publication annuelle qui fait la synthèse des informations statistiques émanant de l’ANSD et des autres structures du Système National Statistique (SSN), dans le cadre de l’exécution de leurs tâches quotidiennes. La SESN essaie d’embrasser la quasi- totalité des secteurs de l’activité économique et sociale en mettant en relief l’information quantitative, fournissant ainsi les principaux indicateurs économiques, sociaux et démographiques du Sénégal. Réalisée pour une année (N) en utilisant les données recueillies l’année précédente (N-1), la SESN constitue un véritable instrument de planification et d’aide à la prise de décision pour les principaux acteurs du développement de notre pays.\\n',\n",
       "  'thème': 'EMPLOI_ET_TRAVAIL'},\n",
       " 'Enquête Emploi': {'source': 'https://www.ansd.sn/Indicateur/enquete-emploi',\n",
       "  'data_publication': 'T3 2023 ',\n",
       "  'sommaire': ['Au troisième trimestre de l’année 2023, 61,4% des personnes en âge de travailler ont participé au marché du travail. Ce niveau d’activité a été plus élevé en milieu rural où il est ressorti à 63,6% contre 59,5% en milieu urbain. Selon le sexe, il est plus élevé chez les hommes que chez les femmes avec des taux respectifs de 71,0% et de 52,2%. En glissement annuel, le niveau de participation s’est accru de 1,7 point de pourcentage par rapport à la même période en 2022. \\xa0',\n",
       "   'Le taux de chômage (élargi) est passé de 22,9% au troisième trimestre de 2022 à 19,5% sur la même période en 2023, soit une baisse de 3,4 points de pourcentage. Au sens strict du BIT, il est ressorti à 5,8% au trimestre sous revu.',\n",
       "   'Au compte du trimestre sous revu, le taux de chômage au sens élargi est légèrement plus élevé en milieu urbain (20,1% contre 19,0% en zone rurale). Selon le sexe, le chômage touche plus les femmes (32,0%) que les hommes (10,0%).'],\n",
       "  'description': \"L'objectif principal des enquêtes trimestrielles est de mettre en place un dispositif de mesure et de suivi de l’emploi au Sénégal. De façon spécifique, cette enquête vise à : · mesurer le chômage et l’emploi, identifier les secteurs d’activités à plus forte capacité de création d’emplois ; · définir le profil des demandeurs d’emploi ; · mesurer la demande d’emploi particulièrement celle des jeunes, les dynamiques du marché du travail au Sénégal ; · déterminer la structure de cette demande en termes de caractéristiques sociodémographiques, de formation et de qualification professionnelle ; · évaluer les canaux de recherche d’un emploi et la durée d’obtention du premier emploi après la sortie du système éducatif ou de formation professionnelle ; · évaluer la durée d’occupation d’un emploi notamment le premier emploi ; · évaluer les conditions d’exercice de ces emplois notamment la protection sociale accordée aux différentes catégories socioprofessionnelles ; · servir de support d’analyse statistique pour les plans tel que le PSE, les programmes et stratégies de promotion de l’emploi notamment celui des jeunes et des femmes.\\n\",\n",
       "  'thème': 'EMPLOI_ET_TRAVAIL'},\n",
       " 'Rapports du RGPHAE 2013 : Education': {'source': 'https://www.ansd.sn/Indicateur/rapports-du-rgphae-2013-education',\n",
       "  'data_publication': 'RGPHAE 2013',\n",
       "  'sommaire': ['Les résultats du RGPHAE révèlent que près d’un Sénégalais sur deux âgés d’au moins dix ans (45,4%) sait lire et écrire dans une langue quelconque (53,7% chez les hommes contre 37,7% chez les femmes).',\n",
       "   'En matière d’éducation, le Recensement évalue à 2 852 983 apprenants au Sénégal. Ils sont répartis ainsi qu’il suit :',\n",
       "   'Le milieu urbain concentre plus de 57,3% de l’effectif total des apprenants. En matière de formation professionnelle, la répartition des individus âgés d’au moins 6 ans indique que neuf individus sur dix n’ont pas reçu de formation\\n(89,5%). Les femmes (92,5%) sont globalement plus défavorisées que les hommes (86,3%).'],\n",
       "  'description': 'Le Sénégal, à l’instar des autres pays africains, a réalisé son quatrième recensement de la population dans le cadre de la série des recensements de la population de la décennie 2010 (2005-2014) initiée par les Nations Unies, à travers le Fonds des Nations Unies pour la Population (UNFPA), son Agence spécialisée en la matière. Les principaux objectifs assignés à ce Recensement et dont la phase de dénombrement a été bouclée en décembre 2013 sont de fournir : a) des données sur les caractéristiques socio-démographiques de la population, b) des données sur les caractéristiques de l’Habitat, c) des données de référence pour les statistiques agro-pastorales courantes, d) des bases de sondage pour les enquêtes sociodémographiques et agro-pastorales, e) des données pour le suivi de l’avancement vers les objectifs de développement nationaux et mondiaux, en particulier les Objectifs du Millénaire pour le Développement (OMD).\\n',\n",
       "  'thème': 'EDUCATION'},\n",
       " 'SESN/Chapitre : Education': {'source': 'https://www.ansd.sn/Indicateur/sesnchapitre-education',\n",
       "  'data_publication': 'N°Education et formation 2017-2018 ',\n",
       "  'sommaire': ['Le secteur de l’éducation est marqué, en 2017 et 2018, par une baisse ou reprise morose des indicateurs de qualité, notamment de réussite avec comme illustration une baisse du taux de réussite au CFEE, passant de 58,3% en 2016 à 56,7% en 2017 et 55,5% en 2018. Pour le BFEM, une évolution en dent de scie est observée avec un taux de réussite qui est passé de 51,5% en 2016 à 45,1% en 2017 et à 52,1% en 2018. La situation similaire est observée pour le baccalauréat. En effet, le taux de réussite au baccalauréat est de passé de 36,76 % en 2015 à 31,6% en 2017 et à 35,2% en 2018. Bien que, globalement, les indicateurs d’accessibilité soient tendanciellement en croissance et ceux de réussite aux examens en reprise voire en baisse, dans l’ensemble, ceux de qualité nécessitent encore une amélioration par la prise de dispositions pour relever leur niveau, surtout dans les régions du sud et de l’est.'],\n",
       "  'description': 'La Situation Economique et Sociale Nationale (SESN) est une publication annuelle qui fait la synthèse des informations statistiques émanant de l’ANSD et des autres structures du Système National Statistique (SSN), dans le cadre de l’exécution de leurs tâches quotidiennes. La SESN essaie d’embrasser la quasi- totalité des secteurs de l’activité économique et sociale en mettant en relief l’information quantitative, fournissant ainsi les principaux indicateurs économiques, sociaux et démographiques du Sénégal. Réalisée pour une année (N) en utilisant les données recueillies l’année précédente (N-1), la SESN constitue un véritable instrument de planification et d’aide à la prise de décision pour les principaux acteurs du développement de notre pays.\\n',\n",
       "  'thème': 'EDUCATION'},\n",
       " 'Rapports du RGPHAE 2013 : Handicap': {'source': 'https://www.ansd.sn/Indicateur/rapports-du-rgphae-2013-handicap',\n",
       "  'data_publication': 'N°Chapitre Personnes en situation de handicap ',\n",
       "  'sommaire': [\"Au Sénégal, l’innovation du recensement de 2013 par rapport à celui de 2002 a été de mesurer le niveau ou le degré de chaque handicap. En effet, l’approche précédente, axée sur l’absence de modulation du statut de l’handicap (souffrez-vous d’un handicap ?), est apparue très limitative. A ce titre, il a été utilisé une série de questions (Washington Group) qui permettent d'identifier les personnes à risque au sein de la population générale. L'échelle de gravité s’utilise dans les catégories de réponse, afin de cerner l’éventail complet des domaines fonctionnels allant de la forme bénigne à la forme la plus sévère. En décembre 2002, la qualification extrême de l’handicap a montré que le Sénégal compte 138 897 personnes handicapées sur une population de 9 858 482 habitants, soit une prévalence de 1,4%. Cela signifie que 14 Sénégalais sur 1000 souffrent d’un quelconque handicap. En 2013, cette prévalence du handicap est de 5,9%, ce qui signifie que 59 Sénégalais sur 1000 souffrent d’un handicap quelconque. Les individus de sexe féminin sont les plus concernés avec un rapport de masculinité de 88 hommes pour 100 femmes. Par ailleurs, la forme de handicap la plus répandue concerne les difficultés à marcher et à voir (1,5% de la population chacune) à l’opposé des limitations auditives, des difficultés à se concentrer et des difficultés à prendre soin de soi (respectivement 0,6%, 0,8% et 0,5%). Au niveau régional, les régions de Ziguinchor et Matam enregistrent les taux de prévalence les plus élevés avec 8,1% de handicapés chacune, alors que celles de Diourbel et Kaolack enregistrent les taux de prévalence les plus faibles avec 5% de personnes vivant avec un handicap.\"],\n",
       "  'description': 'Le Sénégal, à l’instar des autres pays africains, a réalisé son quatrième recensement de la population dans le cadre de la série des recensements de la population de la décennie 2010 (2005-2014) initiée par les Nations Unies, à travers le Fonds des Nations Unies pour la Population (UNFPA), son Agence spécialisée en la matière. Les principaux objectifs assignés à ce Recensement et dont la phase de dénombrement a été bouclée en décembre 2013 sont de fournir : a) des données sur les caractéristiques socio-démographiques de la population, b) des données sur les caractéristiques de l’Habitat, c) des données de référence pour les statistiques agro-pastorales courantes, d) des bases de sondage pour les enquêtes sociodémographiques et agro-pastorales, e) des données pour le suivi de l’avancement vers les objectifs de développement nationaux et mondiaux, en particulier les Objectifs du Millénaire pour le Développement (OMD).\\n',\n",
       "  'thème': 'GENRE_ET_ÉQUITÉ'},\n",
       " \"Rapports d'enquête et d'études sur le genre\": {'source': 'https://www.ansd.sn/Indicateur/rapports-denquete-et-detudes-sur-le-genre',\n",
       "  'data_publication': 'N°Etude sur la contribution de l’entreprenariat et du leadership féminins à la valeur ajoutée de l’économie sénégalaise - approche sexo-spécifique ',\n",
       "  'sommaire': ['L’année 2017 a été choisie comme période de référence de l’étude. Les résultats ont montré que les femmes entrepreneures ou gérantes, dans le secteur formel, ont un niveau d’études élevé (60,4% ont le niveau supérieur) et sont relativement jeunes (57,1% ont un âge compris entre 35 et 55 ans). Les principales difficultés qu’elles rencontrent sont relatives aux impôts et taxes et à l’accès aux crédits. Elles contribuent à hauteur de 1 000,5 milliards CFA à la création de revenu, soit 24,5% à la valeur ajoutée du secteur formel. Cette richesse est tirée principalement par le secteur tertiaire avec une contribution de 79,3%.'],\n",
       "  'description': \"Ce thème regroupe les Rapports des enquêtes et d'études réalisées sur le thème de genre et équité.\\n\",\n",
       "  'thème': 'GENRE_ET_ÉQUITÉ'},\n",
       " ' SES/Chapitre : Elevage': {'source': 'https://www.ansd.sn/Indicateur/seschapitre-elevage',\n",
       "  'data_publication': '2017-2018',\n",
       "  'sommaire': ['L’effectif du cheptel est évalué en 2018 à 18 314 mille têtes, après 17 866 mille têtes en 2017 et 17 379 en 2016, soit un taux de croît de 2,5% en 2018 et 2,8% en 2017. Cette hausse enregistrée dans les deux années est principalement imputable au croît des principales composantes du cheptel. Il s’agit des ovins (3,2% en 2018 et 3,5% en 2017 contre 3,3% en 2016), des caprins (2,8% en 2018, 3,2% en 2017 et 2016) et des bovins (1,1% en 2018 et 1,3% 2017 contre 1,2% en 2016) qui représentent plus de 91% de l’effectif total.',\n",
       "   'La valeur ajoutée de l’élevage a augmenté de 2,7% en 2018 en termes réels après des hausses de 3,5% en 2017 et de 8,7% en 2016. Son poids dans le secteur primaire a connu de légers replis entre 2016 et 2018. En effet, estimé à 27,9% de la valeur ajoutée globale du secteur primaire (en volume), le poids de l’élevage s’est situé en 2017 et en 2018 à 25,4% et 23,7% respectivement.'],\n",
       "  'description': '\\n\\nLa Situation Economique et Sociale Nationale (SESN) est une publication annuelle qui fait la synthèse des informations statistiques émanant de l’ANSD et des autres structures du Système National Statistique (SSN), dans le cadre de l’exécution de leurs tâches quotidiennes.\\nLa SESN essaie d’embrasser la quasi- totalité des secteurs de l’activité économique et sociale en mettant en relief l’information quantitative, fournissant ainsi les principaux indicateurs économiques, sociaux et démographiques du Sénégal. Réalisée pour une année (N) en utilisant les données recueillies l’année précédente (N-1), la SESN constitue un véritable instrument de planification et d’aide à la prise de décision pour les principaux acteurs du développement de notre pays.\\n\\n\\n',\n",
       "  'thème': 'AGRICULTURE'},\n",
       " 'SESN/Chapitre : Pêche': {'source': 'https://www.ansd.sn/Indicateur/sesnchapitre-peche',\n",
       "  'data_publication': '2017-2018',\n",
       "  'sommaire': [\"Les ressources de la zone maritime sont caractérisées par une grande diversité biologique. Ces ressources halieutiques font aujourd’hui l'objet d'une forte pression avec plus de 11 000 pirogues actives opérant dans la pêche artisanale et un peu plus d'une centaine de bateaux battant pavillon étranger au large des côtes du Sénégal.\",\n",
       "   'Les débarquements de la pêche maritime ont observé une tendance à la hausse de 2014 à 2017. L’année 2018 est marquée par une baisse globale de 5,1% des quantités débarquées, essentiellement imputable aux débarquements de la pêche artisanale. En effet, les mises à terre sont passées de 487 435 tonnes en 2016 à 504 776 tonnes en 2017, puis à 479 194 tonnes en l’année 2018.'],\n",
       "  'description': 'La Situation Economique et Sociale Nationale (SESN) est une publication annuelle qui fait la synthèse des informations statistiques émanant de l’ANSD et des autres structures du Système National Statistique (SSN), dans le cadre de l’exécution de leurs tâches quotidiennes.\\nLa SESN essaie d’embrasser la quasi- totalité des secteurs de l’activité économique et sociale en mettant en relief l’information quantitative, fournissant ainsi les principaux indicateurs économiques, sociaux et démographiques du Sénégal. Réalisée pour une année (N) en utilisant les données recueillies l’année précédente (N-1), la SESN constitue un véritable instrument de planification et d’aide à la prise de décision pour les principaux acteurs du développement de notre pays.\\n',\n",
       "  'thème': 'AGRICULTURE'},\n",
       " 'SESN/Chapitre : Agriculture': {'source': 'https://www.ansd.sn/Indicateur/sesnchapitre-agriculture',\n",
       "  'data_publication': '2017-2018',\n",
       "  'sommaire': ['Le sous-secteur agricole est caractérisé par une performance, en 2017 et 2018, de certaines spéculations telles que le mil, l’arachide, le riz, etc. en liaison avec la bonne pluviométrie. En effet, le PIB agricole est évalué à 1 217,0 milliards de FCFA en 2018, soit une hausse de 9,1% par rapport à 2017.',\n",
       "   'Le secteur contribue à hauteur de 9,4% du PIB national et de 62,8% de la valeur ajoutée (en terme nominal) du secteur primaire. Le document aborde d’abord les orientations stratégiques liées à l’agriculture et les actions entreprises par le Gouvernement sur la période 2017-2018.',\n",
       "   'La situation de la pluviométrie sur la période susvisée sera également décrite. A la lumière de ces deux éléments, les performances du secteur agricole seront analysées avant de terminer par les contraintes dudit secteur.?'],\n",
       "  'description': 'La Situation Economique et Sociale Nationale (SESN) est une publication annuelle qui fait la synthèse des informations statistiques émanant de l’ANSD et des autres structures du Système National Statistique (SSN), dans le cadre de l’exécution de leurs tâches quotidiennes. La SESN essaie d’embrasser la quasi- totalité des secteurs de l’activité économique et sociale en mettant en relief l’information quantitative, fournissant ainsi les principaux indicateurs économiques, sociaux et démographiques du Sénégal. Réalisée pour une année (N) en utilisant les données recueillies l’année précédente (N-1), la SESN constitue un véritable instrument de planification et d’aide à la prise de décision pour les principaux acteurs du développement de notre pays.\\n',\n",
       "  'thème': 'AGRICULTURE'},\n",
       " 'SESN/Chapitre : Bâtiments et travaux publics (BTP)': {'source': 'https://www.ansd.sn/Indicateur/sesnchapitre-batiments-et-travaux-publics-btp',\n",
       "  'data_publication': '2017-2018',\n",
       "  'sommaire': ['Le ciment constitue l’un des principaux intrants pour l’activité de construction. Au cours des dix dernières années, il est constaté une évolution à la hausse de la production de ciment, à l’exception de la baisse de 3,7% qui a été enregistrée en 2013. En 2018, il est noté une progression de 5,3% de la production de ciment en quantité. S’agissant en particulier, des ventes locales de ciment, elles ont augmenté de 22,7%, tandis que celles à l’exportation ont reculé de 22,5%.',\n",
       "   'La valeur ajoutée de la branche « construction » s’est établie à 383,5 milliards de FCFA en 2018 (en valeur). En 2018, la construction représente 3,0% du PIB nominal et 12,3% de la valeur ajoutée du secteur secondaire (aux prix courants). L’activité de construction est restée dynamique en 2018 avec une progression de 11,5% de sa valeur ajoutée en volume, après 15,9% en 2017.Cette bonne tenue de l’activité est expliquée, en partie, par le bon comportement des ventes locales, en liaison avec les grands travaux de l’Etat et la demande intérieure privée.'],\n",
       "  'description': 'La Situation Economique et Sociale Nationale (SESN) est une publication annuelle qui fait la synthèse des informations statistiques émanant de l’ANSD et des autres structures du Système National Statistique (SSN), dans le cadre de l’exécution de leurs tâches quotidiennes. La SESN essaie d’embrasser la quasi- totalité des secteurs de l’activité économique et sociale en mettant en relief l’information quantitative, fournissant ainsi les principaux indicateurs économiques, sociaux et démographiques du Sénégal.\\nRéalisée pour une année (N) en utilisant les données recueillies l’année précédente (N-1), la SESN constitue un véritable instrument de planification et d’aide à la prise de décision pour les principaux acteurs du développement de notre pays.\\n',\n",
       "  'thème': 'BÂTIMENTS_ET_TRAVAUX_PUBLICS_'},\n",
       " \"Autres rapports d'enquêtes et d'études sur l'environnement\": {'source': 'https://www.ansd.sn/Indicateur/autres-rapports-denquetes-et-detudes-sur-lenvironnement',\n",
       "  'data_publication': '2010-2015',\n",
       "  'sommaire': ['La Division des Statistiques des Nations Unies conduit actuellement un projet intitulé « Environnemental economic accounting for evidence based policy in Africa and Asia» (comptabilité économique et environnementale en Afrique et en Asie pour des politiques factuelles).',\n",
       "   'Ce projet vise à lever les barrières techniques et institutionnelles contrariant l’instauration de la production régulière de comptes économiques environnementaux.',\n",
       "   'A cet égard, la norme statistique internationale qu’est le Système de comptabilité économique environnementale (SCEE) (ou SEEA en anglais) constitue pour les différents pays un cadre permettant de produire des comptes internationalement comparables pour mesurer les progrès vers l’atteinte des Objectifs de développement Durables (ODD), les objectifs d’Aichi, la croissance verte, etc.',\n",
       "   'L’objectif général de l’élaboration du Plan National pour l’Avancement de la Comptabilité Economique Environnementale et le Développement d’une Feuille de Route pour l’Utilisation des Comptes au Sénégal est de renforcer la mise en place du Système de Comptabilité Economique et Environnementale (SCEE) au Sénégal à travers une approche flexible et modulaire, pour des politiques factuelles orientées vers le développement durable.',\n",
       "   'Relativement à cet objectif, il est reconnu que la mise en oeuvre du SCEE exige des efforts notables et une approche propre à chaque pays, d’où la nécessité de disposer d’un plan national assorti d’une feuille de route.'],\n",
       "  'description': None,\n",
       "  'thème': 'ENVIRONNEMENT'},\n",
       " 'SESN/Chapitre : Environnement': {'source': 'https://www.ansd.sn/Indicateur/sesnchapitre-environnement',\n",
       "  'data_publication': '2017-2018',\n",
       "  'sommaire': ['Les recettes de la campagne d’exploitation forestière sont de 2,048 milliards FCFA et 3,260 milliards FCFA, respectivement en 2017 et 2018. Comparativement à la situation observée en 2017, les productions contrôlées de charbon de bois et de pain de singe ont progressé respectivement de 9,0% et 11,6% en 2018. Le bois de chauffe et le bois d’œuvre suivent la même tendance que l’année précédente.',\n",
       "   'Contrairement à 2017, la production de gomme naturelle a baissé de 69,9%. Le sous-secteur de la sylviculture est constitué des produits de l’exploitation forestière et de la cueillette. Suite à une légère hausse observée en 2017, sa production a connu un repli en 2018 pour s’établir à 68,3 milliards de FCFA (aux prix courants). De même, sa valeur ajoutée à prix courants est passée de 53,9 milliards de FCFA en 2017 à 53,2 milliards de FCFA en 2018.'],\n",
       "  'description': 'La Situation Economique et Sociale Nationale (SESN) est une publication annuelle qui fait la synthèse des informations statistiques émanant de l’ANSD et des autres structures du Système National Statistique (SSN), dans le cadre de l’exécution de leurs tâches quotidiennes. La SESN essaie d’embrasser la quasi- totalité des secteurs de l’activité économique et sociale en mettant en relief l’information quantitative, fournissant ainsi les principaux indicateurs économiques, sociaux et démographiques du Sénégal. Réalisée pour une année (N) en utilisant les données recueillies l’année précédente (N-1), la SESN constitue un véritable instrument de planification et d’aide à la prise de décision pour les principaux acteurs du développement de notre pays.\\n',\n",
       "  'thème': 'ENVIRONNEMENT'},\n",
       " \"Rapports d'enquêtes et d'études sur l'industrie et la production \": {'source': 'https://www.ansd.sn/Indicateur/rapports-denquetes-et-detudes-sur-lindustrie-et-la-production',\n",
       "  'data_publication': '2020',\n",
       "  'sommaire': ['La crise sanitaire a eu un impact significatif sur l’activité des entreprises industrielles. En effet, 92,5% des entreprises interrogées ont déclaré avoir été impactées par la Covid-19. Parmi celles-ci, l’étude a montré que pour la quasi-totalité d’entre elles (96,0%), il s’agit d’un impact négatif. De plus, la majorité de ces unités de transformation (70,6%) considère que l’activité s’est dégradée de plus de 25%.',\n",
       "   'Par ailleurs, la quasi-totalité des établissements de transformation déclare que leurs approvisionnements en matières premières, leurs acquisitions de biens d’équipements, leurs productions, leurs parts de marché, leurs chiffres d’affaires ainsi que leurs investissements sont négativement affectés par la pandémie. En outre, près de la moitié d’entre elles (48,6%) affirme que la crise sanitaire a affecté leurs emplois permanents.'],\n",
       "  'description': \"Cette section regroupe les rapports d'enquêtes et d'études réalisées sur le secteur industriel dans son ensemble.\\n\",\n",
       "  'thème': 'INDUSTRIE'},\n",
       " 'SESN/Chapitre : Industrie': {'source': 'https://www.ansd.sn/Indicateur/sesnchapitre-industrie',\n",
       "  'data_publication': '2017-2018',\n",
       "  'sommaire': ['Le Sénégal ambitionne de faire du secteur industriel un des piliers du développement durable. En effet, parmi les objectifs du Plan Sénégal Emergent (PSE), figure le pari industriel intégré qui vise la création d’un pôle manufacturier à haute valeur ajoutée. Ceci s’est concrétisé avec la construction du Parc Industriel international de Diamniadio d’une superficie de 13 hectares dont la mise en service est effective depuis février 2018. Le secteur soutient le dynamisme de la croissance économique du pays depuis quelques années. En effet, la valeur ajoutée du secondaire a augmenté de 7,4%, après 3,6% en 2016, contribuant ainsi à hauteur de 1,7 point à la croissance du PIB en 2017.'],\n",
       "  'description': 'La Situation Economique et Sociale Nationale (SESN) est une publication annuelle qui fait la synthèse des informations statistiques émanant de l’ANSD et des autres structures du Système National Statistique (SSN), dans le cadre de l’exécution de leurs tâches quotidiennes. La SESN essaie d’embrasser la quasi- totalité des secteurs de l’activité économique et sociale en mettant en relief l’information quantitative, fournissant ainsi les principaux indicateurs économiques, sociaux et démographiques du Sénégal. Réalisée pour une année (N) en utilisant les données recueillies l’année précédente (N-1), la SESN constitue un véritable instrument de planification et d’aide à la prise de décision pour les principaux acteurs du développement de notre pays.\\n',\n",
       "  'thème': 'INDUSTRIE'},\n",
       " 'SESN/Chapitre : Mines, carrières et energie': {'source': 'https://www.ansd.sn/Indicateur/sesnchapitre-mines-carrieres-et-energie',\n",
       "  'data_publication': '2017-2018',\n",
       "  'sommaire': ['Les activités extractives sont devenues un des secteurs phares de l’économie sénégalaise représentant, notamment, le premier poste d’exportation. Elles sont composées de l’extraction minière et celle des hydrocarbures. Au-delà du phosphate qui est un produit exploité depuis les années cinquante, les produits extraits du sous-sol sénégalais se sont diversifiés avec la production d’or, de zircon, d’ilménite, de rutile, de leucoxène, de manganèse, etc.',\n",
       "   'En outre, d’importants changements économiques sont attendus avec l’exploitation prochaine de pétrole et de gaz naturel. Ce dynamisme du secteur extractif est reflété par sa production de plus en plus importante. En effet, évaluée à 549,8 milliards de FCFA en 2017, elle est passée à 692,9 milliards en 2018 avec des valeurs ajoutées respectives de 317,9 et 407,2 milliards de FCFA. La contribution de ce secteur au PIB en 2018 est de 3,2%, après 2,6% en 2017. Il représente également un secteur stratégique pour le développement des activités énergétiques.'],\n",
       "  'description': 'La Situation Economique et Sociale Nationale (SESN) est une publication annuelle qui fait la synthèse des informations statistiques émanant de l’ANSD et des autres structures du Système National Statistique (SSN), dans le cadre de l’exécution de leurs tâches quotidiennes. La SESN essaie d’embrasser la quasi- totalité des secteurs de l’activité économique et sociale en mettant en relief l’information quantitative, fournissant ainsi les principaux indicateurs économiques, sociaux et démographiques du Sénégal. Réalisée pour une année (N) en utilisant les données recueillies l’année précédente (N-1), la SESN constitue un véritable instrument de planification et d’aide à la prise de décision pour les principaux acteurs du développement de notre pays.\\n',\n",
       "  'thème': 'MINES'},\n",
       " 'SES/Chapitre : Tourisme': {'source': 'https://www.ansd.sn/Indicateur/seschapitre-tourisme',\n",
       "  'data_publication': '2017-2018',\n",
       "  'sommaire': [\"L'activité touristique a engendré 1 500 milliards de dollars US de recettes dans le monde en 2018, soit une progression de 4% comparée à l’année 2017. Dans le même sillage, les arrivées de touristes internationaux ont augmenté de 5% en 2018 par rapport à 2017 pour atteindre le chiffre record de 1,4 milliards de visiteurs.\",\n",
       "   'La croissance du secteur du tourisme est plus marquée en Afrique et en Asie-Pacifique (+7%) contre 5% pour l’Europe et le Moyen-Orient. Les Amériques ont enregistré la plus faible progression en 2018 en termes d’arrivées de touristes (+2%). Malgré les chocs occasionnels qui affectent l’Afrique, le continent a enregistré le chiffre record de 67 millions d’arrivées de touristes en 2018, sous l’effet de la bonne performance de l’Afrique du Nord (+10%) et de la croissance soutenue en Afrique Subsaharienne (+5%).'],\n",
       "  'description': 'La Situation Economique et Sociale Nationale (SESN) est une publication annuelle qui fait la synthèse des informations statistiques émanant de l’ANSD et des autres structures du Système National Statistique (SSN), dans le cadre de l’exécution de leurs tâches quotidiennes. La SESN essaie d’embrasser la quasi- totalité des secteurs de l’activité économique et sociale en mettant en relief l’information quantitative, fournissant ainsi les principaux indicateurs économiques, sociaux et démographiques du Sénégal. Réalisée pour une année (N) en utilisant les données recueillies l’année précédente (N-1), la SESN constitue un véritable instrument de planification et d’aide à la prise de décision pour les principaux acteurs du développement de notre pays.\\n',\n",
       "  'thème': 'TOURISME'},\n",
       " 'SESN/Chapitre : Transports': {'source': 'https://www.ansd.sn/Indicateur/sesnchapitre-transports',\n",
       "  'data_publication': '2017-2018',\n",
       "  'sommaire': ['En 2014, l’ANSD a procédé au changement d’année de base des comptes de la Nation. Les résultats du changement d’année de base et l’adaptation d’un nouveau Système de Comptabilité nationale (SCN) avaient réévalué le PIB à plus de 29%. Les données présentées dans le tableau ci-dessous sont obtenues en prenant en compte ces changements. La contribution des services de transport au Produit Intérieur brut est évaluée à 2,1% en 2018. Elle est restée stable par rapport à 2017. Cependant, elle enregistre une baisse depuis 2014 où elle était évaluée à 2,6%. La richesse créée par les services de transport est évaluée à 275,745 milliards en 2018, soit une hausse de 9,0% par rapport à 2017.'],\n",
       "  'description': 'La Situation Economique et Sociale Nationale (SESN) est une publication annuelle qui fait la synthèse des informations statistiques émanant de l’ANSD et des autres structures du Système National Statistique (SSN), dans le cadre de l’exécution de leurs tâches quotidiennes. La SESN essaie d’embrasser la quasi- totalité des secteurs de l’activité économique et sociale en mettant en relief l’information quantitative, fournissant ainsi les principaux indicateurs économiques, sociaux et démographiques du Sénégal. Réalisée pour une année (N) en utilisant les données recueillies l’année précédente (N-1), la SESN constitue un véritable instrument de planification et d’aide à la prise de décision pour les principaux acteurs du développement de notre pays.\\n',\n",
       "  'thème': 'TRANSPORT'}}"
      ]
     },
     "execution_count": 298,
     "metadata": {},
     "output_type": "execute_result"
    }
   ],
   "source": [
    "new_indicateurs"
   ]
  },
  {
   "cell_type": "code",
   "execution_count": 299,
   "metadata": {},
   "outputs": [],
   "source": [
    "save_ind = new_indicateurs"
   ]
  },
  {
   "cell_type": "code",
   "execution_count": 300,
   "metadata": {},
   "outputs": [
    {
     "name": "stdout",
     "output_type": "stream",
     "text": [
      "None\n",
      "['Une matrice de comptabilité sociale (MCS) est une présentation du Système de Comptabilité nationale (SCN) sous forme matricielle, qui permet l’incorporation des détails supplémentaires présentant un intérêt particulier. Il s’agit d’un cadre comptable qui décrit de manière cohérente les flux de revenus dans une économie au cours d’une période considérée.']\n",
      "[]\n",
      "['Au troisième trimestre de l’année 2023, le Produit Intérieur Brut (PIB) réel, corrigé des variations saisonnières (CVS), a augmenté de 0,7%, par rapport au trimestre précédent. Ce résultat est consécutif au relèvement des taxes nettes de subventions sur les produits (+4,7%) et de la valeur ajoutée du secteur tertiaire (+0,8%). A contrario, les secteurs secondaire et primaire ont fléchi, respectivement, de 0,6% et 0,2%.', 'S’agissant des composantes de la demande, en variation trimestrielle, la formation brute de capitale fixe (FBCF) s’est rehaussée de 12,6% sous l’impulsion de sa composante privée (+16,1%). La consommation finale s’est renforcée de 1,3% tandis que les exportations de biens et services ont décru de 6,3%.', 'Par rapport à la même période de l’année 2022, le PIB réel du troisième trimestre de 2023 s’est accru de 4,5%. Cette bonification s’explique principalement par la consolidation des activités des secteurs primaire (+6,3%), du tertiaire (4,7%) ainsi que du secondaire (+3,9%). Quant aux taxes nettes sur les produits, elles se sont relevées de 1,9% en volume.', 'Sous l’angle de la demande, le regain d’activité économique au troisième trimestre de 2023, par rapport au trimestre correspondant de l’année précédente, s’est traduit, en termes réels, par l’accroissement de la formation brute de capital fixe (+11,1%), de la consommation finale (+5,2%) tandis que les exportations de biens et services ont diminué de 11,6%.', 'Le Produit Intérieur Brut nominal est estimé à 4 188,8 milliards de FCFA au troisième trimestre de 2023.']\n",
      "['La croissance économique du Sénégal s’est ralentie en 2022 dans un contexte caractérisé par de fortes pressions inflationnistes.', 'La croissance économique du Sénégal s’est établie à 3,8% en 2022 après 6,5% en 2021. Cette décélération de l’activité économique est imputable à celle de la valeur ajoutée du secteur primaire. En particulier le sous-secteur agricole s’est contracté de 0,9% en 2022 en volume. En outre, ce ralentissement de l’activité économique s’est réalisé dans un contexte marqué par des tensions géopolitiques au niveau international et par une augmentation soutenue des prix. En effet, le niveau général des prix1 a augmenté de 8,7% en 2022.', 'Les dépenses de consommation finale se sont accrues de 3,1% en 2022, en termes réels. Cette situation est expliquée par la hausse de la consommation marchande de 3,5% en 2022. Elle est amoindrie par une progression limitée de celle non marchande (+2,2%).', 'Par ailleurs, la formation brute du capital fixe (FBCF) en volume s’est relevée de 11,0% en 2022, après 15,8% en 2021. Cette évolution est principalement imputable à sa composante privée qui s’est rehaussée de 17,3% en 2022, après 18,8% un an auparavant.', 'Les échanges extérieurs de biens et services en volume ont été marqués par un accroissement plus soutenu des importations (+12,4%) que des exportations (+3,5%). En valeur, le solde de la balance des biens et services s’est largement détérioré en s’établissant à -4 534,0 milliards FCFA en 2022, après -3 067,0 milliards FCFA en 2021. Dans ce sillage, le déficit extérieur courant rapporté au PIB est ressorti à 20,1% contre 12,1% un an auparavant.', 'Le taux d’épargne nationale est évalué à 25,6% du PIB en 2022 contre 26,1% en 2021. Aussi, le PIB nominal s’est-il établi à 17 228 milliards FCFA en 2022, après 15 261 milliards FCFA en 2021.']\n",
      "['Les prix des matériaux de construction ont baissé de 0,3% en novembre 2023, comparativement au mois précédent. Ce repli est consécutif à celui des prix des peintures (-1,7%) ainsi que des matériaux de base (-0,5%). En variation annuelle[1], les prix des matériaux de construction se sont contractés de 4,9%.\\xa0\\xa0\\xa0', 'Les prix des peintures ont chuté de 1,7% au mois de novembre 2023, sous l’effet de la baisse de ceux de la peinture à eau (-2,4%) et de la peinture à huile (-0,2%). En comparaison à la période correspondante en 2022, les prix ont diminué de 2,1%.', 'Le repli des prix des matériaux de base (-0,5%), en rythme mensuel, est imputable à celui des prix\\xa0 du fer à béton (-1,9%), du sable (-0,2%) et des graviers (-0,1%). Toutefois, les prix du ciment ordinaire se sont accrus de 0,1% sur la même période. En variation annuelle, les prix ont baissé de 7,6%.\\xa0', 'Les prix des matériaux de menuiserie se sont contractés de 0,1% au cours du mois sous revue, en raison du recul de ceux des articles en aluminium (-0,3%) ainsi que ceux en bois (-0,1%). \\xa0\\xa0\\xa0Comparés à leur niveau en novembre 2022, les prix des matériaux de menuiserie se sont repliés de 1,4%.\\xa0', 'Les matériaux pour travaux d’électricité se sont renchéris de 0,5% en novembre 2023, suite à la hausse des prix des tubes orange (+4,9%). En variation annuelle, les prix ont diminué de 2,9%.', '[1] Variation entre les mêmes mois de deux années consécutives']\n",
      "[\"Le coût de la construction des logements neufs à usage d'habitation a baissé de 0,2% au troisième trimestre 2023, par rapport au trimestre précédent. Cette évolution résulte essentiellement du repli des prix des « matériaux de construction ». En revanche, l’augmentation du coût de la « main d’œuvre\\xa0», de la «\\xa0location du matériel\\xa0» ainsi que des «\\xa0moyens de gestion\\xa0» a amoindri cette baisse. En variation annuelle[1], le coût de la construction a enregistré une diminution de 0,5%.\", '[1] Variation entre les mêmes trimestres de deux années consécutives']\n",
      "['L’année 2022 est marquée par un ralentissement de l’activité économique notamment sous l’effet de la guerre russo-ukrainienne, de la résurgence de l’épidémie de Covid-19 en Chine et du relèvement des taux d’intérêt par les banques centrales pour juguler l’inflation. Selon les estimations du Fonds Monétaire international (FMI), la croissance mondiale devrait ralentir à 3,4 % en 2022, contre 6,1 % en 2021[1].', 'Selon cette même source, l’inflation mondiale a atteint 8,8 % en 2022, dépassant le niveau de 3,5% d’avant la pandémie. L’inflation annuelle moyenne s’est établie à +7,3 % dans les pays avancés et à +9,9 % dans les pays émergents et les pays en développement en 2022. En particulier, dans les pays en développement à faible revenu, l’inflation a dépassé 14 %.', 'Par ailleurs, dans la zone UEMOA, le taux d’inflation en moyenne annuelle est ressorti à +7,4%. Il est resté supérieur au seuil communautaire de 3,0% dans la quasi-totalité des Etats membres de l’Union.', 'Au Sénégal, le taux d’inflation s’est établi à +9,7% en 2022, après 2,2% l’année précédente. La tension sur les prix à la consommation est induite principalement par la hausse des prix des produits alimentaires résultant notamment de celle des cours mondiaux des matières premières de base. De même, la hausse des prix de certaines fonctions de consommation, telles que les « meubles, articles de ménage et entretien courant du foyer », les biens et services de « transports »,\\xa0 de « restaurants et hôtels », « d’enseignement », ainsi que de « logement, eau, gaz, électricité et autres combustibles » ont aussi concouru au relèvement des prix intérieurs.', '[1] FMI, Perspectives de l’économie mondiale (PEM) de janvier 2023.']\n",
      "[\"Au troisième trimestre 2023, les prix à la consommation ont augmenté de 4,0% par rapport au trimestre précédent. Cette hausse est due, principalement, à celle des prix des « produits alimentaires et boissons non alcoolisées » (+7,0%), des services de «\\xa0loisirs et culture\\xa0» (+1,9%) et de «\\xa0communication\\xa0» (+0,7%), ainsi que des «\\xa0biens et services divers\\xa0» (+0,6%) et de «\\xa0santé\\xa0» (+0,5%). Par contre, il est enregistré une baisse des prix des «\\xa0articles d'habillement et chaussures\\xa0» (-0,3%) et une constance de ceux des services «\\xa0d’enseignement\\xa0» pendant la période sous revue.\", 'Par ailleurs, en comparaison au trimestre correspondant de l’année 2022, les prix à la consommation se sont accrus de 4,9%, en relation avec la hausse des prix de toutes les fonctions de consommation, notamment ceux des « biens et services divers\\xa0»\\xa0(+6,2%), des « produits alimentaires et boissons non alcoolisées » (+5,8%) et des services de «\\xa0restaurants et hôtels\\xa0» (+5,5%).']\n",
      "['Les prix à la consommation du mois de novembre 2023 ont diminué de 1,2%, comparés à ceux du mois précédent, en liaison, principalement, avec le repli des prix des « produits alimentaires et boissons non alcoolisées » (-2,5%). Toutefois, le renchérissement des services de « communication » (+2,8%), des « restaurants et hôtels » (+1,0%), des « biens et services divers » (+0,7%), des « meubles, articles de ménage et entretien courant du foyer » (+0,6%) ainsi que des services de « transports » (+0,3%) a amoindri cette baisse. Par rapport au mois de novembre 2022, les prix à la consommation se sont accrus de 0,9%. Les prix des « produits alimentaires et boissons non alcoolisées » ont chuté de 2,5% en rythme mensuel. Cette réduction est liée à celle des prix des poissons frais (-12,5%), des tubercules et plantains (-7,7%), des légumes frais en fruits ou racine (-3,0%) ainsi que de l’huile (-2,3%). De même la diminution des prix des céréales non transformées de 1,8% a contribué à cette tendance baissière. Comparés au mois de novembre 2022, les prix des produits de cette fonction se sont repliés de 0,1%.']\n",
      "[\"L’activité industrielle est marquée, en novembre 2023, par une augmentation de 0,4% des prix de la production industrielle hors égrenage de coton, comparativement à ceux du mois précédent. Cette situation est induite par le renchérissement des prix des produits des industries extractives (+1,5%). Toutefois, les prix des produits manufacturés, des industries environnementales, ainsi que de l'électricité, eau et gaz n’ont pas connu de variation. \", 'En variation annuelle, les prix de la production industrielle hors égrenage de coton se sont relevés de 0,8% en novembre 2023, sous l’effet de l’appréciation des prix des produits de l’électricité, eau et gaz (+7,7%) et de ceux des produits extractifs (+3,7%). Cependant, sur les onze premiers mois de 2023, les prix de production industrielle ont diminué de 1,0% comparativement à leurs niveaux à la période correspondante de 2022.', 'S’agissant de l’égrenage de coton, les prix ont augmenté de 15,1% en variation mensuelle. En revanche, ils ont diminué respectivement de 1,4% et de 12,9% en variation annuelle et en cumul sur les onze premiers mois de 2023.', \"L’activité industrielle est marquée, en novembre 2023, par une augmentation de 0,4% des prix de la production industrielle hors égrenage de coton, comparativement à ceux du mois précédent. Cette situation est induite par le renchérissement des prix des produits des industries extractives (+1,5%). Toutefois, les prix des produits manufacturés, des industries environnementales, ainsi que de l'électricité, eau et gaz n’ont pas connu de variation. \", 'En variation annuelle, les prix de la production industrielle hors égrenage de coton se sont relevés de 0,8% en novembre 2023, sous l’effet de l’appréciation des prix des produits de l’électricité, eau et gaz (+7,7%) et de ceux des produits extractifs (+3,7%). Cependant, sur les onze premiers mois de 2023, les prix de production industrielle ont diminué de 1,0% comparativement à leurs niveaux à la période correspondante de 2022.', 'S’agissant de l’égrenage de coton, les prix ont augmenté de 15,1% en variation mensuelle. En revanche, ils ont diminué respectivement de 1,4% et de 12,9% en variation annuelle et en cumul sur les onze premiers mois de 2023.']\n",
      "['Les prix de production des services d’hébergement et de restauration ont augmenté de 0,4% au troisième trimestre 2023, comparés à ceux du trimestre précédent, sous l’effet du renchérissement des services de restauration (+1,8%). Quant aux prix des services d’hebergement, ils ont légérement baissé (-0,1%) sur la période sous revue. En variation trimestrielle, les prix de production des services spécialisés, scientifiques et techniques se sont relevés de 0,2% au troisième trimestre 2023, sous l’effet de la hausse des prix des services comptables (+0,7%), de publicité (+0,1%) et d’architecture et d’ingénierie (+0,1%). Au troisième trimestre 2023, les prix de production des services de soutien et de bureau ont haussé de 1,3% comparativement à ceux du trimestre précédent. Cette évolution est imputable à l’augmentation des prix des services d’enquêtes et de sécurité (+2,5%).']\n",
      "['Au troisième trimestre de 2023, le Répertoire National des Entreprises et Associations (RNEA) a enregistré une augmentation significative des nouvelles immatriculations, atteignant 25 302 unités. Cela équivaut à une hausse de 4 908 unités par rapport au trimestre précédent, soit 24,07%, et 18,83% par rapport au même trimestre en 2022.', 'En ce qui concerne la répartition géographique, la région de Dakar se démarque en enregistrant 58,56% de toutes les immatriculations. Elle est suivie des régions de Thiès (13,24%), Diourbel (6,25%), et Kaolack (4,95%). Cependant, les régions de Kédougou (0,77%), Sédhiou (0,83%), et Kaffrine (1,17%) affichent les taux les plus bas.', \"La grande majorité des nouvelles immatriculations correspond à des entreprises individuelles, totalisant 74,78% du nombre total. Les autres régimes juridiques, tels que les Groupements d'Intérêt Économique (GIE), les Sociétés à Responsabilité Limitée (SARL), et les Sociétés Unipersonnelles à Responsabilité Limitée (SUARL), suivent avec respectivement 5,26%, 2,30%, et 1,99% du total des immatriculations.\", 'Le secteur du commerce apparait comme étant le secteur le plus attractif pour les nouvelles créations. En effet, 30,12% des entreprises morales se consacrent à des activités commerciales contre 70,61% pour les entreprises individuelles. Pour ces dernières, en dehors du commerce, les \"Services personnels et divers\" représentent 9,52% des immatriculations, suivis des \"Services fournis aux entreprises\" (5,19%) et de l\\'agriculture, de l\\'élevage et de la pêche (3,00%). En revanche, le secteur des \"Hôtels, bars et restaurants\" est moins représenté, avec seulement 1,03%.', \"Selon le genre des propriétaires d'entreprises individuelles, les hommes dominent largement avec une part de marché de 73,14% au troisième trimestre 2023, tandis que les femmes représentent 26,86% des nouvelles créations d'entreprises.\"]\n",
      "['Au troisième trimestre 2023, le chiffre d’affaires (CA) réalisé dans le secteur de la construction a fortement progressé (+68,8%), relativement à celui du même trimestre de 2022. Cette évolution résulte du relèvement simultané des chiffres d’affaires dans tous ses sous-secteurs. De même, en cumul sur les trois premiers trimestres de 2023, le chiffre d’affaires réalisé dans le secteur de la construction s’est amélioré de 28,5% comparativement à celui de la même période de 2022. Relativement au troisième trimestre 2022, le chiffre d’affaires dans la construction de bâtiments a progressé de 42,4%']\n",
      "['La production des entreprises a bondi de 16,8% en 2022 après une évolution de +23,7% en 2021. En valeur absolue, elle s’est établie à 14 052,7 milliards FCFA en 2022 contre 12 028,1 milliards FCFA en 2021.\\nCette dynamique de la production a induit une hausse de 15,3% de la valeur ajoutée (VA) passant de 3 110,7 milliards FCFA en 2021 à 3 587,0 milliards FCFA en 2022. Cependant, le taux de valeur ajoutée a légèrement baissé de 0,3 point en s’établissant à 25,5% en 2022.\\nDans ce même sillage, le chiffre d’affaires des entreprises du secteur moderne est passé de 16 856,1 milliards FCFA en 2021 à 20 135,2 milliards FCFA en 2022, soit un bond de 22,0%.\\nQuant au résultat net des entreprises du secteur moderne, il s’est aussi amélioré en s’établissant à 619,7 milliards FCFA en 2022 contre 244,7 milliards FCFA en 2021.\\nPar ailleurs, les entreprises ont pu dégager un excédent de trésorerie assez important évalué à 1 690,2 milliards FCFA en 2022 contre 1 397,2 milliards FCFA en 2021, soit une nette amélioration de 21,0%.\\nL’autonomie financière des entreprises formelles a chuté de 8,8 points en 2022 en s’établissant à 46,2%. En plus, le ratio de solvabilité a fléchi de 0,8 point en se situant à 14,4% en 2022. Par ailleurs, le ratio de fonds de roulement des entreprises s’est accru de 4,6 points en 2022 et se chiffre à 88,6%.\\nEn ce qui concerne les rentabilités économiques et financières, elles ont poursuivi leur croissance en 2022, après avoir reculé en 2020. Elles se sont respectivement établies à 7,7% et 12,7% en 2022, contre 5,7% pour les deux indicateurs en 2021.']\n",
      "['Au deuxième trimestre 2023, le nombre d’employés salariés dans le secteur moderne hors administration publique est évalué à 340\\xa0641 contre 336\\xa0037 un an plus tôt, soit une progression de 1,4%. De même, les rémunérations globales ont progressé de 2,4% sur la même période, passant de 349,9 milliards de FCFA à 358,2 milliards de FCFA. Concernant les heures hebdomadaires moyennes travaillées par employé, elles ont diminué sur la période (-1,1%). \\xa0', 'Le nombre d’employés dans le secteur moderne, hors administration publique, s’est accru de 1,4% au deuxième trimestre 2023, comparativement à celui de la période correspondante de l’année précédente. Cette évolution est consécutive à l’augmentation des effectifs dans le commerce (+10,0%), l’industrie (+1,4%) et, dans une moindre mesure, les services (+1,1%). En revanche, elle a été amoindrie par le repli des effectifs dans la construction (-12,5%).']\n",
      "['L’activité des industries extractives se bonifie en octobre 2023\\xa0En référence au mois correspondant de 2022, la production des industries extractives a progressé de 6,9% en octobre 2023, sous l’effet de la forte hausse de la production des autres produits des\\xa0industries extractives (+114,5%).\\xa0Sur les dix premiers mois de 2023, la production des industries extractives s’est légèrement améliorée\\xa0de 0,5%, comparativement à celle de la période correspondante de 2022.\\xa0Par rapport au mois correspondant de 2022, la production d’électricité, de gaz et d’eau s’est accrue de\\xa017,8% en octobre 2023. Cette augmentation est imputable à la performance notée dans la production\\xa0d’électricité et de gaz (+21,1%) ainsi que d’eau (+5,8%).\\nDe même, en cumul sur les dix premiers mois de l’année 2023, la production d’électricité, de gaz et\\xa0d’eau a progressé de 14,6%, comparée à celle de la période correspondante de 2022.']\n",
      "[\"Le RGE a permis de dénombrer 407 882 unités économiques réparties sur l'ensemble du pays. Cependant, la plupart de ces unités se situent dans la région de Dakar (39,5%), suivie de celles de Thiès (11,5%), Diourbel (9,4%) et Kaolack (5,9%). Les entreprises individuelles (82,3%) sont les plus représentées et elles évoluent majoritairement dans le secteur informel. S'agissant des personnes morales, les Groupements d'Intérêts économiques (GIE) et les Sociétés à Responsabilité limitée (SARL) dominent avec des proportions respectives de 53,7% et 20,3%. Par ailleurs, l'environnement des entreprises sénégalaises est marqué par une forte présence de petites et moyennes Entreprises1 (99,8%), dont 81,8% sont des entreprenants. Concernant la mise en place des entreprises, la plupart sont des créations initiales, les cas d’absorption et de fusion ne représentent que 0,5%. Le RGE a dénombré une part négligeable d'entreprises en arrêt momentané de leurs activités pendant la collecte (0,07%) du fait du manque de fonds (48,8%), de baisse de la vente (16,9%), de l’indisponibilité du personnel (10,2%), du manque de matériels (8,5%)et de l'indisponibilité de local adapté pour exercer leurs activités (5,8%).\"]\n",
      "['Le chiffre d’affaires dans l’industrie a diminué de 4,6% au troisième trimestre 2023, comparé à celui de la même période de 2022, sous l’effet du repli de celui des industries extractives (-21,7%) et manufacturières (-3,6%). En revanche, les chiffres d’affaires des industries de production d’électricité de gaz et d’eau (+26,0%) et environnementales (+9,4%) se sont améliorés sur la période sous revue.', 'En cumul sur les neuf premier mois de 2023, le chiffre d’affaires dans l’industrie s’est bonifié de 1,9% en comparaison à celui de la même période de 2022.']\n",
      "['Le chiffre d’affaires dans l’industrie a diminué de 4,6% au troisième trimestre 2023, comparé à celui de la même période de 2022, sous l’effet du repli de celui des industries extractives (-21,7%) et manufacturières (-3,6%). En revanche, les chiffres d’affaires des industries de production d’électricité de gaz et d’eau (+26,0%) et environnementales (+9,4%) se sont améliorés sur la période sous revue.', 'En cumul sur les neuf premier mois de 2023, le chiffre d’affaires dans l’industrie s’est bonifié de 1,9% en comparaison à celui de la même période de 2022.']\n",
      "['\\xa0', '\\xa0Les prix des produits importés augmentent de 3,0%', 'En octobre 2023, les produits à l’importation se sont renchéris de 3,0%, comparés au mois précédent. Cette hausse s’explique par le relèvement des prix des «\\xa0produits minéraux\\xa0» qui y ont contribué à +1,6 points de pourcentage, des «\\xa0matériels de transport\\xa0» (+0,7) et des «\\xa0produits du règne végétal\\xa0» (+0,5). Toutefois, cette augmentation des prix des produits importés est partiellement amortie par la baisse des prix des « machines et appareils\\xa0» (-0,6). Par rapport au mois d’octobre 2022, les prix des produits importés ont reculé de 0,7%. Sur les dix premiers mois de 2023, les prix des produits achetés à l’extérieur se sont renchéris de 4,5%, en comparaison à ceux de la même période de 2022.', 'Les prix des produits exportés se contractent de 2,0%', 'Les prix des produits à l’exportation se sont dépréciés de 2,0% au mois d’octobre 2023, par rapport au mois précédent. Cette baisse est imputable à celle des prix des «\\xa0animaux vivants et produits du règne animal\\xa0» qui y ont contribué à -1,0 point de pourcentage, des « produits minéraux » (-0,9) et des «\\xa0produits du règne végétal\\xa0» (-0,4). Cependant, cette contraction des prix des produits exportés est atténuée par la hausse des prix des «\\xa0produits des industries alimentaires » (+0,4) et des «\\xa0produits des industries chimiques » (+0,3). Rapportés au mois d’octobre 2022, les prix des produits à l’exportation ont chuté de 12,7%. Sur les dix premiers mois de 2023, les prix de vente à l’extérieur se sont renchéris de 1,2%, relativement à ceux de la même période de 2022.']\n",
      "['Le présent rapport présente la situation de l’Union au plan commercial assortie de recommandations en vue de réduire ou de supprimer les barrières tarifaires et non tarifaires au commerce dans l’espace UEMOA.L’espace UEMOA maintiendrait, en 2017, son niveau de taux de croissance réel de 6,7% observé en 2016. L’activité économique s’est réalisée dans un environnement relativement stable sur le plan monétaire, caractérisé par une inflation modérée à 0,3% en 2016 contre 1% en 2015. L’inflation serait de 0,6% en 2017']\n",
      "['Les exportations du Sénégal sont ressorties à 3 563,4 milliards de FCFA en 2022 contre 2 884,8 milliards de FCFA en 2021, soit une hausse de 23,5%. Cette progression est , notamment, consécutive à celle des expéditions de l’acide phosphorique (+77,8%), des produits pétroliers (+48,5), des produits halieutiques (+35,3%), du titane et du zircon (+35,3%) et de l’or\\xa0non monétaire (+7,6%). Cependant, les baisses des ventes des produits arachidiers (-40,2%) et du ciment hydraulique (-12,2%) ont réduit cette embellie.', 'Les expéditions du Sénégal sont principalement orientées, en 2022, vers les continents africain (39,4%), européen (25,0%) et asiatique (24,3%). La part de marché du continent européen s’est effritée d’environ quatre points de pourcentage au profit du continent asiatique.', 'Les importations du Sénégal ont bondi de 40,4% en 2022 pour atteindre 7 549,4 milliards de FCFA contre 5 378,5 milliards de FCFA en 2021. Cette évolution est imputable à la progression des achats à l’extérieur des produits pétroliers (+95,4%), des matériels de transport et pièces détachées (+57,3%), des produits céréaliers (+41,9%) et des produits manufacturés tels que les métaux communs et les ouvrages en métaux communs (+29,0%) et les machines et appareils (+15,7%). Toutefois, les importations d’huile brute de pétrole ont fléchi de 2,3%.', 'Les principaux fournisseurs du Sénégal ont été les pays de l’Europe et de l’Asie. Ils sont suivis de ceux de l’Afrique et de l’Amérique. Les parts des pays d’Europe (47,4% en 2022 après 49,0% en 2021) et de l’Afrique (11,9% en 2022 après 13,4% en 2021) ont diminué au profit des pays d’Asie (32,3% en 2022 après 29,4% en 2021).', 'La balance commerciale du Sénégal en 2022 s’est établie à -3 986,0 milliards de FCFA contre -2493,7 milliards de FCFA l’année précédente. Cette détérioration du solde est expliquée par une hausse des importations (+2\\xa0170,9 milliards de FCFA) plus importante que celle des exportations (+678,6 milliards de FCFA) en 2022.']\n",
      "['Au mois d’octobre 2023, les exportations du Sénégal sont évaluées à 237,0 milliards de FCFA contre 214,0 milliards de FCFA au mois précédent, soit un accroissement de 10,7%. ', 'Les principaux clients du Sénégal ont été le Mali (24,4%), la Suisse (11,7%), l’Inde (11,0%), la République populaire de Chine (3,9%) et l’Australie (3,6%).', 'Les importations du mois d’octobre 2023 sont ressorties à 599,6 milliards de FCFA contre 562,2 milliards de FCFA au mois précédent, soit une hausse de 6,6%.', 'Les principaux fournisseurs du Sénégal ont été la République populaire de Chine (13,5%), les Emirats Arabes Unis (10,6%), le Nigeria (10,3%), la France (10,0%) et l’Inde (7,3%).', 'Le solde commercial s’est établi à -362,6 milliards de FCFA au mois d’octobre 2023 contre - 348,2 milliards de FCFA au mois précédent. ']\n",
      "['La production totale d’électricité[1] de la SENELEC, en octobre 2023, a augmenté de 12,1% (664,0 GWH[2] après 592,5 GWH) par rapport au mois de septembre 2023. Cette dynamique est portée par l’accroissement\\xa0 des achats auprès des autres producteurs (+14,6%) ainsi que de sa propre production (+4,7%) sur la période.', 'Par rapport à octobre 2022, la production totale d’électricité a crû de 16,5%, sous l’effet de la forte progression des achats auprès des autres producteurs (+21,9%).\\xa0', 'Au mois sous revue, les productions en valeur de sel iodé (+45,3%) et d’attapulgite (+42,8%) se sont relevées par rapport au mois précédent. Par contre, celles du zircon (-12,0%) et de l’or (-1,5%) se sont contractées sur la période (après une augmentation de 38,4% et 32,2%, respectivement, en septembre 2023).', 'Comparées à un auparavant, les productions en valeur d’attapulgite (+103,2%), de zircon (+35,4%) et de l’or (+4,5%) se sont améliorées. Par contre, celle de sel iodé (-6,7%) a fléchi au cours de cette période.', '[1] Production propre de la SENELEC + Achats auprès des autres producteurs.', '[2] Gigawatt-heures. Les données des mois précédents ont été actualisées.', '[1]aux mois précédents ainsi que de l’or (+32,2%) expliquée par la hausse des quantités produites due à une teneur en or plus élevée des fosses exploitées, en variation mensuelle. Par contre, celles du sel iodé (-21,1%) et de l’attapulgite (-14,8%) se sont contractées sur la période.', '[1] Travaux de maintenance.', '[1] Tirée par la forte variation des produits extractifs autres que les minerais métalliques (+110,1%).', '[1] Production propre de la SENELEC + Achats auprès des autres producteurs', '[2] Gigawatt-heures']\n",
      "[\"Le présent Bulletin[1] résume les statistiques économiques et financières du mois de d'octobre 2023 réparties en quatre grandes parties, à savoir le secteur primaire, le secteur secondaire, le secteur tertiaire et les autres statistiques.\", 'la partie intitulée «\\xa0Autres statistiques\\xa0» résume les données sur les entreprises nouvellement immatriculées au Numéro d’Identification National des Entreprises et Associations, la situation de l’emploi dans le secteur formel, l’Indice Harmonisé des Prix à la Consommation, le commerce extérieur et les statistiques financières. ', '[1] Le Bulletin mensuel des statistiques est publié au plus tard soixante jours après la fin du mois sous revu.']\n",
      "['Selon les estimations du FMI, l’activité économique mondiale devrait ralentir à 2,8% [1] en 2023 après 3,4% en 2022. Cette contreperformance est attribuable au durcissement des conditions financières mondiales et à la faiblesse de la demande extérieure. En Afrique subsaharienne, la persistance de l’inflation mondiale et le resserrement des politiques monétaires ont entraîné une hausse des coûts d’emprunt et exercé une pression accrue sur les taux de change. Cette situation a mis un coup d’arrêt sur la reprise et a entrainé un ralentissement de la croissance économique qui devrait s’établir à 3,6 % en 2023. ', 'Sur le plan interne, le Produit Intérieur Brut en volume corrigé des variations saisonnières (PIB-CVS) recule de 0,8% en variation trimestrielle. Par ailleurs, comparée à la période correspondante de 2022, la production industrielle se contracte de 7,6% au premier trimestre 2023. Cette contreperformance est attribuable à la diminution de la production des industries extractives (-13,1%), et celle des industries manufacturières (-8,0%).', '[1] Fonds monétaire international | avril 2023', '\\xa0', '[1] Fonds monétaire international | Janvier 2023']\n",
      "['En 2017, la population du Sénégal est estimée à 15 256 360 habitants, contre 15 726 056 en 2018 et 4 997 885 en 1976. Ces chiffres montrent que la population a presque triplé en moins de 50 ans. Globalement, au vu des évolutions des dernières décennies, plusieurs facteurs expliquent cette situation. En effet, la dynamique démographique naturelle du Sénégal est marquée par une natalité toujours élevée (taux brut de natalité de 37,1 pour mille en 2017 et 36,8 pour mille en 2018) et une mortalité en constante baisse (taux brut de mortalité de 7,3 pour mille en 2017 et 7,1 pour mille en 2018). En outre, l’Indice Synthétique de Fécondité (ISF), qui mesure le nombre moyen d’enfants qu’aurait une femme en fin de vie féconde si elle avait des enfants aux taux de fécondité par âge actuels chez les femmes de 15-49 ans, présente une légère tendance à la baisse ces deux dernières années. Ainsi, elle est passée de 4,6 en 2017 à 4,4 en 2018.']\n",
      "['Télécharger le rapport préliminaire', 'Le rapport préliminaire donne globalement les tendances démographiques issues du cinquième Recensement général de la Population et de l’Habitat (RGPH-5). Les résultats portent sur les informations relatives à la population totale répartie par sexe, par âge, par grande division administrative et la typologie des ménages recensés.', 'Après les phases préparatoires entamées et exécutées entre 2021 et début 2023, le dénombrement général a été réalisé en mai-juin 2023.', 'Un taux d’accroissement moyen annuel intercensitaire resté constant entre 2013 et 2023', 'La population résidente au Sénégal, recensée en 2023 est de 18 032\\xa0473 habitants, dont 8 900\\xa0614 femmes (49,4%) et 9 131\\xa0859 hommes (50,6%).', 'Elle s’établissait à 13\\xa0508\\xa0715 habitants en 2013, soit un taux d’accroissement moyen annuel intercensitaire de 2,9% qui est resté constant entre les deux périodes. Avec une population de 4\\xa0958\\xa0085 en 1976 et 6\\xa0881\\xa0919 en 1988, les taux d’accroissement intercensitaires étaient respectivement de 2,7 % et 2,5 % pour 1976-1988 et 1988-2002.', 'Une population très jeune marquée par une prédominance de l’effectif des hommes par rapport aux femmes', 'La population sénégalaise se caractérise par sa grande jeunesse\\xa0: la moitié de la population est âgée de moins de 19 ans (18 ans chez les hommes contre 20 ans chez les femmes) et', 'Les enfants âgés de moins de 15 ans constituent 39,2% de la population globale. Cette catégorie est plus importante chez les garçons (40,6%) que chez les filles (37,6%). En outre, 3,8% de la population est âgée de 65 ans et plus.', 'En considérant les grands groupes d’âges, on observe un avantage numérique des hommes sur les femmes aux âges jeunes, moins de 15 ans avec 110,8 garçons pour 100 filles. Pour les tranches d’âges 15-34 ans et 60 ans ou plus, la tendance s’inverse en faveur des femmes avec respectivement 98,1 et 93,5 hommes pour 100 femmes.', 'Une population concentrée sur l’axe Dakar-Thiès-Diourbel (46,8%)', 'La population du Sénégal est répartie de façon inégale dans l’espace. Les plus fortes concentrations humaines s’observent à l’Ouest du pays, au Centre et vers le Nord-Ouest, tandis que l’Est et le Nord-Est demeurent faiblement peuplés.', 'La densité de la population initialement à 65 habitants au km² en 2013, est passée à 92 habitants au km² en 2023. La région de Dakar se démarque des autres avec une densité de\\xa0 7 277 habitants au km². La région de Kédougou est la moins peuplée avec une densité de 15 habitants au km².', 'En outre, le département de Mbacké est le plus peuplé au Sénégal suivi de celui de Dakar avec respectivement 1 359 757 et 1 182 416 habitants. Par ailleurs, Mbour (937 189) devient le troisième département, suivi du département de Thiès (880 266 habitants) et Rufisque (822 105 habitants) qui a connu une forte augmentation de sa population entre 2013 et 2023 (68%). A l’opposé, les départements les moins habités sont Salémata (28 111 habitants) ; Oussouye (52 883 habitants); Saraya (92 912 habitants) et Ranérou (103 283 habitants).', 'La taille moyenne des ménages est estimée à 9 individus par ménage en 2023. Elle est moins importante à Dakar avec 6 personnes. Par contre, dans les régions de Tambacounda, Sédhiou, Matam, Kaolack et Kaffrine, on trouve des tailles moyennes de 12 individus par ménage.', '45,6% des ménages pratiquent une activité agricole', 'En 2023, on a dénombré 908\\xa0628 ménages qui ont une activité\\xa0 agricole[1], soit 45,6% des ménages du Sénégal. La pratique d’une activité agricole est plus fréquente dans les régions de Thiès, Dakar, Louga et Saint-Louis, suivie de Diourbel et Kaolack dans une moindre mesure. L’activité agricole au sens large est moins pratiquée dans les régions de Kédougou, Sédhiou et Ziguinchor.', 'Télécharger le rapport préliminaire', '[1]Un ménage a une activité agricole si au moins un de ses membre pratique une activité agricole au sens large (culture pluviale, culture irriguée, culture de décrue, culture de bas fond, culture maraichère, aquaculture, culture florale ou ornementale, culture fourragère, plantation fruitière, élevage, pêche, chasse, foresterie), pour son propre compte ou pour le compte du ménage, sans y être salarié au cours des 12 derniers mois']\n",
      "['L’Agence Nationale de la Statistique et de la Démographie a réalisé son quatrième (4ème) Recensement Général de la Population et de l’Habitat, de l’Agriculture et de l’Elevage (RGPHAE). Dans le cadre de la diffusion et de la valorisation des données du RGPHAE, l’atlas qui compte parmi les produits phares du recensement a été réalisé dans l’optique d’améliorer la qualité des analyses pour une meilleure compréhension des données par les usagers et les décideurs politiques.', 'L’ATLAS fournit des données désagrégées permettant d’éclairer les décisions politiques dans l’allocation des ressources indispensables au développement socio-économique durable et équitable. Il examine divers indicateurs sociodémographiques et économiques de chaque département. Ces indicateurs sont spatialisés au niveau départemental sur des cartes commentées afin d’en faciliter la lecture et l’aide à la prise de décision. L’essentiel des informations présentées dans cet ATLAS sont issues des données du dernier recensement de 2013.']\n",
      "['Le Gouvernement du Sénégal vient de réaliser en 2023 la huitième phase de l’Enquête continue (EC) conformément au programme d’actions de la troisième Stratégie nationale de Développement de la Statistique (SNDS-III). L’Enquête continue (EC) comporte deux volets :', 'Le présent rapport présente les résultats clés et est conçu pour fournir aux décideurs, le plus rapidement après la fin de la collecte, des informations sur le niveau de certains indicateurs les plus importants. Il est essentiellement descriptif et ne couvre pas tous les domaines enquêtés. Le rapport final couvrira l’ensemble des domaines enquêtés avec une analyse plus élaborée des données, en fonction de certaines caractéristiques sociodémographiques des personnes interviewées.']\n",
      "['Les résultats du RGPHAE révèlent un niveau de fécondité toujours élevé et constant depuis 2002 avec en moyenne 5,1 enfants par femme. D’importantes disparités s’observent entre les milieux urbain et rural (4,1 et 6,2 enfants par femme respectivement). Au niveau régional, Dakar se singularise avec un indice synthétique de fécondité relativement faible (3,7 enfants par femme). On peut citer également les régions de Saint-Louis, Thiès (4,9 enfants par femme) avec des niveaux inférieurs à la moyenne nationale. A l’opposé, les régions de Sédhiou (7,2 enfants par femme), Matam (6,8 enfants par femme), Kaffrine et Tambacounda (6,9 enfants par femme)) conservent un niveau de fécondité relativement élevé. Depuis 2002, le niveau de la fécondité est resté stable et tourne autour de 5 enfants par femme, bien qu’il ait connu une baisse entre 1978 et 2002 (respectivement 7,1 et 5,3).', 'L’’infécondité initiale, mesurée par la proportion des femmes en âge de procréer sans enfants nés vivants, révèle qu’une femme (15-49 ans) sur trois n’a pas encore eu une naissance vivante au moment du Recensement (38%). Les régions fortement urbanisées telles que Dakar et Thiès sont plus concernées par le phénomène. L’infécondité totale qui s’apparente à la stérilité primaire définitive se retrouve surtout dans les régions de Kédougou, Tambacounda et Louga. En fin de vie féconde, le taux d’infécondité finale apparaît faible (6%) et montre que rares sont les femmes de plus de 49 ans qui restent sans enfant et ce, quel que soit le milieu de résidence. Cela traduit, au Sénégal, le caractère marginal du phénomène de stérilité définitive en matière de procréation.', 'Par ailleurs, les données ont montré que 16,6% de la population déclarent ne posséder aucun acte de naissance. Cette population se concentre plus en milieu rural (26,9%) et dans les régions de Kaffrine (38,7%), Tambacounda (38,0), Kolda (31,5%), Diourbel et Louga avec 25,4% chacune. En outre, cette situation touche plus les analphabètes (18,4%) et les personnes n’ayant aucun niveau d’instruction (23,9%). Enfin, les résultats révèlent que 25,6% des naissances d’1 an n’ont pas été déclarées à l’état civil et par conséquent, ces enfants ne possèdent encore aucun acte de naissance.']\n",
      "[\"L’analyse de la mortalité générale indique un taux brut de 8‰ au niveau national. Il est plus élevé en milieu rural (9‰) qu’en milieu urbain (6‰). Dans l’enfance, le taux de mortalité infantile est de 54‰ avec une surmortalité masculine (61‰ contre 47‰). Cette différence est plus marquée, quel que soit le sexe, en milieu rural (63‰) qu’en milieu urbain (42‰). De façon globale, au Sénégal, sur 1000 enfants nés vivants, 79 enfants n’atteignent pas leur cinquième anniversaire. Le niveau de la mortalité maternelle demeure dans l'ensemble élevé au Sénégal.\", 'Le rapport de mortalité maternelle est de 434 pour 100 000 naissances vivantes. Il est de 459 décès en milieu rural contre 398 décès en milieu urbain pour 100 000 naissances vivantes. Au niveau régional, ce ratio est plus élevé à Kédougou avec 921 décès pour 100 000 naissances vivantes. Par contre, il est plus faible à Thiès avec 271 décès pour 100 000 naissances vivantes. Selon l’âge des mères, les adolescentes de moins de 20 ans sont plus touchées par le phénomène avec 629 décès pour 100 000 naissances vivantes.', \"Les résultats de l’analyse de la mortalité montrent qu'en 2013, le Sénégal connaît une espérance de vie à la naissance (tous sexes confondus) estimée à 64,8 ans. Les femmes vivent en moyenne plus longtemps que les hommes (66,5 ans contre 63,2 ans, respectivement). On note également un écart de 5 ans entre le milieu urbain (67,4 ans) et le milieu rural (62,7 ans). Au niveau régional, Dakar (69,6 ans) et Thiès (68,2 ans) ont les espérances de vie les plus longues, contrairement à Kolda (54,7 ans) et à Kédougou (55,0 ans) où la durée de vie des populations est, en moyenne, plus courte. Enfin, au Sénégal, les résultats du RGPHAE révèlent que les décès survenus dans le ménage sont rarement déclarés à l’état civil, avec 65,2 % des cas. La différence est nette entre les milieux urbain et rural, avec respectivement 31,7 % et 85,8 % des décès non déclarés à l’état civil.\"]\n",
      "['Les résultats du RGPHAE révèlent un niveau de fécondité toujours élevé et constant depuis 2002 avec en moyenne 5,1 enfants par femme. D’importantes disparités s’observent entre les milieux urbain et rural (4,1 et 6,2 enfants par femme respectivement). Au niveau régional, Dakar se singularise avec un indice synthétique de fécondité relativement faible (3,7 enfants par femme). On peut citer également les régions de Saint-Louis, Thiès (4,9 enfants par femme) avec des niveaux inférieurs à la moyenne nationale. A l’opposé, les régions de Sédhiou (7,2 enfants par femme), Matam (6,8 enfants par femme), Kaffrine et Tambacounda (6,9 enfants par femme)) conservent un niveau de fécondité relativement élevé. Depuis 2002, le niveau de la fécondité est resté stable et tourne autour de 5 enfants par femme, bien qu’il ait connu une baisse entre 1978 et 2002 (respectivement 7,1 et 5,3).', 'L’infécondité initiale, mesurée par la proportion des femmes en âge de procréer sans enfants nés vivants, révèle qu’une femme (15-49 ans) sur trois n’a pas encore eu une naissance vivante au moment du Recensement (38%). Les régions fortement urbanisées telles que Dakar et Thiès sont plus concernées par le phénomène. L’infécondité totale qui s’apparente à la stérilité primaire définitive se retrouve surtout dans les régions de Kédougou, Tambacounda et Louga. En fin de vie féconde, le taux d’infécondité finale apparaît faible (6%) et montre que rares sont les femmes de plus de 49 ans qui restent sans enfant et ce, quel que soit le milieu de résidence. Cela traduit, au Sénégal, le caractère marginal du phénomène de stérilité définitive en matière de procréation. Par ailleurs, les données ont montré que 16,6% de la population déclarent ne posséder aucun acte de naissance. Cette population se concentre plus en milieu rural (26,9%) et dans les régions de Kaffrine (38,7%), Tambacounda (38,0), Kolda (31,5%), Diourbel et Louga avec 25,4% chacune.', 'En outre, cette situation touche plus les analphabètes (18,4%) et les personnes n’ayant aucun niveau d’instruction (23,9%). Enfin, les résultats révèlent que 25,6% des naissances d’1 an n’ont pas été déclarées à l’état civil et par conséquent, ces enfants ne possèdent encore aucun acte de naissance.']\n",
      "['Le présent rapport est la deuxième édition du profil migratoire du Sénégal après celle de 2009. Les informations contenues dans ce document sont produites par les services habilités. Le rapport a été réalisé par un consultant sous la supervision de l’Agence Nationale de la Statistique et de la Démographie et de l’Organisation Internationale pour les Migrations. L’élaboration du profil migratoire du Sénégal 2018 prend place dans le cadre du projet « Soutien à la liberté de circulation des personnes et migration en Afrique de l’ouest » qui est cofinancé par l’Union Européenne et la CEDEAO et mis en œuvre par l’OIM, l’OIT et l’ICMPD. Il s’inscrit dans le cadre d’un partenariat entre l’Agence Nationale de la Statistique et de la Démographie (ANSD) et l’Organisation internationale pour les migrations (OIM).']\n",
      "['Les migrations interrégionales se rapportent aux déplacements d’une région à une autre dans un même pays. Les résultats du tableau III.1 montrent que les régions de Dakar (48,8 %) et dans une moindre mesure Diourbel (15,2 %) et Thiès (10,0 %) reçoivent une part importante des immigrants. Ces mêmes régions enregistrent le plus de départs (Thiès 19,2 %, Dakar 12,0 % et Diourbel 11,3 %) vers d’autres régions de même que la région de Ziguinchor (13,7 %). Ce qui montre une forte intensité des échanges migratoires dans ces régions. Cependant, au regard des soldes migratoires, les régions de Dakar, Diourbel et Fatick attirent plus qu’elles n’émettent de migrants pour plusieurs raisons. L’attirance pour la région de Dakar serait due à son statut de capitale économique et administrative. Concernant la région de Diourbel, il est permis de penser qu’elle doit sa dimension attractive à la cité religieuse de Touba.']\n",
      "['Au Sénégal, les migrants internes durée de vie sont estimés à 1 881 603 d’individus, soit 14,6% de la population. Les régions de Dakar, de Diourbel et de Thiès ont accueilli la majeure partie de ses flux migratoires, soit respectivement 41,8%, 15,5% et 12,9%. Les régions les plus répulsives sont Ziguinchor, Kaolack, Louga et Fatick avec des indices de sortie respectifs de 25,7%, 20,2%, 19,7% et 19,4%. Le bilan migratoire durée de vie montre que la région de Dakar a enregistré le solde migratoire le plus important (+685292), alors que la région de Saint-Louis affiche le solde négatif le plus important (-74486) suivie de Louga (-45449) et Ziguinchor (-31591). Au cours des 5 dernières années, les Sénégalais partis à l’étranger sont au nombre de 156676, soit 1,2% de la population. Les principales destinations sont l’Europe (44,4%) et les pays de l’Afrique Centrale (27,5%). Le principal motif de départ est le travail (73,5%). Les migrations internationales montrent que le Sénégal a accueilli 261 145 immigrants durée de vie, soit 2,0% de la population, qu’ils soient de nationalité sénégalaise ou non. Ces immigrants viennent pour l’essentiel de l’Afrique de l’Ouest, soit 84,4%. Cette dynamique migratoire, notamment interne, continue de modifier la structure de la population du pays. Au cours des trois dernières décennies, le taux d’urbanisation du Sénégal est passé de 34 % en 1976 à 39 % en 1988 et de 41 % en 2002 à 45,2% en 2013. En somme, le Sénégal se caractérise globalement par une urbanisation galopante. Celle-ci pourrait aussi être liée à la réforme de 2008 qui a vu l’érection de certaines localités rurales en commune.']\n",
      "['Une analyse des flux d’entrées et de sorties au niveau des postes frontières sur la période de janvier à juin 2019 selon sexe montrent que les hommes effectuent plus de déplacements que les femmes. Au total, on dénombre 1 112 420 hommes (soit 64%) contre 639 251 femmes (soit 36%) ayant effectués un déplacement. La même tendance est observée pour les entrées comme pour les sorties. Ainsi, concernant les entrées, 595 770 hommes (64%) contre 339 003 femmes (36%) sont enregistrés. Pour les sorties, sont concernées 516 650 hommes (63%) et 300 248 femmes (37%).']\n",
      "[\"Entre 2017 et 2018, des efforts ont été fait dans le développement des ressources humaines de la santé. Globalement, une hausse du personnel de la santé est notée et particulièrement dans les catégories socio-professionnelles ayant des rapports étroits avec la santé de la mère et de l’enfant. L’effectif du personnel de santé (sages-femmes et gynécologues) ayant pour principal rôle d’accompagner la femme durant sa période de reproduction a augmenté. De 2017 à 2018, le nombre de sages-femmes d’Etat est passé de 2 551 à 2 677 individus, parallèlement, le nombre de gynécologues obstétriciens, bien que faible, a également connu une hausse, passant de 108 à 115, soit une hausse de 6%. L’effectif des pédiatres (médecins des enfants) dont le rôle est d’étudier le développement psychomoteur et physiologique normal de l'enfant, ainsi que les maladies infantiles a également évolué positivement sur la période et passe de 65 à 107 individus. Les effectifs des autres catégories socioprofessionnelles comme les médecins, les assistants infirmiers et les infirmiers d’Etat ont aussi connu une évolution positive entre 2017 et 2018. A cela, s’ajoute les autres personnels de la santé, à savoir les spécialistes, les techniciens supérieurs, les assistants etc.\"]\n",
      "['La BADIS est un instrument important dans le dispositif actuel du système d’informations statistiques du Sénégal permettant de mesurer les performances économiques et d’évaluer les besoins sociaux sur une période relativement longue. En effet, elle est composée d’un ensemble d’indicateurs socioéconomiques qui couvrent une période supérieure à trente ans. Elle comporte plus de 2000 séries chronologiques réparties en neuf chapitres']\n",
      "['Au niveau national, l’indice d’accès moyen aux cinq principaux services sociaux de base ciblés est estimé à 400/500 en 2009. Cela correspond à un taux d’accessibilité de 79% de la population rurale sénégalaise à ces services sociaux. Cet indice d’accès moyen était évalué à 271/500 en 2000, ce qui correspond à 54% seulement de la population. Cette progression de 129 points d’indice traduit une nette amélioration du niveau d’accès aux services de base, soit une hausse de près de 48% de la population concernée. Avec près de 90% de la population couverte, les écoles primaires et les li eux de commerce touchent plus de personnes. Suivent les points d’eau (85,0%), les postes de santé et les routes qui touchent relativement moins de personnes (respectivement 61% et 70% de la population).']\n",
      "['Le Sénégal, à l’instar des pays de l’Afrique subsaharienne, fait face au double fardeau des maladies transmissibles et des maladies chroniques dont la prise en charge est souvent trop coûteuse. Cependant, des progrès importants sont en train d’être réalisés dans le cadre de la lutte contre certaines endémies majeures, notamment le paludisme. Ainsi, le projet « A l’écoute du Sénégal » a intégré un second module « santé » pour mesurer une partie de la situation sanitaire du pays, suite à une première expérience réalisée en fin 2015.']\n",
      "['En 2016, en 2017 comme en 2018, le Sénégal compte 37 établissements pénitentiaires dont 8 sont localisés dans la région de Dakar, soit 21,6%. Les régions de Thiès, Fatick, Kaolack, Diourbel, Louga, Saint-Louis et Ziguinchor disposent chacune de trois établissements pénitentiaires tandis que Kolda et Tambacounda n’en comptent que deux, chacune. Les autres régions (Kaffrine, Kédougou, Matam et Sédhiou) sont dotées, chacune, d’un (1) établissement. L’effectif de la population carcérale s’élève à 10.045 en 2017 et 11.014 en 2018, dont respectivement 186 et 241 mineurs. Concernant la répartition par sexe, seule la population carcérale adulte sera étudiée. En effet, les données sur la population carcérale mineure sont obtenues, uniquement, par type de peine et non par sexe.']\n",
      "['Le principal type de logement au Sénégal est les maisons basses (57,2%) et la plupart de ménages ont financé leur logement par leurs propres moyens (84,9%). Certains ménages vivent encore dans des cases (21,9%) et dans des baraques (2,4%). Au Sénégal, l’habitat à tendance moderne ne traduit pas nécessairement de bonnes conditions de logement. Le Recensement révèle que près de trois ménages sur dix (29,3%) vivent dans la promiscuité avec 3 personnes voire plus par pièce (30,9% en milieu rural contre 27,8% en milieu urbain). La propriété (72,6%) et la location (23,1%) constituent les types d’occupation les plus fréquents. Par ailleurs, le principal revêtement des habitations est le ciment (74,7%) et le banco (13,4%). Près de huit (8) ménages sur dix utilisent une source d’énergie moderne pour s’éclairer (57,5% pour l’électricité et 20,4% pour la lampe rechargeable). Le bois (50,4%) et le gaz (32,7%) sont les combustibles les plus utilisés par les ménages sénégalais pour la cuisson (86% pour le bois en milieu rural et 58% pour le gaz en milieu urbain).']\n",
      "['Au Sénégal, l’essentiel des ménages a accès à une eau de boisson issue d’une source améliorée. En effet, comme l’illustrent les graphiques ci-dessous, plus des quatre cinquième des ménages s’approvisionnent en eau de boisson auprès d’une source d’eau améliorée. Toutefois, de fortes disparités s’observent non seulement entre les régions, les écarts pouvant varier du simple au double, mais aussi selon le milieu de résidence au sein d’une même région. En effet, la quasi-totalité des ménages des régions de Dakar (99,6%) et Louga (98,6%) utilisent une source améliorée. Dans une moindre mesure, Diourbel, Kaffrine et Thiès s’inscrivent dans la même lignée avec moins de 10% de ménages n’ayant pas accès à une source améliorée d’eau de boisson. Au nord (Saint-Louis et Matam) et à Kaolack, au moins 8 ménages sur 10 boivent de l’eau d’une source améliorée.']\n",
      "['Le Sénégal réalise, pour la première fois en 2021, une enquête sur l’emploi du temps afin de déterminer les activités les plus présentes dans le quotidien des hommes et des femmes. L’enquête a révélé des résultats forts intéressants sur les différences de participation aux activités non rémunérées telles que les travaux domestiques. Il est noté que 84,6% des femmes effectuent des travaux domestiques contre 31,7% des hommes.']\n",
      "['La répartition selon le milieu de résidence de la population en âge de travailler montre qu’elle est majoritairement concentrée en zone urbaine avec 52,9% et 51,8% des individus en âge de travailler respectivement en 2017 et 2018. L’importante urbanisation de la population en âge de travailler est étroitement liée au poids économique du milieu urbain qui en fait une zone d’attraction d’individus à la recherche d’emploi ou en déplacement pour des raisons scolaires. La répartition par groupe d’âges et par sexe de la population en âge de travailler, c’est-à-dire celle âgée de 15 ans ou plus, fait ressortir son caractère jeune et féminin, quelle que soit l’année. En effet, cette population, qui est à dominante féminine (près de 51%), est constituée à plus de 58% de jeunes âgés de 15 à 34 ans. Par ailleurs, une personne sur trois en âge de travailler a moins de 25 ans. Par rapport au niveau d’instruction, on note que 55,4% et 57,7% de la population en âge de travailler, respectivement en 2017 et 2018, n’ont jamais fréquenté l’école et 16,5% ont le niveau primaire. Le faible niveau d’instruction de la population en âge de travailler est plus accentué en milieu rural où plus de 85% ont, au plus, le niveau primaire. La proportion des personnes ayant le niveau supérieur est estimée à près de 5,0%.']\n",
      "['Au troisième trimestre de l’année 2023, 61,4% des personnes en âge de travailler ont participé au marché du travail. Ce niveau d’activité a été plus élevé en milieu rural où il est ressorti à 63,6% contre 59,5% en milieu urbain. Selon le sexe, il est plus élevé chez les hommes que chez les femmes avec des taux respectifs de 71,0% et de 52,2%. En glissement annuel, le niveau de participation s’est accru de 1,7 point de pourcentage par rapport à la même période en 2022. \\xa0', 'Le taux de chômage (élargi) est passé de 22,9% au troisième trimestre de 2022 à 19,5% sur la même période en 2023, soit une baisse de 3,4 points de pourcentage. Au sens strict du BIT, il est ressorti à 5,8% au trimestre sous revu.', 'Au compte du trimestre sous revu, le taux de chômage au sens élargi est légèrement plus élevé en milieu urbain (20,1% contre 19,0% en zone rurale). Selon le sexe, le chômage touche plus les femmes (32,0%) que les hommes (10,0%).']\n",
      "['Les résultats du RGPHAE révèlent que près d’un Sénégalais sur deux âgés d’au moins dix ans (45,4%) sait lire et écrire dans une langue quelconque (53,7% chez les hommes contre 37,7% chez les femmes).', 'En matière d’éducation, le Recensement évalue à 2 852 983 apprenants au Sénégal. Ils sont répartis ainsi qu’il suit :', 'Le milieu urbain concentre plus de 57,3% de l’effectif total des apprenants. En matière de formation professionnelle, la répartition des individus âgés d’au moins 6 ans indique que neuf individus sur dix n’ont pas reçu de formation\\n(89,5%). Les femmes (92,5%) sont globalement plus défavorisées que les hommes (86,3%).']\n",
      "['Le secteur de l’éducation est marqué, en 2017 et 2018, par une baisse ou reprise morose des indicateurs de qualité, notamment de réussite avec comme illustration une baisse du taux de réussite au CFEE, passant de 58,3% en 2016 à 56,7% en 2017 et 55,5% en 2018. Pour le BFEM, une évolution en dent de scie est observée avec un taux de réussite qui est passé de 51,5% en 2016 à 45,1% en 2017 et à 52,1% en 2018. La situation similaire est observée pour le baccalauréat. En effet, le taux de réussite au baccalauréat est de passé de 36,76 % en 2015 à 31,6% en 2017 et à 35,2% en 2018. Bien que, globalement, les indicateurs d’accessibilité soient tendanciellement en croissance et ceux de réussite aux examens en reprise voire en baisse, dans l’ensemble, ceux de qualité nécessitent encore une amélioration par la prise de dispositions pour relever leur niveau, surtout dans les régions du sud et de l’est.']\n",
      "[\"Au Sénégal, l’innovation du recensement de 2013 par rapport à celui de 2002 a été de mesurer le niveau ou le degré de chaque handicap. En effet, l’approche précédente, axée sur l’absence de modulation du statut de l’handicap (souffrez-vous d’un handicap ?), est apparue très limitative. A ce titre, il a été utilisé une série de questions (Washington Group) qui permettent d'identifier les personnes à risque au sein de la population générale. L'échelle de gravité s’utilise dans les catégories de réponse, afin de cerner l’éventail complet des domaines fonctionnels allant de la forme bénigne à la forme la plus sévère. En décembre 2002, la qualification extrême de l’handicap a montré que le Sénégal compte 138 897 personnes handicapées sur une population de 9 858 482 habitants, soit une prévalence de 1,4%. Cela signifie que 14 Sénégalais sur 1000 souffrent d’un quelconque handicap. En 2013, cette prévalence du handicap est de 5,9%, ce qui signifie que 59 Sénégalais sur 1000 souffrent d’un handicap quelconque. Les individus de sexe féminin sont les plus concernés avec un rapport de masculinité de 88 hommes pour 100 femmes. Par ailleurs, la forme de handicap la plus répandue concerne les difficultés à marcher et à voir (1,5% de la population chacune) à l’opposé des limitations auditives, des difficultés à se concentrer et des difficultés à prendre soin de soi (respectivement 0,6%, 0,8% et 0,5%). Au niveau régional, les régions de Ziguinchor et Matam enregistrent les taux de prévalence les plus élevés avec 8,1% de handicapés chacune, alors que celles de Diourbel et Kaolack enregistrent les taux de prévalence les plus faibles avec 5% de personnes vivant avec un handicap.\"]\n",
      "['L’année 2017 a été choisie comme période de référence de l’étude. Les résultats ont montré que les femmes entrepreneures ou gérantes, dans le secteur formel, ont un niveau d’études élevé (60,4% ont le niveau supérieur) et sont relativement jeunes (57,1% ont un âge compris entre 35 et 55 ans). Les principales difficultés qu’elles rencontrent sont relatives aux impôts et taxes et à l’accès aux crédits. Elles contribuent à hauteur de 1 000,5 milliards CFA à la création de revenu, soit 24,5% à la valeur ajoutée du secteur formel. Cette richesse est tirée principalement par le secteur tertiaire avec une contribution de 79,3%.']\n",
      "['L’effectif du cheptel est évalué en 2018 à 18 314 mille têtes, après 17 866 mille têtes en 2017 et 17 379 en 2016, soit un taux de croît de 2,5% en 2018 et 2,8% en 2017. Cette hausse enregistrée dans les deux années est principalement imputable au croît des principales composantes du cheptel. Il s’agit des ovins (3,2% en 2018 et 3,5% en 2017 contre 3,3% en 2016), des caprins (2,8% en 2018, 3,2% en 2017 et 2016) et des bovins (1,1% en 2018 et 1,3% 2017 contre 1,2% en 2016) qui représentent plus de 91% de l’effectif total.', 'La valeur ajoutée de l’élevage a augmenté de 2,7% en 2018 en termes réels après des hausses de 3,5% en 2017 et de 8,7% en 2016. Son poids dans le secteur primaire a connu de légers replis entre 2016 et 2018. En effet, estimé à 27,9% de la valeur ajoutée globale du secteur primaire (en volume), le poids de l’élevage s’est situé en 2017 et en 2018 à 25,4% et 23,7% respectivement.']\n",
      "[\"Les ressources de la zone maritime sont caractérisées par une grande diversité biologique. Ces ressources halieutiques font aujourd’hui l'objet d'une forte pression avec plus de 11 000 pirogues actives opérant dans la pêche artisanale et un peu plus d'une centaine de bateaux battant pavillon étranger au large des côtes du Sénégal.\", 'Les débarquements de la pêche maritime ont observé une tendance à la hausse de 2014 à 2017. L’année 2018 est marquée par une baisse globale de 5,1% des quantités débarquées, essentiellement imputable aux débarquements de la pêche artisanale. En effet, les mises à terre sont passées de 487 435 tonnes en 2016 à 504 776 tonnes en 2017, puis à 479 194 tonnes en l’année 2018.']\n",
      "['Le sous-secteur agricole est caractérisé par une performance, en 2017 et 2018, de certaines spéculations telles que le mil, l’arachide, le riz, etc. en liaison avec la bonne pluviométrie. En effet, le PIB agricole est évalué à 1 217,0 milliards de FCFA en 2018, soit une hausse de 9,1% par rapport à 2017.', 'Le secteur contribue à hauteur de 9,4% du PIB national et de 62,8% de la valeur ajoutée (en terme nominal) du secteur primaire. Le document aborde d’abord les orientations stratégiques liées à l’agriculture et les actions entreprises par le Gouvernement sur la période 2017-2018.', 'La situation de la pluviométrie sur la période susvisée sera également décrite. A la lumière de ces deux éléments, les performances du secteur agricole seront analysées avant de terminer par les contraintes dudit secteur.?']\n",
      "['Le ciment constitue l’un des principaux intrants pour l’activité de construction. Au cours des dix dernières années, il est constaté une évolution à la hausse de la production de ciment, à l’exception de la baisse de 3,7% qui a été enregistrée en 2013. En 2018, il est noté une progression de 5,3% de la production de ciment en quantité. S’agissant en particulier, des ventes locales de ciment, elles ont augmenté de 22,7%, tandis que celles à l’exportation ont reculé de 22,5%.', 'La valeur ajoutée de la branche « construction » s’est établie à 383,5 milliards de FCFA en 2018 (en valeur). En 2018, la construction représente 3,0% du PIB nominal et 12,3% de la valeur ajoutée du secteur secondaire (aux prix courants). L’activité de construction est restée dynamique en 2018 avec une progression de 11,5% de sa valeur ajoutée en volume, après 15,9% en 2017.Cette bonne tenue de l’activité est expliquée, en partie, par le bon comportement des ventes locales, en liaison avec les grands travaux de l’Etat et la demande intérieure privée.']\n",
      "['La Division des Statistiques des Nations Unies conduit actuellement un projet intitulé « Environnemental economic accounting for evidence based policy in Africa and Asia» (comptabilité économique et environnementale en Afrique et en Asie pour des politiques factuelles).', 'Ce projet vise à lever les barrières techniques et institutionnelles contrariant l’instauration de la production régulière de comptes économiques environnementaux.', 'A cet égard, la norme statistique internationale qu’est le Système de comptabilité économique environnementale (SCEE) (ou SEEA en anglais) constitue pour les différents pays un cadre permettant de produire des comptes internationalement comparables pour mesurer les progrès vers l’atteinte des Objectifs de développement Durables (ODD), les objectifs d’Aichi, la croissance verte, etc.', 'L’objectif général de l’élaboration du Plan National pour l’Avancement de la Comptabilité Economique Environnementale et le Développement d’une Feuille de Route pour l’Utilisation des Comptes au Sénégal est de renforcer la mise en place du Système de Comptabilité Economique et Environnementale (SCEE) au Sénégal à travers une approche flexible et modulaire, pour des politiques factuelles orientées vers le développement durable.', 'Relativement à cet objectif, il est reconnu que la mise en oeuvre du SCEE exige des efforts notables et une approche propre à chaque pays, d’où la nécessité de disposer d’un plan national assorti d’une feuille de route.']\n",
      "['Les recettes de la campagne d’exploitation forestière sont de 2,048 milliards FCFA et 3,260 milliards FCFA, respectivement en 2017 et 2018. Comparativement à la situation observée en 2017, les productions contrôlées de charbon de bois et de pain de singe ont progressé respectivement de 9,0% et 11,6% en 2018. Le bois de chauffe et le bois d’œuvre suivent la même tendance que l’année précédente.', 'Contrairement à 2017, la production de gomme naturelle a baissé de 69,9%. Le sous-secteur de la sylviculture est constitué des produits de l’exploitation forestière et de la cueillette. Suite à une légère hausse observée en 2017, sa production a connu un repli en 2018 pour s’établir à 68,3 milliards de FCFA (aux prix courants). De même, sa valeur ajoutée à prix courants est passée de 53,9 milliards de FCFA en 2017 à 53,2 milliards de FCFA en 2018.']\n",
      "['La crise sanitaire a eu un impact significatif sur l’activité des entreprises industrielles. En effet, 92,5% des entreprises interrogées ont déclaré avoir été impactées par la Covid-19. Parmi celles-ci, l’étude a montré que pour la quasi-totalité d’entre elles (96,0%), il s’agit d’un impact négatif. De plus, la majorité de ces unités de transformation (70,6%) considère que l’activité s’est dégradée de plus de 25%.', 'Par ailleurs, la quasi-totalité des établissements de transformation déclare que leurs approvisionnements en matières premières, leurs acquisitions de biens d’équipements, leurs productions, leurs parts de marché, leurs chiffres d’affaires ainsi que leurs investissements sont négativement affectés par la pandémie. En outre, près de la moitié d’entre elles (48,6%) affirme que la crise sanitaire a affecté leurs emplois permanents.']\n",
      "['Le Sénégal ambitionne de faire du secteur industriel un des piliers du développement durable. En effet, parmi les objectifs du Plan Sénégal Emergent (PSE), figure le pari industriel intégré qui vise la création d’un pôle manufacturier à haute valeur ajoutée. Ceci s’est concrétisé avec la construction du Parc Industriel international de Diamniadio d’une superficie de 13 hectares dont la mise en service est effective depuis février 2018. Le secteur soutient le dynamisme de la croissance économique du pays depuis quelques années. En effet, la valeur ajoutée du secondaire a augmenté de 7,4%, après 3,6% en 2016, contribuant ainsi à hauteur de 1,7 point à la croissance du PIB en 2017.']\n",
      "['Les activités extractives sont devenues un des secteurs phares de l’économie sénégalaise représentant, notamment, le premier poste d’exportation. Elles sont composées de l’extraction minière et celle des hydrocarbures. Au-delà du phosphate qui est un produit exploité depuis les années cinquante, les produits extraits du sous-sol sénégalais se sont diversifiés avec la production d’or, de zircon, d’ilménite, de rutile, de leucoxène, de manganèse, etc.', 'En outre, d’importants changements économiques sont attendus avec l’exploitation prochaine de pétrole et de gaz naturel. Ce dynamisme du secteur extractif est reflété par sa production de plus en plus importante. En effet, évaluée à 549,8 milliards de FCFA en 2017, elle est passée à 692,9 milliards en 2018 avec des valeurs ajoutées respectives de 317,9 et 407,2 milliards de FCFA. La contribution de ce secteur au PIB en 2018 est de 3,2%, après 2,6% en 2017. Il représente également un secteur stratégique pour le développement des activités énergétiques.']\n",
      "[\"L'activité touristique a engendré 1 500 milliards de dollars US de recettes dans le monde en 2018, soit une progression de 4% comparée à l’année 2017. Dans le même sillage, les arrivées de touristes internationaux ont augmenté de 5% en 2018 par rapport à 2017 pour atteindre le chiffre record de 1,4 milliards de visiteurs.\", 'La croissance du secteur du tourisme est plus marquée en Afrique et en Asie-Pacifique (+7%) contre 5% pour l’Europe et le Moyen-Orient. Les Amériques ont enregistré la plus faible progression en 2018 en termes d’arrivées de touristes (+2%). Malgré les chocs occasionnels qui affectent l’Afrique, le continent a enregistré le chiffre record de 67 millions d’arrivées de touristes en 2018, sous l’effet de la bonne performance de l’Afrique du Nord (+10%) et de la croissance soutenue en Afrique Subsaharienne (+5%).']\n",
      "['En 2014, l’ANSD a procédé au changement d’année de base des comptes de la Nation. Les résultats du changement d’année de base et l’adaptation d’un nouveau Système de Comptabilité nationale (SCN) avaient réévalué le PIB à plus de 29%. Les données présentées dans le tableau ci-dessous sont obtenues en prenant en compte ces changements. La contribution des services de transport au Produit Intérieur brut est évaluée à 2,1% en 2018. Elle est restée stable par rapport à 2017. Cependant, elle enregistre une baisse depuis 2014 où elle était évaluée à 2,6%. La richesse créée par les services de transport est évaluée à 275,745 milliards en 2018, soit une hausse de 9,0% par rapport à 2017.']\n"
     ]
    }
   ],
   "source": [
    "for v in new_indicateurs :\n",
    "    print(new_indicateurs[v][\"sommaire\"])"
   ]
  },
  {
   "cell_type": "code",
   "execution_count": 301,
   "metadata": {},
   "outputs": [
    {
     "name": "stdout",
     "output_type": "stream",
     "text": [
      "« Le tableau des ressources et des emplois (TRE) décrit le processus de création et d’utilisation des biens et services. Il s’agit d’une matrice par produit et par branche d’activité montrant comment la production intérieure et les importations de biens et services sont utilisées, d’une part, par les branches d’activités pour la consommation intermédiaire et, d’autre part, pour satisfaire le demande finale intérieure (consommation finale et investissement) et extérieure (exportations). Il permet, en particulier, d’identifier les interrelations qui s’opèrent tant à l’intérieur de la sphère de production qu’entre les sphères de production et de consommation. »\n",
      "\n",
      "None\n",
      "« Dans le but de mettre à la disposition des utilisateurs un ensemble plus large d’indicateurs économiques relatifs aux transactions effectuées par les agents économiques, l’Agence nationale de la Statistique et de la Démographie (ANSD) s’est engagée, dans la production des comptes de secteurs institutionnels et de leur synthèse avec le Tableau des Comptes Economiques Intégrés (TCEI). Ces comptes sont établis en référence au Système de Comptabilité nationale de 2008 (SCN 2008). Le TCEI décrit l’ensemble du processus économique, qui couvre la production, la formation et la répartition du revenu, la consommation et l’épargne pour chaque secteur institutionnel résident ainsi que les opérations avec le reste du monde. Il donne une image complète des comptes de l'ensemble de l'économie, en faisant ressortir les principales relations économiques. »\n",
      "\n",
      "La Note sur le PIB trimestriel est une publication qui fait la synthèse de l’évolution récente de l’activité économique du Sénégal. Le PIB est calculé en partant d’un regroupement des branches de la Nomenclature d’Activités des États Membres d’AFRISTAT (NAEMA). Il est évalué en valeur aux prix courants et en volumes chainés (avec l’année de référence 2014, année de base des comptes nationaux annuels selon le SCN 2008). Les approches utilisées sont celles de la production et des emplois. Elles reposent sur la disponibilité d’un ensemble minimum de statistiques conjoncturelles sur les branches d’activités économiques. La méthodologie de l’étalonnage-calage fondée sur l’approche numérique (Denton) et celle par modélisation (Cholette-Dagum) a été retenue. L’approche par double déflation est utilisée. Sauf indication contraire, les analyses vont porter sur les données corrigées des variations saisonnières (CVS). La note sur le PIB trimestriel est publiée au plus tard quatre-vingt-dix jours. (90) jours après le trimestre sous revue.\n",
      "\n",
      "La première partie analyse certains indicateurs phares de l’activité économique, en particulier, la croissance économique, l’évolution de la valeur ajoutée par secteurs d’activités ainsi que celle des emplois du PIB (consommation finale, investissements, exportations nettes). Cette partie aborde également la contribution à la formation du PIB, du point de vue des agents économiques (les secteurs institutionnels). La deuxième partie est constituée de tableaux sur les indicateurs macroéconomiques, le produit intérieur brut et ses emplois ainsi que sur les agrégats par produit. Les informations sont données aux prix courants et en volume aux prix chainés (base 100 = 2014) pour les trois dernières années.\n",
      "\n",
      "L’Agence Nationale de la Statistique et de la Démographie (ANSD) met à la disposition des utilisateurs l'Indice mensuel des Prix des Matériaux de Construction. Cet indice base 100 en T2-2015, mesure l’évolution des prix des matériaux entrant dans la construction des logements à usage d'habitation. Les indices sont de type Laspeyres et les pondérations sont issues des devis quantitatifs et estimatifs sur les quatre types (cf. Annexe 1) de logement les plus représentatifs le secteur immobilier. Le champ couvert par l’indice est la grande agglomération de Dakar découpée en zone de collecte. Le panier considéré comprend 96 variétés suivies dans 176 points d’observations. Plus de 760 relevés de prix sont effectués chaque mois.\n",
      "\n",
      "L’ANSD publiait un ICC base 100 T2-2015 dont la couverture géographique était limitée à la Capitale, Dakar. Des travaux d’élargissement de la couverture géographique de l’ICC ont été entamés en 2018 pour être en conformité avec les normes internationales et prendre en compte les réalités économiques du Sénégal. Ainsi, cet indice base 100 en 2018, mesure l’évolution du coût de la construction des logements neufs à usage d'habitation au plan national. Les indices sont de type Laspeyres et les pondérations sont issues des devis quantitatifs et estimatifs sur les types de logement les plus représentatifs du secteur au niveau national. Le champ couvert par l’indice est l’ensemble du pays découpé en zones écologiques/économiques, à savoir le Sud, le Nord, le Centre Nord, l’Ouest et le Centre Sud. Ces cinq zones sont représentées respectivement par Kolda, Saint Louis, Diourbel, Dakar et Kaolack. La collecte des prix se fait dans les capitales de ces régions.. Le panier suivi dans chaque zone comprend 101 variétés. L'ICC est publié au plus tard 15 jours après le trimestre sous revue.\n",
      "\n",
      "Cette publication fait une analyse annuelle de l’évolution des prix à la consommation par fonction mais aussi selon les classifications secondaires (origine, secteur, durabilité). L’inflation corrigée de l’effet des produits saisonniers et énergétiques est également analysée. Ce document donne en plus la place du Sénégal dans l’UEMOA pour e qui concerne l’inflation. Les indices sur les douze mois de l’année écoulée, les indices moyens détaillés par fonction des six dernières années et les variations annuelles sont données en annexe ainsi que les taux d’inflation des pays de l’UEMOA, l’évolution de l’indice des prix depuis 1967 et les prix moyens mensuels des produits et services suivis.\n",
      "\n",
      "Cette publication fait une analyse trimestrielle de l'évolution des prix à la consommation global et par fonction mais aussi selon les classifications secondaires (origine, secteur, durabilité). Les indices des deux derniers trimestres écoulés, les évolutions sur un trimestre et sur l'année sont donnés en annexe, ainsi que les prix moyens trimestriels de quelques produits. Il existe également une publication annuelle qui donne une analyse de ces différentes fonctions au cours de l'année sous revue, la place du Sénégal dans l'UEMOA pour ce qui concerne l'inflation. Les indices sur les douze mois de l'année écoulée, les indices moyens détaillés par fonction des six dernières années et les variations annuelles sont données en annexes, ainsi que le taux d'inflation des pays de l'UEMOA, l'évolution de l'indice des prix depuis 1967 et les prix moyens mensuels des produits et services suivis.\n",
      "\n",
      "L’Agence Nationale de la Statistique et de la Démographie (ANSD) produit et publie tous les mois l'Indice Harmonisé des Prix à la Consommation (IHPC). Cet indice base 100 en 2014, mesure l’évolution des prix à la consommation au plan national. Les indices sont de type Laspeyres et la principale source identifiée pour les pondérations est la deuxième Enquête de Suivi de la Pauvreté au Sénégal (ESPS-II) de 2011. Le champ couvert par l’indice harmonisé des prix à la consommation est l’ensemble du pays découpé en zones écologiques/économiques, à savoir le Sud, le Nord, le Centre Nord, l’Ouest et le Centre Sud. Ces cinq zones sont représentées respectivement par Kolda, Saint Louis, Diourbel, Dakar et Kaolack. La collecte des prix se fait dans les capitales de ces régions. L’IHPC est publié selon la classification des fonctions de consommation des ménages à 12 fonctions (COICOP ). Et la méthodologie de calcul est commune aux huit pays de l'UEMOA.\n",
      "\n",
      "L’Agence nationale de la Statistique et de la Démographie (ANSD) met à votre disposition cette note mensuelle sur l’Indice des Prix de Production Industrielle (IPPI). Cet indice rénové, base 100 en 2015, mesure l’évolution des prix de production, départ usine et hors taxe et marge de transport. Les principaux changements apportés par la rénovation ont trait à la nomenclature, au champ de couverture, aux pondérations, aux techniques de calcul, et aux données de base. Ainsi, le nouveau champ d’application de l’IPPI se définit par rapport à la CITI rev4/NAEMA rev1 et couvre les sections B (Activités extractives), C (Activités de fabrication), D (Production et distribution d’électricité, de gaz, de vapeur et de climatisation), E (Approvisionnement en eau, activités d’assainissement et de gestion des déchets, dépollution) ainsi que les services « dits industriels » qui n’étaient pas pris en compte dans la version antérieure de l’IPPI. En revanche, certaines activités des sections B, C, D et E de la NAEMA, en l’occurrence l’égrenage de coton sont exclues du champ. S’agissant du calcul des indices, il est fait recours à un système de double pondération dynamique (utilisation simultanée du chiffre d’affaires et des valeurs ajoutées actualisées chaque année) contrairement à l’ancien IPPI où les pondérations étaient déterminées avec le chiffre d’affaires fixé à l’année de base. L’échantillon à l’année de base compte 72 entreprises couvrant 89,8% de la valeur ajoutée du tissu industriel. Celui-ci est actualisé chaque année avec le système des années de référence. L’indice est publié mensuellement et est disponible au plus tard 30 jours après la fin du mois sous revue. Il est susceptible d’être révisé lorsque le taux de réponse est inférieur 100%. Les présents indicateurs sont établis avec un taux de réponse de 82,4%.\n",
      "\n",
      "L’Agence Nationale de la Statistique et de la Démographie (ANSD) met à votre disposition cette note trimestrielle sur les indices des Prix de Production des Services (IPPS). Ces indices couvrent les services de transport et d’entreposage, d’hébergement et de restauration, de soutien et de bureau, spécialisés, scientifiques et techniques ainsi que ceux immobiliers. La nomenclature d’activités et de produits utilisée est celle des Etats membres d’AFRISTAT (NAEMA rev.1). L’échantillon est tiré au niveau du répertoire des entreprises de l’ANSD. Les indices sont de type Laspeyres, à pondération par la valeur ajoutée des entreprises à l’année de base. L’indice est publié au plus tard 60 jours après la fin du trimestre sous revue.\n",
      "\n",
      "L’immatriculation au NINEA englobe les entreprises exerçant une activité au Sénégal, les associations nationales ou étrangères régulièrement déclarées ou autorisées, les syndicats professionnels, les administrations publiques centrales, les établissements publics, les collectivités locales et les partis politiques, les opérateurs occasionnels, les propriétaires fonciers, les organisations non gouvernementales (ONG), etc. L’ensemble de toutes ces unités constitue le Répertoire national des Entreprises et Associations (RNEA). Il représente la base de données exhaustive des unités économiques enregistrées s’activant sur le territoire national. Il rassemble, pour chaque unité, les informations d’identification, de localisation, de classification, etc. Le RNEA revêt une importance capitale pour les usagers internes et externes au système statistique national dans la mesure où il constitue une :\n",
      "référence pour l’analyse des statistiques d’entreprises ;\n",
      "base de sondage pour les enquêtes sur les entreprises ;\n",
      "source d’informations fiables sur la structure et la démographie des entreprises ;\n",
      "base d’appariement des données sur les entreprises issues de sources distinctes, etc.\n",
      "La publication dénommée « Immatriculation au NINEA : chiffres clés, tendances et évolutions » rentre dans le cadre de diffusion d’informations sur les statistiques d’entreprises en vue d’orienter les décisions de politiques économiques des pouvoirs publics, des collectivités, des investisseurs, etc. Elle offre, d’une part, une photographie de l’ensemble des unités immatriculées au NINEA au cours du trimestre et leurs principales caractéristiques (secteur d’activité, statut juridique, zone d’implantation, etc.) en accordant un intérêt particulier aux entreprises individuelles. D’autre part, elle met l’accent sur l’évolution des créations tout en faisant ressortir les tendances aux niveaux global et sectoriel.\n",
      "\n",
      "Le champ d’application de l’ICAC suivant les nouvelles recommandations se définit par rapport à la CITI rev4/NAEMA rev1. Ainsi, l’ICAC couvre la construction de bâtiments entiers (habitations, bureaux, magasins et autres bâtiments publics, industriels, agricoles, etc.), la construction d'ouvrages complets de génie civil tels que les réseaux routiers ou ferroviaires, les ponts, tunnels, ports et aéroports, installations industrielles ou sportives, etc. Ces travaux peuvent être réalisés pour compte propre en vue de la vente (promotion immobilière notamment).\n",
      "\n",
      "Cette publication est issue de l’exploitation des documents de fin d’exercice fournis au Centre Unique de Collecte d’Information (CUCI) par les entreprises soumises au plan comptable SYSCOA. Elle informe sur l’activité des entreprises à travers des tableaux de : Bilan (actif et passif) Comptes de résultats (charges et produits) Ratios de gestion et structure financière Soldes caractéristiques du tableau financier des ressources et des emplois Les informations sont fournies pour l’ensemble du secteur dit moderne ; quatre macro secteurs ; neuf groupes de secteurs et trente cinq secteurs d’activités. Les informations sont disponibles pour les sept dernières années et la méthodologie figure en annexe.\n",
      "\n",
      "L’Agence Nationale de la Statistique et de la Démographie (ANSD) met à votre disposition cette note d’analyse trimestrielle de l’Enquête sur l’Emploi, la Rémunération et les Heures de travail (EERH). Elle permet de dresser une gamme d’indicateurs trimestriels sur l’offre d’emploi salarié, la rémunération brute des employés, les heures travaillées auprès des entreprises du secteur formel, en l’occurrence celles évoluant dans l’industrie, la construction, le commerce et les services. Toutefois, ces indicateurs ne prennent pas en compte les employés de l’administration publique.\n",
      "\n",
      "Cette publication mensuelle traduit l’évolution de l'activité industrielle à travers l’Indice Harmonisé de la Production Industrielle (IHPI). L’indice, base 100 en 2006, couvre les industries extractives, alimentaires, chimiques, mécaniques, les industries de textiles et de cuir, de bois, de papier et de carton, de l’énergie, de matériaux de construction et les autres industries manufacturières. La nomenclature d’activités et de produits utilisée est celle des Etats membres d’AFRISTAT. Les indices sont de type Laspeyres, à pondération constante par les valeurs ajoutées de l’année de base. L’échantillon représente 69 entreprises couvrant 89,8% de la valeur ajoutée industrielle du pays. L’indice est publié au plus tard 45 jours après la fin du mois sous revue. Les composantes sont : - L'évolution par branche et sous branche de l'IHPI du mois sous revue, ainsi que ceux des mois précédents de l’année en cours ; - L'évolution de l'IHPI du mois revue par rapport à la période correspondante de l'année précédente; - Les principales productions industrielles en quantités.\n",
      "\n",
      "Dans le cadre du Recensement général des Entreprises, toutes les unités économiques des secteurs formel et informel disposant d’un local aménagé devraient être recensées. Font également partie du champ les exploitations agricoles, la pêche artisanale (pêcheurs immatriculés), les organisations professionnelles et patronales et les Groupements d’Intérêt économique. Les entreprises de transport (terrestre, par eau et aérien, auxiliaires de transport) sont aussi concernées par le RGE. Concernant l’agriculture, seules les exploitations agricoles situées à l’intérieur et autour des zones d’habitations, en particulier les vergers ont été enquêtées. Egalement, un grand nombre d’entreprises des secteurs du transport et de la pêche n’a pas encore été pris en compte. Deux recensements complémentaires sont prévus pour combler ce gap à savoir le RGE/Agricole et le RGE/Transport.\n",
      "\n",
      "L’Agence nationale de la Statistique et de la Démographie (ANSD) met à votre disposition cette note trimestrielle sur l’Indice du chiffre d’affaires dans l’industrie. Cet indicateur, base 100 en 2016, mesure l’évolution des ventes des biens et services dans l’industrie. Le champ d’application de l’ICA dans l’industrie se définit par rapport à la CITI rev4/NAEMA rev1 et couvre les sections B (Activités extractives), C (Activités de fabrication), D (Production et distribution d’électricité, de gaz, de vapeur et de climatisation), E (Approvisionnement en eau, activités d’assainissement et de gestion des déchets, dépollution). En revanche, certaines activités des sections B, C, D et E de la NAEMA rev1, en l’occurrence l’égrenage de coton sont exclues du champ. S’agissant du calcul des indices, il est fait recours à un système de double pondération dynamique (utilisation simultanée du chiffre d’affaires et des valeurs ajoutées actualisées chaque année). L’échantillon à l’année de base compte 71 entreprises couvrant 89,8% de la valeur ajoutée du tissu industriel. Celui-ci est actualisé chaque année avec le système des années de référence. L’indice est publié trimestriellement et est disponible au plus tard 75 jours après la fin du trimestre sous revue. Il est susceptible d’être révisé lorsque le taux de réponse est inférieur à 100%. Le calcul des indices corrigés des variations saisonnières (cvs) n’est pas encore effectué ; les analyses sont faites en variation annuelle. Les présents indicateurs sont établis avec un taux de réponse de 93,4%.\n",
      "\n",
      "L’Agence nationale de la Statistique et de la Démographie (ANSD) met à votre disposition cette note trimestrielle sur les Indices du chiffre d’affaires dans les services (ICAS). Ces indicateurs, base 100 en 2016, mesurent l’évolution du chiffre d’affaires des prestations de service. Les ICAS couvrent les sections H (Transports et Entreposage), L (Activités immobilières), M (Activités spécialisées, scientifiques et techniques), N (Activités de soutien et de bureau et I (Hébergement et Restauration). Les échantillons sont tirés du répertoire des entreprises de l’ANSD et sont actualisés chaque année avec le système des années de référence. Les indices sont publiés au plus tard 75 jours après la fin du trimestre sous revue. Ils sont susceptibles d’être révisés lorsque le taux de réponse est inférieur à 100%. Le calcul des indices corrigés des variations saisonnières (cvs) n’est pas encore effectué ; les analyses sont donc faites en variation annuelle. Les présents indicateurs sont établis avec un taux de réponse de 82,4% pour les services de soutien et de bureau, 73,5% pour l’immobilier, 75,2% pour l’hébergement et la restauration, 66,7% pour le transport et l’entreposage et enfin 52,7% pour les services spécialisés, scientifiques et techniques.\n",
      "\n",
      "La présente note mensuelle, issue de la rénovation (base 100 en 2014) des Indices des Valeurs Unitaires du commerce extérieur, fait ressortir le niveau et l’évolution des indices de valeurs unitaires (I.V.U) des marchandises échangées entre le Sénégal et le reste du monde. La valeur unitaire est obtenue en rapportant la valeur de la marchandise à son volume. Exprimée en francs CFA par kg, elle traduit le prix par unité de masse. Ces indices sont de type Laspeyres. La marchandise est valorisée CAF (Coût Assurance Fret) à l’importation et FAB (Franco A Bord) à l’exportation. Ces indices rénovés (Base 100 en 2014) font suite aux indices produits et publiés (Base 100 en 2005) depuis janvier 2010. La nomenclature des produits est celle du Système Harmonisé (SH) de désignation et de codification des marchandises à quatre digits (SH4). Cette dernière est une agrégation de produits élémentaires à 10 digits (SH10). L’innovation apportée à cette rénovation a trait : (i) à l’association des produits SH4 à leurs pays d’origine ou à leur pays de destination respectivement pour les importations et les exportations (SH4Pays) ; (ii) au calcul des indices élémentaires (SH4Pays) ; (iii) au calcul des indices par Section de la nomenclature du Système Harmonisé. A cet égard, l’échantillon pour chaque flux, est constitué de produits associés à leurs pays d’origine et à leurs pays de destination (SH4Pays). Le produit (SH4) associé au pays partenaire atténue la fluctuation des valeurs unitaires observées entre deux mois au regard de la structure des produits élémentaires qui le composent. Afin de dégager la tendance fondamentale des prix aux échanges extérieurs, un indice sous-jacent est calculé à côté d’un indice des produits volatiles qui, lui, rend compte de l’évolution des produits aux fortes variations des prix unitaires. Les données de base utilisées, principalement issues des statistiques douanières, sont relatives au commerce général.\n",
      "\n",
      "Cette catégorie regroupe des rapports spécifiques relatifs au commerce extérieur\n",
      "\n",
      "Cette publication fournit : - un résumé de la situation annuelle du commerce mondial à travers une revue de l'évolution du cours des matières premières (pétrole, oléagineux, coton, riz, sucre) pour l'année sous revue ; - l'évolution sur cinq ans des exportations et des importations du Sénégal pour les grands produits ; - l'orientation géographique des échanges ; - les échanges communautaires (pays de l'UEMOA) ; - le balance commerciale par continent sur cinq ans ; - le coefficient de dépendance de l'économie vis-à-vis du commerce ; - l'indice des termes de l'échange ; Et en annexe : - les pays partenaires - les pays clients - les importations et les exportations en valeur par partenaire et par produit ainsi que la nomenclature tarifaire et statistique de l'UEMOA.\n",
      "\n",
      "Cette publication donne les statistiques des transactions internationales de marchandises du Sénégal avec le reste du monde, chaque mois. Le document présente l'évolution et la structure des exportations et des importations des principaux produits échangés, l'orientation géographique des échanges ainsi que la balance commerciale par pays partenaire. Les données publiées concernent le mois sous revue de l’année n, les trois mois qui le précédent, ainsi que le mois correspondant de l’année n-1.\n",
      "\n",
      "Le dépliant dénommé « Repères statistiques » constitue une synthèse des indicateurs contenus dans les publications régulières de l'ANSD, mais aussi des indicateurs économiques et financiers tirés du bulletin mensuel des statistiques économiques et de la note de conjoncture. Il permet de rendre l’information statistique plus facile à consulter et plus conviviale pour les usagers qui pourront, en cas de besoin, rechercher les publications concernées pour avoir plus de détails. Cette brochure comprend six parties principales : le contexte international, l’activité économique, les prix et la compétitivité, le secteur extérieur, les finances publiques et la situation monétaire. Le contexte international a trait à l’évolution du cours du baril de pétrole brut. L’activité économique concerne l’Indice Général d’Activité (IGA), les productions minières, l’électricité, le secteur industriel tel que l’Indice Harmonisé de la Production Industrielle (IHPI) et l’Indice du Chiffre d’Affaires (IGA), et le secteur tertiaire ayant trait au trafic maritime, aérien et ferroviaire. La partie « prix et compétitivité » présente l’évolution de l’Indice Harmonisé des Prix à la Consommation (IHPC), l’Indice des Prix à la Production Industrielles (IPPI), l’Indice des Prix du Commerce Extérieur (IPCE), ainsi que la compétitivité de l’économie sénégalaise. Le secteur extérieur a trait aux principaux produits échangés entre le Sénégal et le reste du monde, la balance commerciale ainsi que les principaux partenaires. Les finances publiques concernent les recettes budgétaires, les salaires et effectifs de l’administration centrale et le Tableau Provisoire des Opérations Financières de l'Etat (TOFE). La situation monétaire fait ressortir les caractéristiques des avoirs extérieurs nets, du crédit intérieur et de la masse monétaire.\n",
      "\n",
      "Le Bulletin Mensuel des Statistiques Economiques et Financières donne les statistiques en quatre parties : Le primaire, le secondaire, le tertiaire et les autres statistiques. 1- Le secteur primaire comprend l'agriculture (résultats définitifs de la campagne agricole écoulée), les prix des produits céréaliers, l'élevage (abattages contrôlés au Sénégal) et l'horticulture. 2- Le secteur secondaire a trait à la production industrielle (quantité et indice), la consommation en électricité les l'Indice du Coût de la Construction (ICC). 3- Le secteur tertiaire traite des transports (terrestres, maritimes, aériens). 4- Les autres statistiques concernent le commerce extérieur (échanges en valeur), les prix (Indice Harmonisé des Prix à la Consommation détaillé sur quatre trimestres), les finances publiques et la situation monétaire.\n",
      "\n",
      "L’Agence Nationale de la Statistique et de la Démographie (ANSD), dans sa mission de production et de diffusion des données statistiques pour les besoins du Gouvernement, des administrations publiques, du secteur privé, des partenaires au développement et du public, produit une masse importante d’informations conjoncturelles relatives notamment aux prix à la consommation, aux prix à la production industrielle, à la production industrielle, au commerce extérieur, au Produit intérieur brut trimestriel (PIB). La Note sur les Evolutions Economiques Récentes (NEER) fait une analyse synthétique de toutes les informations conjoncturelles produites par l’ANSD. Elle fait le point sur la situation économique récente au Sénégal au cours du trimestre sous revue L’accent est mis sur les relations de causes à effets entre les différents indicateurs. La NEER retrace dans sa première partie, l’évolution du PIB trimestriel. La deuxième partie a trait à l’activité industrielle, la troisième aux prix intérieurs. La quatrième partie est relative à l’agrément au code des investissements et au statut d’entreprise franche d’exportation. Enfin, la cinquième est consacrée aux échanges extérieurs. La Note sur les Evolutions Economiques Récentes (NEER) est publiée au plus tard 75 jours après la fin du trimestre sous revue.\n",
      "\n",
      "La Situation Economique et Sociale Nationale (SESN) est une publication annuelle qui fait la synthèse des informations statistiques émanant de l’ANSD et des autres structures du Système National Statistique (SSN), dans le cadre de l’exécution de leurs tâches quotidiennes. La SESN essaie d’embrasser la quasi- totalité des secteurs de l’activité économique et sociale en mettant en relief l’information quantitative, fournissant ainsi les principaux indicateurs économiques, sociaux et démographiques du Sénégal. Réalisée pour une année (N) en utilisant les données recueillies l’année précédente (N-1), la SESN constitue un véritable instrument de planification et d’aide à la prise de décision pour les principaux acteurs du développement de notre pays.\n",
      "\n",
      "Les présentes projections démographiques ont été élaborées par l’Agence Nationale de la Statistique et de la Démographie au cours d’un atelier tenu en mai 2015. Ces projections sont issues d’un large consensus. Elles ont été réalisées avec la participation de techniciens issus d’horizon divers (Ministères de l’Economie des Finances et du Plan, Emploi, Travail, Education, Famille, Agriculture, Elevage, Santé, Jeunes) et UNFPA. Les hypothèses ont été formulées par rapport à une évolution probable des différents facteurs de la dynamique de la population, notamment: • La structure de la population, par sexe et par âge ; • La structure de la population selon le milieu de résidence (urbaine ou rurale) ; • L’Indice synthétique de fécondité comme indicateur de fécondité ; • L’espérance de vie ; • La structure de la mortalité (à travers l’emploi d’une table-type de mortalité, celle de Coale & Demeny Nord) ; • Le solde migratoire ; • Le niveau d’urbanisation.\n",
      "\n",
      "Cette partie regroupe les publications relatives aux statistiques de population. Elles sont constituées des chapitres relatifs à ce thème dans les Rapports des enquêtes et recensements et dans d'autres spécifiques relatives à la population.\n",
      "\n",
      "None\n",
      "Le Sénégal, à l’instar des autres pays africains, a réalisé son quatrième recensement de la population dans le cadre de la série des recensements de la population de la décennie 2010 (2005-2014) initiée par les Nations Unies, à travers le Fonds des Nations Unies pour la Population (UNFPA), son Agence spécialisée en la matière. Les principaux objectifs assignés à ce Recensement et dont la phase de dénombrement a été bouclée en décembre 2013 sont de fournir : a) des données sur les caractéristiques socio-démographiques de la population, b) des données sur les caractéristiques de l’Habitat, c) des données de référence pour les statistiques agro-pastorales courantes, d) des bases de sondage pour les enquêtes sociodémographiques et agro-pastorales, e) des données pour le suivi de l’avancement vers les objectifs de développement nationaux et mondiaux, en particulier les Objectifs du Millénaire pour le Développement (OMD).\n",
      "\n",
      "Le Sénégal, à l’instar des autres pays africains, a réalisé son quatrième recensement de la population dans le cadre de la série des recensements de la population de la décennie 2010 (2005-2014) initiée par les Nations Unies, à travers le Fonds des Nations Unies pour la Population (UNFPA), son Agence spécialisée en la matière.\n",
      "Les principaux objectifs assignés à ce Recensement et dont la phase de dénombrement a été bouclée en décembre 2013 sont de fournir : a) des données sur les caractéristiques socio-démographiques de la population, b) des données sur les caractéristiques de l’Habitat, c) des données de référence pour les statistiques agro-pastorales courantes, d) des bases de sondage pour les enquêtes sociodémographiques et agro-pastorales, e) des données pour le suivi de l’avancement vers les objectifs de développement nationaux et mondiaux, en particulier les Objectifs du Millénaire pour le Développement (OMD).\n",
      "\n",
      "Le Sénégal, à l’instar des autres pays africains, a réalisé son quatrième recensement de la population dans le cadre de la série des recensements de la population de la décennie 2010 (2005-2014) initiée par les Nations Unies, à travers le Fonds des Nations Unies pour la Population (UNFPA), son Agence spécialisée en la matière. Les principaux objectifs assignés à ce Recensement et dont la phase de dénombrement a été bouclée en décembre 2013 sont de fournir : a) des données sur les caractéristiques socio-démographiques de la population, b) des données sur les caractéristiques de l’Habitat, c) des données de référence pour les statistiques agro-pastorales courantes, d) des bases de sondage pour les enquêtes sociodémographiques et agro-pastorales, e) des données pour le suivi de l’avancement vers les objectifs de développement nationaux et mondiaux, en particulier les Objectifs du Millénaire pour le Développement (OMD).\n",
      "\n",
      "Ce thème regroupe les rapports d'enquêtes et d'études réalisées sur la migration.\n",
      "\n",
      "La Situation Economique et Sociale Nationale (SESN) est une publication annuelle qui fait la synthèse des informations statistiques émanant de l’ANSD et des autres structures du Système National Statistique (SSN), dans le cadre de l’exécution de leurs tâches quotidiennes. La SESN essaie d’embrasser la quasi- totalité des secteurs de l’activité économique et sociale en mettant en relief l’information quantitative, fournissant ainsi les principaux indicateurs économiques, sociaux et démographiques du Sénégal. Réalisée pour une année (N) en utilisant les données recueillies l’année précédente (N-1), la SESN constitue un véritable instrument de planification et d’aide à la prise de décision pour les principaux acteurs du développement de notre pays.\n",
      "\n",
      "Le Sénégal, à l’instar des autres pays africains, a réalisé son quatrième recensement de la population dans le cadre de la série des recensements de la population de la décennie 2010 (2005-2014) initiée par les Nations Unies, à travers le Fonds des Nations Unies pour la Population (UNFPA), son Agence spécialisée en la matière. Les principaux objectifs assignés à ce Recensement et dont la phase de dénombrement a été bouclée en décembre 2013 sont de fournir : a) des données sur les caractéristiques socio-démographiques de la population, b) des données sur les caractéristiques de l’Habitat, c) des données de référence pour les statistiques agro-pastorales courantes, d) des bases de sondage pour les enquêtes sociodémographiques et agro-pastorales, e) des données pour le suivi de l’avancement vers les objectifs de développement nationaux et mondiaux, en particulier les Objectifs du Millénaire pour le Développement (OMD).\n",
      "\n",
      "Le présent bulletin expose les statistiques sur le flux d’entrées et de sorties des personnes du territoire, les profils des migrants de retour assistés par l’OIM et les étrangers demandeurs de carte d’identité d’étranger. Les données sur les flux d’entrées et de sorties du territoire nationale sont fournies par la Direction de la Police de l'Air et des Frontières (DPAF). Selon la zone, les flux d’entrées et de sorties du territoire concernent 11 postes frontières à savoir : Aéroport international Blaise Diagne (AIBD), Diama, Karang, Kidira, Port de Dakar, Rosso, Ziguinchor, Matam, Moussala, Bignona et Kounkané.\n",
      "\n",
      "La Situation Economique et Sociale Nationale (SESN) est une publication annuelle qui fait la synthèse des informations statistiques émanant de l’ANSD et des autres structures du Système National Statistique (SSN), dans le cadre de l’exécution de leurs tâches quotidiennes. La SESN essaie d’embrasser la quasi- totalité des secteurs de l’activité économique et sociale en mettant en relief l’information quantitative, fournissant ainsi les principaux indicateurs économiques, sociaux et démographiques du Sénégal. Réalisée pour une année (N) en utilisant les données recueillies l’année précédente (N-1), la SESN constitue un véritable instrument de planification et d’aide à la prise de décision pour les principaux acteurs du développement de notre pays.\n",
      "\n",
      "La Banque de Données des Indicateurs Sociaux (BADIS) constitue un instrument important dans le dispositif actuel du système d’informations statistiques du pays. C’est l’un des rares outils, pour ne pas dire le seul, à disposer de données de sources administratives permettant une analyse longitudinale sur différents secteurs tels que : - l’éducation, - la santé, - la population, - les prix, - l’agriculture, - la dette extérieure, - l’emploi, - le cadre de vie (électricité, eau, téléphone, logement), - les comptes nationaux. Elle est composée pour l’essentiel d’un ensemble d’indicateurs économiques et sociaux qui couvrent une période de plus de vingt ans. En effet, les informations sont disponibles dans la plupart des cas depuis 1970. Elle comporte plus de 2000 séries chronologiques réparties dans les différents thèmes évoqués. Avec le Tableau de Bord de la Situation sociale du Sénégal (TBSS), ils forment les principaux éléments du système d’information sur lequel repose l’observatoire complet que l’ANSD en collaboration avec les partenaires au développement envisage de mettre en place. Cet observatoire intégrerait et harmoniserait différentes sources de données à la pauvreté, aux conditions de vie des ménages et au développement humain. Elle est complétée par des métadonnées correspondant en quelque sorte à un recueil des fiches explicatives des différents indicateurs présentés dans la BADIS.\n",
      "\n",
      "L’Enquête-Villages de 2000 a été conçue pour suppléer au manque d’informations permettant le ciblage des zones rurales jugées prioritaires dans la mise en place de programmes de réduction de la pauvreté. Elle visait à mesurer le niveau d’accès aux infrastructures, équipements et services sociaux de base, au niveau le plus bas, c’est-à-dire au niveau village. En effet, l'accès à la santé, à l'éducation, à l'eau potable, aux marchés des produits de base, au transport et à la communication, entres autres, peut influer positivement l’attitude des populations, en renforçant la gamme des opportunités capables de les amener à changer favorablement leurs comportements en prenant des initiatives et en faisant des choix de nature à améliorer leurs conditions de vie. Dans la définition des objectifs de l’Enquête-Villages de 2000, il a été rappelé que, pour l’essentiel, ladite enquête devait servir d’outil de ciblage des zones d’intervention prioritaires du Programme National de Lutte contre la Pauvreté (PLP), notamment dans sa composante « amélioration de l’accès aux services sociaux de base », qui visait l’augmentation des taux de scolarisation et d’alphabétisation, la réduction des taux de mortalité maternelle et infantile ainsi que le taux de malnutrition infantile, mais aussi le relèvement des taux de consultation primaire curative et de couverture des programmes préventifs et l’amélioration de l’alimentation en eau potable des populations.\n",
      "\n",
      "Ce projet dénommé « A l’écoute du Sénégal » entièrement financé par le Groupe de la Banque mondiale (GBM) est basé sur un système d’enquêtes à haute fréquence auprès d’un panel de 1500 ménages en se servant des réseaux de téléphonie mobile. Elle n’est pas destinée à remplacer les grandes enquêtes sur la pauvreté mais plutôt pour combler le vide en termes d’informations. Ce projet d’enquête permettra de gagner en termes de fréquence de disponibilité de données. Par contre, il ne peut fournir que les informations nécessaires en termes de suivi des conditions de vie des ménages sur un échantillon réduit représentatif au niveau national à travers les trois Zones de résidences (stratification) ; Dakar, autres milieux urbains et milieu rural. Cette approche, combinant une enquête de référence et des entretiens téléphoniques mensuels avec les ménages, permet un suivi plus rapproché des projets et programmes de développement initiés par les autorités. La mise en place de cette approche permet de produire des données représentatives de bonne qualité, avec une démarche souple, rapide et à moindre coût mais aussi de renseigner les indicateurs socioéconomiques retenus dans le cadre des stratégies nationales de développement initiées par les autorités.\n",
      "\n",
      "La Situation Economique et Sociale Nationale (SESN) est une publication annuelle qui fait la synthèse des informations statistiques émanant de l’ANSD et des autres structures du Système National Statistique (SSN), dans le cadre de l’exécution de leurs tâches quotidiennes. La SESN essaie d’embrasser la quasi- totalité des secteurs de l’activité économique et sociale en mettant en relief l’information quantitative, fournissant ainsi les principaux indicateurs économiques, sociaux et démographiques du Sénégal. Réalisée pour une année (N) en utilisant les données recueillies l’année précédente (N-1), la SESN constitue un véritable instrument de planification et d’aide à la prise de décision pour les principaux acteurs du développement de notre pays.\n",
      "\n",
      "Le Sénégal, à l’instar des autres pays africains, a réalisé son quatrième recensement de la population dans le cadre de la série des recensements de la population de la décennie 2010 (2005-2014) initiée par les Nations Unies, à travers le Fonds des Nations Unies pour la Population (UNFPA), son Agence spécialisée en la matière. Les principaux objectifs assignés à ce Recensement et dont la phase de dénombrement a été bouclée en décembre 2013 sont de fournir :\n",
      "\n",
      "La Situation Economique et Sociale Nationale (SESN) est une publication annuelle qui fait la synthèse des informations statistiques émanant de l’ANSD et des autres structures du Système National Statistique (SSN), dans le cadre de l’exécution de leurs tâches quotidiennes. La SESN essaie d’embrasser la quasi- totalité des secteurs de l’activité économique et sociale en mettant en relief l’information quantitative, fournissant ainsi les principaux indicateurs économiques, sociaux et démographiques du Sénégal. Réalisée pour une année (N) en utilisant les données recueillies l’année précédente (N-1), la SESN constitue un véritable instrument de planification et d’aide à la prise de décision pour les principaux acteurs du développement de notre pays.\n",
      "\n",
      "Regroupe les rapports d'enquête et d'étude sur l'emploi et le travail\n",
      "\n",
      "La Situation Economique et Sociale Nationale (SESN) est une publication annuelle qui fait la synthèse des informations statistiques émanant de l’ANSD et des autres structures du Système National Statistique (SSN), dans le cadre de l’exécution de leurs tâches quotidiennes. La SESN essaie d’embrasser la quasi- totalité des secteurs de l’activité économique et sociale en mettant en relief l’information quantitative, fournissant ainsi les principaux indicateurs économiques, sociaux et démographiques du Sénégal. Réalisée pour une année (N) en utilisant les données recueillies l’année précédente (N-1), la SESN constitue un véritable instrument de planification et d’aide à la prise de décision pour les principaux acteurs du développement de notre pays.\n",
      "\n",
      "L'objectif principal des enquêtes trimestrielles est de mettre en place un dispositif de mesure et de suivi de l’emploi au Sénégal. De façon spécifique, cette enquête vise à : · mesurer le chômage et l’emploi, identifier les secteurs d’activités à plus forte capacité de création d’emplois ; · définir le profil des demandeurs d’emploi ; · mesurer la demande d’emploi particulièrement celle des jeunes, les dynamiques du marché du travail au Sénégal ; · déterminer la structure de cette demande en termes de caractéristiques sociodémographiques, de formation et de qualification professionnelle ; · évaluer les canaux de recherche d’un emploi et la durée d’obtention du premier emploi après la sortie du système éducatif ou de formation professionnelle ; · évaluer la durée d’occupation d’un emploi notamment le premier emploi ; · évaluer les conditions d’exercice de ces emplois notamment la protection sociale accordée aux différentes catégories socioprofessionnelles ; · servir de support d’analyse statistique pour les plans tel que le PSE, les programmes et stratégies de promotion de l’emploi notamment celui des jeunes et des femmes.\n",
      "\n",
      "Le Sénégal, à l’instar des autres pays africains, a réalisé son quatrième recensement de la population dans le cadre de la série des recensements de la population de la décennie 2010 (2005-2014) initiée par les Nations Unies, à travers le Fonds des Nations Unies pour la Population (UNFPA), son Agence spécialisée en la matière. Les principaux objectifs assignés à ce Recensement et dont la phase de dénombrement a été bouclée en décembre 2013 sont de fournir : a) des données sur les caractéristiques socio-démographiques de la population, b) des données sur les caractéristiques de l’Habitat, c) des données de référence pour les statistiques agro-pastorales courantes, d) des bases de sondage pour les enquêtes sociodémographiques et agro-pastorales, e) des données pour le suivi de l’avancement vers les objectifs de développement nationaux et mondiaux, en particulier les Objectifs du Millénaire pour le Développement (OMD).\n",
      "\n",
      "La Situation Economique et Sociale Nationale (SESN) est une publication annuelle qui fait la synthèse des informations statistiques émanant de l’ANSD et des autres structures du Système National Statistique (SSN), dans le cadre de l’exécution de leurs tâches quotidiennes. La SESN essaie d’embrasser la quasi- totalité des secteurs de l’activité économique et sociale en mettant en relief l’information quantitative, fournissant ainsi les principaux indicateurs économiques, sociaux et démographiques du Sénégal. Réalisée pour une année (N) en utilisant les données recueillies l’année précédente (N-1), la SESN constitue un véritable instrument de planification et d’aide à la prise de décision pour les principaux acteurs du développement de notre pays.\n",
      "\n",
      "Le Sénégal, à l’instar des autres pays africains, a réalisé son quatrième recensement de la population dans le cadre de la série des recensements de la population de la décennie 2010 (2005-2014) initiée par les Nations Unies, à travers le Fonds des Nations Unies pour la Population (UNFPA), son Agence spécialisée en la matière. Les principaux objectifs assignés à ce Recensement et dont la phase de dénombrement a été bouclée en décembre 2013 sont de fournir : a) des données sur les caractéristiques socio-démographiques de la population, b) des données sur les caractéristiques de l’Habitat, c) des données de référence pour les statistiques agro-pastorales courantes, d) des bases de sondage pour les enquêtes sociodémographiques et agro-pastorales, e) des données pour le suivi de l’avancement vers les objectifs de développement nationaux et mondiaux, en particulier les Objectifs du Millénaire pour le Développement (OMD).\n",
      "\n",
      "Ce thème regroupe les Rapports des enquêtes et d'études réalisées sur le thème de genre et équité.\n",
      "\n",
      "\n",
      "\n",
      "La Situation Economique et Sociale Nationale (SESN) est une publication annuelle qui fait la synthèse des informations statistiques émanant de l’ANSD et des autres structures du Système National Statistique (SSN), dans le cadre de l’exécution de leurs tâches quotidiennes.\n",
      "La SESN essaie d’embrasser la quasi- totalité des secteurs de l’activité économique et sociale en mettant en relief l’information quantitative, fournissant ainsi les principaux indicateurs économiques, sociaux et démographiques du Sénégal. Réalisée pour une année (N) en utilisant les données recueillies l’année précédente (N-1), la SESN constitue un véritable instrument de planification et d’aide à la prise de décision pour les principaux acteurs du développement de notre pays.\n",
      "\n",
      "\n",
      "\n",
      "La Situation Economique et Sociale Nationale (SESN) est une publication annuelle qui fait la synthèse des informations statistiques émanant de l’ANSD et des autres structures du Système National Statistique (SSN), dans le cadre de l’exécution de leurs tâches quotidiennes.\n",
      "La SESN essaie d’embrasser la quasi- totalité des secteurs de l’activité économique et sociale en mettant en relief l’information quantitative, fournissant ainsi les principaux indicateurs économiques, sociaux et démographiques du Sénégal. Réalisée pour une année (N) en utilisant les données recueillies l’année précédente (N-1), la SESN constitue un véritable instrument de planification et d’aide à la prise de décision pour les principaux acteurs du développement de notre pays.\n",
      "\n",
      "La Situation Economique et Sociale Nationale (SESN) est une publication annuelle qui fait la synthèse des informations statistiques émanant de l’ANSD et des autres structures du Système National Statistique (SSN), dans le cadre de l’exécution de leurs tâches quotidiennes. La SESN essaie d’embrasser la quasi- totalité des secteurs de l’activité économique et sociale en mettant en relief l’information quantitative, fournissant ainsi les principaux indicateurs économiques, sociaux et démographiques du Sénégal. Réalisée pour une année (N) en utilisant les données recueillies l’année précédente (N-1), la SESN constitue un véritable instrument de planification et d’aide à la prise de décision pour les principaux acteurs du développement de notre pays.\n",
      "\n",
      "La Situation Economique et Sociale Nationale (SESN) est une publication annuelle qui fait la synthèse des informations statistiques émanant de l’ANSD et des autres structures du Système National Statistique (SSN), dans le cadre de l’exécution de leurs tâches quotidiennes. La SESN essaie d’embrasser la quasi- totalité des secteurs de l’activité économique et sociale en mettant en relief l’information quantitative, fournissant ainsi les principaux indicateurs économiques, sociaux et démographiques du Sénégal.\n",
      "Réalisée pour une année (N) en utilisant les données recueillies l’année précédente (N-1), la SESN constitue un véritable instrument de planification et d’aide à la prise de décision pour les principaux acteurs du développement de notre pays.\n",
      "\n",
      "None\n",
      "La Situation Economique et Sociale Nationale (SESN) est une publication annuelle qui fait la synthèse des informations statistiques émanant de l’ANSD et des autres structures du Système National Statistique (SSN), dans le cadre de l’exécution de leurs tâches quotidiennes. La SESN essaie d’embrasser la quasi- totalité des secteurs de l’activité économique et sociale en mettant en relief l’information quantitative, fournissant ainsi les principaux indicateurs économiques, sociaux et démographiques du Sénégal. Réalisée pour une année (N) en utilisant les données recueillies l’année précédente (N-1), la SESN constitue un véritable instrument de planification et d’aide à la prise de décision pour les principaux acteurs du développement de notre pays.\n",
      "\n",
      "Cette section regroupe les rapports d'enquêtes et d'études réalisées sur le secteur industriel dans son ensemble.\n",
      "\n",
      "La Situation Economique et Sociale Nationale (SESN) est une publication annuelle qui fait la synthèse des informations statistiques émanant de l’ANSD et des autres structures du Système National Statistique (SSN), dans le cadre de l’exécution de leurs tâches quotidiennes. La SESN essaie d’embrasser la quasi- totalité des secteurs de l’activité économique et sociale en mettant en relief l’information quantitative, fournissant ainsi les principaux indicateurs économiques, sociaux et démographiques du Sénégal. Réalisée pour une année (N) en utilisant les données recueillies l’année précédente (N-1), la SESN constitue un véritable instrument de planification et d’aide à la prise de décision pour les principaux acteurs du développement de notre pays.\n",
      "\n",
      "La Situation Economique et Sociale Nationale (SESN) est une publication annuelle qui fait la synthèse des informations statistiques émanant de l’ANSD et des autres structures du Système National Statistique (SSN), dans le cadre de l’exécution de leurs tâches quotidiennes. La SESN essaie d’embrasser la quasi- totalité des secteurs de l’activité économique et sociale en mettant en relief l’information quantitative, fournissant ainsi les principaux indicateurs économiques, sociaux et démographiques du Sénégal. Réalisée pour une année (N) en utilisant les données recueillies l’année précédente (N-1), la SESN constitue un véritable instrument de planification et d’aide à la prise de décision pour les principaux acteurs du développement de notre pays.\n",
      "\n",
      "La Situation Economique et Sociale Nationale (SESN) est une publication annuelle qui fait la synthèse des informations statistiques émanant de l’ANSD et des autres structures du Système National Statistique (SSN), dans le cadre de l’exécution de leurs tâches quotidiennes. La SESN essaie d’embrasser la quasi- totalité des secteurs de l’activité économique et sociale en mettant en relief l’information quantitative, fournissant ainsi les principaux indicateurs économiques, sociaux et démographiques du Sénégal. Réalisée pour une année (N) en utilisant les données recueillies l’année précédente (N-1), la SESN constitue un véritable instrument de planification et d’aide à la prise de décision pour les principaux acteurs du développement de notre pays.\n",
      "\n",
      "La Situation Economique et Sociale Nationale (SESN) est une publication annuelle qui fait la synthèse des informations statistiques émanant de l’ANSD et des autres structures du Système National Statistique (SSN), dans le cadre de l’exécution de leurs tâches quotidiennes. La SESN essaie d’embrasser la quasi- totalité des secteurs de l’activité économique et sociale en mettant en relief l’information quantitative, fournissant ainsi les principaux indicateurs économiques, sociaux et démographiques du Sénégal. Réalisée pour une année (N) en utilisant les données recueillies l’année précédente (N-1), la SESN constitue un véritable instrument de planification et d’aide à la prise de décision pour les principaux acteurs du développement de notre pays.\n",
      "\n"
     ]
    }
   ],
   "source": [
    "for v in new_indicateurs :\n",
    "    print(new_indicateurs[v][\"description\"])"
   ]
  },
  {
   "cell_type": "code",
   "execution_count": 302,
   "metadata": {},
   "outputs": [],
   "source": [
    "for v in new_indicateurs :\n",
    "    try : \n",
    "        new_indicateurs[v][\"sommaire\"] = \".\".join(new_indicateurs[v][\"sommaire\"] )\n",
    "    except:\n",
    "        pass"
   ]
  },
  {
   "cell_type": "code",
   "execution_count": null,
   "metadata": {},
   "outputs": [],
   "source": []
  },
  {
   "cell_type": "code",
   "execution_count": null,
   "metadata": {},
   "outputs": [],
   "source": [
    "#som_list = new_indicateurs[\"Banque de Données Economiques et Financières (BDEF)\"][\"sommaire\"]"
   ]
  },
  {
   "cell_type": "code",
   "execution_count": null,
   "metadata": {},
   "outputs": [],
   "source": [
    "#print(type(som_list))"
   ]
  },
  {
   "cell_type": "code",
   "execution_count": null,
   "metadata": {},
   "outputs": [],
   "source": [
    "#som_list"
   ]
  },
  {
   "cell_type": "code",
   "execution_count": null,
   "metadata": {},
   "outputs": [],
   "source": [
    "#\".\".join(som_list)"
   ]
  },
  {
   "cell_type": "code",
   "execution_count": 303,
   "metadata": {},
   "outputs": [],
   "source": [
    "import json\n",
    "with open(\"full_data_dec_2023.json\", 'w') as f :\n",
    "    json.dump(new_indicateurs,f,indent=3)"
   ]
  },
  {
   "cell_type": "code",
   "execution_count": 304,
   "metadata": {},
   "outputs": [],
   "source": [
    "for v in new_indicateurs:\n",
    "    new_indicateurs[v]['indicateurs'] = v"
   ]
  },
  {
   "cell_type": "code",
   "execution_count": 305,
   "metadata": {},
   "outputs": [],
   "source": [
    "new_data_simple = []"
   ]
  },
  {
   "cell_type": "code",
   "execution_count": 306,
   "metadata": {},
   "outputs": [],
   "source": [
    "for v in new_indicateurs:\n",
    "    new_data_simple.append(new_indicateurs[v])"
   ]
  },
  {
   "cell_type": "code",
   "execution_count": 307,
   "metadata": {},
   "outputs": [],
   "source": [
    "len_max = 0\n",
    "for v in new_data_simple:\n",
    "    if v[\"sommaire\"]!=None :\n",
    "        if len(v[\"sommaire\"]) > len_max :\n",
    "            len_max = len(v[\"sommaire\"])"
   ]
  },
  {
   "cell_type": "code",
   "execution_count": 308,
   "metadata": {},
   "outputs": [],
   "source": [
    "for v in new_data_simple:\n",
    "    v[\"data_publication\"] = v[\"data_publication\"].replace(\"N°\",\"\")"
   ]
  },
  {
   "cell_type": "code",
   "execution_count": 310,
   "metadata": {},
   "outputs": [
    {
     "data": {
      "text/plain": [
       "[{'source': 'https://www.ansd.sn/Indicateur/tableau-des-ressources-et-des-emplois-tre',\n",
       "  'data_publication': '2022',\n",
       "  'sommaire': None,\n",
       "  'description': '« Le tableau des ressources et des emplois (TRE) décrit le processus de création et d’utilisation des biens et services. Il s’agit d’une matrice par produit et par branche d’activité montrant comment la production intérieure et les importations de biens et services sont utilisées, d’une part, par les branches d’activités pour la consommation intermédiaire et, d’autre part, pour satisfaire le demande finale intérieure (consommation finale et investissement) et extérieure (exportations). Il permet, en particulier, d’identifier les interrelations qui s’opèrent tant à l’intérieur de la sphère de production qu’entre les sphères de production et de consommation. »\\n',\n",
       "  'thème': 'CROISSANCE_ÉCONOMIQUE',\n",
       "  'indicateurs': 'Tableau des ressources et des emplois (TRE)'},\n",
       " {'source': 'https://www.ansd.sn/Indicateur/matrice-de-comptabilite-sociale-mcs',\n",
       "  'data_publication': '2019',\n",
       "  'sommaire': 'Une matrice de comptabilité sociale (MCS) est une présentation du Système de Comptabilité nationale (SCN) sous forme matricielle, qui permet l’incorporation des détails supplémentaires présentant un intérêt particulier. Il s’agit d’un cadre comptable qui décrit de manière cohérente les flux de revenus dans une économie au cours d’une période considérée.',\n",
       "  'description': None,\n",
       "  'thème': 'CROISSANCE_ÉCONOMIQUE',\n",
       "  'indicateurs': 'Matrice de comptabilité sociale (MCS)'},\n",
       " {'source': 'https://www.ansd.sn/Indicateur/comptes-des-secteurs-institutionnels-et-tableaux-des-comptes-economiques-integres',\n",
       "  'data_publication': '2020',\n",
       "  'sommaire': '',\n",
       "  'description': \"« Dans le but de mettre à la disposition des utilisateurs un ensemble plus large d’indicateurs économiques relatifs aux transactions effectuées par les agents économiques, l’Agence nationale de la Statistique et de la Démographie (ANSD) s’est engagée, dans la production des comptes de secteurs institutionnels et de leur synthèse avec le Tableau des Comptes Economiques Intégrés (TCEI). Ces comptes sont établis en référence au Système de Comptabilité nationale de 2008 (SCN 2008). Le TCEI décrit l’ensemble du processus économique, qui couvre la production, la formation et la répartition du revenu, la consommation et l’épargne pour chaque secteur institutionnel résident ainsi que les opérations avec le reste du monde. Il donne une image complète des comptes de l'ensemble de l'économie, en faisant ressortir les principales relations économiques. »\\n\",\n",
       "  'thème': 'CROISSANCE_ÉCONOMIQUE',\n",
       "  'indicateurs': 'Comptes des secteurs institutionnels et tableaux des comptes économiques intégrés '},\n",
       " {'source': 'https://www.ansd.sn/Indicateur/produit-interieur-brut-trimestriel-base-2014',\n",
       "  'data_publication': 'T3 2023',\n",
       "  'sommaire': 'Au troisième trimestre de l’année 2023, le Produit Intérieur Brut (PIB) réel, corrigé des variations saisonnières (CVS), a augmenté de 0,7%, par rapport au trimestre précédent. Ce résultat est consécutif au relèvement des taxes nettes de subventions sur les produits (+4,7%) et de la valeur ajoutée du secteur tertiaire (+0,8%). A contrario, les secteurs secondaire et primaire ont fléchi, respectivement, de 0,6% et 0,2%..S’agissant des composantes de la demande, en variation trimestrielle, la formation brute de capitale fixe (FBCF) s’est rehaussée de 12,6% sous l’impulsion de sa composante privée (+16,1%). La consommation finale s’est renforcée de 1,3% tandis que les exportations de biens et services ont décru de 6,3%..Par rapport à la même période de l’année 2022, le PIB réel du troisième trimestre de 2023 s’est accru de 4,5%. Cette bonification s’explique principalement par la consolidation des activités des secteurs primaire (+6,3%), du tertiaire (4,7%) ainsi que du secondaire (+3,9%). Quant aux taxes nettes sur les produits, elles se sont relevées de 1,9% en volume..Sous l’angle de la demande, le regain d’activité économique au troisième trimestre de 2023, par rapport au trimestre correspondant de l’année précédente, s’est traduit, en termes réels, par l’accroissement de la formation brute de capital fixe (+11,1%), de la consommation finale (+5,2%) tandis que les exportations de biens et services ont diminué de 11,6%..Le Produit Intérieur Brut nominal est estimé à 4 188,8 milliards de FCFA au troisième trimestre de 2023.',\n",
       "  'description': 'La Note sur le PIB trimestriel est une publication qui fait la synthèse de l’évolution récente de l’activité économique du Sénégal. Le PIB est calculé en partant d’un regroupement des branches de la Nomenclature d’Activités des États Membres d’AFRISTAT (NAEMA). Il est évalué en valeur aux prix courants et en volumes chainés (avec l’année de référence 2014, année de base des comptes nationaux annuels selon le SCN 2008). Les approches utilisées sont celles de la production et des emplois. Elles reposent sur la disponibilité d’un ensemble minimum de statistiques conjoncturelles sur les branches d’activités économiques. La méthodologie de l’étalonnage-calage fondée sur l’approche numérique (Denton) et celle par modélisation (Cholette-Dagum) a été retenue. L’approche par double déflation est utilisée. Sauf indication contraire, les analyses vont porter sur les données corrigées des variations saisonnières (CVS). La note sur le PIB trimestriel est publiée au plus tard quatre-vingt-dix jours. (90) jours après le trimestre sous revue.\\n',\n",
       "  'thème': 'CROISSANCE_ÉCONOMIQUE',\n",
       "  'indicateurs': 'Produit intérieur brut trimestriel (base 2014)'},\n",
       " {'source': 'https://www.ansd.sn/Indicateur/produit-interieur-brut-annuel-base-2014',\n",
       "  'data_publication': '2022',\n",
       "  'sommaire': 'La croissance économique du Sénégal s’est ralentie en 2022 dans un contexte caractérisé par de fortes pressions inflationnistes..La croissance économique du Sénégal s’est établie à 3,8% en 2022 après 6,5% en 2021. Cette décélération de l’activité économique est imputable à celle de la valeur ajoutée du secteur primaire. En particulier le sous-secteur agricole s’est contracté de 0,9% en 2022 en volume. En outre, ce ralentissement de l’activité économique s’est réalisé dans un contexte marqué par des tensions géopolitiques au niveau international et par une augmentation soutenue des prix. En effet, le niveau général des prix1 a augmenté de 8,7% en 2022..Les dépenses de consommation finale se sont accrues de 3,1% en 2022, en termes réels. Cette situation est expliquée par la hausse de la consommation marchande de 3,5% en 2022. Elle est amoindrie par une progression limitée de celle non marchande (+2,2%)..Par ailleurs, la formation brute du capital fixe (FBCF) en volume s’est relevée de 11,0% en 2022, après 15,8% en 2021. Cette évolution est principalement imputable à sa composante privée qui s’est rehaussée de 17,3% en 2022, après 18,8% un an auparavant..Les échanges extérieurs de biens et services en volume ont été marqués par un accroissement plus soutenu des importations (+12,4%) que des exportations (+3,5%). En valeur, le solde de la balance des biens et services s’est largement détérioré en s’établissant à -4 534,0 milliards FCFA en 2022, après -3 067,0 milliards FCFA en 2021. Dans ce sillage, le déficit extérieur courant rapporté au PIB est ressorti à 20,1% contre 12,1% un an auparavant..Le taux d’épargne nationale est évalué à 25,6% du PIB en 2022 contre 26,1% en 2021. Aussi, le PIB nominal s’est-il établi à 17 228 milliards FCFA en 2022, après 15 261 milliards FCFA en 2021.',\n",
       "  'description': 'La première partie analyse certains indicateurs phares de l’activité économique, en particulier, la croissance économique, l’évolution de la valeur ajoutée par secteurs d’activités ainsi que celle des emplois du PIB (consommation finale, investissements, exportations nettes). Cette partie aborde également la contribution à la formation du PIB, du point de vue des agents économiques (les secteurs institutionnels). La deuxième partie est constituée de tableaux sur les indicateurs macroéconomiques, le produit intérieur brut et ses emplois ainsi que sur les agrégats par produit. Les informations sont données aux prix courants et en volume aux prix chainés (base 100 = 2014) pour les trois dernières années.\\n',\n",
       "  'thème': 'CROISSANCE_ÉCONOMIQUE',\n",
       "  'indicateurs': 'Produit Intérieur Brut annuel (base 2014)'},\n",
       " {'source': 'https://www.ansd.sn/Indicateur/indice-des-prix-des-materiaux-de-construction-imc',\n",
       "  'data_publication': 'Novembre 2023',\n",
       "  'sommaire': 'Les prix des matériaux de construction ont baissé de 0,3% en novembre 2023, comparativement au mois précédent. Ce repli est consécutif à celui des prix des peintures (-1,7%) ainsi que des matériaux de base (-0,5%). En variation annuelle[1], les prix des matériaux de construction se sont contractés de 4,9%.\\xa0\\xa0\\xa0.Les prix des peintures ont chuté de 1,7% au mois de novembre 2023, sous l’effet de la baisse de ceux de la peinture à eau (-2,4%) et de la peinture à huile (-0,2%). En comparaison à la période correspondante en 2022, les prix ont diminué de 2,1%..Le repli des prix des matériaux de base (-0,5%), en rythme mensuel, est imputable à celui des prix\\xa0 du fer à béton (-1,9%), du sable (-0,2%) et des graviers (-0,1%). Toutefois, les prix du ciment ordinaire se sont accrus de 0,1% sur la même période. En variation annuelle, les prix ont baissé de 7,6%.\\xa0.Les prix des matériaux de menuiserie se sont contractés de 0,1% au cours du mois sous revue, en raison du recul de ceux des articles en aluminium (-0,3%) ainsi que ceux en bois (-0,1%). \\xa0\\xa0\\xa0Comparés à leur niveau en novembre 2022, les prix des matériaux de menuiserie se sont repliés de 1,4%.\\xa0.Les matériaux pour travaux d’électricité se sont renchéris de 0,5% en novembre 2023, suite à la hausse des prix des tubes orange (+4,9%). En variation annuelle, les prix ont diminué de 2,9%..[1] Variation entre les mêmes mois de deux années consécutives',\n",
       "  'description': \"L’Agence Nationale de la Statistique et de la Démographie (ANSD) met à la disposition des utilisateurs l'Indice mensuel des Prix des Matériaux de Construction. Cet indice base 100 en T2-2015, mesure l’évolution des prix des matériaux entrant dans la construction des logements à usage d'habitation. Les indices sont de type Laspeyres et les pondérations sont issues des devis quantitatifs et estimatifs sur les quatre types (cf. Annexe 1) de logement les plus représentatifs le secteur immobilier. Le champ couvert par l’indice est la grande agglomération de Dakar découpée en zone de collecte. Le panier considéré comprend 96 variétés suivies dans 176 points d’observations. Plus de 760 relevés de prix sont effectués chaque mois.\\n\",\n",
       "  'thème': 'BÂTIMENTS_ET_TRAVAUX_PUBLICS_',\n",
       "  'indicateurs': 'Indice des Prix des Matériaux de Construction (IMC)'},\n",
       " {'source': 'https://www.ansd.sn/Indicateur/indice-du-cout-de-la-construction-icc-base-100-2018',\n",
       "  'data_publication': 'T3 2023',\n",
       "  'sommaire': \"Le coût de la construction des logements neufs à usage d'habitation a baissé de 0,2% au troisième trimestre 2023, par rapport au trimestre précédent. Cette évolution résulte essentiellement du repli des prix des « matériaux de construction ». En revanche, l’augmentation du coût de la « main d’œuvre\\xa0», de la «\\xa0location du matériel\\xa0» ainsi que des «\\xa0moyens de gestion\\xa0» a amoindri cette baisse. En variation annuelle[1], le coût de la construction a enregistré une diminution de 0,5%..[1] Variation entre les mêmes trimestres de deux années consécutives\",\n",
       "  'description': \"L’ANSD publiait un ICC base 100 T2-2015 dont la couverture géographique était limitée à la Capitale, Dakar. Des travaux d’élargissement de la couverture géographique de l’ICC ont été entamés en 2018 pour être en conformité avec les normes internationales et prendre en compte les réalités économiques du Sénégal. Ainsi, cet indice base 100 en 2018, mesure l’évolution du coût de la construction des logements neufs à usage d'habitation au plan national. Les indices sont de type Laspeyres et les pondérations sont issues des devis quantitatifs et estimatifs sur les types de logement les plus représentatifs du secteur au niveau national. Le champ couvert par l’indice est l’ensemble du pays découpé en zones écologiques/économiques, à savoir le Sud, le Nord, le Centre Nord, l’Ouest et le Centre Sud. Ces cinq zones sont représentées respectivement par Kolda, Saint Louis, Diourbel, Dakar et Kaolack. La collecte des prix se fait dans les capitales de ces régions.. Le panier suivi dans chaque zone comprend 101 variétés. L'ICC est publié au plus tard 15 jours après le trimestre sous revue.\\n\",\n",
       "  'thème': 'BÂTIMENTS_ET_TRAVAUX_PUBLICS_',\n",
       "  'indicateurs': 'Indice du Coût de la Construction-ICC (base 100 2018)'},\n",
       " {'source': 'https://www.ansd.sn/Indicateur/evolution-annuelle-de-lindice-harmonise-des-prix-la-consommation',\n",
       "  'data_publication': '2022',\n",
       "  'sommaire': 'L’année 2022 est marquée par un ralentissement de l’activité économique notamment sous l’effet de la guerre russo-ukrainienne, de la résurgence de l’épidémie de Covid-19 en Chine et du relèvement des taux d’intérêt par les banques centrales pour juguler l’inflation. Selon les estimations du Fonds Monétaire international (FMI), la croissance mondiale devrait ralentir à 3,4 % en 2022, contre 6,1 % en 2021[1]..Selon cette même source, l’inflation mondiale a atteint 8,8 % en 2022, dépassant le niveau de 3,5% d’avant la pandémie. L’inflation annuelle moyenne s’est établie à +7,3 % dans les pays avancés et à +9,9 % dans les pays émergents et les pays en développement en 2022. En particulier, dans les pays en développement à faible revenu, l’inflation a dépassé 14 %..Par ailleurs, dans la zone UEMOA, le taux d’inflation en moyenne annuelle est ressorti à +7,4%. Il est resté supérieur au seuil communautaire de 3,0% dans la quasi-totalité des Etats membres de l’Union..Au Sénégal, le taux d’inflation s’est établi à +9,7% en 2022, après 2,2% l’année précédente. La tension sur les prix à la consommation est induite principalement par la hausse des prix des produits alimentaires résultant notamment de celle des cours mondiaux des matières premières de base. De même, la hausse des prix de certaines fonctions de consommation, telles que les « meubles, articles de ménage et entretien courant du foyer », les biens et services de « transports »,\\xa0 de « restaurants et hôtels », « d’enseignement », ainsi que de « logement, eau, gaz, électricité et autres combustibles » ont aussi concouru au relèvement des prix intérieurs..[1] FMI, Perspectives de l’économie mondiale (PEM) de janvier 2023.',\n",
       "  'description': 'Cette publication fait une analyse annuelle de l’évolution des prix à la consommation par fonction mais aussi selon les classifications secondaires (origine, secteur, durabilité). L’inflation corrigée de l’effet des produits saisonniers et énergétiques est également analysée. Ce document donne en plus la place du Sénégal dans l’UEMOA pour e qui concerne l’inflation. Les indices sur les douze mois de l’année écoulée, les indices moyens détaillés par fonction des six dernières années et les variations annuelles sont données en annexe ainsi que les taux d’inflation des pays de l’UEMOA, l’évolution de l’indice des prix depuis 1967 et les prix moyens mensuels des produits et services suivis.\\n',\n",
       "  'thème': 'PRIX',\n",
       "  'indicateurs': \"Evolution annuelle de l'Indice Harmonisé des Prix à la Consommation\"},\n",
       " {'source': 'https://www.ansd.sn/Indicateur/note-danalyse-trimestrielle-de-lindice-des-prix-la-consommation',\n",
       "  'data_publication': 'T3 2023',\n",
       "  'sommaire': \"Au troisième trimestre 2023, les prix à la consommation ont augmenté de 4,0% par rapport au trimestre précédent. Cette hausse est due, principalement, à celle des prix des « produits alimentaires et boissons non alcoolisées » (+7,0%), des services de «\\xa0loisirs et culture\\xa0» (+1,9%) et de «\\xa0communication\\xa0» (+0,7%), ainsi que des «\\xa0biens et services divers\\xa0» (+0,6%) et de «\\xa0santé\\xa0» (+0,5%). Par contre, il est enregistré une baisse des prix des «\\xa0articles d'habillement et chaussures\\xa0» (-0,3%) et une constance de ceux des services «\\xa0d’enseignement\\xa0» pendant la période sous revue..Par ailleurs, en comparaison au trimestre correspondant de l’année 2022, les prix à la consommation se sont accrus de 4,9%, en relation avec la hausse des prix de toutes les fonctions de consommation, notamment ceux des « biens et services divers\\xa0»\\xa0(+6,2%), des « produits alimentaires et boissons non alcoolisées » (+5,8%) et des services de «\\xa0restaurants et hôtels\\xa0» (+5,5%).\",\n",
       "  'description': \"Cette publication fait une analyse trimestrielle de l'évolution des prix à la consommation global et par fonction mais aussi selon les classifications secondaires (origine, secteur, durabilité). Les indices des deux derniers trimestres écoulés, les évolutions sur un trimestre et sur l'année sont donnés en annexe, ainsi que les prix moyens trimestriels de quelques produits. Il existe également une publication annuelle qui donne une analyse de ces différentes fonctions au cours de l'année sous revue, la place du Sénégal dans l'UEMOA pour ce qui concerne l'inflation. Les indices sur les douze mois de l'année écoulée, les indices moyens détaillés par fonction des six dernières années et les variations annuelles sont données en annexes, ainsi que le taux d'inflation des pays de l'UEMOA, l'évolution de l'indice des prix depuis 1967 et les prix moyens mensuels des produits et services suivis.\\n\",\n",
       "  'thème': 'PRIX',\n",
       "  'indicateurs': \"Note d'Analyse trimestrielle de l'Indice des Prix à la Consommation\"},\n",
       " {'source': 'https://www.ansd.sn/Indicateur/indice-harmonise-des-prix-la-consommation-ihpc-base-100-en-2014',\n",
       "  'data_publication': 'Novembre 2023',\n",
       "  'sommaire': 'Les prix à la consommation du mois de novembre 2023 ont diminué de 1,2%, comparés à ceux du mois précédent, en liaison, principalement, avec le repli des prix des « produits alimentaires et boissons non alcoolisées » (-2,5%). Toutefois, le renchérissement des services de « communication » (+2,8%), des « restaurants et hôtels » (+1,0%), des « biens et services divers » (+0,7%), des « meubles, articles de ménage et entretien courant du foyer » (+0,6%) ainsi que des services de « transports » (+0,3%) a amoindri cette baisse. Par rapport au mois de novembre 2022, les prix à la consommation se sont accrus de 0,9%. Les prix des « produits alimentaires et boissons non alcoolisées » ont chuté de 2,5% en rythme mensuel. Cette réduction est liée à celle des prix des poissons frais (-12,5%), des tubercules et plantains (-7,7%), des légumes frais en fruits ou racine (-3,0%) ainsi que de l’huile (-2,3%). De même la diminution des prix des céréales non transformées de 1,8% a contribué à cette tendance baissière. Comparés au mois de novembre 2022, les prix des produits de cette fonction se sont repliés de 0,1%.',\n",
       "  'description': \"L’Agence Nationale de la Statistique et de la Démographie (ANSD) produit et publie tous les mois l'Indice Harmonisé des Prix à la Consommation (IHPC). Cet indice base 100 en 2014, mesure l’évolution des prix à la consommation au plan national. Les indices sont de type Laspeyres et la principale source identifiée pour les pondérations est la deuxième Enquête de Suivi de la Pauvreté au Sénégal (ESPS-II) de 2011. Le champ couvert par l’indice harmonisé des prix à la consommation est l’ensemble du pays découpé en zones écologiques/économiques, à savoir le Sud, le Nord, le Centre Nord, l’Ouest et le Centre Sud. Ces cinq zones sont représentées respectivement par Kolda, Saint Louis, Diourbel, Dakar et Kaolack. La collecte des prix se fait dans les capitales de ces régions. L’IHPC est publié selon la classification des fonctions de consommation des ménages à 12 fonctions (COICOP ). Et la méthodologie de calcul est commune aux huit pays de l'UEMOA.\\n\",\n",
       "  'thème': 'PRIX',\n",
       "  'indicateurs': 'Indice Harmonisé des Prix à la Consommation (IHPC, Base 100 en 2014)'},\n",
       " {'source': 'https://www.ansd.sn/Indicateur/indice-des-prix-la-production-industrielle-ippi',\n",
       "  'data_publication': 'Novembre 2023',\n",
       "  'sommaire': \"L’activité industrielle est marquée, en novembre 2023, par une augmentation de 0,4% des prix de la production industrielle hors égrenage de coton, comparativement à ceux du mois précédent. Cette situation est induite par le renchérissement des prix des produits des industries extractives (+1,5%). Toutefois, les prix des produits manufacturés, des industries environnementales, ainsi que de l'électricité, eau et gaz n’ont pas connu de variation. .En variation annuelle, les prix de la production industrielle hors égrenage de coton se sont relevés de 0,8% en novembre 2023, sous l’effet de l’appréciation des prix des produits de l’électricité, eau et gaz (+7,7%) et de ceux des produits extractifs (+3,7%). Cependant, sur les onze premiers mois de 2023, les prix de production industrielle ont diminué de 1,0% comparativement à leurs niveaux à la période correspondante de 2022..S’agissant de l’égrenage de coton, les prix ont augmenté de 15,1% en variation mensuelle. En revanche, ils ont diminué respectivement de 1,4% et de 12,9% en variation annuelle et en cumul sur les onze premiers mois de 2023..L’activité industrielle est marquée, en novembre 2023, par une augmentation de 0,4% des prix de la production industrielle hors égrenage de coton, comparativement à ceux du mois précédent. Cette situation est induite par le renchérissement des prix des produits des industries extractives (+1,5%). Toutefois, les prix des produits manufacturés, des industries environnementales, ainsi que de l'électricité, eau et gaz n’ont pas connu de variation. .En variation annuelle, les prix de la production industrielle hors égrenage de coton se sont relevés de 0,8% en novembre 2023, sous l’effet de l’appréciation des prix des produits de l’électricité, eau et gaz (+7,7%) et de ceux des produits extractifs (+3,7%). Cependant, sur les onze premiers mois de 2023, les prix de production industrielle ont diminué de 1,0% comparativement à leurs niveaux à la période correspondante de 2022..S’agissant de l’égrenage de coton, les prix ont augmenté de 15,1% en variation mensuelle. En revanche, ils ont diminué respectivement de 1,4% et de 12,9% en variation annuelle et en cumul sur les onze premiers mois de 2023.\",\n",
       "  'description': 'L’Agence nationale de la Statistique et de la Démographie (ANSD) met à votre disposition cette note mensuelle sur l’Indice des Prix de Production Industrielle (IPPI). Cet indice rénové, base 100 en 2015, mesure l’évolution des prix de production, départ usine et hors taxe et marge de transport. Les principaux changements apportés par la rénovation ont trait à la nomenclature, au champ de couverture, aux pondérations, aux techniques de calcul, et aux données de base. Ainsi, le nouveau champ d’application de l’IPPI se définit par rapport à la CITI rev4/NAEMA rev1 et couvre les sections B (Activités extractives), C (Activités de fabrication), D (Production et distribution d’électricité, de gaz, de vapeur et de climatisation), E (Approvisionnement en eau, activités d’assainissement et de gestion des déchets, dépollution) ainsi que les services « dits industriels » qui n’étaient pas pris en compte dans la version antérieure de l’IPPI. En revanche, certaines activités des sections B, C, D et E de la NAEMA, en l’occurrence l’égrenage de coton sont exclues du champ. S’agissant du calcul des indices, il est fait recours à un système de double pondération dynamique (utilisation simultanée du chiffre d’affaires et des valeurs ajoutées actualisées chaque année) contrairement à l’ancien IPPI où les pondérations étaient déterminées avec le chiffre d’affaires fixé à l’année de base. L’échantillon à l’année de base compte 72 entreprises couvrant 89,8% de la valeur ajoutée du tissu industriel. Celui-ci est actualisé chaque année avec le système des années de référence. L’indice est publié mensuellement et est disponible au plus tard 30 jours après la fin du mois sous revue. Il est susceptible d’être révisé lorsque le taux de réponse est inférieur 100%. Les présents indicateurs sont établis avec un taux de réponse de 82,4%.\\n',\n",
       "  'thème': 'INDUSTRIE',\n",
       "  'indicateurs': 'Indice des Prix à la Production Industrielle (IPPI)'},\n",
       " {'source': 'https://www.ansd.sn/Indicateur/indices-des-prix-de-production-des-services-ipps',\n",
       "  'data_publication': 'T3 2023',\n",
       "  'sommaire': 'Les prix de production des services d’hébergement et de restauration ont augmenté de 0,4% au troisième trimestre 2023, comparés à ceux du trimestre précédent, sous l’effet du renchérissement des services de restauration (+1,8%). Quant aux prix des services d’hebergement, ils ont légérement baissé (-0,1%) sur la période sous revue. En variation trimestrielle, les prix de production des services spécialisés, scientifiques et techniques se sont relevés de 0,2% au troisième trimestre 2023, sous l’effet de la hausse des prix des services comptables (+0,7%), de publicité (+0,1%) et d’architecture et d’ingénierie (+0,1%). Au troisième trimestre 2023, les prix de production des services de soutien et de bureau ont haussé de 1,3% comparativement à ceux du trimestre précédent. Cette évolution est imputable à l’augmentation des prix des services d’enquêtes et de sécurité (+2,5%).',\n",
       "  'description': 'L’Agence Nationale de la Statistique et de la Démographie (ANSD) met à votre disposition cette note trimestrielle sur les indices des Prix de Production des Services (IPPS). Ces indices couvrent les services de transport et d’entreposage, d’hébergement et de restauration, de soutien et de bureau, spécialisés, scientifiques et techniques ainsi que ceux immobiliers. La nomenclature d’activités et de produits utilisée est celle des Etats membres d’AFRISTAT (NAEMA rev.1). L’échantillon est tiré au niveau du répertoire des entreprises de l’ANSD. Les indices sont de type Laspeyres, à pondération par la valeur ajoutée des entreprises à l’année de base. L’indice est publié au plus tard 60 jours après la fin du trimestre sous revue.\\n',\n",
       "  'thème': 'PRIX',\n",
       "  'indicateurs': 'Indices des Prix de Production des Services (IPPS)'},\n",
       " {'source': 'https://www.ansd.sn/Indicateur/immatriculation-au-ninea-chiffres-cles-tendances-et-evolutions',\n",
       "  'data_publication': 'T3 2023',\n",
       "  'sommaire': 'Au troisième trimestre de 2023, le Répertoire National des Entreprises et Associations (RNEA) a enregistré une augmentation significative des nouvelles immatriculations, atteignant 25 302 unités. Cela équivaut à une hausse de 4 908 unités par rapport au trimestre précédent, soit 24,07%, et 18,83% par rapport au même trimestre en 2022..En ce qui concerne la répartition géographique, la région de Dakar se démarque en enregistrant 58,56% de toutes les immatriculations. Elle est suivie des régions de Thiès (13,24%), Diourbel (6,25%), et Kaolack (4,95%). Cependant, les régions de Kédougou (0,77%), Sédhiou (0,83%), et Kaffrine (1,17%) affichent les taux les plus bas..La grande majorité des nouvelles immatriculations correspond à des entreprises individuelles, totalisant 74,78% du nombre total. Les autres régimes juridiques, tels que les Groupements d\\'Intérêt Économique (GIE), les Sociétés à Responsabilité Limitée (SARL), et les Sociétés Unipersonnelles à Responsabilité Limitée (SUARL), suivent avec respectivement 5,26%, 2,30%, et 1,99% du total des immatriculations..Le secteur du commerce apparait comme étant le secteur le plus attractif pour les nouvelles créations. En effet, 30,12% des entreprises morales se consacrent à des activités commerciales contre 70,61% pour les entreprises individuelles. Pour ces dernières, en dehors du commerce, les \"Services personnels et divers\" représentent 9,52% des immatriculations, suivis des \"Services fournis aux entreprises\" (5,19%) et de l\\'agriculture, de l\\'élevage et de la pêche (3,00%). En revanche, le secteur des \"Hôtels, bars et restaurants\" est moins représenté, avec seulement 1,03%..Selon le genre des propriétaires d\\'entreprises individuelles, les hommes dominent largement avec une part de marché de 73,14% au troisième trimestre 2023, tandis que les femmes représentent 26,86% des nouvelles créations d\\'entreprises.',\n",
       "  'description': 'L’immatriculation au NINEA englobe les entreprises exerçant une activité au Sénégal, les associations nationales ou étrangères régulièrement déclarées ou autorisées, les syndicats professionnels, les administrations publiques centrales, les établissements publics, les collectivités locales et les partis politiques, les opérateurs occasionnels, les propriétaires fonciers, les organisations non gouvernementales (ONG), etc. L’ensemble de toutes ces unités constitue le Répertoire national des Entreprises et Associations (RNEA). Il représente la base de données exhaustive des unités économiques enregistrées s’activant sur le territoire national. Il rassemble, pour chaque unité, les informations d’identification, de localisation, de classification, etc. Le RNEA revêt une importance capitale pour les usagers internes et externes au système statistique national dans la mesure où il constitue\\xa0une :\\nréférence pour l’analyse des statistiques d’entreprises\\xa0;\\nbase de sondage pour les enquêtes sur les entreprises\\xa0;\\nsource d’informations fiables sur la structure et la démographie des entreprises\\xa0;\\nbase d’appariement des données sur les entreprises issues de sources distinctes, etc.\\nLa publication dénommée «\\xa0Immatriculation au NINEA\\xa0: chiffres clés, tendances et évolutions\\xa0» rentre dans le cadre de diffusion d’informations sur les statistiques d’entreprises en vue d’orienter les décisions de politiques économiques des pouvoirs publics, des collectivités, des investisseurs, etc. Elle offre, d’une part, une photographie de l’ensemble des unités immatriculées au NINEA au cours du trimestre et leurs principales caractéristiques (secteur d’activité, statut juridique, zone d’implantation, etc.) en accordant un intérêt particulier aux entreprises individuelles. D’autre part, elle met l’accent sur l’évolution des créations tout en faisant ressortir les tendances aux niveaux global et sectoriel.\\n',\n",
       "  'thème': 'STATISTIQUES_D_ENTREPRISE',\n",
       "  'indicateurs': 'Immatriculation au NINEA : chiffres clés, tendances et évolutions'},\n",
       " {'source': 'https://www.ansd.sn/Indicateur/indice-du-chiffre-daffaires-dans-la-construction-icac',\n",
       "  'data_publication': 'T3 2023',\n",
       "  'sommaire': 'Au troisième trimestre 2023, le chiffre d’affaires (CA) réalisé dans le secteur de la construction a fortement progressé (+68,8%), relativement à celui du même trimestre de 2022. Cette évolution résulte du relèvement simultané des chiffres d’affaires dans tous ses sous-secteurs. De même, en cumul sur les trois premiers trimestres de 2023, le chiffre d’affaires réalisé dans le secteur de la construction s’est amélioré de 28,5% comparativement à celui de la même période de 2022. Relativement au troisième trimestre 2022, le chiffre d’affaires dans la construction de bâtiments a progressé de 42,4%',\n",
       "  'description': \"Le champ d’application de l’ICAC suivant les nouvelles recommandations se définit par rapport à la CITI rev4/NAEMA rev1. Ainsi, l’ICAC couvre la construction de bâtiments entiers (habitations, bureaux, magasins et autres bâtiments publics, industriels, agricoles, etc.), la construction d'ouvrages complets de génie civil tels que les réseaux routiers ou ferroviaires, les ponts, tunnels, ports et aéroports, installations industrielles ou sportives, etc. Ces travaux peuvent être réalisés pour compte propre en vue de la vente (promotion immobilière notamment).\\n\",\n",
       "  'thème': 'BÂTIMENTS_ET_TRAVAUX_PUBLICS_',\n",
       "  'indicateurs': 'Indice du Chiffre d’Affaires dans la Construction (ICAC)'},\n",
       " {'source': 'https://www.ansd.sn/Indicateur/banque-de-donnees-economiques-et-financieres-bdef',\n",
       "  'data_publication': '2022',\n",
       "  'sommaire': 'La production des entreprises a bondi de 16,8% en 2022 après une évolution de +23,7% en 2021. En valeur absolue, elle s’est établie à 14 052,7 milliards FCFA en 2022 contre 12 028,1 milliards FCFA en 2021.\\nCette dynamique de la production a induit une hausse de 15,3% de la valeur ajoutée (VA) passant de 3 110,7 milliards FCFA en 2021 à 3 587,0 milliards FCFA en 2022. Cependant, le taux de valeur ajoutée a légèrement baissé de 0,3 point en s’établissant à 25,5% en 2022.\\nDans ce même sillage, le chiffre d’affaires des entreprises du secteur moderne est passé de 16 856,1 milliards FCFA en 2021 à 20 135,2 milliards FCFA en 2022, soit un bond de 22,0%.\\nQuant au résultat net des entreprises du secteur moderne, il s’est aussi amélioré en s’établissant à 619,7 milliards FCFA en 2022 contre 244,7 milliards FCFA en 2021.\\nPar ailleurs, les entreprises ont pu dégager un excédent de trésorerie assez important évalué à 1 690,2 milliards FCFA en 2022 contre 1 397,2 milliards FCFA en 2021, soit une nette amélioration de 21,0%.\\nL’autonomie financière des entreprises formelles a chuté de 8,8 points en 2022 en s’établissant à 46,2%. En plus, le ratio de solvabilité a fléchi de 0,8 point en se situant à 14,4% en 2022. Par ailleurs, le ratio de fonds de roulement des entreprises s’est accru de 4,6 points en 2022 et se chiffre à 88,6%.\\nEn ce qui concerne les rentabilités économiques et financières, elles ont poursuivi leur croissance en 2022, après avoir reculé en 2020. Elles se sont respectivement établies à 7,7% et 12,7% en 2022, contre 5,7% pour les deux indicateurs en 2021.',\n",
       "  'description': 'Cette publication est issue de l’exploitation des documents de fin d’exercice fournis au Centre Unique de Collecte d’Information (CUCI) par les entreprises soumises au plan comptable SYSCOA. Elle informe sur l’activité des entreprises à travers des tableaux de : Bilan (actif et passif) Comptes de résultats (charges et produits) Ratios de gestion et structure financière Soldes caractéristiques du tableau financier des ressources et des emplois Les informations sont fournies pour l’ensemble du secteur dit moderne ; quatre macro secteurs ; neuf groupes de secteurs et trente cinq secteurs d’activités. Les informations sont disponibles pour les sept dernières années et la méthodologie figure en annexe.\\n',\n",
       "  'thème': 'STATISTIQUES_D_ENTREPRISE',\n",
       "  'indicateurs': 'Banque de Données Economiques et Financières (BDEF)'},\n",
       " {'source': 'https://www.ansd.sn/Indicateur/enquete-sur-lemploi-la-remuneration-et-les-heures-de-travail-eerh-0',\n",
       "  'data_publication': 'T2 2023',\n",
       "  'sommaire': 'Au deuxième trimestre 2023, le nombre d’employés salariés dans le secteur moderne hors administration publique est évalué à 340\\xa0641 contre 336\\xa0037 un an plus tôt, soit une progression de 1,4%. De même, les rémunérations globales ont progressé de 2,4% sur la même période, passant de 349,9 milliards de FCFA à 358,2 milliards de FCFA. Concernant les heures hebdomadaires moyennes travaillées par employé, elles ont diminué sur la période (-1,1%). \\xa0.Le nombre d’employés dans le secteur moderne, hors administration publique, s’est accru de 1,4% au deuxième trimestre 2023, comparativement à celui de la période correspondante de l’année précédente. Cette évolution est consécutive à l’augmentation des effectifs dans le commerce (+10,0%), l’industrie (+1,4%) et, dans une moindre mesure, les services (+1,1%). En revanche, elle a été amoindrie par le repli des effectifs dans la construction (-12,5%).',\n",
       "  'description': 'L’Agence Nationale de la Statistique et de la Démographie (ANSD) met à votre disposition cette note d’analyse trimestrielle de l’Enquête sur l’Emploi, la Rémunération et les Heures de travail (EERH). Elle permet de dresser une gamme d’indicateurs trimestriels sur l’offre d’emploi salarié, la rémunération brute des employés, les heures travaillées auprès des entreprises du secteur formel, en l’occurrence celles évoluant dans l’industrie, la construction, le commerce et les services. Toutefois, ces indicateurs ne prennent pas en compte les employés de l’administration publique.\\n',\n",
       "  'thème': 'EMPLOI_ET_TRAVAIL',\n",
       "  'indicateurs': 'Enquête sur l’Emploi, la Rémunération et les Heures de Travail (EERH)'},\n",
       " {'source': 'https://www.ansd.sn/Indicateur/indice-harmonise-de-la-production-industrielle-ihpi',\n",
       "  'data_publication': 'Octobre 2023',\n",
       "  'sommaire': 'L’activité des industries extractives se bonifie en octobre 2023\\xa0En référence au mois correspondant de 2022, la production des industries extractives a progressé de 6,9% en octobre 2023, sous l’effet de la forte hausse de la production des autres produits des\\xa0industries extractives (+114,5%).\\xa0Sur les dix premiers mois de 2023, la production des industries extractives s’est légèrement améliorée\\xa0de 0,5%, comparativement à celle de la période correspondante de 2022.\\xa0Par rapport au mois correspondant de 2022, la production d’électricité, de gaz et d’eau s’est accrue de\\xa017,8% en octobre 2023. Cette augmentation est imputable à la performance notée dans la production\\xa0d’électricité et de gaz (+21,1%) ainsi que d’eau (+5,8%).\\nDe même, en cumul sur les dix premiers mois de l’année 2023, la production d’électricité, de gaz et\\xa0d’eau a progressé de 14,6%, comparée à celle de la période correspondante de 2022.',\n",
       "  'description': \"Cette publication mensuelle traduit l’évolution de l'activité industrielle à travers l’Indice Harmonisé de la Production Industrielle (IHPI). L’indice, base 100 en 2006, couvre les industries extractives, alimentaires, chimiques, mécaniques, les industries de textiles et de cuir, de bois, de papier et de carton, de l’énergie, de matériaux de construction et les autres industries manufacturières. La nomenclature d’activités et de produits utilisée est celle des Etats membres d’AFRISTAT. Les indices sont de type Laspeyres, à pondération constante par les valeurs ajoutées de l’année de base. L’échantillon représente 69 entreprises couvrant 89,8% de la valeur ajoutée industrielle du pays. L’indice est publié au plus tard 45 jours après la fin du mois sous revue. Les composantes sont : - L'évolution par branche et sous branche de l'IHPI du mois sous revue, ainsi que ceux des mois précédents de l’année en cours ; - L'évolution de l'IHPI du mois revue par rapport à la période correspondante de l'année précédente; - Les principales productions industrielles en quantités.\\n\",\n",
       "  'thème': 'INDUSTRIE',\n",
       "  'indicateurs': 'Indice Harmonisé de la Production Industrielle (IHPI)'},\n",
       " {'source': 'https://www.ansd.sn/Indicateur/resultats-du-recensement-general-des-entreprises-rge',\n",
       "  'data_publication': 'Rapport global RGE 2016 ',\n",
       "  'sommaire': \"Le RGE a permis de dénombrer 407 882 unités économiques réparties sur l'ensemble du pays. Cependant, la plupart de ces unités se situent dans la région de Dakar (39,5%), suivie de celles de Thiès (11,5%), Diourbel (9,4%) et Kaolack (5,9%). Les entreprises individuelles (82,3%) sont les plus représentées et elles évoluent majoritairement dans le secteur informel. S'agissant des personnes morales, les Groupements d'Intérêts économiques (GIE) et les Sociétés à Responsabilité limitée (SARL) dominent avec des proportions respectives de 53,7% et 20,3%. Par ailleurs, l'environnement des entreprises sénégalaises est marqué par une forte présence de petites et moyennes Entreprises1 (99,8%), dont 81,8% sont des entreprenants. Concernant la mise en place des entreprises, la plupart sont des créations initiales, les cas d’absorption et de fusion ne représentent que 0,5%. Le RGE a dénombré une part négligeable d'entreprises en arrêt momentané de leurs activités pendant la collecte (0,07%) du fait du manque de fonds (48,8%), de baisse de la vente (16,9%), de l’indisponibilité du personnel (10,2%), du manque de matériels (8,5%)et de l'indisponibilité de local adapté pour exercer leurs activités (5,8%).\",\n",
       "  'description': 'Dans le cadre du Recensement général des Entreprises, toutes les unités économiques des secteurs formel et informel disposant d’un local aménagé devraient être recensées. Font également partie du champ les exploitations agricoles, la pêche artisanale (pêcheurs immatriculés), les organisations professionnelles et patronales et les Groupements d’Intérêt économique. Les entreprises de transport (terrestre, par eau et aérien, auxiliaires de transport) sont aussi concernées par le RGE. Concernant l’agriculture, seules les exploitations agricoles situées à l’intérieur et autour des zones d’habitations, en particulier les vergers ont été enquêtées. Egalement, un grand nombre d’entreprises des secteurs du transport et de la pêche n’a pas encore été pris en compte. Deux recensements complémentaires sont prévus pour combler ce gap à savoir le RGE/Agricole et le RGE/Transport.\\n',\n",
       "  'thème': 'STATISTIQUES_D_ENTREPRISE',\n",
       "  'indicateurs': 'Résultats du Recensement Général des Entreprises (RGE) '},\n",
       " {'source': 'https://www.ansd.sn/Indicateur/indices-du-chiffre-daffaires-dans-lindustrie-icai',\n",
       "  'data_publication': 'T3 2023',\n",
       "  'sommaire': 'Le chiffre d’affaires dans l’industrie a diminué de 4,6% au troisième trimestre 2023, comparé à celui de la même période de 2022, sous l’effet du repli de celui des industries extractives (-21,7%) et manufacturières (-3,6%). En revanche, les chiffres d’affaires des industries de production d’électricité de gaz et d’eau (+26,0%) et environnementales (+9,4%) se sont améliorés sur la période sous revue..En cumul sur les neuf premier mois de 2023, le chiffre d’affaires dans l’industrie s’est bonifié de 1,9% en comparaison à celui de la même période de 2022.',\n",
       "  'description': 'L’Agence nationale de la Statistique et de la Démographie (ANSD) met à votre disposition cette note trimestrielle sur l’Indice du chiffre d’affaires dans l’industrie. Cet indicateur, base 100 en 2016, mesure l’évolution des ventes des biens et services dans l’industrie. Le champ d’application de l’ICA dans l’industrie se définit par rapport à la CITI rev4/NAEMA rev1 et couvre les sections B (Activités extractives), C (Activités de fabrication), D (Production et distribution d’électricité, de gaz, de vapeur et de climatisation), E (Approvisionnement en eau, activités d’assainissement et de gestion des déchets, dépollution). En revanche, certaines activités des sections B, C, D et E de la NAEMA rev1, en l’occurrence l’égrenage de coton sont exclues du champ. S’agissant du calcul des indices, il est fait recours à un système de double pondération dynamique (utilisation simultanée du chiffre d’affaires et des valeurs ajoutées actualisées chaque année). L’échantillon à l’année de base compte 71 entreprises couvrant 89,8% de la valeur ajoutée du tissu industriel. Celui-ci est actualisé chaque année avec le système des années de référence. L’indice est publié trimestriellement et est disponible au plus tard 75 jours après la fin du trimestre sous revue. Il est susceptible d’être révisé lorsque le taux de réponse est inférieur à 100%. Le calcul des indices corrigés des variations saisonnières (cvs) n’est pas encore effectué ; les analyses sont faites en variation annuelle. Les présents indicateurs sont établis avec un taux de réponse de 93,4%.\\n',\n",
       "  'thème': 'INDUSTRIE',\n",
       "  'indicateurs': \"Indices du Chiffre d’Affaires dans l'Industrie (ICAI)\"},\n",
       " {'source': 'https://www.ansd.sn/Indicateur/indices-du-chiffre-daffaires-dans-les-services-icas',\n",
       "  'data_publication': 'T3 2023',\n",
       "  'sommaire': 'Le chiffre d’affaires dans l’industrie a diminué de 4,6% au troisième trimestre 2023, comparé à celui de la même période de 2022, sous l’effet du repli de celui des industries extractives (-21,7%) et manufacturières (-3,6%). En revanche, les chiffres d’affaires des industries de production d’électricité de gaz et d’eau (+26,0%) et environnementales (+9,4%) se sont améliorés sur la période sous revue..En cumul sur les neuf premier mois de 2023, le chiffre d’affaires dans l’industrie s’est bonifié de 1,9% en comparaison à celui de la même période de 2022.',\n",
       "  'description': 'L’Agence nationale de la Statistique et de la Démographie (ANSD) met à votre disposition cette note trimestrielle sur les Indices du chiffre d’affaires dans les services (ICAS). Ces indicateurs, base 100 en 2016, mesurent l’évolution du chiffre d’affaires des prestations de service. Les ICAS couvrent les sections H (Transports et Entreposage), L (Activités immobilières), M (Activités spécialisées, scientifiques et techniques), N (Activités de soutien et de bureau et I (Hébergement et Restauration). Les échantillons sont tirés du répertoire des entreprises de l’ANSD et sont actualisés chaque année avec le système des années de référence. Les indices sont publiés au plus tard 75 jours après la fin du trimestre sous revue. Ils sont susceptibles d’être révisés lorsque le taux de réponse est inférieur à 100%. Le calcul des indices corrigés des variations saisonnières (cvs) n’est pas encore effectué ; les analyses sont donc faites en variation annuelle. Les présents indicateurs sont établis avec un taux de réponse de 82,4% pour les services de soutien et de bureau, 73,5% pour l’immobilier, 75,2% pour l’hébergement et la restauration, 66,7% pour le transport et l’entreposage et enfin 52,7% pour les services spécialisés, scientifiques et techniques.\\n',\n",
       "  'thème': 'STATISTIQUES_D_ENTREPRISE',\n",
       "  'indicateurs': 'Indices du Chiffre d’Affaires dans les Services (ICAS)'},\n",
       " {'source': 'https://www.ansd.sn/Indicateur/indice-mensuel-des-prix-du-commerce-exterieur-ipce-base-100-en-2014',\n",
       "  'data_publication': 'Octobre 2023',\n",
       "  'sommaire': '\\xa0.\\xa0Les prix des produits importés augmentent de 3,0%.En octobre 2023, les produits à l’importation se sont renchéris de 3,0%, comparés au mois précédent. Cette hausse s’explique par le relèvement des prix des «\\xa0produits minéraux\\xa0» qui y ont contribué à +1,6 points de pourcentage, des «\\xa0matériels de transport\\xa0» (+0,7) et des «\\xa0produits du règne végétal\\xa0» (+0,5). Toutefois, cette augmentation des prix des produits importés est partiellement amortie par la baisse des prix des « machines et appareils\\xa0» (-0,6). Par rapport au mois d’octobre 2022, les prix des produits importés ont reculé de 0,7%. Sur les dix premiers mois de 2023, les prix des produits achetés à l’extérieur se sont renchéris de 4,5%, en comparaison à ceux de la même période de 2022..Les prix des produits exportés se contractent de 2,0%.Les prix des produits à l’exportation se sont dépréciés de 2,0% au mois d’octobre 2023, par rapport au mois précédent. Cette baisse est imputable à celle des prix des «\\xa0animaux vivants et produits du règne animal\\xa0» qui y ont contribué à -1,0 point de pourcentage, des « produits minéraux » (-0,9) et des «\\xa0produits du règne végétal\\xa0» (-0,4). Cependant, cette contraction des prix des produits exportés est atténuée par la hausse des prix des «\\xa0produits des industries alimentaires » (+0,4) et des «\\xa0produits des industries chimiques » (+0,3). Rapportés au mois d’octobre 2022, les prix des produits à l’exportation ont chuté de 12,7%. Sur les dix premiers mois de 2023, les prix de vente à l’extérieur se sont renchéris de 1,2%, relativement à ceux de la même période de 2022.',\n",
       "  'description': 'La présente note mensuelle, issue de la rénovation (base 100 en 2014) des Indices des Valeurs Unitaires du commerce extérieur, fait ressortir le niveau et l’évolution des indices de valeurs unitaires (I.V.U) des marchandises échangées entre le Sénégal et le reste du monde. La valeur unitaire est obtenue en rapportant la valeur de la marchandise à son volume. Exprimée en francs CFA par kg, elle traduit le prix par unité de masse. Ces indices sont de type Laspeyres. La marchandise est valorisée CAF (Coût Assurance Fret) à l’importation et FAB (Franco A Bord) à l’exportation. Ces indices rénovés (Base 100 en 2014) font suite aux indices produits et publiés (Base 100 en 2005) depuis janvier 2010. La nomenclature des produits est celle du Système Harmonisé (SH) de désignation et de codification des marchandises à quatre digits (SH4). Cette dernière est une agrégation de produits élémentaires à 10 digits (SH10). L’innovation apportée à cette rénovation a trait : (i) à l’association des produits SH4 à leurs pays d’origine ou à leur pays de destination respectivement pour les importations et les exportations (SH4Pays) ; (ii) au calcul des indices élémentaires (SH4Pays) ; (iii) au calcul des indices par Section de la nomenclature du Système Harmonisé. A cet égard, l’échantillon pour chaque flux, est constitué de produits associés à leurs pays d’origine et à leurs pays de destination (SH4Pays). Le produit (SH4) associé au pays partenaire atténue la fluctuation des valeurs unitaires observées entre deux mois au regard de la structure des produits élémentaires qui le composent. Afin de dégager la tendance fondamentale des prix aux échanges extérieurs, un indice sous-jacent est calculé à côté d’un indice des produits volatiles qui, lui, rend compte de l’évolution des produits aux fortes variations des prix unitaires. Les données de base utilisées, principalement issues des statistiques douanières, sont relatives au commerce général.\\n',\n",
       "  'thème': 'ECHANGES_EXTÉRIEURS',\n",
       "  'indicateurs': 'Indice Mensuel des Prix du Commerce Extérieur - IPCE (Base 100 en 2014)'},\n",
       " {'source': 'https://www.ansd.sn/Indicateur/autres-rapports-sur-le-commerce-exterieur',\n",
       "  'data_publication': 'Rapport de surveillance de la politique commercial de l’UEMOA 2017',\n",
       "  'sommaire': 'Le présent rapport présente la situation de l’Union au plan commercial assortie de recommandations en vue de réduire ou de supprimer les barrières tarifaires et non tarifaires au commerce dans l’espace UEMOA.L’espace UEMOA maintiendrait, en 2017, son niveau de taux de croissance réel de 6,7% observé en 2016. L’activité économique s’est réalisée dans un environnement relativement stable sur le plan monétaire, caractérisé par une inflation modérée à 0,3% en 2016 contre 1% en 2015. L’inflation serait de 0,6% en 2017',\n",
       "  'description': 'Cette catégorie regroupe des rapports spécifiques relatifs au commerce extérieur\\n',\n",
       "  'thème': 'ECHANGES_EXTÉRIEURS',\n",
       "  'indicateurs': 'Autres rapports sur le commerce extérieur'},\n",
       " {'source': 'https://www.ansd.sn/Indicateur/note-danalyse-du-commerce-exterieur-nace',\n",
       "  'data_publication': '2022',\n",
       "  'sommaire': 'Les exportations du Sénégal sont ressorties à 3 563,4 milliards de FCFA en 2022 contre 2 884,8 milliards de FCFA en 2021, soit une hausse de 23,5%. Cette progression est , notamment, consécutive à celle des expéditions de l’acide phosphorique (+77,8%), des produits pétroliers (+48,5), des produits halieutiques (+35,3%), du titane et du zircon (+35,3%) et de l’or\\xa0non monétaire (+7,6%). Cependant, les baisses des ventes des produits arachidiers (-40,2%) et du ciment hydraulique (-12,2%) ont réduit cette embellie..Les expéditions du Sénégal sont principalement orientées, en 2022, vers les continents africain (39,4%), européen (25,0%) et asiatique (24,3%). La part de marché du continent européen s’est effritée d’environ quatre points de pourcentage au profit du continent asiatique..Les importations du Sénégal ont bondi de 40,4% en 2022 pour atteindre 7 549,4 milliards de FCFA contre 5 378,5 milliards de FCFA en 2021. Cette évolution est imputable à la progression des achats à l’extérieur des produits pétroliers (+95,4%), des matériels de transport et pièces détachées (+57,3%), des produits céréaliers (+41,9%) et des produits manufacturés tels que les métaux communs et les ouvrages en métaux communs (+29,0%) et les machines et appareils (+15,7%). Toutefois, les importations d’huile brute de pétrole ont fléchi de 2,3%..Les principaux fournisseurs du Sénégal ont été les pays de l’Europe et de l’Asie. Ils sont suivis de ceux de l’Afrique et de l’Amérique. Les parts des pays d’Europe (47,4% en 2022 après 49,0% en 2021) et de l’Afrique (11,9% en 2022 après 13,4% en 2021) ont diminué au profit des pays d’Asie (32,3% en 2022 après 29,4% en 2021)..La balance commerciale du Sénégal en 2022 s’est établie à -3 986,0 milliards de FCFA contre -2493,7 milliards de FCFA l’année précédente. Cette détérioration du solde est expliquée par une hausse des importations (+2\\xa0170,9 milliards de FCFA) plus importante que celle des exportations (+678,6 milliards de FCFA) en 2022.',\n",
       "  'description': \"Cette publication fournit : - un résumé de la situation annuelle du commerce mondial à travers une revue de l'évolution du cours des matières premières (pétrole, oléagineux, coton, riz, sucre) pour l'année sous revue ; - l'évolution sur cinq ans des exportations et des importations du Sénégal pour les grands produits ; - l'orientation géographique des échanges ; - les échanges communautaires (pays de l'UEMOA) ; - le balance commerciale par continent sur cinq ans ; - le coefficient de dépendance de l'économie vis-à-vis du commerce ; - l'indice des termes de l'échange ; Et en annexe : - les pays partenaires - les pays clients - les importations et les exportations en valeur par partenaire et par produit ainsi que la nomenclature tarifaire et statistique de l'UEMOA.\\n\",\n",
       "  'thème': 'ECHANGES_EXTÉRIEURS',\n",
       "  'indicateurs': \"Note d'Analyse du Commerce Extérieur (NACE)\"},\n",
       " {'source': 'https://www.ansd.sn/Indicateur/bulletin-mensuel-des-statistiques-du-commerce-exterieur',\n",
       "  'data_publication': 'Septembre 2023',\n",
       "  'sommaire': 'Au mois d’octobre 2023, les exportations du Sénégal sont évaluées à 237,0 milliards de FCFA contre 214,0 milliards de FCFA au mois précédent, soit un accroissement de 10,7%. .Les principaux clients du Sénégal ont été le Mali (24,4%), la Suisse (11,7%), l’Inde (11,0%), la République populaire de Chine (3,9%) et l’Australie (3,6%)..Les importations du mois d’octobre 2023 sont ressorties à 599,6 milliards de FCFA contre 562,2 milliards de FCFA au mois précédent, soit une hausse de 6,6%..Les principaux fournisseurs du Sénégal ont été la République populaire de Chine (13,5%), les Emirats Arabes Unis (10,6%), le Nigeria (10,3%), la France (10,0%) et l’Inde (7,3%)..Le solde commercial s’est établi à -362,6 milliards de FCFA au mois d’octobre 2023 contre - 348,2 milliards de FCFA au mois précédent. ',\n",
       "  'description': \"Cette publication donne les statistiques des transactions internationales de marchandises du Sénégal avec le reste du monde, chaque mois. Le document présente l'évolution et la structure des exportations et des importations des principaux produits échangés, l'orientation géographique des échanges ainsi que la balance commerciale par pays partenaire. Les données publiées concernent le mois sous revue de l’année n, les trois mois qui le précédent, ainsi que le mois correspondant de l’année n-1.\\n\",\n",
       "  'thème': 'ECHANGES_EXTÉRIEURS',\n",
       "  'indicateurs': 'Bulletin Mensuel des Statistiques du Commerce Extérieur'},\n",
       " {'source': 'https://www.ansd.sn/Indicateur/reperes-statistiques',\n",
       "  'data_publication': 'Octobre 2023',\n",
       "  'sommaire': 'La production totale d’électricité[1] de la SENELEC, en octobre 2023, a augmenté de 12,1% (664,0 GWH[2] après 592,5 GWH) par rapport au mois de septembre 2023. Cette dynamique est portée par l’accroissement\\xa0 des achats auprès des autres producteurs (+14,6%) ainsi que de sa propre production (+4,7%) sur la période..Par rapport à octobre 2022, la production totale d’électricité a crû de 16,5%, sous l’effet de la forte progression des achats auprès des autres producteurs (+21,9%).\\xa0.Au mois sous revue, les productions en valeur de sel iodé (+45,3%) et d’attapulgite (+42,8%) se sont relevées par rapport au mois précédent. Par contre, celles du zircon (-12,0%) et de l’or (-1,5%) se sont contractées sur la période (après une augmentation de 38,4% et 32,2%, respectivement, en septembre 2023)..Comparées à un auparavant, les productions en valeur d’attapulgite (+103,2%), de zircon (+35,4%) et de l’or (+4,5%) se sont améliorées. Par contre, celle de sel iodé (-6,7%) a fléchi au cours de cette période..[1] Production propre de la SENELEC + Achats auprès des autres producteurs..[2] Gigawatt-heures. Les données des mois précédents ont été actualisées..[1]aux mois précédents ainsi que de l’or (+32,2%) expliquée par la hausse des quantités produites due à une teneur en or plus élevée des fosses exploitées, en variation mensuelle. Par contre, celles du sel iodé (-21,1%) et de l’attapulgite (-14,8%) se sont contractées sur la période..[1] Travaux de maintenance..[1] Tirée par la forte variation des produits extractifs autres que les minerais métalliques (+110,1%)..[1] Production propre de la SENELEC + Achats auprès des autres producteurs.[2] Gigawatt-heures',\n",
       "  'description': \"Le dépliant dénommé « Repères statistiques » constitue une synthèse des indicateurs contenus dans les publications régulières de l'ANSD, mais aussi des indicateurs économiques et financiers tirés du bulletin mensuel des statistiques économiques et de la note de conjoncture. Il permet de rendre l’information statistique plus facile à consulter et plus conviviale pour les usagers qui pourront, en cas de besoin, rechercher les publications concernées pour avoir plus de détails. Cette brochure comprend six parties principales : le contexte international, l’activité économique, les prix et la compétitivité, le secteur extérieur, les finances publiques et la situation monétaire. Le contexte international a trait à l’évolution du cours du baril de pétrole brut. L’activité économique concerne l’Indice Général d’Activité (IGA), les productions minières, l’électricité, le secteur industriel tel que l’Indice Harmonisé de la Production Industrielle (IHPI) et l’Indice du Chiffre d’Affaires (IGA), et le secteur tertiaire ayant trait au trafic maritime, aérien et ferroviaire. La partie « prix et compétitivité » présente l’évolution de l’Indice Harmonisé des Prix à la Consommation (IHPC), l’Indice des Prix à la Production Industrielles (IPPI), l’Indice des Prix du Commerce Extérieur (IPCE), ainsi que la compétitivité de l’économie sénégalaise. Le secteur extérieur a trait aux principaux produits échangés entre le Sénégal et le reste du monde, la balance commerciale ainsi que les principaux partenaires. Les finances publiques concernent les recettes budgétaires, les salaires et effectifs de l’administration centrale et le Tableau Provisoire des Opérations Financières de l'Etat (TOFE). La situation monétaire fait ressortir les caractéristiques des avoirs extérieurs nets, du crédit intérieur et de la masse monétaire.\\n\",\n",
       "  'thème': 'SYNTHÈSES_ÉCONOMIQUES',\n",
       "  'indicateurs': 'Repères statistiques'},\n",
       " {'source': 'https://www.ansd.sn/Indicateur/bulletin-mensuel-des-statistiques-economiques-et-financieres',\n",
       "  'data_publication': 'Octobre 2023',\n",
       "  'sommaire': \"Le présent Bulletin[1] résume les statistiques économiques et financières du mois de d'octobre 2023 réparties en quatre grandes parties, à savoir le secteur primaire, le secteur secondaire, le secteur tertiaire et les autres statistiques..la partie intitulée «\\xa0Autres statistiques\\xa0» résume les données sur les entreprises nouvellement immatriculées au Numéro d’Identification National des Entreprises et Associations, la situation de l’emploi dans le secteur formel, l’Indice Harmonisé des Prix à la Consommation, le commerce extérieur et les statistiques financières. .[1] Le Bulletin mensuel des statistiques est publié au plus tard soixante jours après la fin du mois sous revu.\",\n",
       "  'description': \"Le Bulletin Mensuel des Statistiques Economiques et Financières donne les statistiques en quatre parties : Le primaire, le secondaire, le tertiaire et les autres statistiques. 1- Le secteur primaire comprend l'agriculture (résultats définitifs de la campagne agricole écoulée), les prix des produits céréaliers, l'élevage (abattages contrôlés au Sénégal) et l'horticulture. 2- Le secteur secondaire a trait à la production industrielle (quantité et indice), la consommation en électricité les l'Indice du Coût de la Construction (ICC). 3- Le secteur tertiaire traite des transports (terrestres, maritimes, aériens). 4- Les autres statistiques concernent le commerce extérieur (échanges en valeur), les prix (Indice Harmonisé des Prix à la Consommation détaillé sur quatre trimestres), les finances publiques et la situation monétaire.\\n\",\n",
       "  'thème': 'SYNTHÈSES_ÉCONOMIQUES',\n",
       "  'indicateurs': 'Bulletin Mensuel des Statistiques Economiques et Financières'},\n",
       " {'source': 'https://www.ansd.sn/Indicateur/note-sur-les-evolutions-economiques-recentes-neer',\n",
       "  'data_publication': 'T2 2023',\n",
       "  'sommaire': 'Selon les estimations du FMI, l’activité économique mondiale devrait ralentir à 2,8% [1] en 2023 après 3,4% en 2022. Cette contreperformance est attribuable au durcissement des conditions financières mondiales et à la faiblesse de la demande extérieure. En Afrique subsaharienne, la persistance de l’inflation mondiale et le resserrement des politiques monétaires ont entraîné une hausse des coûts d’emprunt et exercé une pression accrue sur les taux de change. Cette situation a mis un coup d’arrêt sur la reprise et a entrainé un ralentissement de la croissance économique qui devrait s’établir à 3,6 % en 2023. .Sur le plan interne, le Produit Intérieur Brut en volume corrigé des variations saisonnières (PIB-CVS) recule de 0,8% en variation trimestrielle. Par ailleurs, comparée à la période correspondante de 2022, la production industrielle se contracte de 7,6% au premier trimestre 2023. Cette contreperformance est attribuable à la diminution de la production des industries extractives (-13,1%), et celle des industries manufacturières (-8,0%)..[1] Fonds monétaire international | avril 2023.\\xa0.[1] Fonds monétaire international | Janvier 2023',\n",
       "  'description': 'L’Agence Nationale de la Statistique et de la Démographie (ANSD), dans sa mission de production et de diffusion des données statistiques pour les besoins du Gouvernement, des administrations publiques, du secteur privé, des partenaires au développement et du public, produit une masse importante d’informations conjoncturelles relatives notamment aux prix à la consommation, aux prix à la production industrielle, à la production industrielle, au commerce extérieur, au Produit intérieur brut trimestriel (PIB). La Note sur les Evolutions Economiques Récentes (NEER) fait une analyse synthétique de toutes les informations conjoncturelles produites par l’ANSD. Elle fait le point sur la situation économique récente au Sénégal au cours du trimestre sous revue L’accent est mis sur les relations de causes à effets entre les différents indicateurs. La NEER retrace dans sa première partie, l’évolution du PIB trimestriel. La deuxième partie a trait à l’activité industrielle, la troisième aux prix intérieurs. La quatrième partie est relative à l’agrément au code des investissements et au statut d’entreprise franche d’exportation. Enfin, la cinquième est consacrée aux échanges extérieurs. La Note sur les Evolutions Economiques Récentes (NEER) est publiée au plus tard 75 jours après la fin du trimestre sous revue.\\n',\n",
       "  'thème': 'SYNTHÈSES_ÉCONOMIQUES',\n",
       "  'indicateurs': 'Note sur les Evolutions Economiques Récentes (NEER)'},\n",
       " {'source': 'https://www.ansd.sn/Indicateur/sesnchapitre-demographie',\n",
       "  'data_publication': '2017-2018',\n",
       "  'sommaire': 'En 2017, la population du Sénégal est estimée à 15 256 360 habitants, contre 15 726 056 en 2018 et 4 997 885 en 1976. Ces chiffres montrent que la population a presque triplé en moins de 50 ans. Globalement, au vu des évolutions des dernières décennies, plusieurs facteurs expliquent cette situation. En effet, la dynamique démographique naturelle du Sénégal est marquée par une natalité toujours élevée (taux brut de natalité de 37,1 pour mille en 2017 et 36,8 pour mille en 2018) et une mortalité en constante baisse (taux brut de mortalité de 7,3 pour mille en 2017 et 7,1 pour mille en 2018). En outre, l’Indice Synthétique de Fécondité (ISF), qui mesure le nombre moyen d’enfants qu’aurait une femme en fin de vie féconde si elle avait des enfants aux taux de fécondité par âge actuels chez les femmes de 15-49 ans, présente une légère tendance à la baisse ces deux dernières années. Ainsi, elle est passée de 4,6 en 2017 à 4,4 en 2018.',\n",
       "  'description': 'La Situation Economique et Sociale Nationale (SESN) est une publication annuelle qui fait la synthèse des informations statistiques émanant de l’ANSD et des autres structures du Système National Statistique (SSN), dans le cadre de l’exécution de leurs tâches quotidiennes. La SESN essaie d’embrasser la quasi- totalité des secteurs de l’activité économique et sociale en mettant en relief l’information quantitative, fournissant ainsi les principaux indicateurs économiques, sociaux et démographiques du Sénégal. Réalisée pour une année (N) en utilisant les données recueillies l’année précédente (N-1), la SESN constitue un véritable instrument de planification et d’aide à la prise de décision pour les principaux acteurs du développement de notre pays.\\n',\n",
       "  'thème': 'POPULATION',\n",
       "  'indicateurs': 'SESN/Chapitre : Démographie'},\n",
       " {'source': 'https://www.ansd.sn/Indicateur/donnees-de-population',\n",
       "  'data_publication': 'RGPH-5, 2023',\n",
       "  'sommaire': 'Télécharger le rapport préliminaire.Le rapport préliminaire donne globalement les tendances démographiques issues du cinquième Recensement général de la Population et de l’Habitat (RGPH-5). Les résultats portent sur les informations relatives à la population totale répartie par sexe, par âge, par grande division administrative et la typologie des ménages recensés..Après les phases préparatoires entamées et exécutées entre 2021 et début 2023, le dénombrement général a été réalisé en mai-juin 2023..Un taux d’accroissement moyen annuel intercensitaire resté constant entre 2013 et 2023.La population résidente au Sénégal, recensée en 2023 est de 18 032\\xa0473 habitants, dont 8 900\\xa0614 femmes (49,4%) et 9 131\\xa0859 hommes (50,6%)..Elle s’établissait à 13\\xa0508\\xa0715 habitants en 2013, soit un taux d’accroissement moyen annuel intercensitaire de 2,9% qui est resté constant entre les deux périodes. Avec une population de 4\\xa0958\\xa0085 en 1976 et 6\\xa0881\\xa0919 en 1988, les taux d’accroissement intercensitaires étaient respectivement de 2,7 % et 2,5 % pour 1976-1988 et 1988-2002..Une population très jeune marquée par une prédominance de l’effectif des hommes par rapport aux femmes.La population sénégalaise se caractérise par sa grande jeunesse\\xa0: la moitié de la population est âgée de moins de 19 ans (18 ans chez les hommes contre 20 ans chez les femmes) et.Les enfants âgés de moins de 15 ans constituent 39,2% de la population globale. Cette catégorie est plus importante chez les garçons (40,6%) que chez les filles (37,6%). En outre, 3,8% de la population est âgée de 65 ans et plus..En considérant les grands groupes d’âges, on observe un avantage numérique des hommes sur les femmes aux âges jeunes, moins de 15 ans avec 110,8 garçons pour 100 filles. Pour les tranches d’âges 15-34 ans et 60 ans ou plus, la tendance s’inverse en faveur des femmes avec respectivement 98,1 et 93,5 hommes pour 100 femmes..Une population concentrée sur l’axe Dakar-Thiès-Diourbel (46,8%).La population du Sénégal est répartie de façon inégale dans l’espace. Les plus fortes concentrations humaines s’observent à l’Ouest du pays, au Centre et vers le Nord-Ouest, tandis que l’Est et le Nord-Est demeurent faiblement peuplés..La densité de la population initialement à 65 habitants au km² en 2013, est passée à 92 habitants au km² en 2023. La région de Dakar se démarque des autres avec une densité de\\xa0 7 277 habitants au km². La région de Kédougou est la moins peuplée avec une densité de 15 habitants au km²..En outre, le département de Mbacké est le plus peuplé au Sénégal suivi de celui de Dakar avec respectivement 1 359 757 et 1 182 416 habitants. Par ailleurs, Mbour (937 189) devient le troisième département, suivi du département de Thiès (880 266 habitants) et Rufisque (822 105 habitants) qui a connu une forte augmentation de sa population entre 2013 et 2023 (68%). A l’opposé, les départements les moins habités sont Salémata (28 111 habitants) ; Oussouye (52 883 habitants); Saraya (92 912 habitants) et Ranérou (103 283 habitants)..La taille moyenne des ménages est estimée à 9 individus par ménage en 2023. Elle est moins importante à Dakar avec 6 personnes. Par contre, dans les régions de Tambacounda, Sédhiou, Matam, Kaolack et Kaffrine, on trouve des tailles moyennes de 12 individus par ménage..45,6% des ménages pratiquent une activité agricole.En 2023, on a dénombré 908\\xa0628 ménages qui ont une activité\\xa0 agricole[1], soit 45,6% des ménages du Sénégal. La pratique d’une activité agricole est plus fréquente dans les régions de Thiès, Dakar, Louga et Saint-Louis, suivie de Diourbel et Kaolack dans une moindre mesure. L’activité agricole au sens large est moins pratiquée dans les régions de Kédougou, Sédhiou et Ziguinchor..Télécharger le rapport préliminaire.[1]Un ménage a une activité agricole si au moins un de ses membre pratique une activité agricole au sens large (culture pluviale, culture irriguée, culture de décrue, culture de bas fond, culture maraichère, aquaculture, culture florale ou ornementale, culture fourragère, plantation fruitière, élevage, pêche, chasse, foresterie), pour son propre compte ou pour le compte du ménage, sans y être salarié au cours des 12 derniers mois',\n",
       "  'description': 'Les présentes projections démographiques ont été élaborées par l’Agence Nationale de la Statistique et de la Démographie au cours d’un atelier tenu en mai 2015. Ces projections sont issues d’un large consensus. Elles ont été réalisées avec la participation de techniciens issus d’horizon divers (Ministères de l’Economie des Finances et du Plan, Emploi, Travail, Education, Famille, Agriculture, Elevage, Santé, Jeunes) et UNFPA. Les hypothèses ont été formulées par rapport à une évolution probable des différents facteurs de la dynamique de la population, notamment: • La structure de la population, par sexe et par âge ; • La structure de la population selon le milieu de résidence (urbaine ou rurale) ; • L’Indice synthétique de fécondité comme indicateur de fécondité ; • L’espérance de vie ; • La structure de la mortalité (à travers l’emploi d’une table-type de mortalité, celle de Coale & Demeny Nord) ; • Le solde migratoire ; • Le niveau d’urbanisation.\\n',\n",
       "  'thème': 'POPULATION',\n",
       "  'indicateurs': 'Données de population'},\n",
       " {'source': 'https://www.ansd.sn/Indicateur/autres-documents-sur-la-population',\n",
       "  'data_publication': 'Atlas démographique du Sénégal : Rapport final, Août 2016 ',\n",
       "  'sommaire': 'L’Agence Nationale de la Statistique et de la Démographie a réalisé son quatrième (4ème) Recensement Général de la Population et de l’Habitat, de l’Agriculture et de l’Elevage (RGPHAE). Dans le cadre de la diffusion et de la valorisation des données du RGPHAE, l’atlas qui compte parmi les produits phares du recensement a été réalisé dans l’optique d’améliorer la qualité des analyses pour une meilleure compréhension des données par les usagers et les décideurs politiques..L’ATLAS fournit des données désagrégées permettant d’éclairer les décisions politiques dans l’allocation des ressources indispensables au développement socio-économique durable et équitable. Il examine divers indicateurs sociodémographiques et économiques de chaque département. Ces indicateurs sont spatialisés au niveau départemental sur des cartes commentées afin d’en faciliter la lecture et l’aide à la prise de décision. L’essentiel des informations présentées dans cet ATLAS sont issues des données du dernier recensement de 2013.',\n",
       "  'description': \"Cette partie regroupe les publications relatives aux statistiques de population. Elles sont constituées des chapitres relatifs à ce thème dans les Rapports des enquêtes et recensements et dans d'autres spécifiques relatives à la population.\\n\",\n",
       "  'thème': 'POPULATION',\n",
       "  'indicateurs': 'Autres documents sur la Population'},\n",
       " {'source': 'https://www.ansd.sn/Indicateur/rapport-des-enquetes-demographiques-et-de-sante-eds',\n",
       "  'data_publication': '2023',\n",
       "  'sommaire': 'Le Gouvernement du Sénégal vient de réaliser en 2023 la huitième phase de l’Enquête continue (EC) conformément au programme d’actions de la troisième Stratégie nationale de Développement de la Statistique (SNDS-III). L’Enquête continue (EC) comporte deux volets :.Le présent rapport présente les résultats clés et est conçu pour fournir aux décideurs, le plus rapidement après la fin de la collecte, des informations sur le niveau de certains indicateurs les plus importants. Il est essentiellement descriptif et ne couvre pas tous les domaines enquêtés. Le rapport final couvrira l’ensemble des domaines enquêtés avec une analyse plus élaborée des données, en fonction de certaines caractéristiques sociodémographiques des personnes interviewées.',\n",
       "  'description': None,\n",
       "  'thème': 'SANTÉ',\n",
       "  'indicateurs': 'Rapport des Enquêtes Démographiques et de Santé (EDS)'},\n",
       " {'source': 'https://www.ansd.sn/Indicateur/rapports-du-rgphae-2013-natalite',\n",
       "  'data_publication': 'Chapitre Fécondité et stérilité ',\n",
       "  'sommaire': 'Les résultats du RGPHAE révèlent un niveau de fécondité toujours élevé et constant depuis 2002 avec en moyenne 5,1 enfants par femme. D’importantes disparités s’observent entre les milieux urbain et rural (4,1 et 6,2 enfants par femme respectivement). Au niveau régional, Dakar se singularise avec un indice synthétique de fécondité relativement faible (3,7 enfants par femme). On peut citer également les régions de Saint-Louis, Thiès (4,9 enfants par femme) avec des niveaux inférieurs à la moyenne nationale. A l’opposé, les régions de Sédhiou (7,2 enfants par femme), Matam (6,8 enfants par femme), Kaffrine et Tambacounda (6,9 enfants par femme)) conservent un niveau de fécondité relativement élevé. Depuis 2002, le niveau de la fécondité est resté stable et tourne autour de 5 enfants par femme, bien qu’il ait connu une baisse entre 1978 et 2002 (respectivement 7,1 et 5,3)..L’’infécondité initiale, mesurée par la proportion des femmes en âge de procréer sans enfants nés vivants, révèle qu’une femme (15-49 ans) sur trois n’a pas encore eu une naissance vivante au moment du Recensement (38%). Les régions fortement urbanisées telles que Dakar et Thiès sont plus concernées par le phénomène. L’infécondité totale qui s’apparente à la stérilité primaire définitive se retrouve surtout dans les régions de Kédougou, Tambacounda et Louga. En fin de vie féconde, le taux d’infécondité finale apparaît faible (6%) et montre que rares sont les femmes de plus de 49 ans qui restent sans enfant et ce, quel que soit le milieu de résidence. Cela traduit, au Sénégal, le caractère marginal du phénomène de stérilité définitive en matière de procréation..Par ailleurs, les données ont montré que 16,6% de la population déclarent ne posséder aucun acte de naissance. Cette population se concentre plus en milieu rural (26,9%) et dans les régions de Kaffrine (38,7%), Tambacounda (38,0), Kolda (31,5%), Diourbel et Louga avec 25,4% chacune. En outre, cette situation touche plus les analphabètes (18,4%) et les personnes n’ayant aucun niveau d’instruction (23,9%). Enfin, les résultats révèlent que 25,6% des naissances d’1 an n’ont pas été déclarées à l’état civil et par conséquent, ces enfants ne possèdent encore aucun acte de naissance.',\n",
       "  'description': 'Le Sénégal, à l’instar des autres pays africains, a réalisé son quatrième recensement de la population dans le cadre de la série des recensements de la population de la décennie 2010 (2005-2014) initiée par les Nations Unies, à travers le Fonds des Nations Unies pour la Population (UNFPA), son Agence spécialisée en la matière. Les principaux objectifs assignés à ce Recensement et dont la phase de dénombrement a été bouclée en décembre 2013 sont de fournir : a) des données sur les caractéristiques socio-démographiques de la population, b) des données sur les caractéristiques de l’Habitat, c) des données de référence pour les statistiques agro-pastorales courantes, d) des bases de sondage pour les enquêtes sociodémographiques et agro-pastorales, e) des données pour le suivi de l’avancement vers les objectifs de développement nationaux et mondiaux, en particulier les Objectifs du Millénaire pour le Développement (OMD).\\n',\n",
       "  'thème': 'NATALITÉ',\n",
       "  'indicateurs': 'Rapports du RGPHAE 2013 : Natalité'},\n",
       " {'source': 'https://www.ansd.sn/Indicateur/rapports-du-rgphae-2013-mortalite',\n",
       "  'data_publication': 'Chapitre Mortalité ',\n",
       "  'sommaire': \"L’analyse de la mortalité générale indique un taux brut de 8‰ au niveau national. Il est plus élevé en milieu rural (9‰) qu’en milieu urbain (6‰). Dans l’enfance, le taux de mortalité infantile est de 54‰ avec une surmortalité masculine (61‰ contre 47‰). Cette différence est plus marquée, quel que soit le sexe, en milieu rural (63‰) qu’en milieu urbain (42‰). De façon globale, au Sénégal, sur 1000 enfants nés vivants, 79 enfants n’atteignent pas leur cinquième anniversaire. Le niveau de la mortalité maternelle demeure dans l'ensemble élevé au Sénégal..Le rapport de mortalité maternelle est de 434 pour 100 000 naissances vivantes. Il est de 459 décès en milieu rural contre 398 décès en milieu urbain pour 100 000 naissances vivantes. Au niveau régional, ce ratio est plus élevé à Kédougou avec 921 décès pour 100 000 naissances vivantes. Par contre, il est plus faible à Thiès avec 271 décès pour 100 000 naissances vivantes. Selon l’âge des mères, les adolescentes de moins de 20 ans sont plus touchées par le phénomène avec 629 décès pour 100 000 naissances vivantes..Les résultats de l’analyse de la mortalité montrent qu'en 2013, le Sénégal connaît une espérance de vie à la naissance (tous sexes confondus) estimée à 64,8 ans. Les femmes vivent en moyenne plus longtemps que les hommes (66,5 ans contre 63,2 ans, respectivement). On note également un écart de 5 ans entre le milieu urbain (67,4 ans) et le milieu rural (62,7 ans). Au niveau régional, Dakar (69,6 ans) et Thiès (68,2 ans) ont les espérances de vie les plus longues, contrairement à Kolda (54,7 ans) et à Kédougou (55,0 ans) où la durée de vie des populations est, en moyenne, plus courte. Enfin, au Sénégal, les résultats du RGPHAE révèlent que les décès survenus dans le ménage sont rarement déclarés à l’état civil, avec 65,2 % des cas. La différence est nette entre les milieux urbain et rural, avec respectivement 31,7 % et 85,8 % des décès non déclarés à l’état civil.\",\n",
       "  'description': 'Le Sénégal, à l’instar des autres pays africains, a réalisé son quatrième recensement de la population dans le cadre de la série des recensements de la population de la décennie 2010 (2005-2014) initiée par les Nations Unies, à travers le Fonds des Nations Unies pour la Population (UNFPA), son Agence spécialisée en la matière.\\nLes principaux objectifs assignés à ce Recensement et dont la phase de dénombrement a été bouclée en décembre 2013 sont de fournir : a) des données sur les caractéristiques socio-démographiques de la population, b) des données sur les caractéristiques de l’Habitat, c) des données de référence pour les statistiques agro-pastorales courantes, d) des bases de sondage pour les enquêtes sociodémographiques et agro-pastorales, e) des données pour le suivi de l’avancement vers les objectifs de développement nationaux et mondiaux, en particulier les Objectifs du Millénaire pour le Développement (OMD).\\n',\n",
       "  'thème': 'MORTALITÉ',\n",
       "  'indicateurs': 'Rapports du RGPHAE 2013 : Mortalité'},\n",
       " {'source': 'https://www.ansd.sn/Indicateur/rapports-du-rgphae-2013-fecondite',\n",
       "  'data_publication': ' Chapitre Fécondité et stérilité',\n",
       "  'sommaire': 'Les résultats du RGPHAE révèlent un niveau de fécondité toujours élevé et constant depuis 2002 avec en moyenne 5,1 enfants par femme. D’importantes disparités s’observent entre les milieux urbain et rural (4,1 et 6,2 enfants par femme respectivement). Au niveau régional, Dakar se singularise avec un indice synthétique de fécondité relativement faible (3,7 enfants par femme). On peut citer également les régions de Saint-Louis, Thiès (4,9 enfants par femme) avec des niveaux inférieurs à la moyenne nationale. A l’opposé, les régions de Sédhiou (7,2 enfants par femme), Matam (6,8 enfants par femme), Kaffrine et Tambacounda (6,9 enfants par femme)) conservent un niveau de fécondité relativement élevé. Depuis 2002, le niveau de la fécondité est resté stable et tourne autour de 5 enfants par femme, bien qu’il ait connu une baisse entre 1978 et 2002 (respectivement 7,1 et 5,3)..L’infécondité initiale, mesurée par la proportion des femmes en âge de procréer sans enfants nés vivants, révèle qu’une femme (15-49 ans) sur trois n’a pas encore eu une naissance vivante au moment du Recensement (38%). Les régions fortement urbanisées telles que Dakar et Thiès sont plus concernées par le phénomène. L’infécondité totale qui s’apparente à la stérilité primaire définitive se retrouve surtout dans les régions de Kédougou, Tambacounda et Louga. En fin de vie féconde, le taux d’infécondité finale apparaît faible (6%) et montre que rares sont les femmes de plus de 49 ans qui restent sans enfant et ce, quel que soit le milieu de résidence. Cela traduit, au Sénégal, le caractère marginal du phénomène de stérilité définitive en matière de procréation. Par ailleurs, les données ont montré que 16,6% de la population déclarent ne posséder aucun acte de naissance. Cette population se concentre plus en milieu rural (26,9%) et dans les régions de Kaffrine (38,7%), Tambacounda (38,0), Kolda (31,5%), Diourbel et Louga avec 25,4% chacune..En outre, cette situation touche plus les analphabètes (18,4%) et les personnes n’ayant aucun niveau d’instruction (23,9%). Enfin, les résultats révèlent que 25,6% des naissances d’1 an n’ont pas été déclarées à l’état civil et par conséquent, ces enfants ne possèdent encore aucun acte de naissance.',\n",
       "  'description': 'Le Sénégal, à l’instar des autres pays africains, a réalisé son quatrième recensement de la population dans le cadre de la série des recensements de la population de la décennie 2010 (2005-2014) initiée par les Nations Unies, à travers le Fonds des Nations Unies pour la Population (UNFPA), son Agence spécialisée en la matière. Les principaux objectifs assignés à ce Recensement et dont la phase de dénombrement a été bouclée en décembre 2013 sont de fournir : a) des données sur les caractéristiques socio-démographiques de la population, b) des données sur les caractéristiques de l’Habitat, c) des données de référence pour les statistiques agro-pastorales courantes, d) des bases de sondage pour les enquêtes sociodémographiques et agro-pastorales, e) des données pour le suivi de l’avancement vers les objectifs de développement nationaux et mondiaux, en particulier les Objectifs du Millénaire pour le Développement (OMD).\\n',\n",
       "  'thème': 'FÉCONDITÉ',\n",
       "  'indicateurs': 'Rapports du RGPHAE 2013 : Fécondité'},\n",
       " {'source': 'https://www.ansd.sn/Indicateur/rapports-denquetes-et-detudes-sur-la-migration',\n",
       "  'data_publication': 'Profil migratoire du Sénégal 2018 : Rapport global ',\n",
       "  'sommaire': 'Le présent rapport est la deuxième édition du profil migratoire du Sénégal après celle de 2009. Les informations contenues dans ce document sont produites par les services habilités. Le rapport a été réalisé par un consultant sous la supervision de l’Agence Nationale de la Statistique et de la Démographie et de l’Organisation Internationale pour les Migrations. L’élaboration du profil migratoire du Sénégal 2018 prend place dans le cadre du projet « Soutien à la liberté de circulation des personnes et migration en Afrique de l’ouest » qui est cofinancé par l’Union Européenne et la CEDEAO et mis en œuvre par l’OIM, l’OIT et l’ICMPD. Il s’inscrit dans le cadre d’un partenariat entre l’Agence Nationale de la Statistique et de la Démographie (ANSD) et l’Organisation internationale pour les migrations (OIM).',\n",
       "  'description': \"Ce thème regroupe les rapports d'enquêtes et d'études réalisées sur la migration.\\n\",\n",
       "  'thème': 'MIGRATION',\n",
       "  'indicateurs': \"Rapports d'enquêtes et d'études sur la migration\"},\n",
       " {'source': 'https://www.ansd.sn/Indicateur/sesnchapitre-migration',\n",
       "  'data_publication': 'Migration 2017-2018',\n",
       "  'sommaire': 'Les migrations interrégionales se rapportent aux déplacements d’une région à une autre dans un même pays. Les résultats du tableau III.1 montrent que les régions de Dakar (48,8 %) et dans une moindre mesure Diourbel (15,2 %) et Thiès (10,0 %) reçoivent une part importante des immigrants. Ces mêmes régions enregistrent le plus de départs (Thiès 19,2 %, Dakar 12,0 % et Diourbel 11,3 %) vers d’autres régions de même que la région de Ziguinchor (13,7 %). Ce qui montre une forte intensité des échanges migratoires dans ces régions. Cependant, au regard des soldes migratoires, les régions de Dakar, Diourbel et Fatick attirent plus qu’elles n’émettent de migrants pour plusieurs raisons. L’attirance pour la région de Dakar serait due à son statut de capitale économique et administrative. Concernant la région de Diourbel, il est permis de penser qu’elle doit sa dimension attractive à la cité religieuse de Touba.',\n",
       "  'description': 'La Situation Economique et Sociale Nationale (SESN) est une publication annuelle qui fait la synthèse des informations statistiques émanant de l’ANSD et des autres structures du Système National Statistique (SSN), dans le cadre de l’exécution de leurs tâches quotidiennes. La SESN essaie d’embrasser la quasi- totalité des secteurs de l’activité économique et sociale en mettant en relief l’information quantitative, fournissant ainsi les principaux indicateurs économiques, sociaux et démographiques du Sénégal. Réalisée pour une année (N) en utilisant les données recueillies l’année précédente (N-1), la SESN constitue un véritable instrument de planification et d’aide à la prise de décision pour les principaux acteurs du développement de notre pays.\\n',\n",
       "  'thème': 'MIGRATION',\n",
       "  'indicateurs': 'SESN/Chapitre : Migration'},\n",
       " {'source': 'https://www.ansd.sn/Indicateur/rapports-du-rgphae-2013-migration',\n",
       "  'data_publication': ' Chapitre Migration et Urbanisation ',\n",
       "  'sommaire': 'Au Sénégal, les migrants internes durée de vie sont estimés à 1 881 603 d’individus, soit 14,6% de la population. Les régions de Dakar, de Diourbel et de Thiès ont accueilli la majeure partie de ses flux migratoires, soit respectivement 41,8%, 15,5% et 12,9%. Les régions les plus répulsives sont Ziguinchor, Kaolack, Louga et Fatick avec des indices de sortie respectifs de 25,7%, 20,2%, 19,7% et 19,4%. Le bilan migratoire durée de vie montre que la région de Dakar a enregistré le solde migratoire le plus important (+685292), alors que la région de Saint-Louis affiche le solde négatif le plus important (-74486) suivie de Louga (-45449) et Ziguinchor (-31591). Au cours des 5 dernières années, les Sénégalais partis à l’étranger sont au nombre de 156676, soit 1,2% de la population. Les principales destinations sont l’Europe (44,4%) et les pays de l’Afrique Centrale (27,5%). Le principal motif de départ est le travail (73,5%). Les migrations internationales montrent que le Sénégal a accueilli 261 145 immigrants durée de vie, soit 2,0% de la population, qu’ils soient de nationalité sénégalaise ou non. Ces immigrants viennent pour l’essentiel de l’Afrique de l’Ouest, soit 84,4%. Cette dynamique migratoire, notamment interne, continue de modifier la structure de la population du pays. Au cours des trois dernières décennies, le taux d’urbanisation du Sénégal est passé de 34 % en 1976 à 39 % en 1988 et de 41 % en 2002 à 45,2% en 2013. En somme, le Sénégal se caractérise globalement par une urbanisation galopante. Celle-ci pourrait aussi être liée à la réforme de 2008 qui a vu l’érection de certaines localités rurales en commune.',\n",
       "  'description': 'Le Sénégal, à l’instar des autres pays africains, a réalisé son quatrième recensement de la population dans le cadre de la série des recensements de la population de la décennie 2010 (2005-2014) initiée par les Nations Unies, à travers le Fonds des Nations Unies pour la Population (UNFPA), son Agence spécialisée en la matière. Les principaux objectifs assignés à ce Recensement et dont la phase de dénombrement a été bouclée en décembre 2013 sont de fournir : a) des données sur les caractéristiques socio-démographiques de la population, b) des données sur les caractéristiques de l’Habitat, c) des données de référence pour les statistiques agro-pastorales courantes, d) des bases de sondage pour les enquêtes sociodémographiques et agro-pastorales, e) des données pour le suivi de l’avancement vers les objectifs de développement nationaux et mondiaux, en particulier les Objectifs du Millénaire pour le Développement (OMD).\\n',\n",
       "  'thème': 'MIGRATION',\n",
       "  'indicateurs': 'Rapports du RGPHAE 2013 : Migration'},\n",
       " {'source': 'https://www.ansd.sn/Indicateur/bulletin-semestriel-sur-les-statistiques-de-la-migration-et-de-la-mobilite',\n",
       "  'data_publication': 'Premier semestre 2019',\n",
       "  'sommaire': 'Une analyse des flux d’entrées et de sorties au niveau des postes frontières sur la période de janvier à juin 2019 selon sexe montrent que les hommes effectuent plus de déplacements que les femmes. Au total, on dénombre 1 112 420 hommes (soit 64%) contre 639 251 femmes (soit 36%) ayant effectués un déplacement. La même tendance est observée pour les entrées comme pour les sorties. Ainsi, concernant les entrées, 595 770 hommes (64%) contre 339 003 femmes (36%) sont enregistrés. Pour les sorties, sont concernées 516 650 hommes (63%) et 300 248 femmes (37%).',\n",
       "  'description': \"Le présent bulletin expose les statistiques sur le flux d’entrées et de sorties des personnes du territoire, les profils des migrants de retour assistés par l’OIM et les étrangers demandeurs de carte d’identité d’étranger. Les données sur les flux d’entrées et de sorties du territoire nationale sont fournies par la Direction de la Police de l'Air et des Frontières (DPAF). Selon la zone, les flux d’entrées et de sorties du territoire concernent 11 postes frontières à savoir : Aéroport international Blaise Diagne (AIBD), Diama, Karang, Kidira, Port de Dakar, Rosso, Ziguinchor, Matam, Moussala, Bignona et Kounkané.\\n\",\n",
       "  'thème': 'MIGRATION',\n",
       "  'indicateurs': 'Bulletin semestriel sur les statistiques de la migration et de la mobilité internationale au Sénégal'},\n",
       " {'source': 'https://www.ansd.sn/Indicateur/sesnchapitre-sante',\n",
       "  'data_publication': '2017-2018',\n",
       "  'sommaire': \"Entre 2017 et 2018, des efforts ont été fait dans le développement des ressources humaines de la santé. Globalement, une hausse du personnel de la santé est notée et particulièrement dans les catégories socio-professionnelles ayant des rapports étroits avec la santé de la mère et de l’enfant. L’effectif du personnel de santé (sages-femmes et gynécologues) ayant pour principal rôle d’accompagner la femme durant sa période de reproduction a augmenté. De 2017 à 2018, le nombre de sages-femmes d’Etat est passé de 2 551 à 2 677 individus, parallèlement, le nombre de gynécologues obstétriciens, bien que faible, a également connu une hausse, passant de 108 à 115, soit une hausse de 6%. L’effectif des pédiatres (médecins des enfants) dont le rôle est d’étudier le développement psychomoteur et physiologique normal de l'enfant, ainsi que les maladies infantiles a également évolué positivement sur la période et passe de 65 à 107 individus. Les effectifs des autres catégories socioprofessionnelles comme les médecins, les assistants infirmiers et les infirmiers d’Etat ont aussi connu une évolution positive entre 2017 et 2018. A cela, s’ajoute les autres personnels de la santé, à savoir les spécialistes, les techniciens supérieurs, les assistants etc.\",\n",
       "  'description': 'La Situation Economique et Sociale Nationale (SESN) est une publication annuelle qui fait la synthèse des informations statistiques émanant de l’ANSD et des autres structures du Système National Statistique (SSN), dans le cadre de l’exécution de leurs tâches quotidiennes. La SESN essaie d’embrasser la quasi- totalité des secteurs de l’activité économique et sociale en mettant en relief l’information quantitative, fournissant ainsi les principaux indicateurs économiques, sociaux et démographiques du Sénégal. Réalisée pour une année (N) en utilisant les données recueillies l’année précédente (N-1), la SESN constitue un véritable instrument de planification et d’aide à la prise de décision pour les principaux acteurs du développement de notre pays.\\n',\n",
       "  'thème': 'SANTÉ',\n",
       "  'indicateurs': 'SESN/Chapitre : Santé'},\n",
       " {'source': 'https://www.ansd.sn/Indicateur/banque-de-donnees-des-indicateurs-sociaux-badis',\n",
       "  'data_publication': '2014-2018',\n",
       "  'sommaire': 'La BADIS est un instrument important dans le dispositif actuel du système d’informations statistiques du Sénégal permettant de mesurer les performances économiques et d’évaluer les besoins sociaux sur une période relativement longue. En effet, elle est composée d’un ensemble d’indicateurs socioéconomiques qui couvrent une période supérieure à trente ans. Elle comporte plus de 2000 séries chronologiques réparties en neuf chapitres',\n",
       "  'description': 'La Banque de Données des Indicateurs Sociaux (BADIS) constitue un instrument important dans le dispositif actuel du système d’informations statistiques du pays. C’est l’un des rares outils, pour ne pas dire le seul, à disposer de données de sources administratives permettant une analyse longitudinale sur différents secteurs tels que : - l’éducation, - la santé, - la population, - les prix, - l’agriculture, - la dette extérieure, - l’emploi, - le cadre de vie (électricité, eau, téléphone, logement), - les comptes nationaux. Elle est composée pour l’essentiel d’un ensemble d’indicateurs économiques et sociaux qui couvrent une période de plus de vingt ans. En effet, les informations sont disponibles dans la plupart des cas depuis 1970. Elle comporte plus de 2000 séries chronologiques réparties dans les différents thèmes évoqués. Avec le Tableau de Bord de la Situation sociale du Sénégal (TBSS), ils forment les principaux éléments du système d’information sur lequel repose l’observatoire complet que l’ANSD en collaboration avec les partenaires au développement envisage de mettre en place. Cet observatoire intégrerait et harmoniserait différentes sources de données à la pauvreté, aux conditions de vie des ménages et au développement humain. Elle est complétée par des métadonnées correspondant en quelque sorte à un recueil des fiches explicatives des différents indicateurs présentés dans la BADIS.\\n',\n",
       "  'thème': 'PAUVRETÉ_ET_CONDITIONS_DE_VIE',\n",
       "  'indicateurs': 'Banque de Données des Indicateurs Sociaux (BADIS)'},\n",
       " {'source': 'https://www.ansd.sn/Indicateur/rapports-des-enquetes-villages',\n",
       "  'data_publication': 'septembre 2011',\n",
       "  'sommaire': 'Au niveau national, l’indice d’accès moyen aux cinq principaux services sociaux de base ciblés est estimé à 400/500 en 2009. Cela correspond à un taux d’accessibilité de 79% de la population rurale sénégalaise à ces services sociaux. Cet indice d’accès moyen était évalué à 271/500 en 2000, ce qui correspond à 54% seulement de la population. Cette progression de 129 points d’indice traduit une nette amélioration du niveau d’accès aux services de base, soit une hausse de près de 48% de la population concernée. Avec près de 90% de la population couverte, les écoles primaires et les li eux de commerce touchent plus de personnes. Suivent les points d’eau (85,0%), les postes de santé et les routes qui touchent relativement moins de personnes (respectivement 61% et 70% de la population).',\n",
       "  'description': \"L’Enquête-Villages de 2000 a été conçue pour suppléer au manque d’informations permettant le ciblage des zones rurales jugées prioritaires dans la mise en place de programmes de réduction de la pauvreté. Elle visait à mesurer le niveau d’accès aux infrastructures, équipements et services sociaux de base, au niveau le plus bas, c’est-à-dire au niveau village. En effet, l'accès à la santé, à l'éducation, à l'eau potable, aux marchés des produits de base, au transport et à la communication, entres autres, peut influer positivement l’attitude des populations, en renforçant la gamme des opportunités capables de les amener à changer favorablement leurs comportements en prenant des initiatives et en faisant des choix de nature à améliorer leurs conditions de vie. Dans la définition des objectifs de l’Enquête-Villages de 2000, il a été rappelé que, pour l’essentiel, ladite enquête devait servir d’outil de ciblage des zones d’intervention prioritaires du Programme National de Lutte contre la Pauvreté (PLP), notamment dans sa composante « amélioration de l’accès aux services sociaux de base », qui visait l’augmentation des taux de scolarisation et d’alphabétisation, la réduction des taux de mortalité maternelle et infantile ainsi que le taux de malnutrition infantile, mais aussi le relèvement des taux de consultation primaire curative et de couverture des programmes préventifs et l’amélioration de l’alimentation en eau potable des populations.\\n\",\n",
       "  'thème': 'PAUVRETÉ_ET_CONDITIONS_DE_VIE',\n",
       "  'indicateurs': 'Rapports des Enquêtes villages'},\n",
       " {'source': 'https://www.ansd.sn/Indicateur/note-de-conjoncture-socio-economique-du-senegal-enquete-l2s',\n",
       "  'data_publication': 'janvier 2017',\n",
       "  'sommaire': 'Le Sénégal, à l’instar des pays de l’Afrique subsaharienne, fait face au double fardeau des maladies transmissibles et des maladies chroniques dont la prise en charge est souvent trop coûteuse. Cependant, des progrès importants sont en train d’être réalisés dans le cadre de la lutte contre certaines endémies majeures, notamment le paludisme. Ainsi, le projet « A l’écoute du Sénégal » a intégré un second module « santé » pour mesurer une partie de la situation sanitaire du pays, suite à une première expérience réalisée en fin 2015.',\n",
       "  'description': 'Ce projet dénommé « A l’écoute du Sénégal » entièrement financé par le Groupe de la Banque mondiale (GBM) est basé sur un système d’enquêtes à haute fréquence auprès d’un panel de 1500 ménages en se servant des réseaux de téléphonie mobile. Elle n’est pas destinée à remplacer les grandes enquêtes sur la pauvreté mais plutôt pour combler le vide en termes d’informations. Ce projet d’enquête permettra de gagner en termes de fréquence de disponibilité de données. Par contre, il ne peut fournir que les informations nécessaires en termes de suivi des conditions de vie des ménages sur un échantillon réduit représentatif au niveau national à travers les trois Zones de résidences (stratification) ; Dakar, autres milieux urbains et milieu rural. Cette approche, combinant une enquête de référence et des entretiens téléphoniques mensuels avec les ménages, permet un suivi plus rapproché des projets et programmes de développement initiés par les autorités. La mise en place de cette approche permet de produire des données représentatives de bonne qualité, avec une démarche souple, rapide et à moindre coût mais aussi de renseigner les indicateurs socioéconomiques retenus dans le cadre des stratégies nationales de développement initiées par les autorités.\\n',\n",
       "  'thème': 'PAUVRETÉ_ET_CONDITIONS_DE_VIE',\n",
       "  'indicateurs': 'Note de conjoncture socio-économique du Sénégal (Enquête L2S)'},\n",
       " {'source': 'https://www.ansd.sn/Indicateur/sesnchapitre-justice',\n",
       "  'data_publication': 'Justice 2017-2018 ',\n",
       "  'sommaire': 'En 2016, en 2017 comme en 2018, le Sénégal compte 37 établissements pénitentiaires dont 8 sont localisés dans la région de Dakar, soit 21,6%. Les régions de Thiès, Fatick, Kaolack, Diourbel, Louga, Saint-Louis et Ziguinchor disposent chacune de trois établissements pénitentiaires tandis que Kolda et Tambacounda n’en comptent que deux, chacune. Les autres régions (Kaffrine, Kédougou, Matam et Sédhiou) sont dotées, chacune, d’un (1) établissement. L’effectif de la population carcérale s’élève à 10.045 en 2017 et 11.014 en 2018, dont respectivement 186 et 241 mineurs. Concernant la répartition par sexe, seule la population carcérale adulte sera étudiée. En effet, les données sur la population carcérale mineure sont obtenues, uniquement, par type de peine et non par sexe.',\n",
       "  'description': 'La Situation Economique et Sociale Nationale (SESN) est une publication annuelle qui fait la synthèse des informations statistiques émanant de l’ANSD et des autres structures du Système National Statistique (SSN), dans le cadre de l’exécution de leurs tâches quotidiennes. La SESN essaie d’embrasser la quasi- totalité des secteurs de l’activité économique et sociale en mettant en relief l’information quantitative, fournissant ainsi les principaux indicateurs économiques, sociaux et démographiques du Sénégal. Réalisée pour une année (N) en utilisant les données recueillies l’année précédente (N-1), la SESN constitue un véritable instrument de planification et d’aide à la prise de décision pour les principaux acteurs du développement de notre pays.\\n',\n",
       "  'thème': 'JUSTICE',\n",
       "  'indicateurs': 'SESN/Chapitre : Justice'},\n",
       " {'source': 'https://www.ansd.sn/Indicateur/rapports-du-rgphae-2013-habitat-0',\n",
       "  'data_publication': 'Chapitre Habitat et environnement ',\n",
       "  'sommaire': 'Le principal type de logement au Sénégal est les maisons basses (57,2%) et la plupart de ménages ont financé leur logement par leurs propres moyens (84,9%). Certains ménages vivent encore dans des cases (21,9%) et dans des baraques (2,4%). Au Sénégal, l’habitat à tendance moderne ne traduit pas nécessairement de bonnes conditions de logement. Le Recensement révèle que près de trois ménages sur dix (29,3%) vivent dans la promiscuité avec 3 personnes voire plus par pièce (30,9% en milieu rural contre 27,8% en milieu urbain). La propriété (72,6%) et la location (23,1%) constituent les types d’occupation les plus fréquents. Par ailleurs, le principal revêtement des habitations est le ciment (74,7%) et le banco (13,4%). Près de huit (8) ménages sur dix utilisent une source d’énergie moderne pour s’éclairer (57,5% pour l’électricité et 20,4% pour la lampe rechargeable). Le bois (50,4%) et le gaz (32,7%) sont les combustibles les plus utilisés par les ménages sénégalais pour la cuisson (86% pour le bois en milieu rural et 58% pour le gaz en milieu urbain).',\n",
       "  'description': 'Le Sénégal, à l’instar des autres pays africains, a réalisé son quatrième recensement de la population dans le cadre de la série des recensements de la population de la décennie 2010 (2005-2014) initiée par les Nations Unies, à travers le Fonds des Nations Unies pour la Population (UNFPA), son Agence spécialisée en la matière. Les principaux objectifs assignés à ce Recensement et dont la phase de dénombrement a été bouclée en décembre 2013 sont de fournir :\\n',\n",
       "  'thème': 'HABITAT_ET_CADRE_DE_VIE',\n",
       "  'indicateurs': 'Rapports du RGPHAE 2013 : Habitat '},\n",
       " {'source': 'https://www.ansd.sn/Indicateur/sesnchapitre-eau-et-assainissement',\n",
       "  'data_publication': 'Eau et assainissement 2017-2018 ',\n",
       "  'sommaire': 'Au Sénégal, l’essentiel des ménages a accès à une eau de boisson issue d’une source améliorée. En effet, comme l’illustrent les graphiques ci-dessous, plus des quatre cinquième des ménages s’approvisionnent en eau de boisson auprès d’une source d’eau améliorée. Toutefois, de fortes disparités s’observent non seulement entre les régions, les écarts pouvant varier du simple au double, mais aussi selon le milieu de résidence au sein d’une même région. En effet, la quasi-totalité des ménages des régions de Dakar (99,6%) et Louga (98,6%) utilisent une source améliorée. Dans une moindre mesure, Diourbel, Kaffrine et Thiès s’inscrivent dans la même lignée avec moins de 10% de ménages n’ayant pas accès à une source améliorée d’eau de boisson. Au nord (Saint-Louis et Matam) et à Kaolack, au moins 8 ménages sur 10 boivent de l’eau d’une source améliorée.',\n",
       "  'description': 'La Situation Economique et Sociale Nationale (SESN) est une publication annuelle qui fait la synthèse des informations statistiques émanant de l’ANSD et des autres structures du Système National Statistique (SSN), dans le cadre de l’exécution de leurs tâches quotidiennes. La SESN essaie d’embrasser la quasi- totalité des secteurs de l’activité économique et sociale en mettant en relief l’information quantitative, fournissant ainsi les principaux indicateurs économiques, sociaux et démographiques du Sénégal. Réalisée pour une année (N) en utilisant les données recueillies l’année précédente (N-1), la SESN constitue un véritable instrument de planification et d’aide à la prise de décision pour les principaux acteurs du développement de notre pays.\\n',\n",
       "  'thème': 'HABITAT_ET_CADRE_DE_VIE',\n",
       "  'indicateurs': 'SESN/Chapitre : Eau et assainissement'},\n",
       " {'source': 'https://www.ansd.sn/Indicateur/autres-rapports-denquetes-sur-lemploi-et-le-travail',\n",
       "  'data_publication': '2022 ',\n",
       "  'sommaire': 'Le Sénégal réalise, pour la première fois en 2021, une enquête sur l’emploi du temps afin de déterminer les activités les plus présentes dans le quotidien des hommes et des femmes. L’enquête a révélé des résultats forts intéressants sur les différences de participation aux activités non rémunérées telles que les travaux domestiques. Il est noté que 84,6% des femmes effectuent des travaux domestiques contre 31,7% des hommes.',\n",
       "  'description': \"Regroupe les rapports d'enquête et d'étude sur l'emploi et le travail\\n\",\n",
       "  'thème': 'EMPLOI_ET_TRAVAIL',\n",
       "  'indicateurs': \"Autres rapports d'enquêtes sur l'emploi et le travail\"},\n",
       " {'source': 'https://www.ansd.sn/Indicateur/seesnchapitre-emploi',\n",
       "  'data_publication': 'Emploi 2017-2018 ',\n",
       "  'sommaire': 'La répartition selon le milieu de résidence de la population en âge de travailler montre qu’elle est majoritairement concentrée en zone urbaine avec 52,9% et 51,8% des individus en âge de travailler respectivement en 2017 et 2018. L’importante urbanisation de la population en âge de travailler est étroitement liée au poids économique du milieu urbain qui en fait une zone d’attraction d’individus à la recherche d’emploi ou en déplacement pour des raisons scolaires. La répartition par groupe d’âges et par sexe de la population en âge de travailler, c’est-à-dire celle âgée de 15 ans ou plus, fait ressortir son caractère jeune et féminin, quelle que soit l’année. En effet, cette population, qui est à dominante féminine (près de 51%), est constituée à plus de 58% de jeunes âgés de 15 à 34 ans. Par ailleurs, une personne sur trois en âge de travailler a moins de 25 ans. Par rapport au niveau d’instruction, on note que 55,4% et 57,7% de la population en âge de travailler, respectivement en 2017 et 2018, n’ont jamais fréquenté l’école et 16,5% ont le niveau primaire. Le faible niveau d’instruction de la population en âge de travailler est plus accentué en milieu rural où plus de 85% ont, au plus, le niveau primaire. La proportion des personnes ayant le niveau supérieur est estimée à près de 5,0%.',\n",
       "  'description': 'La Situation Economique et Sociale Nationale (SESN) est une publication annuelle qui fait la synthèse des informations statistiques émanant de l’ANSD et des autres structures du Système National Statistique (SSN), dans le cadre de l’exécution de leurs tâches quotidiennes. La SESN essaie d’embrasser la quasi- totalité des secteurs de l’activité économique et sociale en mettant en relief l’information quantitative, fournissant ainsi les principaux indicateurs économiques, sociaux et démographiques du Sénégal. Réalisée pour une année (N) en utilisant les données recueillies l’année précédente (N-1), la SESN constitue un véritable instrument de planification et d’aide à la prise de décision pour les principaux acteurs du développement de notre pays.\\n',\n",
       "  'thème': 'EMPLOI_ET_TRAVAIL',\n",
       "  'indicateurs': 'SEESN/Chapitre : Emploi'},\n",
       " {'source': 'https://www.ansd.sn/Indicateur/enquete-emploi',\n",
       "  'data_publication': 'T3 2023 ',\n",
       "  'sommaire': 'Au troisième trimestre de l’année 2023, 61,4% des personnes en âge de travailler ont participé au marché du travail. Ce niveau d’activité a été plus élevé en milieu rural où il est ressorti à 63,6% contre 59,5% en milieu urbain. Selon le sexe, il est plus élevé chez les hommes que chez les femmes avec des taux respectifs de 71,0% et de 52,2%. En glissement annuel, le niveau de participation s’est accru de 1,7 point de pourcentage par rapport à la même période en 2022. \\xa0.Le taux de chômage (élargi) est passé de 22,9% au troisième trimestre de 2022 à 19,5% sur la même période en 2023, soit une baisse de 3,4 points de pourcentage. Au sens strict du BIT, il est ressorti à 5,8% au trimestre sous revu..Au compte du trimestre sous revu, le taux de chômage au sens élargi est légèrement plus élevé en milieu urbain (20,1% contre 19,0% en zone rurale). Selon le sexe, le chômage touche plus les femmes (32,0%) que les hommes (10,0%).',\n",
       "  'description': \"L'objectif principal des enquêtes trimestrielles est de mettre en place un dispositif de mesure et de suivi de l’emploi au Sénégal. De façon spécifique, cette enquête vise à : · mesurer le chômage et l’emploi, identifier les secteurs d’activités à plus forte capacité de création d’emplois ; · définir le profil des demandeurs d’emploi ; · mesurer la demande d’emploi particulièrement celle des jeunes, les dynamiques du marché du travail au Sénégal ; · déterminer la structure de cette demande en termes de caractéristiques sociodémographiques, de formation et de qualification professionnelle ; · évaluer les canaux de recherche d’un emploi et la durée d’obtention du premier emploi après la sortie du système éducatif ou de formation professionnelle ; · évaluer la durée d’occupation d’un emploi notamment le premier emploi ; · évaluer les conditions d’exercice de ces emplois notamment la protection sociale accordée aux différentes catégories socioprofessionnelles ; · servir de support d’analyse statistique pour les plans tel que le PSE, les programmes et stratégies de promotion de l’emploi notamment celui des jeunes et des femmes.\\n\",\n",
       "  'thème': 'EMPLOI_ET_TRAVAIL',\n",
       "  'indicateurs': 'Enquête Emploi'},\n",
       " {'source': 'https://www.ansd.sn/Indicateur/rapports-du-rgphae-2013-education',\n",
       "  'data_publication': 'RGPHAE 2013',\n",
       "  'sommaire': 'Les résultats du RGPHAE révèlent que près d’un Sénégalais sur deux âgés d’au moins dix ans (45,4%) sait lire et écrire dans une langue quelconque (53,7% chez les hommes contre 37,7% chez les femmes)..En matière d’éducation, le Recensement évalue à 2 852 983 apprenants au Sénégal. Ils sont répartis ainsi qu’il suit :.Le milieu urbain concentre plus de 57,3% de l’effectif total des apprenants. En matière de formation professionnelle, la répartition des individus âgés d’au moins 6 ans indique que neuf individus sur dix n’ont pas reçu de formation\\n(89,5%). Les femmes (92,5%) sont globalement plus défavorisées que les hommes (86,3%).',\n",
       "  'description': 'Le Sénégal, à l’instar des autres pays africains, a réalisé son quatrième recensement de la population dans le cadre de la série des recensements de la population de la décennie 2010 (2005-2014) initiée par les Nations Unies, à travers le Fonds des Nations Unies pour la Population (UNFPA), son Agence spécialisée en la matière. Les principaux objectifs assignés à ce Recensement et dont la phase de dénombrement a été bouclée en décembre 2013 sont de fournir : a) des données sur les caractéristiques socio-démographiques de la population, b) des données sur les caractéristiques de l’Habitat, c) des données de référence pour les statistiques agro-pastorales courantes, d) des bases de sondage pour les enquêtes sociodémographiques et agro-pastorales, e) des données pour le suivi de l’avancement vers les objectifs de développement nationaux et mondiaux, en particulier les Objectifs du Millénaire pour le Développement (OMD).\\n',\n",
       "  'thème': 'EDUCATION',\n",
       "  'indicateurs': 'Rapports du RGPHAE 2013 : Education'},\n",
       " {'source': 'https://www.ansd.sn/Indicateur/sesnchapitre-education',\n",
       "  'data_publication': 'Education et formation 2017-2018 ',\n",
       "  'sommaire': 'Le secteur de l’éducation est marqué, en 2017 et 2018, par une baisse ou reprise morose des indicateurs de qualité, notamment de réussite avec comme illustration une baisse du taux de réussite au CFEE, passant de 58,3% en 2016 à 56,7% en 2017 et 55,5% en 2018. Pour le BFEM, une évolution en dent de scie est observée avec un taux de réussite qui est passé de 51,5% en 2016 à 45,1% en 2017 et à 52,1% en 2018. La situation similaire est observée pour le baccalauréat. En effet, le taux de réussite au baccalauréat est de passé de 36,76 % en 2015 à 31,6% en 2017 et à 35,2% en 2018. Bien que, globalement, les indicateurs d’accessibilité soient tendanciellement en croissance et ceux de réussite aux examens en reprise voire en baisse, dans l’ensemble, ceux de qualité nécessitent encore une amélioration par la prise de dispositions pour relever leur niveau, surtout dans les régions du sud et de l’est.',\n",
       "  'description': 'La Situation Economique et Sociale Nationale (SESN) est une publication annuelle qui fait la synthèse des informations statistiques émanant de l’ANSD et des autres structures du Système National Statistique (SSN), dans le cadre de l’exécution de leurs tâches quotidiennes. La SESN essaie d’embrasser la quasi- totalité des secteurs de l’activité économique et sociale en mettant en relief l’information quantitative, fournissant ainsi les principaux indicateurs économiques, sociaux et démographiques du Sénégal. Réalisée pour une année (N) en utilisant les données recueillies l’année précédente (N-1), la SESN constitue un véritable instrument de planification et d’aide à la prise de décision pour les principaux acteurs du développement de notre pays.\\n',\n",
       "  'thème': 'EDUCATION',\n",
       "  'indicateurs': 'SESN/Chapitre : Education'},\n",
       " {'source': 'https://www.ansd.sn/Indicateur/rapports-du-rgphae-2013-handicap',\n",
       "  'data_publication': 'Chapitre Personnes en situation de handicap ',\n",
       "  'sommaire': \"Au Sénégal, l’innovation du recensement de 2013 par rapport à celui de 2002 a été de mesurer le niveau ou le degré de chaque handicap. En effet, l’approche précédente, axée sur l’absence de modulation du statut de l’handicap (souffrez-vous d’un handicap ?), est apparue très limitative. A ce titre, il a été utilisé une série de questions (Washington Group) qui permettent d'identifier les personnes à risque au sein de la population générale. L'échelle de gravité s’utilise dans les catégories de réponse, afin de cerner l’éventail complet des domaines fonctionnels allant de la forme bénigne à la forme la plus sévère. En décembre 2002, la qualification extrême de l’handicap a montré que le Sénégal compte 138 897 personnes handicapées sur une population de 9 858 482 habitants, soit une prévalence de 1,4%. Cela signifie que 14 Sénégalais sur 1000 souffrent d’un quelconque handicap. En 2013, cette prévalence du handicap est de 5,9%, ce qui signifie que 59 Sénégalais sur 1000 souffrent d’un handicap quelconque. Les individus de sexe féminin sont les plus concernés avec un rapport de masculinité de 88 hommes pour 100 femmes. Par ailleurs, la forme de handicap la plus répandue concerne les difficultés à marcher et à voir (1,5% de la population chacune) à l’opposé des limitations auditives, des difficultés à se concentrer et des difficultés à prendre soin de soi (respectivement 0,6%, 0,8% et 0,5%). Au niveau régional, les régions de Ziguinchor et Matam enregistrent les taux de prévalence les plus élevés avec 8,1% de handicapés chacune, alors que celles de Diourbel et Kaolack enregistrent les taux de prévalence les plus faibles avec 5% de personnes vivant avec un handicap.\",\n",
       "  'description': 'Le Sénégal, à l’instar des autres pays africains, a réalisé son quatrième recensement de la population dans le cadre de la série des recensements de la population de la décennie 2010 (2005-2014) initiée par les Nations Unies, à travers le Fonds des Nations Unies pour la Population (UNFPA), son Agence spécialisée en la matière. Les principaux objectifs assignés à ce Recensement et dont la phase de dénombrement a été bouclée en décembre 2013 sont de fournir : a) des données sur les caractéristiques socio-démographiques de la population, b) des données sur les caractéristiques de l’Habitat, c) des données de référence pour les statistiques agro-pastorales courantes, d) des bases de sondage pour les enquêtes sociodémographiques et agro-pastorales, e) des données pour le suivi de l’avancement vers les objectifs de développement nationaux et mondiaux, en particulier les Objectifs du Millénaire pour le Développement (OMD).\\n',\n",
       "  'thème': 'GENRE_ET_ÉQUITÉ',\n",
       "  'indicateurs': 'Rapports du RGPHAE 2013 : Handicap'},\n",
       " {'source': 'https://www.ansd.sn/Indicateur/rapports-denquete-et-detudes-sur-le-genre',\n",
       "  'data_publication': 'Etude sur la contribution de l’entreprenariat et du leadership féminins à la valeur ajoutée de l’économie sénégalaise - approche sexo-spécifique ',\n",
       "  'sommaire': 'L’année 2017 a été choisie comme période de référence de l’étude. Les résultats ont montré que les femmes entrepreneures ou gérantes, dans le secteur formel, ont un niveau d’études élevé (60,4% ont le niveau supérieur) et sont relativement jeunes (57,1% ont un âge compris entre 35 et 55 ans). Les principales difficultés qu’elles rencontrent sont relatives aux impôts et taxes et à l’accès aux crédits. Elles contribuent à hauteur de 1 000,5 milliards CFA à la création de revenu, soit 24,5% à la valeur ajoutée du secteur formel. Cette richesse est tirée principalement par le secteur tertiaire avec une contribution de 79,3%.',\n",
       "  'description': \"Ce thème regroupe les Rapports des enquêtes et d'études réalisées sur le thème de genre et équité.\\n\",\n",
       "  'thème': 'GENRE_ET_ÉQUITÉ',\n",
       "  'indicateurs': \"Rapports d'enquête et d'études sur le genre\"},\n",
       " {'source': 'https://www.ansd.sn/Indicateur/seschapitre-elevage',\n",
       "  'data_publication': '2017-2018',\n",
       "  'sommaire': 'L’effectif du cheptel est évalué en 2018 à 18 314 mille têtes, après 17 866 mille têtes en 2017 et 17 379 en 2016, soit un taux de croît de 2,5% en 2018 et 2,8% en 2017. Cette hausse enregistrée dans les deux années est principalement imputable au croît des principales composantes du cheptel. Il s’agit des ovins (3,2% en 2018 et 3,5% en 2017 contre 3,3% en 2016), des caprins (2,8% en 2018, 3,2% en 2017 et 2016) et des bovins (1,1% en 2018 et 1,3% 2017 contre 1,2% en 2016) qui représentent plus de 91% de l’effectif total..La valeur ajoutée de l’élevage a augmenté de 2,7% en 2018 en termes réels après des hausses de 3,5% en 2017 et de 8,7% en 2016. Son poids dans le secteur primaire a connu de légers replis entre 2016 et 2018. En effet, estimé à 27,9% de la valeur ajoutée globale du secteur primaire (en volume), le poids de l’élevage s’est situé en 2017 et en 2018 à 25,4% et 23,7% respectivement.',\n",
       "  'description': '\\n\\nLa Situation Economique et Sociale Nationale (SESN) est une publication annuelle qui fait la synthèse des informations statistiques émanant de l’ANSD et des autres structures du Système National Statistique (SSN), dans le cadre de l’exécution de leurs tâches quotidiennes.\\nLa SESN essaie d’embrasser la quasi- totalité des secteurs de l’activité économique et sociale en mettant en relief l’information quantitative, fournissant ainsi les principaux indicateurs économiques, sociaux et démographiques du Sénégal. Réalisée pour une année (N) en utilisant les données recueillies l’année précédente (N-1), la SESN constitue un véritable instrument de planification et d’aide à la prise de décision pour les principaux acteurs du développement de notre pays.\\n\\n\\n',\n",
       "  'thème': 'AGRICULTURE',\n",
       "  'indicateurs': ' SES/Chapitre : Elevage'},\n",
       " {'source': 'https://www.ansd.sn/Indicateur/sesnchapitre-peche',\n",
       "  'data_publication': '2017-2018',\n",
       "  'sommaire': \"Les ressources de la zone maritime sont caractérisées par une grande diversité biologique. Ces ressources halieutiques font aujourd’hui l'objet d'une forte pression avec plus de 11 000 pirogues actives opérant dans la pêche artisanale et un peu plus d'une centaine de bateaux battant pavillon étranger au large des côtes du Sénégal..Les débarquements de la pêche maritime ont observé une tendance à la hausse de 2014 à 2017. L’année 2018 est marquée par une baisse globale de 5,1% des quantités débarquées, essentiellement imputable aux débarquements de la pêche artisanale. En effet, les mises à terre sont passées de 487 435 tonnes en 2016 à 504 776 tonnes en 2017, puis à 479 194 tonnes en l’année 2018.\",\n",
       "  'description': 'La Situation Economique et Sociale Nationale (SESN) est une publication annuelle qui fait la synthèse des informations statistiques émanant de l’ANSD et des autres structures du Système National Statistique (SSN), dans le cadre de l’exécution de leurs tâches quotidiennes.\\nLa SESN essaie d’embrasser la quasi- totalité des secteurs de l’activité économique et sociale en mettant en relief l’information quantitative, fournissant ainsi les principaux indicateurs économiques, sociaux et démographiques du Sénégal. Réalisée pour une année (N) en utilisant les données recueillies l’année précédente (N-1), la SESN constitue un véritable instrument de planification et d’aide à la prise de décision pour les principaux acteurs du développement de notre pays.\\n',\n",
       "  'thème': 'AGRICULTURE',\n",
       "  'indicateurs': 'SESN/Chapitre : Pêche'},\n",
       " {'source': 'https://www.ansd.sn/Indicateur/sesnchapitre-agriculture',\n",
       "  'data_publication': '2017-2018',\n",
       "  'sommaire': 'Le sous-secteur agricole est caractérisé par une performance, en 2017 et 2018, de certaines spéculations telles que le mil, l’arachide, le riz, etc. en liaison avec la bonne pluviométrie. En effet, le PIB agricole est évalué à 1 217,0 milliards de FCFA en 2018, soit une hausse de 9,1% par rapport à 2017..Le secteur contribue à hauteur de 9,4% du PIB national et de 62,8% de la valeur ajoutée (en terme nominal) du secteur primaire. Le document aborde d’abord les orientations stratégiques liées à l’agriculture et les actions entreprises par le Gouvernement sur la période 2017-2018..La situation de la pluviométrie sur la période susvisée sera également décrite. A la lumière de ces deux éléments, les performances du secteur agricole seront analysées avant de terminer par les contraintes dudit secteur.?',\n",
       "  'description': 'La Situation Economique et Sociale Nationale (SESN) est une publication annuelle qui fait la synthèse des informations statistiques émanant de l’ANSD et des autres structures du Système National Statistique (SSN), dans le cadre de l’exécution de leurs tâches quotidiennes. La SESN essaie d’embrasser la quasi- totalité des secteurs de l’activité économique et sociale en mettant en relief l’information quantitative, fournissant ainsi les principaux indicateurs économiques, sociaux et démographiques du Sénégal. Réalisée pour une année (N) en utilisant les données recueillies l’année précédente (N-1), la SESN constitue un véritable instrument de planification et d’aide à la prise de décision pour les principaux acteurs du développement de notre pays.\\n',\n",
       "  'thème': 'AGRICULTURE',\n",
       "  'indicateurs': 'SESN/Chapitre : Agriculture'},\n",
       " {'source': 'https://www.ansd.sn/Indicateur/sesnchapitre-batiments-et-travaux-publics-btp',\n",
       "  'data_publication': '2017-2018',\n",
       "  'sommaire': 'Le ciment constitue l’un des principaux intrants pour l’activité de construction. Au cours des dix dernières années, il est constaté une évolution à la hausse de la production de ciment, à l’exception de la baisse de 3,7% qui a été enregistrée en 2013. En 2018, il est noté une progression de 5,3% de la production de ciment en quantité. S’agissant en particulier, des ventes locales de ciment, elles ont augmenté de 22,7%, tandis que celles à l’exportation ont reculé de 22,5%..La valeur ajoutée de la branche « construction » s’est établie à 383,5 milliards de FCFA en 2018 (en valeur). En 2018, la construction représente 3,0% du PIB nominal et 12,3% de la valeur ajoutée du secteur secondaire (aux prix courants). L’activité de construction est restée dynamique en 2018 avec une progression de 11,5% de sa valeur ajoutée en volume, après 15,9% en 2017.Cette bonne tenue de l’activité est expliquée, en partie, par le bon comportement des ventes locales, en liaison avec les grands travaux de l’Etat et la demande intérieure privée.',\n",
       "  'description': 'La Situation Economique et Sociale Nationale (SESN) est une publication annuelle qui fait la synthèse des informations statistiques émanant de l’ANSD et des autres structures du Système National Statistique (SSN), dans le cadre de l’exécution de leurs tâches quotidiennes. La SESN essaie d’embrasser la quasi- totalité des secteurs de l’activité économique et sociale en mettant en relief l’information quantitative, fournissant ainsi les principaux indicateurs économiques, sociaux et démographiques du Sénégal.\\nRéalisée pour une année (N) en utilisant les données recueillies l’année précédente (N-1), la SESN constitue un véritable instrument de planification et d’aide à la prise de décision pour les principaux acteurs du développement de notre pays.\\n',\n",
       "  'thème': 'BÂTIMENTS_ET_TRAVAUX_PUBLICS_',\n",
       "  'indicateurs': 'SESN/Chapitre : Bâtiments et travaux publics (BTP)'},\n",
       " {'source': 'https://www.ansd.sn/Indicateur/autres-rapports-denquetes-et-detudes-sur-lenvironnement',\n",
       "  'data_publication': '2010-2015',\n",
       "  'sommaire': 'La Division des Statistiques des Nations Unies conduit actuellement un projet intitulé « Environnemental economic accounting for evidence based policy in Africa and Asia» (comptabilité économique et environnementale en Afrique et en Asie pour des politiques factuelles)..Ce projet vise à lever les barrières techniques et institutionnelles contrariant l’instauration de la production régulière de comptes économiques environnementaux..A cet égard, la norme statistique internationale qu’est le Système de comptabilité économique environnementale (SCEE) (ou SEEA en anglais) constitue pour les différents pays un cadre permettant de produire des comptes internationalement comparables pour mesurer les progrès vers l’atteinte des Objectifs de développement Durables (ODD), les objectifs d’Aichi, la croissance verte, etc..L’objectif général de l’élaboration du Plan National pour l’Avancement de la Comptabilité Economique Environnementale et le Développement d’une Feuille de Route pour l’Utilisation des Comptes au Sénégal est de renforcer la mise en place du Système de Comptabilité Economique et Environnementale (SCEE) au Sénégal à travers une approche flexible et modulaire, pour des politiques factuelles orientées vers le développement durable..Relativement à cet objectif, il est reconnu que la mise en oeuvre du SCEE exige des efforts notables et une approche propre à chaque pays, d’où la nécessité de disposer d’un plan national assorti d’une feuille de route.',\n",
       "  'description': None,\n",
       "  'thème': 'ENVIRONNEMENT',\n",
       "  'indicateurs': \"Autres rapports d'enquêtes et d'études sur l'environnement\"},\n",
       " {'source': 'https://www.ansd.sn/Indicateur/sesnchapitre-environnement',\n",
       "  'data_publication': '2017-2018',\n",
       "  'sommaire': 'Les recettes de la campagne d’exploitation forestière sont de 2,048 milliards FCFA et 3,260 milliards FCFA, respectivement en 2017 et 2018. Comparativement à la situation observée en 2017, les productions contrôlées de charbon de bois et de pain de singe ont progressé respectivement de 9,0% et 11,6% en 2018. Le bois de chauffe et le bois d’œuvre suivent la même tendance que l’année précédente..Contrairement à 2017, la production de gomme naturelle a baissé de 69,9%. Le sous-secteur de la sylviculture est constitué des produits de l’exploitation forestière et de la cueillette. Suite à une légère hausse observée en 2017, sa production a connu un repli en 2018 pour s’établir à 68,3 milliards de FCFA (aux prix courants). De même, sa valeur ajoutée à prix courants est passée de 53,9 milliards de FCFA en 2017 à 53,2 milliards de FCFA en 2018.',\n",
       "  'description': 'La Situation Economique et Sociale Nationale (SESN) est une publication annuelle qui fait la synthèse des informations statistiques émanant de l’ANSD et des autres structures du Système National Statistique (SSN), dans le cadre de l’exécution de leurs tâches quotidiennes. La SESN essaie d’embrasser la quasi- totalité des secteurs de l’activité économique et sociale en mettant en relief l’information quantitative, fournissant ainsi les principaux indicateurs économiques, sociaux et démographiques du Sénégal. Réalisée pour une année (N) en utilisant les données recueillies l’année précédente (N-1), la SESN constitue un véritable instrument de planification et d’aide à la prise de décision pour les principaux acteurs du développement de notre pays.\\n',\n",
       "  'thème': 'ENVIRONNEMENT',\n",
       "  'indicateurs': 'SESN/Chapitre : Environnement'},\n",
       " {'source': 'https://www.ansd.sn/Indicateur/rapports-denquetes-et-detudes-sur-lindustrie-et-la-production',\n",
       "  'data_publication': '2020',\n",
       "  'sommaire': 'La crise sanitaire a eu un impact significatif sur l’activité des entreprises industrielles. En effet, 92,5% des entreprises interrogées ont déclaré avoir été impactées par la Covid-19. Parmi celles-ci, l’étude a montré que pour la quasi-totalité d’entre elles (96,0%), il s’agit d’un impact négatif. De plus, la majorité de ces unités de transformation (70,6%) considère que l’activité s’est dégradée de plus de 25%..Par ailleurs, la quasi-totalité des établissements de transformation déclare que leurs approvisionnements en matières premières, leurs acquisitions de biens d’équipements, leurs productions, leurs parts de marché, leurs chiffres d’affaires ainsi que leurs investissements sont négativement affectés par la pandémie. En outre, près de la moitié d’entre elles (48,6%) affirme que la crise sanitaire a affecté leurs emplois permanents.',\n",
       "  'description': \"Cette section regroupe les rapports d'enquêtes et d'études réalisées sur le secteur industriel dans son ensemble.\\n\",\n",
       "  'thème': 'INDUSTRIE',\n",
       "  'indicateurs': \"Rapports d'enquêtes et d'études sur l'industrie et la production \"},\n",
       " {'source': 'https://www.ansd.sn/Indicateur/sesnchapitre-industrie',\n",
       "  'data_publication': '2017-2018',\n",
       "  'sommaire': 'Le Sénégal ambitionne de faire du secteur industriel un des piliers du développement durable. En effet, parmi les objectifs du Plan Sénégal Emergent (PSE), figure le pari industriel intégré qui vise la création d’un pôle manufacturier à haute valeur ajoutée. Ceci s’est concrétisé avec la construction du Parc Industriel international de Diamniadio d’une superficie de 13 hectares dont la mise en service est effective depuis février 2018. Le secteur soutient le dynamisme de la croissance économique du pays depuis quelques années. En effet, la valeur ajoutée du secondaire a augmenté de 7,4%, après 3,6% en 2016, contribuant ainsi à hauteur de 1,7 point à la croissance du PIB en 2017.',\n",
       "  'description': 'La Situation Economique et Sociale Nationale (SESN) est une publication annuelle qui fait la synthèse des informations statistiques émanant de l’ANSD et des autres structures du Système National Statistique (SSN), dans le cadre de l’exécution de leurs tâches quotidiennes. La SESN essaie d’embrasser la quasi- totalité des secteurs de l’activité économique et sociale en mettant en relief l’information quantitative, fournissant ainsi les principaux indicateurs économiques, sociaux et démographiques du Sénégal. Réalisée pour une année (N) en utilisant les données recueillies l’année précédente (N-1), la SESN constitue un véritable instrument de planification et d’aide à la prise de décision pour les principaux acteurs du développement de notre pays.\\n',\n",
       "  'thème': 'INDUSTRIE',\n",
       "  'indicateurs': 'SESN/Chapitre : Industrie'},\n",
       " {'source': 'https://www.ansd.sn/Indicateur/sesnchapitre-mines-carrieres-et-energie',\n",
       "  'data_publication': '2017-2018',\n",
       "  'sommaire': 'Les activités extractives sont devenues un des secteurs phares de l’économie sénégalaise représentant, notamment, le premier poste d’exportation. Elles sont composées de l’extraction minière et celle des hydrocarbures. Au-delà du phosphate qui est un produit exploité depuis les années cinquante, les produits extraits du sous-sol sénégalais se sont diversifiés avec la production d’or, de zircon, d’ilménite, de rutile, de leucoxène, de manganèse, etc..En outre, d’importants changements économiques sont attendus avec l’exploitation prochaine de pétrole et de gaz naturel. Ce dynamisme du secteur extractif est reflété par sa production de plus en plus importante. En effet, évaluée à 549,8 milliards de FCFA en 2017, elle est passée à 692,9 milliards en 2018 avec des valeurs ajoutées respectives de 317,9 et 407,2 milliards de FCFA. La contribution de ce secteur au PIB en 2018 est de 3,2%, après 2,6% en 2017. Il représente également un secteur stratégique pour le développement des activités énergétiques.',\n",
       "  'description': 'La Situation Economique et Sociale Nationale (SESN) est une publication annuelle qui fait la synthèse des informations statistiques émanant de l’ANSD et des autres structures du Système National Statistique (SSN), dans le cadre de l’exécution de leurs tâches quotidiennes. La SESN essaie d’embrasser la quasi- totalité des secteurs de l’activité économique et sociale en mettant en relief l’information quantitative, fournissant ainsi les principaux indicateurs économiques, sociaux et démographiques du Sénégal. Réalisée pour une année (N) en utilisant les données recueillies l’année précédente (N-1), la SESN constitue un véritable instrument de planification et d’aide à la prise de décision pour les principaux acteurs du développement de notre pays.\\n',\n",
       "  'thème': 'MINES',\n",
       "  'indicateurs': 'SESN/Chapitre : Mines, carrières et energie'},\n",
       " {'source': 'https://www.ansd.sn/Indicateur/seschapitre-tourisme',\n",
       "  'data_publication': '2017-2018',\n",
       "  'sommaire': \"L'activité touristique a engendré 1 500 milliards de dollars US de recettes dans le monde en 2018, soit une progression de 4% comparée à l’année 2017. Dans le même sillage, les arrivées de touristes internationaux ont augmenté de 5% en 2018 par rapport à 2017 pour atteindre le chiffre record de 1,4 milliards de visiteurs..La croissance du secteur du tourisme est plus marquée en Afrique et en Asie-Pacifique (+7%) contre 5% pour l’Europe et le Moyen-Orient. Les Amériques ont enregistré la plus faible progression en 2018 en termes d’arrivées de touristes (+2%). Malgré les chocs occasionnels qui affectent l’Afrique, le continent a enregistré le chiffre record de 67 millions d’arrivées de touristes en 2018, sous l’effet de la bonne performance de l’Afrique du Nord (+10%) et de la croissance soutenue en Afrique Subsaharienne (+5%).\",\n",
       "  'description': 'La Situation Economique et Sociale Nationale (SESN) est une publication annuelle qui fait la synthèse des informations statistiques émanant de l’ANSD et des autres structures du Système National Statistique (SSN), dans le cadre de l’exécution de leurs tâches quotidiennes. La SESN essaie d’embrasser la quasi- totalité des secteurs de l’activité économique et sociale en mettant en relief l’information quantitative, fournissant ainsi les principaux indicateurs économiques, sociaux et démographiques du Sénégal. Réalisée pour une année (N) en utilisant les données recueillies l’année précédente (N-1), la SESN constitue un véritable instrument de planification et d’aide à la prise de décision pour les principaux acteurs du développement de notre pays.\\n',\n",
       "  'thème': 'TOURISME',\n",
       "  'indicateurs': 'SES/Chapitre : Tourisme'},\n",
       " {'source': 'https://www.ansd.sn/Indicateur/sesnchapitre-transports',\n",
       "  'data_publication': '2017-2018',\n",
       "  'sommaire': 'En 2014, l’ANSD a procédé au changement d’année de base des comptes de la Nation. Les résultats du changement d’année de base et l’adaptation d’un nouveau Système de Comptabilité nationale (SCN) avaient réévalué le PIB à plus de 29%. Les données présentées dans le tableau ci-dessous sont obtenues en prenant en compte ces changements. La contribution des services de transport au Produit Intérieur brut est évaluée à 2,1% en 2018. Elle est restée stable par rapport à 2017. Cependant, elle enregistre une baisse depuis 2014 où elle était évaluée à 2,6%. La richesse créée par les services de transport est évaluée à 275,745 milliards en 2018, soit une hausse de 9,0% par rapport à 2017.',\n",
       "  'description': 'La Situation Economique et Sociale Nationale (SESN) est une publication annuelle qui fait la synthèse des informations statistiques émanant de l’ANSD et des autres structures du Système National Statistique (SSN), dans le cadre de l’exécution de leurs tâches quotidiennes. La SESN essaie d’embrasser la quasi- totalité des secteurs de l’activité économique et sociale en mettant en relief l’information quantitative, fournissant ainsi les principaux indicateurs économiques, sociaux et démographiques du Sénégal. Réalisée pour une année (N) en utilisant les données recueillies l’année précédente (N-1), la SESN constitue un véritable instrument de planification et d’aide à la prise de décision pour les principaux acteurs du développement de notre pays.\\n',\n",
       "  'thème': 'TRANSPORT',\n",
       "  'indicateurs': 'SESN/Chapitre : Transports'}]"
      ]
     },
     "execution_count": 310,
     "metadata": {},
     "output_type": "execute_result"
    }
   ],
   "source": [
    "new_data_simple"
   ]
  },
  {
   "cell_type": "code",
   "execution_count": 311,
   "metadata": {},
   "outputs": [],
   "source": [
    "with open(\"all_data_simple_dec_2023.json\", 'w') as f :\n",
    "    json.dump(new_data_simple,f,indent=3)"
   ]
  },
  {
   "cell_type": "code",
   "execution_count": null,
   "metadata": {},
   "outputs": [],
   "source": []
  }
 ],
 "metadata": {
  "kernelspec": {
   "display_name": "base",
   "language": "python",
   "name": "python3"
  },
  "language_info": {
   "codemirror_mode": {
    "name": "ipython",
    "version": 3
   },
   "file_extension": ".py",
   "mimetype": "text/x-python",
   "name": "python",
   "nbconvert_exporter": "python",
   "pygments_lexer": "ipython3",
   "version": "3.10.9"
  }
 },
 "nbformat": 4,
 "nbformat_minor": 2
}
